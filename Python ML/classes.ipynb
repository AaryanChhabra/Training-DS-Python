{
 "cells": [
  {
   "cell_type": "code",
   "execution_count": 2,
   "metadata": {},
   "outputs": [],
   "source": [
    "class User:\n",
    "    pass\n",
    "# this class doen nothing\n",
    "# User is a class - try to capitalize the word here."
   ]
  },
  {
   "cell_type": "code",
   "execution_count": 7,
   "metadata": {},
   "outputs": [
    {
     "name": "stdout",
     "output_type": "stream",
     "text": [
      "Hit\n"
     ]
    }
   ],
   "source": [
    "user1 = User()\n",
    "user1.firstname = \"Hit\"\n",
    "user1.lastname = \"Man\"\n",
    "\n",
    "# first name is called field - Don't capitalize the word here.\n",
    "# user1 is an object\n",
    "print(user1.firstname)"
   ]
  },
  {
   "cell_type": "code",
   "execution_count": 11,
   "metadata": {},
   "outputs": [
    {
     "name": "stdout",
     "output_type": "stream",
     "text": [
      "pop\n"
     ]
    }
   ],
   "source": [
    "user2 = User()\n",
    "user2.firstname = 'pop'\n",
    "user2.lastname = 'lee'\n",
    "\n",
    "print(user2.firstname)\n",
    "\n",
    "# this is how we can give same feature name for different objects"
   ]
  },
  {
   "cell_type": "code",
   "execution_count": 12,
   "metadata": {},
   "outputs": [],
   "source": [
    "# The advantage of a class over a dictionary - We can Use Methods, Object Initialization, includoing Help Text"
   ]
  },
  {
   "cell_type": "code",
   "execution_count": 13,
   "metadata": {},
   "outputs": [],
   "source": [
    "# A function inside a class is called a method:\n",
    "# init method - initialization - Constructors"
   ]
  },
  {
   "cell_type": "code",
   "execution_count": 17,
   "metadata": {},
   "outputs": [
    {
     "name": "stdout",
     "output_type": "stream",
     "text": [
      "Boby Fisher\n",
      "Fisher\n"
     ]
    }
   ],
   "source": [
    "class User:\n",
    "    def __init__(self,full_name, birth_day):\n",
    "        self.name = full_name\n",
    "        self.birthday = birth_day # yyyymmdd\n",
    "\n",
    "        # we use self to attach it to the object\n",
    "        #Lets extract the first and the last name\n",
    "\n",
    "        name_pieces = full_name.split(\" \")\n",
    "        self.first_name = name_pieces[0]\n",
    "        self.last_name = name_pieces[-1]\n",
    "\n",
    "\n",
    "user = User(\"Boby Fisher\", \"20010828\")\n",
    "\n",
    "print(user.name)\n",
    "print(user.last_name)\n",
    "\n"
   ]
  },
  {
   "cell_type": "code",
   "execution_count": 23,
   "metadata": {},
   "outputs": [],
   "source": [
    "# We can add some help text in the class - always a good habit to have.\n",
    "class User:\n",
    "    \"\"\" This is called a DocString,  this is what we type aftyer the first line. \"\"\"\n",
    "    def __init__(self,full_name,birth_day):\n",
    "        self.name = full_name\n",
    "        self.birthday = birth_day # yyyymmdd\n",
    "\n",
    "        # we use self to attach it to the object\n",
    "        #Lets extract the first and the last name\n",
    "\n",
    "        name_pieces = full_name.split(\" \")\n",
    "        self.first_name = name_pieces[0]\n",
    "        self.last_name = name_pieces[-1]"
   ]
  },
  {
   "cell_type": "code",
   "execution_count": 24,
   "metadata": {},
   "outputs": [
    {
     "name": "stdout",
     "output_type": "stream",
     "text": [
      "Help on class User in module __main__:\n",
      "\n",
      "class User(builtins.object)\n",
      " |  User(full_name, birth_day)\n",
      " |  \n",
      " |  This is called a DocString,  this is what we type aftyer the first line.\n",
      " |  \n",
      " |  Methods defined here:\n",
      " |  \n",
      " |  __init__(self, full_name, birth_day)\n",
      " |      Initialize self.  See help(type(self)) for accurate signature.\n",
      " |  \n",
      " |  ----------------------------------------------------------------------\n",
      " |  Data descriptors defined here:\n",
      " |  \n",
      " |  __dict__\n",
      " |      dictionary for instance variables (if defined)\n",
      " |  \n",
      " |  __weakref__\n",
      " |      list of weak references to the object (if defined)\n",
      "\n"
     ]
    }
   ],
   "source": [
    "help(User)"
   ]
  },
  {
   "cell_type": "code",
   "execution_count": 25,
   "metadata": {},
   "outputs": [],
   "source": [
    "import datetime\n",
    "\n"
   ]
  },
  {
   "cell_type": "code",
   "execution_count": 39,
   "metadata": {},
   "outputs": [],
   "source": [
    "class User:\n",
    "    def __init__(self,full_name, birth_day):\n",
    "        self.name = full_name\n",
    "        self.birthday = birth_day #yyyymmdd\n",
    "    def age(self):\n",
    "        \"\"\"Return age of the user in years\"\"\"\n",
    "        today = datetime.date(2001, 5, 12)\n",
    "        yyyy= int(self.birthday[0:4])\n",
    "        mm = int(self.birthday[4:6])\n",
    "        dd = int(self.birthday[6:8])\n",
    "\n",
    "        dob = datetime.date(yyyy, mm, dd)\n",
    "        age_in_days = (today - dob).days\n",
    "        age_in_years = age_in_days/365\n",
    "        return(int(age_in_years))"
   ]
  },
  {
   "cell_type": "code",
   "execution_count": 57,
   "metadata": {},
   "outputs": [
    {
     "name": "stdout",
     "output_type": "stream",
     "text": [
      "28\n"
     ]
    }
   ],
   "source": [
    "user1 = User(\"Tony\", \"19720905\")\n",
    "print(user1.age())"
   ]
  }
 ],
 "metadata": {
  "kernelspec": {
   "display_name": "Python 3.10.6 64-bit ('base')",
   "language": "python",
   "name": "python3"
  },
  "language_info": {
   "codemirror_mode": {
    "name": "ipython",
    "version": 3
   },
   "file_extension": ".py",
   "mimetype": "text/x-python",
   "name": "python",
   "nbconvert_exporter": "python",
   "pygments_lexer": "ipython3",
   "version": "3.10.6"
  },
  "orig_nbformat": 4,
  "vscode": {
   "interpreter": {
    "hash": "c11202d2846b22eec7deaf37ea813ba92a5f75b5344a4d16688175855af7948e"
   }
  }
 },
 "nbformat": 4,
 "nbformat_minor": 2
}
