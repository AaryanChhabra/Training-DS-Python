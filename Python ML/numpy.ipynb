{
 "cells": [
  {
   "cell_type": "code",
   "execution_count": 5,
   "metadata": {},
   "outputs": [],
   "source": [
    "import numpy as np"
   ]
  },
  {
   "cell_type": "markdown",
   "metadata": {},
   "source": [
    "# NumPy Arrays    "
   ]
  },
  {
   "cell_type": "code",
   "execution_count": 2,
   "metadata": {},
   "outputs": [
    {
     "data": {
      "text/plain": [
       "array([1, 2, 3])"
      ]
     },
     "execution_count": 2,
     "metadata": {},
     "output_type": "execute_result"
    }
   ],
   "source": [
    "my_list = [1,2,3]\n",
    "\n",
    "np.array(my_list)"
   ]
  },
  {
   "cell_type": "code",
   "execution_count": 3,
   "metadata": {},
   "outputs": [
    {
     "data": {
      "text/plain": [
       "array([[1, 2, 3],\n",
       "       [4, 5, 6],\n",
       "       [7, 8, 9]])"
      ]
     },
     "execution_count": 3,
     "metadata": {},
     "output_type": "execute_result"
    }
   ],
   "source": [
    "# we can make matrix out of it:\n",
    "\n",
    "my_mat = [[1,2,3], [4,5,6], [7,8,9]]\n",
    "\n",
    "np.array(my_mat) # it converted the list of lists into a matrix"
   ]
  },
  {
   "cell_type": "code",
   "execution_count": 16,
   "metadata": {},
   "outputs": [
    {
     "name": "stdout",
     "output_type": "stream",
     "text": [
      "[0 1 2 3 4 5 6 7 8 9]\n",
      "[0 2 4 6 8]\n"
     ]
    }
   ],
   "source": [
    "# to create a numPy array out of nowhere:\n",
    "\n",
    "print(np.arange(0,10)) # see again 10 not included.\n",
    "\n",
    "print(np.arange(0,10, 2)) # Gives a step of 2"
   ]
  },
  {
   "cell_type": "code",
   "execution_count": 4,
   "metadata": {},
   "outputs": [
    {
     "name": "stdout",
     "output_type": "stream",
     "text": [
      "[0. 0. 0.]\n",
      "[1. 1. 1.]\n",
      "########\n",
      "[[0. 0. 0. 0. 0.]\n",
      " [0. 0. 0. 0. 0.]\n",
      " [0. 0. 0. 0. 0.]]\n",
      "[  1.   17.5  34.   50.5  67.   83.5 100. ]\n"
     ]
    }
   ],
   "source": [
    "# Generating an arrays of all zeros:\n",
    "\n",
    "print(np.zeros(3))\n",
    "\n",
    "# Similarly, an array of 1s\n",
    "\n",
    "print(np.ones(3))\n",
    "print(\"########\")\n",
    "\n",
    "print(np.zeros((3, 5))) # we can give two numbers to get a matrix\n",
    "\n",
    "# simillarly works for np.ones\n",
    "\n",
    "print(np.linspace(1,100, 7)) #  tell it from, to and number of numbers we want as an output."
   ]
  },
  {
   "cell_type": "code",
   "execution_count": 7,
   "metadata": {},
   "outputs": [
    {
     "name": "stdout",
     "output_type": "stream",
     "text": [
      "[[1. 0. 0. 0.]\n",
      " [0. 1. 0. 0.]\n",
      " [0. 0. 1. 0.]\n",
      " [0. 0. 0. 1.]]\n",
      "[[1. 0. 0. 0.]\n",
      " [0. 1. 0. 0.]\n",
      " [0. 0. 1. 0.]\n",
      " [0. 0. 0. 1.]]\n"
     ]
    }
   ],
   "source": [
    "# creating an identity matrix using numPy:\n",
    "\n",
    "print(np.eye(4)) # creates a 4 * 4 identity matrix.\n",
    "\n",
    "print(np.identity(4))"
   ]
  },
  {
   "cell_type": "code",
   "execution_count": 8,
   "metadata": {},
   "outputs": [
    {
     "name": "stdout",
     "output_type": "stream",
     "text": [
      "[0.7829773  0.21241021 0.93297237 0.16453095 0.95599745]\n",
      "[[0.96600806 0.52541421 0.06960935 0.4275335  0.79383697]\n",
      " [0.61576834 0.22724568 0.5847492  0.90714821 0.78490282]\n",
      " [0.21788131 0.78546517 0.67112801 0.9664908  0.33150259]\n",
      " [0.12700509 0.92026771 0.96181796 0.42397386 0.16562967]\n",
      " [0.5518886  0.26742784 0.5353509  0.91876467 0.77533101]]\n"
     ]
    }
   ],
   "source": [
    "# Random number generator - uniformly distributed from zero to one.\n",
    "\n",
    "print(np.random.rand(5))\n",
    "\n",
    "# we can get a matrix also\n",
    "print(np.random.rand(5,5))\n"
   ]
  },
  {
   "cell_type": "code",
   "execution_count": 33,
   "metadata": {},
   "outputs": [
    {
     "data": {
      "text/plain": [
       "array([ 0.23217585, -0.84829032, -1.59869027, -0.24293696, -0.55697781])"
      ]
     },
     "execution_count": 33,
     "metadata": {},
     "output_type": "execute_result"
    }
   ],
   "source": [
    "\n",
    "# to get numbers from a stndard normal distribution:\n",
    "\n",
    "\n",
    "np.random.randn(5)"
   ]
  },
  {
   "cell_type": "code",
   "execution_count": 5,
   "metadata": {},
   "outputs": [
    {
     "name": "stdout",
     "output_type": "stream",
     "text": [
      "[254  99 537 209 133 694 622 109 727 336]\n"
     ]
    },
    {
     "data": {
      "text/plain": [
       "array([[254,  99],\n",
       "       [537, 209],\n",
       "       [133, 694],\n",
       "       [622, 109],\n",
       "       [727, 336]])"
      ]
     },
     "execution_count": 5,
     "metadata": {},
     "output_type": "execute_result"
    }
   ],
   "source": [
    "# get a random integer\n",
    "\n",
    "np.random.randint(0,100) # will generate a random integer between zero(included) and 100(not included).\n",
    "\n",
    "# we can feed im the number of random integer we want. - as the third argument.\n",
    "\n",
    "# we can reshape an array by using the reshape function:\n",
    "\n",
    "arr = np.random.randint(0,786,10)\n",
    "\n",
    "print(arr)\n",
    "arr.reshape(5,2)\n"
   ]
  },
  {
   "cell_type": "code",
   "execution_count": 7,
   "metadata": {},
   "outputs": [
    {
     "data": {
      "text/plain": [
       "8"
      ]
     },
     "execution_count": 7,
     "metadata": {},
     "output_type": "execute_result"
    }
   ],
   "source": [
    "\n",
    "# we can get the maximum value of an array:\n",
    "\n",
    "arr.max() # of course works for min also.\n",
    "\n",
    "# we can get the index location of the max and the minimum value:\n",
    "\n",
    "arr.argmax()"
   ]
  },
  {
   "cell_type": "code",
   "execution_count": 12,
   "metadata": {},
   "outputs": [
    {
     "name": "stdout",
     "output_type": "stream",
     "text": [
      "[[254  99]\n",
      " [537 209]\n",
      " [133 694]\n",
      " [622 109]\n",
      " [727 336]]\n"
     ]
    },
    {
     "data": {
      "text/plain": [
       "(5, 2)"
      ]
     },
     "execution_count": 12,
     "metadata": {},
     "output_type": "execute_result"
    }
   ],
   "source": [
    "# we can see the shape of the array by:\n",
    "print(arr)\n",
    "\n",
    "arr = arr.reshape(5,2)\n",
    "\n",
    "arr.shape"
   ]
  },
  {
   "cell_type": "markdown",
   "metadata": {},
   "source": [
    "# NumPy Selection and Indexing:"
   ]
  },
  {
   "cell_type": "code",
   "execution_count": 18,
   "metadata": {},
   "outputs": [
    {
     "name": "stdout",
     "output_type": "stream",
     "text": [
      "[ 0  1  2  3  4  5  6  7  8  9 10]\n"
     ]
    },
    {
     "data": {
      "text/plain": [
       "array([ 5,  6,  7,  8,  9, 10])"
      ]
     },
     "execution_count": 18,
     "metadata": {},
     "output_type": "execute_result"
    }
   ],
   "source": [
    "arr = np.arange(0,11)\n",
    "\n",
    "print(arr)\n",
    "\n",
    "arr[3:6]\n",
    "\n",
    "arr[5:] # takes everything from 5 till end (including the index 5 and including the end)"
   ]
  },
  {
   "cell_type": "code",
   "execution_count": 25,
   "metadata": {},
   "outputs": [
    {
     "name": "stdout",
     "output_type": "stream",
     "text": [
      "[ 0  1  2  3  4  5  6  7  8  9 10]\n",
      "[ 0  0  0  0  0  0  6  7  8  9 10]\n"
     ]
    }
   ],
   "source": [
    "# A very interesting thing to note here:\n",
    "arr = np.arange(0,11)\n",
    "\n",
    "print(arr)\n",
    "\n",
    "slice_of_arr = arr[:6]\n",
    "slice_of_arr[:] = 0 # please dont do slice_of-arr = 0\n",
    "print(arr)\n",
    "\n",
    "# thr interesting thing to note here s: upon modifying the slice of arr, the full arr got changed.\n",
    "# So, its just viewing when we subset, it doesnt make a newvariable by itself.\n",
    "# seriously a fucked up language."
   ]
  },
  {
   "cell_type": "code",
   "execution_count": 26,
   "metadata": {},
   "outputs": [],
   "source": [
    "# the good news is: One can make a copy like this;\n",
    "arr_copy = arr.copy()\n",
    "\n"
   ]
  },
  {
   "cell_type": "code",
   "execution_count": 11,
   "metadata": {},
   "outputs": [
    {
     "name": "stdout",
     "output_type": "stream",
     "text": [
      "[[10 20 30]\n",
      " [ 3  2  1]]\n",
      "2\n",
      "1\n"
     ]
    }
   ],
   "source": [
    "0# Indexing from a 2d array:\n",
    "np_arr = np.array([[10,20,30],[3,2,1]])\n",
    "\n",
    "print(np_arr)\n",
    "\n",
    "# keep in mind, this indexing is not same as R indexing.\n",
    "\n",
    "print(np_arr[1][1]) # it took the arr  at index 1 i.e. [3,2,1] and then took the number at index 1 in that arr. that is 2 \n",
    "\n",
    "# there is other indexing method, that is same as that of R.\n",
    "\n",
    "print(np_arr[1,2]) # again, indexing starts from 0."
   ]
  },
  {
   "cell_type": "code",
   "execution_count": 14,
   "metadata": {},
   "outputs": [
    {
     "data": {
      "text/plain": [
       "array([ 6,  7,  8,  9, 10])"
      ]
     },
     "execution_count": 14,
     "metadata": {},
     "output_type": "execute_result"
    }
   ],
   "source": [
    "# Conditional Selection:\n",
    "\n",
    "arr = np.arange(1,11)\n",
    "\n",
    "bol_arr = arr > 5\n",
    "\n",
    "arr[bol_arr]\n",
    "# OR\n",
    "arr[arr > 5]\n",
    "\n",
    "\n"
   ]
  },
  {
   "cell_type": "markdown",
   "metadata": {},
   "source": [
    "NumPy Operation"
   ]
  },
  {
   "cell_type": "code",
   "execution_count": 15,
   "metadata": {},
   "outputs": [
    {
     "name": "stdout",
     "output_type": "stream",
     "text": [
      "[ 1  2  3  4  5  6  7  8  9 10]\n",
      "[11 12 13 14 15 16 17 18 19 20]\n",
      "[ 1  2  3  4  5  6  7  8  9 10]\n"
     ]
    }
   ],
   "source": [
    "# We can add/mupliply/divide two arrays together, like we do in R with vectors.\n",
    " \n",
    "print(arr)\n",
    "\n",
    "arr2 = arr\n",
    "\n",
    "arr = arr + 10\n",
    "\n",
    "print(arr)\n",
    "print(arr2)\n",
    "\n",
    "# Look at the amazing thing here:\n",
    "# here when I changed arr, arr2 diddnt change.\n",
    "# So, its somewhat like vectors in R only."
   ]
  },
  {
   "cell_type": "code",
   "execution_count": 49,
   "metadata": {},
   "outputs": [
    {
     "data": {
      "text/plain": [
       "array([6.39843494e+17, 1.73927494e+18, 4.72783947e+18, 1.28516001e+19,\n",
       "       3.49342711e+19, 9.49611942e+19, 2.58131289e+20, 7.01673591e+20,\n",
       "       1.90734657e+21, 5.18470553e+21])"
      ]
     },
     "execution_count": 49,
     "metadata": {},
     "output_type": "execute_result"
    }
   ],
   "source": [
    "# we can take sq root of everything in array:\n",
    "\n",
    "np.sqrt(arr)\n",
    "\n",
    "# can take exponential also:\n",
    "np.exp(arr)\n",
    "# take a log:\n",
    "np.log(arr)\n",
    "# take sin:\n",
    "np.sin(arr)\n"
   ]
  },
  {
   "cell_type": "code",
   "execution_count": null,
   "metadata": {},
   "outputs": [],
   "source": []
  }
 ],
 "metadata": {
  "kernelspec": {
   "display_name": "Python 3.9.12 ('base')",
   "language": "python",
   "name": "python3"
  },
  "language_info": {
   "codemirror_mode": {
    "name": "ipython",
    "version": 3
   },
   "file_extension": ".py",
   "mimetype": "text/x-python",
   "name": "python",
   "nbconvert_exporter": "python",
   "pygments_lexer": "ipython3",
   "version": "3.9.12"
  },
  "orig_nbformat": 4,
  "vscode": {
   "interpreter": {
    "hash": "13d74e19cbc79c938ad6bf1bd304487d4ddec0747feeb2e27a900ff9e1b81e3e"
   }
  }
 },
 "nbformat": 4,
 "nbformat_minor": 2
}
