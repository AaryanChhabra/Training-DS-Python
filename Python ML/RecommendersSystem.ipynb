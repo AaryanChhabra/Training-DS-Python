{
 "cells": [
  {
   "cell_type": "code",
   "execution_count": null,
   "metadata": {},
   "outputs": [],
   "source": []
  }
 ],
 "metadata": {
  "kernelspec": {
   "display_name": "Python 3.10.4 ('sklearn-env')",
   "language": "python",
   "name": "python3"
  },
  "language_info": {
   "name": "python",
   "version": "3.10.4"
  },
  "orig_nbformat": 4,
  "vscode": {
   "interpreter": {
    "hash": "3a302556f05c109d960d21ebcaf4438638fdcd88ae770a5e801d51c70bf26219"
   }
  }
 },
 "nbformat": 4,
 "nbformat_minor": 2
}
