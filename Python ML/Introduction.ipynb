{
 "cells": [
  {
   "cell_type": "code",
   "execution_count": 6,
   "metadata": {},
   "outputs": [
    {
     "name": "stdout",
     "output_type": "stream",
     "text": [
      "Hello World\n"
     ]
    }
   ],
   "source": [
    "# To use a lower python version\n",
    "# go to command Prompt, make a new environment, conda create - n --- python = 2.7 \n",
    "\n",
    "print(\"Hello World\")"
   ]
  },
  {
   "cell_type": "code",
   "execution_count": 32,
   "metadata": {},
   "outputs": [],
   "source": [
    "# Making Virtual Environment using Anaconda:\n",
    "# You already know that, just go to command Prompt\n",
    "\n"
   ]
  },
  {
   "cell_type": "code",
   "execution_count": 33,
   "metadata": {},
   "outputs": [
    {
     "data": {
      "text/plain": [
       "8"
      ]
     },
     "execution_count": 33,
     "metadata": {},
     "output_type": "execute_result"
    }
   ],
   "source": [
    "# Python Crash course:\n",
    "# Part 1 - some new stuff\n",
    "\n",
    "# To raise a power \n",
    "\n",
    "2 ** 3"
   ]
  },
  {
   "cell_type": "code",
   "execution_count": 34,
   "metadata": {},
   "outputs": [
    {
     "name": "stdout",
     "output_type": "stream",
     "text": [
      "My name is Sam and I am 13 years old\n",
      "My name is Sam and I am 13 years old\n"
     ]
    }
   ],
   "source": [
    "age = 13\n",
    "name = \"Sam\"\n",
    "\n",
    "print(\"My name is {} and I am {} years old\".format(name, age)) # keep in mind the order.\n",
    "\n",
    "# OR\n",
    "\n",
    "print(\"My name is {x} and I am {y} years old\".format(x = name, y = age))"
   ]
  },
  {
   "cell_type": "markdown",
   "metadata": {},
   "source": [
    "Indexing a String"
   ]
  },
  {
   "cell_type": "code",
   "execution_count": 39,
   "metadata": {},
   "outputs": [
    {
     "name": "stdout",
     "output_type": "stream",
     "text": [
      "H\n",
      "o\n",
      "Hel\n",
      "Hell\n"
     ]
    }
   ],
   "source": [
    "h = \"Hello\"\n",
    "\n",
    "print(h[0])\n",
    "print(h[-1])\n",
    "print(h[0:3]) # see it doesnt include the character with the index 3, but it does include 0\n",
    "print(h[0:-1]) # it doesnt include the character wuth ineex -1."
   ]
  },
  {
   "cell_type": "markdown",
   "metadata": {},
   "source": [
    "Lists - sequence of elements in  a [ ] seperated by a comma."
   ]
  },
  {
   "cell_type": "code",
   "execution_count": 56,
   "metadata": {},
   "outputs": [
    {
     "name": "stdout",
     "output_type": "stream",
     "text": [
      "['a', 'b', 3, 5]\n",
      "['b', 3]\n"
     ]
    }
   ],
   "source": [
    "my_list = [\"a\", \"b\", 3]\n",
    "\n",
    "my_list.append(5) # The list itself gets updated,\n",
    "#my_list = my_list.append(\"5\") - this should not be done\n",
    "\n",
    "print(my_list)\n",
    "\n",
    "# Indexing same as a string..\n",
    "\n",
    "\n",
    "print(my_list[1:3])"
   ]
  },
  {
   "cell_type": "code",
   "execution_count": 61,
   "metadata": {},
   "outputs": [
    {
     "name": "stdout",
     "output_type": "stream",
     "text": [
      "[['GG', 'b', 3, 5, 'G', 'G', 'G', 'G', 'G']]\n",
      "['GG', 'b', 3, 5, 'G', 'G', 'G', 'G', 'G']\n",
      "2\n",
      "[1, 2, 3, 4, 5, 4, 3]\n"
     ]
    }
   ],
   "source": [
    "# To store lis in some other variable:\n",
    "\n",
    "my_list.append(\"G\")\n",
    "\n",
    "new_list = []\n",
    "new_list.append(my_list)\n",
    "\n",
    "print(new_list) # there is a list inside a list now\n",
    "\n",
    "# Can update element of a list like:\n",
    "\n",
    "my_list[0] = \"GG\"\n",
    "\n",
    "print(my_list)\n",
    "\n",
    "\n",
    "# pop method:\n",
    "\n",
    "\n",
    "\n",
    "lst = [1,2,3,4,5,4,3,2]\n",
    "print(lst.pop()) # gives out the last item of the list.\n",
    "\n",
    "# also our list here is modified:\n",
    "\n",
    "print(lst) # so, that last item has been \"Popped out\"\n",
    "\n",
    "\n",
    "\n"
   ]
  },
  {
   "cell_type": "code",
   "execution_count": 65,
   "metadata": {},
   "outputs": [
    {
     "name": "stdout",
     "output_type": "stream",
     "text": [
      "[1, 5, 4, 3]\n",
      "[1, 4, 3]\n"
     ]
    }
   ],
   "source": [
    "# we can pop like a particulat index also:\n",
    "print(lst)\n",
    "lst.pop(1) # it removes the entry with the index 1\n",
    "print(lst)"
   ]
  },
  {
   "cell_type": "code",
   "execution_count": 115,
   "metadata": {},
   "outputs": [
    {
     "name": "stdout",
     "output_type": "stream",
     "text": [
      "[1, 2, 3, 1]\n",
      "[1, 2, 3, 1]\n"
     ]
    },
    {
     "data": {
      "text/plain": [
       "'Target'"
      ]
     },
     "execution_count": 115,
     "metadata": {},
     "output_type": "execute_result"
    }
   ],
   "source": [
    "# A nested List\n",
    "\n",
    "nlist = [[1,2], 3,4]\n",
    "\n",
    "nlist[0] # will give out the list itself\n",
    "\n",
    "nlist = [1,2,3,[4,3,[\"Target\"]]]\n",
    "\n",
    "nlist[3][2][0]"
   ]
  },
  {
   "cell_type": "markdown",
   "metadata": {},
   "source": [
    "Part 2 - Dictionary - behave as a key-value pair."
   ]
  },
  {
   "cell_type": "code",
   "execution_count": 53,
   "metadata": {},
   "outputs": [
    {
     "data": {
      "text/plain": [
       "'Value'"
      ]
     },
     "execution_count": 53,
     "metadata": {},
     "output_type": "execute_result"
    }
   ],
   "source": [
    "d = {'key1': 'Value', 'key2': 123}\n",
    "\n",
    "d[\"key1\"]\n",
    "\n",
    "##d['k1'][1]\n",
    "\n",
    "\n"
   ]
  },
  {
   "cell_type": "code",
   "execution_count": 54,
   "metadata": {},
   "outputs": [
    {
     "data": {
      "text/plain": [
       "dict_values(['Value', 123])"
      ]
     },
     "execution_count": 54,
     "metadata": {},
     "output_type": "execute_result"
    }
   ],
   "source": [
    "# Some useful methods for Dictionary:\n",
    "\n",
    "\n",
    "d.keys() # will give out the keys \n",
    "\n",
    "d.items()\n",
    "\n",
    "d.values() will give out the list of the values in our dictonary."
   ]
  },
  {
   "cell_type": "code",
   "execution_count": 12,
   "metadata": {},
   "outputs": [
    {
     "data": {
      "text/plain": [
       "'Torture'"
      ]
     },
     "execution_count": 12,
     "metadata": {},
     "output_type": "execute_result"
    }
   ],
   "source": [
    "\n",
    "# We can even store a dictionary inside a dictionary:\n",
    "\n",
    "\n",
    "d_dad = {\"key1\": {\"key2\" : \"Torture\"}}\n",
    "\n",
    "d_dad[\"key1\"][\"key2\"]\n",
    "\n",
    "\n"
   ]
  },
  {
   "cell_type": "markdown",
   "metadata": {},
   "source": [
    "A Tuple"
   ]
  },
  {
   "cell_type": "code",
   "execution_count": 20,
   "metadata": {},
   "outputs": [
    {
     "name": "stdout",
     "output_type": "stream",
     "text": [
      "(1, 2, 3, 5)\n"
     ]
    }
   ],
   "source": [
    "t = (1,2,3)\n",
    "# we cant reassign the elementsin tuple - immutable.\n",
    "\n",
    "# t.append(5) - doesnt work\n",
    "\n",
    "# we can convert it in a list and make changes\n",
    "\n",
    "my_list = list(t) # we converted it in a list\n",
    "my_list.append(5) # we make changes\n",
    "t = tuple(my_list) # we make it back a tuple\n",
    "print(t) # here we go."
   ]
  },
  {
   "cell_type": "markdown",
   "metadata": {},
   "source": [
    "Sets - is a collection of unique elements"
   ]
  },
  {
   "cell_type": "code",
   "execution_count": 22,
   "metadata": {},
   "outputs": [
    {
     "data": {
      "text/plain": [
       "{1, 2, 3}"
      ]
     },
     "execution_count": 22,
     "metadata": {},
     "output_type": "execute_result"
    }
   ],
   "source": [
    "{1,1,1,2,2,2,3,3,3,2,2,1,1,1} # feed it non-unique items. It will change the in unique entires."
   ]
  },
  {
   "cell_type": "code",
   "execution_count": 24,
   "metadata": {},
   "outputs": [
    {
     "data": {
      "text/plain": [
       "{1, 2, 5}"
      ]
     },
     "execution_count": 24,
     "metadata": {},
     "output_type": "execute_result"
    }
   ],
   "source": [
    "# there also exist a set function, takes in a list and spits out unique elements.\n",
    "\n",
    "set([1,1,1,1,2,1,1,1,2,1,5])\n",
    "\n",
    "\n",
    "# We can use the function add to add items in a set."
   ]
  },
  {
   "cell_type": "code",
   "execution_count": 29,
   "metadata": {},
   "outputs": [
    {
     "name": "stdout",
     "output_type": "stream",
     "text": [
      "{1, 2, 3, 4, 5, 54, 88}\n"
     ]
    }
   ],
   "source": [
    "s = {1,2,3,2,1,2,2,3,4,54,5,5,4}\n",
    "\n",
    "s.add(88)\n",
    "\n",
    "print(s)"
   ]
  },
  {
   "cell_type": "markdown",
   "metadata": {},
   "source": [
    "Use of and or"
   ]
  },
  {
   "cell_type": "code",
   "execution_count": 34,
   "metadata": {},
   "outputs": [
    {
     "data": {
      "text/plain": [
       "True"
      ]
     },
     "execution_count": 34,
     "metadata": {},
     "output_type": "execute_result"
    }
   ],
   "source": [
    "(1 < 2) or (3 < 6) and (1 < 3)\n",
    "\n",
    "True or False # look how these are not all caps."
   ]
  },
  {
   "cell_type": "markdown",
   "metadata": {},
   "source": [
    "Use of if elif else"
   ]
  },
  {
   "cell_type": "code",
   "execution_count": 39,
   "metadata": {},
   "outputs": [
    {
     "name": "stdout",
     "output_type": "stream",
     "text": [
      "Indeed\n",
      "yes, Indeed\n",
      "Donkey\n"
     ]
    }
   ],
   "source": [
    "if 1 <2 :\n",
    "    print(\"Indeed\")\n",
    "\n",
    "if True:\n",
    "    print(\"yes, Indeed\")\n",
    "\n",
    "\n",
    "# there is nothing new - I do know, how these things work.\n",
    "\n",
    "# keep in mind one thing:\n",
    "\n",
    "if 2 > 4:\n",
    "    print(\"Horse\")\n",
    "elif 2 < 3 :\n",
    "    print(\"Donkey\")\n",
    "elif 4 < 5:\n",
    "    print(\"Monkey\")\n",
    "else : \n",
    "    print(\"Nothing\")\n",
    "\n",
    "# Now, see even if the 2nd elise condition was True, it didnt print Monkey.\n"
   ]
  },
  {
   "cell_type": "markdown",
   "metadata": {},
   "source": [
    "#Part 3"
   ]
  },
  {
   "cell_type": "markdown",
   "metadata": {},
   "source": [
    "for loops and while loop:\n"
   ]
  },
  {
   "cell_type": "code",
   "execution_count": 41,
   "metadata": {},
   "outputs": [
    {
     "name": "stdout",
     "output_type": "stream",
     "text": [
      "1\n",
      "4\n",
      "3\n",
      "2\n",
      "5\n",
      "6\n",
      "5\n",
      "4\n"
     ]
    }
   ],
   "source": [
    "# just look at an example:\n",
    "\n",
    "list = [1,4,3,2,5,6,5,4]\n",
    "\n",
    "for i in list:\n",
    "    print(i)\n",
    "\n"
   ]
  },
  {
   "cell_type": "code",
   "execution_count": 55,
   "metadata": {},
   "outputs": [
    {
     "name": "stdout",
     "output_type": "stream",
     "text": [
      "i is: 1\n",
      "i is: 2\n",
      "i is: 3\n",
      "1\n",
      "2\n",
      "3\n",
      "4\n"
     ]
    }
   ],
   "source": [
    "i = 1\n",
    "while i < 4 :\n",
    "    print('i is: {}'.format(i))\n",
    "    i += 1\n",
    "    \n",
    "\n",
    "for i in range(1,5): # it will go from 1 to 4\n",
    "    print(i)"
   ]
  },
  {
   "cell_type": "code",
   "execution_count": 1,
   "metadata": {},
   "outputs": [
    {
     "name": "stdout",
     "output_type": "stream",
     "text": [
      "[1, 4, 9, 16]\n",
      "[1, 4, 9, 16]\n"
     ]
    }
   ],
   "source": [
    "# List comprehensin:\n",
    "\n",
    "\n",
    "inp = [1,2,3,4]\n",
    "out = []\n",
    "\n",
    "for i in inp:\n",
    "    out.append(i**2)\n",
    "print(out)\n",
    "\n",
    "# We can write the same thing as:\n",
    "\n",
    "out = [i**2 for i in inp]\n",
    "print(out)"
   ]
  },
  {
   "cell_type": "markdown",
   "metadata": {},
   "source": [
    "# Functions"
   ]
  },
  {
   "cell_type": "code",
   "execution_count": 7,
   "metadata": {},
   "outputs": [
    {
     "data": {
      "text/plain": [
       "25"
      ]
     },
     "execution_count": 7,
     "metadata": {},
     "output_type": "execute_result"
    }
   ],
   "source": [
    "def my_function(x):\n",
    "    return x**2\n",
    "\n",
    "out = my_function(5)\n",
    "\n",
    "out"
   ]
  },
  {
   "cell_type": "code",
   "execution_count": 11,
   "metadata": {},
   "outputs": [
    {
     "data": {
      "text/plain": [
       "39601"
      ]
     },
     "execution_count": 11,
     "metadata": {},
     "output_type": "execute_result"
    }
   ],
   "source": [
    "# We can put a documentation string in a function: in triple quotes like..\n",
    "\n",
    "def square(num):\n",
    "    \"\"\" It will just take a number\n",
    "    and multiply it by itself.\"\"\"\n",
    "    return num**2\n",
    "\n",
    "\n",
    "square(199) # ine can put the cursor over it and the thing that we wrote will appear.\n",
    "\n",
    "\n",
    "\n"
   ]
  },
  {
   "cell_type": "code",
   "execution_count": 32,
   "metadata": {},
   "outputs": [
    {
     "data": {
      "text/plain": [
       "[1, 9, 4, 4, 1, 4, 9, 16, 9, 4, 1]"
      ]
     },
     "execution_count": 32,
     "metadata": {},
     "output_type": "execute_result"
    }
   ],
   "source": [
    "# The map() function:\n",
    "sq = [1,3,2,2,1,2,3,4,3,2,1]\n",
    "\n",
    "list(map(square, sq)) # so, it basically took the function and itterated over the list\n"
   ]
  },
  {
   "cell_type": "code",
   "execution_count": 40,
   "metadata": {},
   "outputs": [
    {
     "name": "stdout",
     "output_type": "stream",
     "text": [
      "[1, 3, 1, 3, 3, 1]\n"
     ]
    }
   ],
   "source": [
    "def num(no):\n",
    "    if no % 2 == 0:\n",
    "        return True\n",
    "    else:\n",
    "        return False\n",
    "\n",
    "# OR\n",
    "\n",
    "def nim(no):\n",
    "    return no % 2\n",
    "\n",
    "print(list(filter(nim, sq)))\n",
    "\n",
    "# It will filter out the numbers whos output from the function fulfill the criteria we mentioned.\n",
    "\n"
   ]
  },
  {
   "cell_type": "code",
   "execution_count": 42,
   "metadata": {},
   "outputs": [
    {
     "data": {
      "text/plain": [
       "'hello, my name is chicka chicka slim shady'"
      ]
     },
     "execution_count": 42,
     "metadata": {},
     "output_type": "execute_result"
    }
   ],
   "source": [
    "# we can make everything lowercase\n",
    "\n",
    "str = \"Hello, My naME is CHICKA CHICKA Slim Shady\"\n",
    "\n",
    "str.lower()"
   ]
  },
  {
   "cell_type": "code",
   "execution_count": 66,
   "metadata": {},
   "outputs": [
    {
     "data": {
      "text/plain": [
       "['My', 'name']"
      ]
     },
     "execution_count": 66,
     "metadata": {},
     "output_type": "execute_result"
    }
   ],
   "source": [
    "# Split method:\n",
    "\n",
    "str.split()\n",
    "\n",
    "# we can put the seperator:\n",
    "str = \"My_name\"\n",
    "\n",
    "str.split('_')\n",
    "\n"
   ]
  },
  {
   "cell_type": "code",
   "execution_count": 69,
   "metadata": {},
   "outputs": [
    {
     "data": {
      "text/plain": [
       "True"
      ]
     },
     "execution_count": 69,
     "metadata": {},
     "output_type": "execute_result"
    }
   ],
   "source": [
    "# THE in operator:\n",
    "\n",
    "'X' in [\"e\", \"X\", \"t\", \"4\", 5] # will return boolean - its case sensitive.\n",
    "\n"
   ]
  },
  {
   "cell_type": "code",
   "execution_count": 73,
   "metadata": {},
   "outputs": [
    {
     "name": "stdout",
     "output_type": "stream",
     "text": [
      "1\n",
      "2\n",
      "2\n"
     ]
    }
   ],
   "source": [
    "# tuple unpacking: works also with lists in list:\n",
    "\n",
    "x = [(1,2), (4,3), (2,7)]\n",
    "\n",
    "x = [[1,2], [2,3],[2,3]]\n",
    "\n",
    "for (a,b) in x:\n",
    "    print(a)\n",
    "\n",
    "# wil show an error if the tuple in a list are not in the format (a,b)"
   ]
  }
 ],
 "metadata": {
  "kernelspec": {
   "display_name": "Python 3.9.12 ('base')",
   "language": "python",
   "name": "python3"
  },
  "language_info": {
   "codemirror_mode": {
    "name": "ipython",
    "version": 3
   },
   "file_extension": ".py",
   "mimetype": "text/x-python",
   "name": "python",
   "nbconvert_exporter": "python",
   "pygments_lexer": "ipython3",
   "version": "3.9.12"
  },
  "orig_nbformat": 4,
  "vscode": {
   "interpreter": {
    "hash": "2a5e51e182baeb1cdd54535b5783751c29705ffe0ad549c058886b512acb5633"
   }
  }
 },
 "nbformat": 4,
 "nbformat_minor": 2
}
