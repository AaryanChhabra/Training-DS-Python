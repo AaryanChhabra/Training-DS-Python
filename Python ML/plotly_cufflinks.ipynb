{
 "cells": [
  {
   "cell_type": "code",
   "execution_count": 2,
   "metadata": {},
   "outputs": [
    {
     "name": "stdout",
     "output_type": "stream",
     "text": [
      "Requirement already satisfied: plotly in c:\\users\\my pc\\anaconda3\\lib\\site-packages (5.6.0)\n",
      "Requirement already satisfied: six in c:\\users\\my pc\\anaconda3\\lib\\site-packages (from plotly) (1.16.0)\n",
      "Requirement already satisfied: tenacity>=6.2.0 in c:\\users\\my pc\\anaconda3\\lib\\site-packages (from plotly) (8.0.1)\n",
      "Note: you may need to restart the kernel to use updated packages.\n"
     ]
    }
   ],
   "source": [
    "#pip install plotly"
   ]
  },
  {
   "cell_type": "code",
   "execution_count": 3,
   "metadata": {},
   "outputs": [
    {
     "name": "stdout",
     "output_type": "stream",
     "text": [
      "Collecting cufflinks\n",
      "  Downloading cufflinks-0.17.3.tar.gz (81 kB)\n",
      "Requirement already satisfied: numpy>=1.9.2 in c:\\users\\my pc\\anaconda3\\lib\\site-packages (from cufflinks) (1.21.5)\n",
      "Requirement already satisfied: pandas>=0.19.2 in c:\\users\\my pc\\anaconda3\\lib\\site-packages (from cufflinks) (1.4.2)\n",
      "Requirement already satisfied: plotly>=4.1.1 in c:\\users\\my pc\\anaconda3\\lib\\site-packages (from cufflinks) (5.6.0)\n",
      "Requirement already satisfied: six>=1.9.0 in c:\\users\\my pc\\anaconda3\\lib\\site-packages (from cufflinks) (1.16.0)\n",
      "Collecting colorlover>=0.2.1\n",
      "  Downloading colorlover-0.3.0-py3-none-any.whl (8.9 kB)\n",
      "Requirement already satisfied: setuptools>=34.4.1 in c:\\users\\my pc\\anaconda3\\lib\\site-packages (from cufflinks) (61.2.0)\n",
      "Requirement already satisfied: ipython>=5.3.0 in c:\\users\\my pc\\anaconda3\\lib\\site-packages (from cufflinks) (8.2.0)\n",
      "Requirement already satisfied: ipywidgets>=7.0.0 in c:\\users\\my pc\\anaconda3\\lib\\site-packages (from cufflinks) (7.6.5)\n",
      "Requirement already satisfied: jedi>=0.16 in c:\\users\\my pc\\anaconda3\\lib\\site-packages (from ipython>=5.3.0->cufflinks) (0.18.1)\n",
      "Requirement already satisfied: pygments>=2.4.0 in c:\\users\\my pc\\anaconda3\\lib\\site-packages (from ipython>=5.3.0->cufflinks) (2.11.2)\n",
      "Requirement already satisfied: pickleshare in c:\\users\\my pc\\anaconda3\\lib\\site-packages (from ipython>=5.3.0->cufflinks) (0.7.5)\n",
      "Requirement already satisfied: backcall in c:\\users\\my pc\\anaconda3\\lib\\site-packages (from ipython>=5.3.0->cufflinks) (0.2.0)\n",
      "Requirement already satisfied: decorator in c:\\users\\my pc\\anaconda3\\lib\\site-packages (from ipython>=5.3.0->cufflinks) (5.1.1)\n",
      "Requirement already satisfied: prompt-toolkit!=3.0.0,!=3.0.1,<3.1.0,>=2.0.0 in c:\\users\\my pc\\anaconda3\\lib\\site-packages (from ipython>=5.3.0->cufflinks) (3.0.20)\n",
      "Requirement already satisfied: stack-data in c:\\users\\my pc\\anaconda3\\lib\\site-packages (from ipython>=5.3.0->cufflinks) (0.2.0)\n",
      "Requirement already satisfied: colorama in c:\\users\\my pc\\anaconda3\\lib\\site-packages (from ipython>=5.3.0->cufflinks) (0.4.4)\n",
      "Requirement already satisfied: matplotlib-inline in c:\\users\\my pc\\anaconda3\\lib\\site-packages (from ipython>=5.3.0->cufflinks) (0.1.2)\n",
      "Requirement already satisfied: traitlets>=5 in c:\\users\\my pc\\anaconda3\\lib\\site-packages (from ipython>=5.3.0->cufflinks) (5.1.1)\n",
      "Requirement already satisfied: ipykernel>=4.5.1 in c:\\users\\my pc\\anaconda3\\lib\\site-packages (from ipywidgets>=7.0.0->cufflinks) (6.9.1)\n",
      "Requirement already satisfied: nbformat>=4.2.0 in c:\\users\\my pc\\anaconda3\\lib\\site-packages (from ipywidgets>=7.0.0->cufflinks) (5.3.0)\n",
      "Requirement already satisfied: jupyterlab-widgets>=1.0.0 in c:\\users\\my pc\\anaconda3\\lib\\site-packages (from ipywidgets>=7.0.0->cufflinks) (1.0.0)\n",
      "Requirement already satisfied: widgetsnbextension~=3.5.0 in c:\\users\\my pc\\anaconda3\\lib\\site-packages (from ipywidgets>=7.0.0->cufflinks) (3.5.2)\n",
      "Requirement already satisfied: ipython-genutils~=0.2.0 in c:\\users\\my pc\\anaconda3\\lib\\site-packages (from ipywidgets>=7.0.0->cufflinks) (0.2.0)\n",
      "Requirement already satisfied: tornado<7.0,>=4.2 in c:\\users\\my pc\\anaconda3\\lib\\site-packages (from ipykernel>=4.5.1->ipywidgets>=7.0.0->cufflinks) (6.1)\n",
      "Requirement already satisfied: nest-asyncio in c:\\users\\my pc\\anaconda3\\lib\\site-packages (from ipykernel>=4.5.1->ipywidgets>=7.0.0->cufflinks) (1.5.5)\n",
      "Requirement already satisfied: debugpy<2.0,>=1.0.0 in c:\\users\\my pc\\anaconda3\\lib\\site-packages (from ipykernel>=4.5.1->ipywidgets>=7.0.0->cufflinks) (1.5.1)\n",
      "Requirement already satisfied: jupyter-client<8.0 in c:\\users\\my pc\\anaconda3\\lib\\site-packages (from ipykernel>=4.5.1->ipywidgets>=7.0.0->cufflinks) (6.1.12)\n",
      "Requirement already satisfied: parso<0.9.0,>=0.8.0 in c:\\users\\my pc\\anaconda3\\lib\\site-packages (from jedi>=0.16->ipython>=5.3.0->cufflinks) (0.8.3)\n",
      "Requirement already satisfied: python-dateutil>=2.1 in c:\\users\\my pc\\anaconda3\\lib\\site-packages (from jupyter-client<8.0->ipykernel>=4.5.1->ipywidgets>=7.0.0->cufflinks) (2.8.2)\n",
      "Requirement already satisfied: jupyter-core>=4.6.0 in c:\\users\\my pc\\anaconda3\\lib\\site-packages (from jupyter-client<8.0->ipykernel>=4.5.1->ipywidgets>=7.0.0->cufflinks) (4.9.2)\n",
      "Requirement already satisfied: pyzmq>=13 in c:\\users\\my pc\\anaconda3\\lib\\site-packages (from jupyter-client<8.0->ipykernel>=4.5.1->ipywidgets>=7.0.0->cufflinks) (22.3.0)\n",
      "Requirement already satisfied: pywin32>=1.0 in c:\\users\\my pc\\anaconda3\\lib\\site-packages (from jupyter-core>=4.6.0->jupyter-client<8.0->ipykernel>=4.5.1->ipywidgets>=7.0.0->cufflinks) (302)\n",
      "Requirement already satisfied: jsonschema>=2.6 in c:\\users\\my pc\\anaconda3\\lib\\site-packages (from nbformat>=4.2.0->ipywidgets>=7.0.0->cufflinks) (4.4.0)\n",
      "Requirement already satisfied: fastjsonschema in c:\\users\\my pc\\anaconda3\\lib\\site-packages (from nbformat>=4.2.0->ipywidgets>=7.0.0->cufflinks) (2.15.1)\n",
      "Requirement already satisfied: attrs>=17.4.0 in c:\\users\\my pc\\anaconda3\\lib\\site-packages (from jsonschema>=2.6->nbformat>=4.2.0->ipywidgets>=7.0.0->cufflinks) (21.4.0)\n",
      "Requirement already satisfied: pyrsistent!=0.17.0,!=0.17.1,!=0.17.2,>=0.14.0 in c:\\users\\my pc\\anaconda3\\lib\\site-packages (from jsonschema>=2.6->nbformat>=4.2.0->ipywidgets>=7.0.0->cufflinks) (0.18.0)\n",
      "Requirement already satisfied: pytz>=2020.1 in c:\\users\\my pc\\anaconda3\\lib\\site-packages (from pandas>=0.19.2->cufflinks) (2021.3)\n",
      "Requirement already satisfied: tenacity>=6.2.0 in c:\\users\\my pc\\anaconda3\\lib\\site-packages (from plotly>=4.1.1->cufflinks) (8.0.1)\n",
      "Requirement already satisfied: wcwidth in c:\\users\\my pc\\anaconda3\\lib\\site-packages (from prompt-toolkit!=3.0.0,!=3.0.1,<3.1.0,>=2.0.0->ipython>=5.3.0->cufflinks) (0.2.5)\n",
      "Requirement already satisfied: notebook>=4.4.1 in c:\\users\\my pc\\anaconda3\\lib\\site-packages (from widgetsnbextension~=3.5.0->ipywidgets>=7.0.0->cufflinks) (6.4.8)\n",
      "Requirement already satisfied: jinja2 in c:\\users\\my pc\\anaconda3\\lib\\site-packages (from notebook>=4.4.1->widgetsnbextension~=3.5.0->ipywidgets>=7.0.0->cufflinks) (2.11.3)\n",
      "Requirement already satisfied: prometheus-client in c:\\users\\my pc\\anaconda3\\lib\\site-packages (from notebook>=4.4.1->widgetsnbextension~=3.5.0->ipywidgets>=7.0.0->cufflinks) (0.13.1)\n",
      "Requirement already satisfied: Send2Trash>=1.8.0 in c:\\users\\my pc\\anaconda3\\lib\\site-packages (from notebook>=4.4.1->widgetsnbextension~=3.5.0->ipywidgets>=7.0.0->cufflinks) (1.8.0)\n",
      "Requirement already satisfied: terminado>=0.8.3 in c:\\users\\my pc\\anaconda3\\lib\\site-packages (from notebook>=4.4.1->widgetsnbextension~=3.5.0->ipywidgets>=7.0.0->cufflinks) (0.13.1)\n",
      "Requirement already satisfied: argon2-cffi in c:\\users\\my pc\\anaconda3\\lib\\site-packages (from notebook>=4.4.1->widgetsnbextension~=3.5.0->ipywidgets>=7.0.0->cufflinks) (21.3.0)\n",
      "Requirement already satisfied: nbconvert in c:\\users\\my pc\\anaconda3\\lib\\site-packages (from notebook>=4.4.1->widgetsnbextension~=3.5.0->ipywidgets>=7.0.0->cufflinks) (6.4.4)\n",
      "Requirement already satisfied: pywinpty>=1.1.0 in c:\\users\\my pc\\anaconda3\\lib\\site-packages (from terminado>=0.8.3->notebook>=4.4.1->widgetsnbextension~=3.5.0->ipywidgets>=7.0.0->cufflinks) (2.0.2)\n",
      "Requirement already satisfied: argon2-cffi-bindings in c:\\users\\my pc\\anaconda3\\lib\\site-packages (from argon2-cffi->notebook>=4.4.1->widgetsnbextension~=3.5.0->ipywidgets>=7.0.0->cufflinks) (21.2.0)\n",
      "Requirement already satisfied: cffi>=1.0.1 in c:\\users\\my pc\\anaconda3\\lib\\site-packages (from argon2-cffi-bindings->argon2-cffi->notebook>=4.4.1->widgetsnbextension~=3.5.0->ipywidgets>=7.0.0->cufflinks) (1.15.0)\n",
      "Requirement already satisfied: pycparser in c:\\users\\my pc\\anaconda3\\lib\\site-packages (from cffi>=1.0.1->argon2-cffi-bindings->argon2-cffi->notebook>=4.4.1->widgetsnbextension~=3.5.0->ipywidgets>=7.0.0->cufflinks) (2.21)\n",
      "Requirement already satisfied: MarkupSafe>=0.23 in c:\\users\\my pc\\anaconda3\\lib\\site-packages (from jinja2->notebook>=4.4.1->widgetsnbextension~=3.5.0->ipywidgets>=7.0.0->cufflinks) (2.0.1)\n",
      "Requirement already satisfied: testpath in c:\\users\\my pc\\anaconda3\\lib\\site-packages (from nbconvert->notebook>=4.4.1->widgetsnbextension~=3.5.0->ipywidgets>=7.0.0->cufflinks) (0.5.0)\n",
      "Requirement already satisfied: mistune<2,>=0.8.1 in c:\\users\\my pc\\anaconda3\\lib\\site-packages (from nbconvert->notebook>=4.4.1->widgetsnbextension~=3.5.0->ipywidgets>=7.0.0->cufflinks) (0.8.4)\n",
      "Requirement already satisfied: bleach in c:\\users\\my pc\\anaconda3\\lib\\site-packages (from nbconvert->notebook>=4.4.1->widgetsnbextension~=3.5.0->ipywidgets>=7.0.0->cufflinks) (4.1.0)\n",
      "Requirement already satisfied: nbclient<0.6.0,>=0.5.0 in c:\\users\\my pc\\anaconda3\\lib\\site-packages (from nbconvert->notebook>=4.4.1->widgetsnbextension~=3.5.0->ipywidgets>=7.0.0->cufflinks) (0.5.13)\n",
      "Requirement already satisfied: defusedxml in c:\\users\\my pc\\anaconda3\\lib\\site-packages (from nbconvert->notebook>=4.4.1->widgetsnbextension~=3.5.0->ipywidgets>=7.0.0->cufflinks) (0.7.1)\n",
      "Requirement already satisfied: beautifulsoup4 in c:\\users\\my pc\\anaconda3\\lib\\site-packages (from nbconvert->notebook>=4.4.1->widgetsnbextension~=3.5.0->ipywidgets>=7.0.0->cufflinks) (4.11.1)\n",
      "Requirement already satisfied: entrypoints>=0.2.2 in c:\\users\\my pc\\anaconda3\\lib\\site-packages (from nbconvert->notebook>=4.4.1->widgetsnbextension~=3.5.0->ipywidgets>=7.0.0->cufflinks) (0.4)\n",
      "Requirement already satisfied: pandocfilters>=1.4.1 in c:\\users\\my pc\\anaconda3\\lib\\site-packages (from nbconvert->notebook>=4.4.1->widgetsnbextension~=3.5.0->ipywidgets>=7.0.0->cufflinks) (1.5.0)\n",
      "Requirement already satisfied: jupyterlab-pygments in c:\\users\\my pc\\anaconda3\\lib\\site-packages (from nbconvert->notebook>=4.4.1->widgetsnbextension~=3.5.0->ipywidgets>=7.0.0->cufflinks) (0.1.2)\n",
      "Requirement already satisfied: soupsieve>1.2 in c:\\users\\my pc\\anaconda3\\lib\\site-packages (from beautifulsoup4->nbconvert->notebook>=4.4.1->widgetsnbextension~=3.5.0->ipywidgets>=7.0.0->cufflinks) (2.3.1)\n",
      "Requirement already satisfied: packaging in c:\\users\\my pc\\anaconda3\\lib\\site-packages (from bleach->nbconvert->notebook>=4.4.1->widgetsnbextension~=3.5.0->ipywidgets>=7.0.0->cufflinks) (21.3)\n",
      "Requirement already satisfied: webencodings in c:\\users\\my pc\\anaconda3\\lib\\site-packages (from bleach->nbconvert->notebook>=4.4.1->widgetsnbextension~=3.5.0->ipywidgets>=7.0.0->cufflinks) (0.5.1)\n",
      "Requirement already satisfied: pyparsing!=3.0.5,>=2.0.2 in c:\\users\\my pc\\anaconda3\\lib\\site-packages (from packaging->bleach->nbconvert->notebook>=4.4.1->widgetsnbextension~=3.5.0->ipywidgets>=7.0.0->cufflinks) (3.0.4)\n",
      "Requirement already satisfied: asttokens in c:\\users\\my pc\\anaconda3\\lib\\site-packages (from stack-data->ipython>=5.3.0->cufflinks) (2.0.5)\n",
      "Requirement already satisfied: executing in c:\\users\\my pc\\anaconda3\\lib\\site-packages (from stack-data->ipython>=5.3.0->cufflinks) (0.8.3)\n",
      "Requirement already satisfied: pure-eval in c:\\users\\my pc\\anaconda3\\lib\\site-packages (from stack-data->ipython>=5.3.0->cufflinks) (0.2.2)\n",
      "Building wheels for collected packages: cufflinks\n",
      "  Building wheel for cufflinks (setup.py): started\n",
      "  Building wheel for cufflinks (setup.py): finished with status 'done'\n",
      "  Created wheel for cufflinks: filename=cufflinks-0.17.3-py3-none-any.whl size=68736 sha256=884f44ce84a534710c107ac2c4cfc0621e8c283190c492224e44f64219bb4207\n",
      "  Stored in directory: c:\\users\\my pc\\appdata\\local\\pip\\cache\\wheels\\29\\b4\\f8\\2fd2206eeeba6ccad8167e4e8894b8c4ec27bf1342037fd136\n",
      "Successfully built cufflinks\n",
      "Installing collected packages: colorlover, cufflinks\n",
      "Successfully installed colorlover-0.3.0 cufflinks-0.17.3\n",
      "Note: you may need to restart the kernel to use updated packages.\n"
     ]
    }
   ],
   "source": [
    "#pip install cufflinks"
   ]
  },
  {
   "cell_type": "code",
   "execution_count": 1,
   "metadata": {},
   "outputs": [
    {
     "name": "stdout",
     "output_type": "stream",
     "text": [
      "Collecting chart-studioNote: you may need to restart the kernel to use updated packages.\n",
      "\n",
      "  Downloading chart_studio-1.1.0-py3-none-any.whl (64 kB)\n",
      "Collecting retrying>=1.3.3\n",
      "  Downloading retrying-1.3.3.tar.gz (10 kB)\n",
      "Requirement already satisfied: plotly in c:\\users\\my pc\\anaconda3\\lib\\site-packages (from chart-studio) (5.6.0)\n",
      "Requirement already satisfied: requests in c:\\users\\my pc\\anaconda3\\lib\\site-packages (from chart-studio) (2.27.1)\n",
      "Requirement already satisfied: six in c:\\users\\my pc\\anaconda3\\lib\\site-packages (from chart-studio) (1.16.0)\n",
      "Requirement already satisfied: tenacity>=6.2.0 in c:\\users\\my pc\\anaconda3\\lib\\site-packages (from plotly->chart-studio) (8.0.1)\n",
      "Requirement already satisfied: idna<4,>=2.5 in c:\\users\\my pc\\anaconda3\\lib\\site-packages (from requests->chart-studio) (3.3)\n",
      "Requirement already satisfied: certifi>=2017.4.17 in c:\\users\\my pc\\anaconda3\\lib\\site-packages (from requests->chart-studio) (2021.10.8)\n",
      "Requirement already satisfied: urllib3<1.27,>=1.21.1 in c:\\users\\my pc\\anaconda3\\lib\\site-packages (from requests->chart-studio) (1.26.9)\n",
      "Requirement already satisfied: charset-normalizer~=2.0.0 in c:\\users\\my pc\\anaconda3\\lib\\site-packages (from requests->chart-studio) (2.0.4)\n",
      "Building wheels for collected packages: retrying\n",
      "  Building wheel for retrying (setup.py): started\n",
      "  Building wheel for retrying (setup.py): finished with status 'done'\n",
      "  Created wheel for retrying: filename=retrying-1.3.3-py3-none-any.whl size=11447 sha256=5e350f3b1bd60237ad47f2f5808bd2e55acf90172a7a1bb43565fe8b113fd651\n",
      "  Stored in directory: c:\\users\\my pc\\appdata\\local\\pip\\cache\\wheels\\ce\\18\\7f\\e9527e3e66db1456194ac7f61eb3211068c409edceecff2d31\n",
      "Successfully built retrying\n",
      "Installing collected packages: retrying, chart-studio\n",
      "Successfully installed chart-studio-1.1.0 retrying-1.3.3\n"
     ]
    }
   ],
   "source": [
    "pip install chart-studio"
   ]
  },
  {
   "cell_type": "code",
   "execution_count": 15,
   "metadata": {},
   "outputs": [],
   "source": [
    "import cufflinks as cf\n",
    "import chart_studio.plotly as py\n",
    "import pandas as pd\n",
    "import numpy as np"
   ]
  },
  {
   "cell_type": "code",
   "execution_count": 16,
   "metadata": {},
   "outputs": [],
   "source": [
    "%matplotlib inline"
   ]
  },
  {
   "cell_type": "code",
   "execution_count": 3,
   "metadata": {},
   "outputs": [],
   "source": [
    "# Helps make Interactive data visualization:"
   ]
  },
  {
   "cell_type": "code",
   "execution_count": 6,
   "metadata": {},
   "outputs": [],
   "source": [
    "from plotly.offline import download_plotlyjs, init_notebook_mode, plot, iplot"
   ]
  },
  {
   "cell_type": "code",
   "execution_count": 7,
   "metadata": {},
   "outputs": [
    {
     "data": {
      "text/html": [
       "        <script type=\"text/javascript\">\n",
       "        window.PlotlyConfig = {MathJaxConfig: 'local'};\n",
       "        if (window.MathJax) {MathJax.Hub.Config({SVG: {font: \"STIX-Web\"}});}\n",
       "        if (typeof require !== 'undefined') {\n",
       "        require.undef(\"plotly\");\n",
       "        requirejs.config({\n",
       "            paths: {\n",
       "                'plotly': ['https://cdn.plot.ly/plotly-2.9.0.min']\n",
       "            }\n",
       "        });\n",
       "        require(['plotly'], function(Plotly) {\n",
       "            window._Plotly = Plotly;\n",
       "        });\n",
       "        }\n",
       "        </script>\n",
       "        "
      ]
     },
     "metadata": {},
     "output_type": "display_data"
    }
   ],
   "source": [
    "init_notebook_mode(connected= True)"
   ]
  },
  {
   "cell_type": "code",
   "execution_count": 8,
   "metadata": {},
   "outputs": [
    {
     "data": {
      "text/html": [
       "        <script type=\"text/javascript\">\n",
       "        window.PlotlyConfig = {MathJaxConfig: 'local'};\n",
       "        if (window.MathJax) {MathJax.Hub.Config({SVG: {font: \"STIX-Web\"}});}\n",
       "        if (typeof require !== 'undefined') {\n",
       "        require.undef(\"plotly\");\n",
       "        requirejs.config({\n",
       "            paths: {\n",
       "                'plotly': ['https://cdn.plot.ly/plotly-2.9.0.min']\n",
       "            }\n",
       "        });\n",
       "        require(['plotly'], function(Plotly) {\n",
       "            window._Plotly = Plotly;\n",
       "        });\n",
       "        }\n",
       "        </script>\n",
       "        "
      ]
     },
     "metadata": {},
     "output_type": "display_data"
    }
   ],
   "source": [
    "cf.go_offline()"
   ]
  },
  {
   "cell_type": "code",
   "execution_count": 20,
   "metadata": {},
   "outputs": [],
   "source": [
    "# DATA\n",
    "\n",
    "df1  = pd.DataFrame(np.random.randn(100,4), columns = 'A B C D'. split())"
   ]
  },
  {
   "cell_type": "code",
   "execution_count": 13,
   "metadata": {},
   "outputs": [],
   "source": [
    "df2 = pd.DataFrame({'Category' :[\"A\", \"B\", \"C\"], 'Values': [32,45,43]})"
   ]
  },
  {
   "cell_type": "code",
   "execution_count": 14,
   "metadata": {},
   "outputs": [
    {
     "data": {
      "text/html": [
       "<div>\n",
       "<style scoped>\n",
       "    .dataframe tbody tr th:only-of-type {\n",
       "        vertical-align: middle;\n",
       "    }\n",
       "\n",
       "    .dataframe tbody tr th {\n",
       "        vertical-align: top;\n",
       "    }\n",
       "\n",
       "    .dataframe thead th {\n",
       "        text-align: right;\n",
       "    }\n",
       "</style>\n",
       "<table border=\"1\" class=\"dataframe\">\n",
       "  <thead>\n",
       "    <tr style=\"text-align: right;\">\n",
       "      <th></th>\n",
       "      <th>Category</th>\n",
       "      <th>Values</th>\n",
       "    </tr>\n",
       "  </thead>\n",
       "  <tbody>\n",
       "    <tr>\n",
       "      <th>0</th>\n",
       "      <td>A</td>\n",
       "      <td>32</td>\n",
       "    </tr>\n",
       "    <tr>\n",
       "      <th>1</th>\n",
       "      <td>B</td>\n",
       "      <td>45</td>\n",
       "    </tr>\n",
       "    <tr>\n",
       "      <th>2</th>\n",
       "      <td>C</td>\n",
       "      <td>43</td>\n",
       "    </tr>\n",
       "  </tbody>\n",
       "</table>\n",
       "</div>"
      ],
      "text/plain": [
       "  Category  Values\n",
       "0        A      32\n",
       "1        B      45\n",
       "2        C      43"
      ]
     },
     "execution_count": 14,
     "metadata": {},
     "output_type": "execute_result"
    }
   ],
   "source": [
    "df2"
   ]
  },
  {
   "cell_type": "code",
   "execution_count": 22,
   "metadata": {},
   "outputs": [
    {
     "data": {
      "text/html": [
       "<div>\n",
       "<style scoped>\n",
       "    .dataframe tbody tr th:only-of-type {\n",
       "        vertical-align: middle;\n",
       "    }\n",
       "\n",
       "    .dataframe tbody tr th {\n",
       "        vertical-align: top;\n",
       "    }\n",
       "\n",
       "    .dataframe thead th {\n",
       "        text-align: right;\n",
       "    }\n",
       "</style>\n",
       "<table border=\"1\" class=\"dataframe\">\n",
       "  <thead>\n",
       "    <tr style=\"text-align: right;\">\n",
       "      <th></th>\n",
       "      <th>A</th>\n",
       "      <th>B</th>\n",
       "      <th>C</th>\n",
       "      <th>D</th>\n",
       "    </tr>\n",
       "  </thead>\n",
       "  <tbody>\n",
       "    <tr>\n",
       "      <th>0</th>\n",
       "      <td>0.574371</td>\n",
       "      <td>0.801664</td>\n",
       "      <td>-0.387232</td>\n",
       "      <td>-0.470692</td>\n",
       "    </tr>\n",
       "    <tr>\n",
       "      <th>1</th>\n",
       "      <td>0.770513</td>\n",
       "      <td>1.007739</td>\n",
       "      <td>0.312990</td>\n",
       "      <td>-0.639329</td>\n",
       "    </tr>\n",
       "    <tr>\n",
       "      <th>2</th>\n",
       "      <td>-1.157634</td>\n",
       "      <td>0.276514</td>\n",
       "      <td>0.549110</td>\n",
       "      <td>0.557593</td>\n",
       "    </tr>\n",
       "    <tr>\n",
       "      <th>3</th>\n",
       "      <td>-0.827104</td>\n",
       "      <td>-2.157021</td>\n",
       "      <td>0.243419</td>\n",
       "      <td>-2.120289</td>\n",
       "    </tr>\n",
       "    <tr>\n",
       "      <th>4</th>\n",
       "      <td>0.742592</td>\n",
       "      <td>-1.123501</td>\n",
       "      <td>1.499529</td>\n",
       "      <td>0.701661</td>\n",
       "    </tr>\n",
       "    <tr>\n",
       "      <th>...</th>\n",
       "      <td>...</td>\n",
       "      <td>...</td>\n",
       "      <td>...</td>\n",
       "      <td>...</td>\n",
       "    </tr>\n",
       "    <tr>\n",
       "      <th>95</th>\n",
       "      <td>0.465851</td>\n",
       "      <td>-0.184550</td>\n",
       "      <td>1.666172</td>\n",
       "      <td>1.279236</td>\n",
       "    </tr>\n",
       "    <tr>\n",
       "      <th>96</th>\n",
       "      <td>-0.188435</td>\n",
       "      <td>-0.300321</td>\n",
       "      <td>-0.507631</td>\n",
       "      <td>-0.539903</td>\n",
       "    </tr>\n",
       "    <tr>\n",
       "      <th>97</th>\n",
       "      <td>0.940797</td>\n",
       "      <td>0.622697</td>\n",
       "      <td>0.164439</td>\n",
       "      <td>-0.137639</td>\n",
       "    </tr>\n",
       "    <tr>\n",
       "      <th>98</th>\n",
       "      <td>-1.246383</td>\n",
       "      <td>-0.611911</td>\n",
       "      <td>-0.272343</td>\n",
       "      <td>-2.018729</td>\n",
       "    </tr>\n",
       "    <tr>\n",
       "      <th>99</th>\n",
       "      <td>1.557032</td>\n",
       "      <td>-2.241247</td>\n",
       "      <td>0.582987</td>\n",
       "      <td>-1.906831</td>\n",
       "    </tr>\n",
       "  </tbody>\n",
       "</table>\n",
       "<p>100 rows × 4 columns</p>\n",
       "</div>"
      ],
      "text/plain": [
       "           A         B         C         D\n",
       "0   0.574371  0.801664 -0.387232 -0.470692\n",
       "1   0.770513  1.007739  0.312990 -0.639329\n",
       "2  -1.157634  0.276514  0.549110  0.557593\n",
       "3  -0.827104 -2.157021  0.243419 -2.120289\n",
       "4   0.742592 -1.123501  1.499529  0.701661\n",
       "..       ...       ...       ...       ...\n",
       "95  0.465851 -0.184550  1.666172  1.279236\n",
       "96 -0.188435 -0.300321 -0.507631 -0.539903\n",
       "97  0.940797  0.622697  0.164439 -0.137639\n",
       "98 -1.246383 -0.611911 -0.272343 -2.018729\n",
       "99  1.557032 -2.241247  0.582987 -1.906831\n",
       "\n",
       "[100 rows x 4 columns]"
      ]
     },
     "execution_count": 22,
     "metadata": {},
     "output_type": "execute_result"
    }
   ],
   "source": [
    "df1"
   ]
  },
  {
   "cell_type": "code",
   "execution_count": 24,
   "metadata": {},
   "outputs": [
    {
     "data": {
      "application/vnd.plotly.v1+json": {
       "config": {
        "linkText": "Export to plot.ly",
        "plotlyServerURL": "https://plot.ly",
        "showLink": true
       },
       "data": [
        {
         "line": {
          "color": "rgba(255, 153, 51, 1.0)",
          "dash": "solid",
          "shape": "linear",
          "width": 1.3
         },
         "mode": "lines",
         "name": "A",
         "text": "",
         "type": "scatter",
         "x": [
          0,
          1,
          2,
          3,
          4,
          5,
          6,
          7,
          8,
          9,
          10,
          11,
          12,
          13,
          14,
          15,
          16,
          17,
          18,
          19,
          20,
          21,
          22,
          23,
          24,
          25,
          26,
          27,
          28,
          29,
          30,
          31,
          32,
          33,
          34,
          35,
          36,
          37,
          38,
          39,
          40,
          41,
          42,
          43,
          44,
          45,
          46,
          47,
          48,
          49,
          50,
          51,
          52,
          53,
          54,
          55,
          56,
          57,
          58,
          59,
          60,
          61,
          62,
          63,
          64,
          65,
          66,
          67,
          68,
          69,
          70,
          71,
          72,
          73,
          74,
          75,
          76,
          77,
          78,
          79,
          80,
          81,
          82,
          83,
          84,
          85,
          86,
          87,
          88,
          89,
          90,
          91,
          92,
          93,
          94,
          95,
          96,
          97,
          98,
          99
         ],
         "y": [
          0.5743707795773935,
          0.7705130471123088,
          -1.1576336254777675,
          -0.8271035026452863,
          0.7425917665606087,
          -0.5394750578829458,
          0.5097192595359479,
          0.5432487081145778,
          -0.017946748455862877,
          0.19581581905947343,
          -1.437598250743915,
          2.218752439044428,
          1.3735761727944185,
          0.4110662686393877,
          -1.2762577922869192,
          1.052973143565982,
          1.4455702341590444,
          -0.3948389358880354,
          0.7885045139246953,
          -1.048373347634528,
          1.7428723409947369,
          0.5095898223142886,
          -0.40242338927638993,
          0.7895293899801388,
          -1.1684034943003128,
          -0.04221538280344773,
          0.008138638768228417,
          -0.4886444367606532,
          0.372696913991112,
          0.012203537415463457,
          1.3219400832950743,
          0.4426993414749163,
          0.6954759067905433,
          1.26173184725225,
          0.6031545937641348,
          0.8314386262457409,
          -1.9414446443208866,
          0.44729577583315866,
          -0.1519969814341827,
          1.4347967567547704,
          0.4231389277658858,
          -0.3464188794612597,
          -1.1560117204001936,
          -0.3371028319649269,
          0.9280885194745121,
          -0.33478270805751936,
          2.501829705680731,
          0.6545880808894924,
          -0.3253344899082747,
          1.0445833650807033,
          0.6378047610339664,
          -2.282408309947842,
          -0.9940910712619948,
          1.593352030366997,
          0.9796354322121585,
          -0.14555141905550475,
          1.938036037209001,
          0.4868173620202219,
          0.055745582967331925,
          0.8956207552321556,
          0.11210772463177247,
          -0.33800571080152314,
          -1.3960145152016388,
          2.1771435310890195,
          -0.21470397682343476,
          0.4522706930495062,
          0.9164948956794404,
          0.8686559643236597,
          -0.781959644239122,
          0.858071168774533,
          1.0682392817882957,
          -0.8544402572414872,
          -0.10900933498317333,
          -0.6310301425552112,
          -0.7648997140020927,
          1.150003153635081,
          1.0797631083191377,
          -0.45546653209706256,
          -0.04107528864510263,
          0.5455832227617043,
          -0.013623144913418072,
          0.8627690024800236,
          -0.444669171787977,
          -0.09778715447296922,
          -0.9840028543722682,
          -0.7197814724774163,
          0.5492328656564691,
          0.3865729478490786,
          0.9060294279206033,
          -0.4274656683036674,
          0.7060489877334019,
          -0.38594158839707665,
          0.5846720573475902,
          0.715150753017314,
          -0.5970239007455065,
          0.46585132559113374,
          -0.18843515452973725,
          0.9407973388139189,
          -1.2463834784309387,
          1.557031562545552
         ]
        },
        {
         "line": {
          "color": "rgba(55, 128, 191, 1.0)",
          "dash": "solid",
          "shape": "linear",
          "width": 1.3
         },
         "mode": "lines",
         "name": "B",
         "text": "",
         "type": "scatter",
         "x": [
          0,
          1,
          2,
          3,
          4,
          5,
          6,
          7,
          8,
          9,
          10,
          11,
          12,
          13,
          14,
          15,
          16,
          17,
          18,
          19,
          20,
          21,
          22,
          23,
          24,
          25,
          26,
          27,
          28,
          29,
          30,
          31,
          32,
          33,
          34,
          35,
          36,
          37,
          38,
          39,
          40,
          41,
          42,
          43,
          44,
          45,
          46,
          47,
          48,
          49,
          50,
          51,
          52,
          53,
          54,
          55,
          56,
          57,
          58,
          59,
          60,
          61,
          62,
          63,
          64,
          65,
          66,
          67,
          68,
          69,
          70,
          71,
          72,
          73,
          74,
          75,
          76,
          77,
          78,
          79,
          80,
          81,
          82,
          83,
          84,
          85,
          86,
          87,
          88,
          89,
          90,
          91,
          92,
          93,
          94,
          95,
          96,
          97,
          98,
          99
         ],
         "y": [
          0.8016641080924541,
          1.0077391146377723,
          0.27651367544996946,
          -2.1570213570008927,
          -1.1235011021677124,
          0.17510373317808275,
          0.5739852492901831,
          0.08400858387755353,
          -1.7399189233318215,
          1.373956525773911,
          -0.6055411343301496,
          0.07895635184420437,
          1.9396245569934054,
          0.21052865131167792,
          0.8041135995879579,
          1.2067828700888212,
          -1.2391501426725224,
          -0.602365415491375,
          -1.2116734000900296,
          -0.5657984205463799,
          -0.30418317029567005,
          -1.3047874224393003,
          -1.9023818194008624,
          1.2952595792792636,
          0.10138680285600672,
          0.0223449098802518,
          0.25608582492185883,
          -0.8817831404171913,
          0.364858694437755,
          -1.1104434289726777,
          0.3175327732447648,
          0.4440791680629179,
          0.295798249153598,
          0.17144218397646702,
          -0.5670235515093524,
          1.5675401024850084,
          -0.3154757966663135,
          -0.9569793691086736,
          -0.08939617748473268,
          -1.4138336943563812,
          -0.715750128405275,
          0.26616513383692075,
          -0.7576063158477336,
          1.0044504867732704,
          -0.8528844132117523,
          -1.3137522421554162,
          -0.6297247932341066,
          0.6641310484582209,
          0.6842832590670178,
          -1.097732442511773,
          0.7695175485075942,
          -0.8004055106036331,
          -1.2334254972160166,
          -1.3461652044016847,
          -0.44328078003252724,
          0.12362524915851832,
          -0.703900374883289,
          1.5964916213576874,
          -0.7175995763374521,
          0.7303661705616081,
          1.6433808900162372,
          -0.6732022934593243,
          0.39075007107051796,
          0.7030593293505272,
          -0.36446992902141634,
          -0.8641351675878642,
          -0.8600094939920322,
          -0.7513060798787412,
          2.286811969914792,
          -0.46975880928066727,
          -1.5697616694093142,
          -0.2921380197460708,
          0.727262007763347,
          0.4960816199155096,
          0.30461017406051066,
          -0.44238754745680947,
          -0.019873063964267003,
          -0.9791775276148362,
          0.8333268577557206,
          -0.5577902793680444,
          -0.7902334272887995,
          -1.409128891545519,
          -0.49896367670798036,
          -1.098227923147296,
          -0.16852914853637593,
          0.37570018520333304,
          -2.161831239989233,
          -0.7378821662771905,
          -0.06571168846656328,
          0.47600300766597164,
          0.9217086796711035,
          -0.5276134738110552,
          0.19389281217411172,
          -0.1976527698633932,
          -1.7029397917737243,
          -0.18454993343459655,
          -0.30032143747151385,
          0.6226966256674825,
          -0.6119109736503978,
          -2.241247130842427
         ]
        },
        {
         "line": {
          "color": "rgba(50, 171, 96, 1.0)",
          "dash": "solid",
          "shape": "linear",
          "width": 1.3
         },
         "mode": "lines",
         "name": "C",
         "text": "",
         "type": "scatter",
         "x": [
          0,
          1,
          2,
          3,
          4,
          5,
          6,
          7,
          8,
          9,
          10,
          11,
          12,
          13,
          14,
          15,
          16,
          17,
          18,
          19,
          20,
          21,
          22,
          23,
          24,
          25,
          26,
          27,
          28,
          29,
          30,
          31,
          32,
          33,
          34,
          35,
          36,
          37,
          38,
          39,
          40,
          41,
          42,
          43,
          44,
          45,
          46,
          47,
          48,
          49,
          50,
          51,
          52,
          53,
          54,
          55,
          56,
          57,
          58,
          59,
          60,
          61,
          62,
          63,
          64,
          65,
          66,
          67,
          68,
          69,
          70,
          71,
          72,
          73,
          74,
          75,
          76,
          77,
          78,
          79,
          80,
          81,
          82,
          83,
          84,
          85,
          86,
          87,
          88,
          89,
          90,
          91,
          92,
          93,
          94,
          95,
          96,
          97,
          98,
          99
         ],
         "y": [
          -0.3872323872369992,
          0.3129896931497061,
          0.549109784320413,
          0.24341866874423576,
          1.499529146175969,
          1.2787254198445286,
          0.09732899572249865,
          0.6786729923835082,
          0.3200378633283294,
          0.5394983246081207,
          1.9304686738992993,
          -0.1476528422065039,
          0.20730005663265114,
          -0.08292020894156982,
          -1.0332985315410432,
          0.2910227164489197,
          -0.6599861700596447,
          -1.5927522845823798,
          -0.06913975252968259,
          -0.5350268297035842,
          -0.08331731434480327,
          0.00951634077256817,
          -0.8740584241386143,
          -0.2450153374063535,
          -0.07959487862678238,
          1.6987821893488655,
          -0.33441987308935917,
          -0.5162053018290103,
          0.7867538063077528,
          -0.511729361567106,
          -0.3442187857712442,
          1.4539410232083054,
          1.3210571784341893,
          0.39479043190364904,
          -2.1444074764988144,
          -0.17579186871750874,
          0.9734103167653669,
          -1.5447888626969593,
          0.44118731033021363,
          0.27523186474757166,
          0.19584184595773688,
          2.1479956346168163,
          2.5676586672224286,
          0.4169684005852465,
          -0.7905053421090682,
          0.6059343090399911,
          1.1718702289760667,
          -1.4892935685267537,
          -0.9155580924696599,
          0.38024870280397105,
          -0.4477636807416802,
          0.09620063605372368,
          0.0746695266655892,
          -1.6872206649919161,
          0.7466670151316754,
          -0.299369659246122,
          -0.5538294760945928,
          -0.7433103932079366,
          -1.2464060855888113,
          -0.9325474584013793,
          -0.41615198461661734,
          -0.5832952182022414,
          -0.15074930142568585,
          0.47296418006624735,
          -0.9547052054771018,
          1.083298302216257,
          -1.4824096196587915,
          -1.122351602702573,
          0.9302847260988449,
          0.441320891411173,
          -0.2833388821399992,
          -1.2753864362984364,
          -1.1169841191601397,
          0.5972396627662147,
          -0.2491773777751275,
          -0.18988486380823916,
          0.8546215215474877,
          -0.38142398607241634,
          -1.0945065986319291,
          0.3142174694812054,
          -0.7462860924229974,
          0.29691771845913784,
          -2.5760037011011914,
          -0.5331102468132428,
          -1.1442208420210935,
          0.7410619807933482,
          0.16704743929932367,
          0.9173053003360592,
          -1.3378054378604043,
          1.2352164222516753,
          -2.260111480808333,
          1.6287248278642656,
          1.3524792127034155,
          -0.4904296405112925,
          -0.9892598998698315,
          1.6661723261514287,
          -0.5076306898533299,
          0.1644388963494178,
          -0.2723433733772562,
          0.5829871208447345
         ]
        },
        {
         "line": {
          "color": "rgba(128, 0, 128, 1.0)",
          "dash": "solid",
          "shape": "linear",
          "width": 1.3
         },
         "mode": "lines",
         "name": "D",
         "text": "",
         "type": "scatter",
         "x": [
          0,
          1,
          2,
          3,
          4,
          5,
          6,
          7,
          8,
          9,
          10,
          11,
          12,
          13,
          14,
          15,
          16,
          17,
          18,
          19,
          20,
          21,
          22,
          23,
          24,
          25,
          26,
          27,
          28,
          29,
          30,
          31,
          32,
          33,
          34,
          35,
          36,
          37,
          38,
          39,
          40,
          41,
          42,
          43,
          44,
          45,
          46,
          47,
          48,
          49,
          50,
          51,
          52,
          53,
          54,
          55,
          56,
          57,
          58,
          59,
          60,
          61,
          62,
          63,
          64,
          65,
          66,
          67,
          68,
          69,
          70,
          71,
          72,
          73,
          74,
          75,
          76,
          77,
          78,
          79,
          80,
          81,
          82,
          83,
          84,
          85,
          86,
          87,
          88,
          89,
          90,
          91,
          92,
          93,
          94,
          95,
          96,
          97,
          98,
          99
         ],
         "y": [
          -0.4706922896364643,
          -0.6393288441504061,
          0.5575925212870825,
          -2.1202891520131826,
          0.7016609126653969,
          -0.06663561774881703,
          -0.4973374480135509,
          -0.590882958594366,
          2.184216868456072,
          0.33037161371952095,
          0.4777632094713535,
          0.3821948569152667,
          -1.603506970236447,
          0.03295152166286881,
          0.04081459510336229,
          -1.0542769144183797,
          0.25051753466921883,
          1.79220788387074,
          -2.1640254105521275,
          0.26545027744208516,
          -0.023472918994801143,
          -0.43244261016985147,
          0.3300305691019167,
          1.3612832617727721,
          0.23017392707992243,
          1.0116251964301215,
          0.19420287776944709,
          -1.5681994809354591,
          0.18423853340915497,
          -0.6173534845828159,
          -0.04976064378931739,
          -0.09499890498586602,
          0.5999663887957106,
          0.9470452192499397,
          0.48158232826549746,
          -0.975818121808824,
          1.1789804210928678,
          0.511991126185782,
          -0.6445127118571568,
          0.44639236607138577,
          -0.5119228999079636,
          0.3461769490638204,
          -0.28860962187000627,
          0.30880752893856117,
          0.8602920238557571,
          -1.1065956618682193,
          1.4281271716163646,
          1.7281195306020583,
          -2.070566261701333,
          -0.6463558608812114,
          -1.4424887324180486,
          2.0564826875760485,
          -0.08467260834805933,
          -0.8208555681228488,
          -0.7840923059289396,
          0.5463398928360392,
          -1.9147193931015167,
          -2.0965405121600296,
          0.8854654915221677,
          -0.7077143405284566,
          1.220740051229066,
          0.41684554242125865,
          0.4125617805707906,
          0.09547391990243034,
          -0.24230781619518113,
          -0.36889321022938737,
          0.01572106847202316,
          0.43561389700725806,
          0.11144186558321814,
          -0.6508334551545648,
          1.018199714126553,
          0.8714881246496483,
          -1.5536263117876437,
          2.235615408287663,
          0.12156182099911096,
          0.0745440501953923,
          1.3531429059771674,
          0.7934764526588117,
          2.5958981612081273,
          1.1486359575895522,
          -2.3844317905567403,
          -0.6650930734834832,
          0.05235770758444297,
          0.08514327670747696,
          1.249831995368982,
          -0.9450238390834802,
          -0.2639259615069109,
          -0.52369639655623,
          0.49020926089127365,
          0.34420441702195825,
          0.3041093733430783,
          0.22057571199250411,
          0.7505519778911802,
          -1.2174904593310871,
          1.056341055422691,
          1.2792360322150826,
          -0.5399025492546313,
          -0.13763862502097546,
          -2.0187290599712178,
          -1.9068308822417757
         ]
        }
       ],
       "layout": {
        "legend": {
         "bgcolor": "#F5F6F9",
         "font": {
          "color": "#4D5663"
         }
        },
        "paper_bgcolor": "#F5F6F9",
        "plot_bgcolor": "#F5F6F9",
        "template": {
         "data": {
          "bar": [
           {
            "error_x": {
             "color": "#2a3f5f"
            },
            "error_y": {
             "color": "#2a3f5f"
            },
            "marker": {
             "line": {
              "color": "#E5ECF6",
              "width": 0.5
             },
             "pattern": {
              "fillmode": "overlay",
              "size": 10,
              "solidity": 0.2
             }
            },
            "type": "bar"
           }
          ],
          "barpolar": [
           {
            "marker": {
             "line": {
              "color": "#E5ECF6",
              "width": 0.5
             },
             "pattern": {
              "fillmode": "overlay",
              "size": 10,
              "solidity": 0.2
             }
            },
            "type": "barpolar"
           }
          ],
          "carpet": [
           {
            "aaxis": {
             "endlinecolor": "#2a3f5f",
             "gridcolor": "white",
             "linecolor": "white",
             "minorgridcolor": "white",
             "startlinecolor": "#2a3f5f"
            },
            "baxis": {
             "endlinecolor": "#2a3f5f",
             "gridcolor": "white",
             "linecolor": "white",
             "minorgridcolor": "white",
             "startlinecolor": "#2a3f5f"
            },
            "type": "carpet"
           }
          ],
          "choropleth": [
           {
            "colorbar": {
             "outlinewidth": 0,
             "ticks": ""
            },
            "type": "choropleth"
           }
          ],
          "contour": [
           {
            "colorbar": {
             "outlinewidth": 0,
             "ticks": ""
            },
            "colorscale": [
             [
              0,
              "#0d0887"
             ],
             [
              0.1111111111111111,
              "#46039f"
             ],
             [
              0.2222222222222222,
              "#7201a8"
             ],
             [
              0.3333333333333333,
              "#9c179e"
             ],
             [
              0.4444444444444444,
              "#bd3786"
             ],
             [
              0.5555555555555556,
              "#d8576b"
             ],
             [
              0.6666666666666666,
              "#ed7953"
             ],
             [
              0.7777777777777778,
              "#fb9f3a"
             ],
             [
              0.8888888888888888,
              "#fdca26"
             ],
             [
              1,
              "#f0f921"
             ]
            ],
            "type": "contour"
           }
          ],
          "contourcarpet": [
           {
            "colorbar": {
             "outlinewidth": 0,
             "ticks": ""
            },
            "type": "contourcarpet"
           }
          ],
          "heatmap": [
           {
            "colorbar": {
             "outlinewidth": 0,
             "ticks": ""
            },
            "colorscale": [
             [
              0,
              "#0d0887"
             ],
             [
              0.1111111111111111,
              "#46039f"
             ],
             [
              0.2222222222222222,
              "#7201a8"
             ],
             [
              0.3333333333333333,
              "#9c179e"
             ],
             [
              0.4444444444444444,
              "#bd3786"
             ],
             [
              0.5555555555555556,
              "#d8576b"
             ],
             [
              0.6666666666666666,
              "#ed7953"
             ],
             [
              0.7777777777777778,
              "#fb9f3a"
             ],
             [
              0.8888888888888888,
              "#fdca26"
             ],
             [
              1,
              "#f0f921"
             ]
            ],
            "type": "heatmap"
           }
          ],
          "heatmapgl": [
           {
            "colorbar": {
             "outlinewidth": 0,
             "ticks": ""
            },
            "colorscale": [
             [
              0,
              "#0d0887"
             ],
             [
              0.1111111111111111,
              "#46039f"
             ],
             [
              0.2222222222222222,
              "#7201a8"
             ],
             [
              0.3333333333333333,
              "#9c179e"
             ],
             [
              0.4444444444444444,
              "#bd3786"
             ],
             [
              0.5555555555555556,
              "#d8576b"
             ],
             [
              0.6666666666666666,
              "#ed7953"
             ],
             [
              0.7777777777777778,
              "#fb9f3a"
             ],
             [
              0.8888888888888888,
              "#fdca26"
             ],
             [
              1,
              "#f0f921"
             ]
            ],
            "type": "heatmapgl"
           }
          ],
          "histogram": [
           {
            "marker": {
             "pattern": {
              "fillmode": "overlay",
              "size": 10,
              "solidity": 0.2
             }
            },
            "type": "histogram"
           }
          ],
          "histogram2d": [
           {
            "colorbar": {
             "outlinewidth": 0,
             "ticks": ""
            },
            "colorscale": [
             [
              0,
              "#0d0887"
             ],
             [
              0.1111111111111111,
              "#46039f"
             ],
             [
              0.2222222222222222,
              "#7201a8"
             ],
             [
              0.3333333333333333,
              "#9c179e"
             ],
             [
              0.4444444444444444,
              "#bd3786"
             ],
             [
              0.5555555555555556,
              "#d8576b"
             ],
             [
              0.6666666666666666,
              "#ed7953"
             ],
             [
              0.7777777777777778,
              "#fb9f3a"
             ],
             [
              0.8888888888888888,
              "#fdca26"
             ],
             [
              1,
              "#f0f921"
             ]
            ],
            "type": "histogram2d"
           }
          ],
          "histogram2dcontour": [
           {
            "colorbar": {
             "outlinewidth": 0,
             "ticks": ""
            },
            "colorscale": [
             [
              0,
              "#0d0887"
             ],
             [
              0.1111111111111111,
              "#46039f"
             ],
             [
              0.2222222222222222,
              "#7201a8"
             ],
             [
              0.3333333333333333,
              "#9c179e"
             ],
             [
              0.4444444444444444,
              "#bd3786"
             ],
             [
              0.5555555555555556,
              "#d8576b"
             ],
             [
              0.6666666666666666,
              "#ed7953"
             ],
             [
              0.7777777777777778,
              "#fb9f3a"
             ],
             [
              0.8888888888888888,
              "#fdca26"
             ],
             [
              1,
              "#f0f921"
             ]
            ],
            "type": "histogram2dcontour"
           }
          ],
          "mesh3d": [
           {
            "colorbar": {
             "outlinewidth": 0,
             "ticks": ""
            },
            "type": "mesh3d"
           }
          ],
          "parcoords": [
           {
            "line": {
             "colorbar": {
              "outlinewidth": 0,
              "ticks": ""
             }
            },
            "type": "parcoords"
           }
          ],
          "pie": [
           {
            "automargin": true,
            "type": "pie"
           }
          ],
          "scatter": [
           {
            "marker": {
             "colorbar": {
              "outlinewidth": 0,
              "ticks": ""
             }
            },
            "type": "scatter"
           }
          ],
          "scatter3d": [
           {
            "line": {
             "colorbar": {
              "outlinewidth": 0,
              "ticks": ""
             }
            },
            "marker": {
             "colorbar": {
              "outlinewidth": 0,
              "ticks": ""
             }
            },
            "type": "scatter3d"
           }
          ],
          "scattercarpet": [
           {
            "marker": {
             "colorbar": {
              "outlinewidth": 0,
              "ticks": ""
             }
            },
            "type": "scattercarpet"
           }
          ],
          "scattergeo": [
           {
            "marker": {
             "colorbar": {
              "outlinewidth": 0,
              "ticks": ""
             }
            },
            "type": "scattergeo"
           }
          ],
          "scattergl": [
           {
            "marker": {
             "colorbar": {
              "outlinewidth": 0,
              "ticks": ""
             }
            },
            "type": "scattergl"
           }
          ],
          "scattermapbox": [
           {
            "marker": {
             "colorbar": {
              "outlinewidth": 0,
              "ticks": ""
             }
            },
            "type": "scattermapbox"
           }
          ],
          "scatterpolar": [
           {
            "marker": {
             "colorbar": {
              "outlinewidth": 0,
              "ticks": ""
             }
            },
            "type": "scatterpolar"
           }
          ],
          "scatterpolargl": [
           {
            "marker": {
             "colorbar": {
              "outlinewidth": 0,
              "ticks": ""
             }
            },
            "type": "scatterpolargl"
           }
          ],
          "scatterternary": [
           {
            "marker": {
             "colorbar": {
              "outlinewidth": 0,
              "ticks": ""
             }
            },
            "type": "scatterternary"
           }
          ],
          "surface": [
           {
            "colorbar": {
             "outlinewidth": 0,
             "ticks": ""
            },
            "colorscale": [
             [
              0,
              "#0d0887"
             ],
             [
              0.1111111111111111,
              "#46039f"
             ],
             [
              0.2222222222222222,
              "#7201a8"
             ],
             [
              0.3333333333333333,
              "#9c179e"
             ],
             [
              0.4444444444444444,
              "#bd3786"
             ],
             [
              0.5555555555555556,
              "#d8576b"
             ],
             [
              0.6666666666666666,
              "#ed7953"
             ],
             [
              0.7777777777777778,
              "#fb9f3a"
             ],
             [
              0.8888888888888888,
              "#fdca26"
             ],
             [
              1,
              "#f0f921"
             ]
            ],
            "type": "surface"
           }
          ],
          "table": [
           {
            "cells": {
             "fill": {
              "color": "#EBF0F8"
             },
             "line": {
              "color": "white"
             }
            },
            "header": {
             "fill": {
              "color": "#C8D4E3"
             },
             "line": {
              "color": "white"
             }
            },
            "type": "table"
           }
          ]
         },
         "layout": {
          "annotationdefaults": {
           "arrowcolor": "#2a3f5f",
           "arrowhead": 0,
           "arrowwidth": 1
          },
          "autotypenumbers": "strict",
          "coloraxis": {
           "colorbar": {
            "outlinewidth": 0,
            "ticks": ""
           }
          },
          "colorscale": {
           "diverging": [
            [
             0,
             "#8e0152"
            ],
            [
             0.1,
             "#c51b7d"
            ],
            [
             0.2,
             "#de77ae"
            ],
            [
             0.3,
             "#f1b6da"
            ],
            [
             0.4,
             "#fde0ef"
            ],
            [
             0.5,
             "#f7f7f7"
            ],
            [
             0.6,
             "#e6f5d0"
            ],
            [
             0.7,
             "#b8e186"
            ],
            [
             0.8,
             "#7fbc41"
            ],
            [
             0.9,
             "#4d9221"
            ],
            [
             1,
             "#276419"
            ]
           ],
           "sequential": [
            [
             0,
             "#0d0887"
            ],
            [
             0.1111111111111111,
             "#46039f"
            ],
            [
             0.2222222222222222,
             "#7201a8"
            ],
            [
             0.3333333333333333,
             "#9c179e"
            ],
            [
             0.4444444444444444,
             "#bd3786"
            ],
            [
             0.5555555555555556,
             "#d8576b"
            ],
            [
             0.6666666666666666,
             "#ed7953"
            ],
            [
             0.7777777777777778,
             "#fb9f3a"
            ],
            [
             0.8888888888888888,
             "#fdca26"
            ],
            [
             1,
             "#f0f921"
            ]
           ],
           "sequentialminus": [
            [
             0,
             "#0d0887"
            ],
            [
             0.1111111111111111,
             "#46039f"
            ],
            [
             0.2222222222222222,
             "#7201a8"
            ],
            [
             0.3333333333333333,
             "#9c179e"
            ],
            [
             0.4444444444444444,
             "#bd3786"
            ],
            [
             0.5555555555555556,
             "#d8576b"
            ],
            [
             0.6666666666666666,
             "#ed7953"
            ],
            [
             0.7777777777777778,
             "#fb9f3a"
            ],
            [
             0.8888888888888888,
             "#fdca26"
            ],
            [
             1,
             "#f0f921"
            ]
           ]
          },
          "colorway": [
           "#636efa",
           "#EF553B",
           "#00cc96",
           "#ab63fa",
           "#FFA15A",
           "#19d3f3",
           "#FF6692",
           "#B6E880",
           "#FF97FF",
           "#FECB52"
          ],
          "font": {
           "color": "#2a3f5f"
          },
          "geo": {
           "bgcolor": "white",
           "lakecolor": "white",
           "landcolor": "#E5ECF6",
           "showlakes": true,
           "showland": true,
           "subunitcolor": "white"
          },
          "hoverlabel": {
           "align": "left"
          },
          "hovermode": "closest",
          "mapbox": {
           "style": "light"
          },
          "paper_bgcolor": "white",
          "plot_bgcolor": "#E5ECF6",
          "polar": {
           "angularaxis": {
            "gridcolor": "white",
            "linecolor": "white",
            "ticks": ""
           },
           "bgcolor": "#E5ECF6",
           "radialaxis": {
            "gridcolor": "white",
            "linecolor": "white",
            "ticks": ""
           }
          },
          "scene": {
           "xaxis": {
            "backgroundcolor": "#E5ECF6",
            "gridcolor": "white",
            "gridwidth": 2,
            "linecolor": "white",
            "showbackground": true,
            "ticks": "",
            "zerolinecolor": "white"
           },
           "yaxis": {
            "backgroundcolor": "#E5ECF6",
            "gridcolor": "white",
            "gridwidth": 2,
            "linecolor": "white",
            "showbackground": true,
            "ticks": "",
            "zerolinecolor": "white"
           },
           "zaxis": {
            "backgroundcolor": "#E5ECF6",
            "gridcolor": "white",
            "gridwidth": 2,
            "linecolor": "white",
            "showbackground": true,
            "ticks": "",
            "zerolinecolor": "white"
           }
          },
          "shapedefaults": {
           "line": {
            "color": "#2a3f5f"
           }
          },
          "ternary": {
           "aaxis": {
            "gridcolor": "white",
            "linecolor": "white",
            "ticks": ""
           },
           "baxis": {
            "gridcolor": "white",
            "linecolor": "white",
            "ticks": ""
           },
           "bgcolor": "#E5ECF6",
           "caxis": {
            "gridcolor": "white",
            "linecolor": "white",
            "ticks": ""
           }
          },
          "title": {
           "x": 0.05
          },
          "xaxis": {
           "automargin": true,
           "gridcolor": "white",
           "linecolor": "white",
           "ticks": "",
           "title": {
            "standoff": 15
           },
           "zerolinecolor": "white",
           "zerolinewidth": 2
          },
          "yaxis": {
           "automargin": true,
           "gridcolor": "white",
           "linecolor": "white",
           "ticks": "",
           "title": {
            "standoff": 15
           },
           "zerolinecolor": "white",
           "zerolinewidth": 2
          }
         }
        },
        "title": {
         "font": {
          "color": "#4D5663"
         }
        },
        "xaxis": {
         "gridcolor": "#E1E5ED",
         "showgrid": true,
         "tickfont": {
          "color": "#4D5663"
         },
         "title": {
          "font": {
           "color": "#4D5663"
          },
          "text": ""
         },
         "zerolinecolor": "#E1E5ED"
        },
        "yaxis": {
         "gridcolor": "#E1E5ED",
         "showgrid": true,
         "tickfont": {
          "color": "#4D5663"
         },
         "title": {
          "font": {
           "color": "#4D5663"
          },
          "text": ""
         },
         "zerolinecolor": "#E1E5ED"
        }
       }
      },
      "text/html": [
       "<div>                            <div id=\"1d041c94-7618-47fd-9579-f63bdcd21c8d\" class=\"plotly-graph-div\" style=\"height:525px; width:100%;\"></div>            <script type=\"text/javascript\">                require([\"plotly\"], function(Plotly) {                    window.PLOTLYENV=window.PLOTLYENV || {};\n",
       "                    window.PLOTLYENV.BASE_URL='https://plot.ly';                                    if (document.getElementById(\"1d041c94-7618-47fd-9579-f63bdcd21c8d\")) {                    Plotly.newPlot(                        \"1d041c94-7618-47fd-9579-f63bdcd21c8d\",                        [{\"line\":{\"color\":\"rgba(255, 153, 51, 1.0)\",\"dash\":\"solid\",\"shape\":\"linear\",\"width\":1.3},\"mode\":\"lines\",\"name\":\"A\",\"text\":\"\",\"x\":[0,1,2,3,4,5,6,7,8,9,10,11,12,13,14,15,16,17,18,19,20,21,22,23,24,25,26,27,28,29,30,31,32,33,34,35,36,37,38,39,40,41,42,43,44,45,46,47,48,49,50,51,52,53,54,55,56,57,58,59,60,61,62,63,64,65,66,67,68,69,70,71,72,73,74,75,76,77,78,79,80,81,82,83,84,85,86,87,88,89,90,91,92,93,94,95,96,97,98,99],\"y\":[0.5743707795773935,0.7705130471123088,-1.1576336254777675,-0.8271035026452863,0.7425917665606087,-0.5394750578829458,0.5097192595359479,0.5432487081145778,-0.017946748455862877,0.19581581905947343,-1.437598250743915,2.218752439044428,1.3735761727944185,0.4110662686393877,-1.2762577922869192,1.052973143565982,1.4455702341590444,-0.3948389358880354,0.7885045139246953,-1.048373347634528,1.7428723409947369,0.5095898223142886,-0.40242338927638993,0.7895293899801388,-1.1684034943003128,-0.04221538280344773,0.008138638768228417,-0.4886444367606532,0.372696913991112,0.012203537415463457,1.3219400832950743,0.4426993414749163,0.6954759067905433,1.26173184725225,0.6031545937641348,0.8314386262457409,-1.9414446443208866,0.44729577583315866,-0.1519969814341827,1.4347967567547704,0.4231389277658858,-0.3464188794612597,-1.1560117204001936,-0.3371028319649269,0.9280885194745121,-0.33478270805751936,2.501829705680731,0.6545880808894924,-0.3253344899082747,1.0445833650807033,0.6378047610339664,-2.282408309947842,-0.9940910712619948,1.593352030366997,0.9796354322121585,-0.14555141905550475,1.938036037209001,0.4868173620202219,0.055745582967331925,0.8956207552321556,0.11210772463177247,-0.33800571080152314,-1.3960145152016388,2.1771435310890195,-0.21470397682343476,0.4522706930495062,0.9164948956794404,0.8686559643236597,-0.781959644239122,0.858071168774533,1.0682392817882957,-0.8544402572414872,-0.10900933498317333,-0.6310301425552112,-0.7648997140020927,1.150003153635081,1.0797631083191377,-0.45546653209706256,-0.04107528864510263,0.5455832227617043,-0.013623144913418072,0.8627690024800236,-0.444669171787977,-0.09778715447296922,-0.9840028543722682,-0.7197814724774163,0.5492328656564691,0.3865729478490786,0.9060294279206033,-0.4274656683036674,0.7060489877334019,-0.38594158839707665,0.5846720573475902,0.715150753017314,-0.5970239007455065,0.46585132559113374,-0.18843515452973725,0.9407973388139189,-1.2463834784309387,1.557031562545552],\"type\":\"scatter\"},{\"line\":{\"color\":\"rgba(55, 128, 191, 1.0)\",\"dash\":\"solid\",\"shape\":\"linear\",\"width\":1.3},\"mode\":\"lines\",\"name\":\"B\",\"text\":\"\",\"x\":[0,1,2,3,4,5,6,7,8,9,10,11,12,13,14,15,16,17,18,19,20,21,22,23,24,25,26,27,28,29,30,31,32,33,34,35,36,37,38,39,40,41,42,43,44,45,46,47,48,49,50,51,52,53,54,55,56,57,58,59,60,61,62,63,64,65,66,67,68,69,70,71,72,73,74,75,76,77,78,79,80,81,82,83,84,85,86,87,88,89,90,91,92,93,94,95,96,97,98,99],\"y\":[0.8016641080924541,1.0077391146377723,0.27651367544996946,-2.1570213570008927,-1.1235011021677124,0.17510373317808275,0.5739852492901831,0.08400858387755353,-1.7399189233318215,1.373956525773911,-0.6055411343301496,0.07895635184420437,1.9396245569934054,0.21052865131167792,0.8041135995879579,1.2067828700888212,-1.2391501426725224,-0.602365415491375,-1.2116734000900296,-0.5657984205463799,-0.30418317029567005,-1.3047874224393003,-1.9023818194008624,1.2952595792792636,0.10138680285600672,0.0223449098802518,0.25608582492185883,-0.8817831404171913,0.364858694437755,-1.1104434289726777,0.3175327732447648,0.4440791680629179,0.295798249153598,0.17144218397646702,-0.5670235515093524,1.5675401024850084,-0.3154757966663135,-0.9569793691086736,-0.08939617748473268,-1.4138336943563812,-0.715750128405275,0.26616513383692075,-0.7576063158477336,1.0044504867732704,-0.8528844132117523,-1.3137522421554162,-0.6297247932341066,0.6641310484582209,0.6842832590670178,-1.097732442511773,0.7695175485075942,-0.8004055106036331,-1.2334254972160166,-1.3461652044016847,-0.44328078003252724,0.12362524915851832,-0.703900374883289,1.5964916213576874,-0.7175995763374521,0.7303661705616081,1.6433808900162372,-0.6732022934593243,0.39075007107051796,0.7030593293505272,-0.36446992902141634,-0.8641351675878642,-0.8600094939920322,-0.7513060798787412,2.286811969914792,-0.46975880928066727,-1.5697616694093142,-0.2921380197460708,0.727262007763347,0.4960816199155096,0.30461017406051066,-0.44238754745680947,-0.019873063964267003,-0.9791775276148362,0.8333268577557206,-0.5577902793680444,-0.7902334272887995,-1.409128891545519,-0.49896367670798036,-1.098227923147296,-0.16852914853637593,0.37570018520333304,-2.161831239989233,-0.7378821662771905,-0.06571168846656328,0.47600300766597164,0.9217086796711035,-0.5276134738110552,0.19389281217411172,-0.1976527698633932,-1.7029397917737243,-0.18454993343459655,-0.30032143747151385,0.6226966256674825,-0.6119109736503978,-2.241247130842427],\"type\":\"scatter\"},{\"line\":{\"color\":\"rgba(50, 171, 96, 1.0)\",\"dash\":\"solid\",\"shape\":\"linear\",\"width\":1.3},\"mode\":\"lines\",\"name\":\"C\",\"text\":\"\",\"x\":[0,1,2,3,4,5,6,7,8,9,10,11,12,13,14,15,16,17,18,19,20,21,22,23,24,25,26,27,28,29,30,31,32,33,34,35,36,37,38,39,40,41,42,43,44,45,46,47,48,49,50,51,52,53,54,55,56,57,58,59,60,61,62,63,64,65,66,67,68,69,70,71,72,73,74,75,76,77,78,79,80,81,82,83,84,85,86,87,88,89,90,91,92,93,94,95,96,97,98,99],\"y\":[-0.3872323872369992,0.3129896931497061,0.549109784320413,0.24341866874423576,1.499529146175969,1.2787254198445286,0.09732899572249865,0.6786729923835082,0.3200378633283294,0.5394983246081207,1.9304686738992993,-0.1476528422065039,0.20730005663265114,-0.08292020894156982,-1.0332985315410432,0.2910227164489197,-0.6599861700596447,-1.5927522845823798,-0.06913975252968259,-0.5350268297035842,-0.08331731434480327,0.00951634077256817,-0.8740584241386143,-0.2450153374063535,-0.07959487862678238,1.6987821893488655,-0.33441987308935917,-0.5162053018290103,0.7867538063077528,-0.511729361567106,-0.3442187857712442,1.4539410232083054,1.3210571784341893,0.39479043190364904,-2.1444074764988144,-0.17579186871750874,0.9734103167653669,-1.5447888626969593,0.44118731033021363,0.27523186474757166,0.19584184595773688,2.1479956346168163,2.5676586672224286,0.4169684005852465,-0.7905053421090682,0.6059343090399911,1.1718702289760667,-1.4892935685267537,-0.9155580924696599,0.38024870280397105,-0.4477636807416802,0.09620063605372368,0.0746695266655892,-1.6872206649919161,0.7466670151316754,-0.299369659246122,-0.5538294760945928,-0.7433103932079366,-1.2464060855888113,-0.9325474584013793,-0.41615198461661734,-0.5832952182022414,-0.15074930142568585,0.47296418006624735,-0.9547052054771018,1.083298302216257,-1.4824096196587915,-1.122351602702573,0.9302847260988449,0.441320891411173,-0.2833388821399992,-1.2753864362984364,-1.1169841191601397,0.5972396627662147,-0.2491773777751275,-0.18988486380823916,0.8546215215474877,-0.38142398607241634,-1.0945065986319291,0.3142174694812054,-0.7462860924229974,0.29691771845913784,-2.5760037011011914,-0.5331102468132428,-1.1442208420210935,0.7410619807933482,0.16704743929932367,0.9173053003360592,-1.3378054378604043,1.2352164222516753,-2.260111480808333,1.6287248278642656,1.3524792127034155,-0.4904296405112925,-0.9892598998698315,1.6661723261514287,-0.5076306898533299,0.1644388963494178,-0.2723433733772562,0.5829871208447345],\"type\":\"scatter\"},{\"line\":{\"color\":\"rgba(128, 0, 128, 1.0)\",\"dash\":\"solid\",\"shape\":\"linear\",\"width\":1.3},\"mode\":\"lines\",\"name\":\"D\",\"text\":\"\",\"x\":[0,1,2,3,4,5,6,7,8,9,10,11,12,13,14,15,16,17,18,19,20,21,22,23,24,25,26,27,28,29,30,31,32,33,34,35,36,37,38,39,40,41,42,43,44,45,46,47,48,49,50,51,52,53,54,55,56,57,58,59,60,61,62,63,64,65,66,67,68,69,70,71,72,73,74,75,76,77,78,79,80,81,82,83,84,85,86,87,88,89,90,91,92,93,94,95,96,97,98,99],\"y\":[-0.4706922896364643,-0.6393288441504061,0.5575925212870825,-2.1202891520131826,0.7016609126653969,-0.06663561774881703,-0.4973374480135509,-0.590882958594366,2.184216868456072,0.33037161371952095,0.4777632094713535,0.3821948569152667,-1.603506970236447,0.03295152166286881,0.04081459510336229,-1.0542769144183797,0.25051753466921883,1.79220788387074,-2.1640254105521275,0.26545027744208516,-0.023472918994801143,-0.43244261016985147,0.3300305691019167,1.3612832617727721,0.23017392707992243,1.0116251964301215,0.19420287776944709,-1.5681994809354591,0.18423853340915497,-0.6173534845828159,-0.04976064378931739,-0.09499890498586602,0.5999663887957106,0.9470452192499397,0.48158232826549746,-0.975818121808824,1.1789804210928678,0.511991126185782,-0.6445127118571568,0.44639236607138577,-0.5119228999079636,0.3461769490638204,-0.28860962187000627,0.30880752893856117,0.8602920238557571,-1.1065956618682193,1.4281271716163646,1.7281195306020583,-2.070566261701333,-0.6463558608812114,-1.4424887324180486,2.0564826875760485,-0.08467260834805933,-0.8208555681228488,-0.7840923059289396,0.5463398928360392,-1.9147193931015167,-2.0965405121600296,0.8854654915221677,-0.7077143405284566,1.220740051229066,0.41684554242125865,0.4125617805707906,0.09547391990243034,-0.24230781619518113,-0.36889321022938737,0.01572106847202316,0.43561389700725806,0.11144186558321814,-0.6508334551545648,1.018199714126553,0.8714881246496483,-1.5536263117876437,2.235615408287663,0.12156182099911096,0.0745440501953923,1.3531429059771674,0.7934764526588117,2.5958981612081273,1.1486359575895522,-2.3844317905567403,-0.6650930734834832,0.05235770758444297,0.08514327670747696,1.249831995368982,-0.9450238390834802,-0.2639259615069109,-0.52369639655623,0.49020926089127365,0.34420441702195825,0.3041093733430783,0.22057571199250411,0.7505519778911802,-1.2174904593310871,1.056341055422691,1.2792360322150826,-0.5399025492546313,-0.13763862502097546,-2.0187290599712178,-1.9068308822417757],\"type\":\"scatter\"}],                        {\"legend\":{\"bgcolor\":\"#F5F6F9\",\"font\":{\"color\":\"#4D5663\"}},\"paper_bgcolor\":\"#F5F6F9\",\"plot_bgcolor\":\"#F5F6F9\",\"template\":{\"data\":{\"barpolar\":[{\"marker\":{\"line\":{\"color\":\"#E5ECF6\",\"width\":0.5},\"pattern\":{\"fillmode\":\"overlay\",\"size\":10,\"solidity\":0.2}},\"type\":\"barpolar\"}],\"bar\":[{\"error_x\":{\"color\":\"#2a3f5f\"},\"error_y\":{\"color\":\"#2a3f5f\"},\"marker\":{\"line\":{\"color\":\"#E5ECF6\",\"width\":0.5},\"pattern\":{\"fillmode\":\"overlay\",\"size\":10,\"solidity\":0.2}},\"type\":\"bar\"}],\"carpet\":[{\"aaxis\":{\"endlinecolor\":\"#2a3f5f\",\"gridcolor\":\"white\",\"linecolor\":\"white\",\"minorgridcolor\":\"white\",\"startlinecolor\":\"#2a3f5f\"},\"baxis\":{\"endlinecolor\":\"#2a3f5f\",\"gridcolor\":\"white\",\"linecolor\":\"white\",\"minorgridcolor\":\"white\",\"startlinecolor\":\"#2a3f5f\"},\"type\":\"carpet\"}],\"choropleth\":[{\"colorbar\":{\"outlinewidth\":0,\"ticks\":\"\"},\"type\":\"choropleth\"}],\"contourcarpet\":[{\"colorbar\":{\"outlinewidth\":0,\"ticks\":\"\"},\"type\":\"contourcarpet\"}],\"contour\":[{\"colorbar\":{\"outlinewidth\":0,\"ticks\":\"\"},\"colorscale\":[[0.0,\"#0d0887\"],[0.1111111111111111,\"#46039f\"],[0.2222222222222222,\"#7201a8\"],[0.3333333333333333,\"#9c179e\"],[0.4444444444444444,\"#bd3786\"],[0.5555555555555556,\"#d8576b\"],[0.6666666666666666,\"#ed7953\"],[0.7777777777777778,\"#fb9f3a\"],[0.8888888888888888,\"#fdca26\"],[1.0,\"#f0f921\"]],\"type\":\"contour\"}],\"heatmapgl\":[{\"colorbar\":{\"outlinewidth\":0,\"ticks\":\"\"},\"colorscale\":[[0.0,\"#0d0887\"],[0.1111111111111111,\"#46039f\"],[0.2222222222222222,\"#7201a8\"],[0.3333333333333333,\"#9c179e\"],[0.4444444444444444,\"#bd3786\"],[0.5555555555555556,\"#d8576b\"],[0.6666666666666666,\"#ed7953\"],[0.7777777777777778,\"#fb9f3a\"],[0.8888888888888888,\"#fdca26\"],[1.0,\"#f0f921\"]],\"type\":\"heatmapgl\"}],\"heatmap\":[{\"colorbar\":{\"outlinewidth\":0,\"ticks\":\"\"},\"colorscale\":[[0.0,\"#0d0887\"],[0.1111111111111111,\"#46039f\"],[0.2222222222222222,\"#7201a8\"],[0.3333333333333333,\"#9c179e\"],[0.4444444444444444,\"#bd3786\"],[0.5555555555555556,\"#d8576b\"],[0.6666666666666666,\"#ed7953\"],[0.7777777777777778,\"#fb9f3a\"],[0.8888888888888888,\"#fdca26\"],[1.0,\"#f0f921\"]],\"type\":\"heatmap\"}],\"histogram2dcontour\":[{\"colorbar\":{\"outlinewidth\":0,\"ticks\":\"\"},\"colorscale\":[[0.0,\"#0d0887\"],[0.1111111111111111,\"#46039f\"],[0.2222222222222222,\"#7201a8\"],[0.3333333333333333,\"#9c179e\"],[0.4444444444444444,\"#bd3786\"],[0.5555555555555556,\"#d8576b\"],[0.6666666666666666,\"#ed7953\"],[0.7777777777777778,\"#fb9f3a\"],[0.8888888888888888,\"#fdca26\"],[1.0,\"#f0f921\"]],\"type\":\"histogram2dcontour\"}],\"histogram2d\":[{\"colorbar\":{\"outlinewidth\":0,\"ticks\":\"\"},\"colorscale\":[[0.0,\"#0d0887\"],[0.1111111111111111,\"#46039f\"],[0.2222222222222222,\"#7201a8\"],[0.3333333333333333,\"#9c179e\"],[0.4444444444444444,\"#bd3786\"],[0.5555555555555556,\"#d8576b\"],[0.6666666666666666,\"#ed7953\"],[0.7777777777777778,\"#fb9f3a\"],[0.8888888888888888,\"#fdca26\"],[1.0,\"#f0f921\"]],\"type\":\"histogram2d\"}],\"histogram\":[{\"marker\":{\"pattern\":{\"fillmode\":\"overlay\",\"size\":10,\"solidity\":0.2}},\"type\":\"histogram\"}],\"mesh3d\":[{\"colorbar\":{\"outlinewidth\":0,\"ticks\":\"\"},\"type\":\"mesh3d\"}],\"parcoords\":[{\"line\":{\"colorbar\":{\"outlinewidth\":0,\"ticks\":\"\"}},\"type\":\"parcoords\"}],\"pie\":[{\"automargin\":true,\"type\":\"pie\"}],\"scatter3d\":[{\"line\":{\"colorbar\":{\"outlinewidth\":0,\"ticks\":\"\"}},\"marker\":{\"colorbar\":{\"outlinewidth\":0,\"ticks\":\"\"}},\"type\":\"scatter3d\"}],\"scattercarpet\":[{\"marker\":{\"colorbar\":{\"outlinewidth\":0,\"ticks\":\"\"}},\"type\":\"scattercarpet\"}],\"scattergeo\":[{\"marker\":{\"colorbar\":{\"outlinewidth\":0,\"ticks\":\"\"}},\"type\":\"scattergeo\"}],\"scattergl\":[{\"marker\":{\"colorbar\":{\"outlinewidth\":0,\"ticks\":\"\"}},\"type\":\"scattergl\"}],\"scattermapbox\":[{\"marker\":{\"colorbar\":{\"outlinewidth\":0,\"ticks\":\"\"}},\"type\":\"scattermapbox\"}],\"scatterpolargl\":[{\"marker\":{\"colorbar\":{\"outlinewidth\":0,\"ticks\":\"\"}},\"type\":\"scatterpolargl\"}],\"scatterpolar\":[{\"marker\":{\"colorbar\":{\"outlinewidth\":0,\"ticks\":\"\"}},\"type\":\"scatterpolar\"}],\"scatter\":[{\"marker\":{\"colorbar\":{\"outlinewidth\":0,\"ticks\":\"\"}},\"type\":\"scatter\"}],\"scatterternary\":[{\"marker\":{\"colorbar\":{\"outlinewidth\":0,\"ticks\":\"\"}},\"type\":\"scatterternary\"}],\"surface\":[{\"colorbar\":{\"outlinewidth\":0,\"ticks\":\"\"},\"colorscale\":[[0.0,\"#0d0887\"],[0.1111111111111111,\"#46039f\"],[0.2222222222222222,\"#7201a8\"],[0.3333333333333333,\"#9c179e\"],[0.4444444444444444,\"#bd3786\"],[0.5555555555555556,\"#d8576b\"],[0.6666666666666666,\"#ed7953\"],[0.7777777777777778,\"#fb9f3a\"],[0.8888888888888888,\"#fdca26\"],[1.0,\"#f0f921\"]],\"type\":\"surface\"}],\"table\":[{\"cells\":{\"fill\":{\"color\":\"#EBF0F8\"},\"line\":{\"color\":\"white\"}},\"header\":{\"fill\":{\"color\":\"#C8D4E3\"},\"line\":{\"color\":\"white\"}},\"type\":\"table\"}]},\"layout\":{\"annotationdefaults\":{\"arrowcolor\":\"#2a3f5f\",\"arrowhead\":0,\"arrowwidth\":1},\"autotypenumbers\":\"strict\",\"coloraxis\":{\"colorbar\":{\"outlinewidth\":0,\"ticks\":\"\"}},\"colorscale\":{\"diverging\":[[0,\"#8e0152\"],[0.1,\"#c51b7d\"],[0.2,\"#de77ae\"],[0.3,\"#f1b6da\"],[0.4,\"#fde0ef\"],[0.5,\"#f7f7f7\"],[0.6,\"#e6f5d0\"],[0.7,\"#b8e186\"],[0.8,\"#7fbc41\"],[0.9,\"#4d9221\"],[1,\"#276419\"]],\"sequential\":[[0.0,\"#0d0887\"],[0.1111111111111111,\"#46039f\"],[0.2222222222222222,\"#7201a8\"],[0.3333333333333333,\"#9c179e\"],[0.4444444444444444,\"#bd3786\"],[0.5555555555555556,\"#d8576b\"],[0.6666666666666666,\"#ed7953\"],[0.7777777777777778,\"#fb9f3a\"],[0.8888888888888888,\"#fdca26\"],[1.0,\"#f0f921\"]],\"sequentialminus\":[[0.0,\"#0d0887\"],[0.1111111111111111,\"#46039f\"],[0.2222222222222222,\"#7201a8\"],[0.3333333333333333,\"#9c179e\"],[0.4444444444444444,\"#bd3786\"],[0.5555555555555556,\"#d8576b\"],[0.6666666666666666,\"#ed7953\"],[0.7777777777777778,\"#fb9f3a\"],[0.8888888888888888,\"#fdca26\"],[1.0,\"#f0f921\"]]},\"colorway\":[\"#636efa\",\"#EF553B\",\"#00cc96\",\"#ab63fa\",\"#FFA15A\",\"#19d3f3\",\"#FF6692\",\"#B6E880\",\"#FF97FF\",\"#FECB52\"],\"font\":{\"color\":\"#2a3f5f\"},\"geo\":{\"bgcolor\":\"white\",\"lakecolor\":\"white\",\"landcolor\":\"#E5ECF6\",\"showlakes\":true,\"showland\":true,\"subunitcolor\":\"white\"},\"hoverlabel\":{\"align\":\"left\"},\"hovermode\":\"closest\",\"mapbox\":{\"style\":\"light\"},\"paper_bgcolor\":\"white\",\"plot_bgcolor\":\"#E5ECF6\",\"polar\":{\"angularaxis\":{\"gridcolor\":\"white\",\"linecolor\":\"white\",\"ticks\":\"\"},\"bgcolor\":\"#E5ECF6\",\"radialaxis\":{\"gridcolor\":\"white\",\"linecolor\":\"white\",\"ticks\":\"\"}},\"scene\":{\"xaxis\":{\"backgroundcolor\":\"#E5ECF6\",\"gridcolor\":\"white\",\"gridwidth\":2,\"linecolor\":\"white\",\"showbackground\":true,\"ticks\":\"\",\"zerolinecolor\":\"white\"},\"yaxis\":{\"backgroundcolor\":\"#E5ECF6\",\"gridcolor\":\"white\",\"gridwidth\":2,\"linecolor\":\"white\",\"showbackground\":true,\"ticks\":\"\",\"zerolinecolor\":\"white\"},\"zaxis\":{\"backgroundcolor\":\"#E5ECF6\",\"gridcolor\":\"white\",\"gridwidth\":2,\"linecolor\":\"white\",\"showbackground\":true,\"ticks\":\"\",\"zerolinecolor\":\"white\"}},\"shapedefaults\":{\"line\":{\"color\":\"#2a3f5f\"}},\"ternary\":{\"aaxis\":{\"gridcolor\":\"white\",\"linecolor\":\"white\",\"ticks\":\"\"},\"baxis\":{\"gridcolor\":\"white\",\"linecolor\":\"white\",\"ticks\":\"\"},\"bgcolor\":\"#E5ECF6\",\"caxis\":{\"gridcolor\":\"white\",\"linecolor\":\"white\",\"ticks\":\"\"}},\"title\":{\"x\":0.05},\"xaxis\":{\"automargin\":true,\"gridcolor\":\"white\",\"linecolor\":\"white\",\"ticks\":\"\",\"title\":{\"standoff\":15},\"zerolinecolor\":\"white\",\"zerolinewidth\":2},\"yaxis\":{\"automargin\":true,\"gridcolor\":\"white\",\"linecolor\":\"white\",\"ticks\":\"\",\"title\":{\"standoff\":15},\"zerolinecolor\":\"white\",\"zerolinewidth\":2}}},\"title\":{\"font\":{\"color\":\"#4D5663\"}},\"xaxis\":{\"gridcolor\":\"#E1E5ED\",\"showgrid\":true,\"tickfont\":{\"color\":\"#4D5663\"},\"title\":{\"font\":{\"color\":\"#4D5663\"},\"text\":\"\"},\"zerolinecolor\":\"#E1E5ED\"},\"yaxis\":{\"gridcolor\":\"#E1E5ED\",\"showgrid\":true,\"tickfont\":{\"color\":\"#4D5663\"},\"title\":{\"font\":{\"color\":\"#4D5663\"},\"text\":\"\"},\"zerolinecolor\":\"#E1E5ED\"}},                        {\"showLink\": true, \"linkText\": \"Export to plot.ly\", \"plotlyServerURL\": \"https://plot.ly\", \"responsive\": true}                    ).then(function(){\n",
       "                            \n",
       "var gd = document.getElementById('1d041c94-7618-47fd-9579-f63bdcd21c8d');\n",
       "var x = new MutationObserver(function (mutations, observer) {{\n",
       "        var display = window.getComputedStyle(gd).display;\n",
       "        if (!display || display === 'none') {{\n",
       "            console.log([gd, 'removed!']);\n",
       "            Plotly.purge(gd);\n",
       "            observer.disconnect();\n",
       "        }}\n",
       "}});\n",
       "\n",
       "// Listen for the removal of the full notebook cells\n",
       "var notebookContainer = gd.closest('#notebook-container');\n",
       "if (notebookContainer) {{\n",
       "    x.observe(notebookContainer, {childList: true});\n",
       "}}\n",
       "\n",
       "// Listen for the clearing of the current output cell\n",
       "var outputEl = gd.closest('.output');\n",
       "if (outputEl) {{\n",
       "    x.observe(outputEl, {childList: true});\n",
       "}}\n",
       "\n",
       "                        })                };                });            </script>        </div>"
      ]
     },
     "metadata": {},
     "output_type": "display_data"
    }
   ],
   "source": [
    "df1.iplot()"
   ]
  },
  {
   "cell_type": "code",
   "execution_count": 25,
   "metadata": {},
   "outputs": [
    {
     "data": {
      "application/vnd.plotly.v1+json": {
       "config": {
        "linkText": "Export to plot.ly",
        "plotlyServerURL": "https://plot.ly",
        "showLink": true
       },
       "data": [
        {
         "line": {
          "color": "rgba(255, 153, 51, 1.0)",
          "dash": "solid",
          "shape": "linear",
          "width": 1.3
         },
         "mode": "lines",
         "name": "B",
         "text": "",
         "type": "scatter",
         "x": [
          0.5743707795773935,
          0.7705130471123088,
          -1.1576336254777675,
          -0.8271035026452863,
          0.7425917665606087,
          -0.5394750578829458,
          0.5097192595359479,
          0.5432487081145778,
          -0.017946748455862877,
          0.19581581905947343,
          -1.437598250743915,
          2.218752439044428,
          1.3735761727944185,
          0.4110662686393877,
          -1.2762577922869192,
          1.052973143565982,
          1.4455702341590444,
          -0.3948389358880354,
          0.7885045139246953,
          -1.048373347634528,
          1.7428723409947369,
          0.5095898223142886,
          -0.40242338927638993,
          0.7895293899801388,
          -1.1684034943003128,
          -0.04221538280344773,
          0.008138638768228417,
          -0.4886444367606532,
          0.372696913991112,
          0.012203537415463457,
          1.3219400832950743,
          0.4426993414749163,
          0.6954759067905433,
          1.26173184725225,
          0.6031545937641348,
          0.8314386262457409,
          -1.9414446443208866,
          0.44729577583315866,
          -0.1519969814341827,
          1.4347967567547704,
          0.4231389277658858,
          -0.3464188794612597,
          -1.1560117204001936,
          -0.3371028319649269,
          0.9280885194745121,
          -0.33478270805751936,
          2.501829705680731,
          0.6545880808894924,
          -0.3253344899082747,
          1.0445833650807033,
          0.6378047610339664,
          -2.282408309947842,
          -0.9940910712619948,
          1.593352030366997,
          0.9796354322121585,
          -0.14555141905550475,
          1.938036037209001,
          0.4868173620202219,
          0.055745582967331925,
          0.8956207552321556,
          0.11210772463177247,
          -0.33800571080152314,
          -1.3960145152016388,
          2.1771435310890195,
          -0.21470397682343476,
          0.4522706930495062,
          0.9164948956794404,
          0.8686559643236597,
          -0.781959644239122,
          0.858071168774533,
          1.0682392817882957,
          -0.8544402572414872,
          -0.10900933498317333,
          -0.6310301425552112,
          -0.7648997140020927,
          1.150003153635081,
          1.0797631083191377,
          -0.45546653209706256,
          -0.04107528864510263,
          0.5455832227617043,
          -0.013623144913418072,
          0.8627690024800236,
          -0.444669171787977,
          -0.09778715447296922,
          -0.9840028543722682,
          -0.7197814724774163,
          0.5492328656564691,
          0.3865729478490786,
          0.9060294279206033,
          -0.4274656683036674,
          0.7060489877334019,
          -0.38594158839707665,
          0.5846720573475902,
          0.715150753017314,
          -0.5970239007455065,
          0.46585132559113374,
          -0.18843515452973725,
          0.9407973388139189,
          -1.2463834784309387,
          1.557031562545552
         ],
         "y": [
          0.8016641080924541,
          1.0077391146377723,
          0.27651367544996946,
          -2.1570213570008927,
          -1.1235011021677124,
          0.17510373317808275,
          0.5739852492901831,
          0.08400858387755353,
          -1.7399189233318215,
          1.373956525773911,
          -0.6055411343301496,
          0.07895635184420437,
          1.9396245569934054,
          0.21052865131167792,
          0.8041135995879579,
          1.2067828700888212,
          -1.2391501426725224,
          -0.602365415491375,
          -1.2116734000900296,
          -0.5657984205463799,
          -0.30418317029567005,
          -1.3047874224393003,
          -1.9023818194008624,
          1.2952595792792636,
          0.10138680285600672,
          0.0223449098802518,
          0.25608582492185883,
          -0.8817831404171913,
          0.364858694437755,
          -1.1104434289726777,
          0.3175327732447648,
          0.4440791680629179,
          0.295798249153598,
          0.17144218397646702,
          -0.5670235515093524,
          1.5675401024850084,
          -0.3154757966663135,
          -0.9569793691086736,
          -0.08939617748473268,
          -1.4138336943563812,
          -0.715750128405275,
          0.26616513383692075,
          -0.7576063158477336,
          1.0044504867732704,
          -0.8528844132117523,
          -1.3137522421554162,
          -0.6297247932341066,
          0.6641310484582209,
          0.6842832590670178,
          -1.097732442511773,
          0.7695175485075942,
          -0.8004055106036331,
          -1.2334254972160166,
          -1.3461652044016847,
          -0.44328078003252724,
          0.12362524915851832,
          -0.703900374883289,
          1.5964916213576874,
          -0.7175995763374521,
          0.7303661705616081,
          1.6433808900162372,
          -0.6732022934593243,
          0.39075007107051796,
          0.7030593293505272,
          -0.36446992902141634,
          -0.8641351675878642,
          -0.8600094939920322,
          -0.7513060798787412,
          2.286811969914792,
          -0.46975880928066727,
          -1.5697616694093142,
          -0.2921380197460708,
          0.727262007763347,
          0.4960816199155096,
          0.30461017406051066,
          -0.44238754745680947,
          -0.019873063964267003,
          -0.9791775276148362,
          0.8333268577557206,
          -0.5577902793680444,
          -0.7902334272887995,
          -1.409128891545519,
          -0.49896367670798036,
          -1.098227923147296,
          -0.16852914853637593,
          0.37570018520333304,
          -2.161831239989233,
          -0.7378821662771905,
          -0.06571168846656328,
          0.47600300766597164,
          0.9217086796711035,
          -0.5276134738110552,
          0.19389281217411172,
          -0.1976527698633932,
          -1.7029397917737243,
          -0.18454993343459655,
          -0.30032143747151385,
          0.6226966256674825,
          -0.6119109736503978,
          -2.241247130842427
         ]
        }
       ],
       "layout": {
        "legend": {
         "bgcolor": "#F5F6F9",
         "font": {
          "color": "#4D5663"
         }
        },
        "paper_bgcolor": "#F5F6F9",
        "plot_bgcolor": "#F5F6F9",
        "template": {
         "data": {
          "bar": [
           {
            "error_x": {
             "color": "#2a3f5f"
            },
            "error_y": {
             "color": "#2a3f5f"
            },
            "marker": {
             "line": {
              "color": "#E5ECF6",
              "width": 0.5
             },
             "pattern": {
              "fillmode": "overlay",
              "size": 10,
              "solidity": 0.2
             }
            },
            "type": "bar"
           }
          ],
          "barpolar": [
           {
            "marker": {
             "line": {
              "color": "#E5ECF6",
              "width": 0.5
             },
             "pattern": {
              "fillmode": "overlay",
              "size": 10,
              "solidity": 0.2
             }
            },
            "type": "barpolar"
           }
          ],
          "carpet": [
           {
            "aaxis": {
             "endlinecolor": "#2a3f5f",
             "gridcolor": "white",
             "linecolor": "white",
             "minorgridcolor": "white",
             "startlinecolor": "#2a3f5f"
            },
            "baxis": {
             "endlinecolor": "#2a3f5f",
             "gridcolor": "white",
             "linecolor": "white",
             "minorgridcolor": "white",
             "startlinecolor": "#2a3f5f"
            },
            "type": "carpet"
           }
          ],
          "choropleth": [
           {
            "colorbar": {
             "outlinewidth": 0,
             "ticks": ""
            },
            "type": "choropleth"
           }
          ],
          "contour": [
           {
            "colorbar": {
             "outlinewidth": 0,
             "ticks": ""
            },
            "colorscale": [
             [
              0,
              "#0d0887"
             ],
             [
              0.1111111111111111,
              "#46039f"
             ],
             [
              0.2222222222222222,
              "#7201a8"
             ],
             [
              0.3333333333333333,
              "#9c179e"
             ],
             [
              0.4444444444444444,
              "#bd3786"
             ],
             [
              0.5555555555555556,
              "#d8576b"
             ],
             [
              0.6666666666666666,
              "#ed7953"
             ],
             [
              0.7777777777777778,
              "#fb9f3a"
             ],
             [
              0.8888888888888888,
              "#fdca26"
             ],
             [
              1,
              "#f0f921"
             ]
            ],
            "type": "contour"
           }
          ],
          "contourcarpet": [
           {
            "colorbar": {
             "outlinewidth": 0,
             "ticks": ""
            },
            "type": "contourcarpet"
           }
          ],
          "heatmap": [
           {
            "colorbar": {
             "outlinewidth": 0,
             "ticks": ""
            },
            "colorscale": [
             [
              0,
              "#0d0887"
             ],
             [
              0.1111111111111111,
              "#46039f"
             ],
             [
              0.2222222222222222,
              "#7201a8"
             ],
             [
              0.3333333333333333,
              "#9c179e"
             ],
             [
              0.4444444444444444,
              "#bd3786"
             ],
             [
              0.5555555555555556,
              "#d8576b"
             ],
             [
              0.6666666666666666,
              "#ed7953"
             ],
             [
              0.7777777777777778,
              "#fb9f3a"
             ],
             [
              0.8888888888888888,
              "#fdca26"
             ],
             [
              1,
              "#f0f921"
             ]
            ],
            "type": "heatmap"
           }
          ],
          "heatmapgl": [
           {
            "colorbar": {
             "outlinewidth": 0,
             "ticks": ""
            },
            "colorscale": [
             [
              0,
              "#0d0887"
             ],
             [
              0.1111111111111111,
              "#46039f"
             ],
             [
              0.2222222222222222,
              "#7201a8"
             ],
             [
              0.3333333333333333,
              "#9c179e"
             ],
             [
              0.4444444444444444,
              "#bd3786"
             ],
             [
              0.5555555555555556,
              "#d8576b"
             ],
             [
              0.6666666666666666,
              "#ed7953"
             ],
             [
              0.7777777777777778,
              "#fb9f3a"
             ],
             [
              0.8888888888888888,
              "#fdca26"
             ],
             [
              1,
              "#f0f921"
             ]
            ],
            "type": "heatmapgl"
           }
          ],
          "histogram": [
           {
            "marker": {
             "pattern": {
              "fillmode": "overlay",
              "size": 10,
              "solidity": 0.2
             }
            },
            "type": "histogram"
           }
          ],
          "histogram2d": [
           {
            "colorbar": {
             "outlinewidth": 0,
             "ticks": ""
            },
            "colorscale": [
             [
              0,
              "#0d0887"
             ],
             [
              0.1111111111111111,
              "#46039f"
             ],
             [
              0.2222222222222222,
              "#7201a8"
             ],
             [
              0.3333333333333333,
              "#9c179e"
             ],
             [
              0.4444444444444444,
              "#bd3786"
             ],
             [
              0.5555555555555556,
              "#d8576b"
             ],
             [
              0.6666666666666666,
              "#ed7953"
             ],
             [
              0.7777777777777778,
              "#fb9f3a"
             ],
             [
              0.8888888888888888,
              "#fdca26"
             ],
             [
              1,
              "#f0f921"
             ]
            ],
            "type": "histogram2d"
           }
          ],
          "histogram2dcontour": [
           {
            "colorbar": {
             "outlinewidth": 0,
             "ticks": ""
            },
            "colorscale": [
             [
              0,
              "#0d0887"
             ],
             [
              0.1111111111111111,
              "#46039f"
             ],
             [
              0.2222222222222222,
              "#7201a8"
             ],
             [
              0.3333333333333333,
              "#9c179e"
             ],
             [
              0.4444444444444444,
              "#bd3786"
             ],
             [
              0.5555555555555556,
              "#d8576b"
             ],
             [
              0.6666666666666666,
              "#ed7953"
             ],
             [
              0.7777777777777778,
              "#fb9f3a"
             ],
             [
              0.8888888888888888,
              "#fdca26"
             ],
             [
              1,
              "#f0f921"
             ]
            ],
            "type": "histogram2dcontour"
           }
          ],
          "mesh3d": [
           {
            "colorbar": {
             "outlinewidth": 0,
             "ticks": ""
            },
            "type": "mesh3d"
           }
          ],
          "parcoords": [
           {
            "line": {
             "colorbar": {
              "outlinewidth": 0,
              "ticks": ""
             }
            },
            "type": "parcoords"
           }
          ],
          "pie": [
           {
            "automargin": true,
            "type": "pie"
           }
          ],
          "scatter": [
           {
            "marker": {
             "colorbar": {
              "outlinewidth": 0,
              "ticks": ""
             }
            },
            "type": "scatter"
           }
          ],
          "scatter3d": [
           {
            "line": {
             "colorbar": {
              "outlinewidth": 0,
              "ticks": ""
             }
            },
            "marker": {
             "colorbar": {
              "outlinewidth": 0,
              "ticks": ""
             }
            },
            "type": "scatter3d"
           }
          ],
          "scattercarpet": [
           {
            "marker": {
             "colorbar": {
              "outlinewidth": 0,
              "ticks": ""
             }
            },
            "type": "scattercarpet"
           }
          ],
          "scattergeo": [
           {
            "marker": {
             "colorbar": {
              "outlinewidth": 0,
              "ticks": ""
             }
            },
            "type": "scattergeo"
           }
          ],
          "scattergl": [
           {
            "marker": {
             "colorbar": {
              "outlinewidth": 0,
              "ticks": ""
             }
            },
            "type": "scattergl"
           }
          ],
          "scattermapbox": [
           {
            "marker": {
             "colorbar": {
              "outlinewidth": 0,
              "ticks": ""
             }
            },
            "type": "scattermapbox"
           }
          ],
          "scatterpolar": [
           {
            "marker": {
             "colorbar": {
              "outlinewidth": 0,
              "ticks": ""
             }
            },
            "type": "scatterpolar"
           }
          ],
          "scatterpolargl": [
           {
            "marker": {
             "colorbar": {
              "outlinewidth": 0,
              "ticks": ""
             }
            },
            "type": "scatterpolargl"
           }
          ],
          "scatterternary": [
           {
            "marker": {
             "colorbar": {
              "outlinewidth": 0,
              "ticks": ""
             }
            },
            "type": "scatterternary"
           }
          ],
          "surface": [
           {
            "colorbar": {
             "outlinewidth": 0,
             "ticks": ""
            },
            "colorscale": [
             [
              0,
              "#0d0887"
             ],
             [
              0.1111111111111111,
              "#46039f"
             ],
             [
              0.2222222222222222,
              "#7201a8"
             ],
             [
              0.3333333333333333,
              "#9c179e"
             ],
             [
              0.4444444444444444,
              "#bd3786"
             ],
             [
              0.5555555555555556,
              "#d8576b"
             ],
             [
              0.6666666666666666,
              "#ed7953"
             ],
             [
              0.7777777777777778,
              "#fb9f3a"
             ],
             [
              0.8888888888888888,
              "#fdca26"
             ],
             [
              1,
              "#f0f921"
             ]
            ],
            "type": "surface"
           }
          ],
          "table": [
           {
            "cells": {
             "fill": {
              "color": "#EBF0F8"
             },
             "line": {
              "color": "white"
             }
            },
            "header": {
             "fill": {
              "color": "#C8D4E3"
             },
             "line": {
              "color": "white"
             }
            },
            "type": "table"
           }
          ]
         },
         "layout": {
          "annotationdefaults": {
           "arrowcolor": "#2a3f5f",
           "arrowhead": 0,
           "arrowwidth": 1
          },
          "autotypenumbers": "strict",
          "coloraxis": {
           "colorbar": {
            "outlinewidth": 0,
            "ticks": ""
           }
          },
          "colorscale": {
           "diverging": [
            [
             0,
             "#8e0152"
            ],
            [
             0.1,
             "#c51b7d"
            ],
            [
             0.2,
             "#de77ae"
            ],
            [
             0.3,
             "#f1b6da"
            ],
            [
             0.4,
             "#fde0ef"
            ],
            [
             0.5,
             "#f7f7f7"
            ],
            [
             0.6,
             "#e6f5d0"
            ],
            [
             0.7,
             "#b8e186"
            ],
            [
             0.8,
             "#7fbc41"
            ],
            [
             0.9,
             "#4d9221"
            ],
            [
             1,
             "#276419"
            ]
           ],
           "sequential": [
            [
             0,
             "#0d0887"
            ],
            [
             0.1111111111111111,
             "#46039f"
            ],
            [
             0.2222222222222222,
             "#7201a8"
            ],
            [
             0.3333333333333333,
             "#9c179e"
            ],
            [
             0.4444444444444444,
             "#bd3786"
            ],
            [
             0.5555555555555556,
             "#d8576b"
            ],
            [
             0.6666666666666666,
             "#ed7953"
            ],
            [
             0.7777777777777778,
             "#fb9f3a"
            ],
            [
             0.8888888888888888,
             "#fdca26"
            ],
            [
             1,
             "#f0f921"
            ]
           ],
           "sequentialminus": [
            [
             0,
             "#0d0887"
            ],
            [
             0.1111111111111111,
             "#46039f"
            ],
            [
             0.2222222222222222,
             "#7201a8"
            ],
            [
             0.3333333333333333,
             "#9c179e"
            ],
            [
             0.4444444444444444,
             "#bd3786"
            ],
            [
             0.5555555555555556,
             "#d8576b"
            ],
            [
             0.6666666666666666,
             "#ed7953"
            ],
            [
             0.7777777777777778,
             "#fb9f3a"
            ],
            [
             0.8888888888888888,
             "#fdca26"
            ],
            [
             1,
             "#f0f921"
            ]
           ]
          },
          "colorway": [
           "#636efa",
           "#EF553B",
           "#00cc96",
           "#ab63fa",
           "#FFA15A",
           "#19d3f3",
           "#FF6692",
           "#B6E880",
           "#FF97FF",
           "#FECB52"
          ],
          "font": {
           "color": "#2a3f5f"
          },
          "geo": {
           "bgcolor": "white",
           "lakecolor": "white",
           "landcolor": "#E5ECF6",
           "showlakes": true,
           "showland": true,
           "subunitcolor": "white"
          },
          "hoverlabel": {
           "align": "left"
          },
          "hovermode": "closest",
          "mapbox": {
           "style": "light"
          },
          "paper_bgcolor": "white",
          "plot_bgcolor": "#E5ECF6",
          "polar": {
           "angularaxis": {
            "gridcolor": "white",
            "linecolor": "white",
            "ticks": ""
           },
           "bgcolor": "#E5ECF6",
           "radialaxis": {
            "gridcolor": "white",
            "linecolor": "white",
            "ticks": ""
           }
          },
          "scene": {
           "xaxis": {
            "backgroundcolor": "#E5ECF6",
            "gridcolor": "white",
            "gridwidth": 2,
            "linecolor": "white",
            "showbackground": true,
            "ticks": "",
            "zerolinecolor": "white"
           },
           "yaxis": {
            "backgroundcolor": "#E5ECF6",
            "gridcolor": "white",
            "gridwidth": 2,
            "linecolor": "white",
            "showbackground": true,
            "ticks": "",
            "zerolinecolor": "white"
           },
           "zaxis": {
            "backgroundcolor": "#E5ECF6",
            "gridcolor": "white",
            "gridwidth": 2,
            "linecolor": "white",
            "showbackground": true,
            "ticks": "",
            "zerolinecolor": "white"
           }
          },
          "shapedefaults": {
           "line": {
            "color": "#2a3f5f"
           }
          },
          "ternary": {
           "aaxis": {
            "gridcolor": "white",
            "linecolor": "white",
            "ticks": ""
           },
           "baxis": {
            "gridcolor": "white",
            "linecolor": "white",
            "ticks": ""
           },
           "bgcolor": "#E5ECF6",
           "caxis": {
            "gridcolor": "white",
            "linecolor": "white",
            "ticks": ""
           }
          },
          "title": {
           "x": 0.05
          },
          "xaxis": {
           "automargin": true,
           "gridcolor": "white",
           "linecolor": "white",
           "ticks": "",
           "title": {
            "standoff": 15
           },
           "zerolinecolor": "white",
           "zerolinewidth": 2
          },
          "yaxis": {
           "automargin": true,
           "gridcolor": "white",
           "linecolor": "white",
           "ticks": "",
           "title": {
            "standoff": 15
           },
           "zerolinecolor": "white",
           "zerolinewidth": 2
          }
         }
        },
        "title": {
         "font": {
          "color": "#4D5663"
         }
        },
        "xaxis": {
         "gridcolor": "#E1E5ED",
         "showgrid": true,
         "tickfont": {
          "color": "#4D5663"
         },
         "title": {
          "font": {
           "color": "#4D5663"
          },
          "text": ""
         },
         "zerolinecolor": "#E1E5ED"
        },
        "yaxis": {
         "gridcolor": "#E1E5ED",
         "showgrid": true,
         "tickfont": {
          "color": "#4D5663"
         },
         "title": {
          "font": {
           "color": "#4D5663"
          },
          "text": ""
         },
         "zerolinecolor": "#E1E5ED"
        }
       }
      },
      "text/html": [
       "<div>                            <div id=\"1891ca39-fbd9-49fc-bae9-c4ef3280f0c1\" class=\"plotly-graph-div\" style=\"height:525px; width:100%;\"></div>            <script type=\"text/javascript\">                require([\"plotly\"], function(Plotly) {                    window.PLOTLYENV=window.PLOTLYENV || {};\n",
       "                    window.PLOTLYENV.BASE_URL='https://plot.ly';                                    if (document.getElementById(\"1891ca39-fbd9-49fc-bae9-c4ef3280f0c1\")) {                    Plotly.newPlot(                        \"1891ca39-fbd9-49fc-bae9-c4ef3280f0c1\",                        [{\"line\":{\"color\":\"rgba(255, 153, 51, 1.0)\",\"dash\":\"solid\",\"shape\":\"linear\",\"width\":1.3},\"mode\":\"lines\",\"name\":\"B\",\"text\":\"\",\"x\":[0.5743707795773935,0.7705130471123088,-1.1576336254777675,-0.8271035026452863,0.7425917665606087,-0.5394750578829458,0.5097192595359479,0.5432487081145778,-0.017946748455862877,0.19581581905947343,-1.437598250743915,2.218752439044428,1.3735761727944185,0.4110662686393877,-1.2762577922869192,1.052973143565982,1.4455702341590444,-0.3948389358880354,0.7885045139246953,-1.048373347634528,1.7428723409947369,0.5095898223142886,-0.40242338927638993,0.7895293899801388,-1.1684034943003128,-0.04221538280344773,0.008138638768228417,-0.4886444367606532,0.372696913991112,0.012203537415463457,1.3219400832950743,0.4426993414749163,0.6954759067905433,1.26173184725225,0.6031545937641348,0.8314386262457409,-1.9414446443208866,0.44729577583315866,-0.1519969814341827,1.4347967567547704,0.4231389277658858,-0.3464188794612597,-1.1560117204001936,-0.3371028319649269,0.9280885194745121,-0.33478270805751936,2.501829705680731,0.6545880808894924,-0.3253344899082747,1.0445833650807033,0.6378047610339664,-2.282408309947842,-0.9940910712619948,1.593352030366997,0.9796354322121585,-0.14555141905550475,1.938036037209001,0.4868173620202219,0.055745582967331925,0.8956207552321556,0.11210772463177247,-0.33800571080152314,-1.3960145152016388,2.1771435310890195,-0.21470397682343476,0.4522706930495062,0.9164948956794404,0.8686559643236597,-0.781959644239122,0.858071168774533,1.0682392817882957,-0.8544402572414872,-0.10900933498317333,-0.6310301425552112,-0.7648997140020927,1.150003153635081,1.0797631083191377,-0.45546653209706256,-0.04107528864510263,0.5455832227617043,-0.013623144913418072,0.8627690024800236,-0.444669171787977,-0.09778715447296922,-0.9840028543722682,-0.7197814724774163,0.5492328656564691,0.3865729478490786,0.9060294279206033,-0.4274656683036674,0.7060489877334019,-0.38594158839707665,0.5846720573475902,0.715150753017314,-0.5970239007455065,0.46585132559113374,-0.18843515452973725,0.9407973388139189,-1.2463834784309387,1.557031562545552],\"y\":[0.8016641080924541,1.0077391146377723,0.27651367544996946,-2.1570213570008927,-1.1235011021677124,0.17510373317808275,0.5739852492901831,0.08400858387755353,-1.7399189233318215,1.373956525773911,-0.6055411343301496,0.07895635184420437,1.9396245569934054,0.21052865131167792,0.8041135995879579,1.2067828700888212,-1.2391501426725224,-0.602365415491375,-1.2116734000900296,-0.5657984205463799,-0.30418317029567005,-1.3047874224393003,-1.9023818194008624,1.2952595792792636,0.10138680285600672,0.0223449098802518,0.25608582492185883,-0.8817831404171913,0.364858694437755,-1.1104434289726777,0.3175327732447648,0.4440791680629179,0.295798249153598,0.17144218397646702,-0.5670235515093524,1.5675401024850084,-0.3154757966663135,-0.9569793691086736,-0.08939617748473268,-1.4138336943563812,-0.715750128405275,0.26616513383692075,-0.7576063158477336,1.0044504867732704,-0.8528844132117523,-1.3137522421554162,-0.6297247932341066,0.6641310484582209,0.6842832590670178,-1.097732442511773,0.7695175485075942,-0.8004055106036331,-1.2334254972160166,-1.3461652044016847,-0.44328078003252724,0.12362524915851832,-0.703900374883289,1.5964916213576874,-0.7175995763374521,0.7303661705616081,1.6433808900162372,-0.6732022934593243,0.39075007107051796,0.7030593293505272,-0.36446992902141634,-0.8641351675878642,-0.8600094939920322,-0.7513060798787412,2.286811969914792,-0.46975880928066727,-1.5697616694093142,-0.2921380197460708,0.727262007763347,0.4960816199155096,0.30461017406051066,-0.44238754745680947,-0.019873063964267003,-0.9791775276148362,0.8333268577557206,-0.5577902793680444,-0.7902334272887995,-1.409128891545519,-0.49896367670798036,-1.098227923147296,-0.16852914853637593,0.37570018520333304,-2.161831239989233,-0.7378821662771905,-0.06571168846656328,0.47600300766597164,0.9217086796711035,-0.5276134738110552,0.19389281217411172,-0.1976527698633932,-1.7029397917737243,-0.18454993343459655,-0.30032143747151385,0.6226966256674825,-0.6119109736503978,-2.241247130842427],\"type\":\"scatter\"}],                        {\"legend\":{\"bgcolor\":\"#F5F6F9\",\"font\":{\"color\":\"#4D5663\"}},\"paper_bgcolor\":\"#F5F6F9\",\"plot_bgcolor\":\"#F5F6F9\",\"template\":{\"data\":{\"barpolar\":[{\"marker\":{\"line\":{\"color\":\"#E5ECF6\",\"width\":0.5},\"pattern\":{\"fillmode\":\"overlay\",\"size\":10,\"solidity\":0.2}},\"type\":\"barpolar\"}],\"bar\":[{\"error_x\":{\"color\":\"#2a3f5f\"},\"error_y\":{\"color\":\"#2a3f5f\"},\"marker\":{\"line\":{\"color\":\"#E5ECF6\",\"width\":0.5},\"pattern\":{\"fillmode\":\"overlay\",\"size\":10,\"solidity\":0.2}},\"type\":\"bar\"}],\"carpet\":[{\"aaxis\":{\"endlinecolor\":\"#2a3f5f\",\"gridcolor\":\"white\",\"linecolor\":\"white\",\"minorgridcolor\":\"white\",\"startlinecolor\":\"#2a3f5f\"},\"baxis\":{\"endlinecolor\":\"#2a3f5f\",\"gridcolor\":\"white\",\"linecolor\":\"white\",\"minorgridcolor\":\"white\",\"startlinecolor\":\"#2a3f5f\"},\"type\":\"carpet\"}],\"choropleth\":[{\"colorbar\":{\"outlinewidth\":0,\"ticks\":\"\"},\"type\":\"choropleth\"}],\"contourcarpet\":[{\"colorbar\":{\"outlinewidth\":0,\"ticks\":\"\"},\"type\":\"contourcarpet\"}],\"contour\":[{\"colorbar\":{\"outlinewidth\":0,\"ticks\":\"\"},\"colorscale\":[[0.0,\"#0d0887\"],[0.1111111111111111,\"#46039f\"],[0.2222222222222222,\"#7201a8\"],[0.3333333333333333,\"#9c179e\"],[0.4444444444444444,\"#bd3786\"],[0.5555555555555556,\"#d8576b\"],[0.6666666666666666,\"#ed7953\"],[0.7777777777777778,\"#fb9f3a\"],[0.8888888888888888,\"#fdca26\"],[1.0,\"#f0f921\"]],\"type\":\"contour\"}],\"heatmapgl\":[{\"colorbar\":{\"outlinewidth\":0,\"ticks\":\"\"},\"colorscale\":[[0.0,\"#0d0887\"],[0.1111111111111111,\"#46039f\"],[0.2222222222222222,\"#7201a8\"],[0.3333333333333333,\"#9c179e\"],[0.4444444444444444,\"#bd3786\"],[0.5555555555555556,\"#d8576b\"],[0.6666666666666666,\"#ed7953\"],[0.7777777777777778,\"#fb9f3a\"],[0.8888888888888888,\"#fdca26\"],[1.0,\"#f0f921\"]],\"type\":\"heatmapgl\"}],\"heatmap\":[{\"colorbar\":{\"outlinewidth\":0,\"ticks\":\"\"},\"colorscale\":[[0.0,\"#0d0887\"],[0.1111111111111111,\"#46039f\"],[0.2222222222222222,\"#7201a8\"],[0.3333333333333333,\"#9c179e\"],[0.4444444444444444,\"#bd3786\"],[0.5555555555555556,\"#d8576b\"],[0.6666666666666666,\"#ed7953\"],[0.7777777777777778,\"#fb9f3a\"],[0.8888888888888888,\"#fdca26\"],[1.0,\"#f0f921\"]],\"type\":\"heatmap\"}],\"histogram2dcontour\":[{\"colorbar\":{\"outlinewidth\":0,\"ticks\":\"\"},\"colorscale\":[[0.0,\"#0d0887\"],[0.1111111111111111,\"#46039f\"],[0.2222222222222222,\"#7201a8\"],[0.3333333333333333,\"#9c179e\"],[0.4444444444444444,\"#bd3786\"],[0.5555555555555556,\"#d8576b\"],[0.6666666666666666,\"#ed7953\"],[0.7777777777777778,\"#fb9f3a\"],[0.8888888888888888,\"#fdca26\"],[1.0,\"#f0f921\"]],\"type\":\"histogram2dcontour\"}],\"histogram2d\":[{\"colorbar\":{\"outlinewidth\":0,\"ticks\":\"\"},\"colorscale\":[[0.0,\"#0d0887\"],[0.1111111111111111,\"#46039f\"],[0.2222222222222222,\"#7201a8\"],[0.3333333333333333,\"#9c179e\"],[0.4444444444444444,\"#bd3786\"],[0.5555555555555556,\"#d8576b\"],[0.6666666666666666,\"#ed7953\"],[0.7777777777777778,\"#fb9f3a\"],[0.8888888888888888,\"#fdca26\"],[1.0,\"#f0f921\"]],\"type\":\"histogram2d\"}],\"histogram\":[{\"marker\":{\"pattern\":{\"fillmode\":\"overlay\",\"size\":10,\"solidity\":0.2}},\"type\":\"histogram\"}],\"mesh3d\":[{\"colorbar\":{\"outlinewidth\":0,\"ticks\":\"\"},\"type\":\"mesh3d\"}],\"parcoords\":[{\"line\":{\"colorbar\":{\"outlinewidth\":0,\"ticks\":\"\"}},\"type\":\"parcoords\"}],\"pie\":[{\"automargin\":true,\"type\":\"pie\"}],\"scatter3d\":[{\"line\":{\"colorbar\":{\"outlinewidth\":0,\"ticks\":\"\"}},\"marker\":{\"colorbar\":{\"outlinewidth\":0,\"ticks\":\"\"}},\"type\":\"scatter3d\"}],\"scattercarpet\":[{\"marker\":{\"colorbar\":{\"outlinewidth\":0,\"ticks\":\"\"}},\"type\":\"scattercarpet\"}],\"scattergeo\":[{\"marker\":{\"colorbar\":{\"outlinewidth\":0,\"ticks\":\"\"}},\"type\":\"scattergeo\"}],\"scattergl\":[{\"marker\":{\"colorbar\":{\"outlinewidth\":0,\"ticks\":\"\"}},\"type\":\"scattergl\"}],\"scattermapbox\":[{\"marker\":{\"colorbar\":{\"outlinewidth\":0,\"ticks\":\"\"}},\"type\":\"scattermapbox\"}],\"scatterpolargl\":[{\"marker\":{\"colorbar\":{\"outlinewidth\":0,\"ticks\":\"\"}},\"type\":\"scatterpolargl\"}],\"scatterpolar\":[{\"marker\":{\"colorbar\":{\"outlinewidth\":0,\"ticks\":\"\"}},\"type\":\"scatterpolar\"}],\"scatter\":[{\"marker\":{\"colorbar\":{\"outlinewidth\":0,\"ticks\":\"\"}},\"type\":\"scatter\"}],\"scatterternary\":[{\"marker\":{\"colorbar\":{\"outlinewidth\":0,\"ticks\":\"\"}},\"type\":\"scatterternary\"}],\"surface\":[{\"colorbar\":{\"outlinewidth\":0,\"ticks\":\"\"},\"colorscale\":[[0.0,\"#0d0887\"],[0.1111111111111111,\"#46039f\"],[0.2222222222222222,\"#7201a8\"],[0.3333333333333333,\"#9c179e\"],[0.4444444444444444,\"#bd3786\"],[0.5555555555555556,\"#d8576b\"],[0.6666666666666666,\"#ed7953\"],[0.7777777777777778,\"#fb9f3a\"],[0.8888888888888888,\"#fdca26\"],[1.0,\"#f0f921\"]],\"type\":\"surface\"}],\"table\":[{\"cells\":{\"fill\":{\"color\":\"#EBF0F8\"},\"line\":{\"color\":\"white\"}},\"header\":{\"fill\":{\"color\":\"#C8D4E3\"},\"line\":{\"color\":\"white\"}},\"type\":\"table\"}]},\"layout\":{\"annotationdefaults\":{\"arrowcolor\":\"#2a3f5f\",\"arrowhead\":0,\"arrowwidth\":1},\"autotypenumbers\":\"strict\",\"coloraxis\":{\"colorbar\":{\"outlinewidth\":0,\"ticks\":\"\"}},\"colorscale\":{\"diverging\":[[0,\"#8e0152\"],[0.1,\"#c51b7d\"],[0.2,\"#de77ae\"],[0.3,\"#f1b6da\"],[0.4,\"#fde0ef\"],[0.5,\"#f7f7f7\"],[0.6,\"#e6f5d0\"],[0.7,\"#b8e186\"],[0.8,\"#7fbc41\"],[0.9,\"#4d9221\"],[1,\"#276419\"]],\"sequential\":[[0.0,\"#0d0887\"],[0.1111111111111111,\"#46039f\"],[0.2222222222222222,\"#7201a8\"],[0.3333333333333333,\"#9c179e\"],[0.4444444444444444,\"#bd3786\"],[0.5555555555555556,\"#d8576b\"],[0.6666666666666666,\"#ed7953\"],[0.7777777777777778,\"#fb9f3a\"],[0.8888888888888888,\"#fdca26\"],[1.0,\"#f0f921\"]],\"sequentialminus\":[[0.0,\"#0d0887\"],[0.1111111111111111,\"#46039f\"],[0.2222222222222222,\"#7201a8\"],[0.3333333333333333,\"#9c179e\"],[0.4444444444444444,\"#bd3786\"],[0.5555555555555556,\"#d8576b\"],[0.6666666666666666,\"#ed7953\"],[0.7777777777777778,\"#fb9f3a\"],[0.8888888888888888,\"#fdca26\"],[1.0,\"#f0f921\"]]},\"colorway\":[\"#636efa\",\"#EF553B\",\"#00cc96\",\"#ab63fa\",\"#FFA15A\",\"#19d3f3\",\"#FF6692\",\"#B6E880\",\"#FF97FF\",\"#FECB52\"],\"font\":{\"color\":\"#2a3f5f\"},\"geo\":{\"bgcolor\":\"white\",\"lakecolor\":\"white\",\"landcolor\":\"#E5ECF6\",\"showlakes\":true,\"showland\":true,\"subunitcolor\":\"white\"},\"hoverlabel\":{\"align\":\"left\"},\"hovermode\":\"closest\",\"mapbox\":{\"style\":\"light\"},\"paper_bgcolor\":\"white\",\"plot_bgcolor\":\"#E5ECF6\",\"polar\":{\"angularaxis\":{\"gridcolor\":\"white\",\"linecolor\":\"white\",\"ticks\":\"\"},\"bgcolor\":\"#E5ECF6\",\"radialaxis\":{\"gridcolor\":\"white\",\"linecolor\":\"white\",\"ticks\":\"\"}},\"scene\":{\"xaxis\":{\"backgroundcolor\":\"#E5ECF6\",\"gridcolor\":\"white\",\"gridwidth\":2,\"linecolor\":\"white\",\"showbackground\":true,\"ticks\":\"\",\"zerolinecolor\":\"white\"},\"yaxis\":{\"backgroundcolor\":\"#E5ECF6\",\"gridcolor\":\"white\",\"gridwidth\":2,\"linecolor\":\"white\",\"showbackground\":true,\"ticks\":\"\",\"zerolinecolor\":\"white\"},\"zaxis\":{\"backgroundcolor\":\"#E5ECF6\",\"gridcolor\":\"white\",\"gridwidth\":2,\"linecolor\":\"white\",\"showbackground\":true,\"ticks\":\"\",\"zerolinecolor\":\"white\"}},\"shapedefaults\":{\"line\":{\"color\":\"#2a3f5f\"}},\"ternary\":{\"aaxis\":{\"gridcolor\":\"white\",\"linecolor\":\"white\",\"ticks\":\"\"},\"baxis\":{\"gridcolor\":\"white\",\"linecolor\":\"white\",\"ticks\":\"\"},\"bgcolor\":\"#E5ECF6\",\"caxis\":{\"gridcolor\":\"white\",\"linecolor\":\"white\",\"ticks\":\"\"}},\"title\":{\"x\":0.05},\"xaxis\":{\"automargin\":true,\"gridcolor\":\"white\",\"linecolor\":\"white\",\"ticks\":\"\",\"title\":{\"standoff\":15},\"zerolinecolor\":\"white\",\"zerolinewidth\":2},\"yaxis\":{\"automargin\":true,\"gridcolor\":\"white\",\"linecolor\":\"white\",\"ticks\":\"\",\"title\":{\"standoff\":15},\"zerolinecolor\":\"white\",\"zerolinewidth\":2}}},\"title\":{\"font\":{\"color\":\"#4D5663\"}},\"xaxis\":{\"gridcolor\":\"#E1E5ED\",\"showgrid\":true,\"tickfont\":{\"color\":\"#4D5663\"},\"title\":{\"font\":{\"color\":\"#4D5663\"},\"text\":\"\"},\"zerolinecolor\":\"#E1E5ED\"},\"yaxis\":{\"gridcolor\":\"#E1E5ED\",\"showgrid\":true,\"tickfont\":{\"color\":\"#4D5663\"},\"title\":{\"font\":{\"color\":\"#4D5663\"},\"text\":\"\"},\"zerolinecolor\":\"#E1E5ED\"}},                        {\"showLink\": true, \"linkText\": \"Export to plot.ly\", \"plotlyServerURL\": \"https://plot.ly\", \"responsive\": true}                    ).then(function(){\n",
       "                            \n",
       "var gd = document.getElementById('1891ca39-fbd9-49fc-bae9-c4ef3280f0c1');\n",
       "var x = new MutationObserver(function (mutations, observer) {{\n",
       "        var display = window.getComputedStyle(gd).display;\n",
       "        if (!display || display === 'none') {{\n",
       "            console.log([gd, 'removed!']);\n",
       "            Plotly.purge(gd);\n",
       "            observer.disconnect();\n",
       "        }}\n",
       "}});\n",
       "\n",
       "// Listen for the removal of the full notebook cells\n",
       "var notebookContainer = gd.closest('#notebook-container');\n",
       "if (notebookContainer) {{\n",
       "    x.observe(notebookContainer, {childList: true});\n",
       "}}\n",
       "\n",
       "// Listen for the clearing of the current output cell\n",
       "var outputEl = gd.closest('.output');\n",
       "if (outputEl) {{\n",
       "    x.observe(outputEl, {childList: true});\n",
       "}}\n",
       "\n",
       "                        })                };                });            </script>        </div>"
      ]
     },
     "metadata": {},
     "output_type": "display_data"
    }
   ],
   "source": [
    "df1.iplot(kind = 'scatter', x = 'A', y = 'B')"
   ]
  },
  {
   "cell_type": "code",
   "execution_count": 27,
   "metadata": {},
   "outputs": [
    {
     "data": {
      "application/vnd.plotly.v1+json": {
       "config": {
        "linkText": "Export to plot.ly",
        "plotlyServerURL": "https://plot.ly",
        "showLink": true
       },
       "data": [
        {
         "line": {
          "color": "rgba(255, 153, 51, 1.0)",
          "dash": "solid",
          "shape": "linear",
          "width": 1.3
         },
         "marker": {
          "size": 12,
          "symbol": "circle"
         },
         "mode": "markers",
         "name": "B",
         "text": "",
         "type": "scatter",
         "x": [
          0.5743707795773935,
          0.7705130471123088,
          -1.1576336254777675,
          -0.8271035026452863,
          0.7425917665606087,
          -0.5394750578829458,
          0.5097192595359479,
          0.5432487081145778,
          -0.017946748455862877,
          0.19581581905947343,
          -1.437598250743915,
          2.218752439044428,
          1.3735761727944185,
          0.4110662686393877,
          -1.2762577922869192,
          1.052973143565982,
          1.4455702341590444,
          -0.3948389358880354,
          0.7885045139246953,
          -1.048373347634528,
          1.7428723409947369,
          0.5095898223142886,
          -0.40242338927638993,
          0.7895293899801388,
          -1.1684034943003128,
          -0.04221538280344773,
          0.008138638768228417,
          -0.4886444367606532,
          0.372696913991112,
          0.012203537415463457,
          1.3219400832950743,
          0.4426993414749163,
          0.6954759067905433,
          1.26173184725225,
          0.6031545937641348,
          0.8314386262457409,
          -1.9414446443208866,
          0.44729577583315866,
          -0.1519969814341827,
          1.4347967567547704,
          0.4231389277658858,
          -0.3464188794612597,
          -1.1560117204001936,
          -0.3371028319649269,
          0.9280885194745121,
          -0.33478270805751936,
          2.501829705680731,
          0.6545880808894924,
          -0.3253344899082747,
          1.0445833650807033,
          0.6378047610339664,
          -2.282408309947842,
          -0.9940910712619948,
          1.593352030366997,
          0.9796354322121585,
          -0.14555141905550475,
          1.938036037209001,
          0.4868173620202219,
          0.055745582967331925,
          0.8956207552321556,
          0.11210772463177247,
          -0.33800571080152314,
          -1.3960145152016388,
          2.1771435310890195,
          -0.21470397682343476,
          0.4522706930495062,
          0.9164948956794404,
          0.8686559643236597,
          -0.781959644239122,
          0.858071168774533,
          1.0682392817882957,
          -0.8544402572414872,
          -0.10900933498317333,
          -0.6310301425552112,
          -0.7648997140020927,
          1.150003153635081,
          1.0797631083191377,
          -0.45546653209706256,
          -0.04107528864510263,
          0.5455832227617043,
          -0.013623144913418072,
          0.8627690024800236,
          -0.444669171787977,
          -0.09778715447296922,
          -0.9840028543722682,
          -0.7197814724774163,
          0.5492328656564691,
          0.3865729478490786,
          0.9060294279206033,
          -0.4274656683036674,
          0.7060489877334019,
          -0.38594158839707665,
          0.5846720573475902,
          0.715150753017314,
          -0.5970239007455065,
          0.46585132559113374,
          -0.18843515452973725,
          0.9407973388139189,
          -1.2463834784309387,
          1.557031562545552
         ],
         "y": [
          0.8016641080924541,
          1.0077391146377723,
          0.27651367544996946,
          -2.1570213570008927,
          -1.1235011021677124,
          0.17510373317808275,
          0.5739852492901831,
          0.08400858387755353,
          -1.7399189233318215,
          1.373956525773911,
          -0.6055411343301496,
          0.07895635184420437,
          1.9396245569934054,
          0.21052865131167792,
          0.8041135995879579,
          1.2067828700888212,
          -1.2391501426725224,
          -0.602365415491375,
          -1.2116734000900296,
          -0.5657984205463799,
          -0.30418317029567005,
          -1.3047874224393003,
          -1.9023818194008624,
          1.2952595792792636,
          0.10138680285600672,
          0.0223449098802518,
          0.25608582492185883,
          -0.8817831404171913,
          0.364858694437755,
          -1.1104434289726777,
          0.3175327732447648,
          0.4440791680629179,
          0.295798249153598,
          0.17144218397646702,
          -0.5670235515093524,
          1.5675401024850084,
          -0.3154757966663135,
          -0.9569793691086736,
          -0.08939617748473268,
          -1.4138336943563812,
          -0.715750128405275,
          0.26616513383692075,
          -0.7576063158477336,
          1.0044504867732704,
          -0.8528844132117523,
          -1.3137522421554162,
          -0.6297247932341066,
          0.6641310484582209,
          0.6842832590670178,
          -1.097732442511773,
          0.7695175485075942,
          -0.8004055106036331,
          -1.2334254972160166,
          -1.3461652044016847,
          -0.44328078003252724,
          0.12362524915851832,
          -0.703900374883289,
          1.5964916213576874,
          -0.7175995763374521,
          0.7303661705616081,
          1.6433808900162372,
          -0.6732022934593243,
          0.39075007107051796,
          0.7030593293505272,
          -0.36446992902141634,
          -0.8641351675878642,
          -0.8600094939920322,
          -0.7513060798787412,
          2.286811969914792,
          -0.46975880928066727,
          -1.5697616694093142,
          -0.2921380197460708,
          0.727262007763347,
          0.4960816199155096,
          0.30461017406051066,
          -0.44238754745680947,
          -0.019873063964267003,
          -0.9791775276148362,
          0.8333268577557206,
          -0.5577902793680444,
          -0.7902334272887995,
          -1.409128891545519,
          -0.49896367670798036,
          -1.098227923147296,
          -0.16852914853637593,
          0.37570018520333304,
          -2.161831239989233,
          -0.7378821662771905,
          -0.06571168846656328,
          0.47600300766597164,
          0.9217086796711035,
          -0.5276134738110552,
          0.19389281217411172,
          -0.1976527698633932,
          -1.7029397917737243,
          -0.18454993343459655,
          -0.30032143747151385,
          0.6226966256674825,
          -0.6119109736503978,
          -2.241247130842427
         ]
        }
       ],
       "layout": {
        "legend": {
         "bgcolor": "#F5F6F9",
         "font": {
          "color": "#4D5663"
         }
        },
        "paper_bgcolor": "#F5F6F9",
        "plot_bgcolor": "#F5F6F9",
        "template": {
         "data": {
          "bar": [
           {
            "error_x": {
             "color": "#2a3f5f"
            },
            "error_y": {
             "color": "#2a3f5f"
            },
            "marker": {
             "line": {
              "color": "#E5ECF6",
              "width": 0.5
             },
             "pattern": {
              "fillmode": "overlay",
              "size": 10,
              "solidity": 0.2
             }
            },
            "type": "bar"
           }
          ],
          "barpolar": [
           {
            "marker": {
             "line": {
              "color": "#E5ECF6",
              "width": 0.5
             },
             "pattern": {
              "fillmode": "overlay",
              "size": 10,
              "solidity": 0.2
             }
            },
            "type": "barpolar"
           }
          ],
          "carpet": [
           {
            "aaxis": {
             "endlinecolor": "#2a3f5f",
             "gridcolor": "white",
             "linecolor": "white",
             "minorgridcolor": "white",
             "startlinecolor": "#2a3f5f"
            },
            "baxis": {
             "endlinecolor": "#2a3f5f",
             "gridcolor": "white",
             "linecolor": "white",
             "minorgridcolor": "white",
             "startlinecolor": "#2a3f5f"
            },
            "type": "carpet"
           }
          ],
          "choropleth": [
           {
            "colorbar": {
             "outlinewidth": 0,
             "ticks": ""
            },
            "type": "choropleth"
           }
          ],
          "contour": [
           {
            "colorbar": {
             "outlinewidth": 0,
             "ticks": ""
            },
            "colorscale": [
             [
              0,
              "#0d0887"
             ],
             [
              0.1111111111111111,
              "#46039f"
             ],
             [
              0.2222222222222222,
              "#7201a8"
             ],
             [
              0.3333333333333333,
              "#9c179e"
             ],
             [
              0.4444444444444444,
              "#bd3786"
             ],
             [
              0.5555555555555556,
              "#d8576b"
             ],
             [
              0.6666666666666666,
              "#ed7953"
             ],
             [
              0.7777777777777778,
              "#fb9f3a"
             ],
             [
              0.8888888888888888,
              "#fdca26"
             ],
             [
              1,
              "#f0f921"
             ]
            ],
            "type": "contour"
           }
          ],
          "contourcarpet": [
           {
            "colorbar": {
             "outlinewidth": 0,
             "ticks": ""
            },
            "type": "contourcarpet"
           }
          ],
          "heatmap": [
           {
            "colorbar": {
             "outlinewidth": 0,
             "ticks": ""
            },
            "colorscale": [
             [
              0,
              "#0d0887"
             ],
             [
              0.1111111111111111,
              "#46039f"
             ],
             [
              0.2222222222222222,
              "#7201a8"
             ],
             [
              0.3333333333333333,
              "#9c179e"
             ],
             [
              0.4444444444444444,
              "#bd3786"
             ],
             [
              0.5555555555555556,
              "#d8576b"
             ],
             [
              0.6666666666666666,
              "#ed7953"
             ],
             [
              0.7777777777777778,
              "#fb9f3a"
             ],
             [
              0.8888888888888888,
              "#fdca26"
             ],
             [
              1,
              "#f0f921"
             ]
            ],
            "type": "heatmap"
           }
          ],
          "heatmapgl": [
           {
            "colorbar": {
             "outlinewidth": 0,
             "ticks": ""
            },
            "colorscale": [
             [
              0,
              "#0d0887"
             ],
             [
              0.1111111111111111,
              "#46039f"
             ],
             [
              0.2222222222222222,
              "#7201a8"
             ],
             [
              0.3333333333333333,
              "#9c179e"
             ],
             [
              0.4444444444444444,
              "#bd3786"
             ],
             [
              0.5555555555555556,
              "#d8576b"
             ],
             [
              0.6666666666666666,
              "#ed7953"
             ],
             [
              0.7777777777777778,
              "#fb9f3a"
             ],
             [
              0.8888888888888888,
              "#fdca26"
             ],
             [
              1,
              "#f0f921"
             ]
            ],
            "type": "heatmapgl"
           }
          ],
          "histogram": [
           {
            "marker": {
             "pattern": {
              "fillmode": "overlay",
              "size": 10,
              "solidity": 0.2
             }
            },
            "type": "histogram"
           }
          ],
          "histogram2d": [
           {
            "colorbar": {
             "outlinewidth": 0,
             "ticks": ""
            },
            "colorscale": [
             [
              0,
              "#0d0887"
             ],
             [
              0.1111111111111111,
              "#46039f"
             ],
             [
              0.2222222222222222,
              "#7201a8"
             ],
             [
              0.3333333333333333,
              "#9c179e"
             ],
             [
              0.4444444444444444,
              "#bd3786"
             ],
             [
              0.5555555555555556,
              "#d8576b"
             ],
             [
              0.6666666666666666,
              "#ed7953"
             ],
             [
              0.7777777777777778,
              "#fb9f3a"
             ],
             [
              0.8888888888888888,
              "#fdca26"
             ],
             [
              1,
              "#f0f921"
             ]
            ],
            "type": "histogram2d"
           }
          ],
          "histogram2dcontour": [
           {
            "colorbar": {
             "outlinewidth": 0,
             "ticks": ""
            },
            "colorscale": [
             [
              0,
              "#0d0887"
             ],
             [
              0.1111111111111111,
              "#46039f"
             ],
             [
              0.2222222222222222,
              "#7201a8"
             ],
             [
              0.3333333333333333,
              "#9c179e"
             ],
             [
              0.4444444444444444,
              "#bd3786"
             ],
             [
              0.5555555555555556,
              "#d8576b"
             ],
             [
              0.6666666666666666,
              "#ed7953"
             ],
             [
              0.7777777777777778,
              "#fb9f3a"
             ],
             [
              0.8888888888888888,
              "#fdca26"
             ],
             [
              1,
              "#f0f921"
             ]
            ],
            "type": "histogram2dcontour"
           }
          ],
          "mesh3d": [
           {
            "colorbar": {
             "outlinewidth": 0,
             "ticks": ""
            },
            "type": "mesh3d"
           }
          ],
          "parcoords": [
           {
            "line": {
             "colorbar": {
              "outlinewidth": 0,
              "ticks": ""
             }
            },
            "type": "parcoords"
           }
          ],
          "pie": [
           {
            "automargin": true,
            "type": "pie"
           }
          ],
          "scatter": [
           {
            "marker": {
             "colorbar": {
              "outlinewidth": 0,
              "ticks": ""
             }
            },
            "type": "scatter"
           }
          ],
          "scatter3d": [
           {
            "line": {
             "colorbar": {
              "outlinewidth": 0,
              "ticks": ""
             }
            },
            "marker": {
             "colorbar": {
              "outlinewidth": 0,
              "ticks": ""
             }
            },
            "type": "scatter3d"
           }
          ],
          "scattercarpet": [
           {
            "marker": {
             "colorbar": {
              "outlinewidth": 0,
              "ticks": ""
             }
            },
            "type": "scattercarpet"
           }
          ],
          "scattergeo": [
           {
            "marker": {
             "colorbar": {
              "outlinewidth": 0,
              "ticks": ""
             }
            },
            "type": "scattergeo"
           }
          ],
          "scattergl": [
           {
            "marker": {
             "colorbar": {
              "outlinewidth": 0,
              "ticks": ""
             }
            },
            "type": "scattergl"
           }
          ],
          "scattermapbox": [
           {
            "marker": {
             "colorbar": {
              "outlinewidth": 0,
              "ticks": ""
             }
            },
            "type": "scattermapbox"
           }
          ],
          "scatterpolar": [
           {
            "marker": {
             "colorbar": {
              "outlinewidth": 0,
              "ticks": ""
             }
            },
            "type": "scatterpolar"
           }
          ],
          "scatterpolargl": [
           {
            "marker": {
             "colorbar": {
              "outlinewidth": 0,
              "ticks": ""
             }
            },
            "type": "scatterpolargl"
           }
          ],
          "scatterternary": [
           {
            "marker": {
             "colorbar": {
              "outlinewidth": 0,
              "ticks": ""
             }
            },
            "type": "scatterternary"
           }
          ],
          "surface": [
           {
            "colorbar": {
             "outlinewidth": 0,
             "ticks": ""
            },
            "colorscale": [
             [
              0,
              "#0d0887"
             ],
             [
              0.1111111111111111,
              "#46039f"
             ],
             [
              0.2222222222222222,
              "#7201a8"
             ],
             [
              0.3333333333333333,
              "#9c179e"
             ],
             [
              0.4444444444444444,
              "#bd3786"
             ],
             [
              0.5555555555555556,
              "#d8576b"
             ],
             [
              0.6666666666666666,
              "#ed7953"
             ],
             [
              0.7777777777777778,
              "#fb9f3a"
             ],
             [
              0.8888888888888888,
              "#fdca26"
             ],
             [
              1,
              "#f0f921"
             ]
            ],
            "type": "surface"
           }
          ],
          "table": [
           {
            "cells": {
             "fill": {
              "color": "#EBF0F8"
             },
             "line": {
              "color": "white"
             }
            },
            "header": {
             "fill": {
              "color": "#C8D4E3"
             },
             "line": {
              "color": "white"
             }
            },
            "type": "table"
           }
          ]
         },
         "layout": {
          "annotationdefaults": {
           "arrowcolor": "#2a3f5f",
           "arrowhead": 0,
           "arrowwidth": 1
          },
          "autotypenumbers": "strict",
          "coloraxis": {
           "colorbar": {
            "outlinewidth": 0,
            "ticks": ""
           }
          },
          "colorscale": {
           "diverging": [
            [
             0,
             "#8e0152"
            ],
            [
             0.1,
             "#c51b7d"
            ],
            [
             0.2,
             "#de77ae"
            ],
            [
             0.3,
             "#f1b6da"
            ],
            [
             0.4,
             "#fde0ef"
            ],
            [
             0.5,
             "#f7f7f7"
            ],
            [
             0.6,
             "#e6f5d0"
            ],
            [
             0.7,
             "#b8e186"
            ],
            [
             0.8,
             "#7fbc41"
            ],
            [
             0.9,
             "#4d9221"
            ],
            [
             1,
             "#276419"
            ]
           ],
           "sequential": [
            [
             0,
             "#0d0887"
            ],
            [
             0.1111111111111111,
             "#46039f"
            ],
            [
             0.2222222222222222,
             "#7201a8"
            ],
            [
             0.3333333333333333,
             "#9c179e"
            ],
            [
             0.4444444444444444,
             "#bd3786"
            ],
            [
             0.5555555555555556,
             "#d8576b"
            ],
            [
             0.6666666666666666,
             "#ed7953"
            ],
            [
             0.7777777777777778,
             "#fb9f3a"
            ],
            [
             0.8888888888888888,
             "#fdca26"
            ],
            [
             1,
             "#f0f921"
            ]
           ],
           "sequentialminus": [
            [
             0,
             "#0d0887"
            ],
            [
             0.1111111111111111,
             "#46039f"
            ],
            [
             0.2222222222222222,
             "#7201a8"
            ],
            [
             0.3333333333333333,
             "#9c179e"
            ],
            [
             0.4444444444444444,
             "#bd3786"
            ],
            [
             0.5555555555555556,
             "#d8576b"
            ],
            [
             0.6666666666666666,
             "#ed7953"
            ],
            [
             0.7777777777777778,
             "#fb9f3a"
            ],
            [
             0.8888888888888888,
             "#fdca26"
            ],
            [
             1,
             "#f0f921"
            ]
           ]
          },
          "colorway": [
           "#636efa",
           "#EF553B",
           "#00cc96",
           "#ab63fa",
           "#FFA15A",
           "#19d3f3",
           "#FF6692",
           "#B6E880",
           "#FF97FF",
           "#FECB52"
          ],
          "font": {
           "color": "#2a3f5f"
          },
          "geo": {
           "bgcolor": "white",
           "lakecolor": "white",
           "landcolor": "#E5ECF6",
           "showlakes": true,
           "showland": true,
           "subunitcolor": "white"
          },
          "hoverlabel": {
           "align": "left"
          },
          "hovermode": "closest",
          "mapbox": {
           "style": "light"
          },
          "paper_bgcolor": "white",
          "plot_bgcolor": "#E5ECF6",
          "polar": {
           "angularaxis": {
            "gridcolor": "white",
            "linecolor": "white",
            "ticks": ""
           },
           "bgcolor": "#E5ECF6",
           "radialaxis": {
            "gridcolor": "white",
            "linecolor": "white",
            "ticks": ""
           }
          },
          "scene": {
           "xaxis": {
            "backgroundcolor": "#E5ECF6",
            "gridcolor": "white",
            "gridwidth": 2,
            "linecolor": "white",
            "showbackground": true,
            "ticks": "",
            "zerolinecolor": "white"
           },
           "yaxis": {
            "backgroundcolor": "#E5ECF6",
            "gridcolor": "white",
            "gridwidth": 2,
            "linecolor": "white",
            "showbackground": true,
            "ticks": "",
            "zerolinecolor": "white"
           },
           "zaxis": {
            "backgroundcolor": "#E5ECF6",
            "gridcolor": "white",
            "gridwidth": 2,
            "linecolor": "white",
            "showbackground": true,
            "ticks": "",
            "zerolinecolor": "white"
           }
          },
          "shapedefaults": {
           "line": {
            "color": "#2a3f5f"
           }
          },
          "ternary": {
           "aaxis": {
            "gridcolor": "white",
            "linecolor": "white",
            "ticks": ""
           },
           "baxis": {
            "gridcolor": "white",
            "linecolor": "white",
            "ticks": ""
           },
           "bgcolor": "#E5ECF6",
           "caxis": {
            "gridcolor": "white",
            "linecolor": "white",
            "ticks": ""
           }
          },
          "title": {
           "x": 0.05
          },
          "xaxis": {
           "automargin": true,
           "gridcolor": "white",
           "linecolor": "white",
           "ticks": "",
           "title": {
            "standoff": 15
           },
           "zerolinecolor": "white",
           "zerolinewidth": 2
          },
          "yaxis": {
           "automargin": true,
           "gridcolor": "white",
           "linecolor": "white",
           "ticks": "",
           "title": {
            "standoff": 15
           },
           "zerolinecolor": "white",
           "zerolinewidth": 2
          }
         }
        },
        "title": {
         "font": {
          "color": "#4D5663"
         }
        },
        "xaxis": {
         "gridcolor": "#E1E5ED",
         "showgrid": true,
         "tickfont": {
          "color": "#4D5663"
         },
         "title": {
          "font": {
           "color": "#4D5663"
          },
          "text": ""
         },
         "zerolinecolor": "#E1E5ED"
        },
        "yaxis": {
         "gridcolor": "#E1E5ED",
         "showgrid": true,
         "tickfont": {
          "color": "#4D5663"
         },
         "title": {
          "font": {
           "color": "#4D5663"
          },
          "text": ""
         },
         "zerolinecolor": "#E1E5ED"
        }
       }
      },
      "text/html": [
       "<div>                            <div id=\"37964535-d729-4ed5-8f97-14fdc6272971\" class=\"plotly-graph-div\" style=\"height:525px; width:100%;\"></div>            <script type=\"text/javascript\">                require([\"plotly\"], function(Plotly) {                    window.PLOTLYENV=window.PLOTLYENV || {};\n",
       "                    window.PLOTLYENV.BASE_URL='https://plot.ly';                                    if (document.getElementById(\"37964535-d729-4ed5-8f97-14fdc6272971\")) {                    Plotly.newPlot(                        \"37964535-d729-4ed5-8f97-14fdc6272971\",                        [{\"line\":{\"color\":\"rgba(255, 153, 51, 1.0)\",\"dash\":\"solid\",\"shape\":\"linear\",\"width\":1.3},\"marker\":{\"size\":12,\"symbol\":\"circle\"},\"mode\":\"markers\",\"name\":\"B\",\"text\":\"\",\"x\":[0.5743707795773935,0.7705130471123088,-1.1576336254777675,-0.8271035026452863,0.7425917665606087,-0.5394750578829458,0.5097192595359479,0.5432487081145778,-0.017946748455862877,0.19581581905947343,-1.437598250743915,2.218752439044428,1.3735761727944185,0.4110662686393877,-1.2762577922869192,1.052973143565982,1.4455702341590444,-0.3948389358880354,0.7885045139246953,-1.048373347634528,1.7428723409947369,0.5095898223142886,-0.40242338927638993,0.7895293899801388,-1.1684034943003128,-0.04221538280344773,0.008138638768228417,-0.4886444367606532,0.372696913991112,0.012203537415463457,1.3219400832950743,0.4426993414749163,0.6954759067905433,1.26173184725225,0.6031545937641348,0.8314386262457409,-1.9414446443208866,0.44729577583315866,-0.1519969814341827,1.4347967567547704,0.4231389277658858,-0.3464188794612597,-1.1560117204001936,-0.3371028319649269,0.9280885194745121,-0.33478270805751936,2.501829705680731,0.6545880808894924,-0.3253344899082747,1.0445833650807033,0.6378047610339664,-2.282408309947842,-0.9940910712619948,1.593352030366997,0.9796354322121585,-0.14555141905550475,1.938036037209001,0.4868173620202219,0.055745582967331925,0.8956207552321556,0.11210772463177247,-0.33800571080152314,-1.3960145152016388,2.1771435310890195,-0.21470397682343476,0.4522706930495062,0.9164948956794404,0.8686559643236597,-0.781959644239122,0.858071168774533,1.0682392817882957,-0.8544402572414872,-0.10900933498317333,-0.6310301425552112,-0.7648997140020927,1.150003153635081,1.0797631083191377,-0.45546653209706256,-0.04107528864510263,0.5455832227617043,-0.013623144913418072,0.8627690024800236,-0.444669171787977,-0.09778715447296922,-0.9840028543722682,-0.7197814724774163,0.5492328656564691,0.3865729478490786,0.9060294279206033,-0.4274656683036674,0.7060489877334019,-0.38594158839707665,0.5846720573475902,0.715150753017314,-0.5970239007455065,0.46585132559113374,-0.18843515452973725,0.9407973388139189,-1.2463834784309387,1.557031562545552],\"y\":[0.8016641080924541,1.0077391146377723,0.27651367544996946,-2.1570213570008927,-1.1235011021677124,0.17510373317808275,0.5739852492901831,0.08400858387755353,-1.7399189233318215,1.373956525773911,-0.6055411343301496,0.07895635184420437,1.9396245569934054,0.21052865131167792,0.8041135995879579,1.2067828700888212,-1.2391501426725224,-0.602365415491375,-1.2116734000900296,-0.5657984205463799,-0.30418317029567005,-1.3047874224393003,-1.9023818194008624,1.2952595792792636,0.10138680285600672,0.0223449098802518,0.25608582492185883,-0.8817831404171913,0.364858694437755,-1.1104434289726777,0.3175327732447648,0.4440791680629179,0.295798249153598,0.17144218397646702,-0.5670235515093524,1.5675401024850084,-0.3154757966663135,-0.9569793691086736,-0.08939617748473268,-1.4138336943563812,-0.715750128405275,0.26616513383692075,-0.7576063158477336,1.0044504867732704,-0.8528844132117523,-1.3137522421554162,-0.6297247932341066,0.6641310484582209,0.6842832590670178,-1.097732442511773,0.7695175485075942,-0.8004055106036331,-1.2334254972160166,-1.3461652044016847,-0.44328078003252724,0.12362524915851832,-0.703900374883289,1.5964916213576874,-0.7175995763374521,0.7303661705616081,1.6433808900162372,-0.6732022934593243,0.39075007107051796,0.7030593293505272,-0.36446992902141634,-0.8641351675878642,-0.8600094939920322,-0.7513060798787412,2.286811969914792,-0.46975880928066727,-1.5697616694093142,-0.2921380197460708,0.727262007763347,0.4960816199155096,0.30461017406051066,-0.44238754745680947,-0.019873063964267003,-0.9791775276148362,0.8333268577557206,-0.5577902793680444,-0.7902334272887995,-1.409128891545519,-0.49896367670798036,-1.098227923147296,-0.16852914853637593,0.37570018520333304,-2.161831239989233,-0.7378821662771905,-0.06571168846656328,0.47600300766597164,0.9217086796711035,-0.5276134738110552,0.19389281217411172,-0.1976527698633932,-1.7029397917737243,-0.18454993343459655,-0.30032143747151385,0.6226966256674825,-0.6119109736503978,-2.241247130842427],\"type\":\"scatter\"}],                        {\"legend\":{\"bgcolor\":\"#F5F6F9\",\"font\":{\"color\":\"#4D5663\"}},\"paper_bgcolor\":\"#F5F6F9\",\"plot_bgcolor\":\"#F5F6F9\",\"template\":{\"data\":{\"barpolar\":[{\"marker\":{\"line\":{\"color\":\"#E5ECF6\",\"width\":0.5},\"pattern\":{\"fillmode\":\"overlay\",\"size\":10,\"solidity\":0.2}},\"type\":\"barpolar\"}],\"bar\":[{\"error_x\":{\"color\":\"#2a3f5f\"},\"error_y\":{\"color\":\"#2a3f5f\"},\"marker\":{\"line\":{\"color\":\"#E5ECF6\",\"width\":0.5},\"pattern\":{\"fillmode\":\"overlay\",\"size\":10,\"solidity\":0.2}},\"type\":\"bar\"}],\"carpet\":[{\"aaxis\":{\"endlinecolor\":\"#2a3f5f\",\"gridcolor\":\"white\",\"linecolor\":\"white\",\"minorgridcolor\":\"white\",\"startlinecolor\":\"#2a3f5f\"},\"baxis\":{\"endlinecolor\":\"#2a3f5f\",\"gridcolor\":\"white\",\"linecolor\":\"white\",\"minorgridcolor\":\"white\",\"startlinecolor\":\"#2a3f5f\"},\"type\":\"carpet\"}],\"choropleth\":[{\"colorbar\":{\"outlinewidth\":0,\"ticks\":\"\"},\"type\":\"choropleth\"}],\"contourcarpet\":[{\"colorbar\":{\"outlinewidth\":0,\"ticks\":\"\"},\"type\":\"contourcarpet\"}],\"contour\":[{\"colorbar\":{\"outlinewidth\":0,\"ticks\":\"\"},\"colorscale\":[[0.0,\"#0d0887\"],[0.1111111111111111,\"#46039f\"],[0.2222222222222222,\"#7201a8\"],[0.3333333333333333,\"#9c179e\"],[0.4444444444444444,\"#bd3786\"],[0.5555555555555556,\"#d8576b\"],[0.6666666666666666,\"#ed7953\"],[0.7777777777777778,\"#fb9f3a\"],[0.8888888888888888,\"#fdca26\"],[1.0,\"#f0f921\"]],\"type\":\"contour\"}],\"heatmapgl\":[{\"colorbar\":{\"outlinewidth\":0,\"ticks\":\"\"},\"colorscale\":[[0.0,\"#0d0887\"],[0.1111111111111111,\"#46039f\"],[0.2222222222222222,\"#7201a8\"],[0.3333333333333333,\"#9c179e\"],[0.4444444444444444,\"#bd3786\"],[0.5555555555555556,\"#d8576b\"],[0.6666666666666666,\"#ed7953\"],[0.7777777777777778,\"#fb9f3a\"],[0.8888888888888888,\"#fdca26\"],[1.0,\"#f0f921\"]],\"type\":\"heatmapgl\"}],\"heatmap\":[{\"colorbar\":{\"outlinewidth\":0,\"ticks\":\"\"},\"colorscale\":[[0.0,\"#0d0887\"],[0.1111111111111111,\"#46039f\"],[0.2222222222222222,\"#7201a8\"],[0.3333333333333333,\"#9c179e\"],[0.4444444444444444,\"#bd3786\"],[0.5555555555555556,\"#d8576b\"],[0.6666666666666666,\"#ed7953\"],[0.7777777777777778,\"#fb9f3a\"],[0.8888888888888888,\"#fdca26\"],[1.0,\"#f0f921\"]],\"type\":\"heatmap\"}],\"histogram2dcontour\":[{\"colorbar\":{\"outlinewidth\":0,\"ticks\":\"\"},\"colorscale\":[[0.0,\"#0d0887\"],[0.1111111111111111,\"#46039f\"],[0.2222222222222222,\"#7201a8\"],[0.3333333333333333,\"#9c179e\"],[0.4444444444444444,\"#bd3786\"],[0.5555555555555556,\"#d8576b\"],[0.6666666666666666,\"#ed7953\"],[0.7777777777777778,\"#fb9f3a\"],[0.8888888888888888,\"#fdca26\"],[1.0,\"#f0f921\"]],\"type\":\"histogram2dcontour\"}],\"histogram2d\":[{\"colorbar\":{\"outlinewidth\":0,\"ticks\":\"\"},\"colorscale\":[[0.0,\"#0d0887\"],[0.1111111111111111,\"#46039f\"],[0.2222222222222222,\"#7201a8\"],[0.3333333333333333,\"#9c179e\"],[0.4444444444444444,\"#bd3786\"],[0.5555555555555556,\"#d8576b\"],[0.6666666666666666,\"#ed7953\"],[0.7777777777777778,\"#fb9f3a\"],[0.8888888888888888,\"#fdca26\"],[1.0,\"#f0f921\"]],\"type\":\"histogram2d\"}],\"histogram\":[{\"marker\":{\"pattern\":{\"fillmode\":\"overlay\",\"size\":10,\"solidity\":0.2}},\"type\":\"histogram\"}],\"mesh3d\":[{\"colorbar\":{\"outlinewidth\":0,\"ticks\":\"\"},\"type\":\"mesh3d\"}],\"parcoords\":[{\"line\":{\"colorbar\":{\"outlinewidth\":0,\"ticks\":\"\"}},\"type\":\"parcoords\"}],\"pie\":[{\"automargin\":true,\"type\":\"pie\"}],\"scatter3d\":[{\"line\":{\"colorbar\":{\"outlinewidth\":0,\"ticks\":\"\"}},\"marker\":{\"colorbar\":{\"outlinewidth\":0,\"ticks\":\"\"}},\"type\":\"scatter3d\"}],\"scattercarpet\":[{\"marker\":{\"colorbar\":{\"outlinewidth\":0,\"ticks\":\"\"}},\"type\":\"scattercarpet\"}],\"scattergeo\":[{\"marker\":{\"colorbar\":{\"outlinewidth\":0,\"ticks\":\"\"}},\"type\":\"scattergeo\"}],\"scattergl\":[{\"marker\":{\"colorbar\":{\"outlinewidth\":0,\"ticks\":\"\"}},\"type\":\"scattergl\"}],\"scattermapbox\":[{\"marker\":{\"colorbar\":{\"outlinewidth\":0,\"ticks\":\"\"}},\"type\":\"scattermapbox\"}],\"scatterpolargl\":[{\"marker\":{\"colorbar\":{\"outlinewidth\":0,\"ticks\":\"\"}},\"type\":\"scatterpolargl\"}],\"scatterpolar\":[{\"marker\":{\"colorbar\":{\"outlinewidth\":0,\"ticks\":\"\"}},\"type\":\"scatterpolar\"}],\"scatter\":[{\"marker\":{\"colorbar\":{\"outlinewidth\":0,\"ticks\":\"\"}},\"type\":\"scatter\"}],\"scatterternary\":[{\"marker\":{\"colorbar\":{\"outlinewidth\":0,\"ticks\":\"\"}},\"type\":\"scatterternary\"}],\"surface\":[{\"colorbar\":{\"outlinewidth\":0,\"ticks\":\"\"},\"colorscale\":[[0.0,\"#0d0887\"],[0.1111111111111111,\"#46039f\"],[0.2222222222222222,\"#7201a8\"],[0.3333333333333333,\"#9c179e\"],[0.4444444444444444,\"#bd3786\"],[0.5555555555555556,\"#d8576b\"],[0.6666666666666666,\"#ed7953\"],[0.7777777777777778,\"#fb9f3a\"],[0.8888888888888888,\"#fdca26\"],[1.0,\"#f0f921\"]],\"type\":\"surface\"}],\"table\":[{\"cells\":{\"fill\":{\"color\":\"#EBF0F8\"},\"line\":{\"color\":\"white\"}},\"header\":{\"fill\":{\"color\":\"#C8D4E3\"},\"line\":{\"color\":\"white\"}},\"type\":\"table\"}]},\"layout\":{\"annotationdefaults\":{\"arrowcolor\":\"#2a3f5f\",\"arrowhead\":0,\"arrowwidth\":1},\"autotypenumbers\":\"strict\",\"coloraxis\":{\"colorbar\":{\"outlinewidth\":0,\"ticks\":\"\"}},\"colorscale\":{\"diverging\":[[0,\"#8e0152\"],[0.1,\"#c51b7d\"],[0.2,\"#de77ae\"],[0.3,\"#f1b6da\"],[0.4,\"#fde0ef\"],[0.5,\"#f7f7f7\"],[0.6,\"#e6f5d0\"],[0.7,\"#b8e186\"],[0.8,\"#7fbc41\"],[0.9,\"#4d9221\"],[1,\"#276419\"]],\"sequential\":[[0.0,\"#0d0887\"],[0.1111111111111111,\"#46039f\"],[0.2222222222222222,\"#7201a8\"],[0.3333333333333333,\"#9c179e\"],[0.4444444444444444,\"#bd3786\"],[0.5555555555555556,\"#d8576b\"],[0.6666666666666666,\"#ed7953\"],[0.7777777777777778,\"#fb9f3a\"],[0.8888888888888888,\"#fdca26\"],[1.0,\"#f0f921\"]],\"sequentialminus\":[[0.0,\"#0d0887\"],[0.1111111111111111,\"#46039f\"],[0.2222222222222222,\"#7201a8\"],[0.3333333333333333,\"#9c179e\"],[0.4444444444444444,\"#bd3786\"],[0.5555555555555556,\"#d8576b\"],[0.6666666666666666,\"#ed7953\"],[0.7777777777777778,\"#fb9f3a\"],[0.8888888888888888,\"#fdca26\"],[1.0,\"#f0f921\"]]},\"colorway\":[\"#636efa\",\"#EF553B\",\"#00cc96\",\"#ab63fa\",\"#FFA15A\",\"#19d3f3\",\"#FF6692\",\"#B6E880\",\"#FF97FF\",\"#FECB52\"],\"font\":{\"color\":\"#2a3f5f\"},\"geo\":{\"bgcolor\":\"white\",\"lakecolor\":\"white\",\"landcolor\":\"#E5ECF6\",\"showlakes\":true,\"showland\":true,\"subunitcolor\":\"white\"},\"hoverlabel\":{\"align\":\"left\"},\"hovermode\":\"closest\",\"mapbox\":{\"style\":\"light\"},\"paper_bgcolor\":\"white\",\"plot_bgcolor\":\"#E5ECF6\",\"polar\":{\"angularaxis\":{\"gridcolor\":\"white\",\"linecolor\":\"white\",\"ticks\":\"\"},\"bgcolor\":\"#E5ECF6\",\"radialaxis\":{\"gridcolor\":\"white\",\"linecolor\":\"white\",\"ticks\":\"\"}},\"scene\":{\"xaxis\":{\"backgroundcolor\":\"#E5ECF6\",\"gridcolor\":\"white\",\"gridwidth\":2,\"linecolor\":\"white\",\"showbackground\":true,\"ticks\":\"\",\"zerolinecolor\":\"white\"},\"yaxis\":{\"backgroundcolor\":\"#E5ECF6\",\"gridcolor\":\"white\",\"gridwidth\":2,\"linecolor\":\"white\",\"showbackground\":true,\"ticks\":\"\",\"zerolinecolor\":\"white\"},\"zaxis\":{\"backgroundcolor\":\"#E5ECF6\",\"gridcolor\":\"white\",\"gridwidth\":2,\"linecolor\":\"white\",\"showbackground\":true,\"ticks\":\"\",\"zerolinecolor\":\"white\"}},\"shapedefaults\":{\"line\":{\"color\":\"#2a3f5f\"}},\"ternary\":{\"aaxis\":{\"gridcolor\":\"white\",\"linecolor\":\"white\",\"ticks\":\"\"},\"baxis\":{\"gridcolor\":\"white\",\"linecolor\":\"white\",\"ticks\":\"\"},\"bgcolor\":\"#E5ECF6\",\"caxis\":{\"gridcolor\":\"white\",\"linecolor\":\"white\",\"ticks\":\"\"}},\"title\":{\"x\":0.05},\"xaxis\":{\"automargin\":true,\"gridcolor\":\"white\",\"linecolor\":\"white\",\"ticks\":\"\",\"title\":{\"standoff\":15},\"zerolinecolor\":\"white\",\"zerolinewidth\":2},\"yaxis\":{\"automargin\":true,\"gridcolor\":\"white\",\"linecolor\":\"white\",\"ticks\":\"\",\"title\":{\"standoff\":15},\"zerolinecolor\":\"white\",\"zerolinewidth\":2}}},\"title\":{\"font\":{\"color\":\"#4D5663\"}},\"xaxis\":{\"gridcolor\":\"#E1E5ED\",\"showgrid\":true,\"tickfont\":{\"color\":\"#4D5663\"},\"title\":{\"font\":{\"color\":\"#4D5663\"},\"text\":\"\"},\"zerolinecolor\":\"#E1E5ED\"},\"yaxis\":{\"gridcolor\":\"#E1E5ED\",\"showgrid\":true,\"tickfont\":{\"color\":\"#4D5663\"},\"title\":{\"font\":{\"color\":\"#4D5663\"},\"text\":\"\"},\"zerolinecolor\":\"#E1E5ED\"}},                        {\"showLink\": true, \"linkText\": \"Export to plot.ly\", \"plotlyServerURL\": \"https://plot.ly\", \"responsive\": true}                    ).then(function(){\n",
       "                            \n",
       "var gd = document.getElementById('37964535-d729-4ed5-8f97-14fdc6272971');\n",
       "var x = new MutationObserver(function (mutations, observer) {{\n",
       "        var display = window.getComputedStyle(gd).display;\n",
       "        if (!display || display === 'none') {{\n",
       "            console.log([gd, 'removed!']);\n",
       "            Plotly.purge(gd);\n",
       "            observer.disconnect();\n",
       "        }}\n",
       "}});\n",
       "\n",
       "// Listen for the removal of the full notebook cells\n",
       "var notebookContainer = gd.closest('#notebook-container');\n",
       "if (notebookContainer) {{\n",
       "    x.observe(notebookContainer, {childList: true});\n",
       "}}\n",
       "\n",
       "// Listen for the clearing of the current output cell\n",
       "var outputEl = gd.closest('.output');\n",
       "if (outputEl) {{\n",
       "    x.observe(outputEl, {childList: true});\n",
       "}}\n",
       "\n",
       "                        })                };                });            </script>        </div>"
      ]
     },
     "metadata": {},
     "output_type": "display_data"
    }
   ],
   "source": [
    "df1.iplot(kind = 'scatter', x = 'A', y = 'B', mode = 'markers')"
   ]
  },
  {
   "cell_type": "code",
   "execution_count": 30,
   "metadata": {},
   "outputs": [
    {
     "data": {
      "application/vnd.plotly.v1+json": {
       "config": {
        "linkText": "Export to plot.ly",
        "plotlyServerURL": "https://plot.ly",
        "showLink": true
       },
       "data": [
        {
         "marker": {
          "color": "rgba(255, 153, 51, 0.6)",
          "line": {
           "color": "rgba(255, 153, 51, 1.0)",
           "width": 1
          }
         },
         "name": "Values",
         "orientation": "v",
         "text": "",
         "type": "bar",
         "x": [
          "A",
          "B",
          "C"
         ],
         "y": [
          32,
          45,
          43
         ]
        }
       ],
       "layout": {
        "legend": {
         "bgcolor": "#F5F6F9",
         "font": {
          "color": "#4D5663"
         }
        },
        "paper_bgcolor": "#F5F6F9",
        "plot_bgcolor": "#F5F6F9",
        "template": {
         "data": {
          "bar": [
           {
            "error_x": {
             "color": "#2a3f5f"
            },
            "error_y": {
             "color": "#2a3f5f"
            },
            "marker": {
             "line": {
              "color": "#E5ECF6",
              "width": 0.5
             },
             "pattern": {
              "fillmode": "overlay",
              "size": 10,
              "solidity": 0.2
             }
            },
            "type": "bar"
           }
          ],
          "barpolar": [
           {
            "marker": {
             "line": {
              "color": "#E5ECF6",
              "width": 0.5
             },
             "pattern": {
              "fillmode": "overlay",
              "size": 10,
              "solidity": 0.2
             }
            },
            "type": "barpolar"
           }
          ],
          "carpet": [
           {
            "aaxis": {
             "endlinecolor": "#2a3f5f",
             "gridcolor": "white",
             "linecolor": "white",
             "minorgridcolor": "white",
             "startlinecolor": "#2a3f5f"
            },
            "baxis": {
             "endlinecolor": "#2a3f5f",
             "gridcolor": "white",
             "linecolor": "white",
             "minorgridcolor": "white",
             "startlinecolor": "#2a3f5f"
            },
            "type": "carpet"
           }
          ],
          "choropleth": [
           {
            "colorbar": {
             "outlinewidth": 0,
             "ticks": ""
            },
            "type": "choropleth"
           }
          ],
          "contour": [
           {
            "colorbar": {
             "outlinewidth": 0,
             "ticks": ""
            },
            "colorscale": [
             [
              0,
              "#0d0887"
             ],
             [
              0.1111111111111111,
              "#46039f"
             ],
             [
              0.2222222222222222,
              "#7201a8"
             ],
             [
              0.3333333333333333,
              "#9c179e"
             ],
             [
              0.4444444444444444,
              "#bd3786"
             ],
             [
              0.5555555555555556,
              "#d8576b"
             ],
             [
              0.6666666666666666,
              "#ed7953"
             ],
             [
              0.7777777777777778,
              "#fb9f3a"
             ],
             [
              0.8888888888888888,
              "#fdca26"
             ],
             [
              1,
              "#f0f921"
             ]
            ],
            "type": "contour"
           }
          ],
          "contourcarpet": [
           {
            "colorbar": {
             "outlinewidth": 0,
             "ticks": ""
            },
            "type": "contourcarpet"
           }
          ],
          "heatmap": [
           {
            "colorbar": {
             "outlinewidth": 0,
             "ticks": ""
            },
            "colorscale": [
             [
              0,
              "#0d0887"
             ],
             [
              0.1111111111111111,
              "#46039f"
             ],
             [
              0.2222222222222222,
              "#7201a8"
             ],
             [
              0.3333333333333333,
              "#9c179e"
             ],
             [
              0.4444444444444444,
              "#bd3786"
             ],
             [
              0.5555555555555556,
              "#d8576b"
             ],
             [
              0.6666666666666666,
              "#ed7953"
             ],
             [
              0.7777777777777778,
              "#fb9f3a"
             ],
             [
              0.8888888888888888,
              "#fdca26"
             ],
             [
              1,
              "#f0f921"
             ]
            ],
            "type": "heatmap"
           }
          ],
          "heatmapgl": [
           {
            "colorbar": {
             "outlinewidth": 0,
             "ticks": ""
            },
            "colorscale": [
             [
              0,
              "#0d0887"
             ],
             [
              0.1111111111111111,
              "#46039f"
             ],
             [
              0.2222222222222222,
              "#7201a8"
             ],
             [
              0.3333333333333333,
              "#9c179e"
             ],
             [
              0.4444444444444444,
              "#bd3786"
             ],
             [
              0.5555555555555556,
              "#d8576b"
             ],
             [
              0.6666666666666666,
              "#ed7953"
             ],
             [
              0.7777777777777778,
              "#fb9f3a"
             ],
             [
              0.8888888888888888,
              "#fdca26"
             ],
             [
              1,
              "#f0f921"
             ]
            ],
            "type": "heatmapgl"
           }
          ],
          "histogram": [
           {
            "marker": {
             "pattern": {
              "fillmode": "overlay",
              "size": 10,
              "solidity": 0.2
             }
            },
            "type": "histogram"
           }
          ],
          "histogram2d": [
           {
            "colorbar": {
             "outlinewidth": 0,
             "ticks": ""
            },
            "colorscale": [
             [
              0,
              "#0d0887"
             ],
             [
              0.1111111111111111,
              "#46039f"
             ],
             [
              0.2222222222222222,
              "#7201a8"
             ],
             [
              0.3333333333333333,
              "#9c179e"
             ],
             [
              0.4444444444444444,
              "#bd3786"
             ],
             [
              0.5555555555555556,
              "#d8576b"
             ],
             [
              0.6666666666666666,
              "#ed7953"
             ],
             [
              0.7777777777777778,
              "#fb9f3a"
             ],
             [
              0.8888888888888888,
              "#fdca26"
             ],
             [
              1,
              "#f0f921"
             ]
            ],
            "type": "histogram2d"
           }
          ],
          "histogram2dcontour": [
           {
            "colorbar": {
             "outlinewidth": 0,
             "ticks": ""
            },
            "colorscale": [
             [
              0,
              "#0d0887"
             ],
             [
              0.1111111111111111,
              "#46039f"
             ],
             [
              0.2222222222222222,
              "#7201a8"
             ],
             [
              0.3333333333333333,
              "#9c179e"
             ],
             [
              0.4444444444444444,
              "#bd3786"
             ],
             [
              0.5555555555555556,
              "#d8576b"
             ],
             [
              0.6666666666666666,
              "#ed7953"
             ],
             [
              0.7777777777777778,
              "#fb9f3a"
             ],
             [
              0.8888888888888888,
              "#fdca26"
             ],
             [
              1,
              "#f0f921"
             ]
            ],
            "type": "histogram2dcontour"
           }
          ],
          "mesh3d": [
           {
            "colorbar": {
             "outlinewidth": 0,
             "ticks": ""
            },
            "type": "mesh3d"
           }
          ],
          "parcoords": [
           {
            "line": {
             "colorbar": {
              "outlinewidth": 0,
              "ticks": ""
             }
            },
            "type": "parcoords"
           }
          ],
          "pie": [
           {
            "automargin": true,
            "type": "pie"
           }
          ],
          "scatter": [
           {
            "marker": {
             "colorbar": {
              "outlinewidth": 0,
              "ticks": ""
             }
            },
            "type": "scatter"
           }
          ],
          "scatter3d": [
           {
            "line": {
             "colorbar": {
              "outlinewidth": 0,
              "ticks": ""
             }
            },
            "marker": {
             "colorbar": {
              "outlinewidth": 0,
              "ticks": ""
             }
            },
            "type": "scatter3d"
           }
          ],
          "scattercarpet": [
           {
            "marker": {
             "colorbar": {
              "outlinewidth": 0,
              "ticks": ""
             }
            },
            "type": "scattercarpet"
           }
          ],
          "scattergeo": [
           {
            "marker": {
             "colorbar": {
              "outlinewidth": 0,
              "ticks": ""
             }
            },
            "type": "scattergeo"
           }
          ],
          "scattergl": [
           {
            "marker": {
             "colorbar": {
              "outlinewidth": 0,
              "ticks": ""
             }
            },
            "type": "scattergl"
           }
          ],
          "scattermapbox": [
           {
            "marker": {
             "colorbar": {
              "outlinewidth": 0,
              "ticks": ""
             }
            },
            "type": "scattermapbox"
           }
          ],
          "scatterpolar": [
           {
            "marker": {
             "colorbar": {
              "outlinewidth": 0,
              "ticks": ""
             }
            },
            "type": "scatterpolar"
           }
          ],
          "scatterpolargl": [
           {
            "marker": {
             "colorbar": {
              "outlinewidth": 0,
              "ticks": ""
             }
            },
            "type": "scatterpolargl"
           }
          ],
          "scatterternary": [
           {
            "marker": {
             "colorbar": {
              "outlinewidth": 0,
              "ticks": ""
             }
            },
            "type": "scatterternary"
           }
          ],
          "surface": [
           {
            "colorbar": {
             "outlinewidth": 0,
             "ticks": ""
            },
            "colorscale": [
             [
              0,
              "#0d0887"
             ],
             [
              0.1111111111111111,
              "#46039f"
             ],
             [
              0.2222222222222222,
              "#7201a8"
             ],
             [
              0.3333333333333333,
              "#9c179e"
             ],
             [
              0.4444444444444444,
              "#bd3786"
             ],
             [
              0.5555555555555556,
              "#d8576b"
             ],
             [
              0.6666666666666666,
              "#ed7953"
             ],
             [
              0.7777777777777778,
              "#fb9f3a"
             ],
             [
              0.8888888888888888,
              "#fdca26"
             ],
             [
              1,
              "#f0f921"
             ]
            ],
            "type": "surface"
           }
          ],
          "table": [
           {
            "cells": {
             "fill": {
              "color": "#EBF0F8"
             },
             "line": {
              "color": "white"
             }
            },
            "header": {
             "fill": {
              "color": "#C8D4E3"
             },
             "line": {
              "color": "white"
             }
            },
            "type": "table"
           }
          ]
         },
         "layout": {
          "annotationdefaults": {
           "arrowcolor": "#2a3f5f",
           "arrowhead": 0,
           "arrowwidth": 1
          },
          "autotypenumbers": "strict",
          "coloraxis": {
           "colorbar": {
            "outlinewidth": 0,
            "ticks": ""
           }
          },
          "colorscale": {
           "diverging": [
            [
             0,
             "#8e0152"
            ],
            [
             0.1,
             "#c51b7d"
            ],
            [
             0.2,
             "#de77ae"
            ],
            [
             0.3,
             "#f1b6da"
            ],
            [
             0.4,
             "#fde0ef"
            ],
            [
             0.5,
             "#f7f7f7"
            ],
            [
             0.6,
             "#e6f5d0"
            ],
            [
             0.7,
             "#b8e186"
            ],
            [
             0.8,
             "#7fbc41"
            ],
            [
             0.9,
             "#4d9221"
            ],
            [
             1,
             "#276419"
            ]
           ],
           "sequential": [
            [
             0,
             "#0d0887"
            ],
            [
             0.1111111111111111,
             "#46039f"
            ],
            [
             0.2222222222222222,
             "#7201a8"
            ],
            [
             0.3333333333333333,
             "#9c179e"
            ],
            [
             0.4444444444444444,
             "#bd3786"
            ],
            [
             0.5555555555555556,
             "#d8576b"
            ],
            [
             0.6666666666666666,
             "#ed7953"
            ],
            [
             0.7777777777777778,
             "#fb9f3a"
            ],
            [
             0.8888888888888888,
             "#fdca26"
            ],
            [
             1,
             "#f0f921"
            ]
           ],
           "sequentialminus": [
            [
             0,
             "#0d0887"
            ],
            [
             0.1111111111111111,
             "#46039f"
            ],
            [
             0.2222222222222222,
             "#7201a8"
            ],
            [
             0.3333333333333333,
             "#9c179e"
            ],
            [
             0.4444444444444444,
             "#bd3786"
            ],
            [
             0.5555555555555556,
             "#d8576b"
            ],
            [
             0.6666666666666666,
             "#ed7953"
            ],
            [
             0.7777777777777778,
             "#fb9f3a"
            ],
            [
             0.8888888888888888,
             "#fdca26"
            ],
            [
             1,
             "#f0f921"
            ]
           ]
          },
          "colorway": [
           "#636efa",
           "#EF553B",
           "#00cc96",
           "#ab63fa",
           "#FFA15A",
           "#19d3f3",
           "#FF6692",
           "#B6E880",
           "#FF97FF",
           "#FECB52"
          ],
          "font": {
           "color": "#2a3f5f"
          },
          "geo": {
           "bgcolor": "white",
           "lakecolor": "white",
           "landcolor": "#E5ECF6",
           "showlakes": true,
           "showland": true,
           "subunitcolor": "white"
          },
          "hoverlabel": {
           "align": "left"
          },
          "hovermode": "closest",
          "mapbox": {
           "style": "light"
          },
          "paper_bgcolor": "white",
          "plot_bgcolor": "#E5ECF6",
          "polar": {
           "angularaxis": {
            "gridcolor": "white",
            "linecolor": "white",
            "ticks": ""
           },
           "bgcolor": "#E5ECF6",
           "radialaxis": {
            "gridcolor": "white",
            "linecolor": "white",
            "ticks": ""
           }
          },
          "scene": {
           "xaxis": {
            "backgroundcolor": "#E5ECF6",
            "gridcolor": "white",
            "gridwidth": 2,
            "linecolor": "white",
            "showbackground": true,
            "ticks": "",
            "zerolinecolor": "white"
           },
           "yaxis": {
            "backgroundcolor": "#E5ECF6",
            "gridcolor": "white",
            "gridwidth": 2,
            "linecolor": "white",
            "showbackground": true,
            "ticks": "",
            "zerolinecolor": "white"
           },
           "zaxis": {
            "backgroundcolor": "#E5ECF6",
            "gridcolor": "white",
            "gridwidth": 2,
            "linecolor": "white",
            "showbackground": true,
            "ticks": "",
            "zerolinecolor": "white"
           }
          },
          "shapedefaults": {
           "line": {
            "color": "#2a3f5f"
           }
          },
          "ternary": {
           "aaxis": {
            "gridcolor": "white",
            "linecolor": "white",
            "ticks": ""
           },
           "baxis": {
            "gridcolor": "white",
            "linecolor": "white",
            "ticks": ""
           },
           "bgcolor": "#E5ECF6",
           "caxis": {
            "gridcolor": "white",
            "linecolor": "white",
            "ticks": ""
           }
          },
          "title": {
           "x": 0.05
          },
          "xaxis": {
           "automargin": true,
           "gridcolor": "white",
           "linecolor": "white",
           "ticks": "",
           "title": {
            "standoff": 15
           },
           "zerolinecolor": "white",
           "zerolinewidth": 2
          },
          "yaxis": {
           "automargin": true,
           "gridcolor": "white",
           "linecolor": "white",
           "ticks": "",
           "title": {
            "standoff": 15
           },
           "zerolinecolor": "white",
           "zerolinewidth": 2
          }
         }
        },
        "title": {
         "font": {
          "color": "#4D5663"
         }
        },
        "xaxis": {
         "gridcolor": "#E1E5ED",
         "showgrid": true,
         "tickfont": {
          "color": "#4D5663"
         },
         "title": {
          "font": {
           "color": "#4D5663"
          },
          "text": ""
         },
         "zerolinecolor": "#E1E5ED"
        },
        "yaxis": {
         "gridcolor": "#E1E5ED",
         "showgrid": true,
         "tickfont": {
          "color": "#4D5663"
         },
         "title": {
          "font": {
           "color": "#4D5663"
          },
          "text": ""
         },
         "zerolinecolor": "#E1E5ED"
        }
       }
      },
      "text/html": [
       "<div>                            <div id=\"ad5b83d5-4027-48ea-8913-65990b2dd40b\" class=\"plotly-graph-div\" style=\"height:525px; width:100%;\"></div>            <script type=\"text/javascript\">                require([\"plotly\"], function(Plotly) {                    window.PLOTLYENV=window.PLOTLYENV || {};\n",
       "                    window.PLOTLYENV.BASE_URL='https://plot.ly';                                    if (document.getElementById(\"ad5b83d5-4027-48ea-8913-65990b2dd40b\")) {                    Plotly.newPlot(                        \"ad5b83d5-4027-48ea-8913-65990b2dd40b\",                        [{\"marker\":{\"color\":\"rgba(255, 153, 51, 0.6)\",\"line\":{\"color\":\"rgba(255, 153, 51, 1.0)\",\"width\":1}},\"name\":\"Values\",\"orientation\":\"v\",\"text\":\"\",\"x\":[\"A\",\"B\",\"C\"],\"y\":[32,45,43],\"type\":\"bar\"}],                        {\"legend\":{\"bgcolor\":\"#F5F6F9\",\"font\":{\"color\":\"#4D5663\"}},\"paper_bgcolor\":\"#F5F6F9\",\"plot_bgcolor\":\"#F5F6F9\",\"template\":{\"data\":{\"barpolar\":[{\"marker\":{\"line\":{\"color\":\"#E5ECF6\",\"width\":0.5},\"pattern\":{\"fillmode\":\"overlay\",\"size\":10,\"solidity\":0.2}},\"type\":\"barpolar\"}],\"bar\":[{\"error_x\":{\"color\":\"#2a3f5f\"},\"error_y\":{\"color\":\"#2a3f5f\"},\"marker\":{\"line\":{\"color\":\"#E5ECF6\",\"width\":0.5},\"pattern\":{\"fillmode\":\"overlay\",\"size\":10,\"solidity\":0.2}},\"type\":\"bar\"}],\"carpet\":[{\"aaxis\":{\"endlinecolor\":\"#2a3f5f\",\"gridcolor\":\"white\",\"linecolor\":\"white\",\"minorgridcolor\":\"white\",\"startlinecolor\":\"#2a3f5f\"},\"baxis\":{\"endlinecolor\":\"#2a3f5f\",\"gridcolor\":\"white\",\"linecolor\":\"white\",\"minorgridcolor\":\"white\",\"startlinecolor\":\"#2a3f5f\"},\"type\":\"carpet\"}],\"choropleth\":[{\"colorbar\":{\"outlinewidth\":0,\"ticks\":\"\"},\"type\":\"choropleth\"}],\"contourcarpet\":[{\"colorbar\":{\"outlinewidth\":0,\"ticks\":\"\"},\"type\":\"contourcarpet\"}],\"contour\":[{\"colorbar\":{\"outlinewidth\":0,\"ticks\":\"\"},\"colorscale\":[[0.0,\"#0d0887\"],[0.1111111111111111,\"#46039f\"],[0.2222222222222222,\"#7201a8\"],[0.3333333333333333,\"#9c179e\"],[0.4444444444444444,\"#bd3786\"],[0.5555555555555556,\"#d8576b\"],[0.6666666666666666,\"#ed7953\"],[0.7777777777777778,\"#fb9f3a\"],[0.8888888888888888,\"#fdca26\"],[1.0,\"#f0f921\"]],\"type\":\"contour\"}],\"heatmapgl\":[{\"colorbar\":{\"outlinewidth\":0,\"ticks\":\"\"},\"colorscale\":[[0.0,\"#0d0887\"],[0.1111111111111111,\"#46039f\"],[0.2222222222222222,\"#7201a8\"],[0.3333333333333333,\"#9c179e\"],[0.4444444444444444,\"#bd3786\"],[0.5555555555555556,\"#d8576b\"],[0.6666666666666666,\"#ed7953\"],[0.7777777777777778,\"#fb9f3a\"],[0.8888888888888888,\"#fdca26\"],[1.0,\"#f0f921\"]],\"type\":\"heatmapgl\"}],\"heatmap\":[{\"colorbar\":{\"outlinewidth\":0,\"ticks\":\"\"},\"colorscale\":[[0.0,\"#0d0887\"],[0.1111111111111111,\"#46039f\"],[0.2222222222222222,\"#7201a8\"],[0.3333333333333333,\"#9c179e\"],[0.4444444444444444,\"#bd3786\"],[0.5555555555555556,\"#d8576b\"],[0.6666666666666666,\"#ed7953\"],[0.7777777777777778,\"#fb9f3a\"],[0.8888888888888888,\"#fdca26\"],[1.0,\"#f0f921\"]],\"type\":\"heatmap\"}],\"histogram2dcontour\":[{\"colorbar\":{\"outlinewidth\":0,\"ticks\":\"\"},\"colorscale\":[[0.0,\"#0d0887\"],[0.1111111111111111,\"#46039f\"],[0.2222222222222222,\"#7201a8\"],[0.3333333333333333,\"#9c179e\"],[0.4444444444444444,\"#bd3786\"],[0.5555555555555556,\"#d8576b\"],[0.6666666666666666,\"#ed7953\"],[0.7777777777777778,\"#fb9f3a\"],[0.8888888888888888,\"#fdca26\"],[1.0,\"#f0f921\"]],\"type\":\"histogram2dcontour\"}],\"histogram2d\":[{\"colorbar\":{\"outlinewidth\":0,\"ticks\":\"\"},\"colorscale\":[[0.0,\"#0d0887\"],[0.1111111111111111,\"#46039f\"],[0.2222222222222222,\"#7201a8\"],[0.3333333333333333,\"#9c179e\"],[0.4444444444444444,\"#bd3786\"],[0.5555555555555556,\"#d8576b\"],[0.6666666666666666,\"#ed7953\"],[0.7777777777777778,\"#fb9f3a\"],[0.8888888888888888,\"#fdca26\"],[1.0,\"#f0f921\"]],\"type\":\"histogram2d\"}],\"histogram\":[{\"marker\":{\"pattern\":{\"fillmode\":\"overlay\",\"size\":10,\"solidity\":0.2}},\"type\":\"histogram\"}],\"mesh3d\":[{\"colorbar\":{\"outlinewidth\":0,\"ticks\":\"\"},\"type\":\"mesh3d\"}],\"parcoords\":[{\"line\":{\"colorbar\":{\"outlinewidth\":0,\"ticks\":\"\"}},\"type\":\"parcoords\"}],\"pie\":[{\"automargin\":true,\"type\":\"pie\"}],\"scatter3d\":[{\"line\":{\"colorbar\":{\"outlinewidth\":0,\"ticks\":\"\"}},\"marker\":{\"colorbar\":{\"outlinewidth\":0,\"ticks\":\"\"}},\"type\":\"scatter3d\"}],\"scattercarpet\":[{\"marker\":{\"colorbar\":{\"outlinewidth\":0,\"ticks\":\"\"}},\"type\":\"scattercarpet\"}],\"scattergeo\":[{\"marker\":{\"colorbar\":{\"outlinewidth\":0,\"ticks\":\"\"}},\"type\":\"scattergeo\"}],\"scattergl\":[{\"marker\":{\"colorbar\":{\"outlinewidth\":0,\"ticks\":\"\"}},\"type\":\"scattergl\"}],\"scattermapbox\":[{\"marker\":{\"colorbar\":{\"outlinewidth\":0,\"ticks\":\"\"}},\"type\":\"scattermapbox\"}],\"scatterpolargl\":[{\"marker\":{\"colorbar\":{\"outlinewidth\":0,\"ticks\":\"\"}},\"type\":\"scatterpolargl\"}],\"scatterpolar\":[{\"marker\":{\"colorbar\":{\"outlinewidth\":0,\"ticks\":\"\"}},\"type\":\"scatterpolar\"}],\"scatter\":[{\"marker\":{\"colorbar\":{\"outlinewidth\":0,\"ticks\":\"\"}},\"type\":\"scatter\"}],\"scatterternary\":[{\"marker\":{\"colorbar\":{\"outlinewidth\":0,\"ticks\":\"\"}},\"type\":\"scatterternary\"}],\"surface\":[{\"colorbar\":{\"outlinewidth\":0,\"ticks\":\"\"},\"colorscale\":[[0.0,\"#0d0887\"],[0.1111111111111111,\"#46039f\"],[0.2222222222222222,\"#7201a8\"],[0.3333333333333333,\"#9c179e\"],[0.4444444444444444,\"#bd3786\"],[0.5555555555555556,\"#d8576b\"],[0.6666666666666666,\"#ed7953\"],[0.7777777777777778,\"#fb9f3a\"],[0.8888888888888888,\"#fdca26\"],[1.0,\"#f0f921\"]],\"type\":\"surface\"}],\"table\":[{\"cells\":{\"fill\":{\"color\":\"#EBF0F8\"},\"line\":{\"color\":\"white\"}},\"header\":{\"fill\":{\"color\":\"#C8D4E3\"},\"line\":{\"color\":\"white\"}},\"type\":\"table\"}]},\"layout\":{\"annotationdefaults\":{\"arrowcolor\":\"#2a3f5f\",\"arrowhead\":0,\"arrowwidth\":1},\"autotypenumbers\":\"strict\",\"coloraxis\":{\"colorbar\":{\"outlinewidth\":0,\"ticks\":\"\"}},\"colorscale\":{\"diverging\":[[0,\"#8e0152\"],[0.1,\"#c51b7d\"],[0.2,\"#de77ae\"],[0.3,\"#f1b6da\"],[0.4,\"#fde0ef\"],[0.5,\"#f7f7f7\"],[0.6,\"#e6f5d0\"],[0.7,\"#b8e186\"],[0.8,\"#7fbc41\"],[0.9,\"#4d9221\"],[1,\"#276419\"]],\"sequential\":[[0.0,\"#0d0887\"],[0.1111111111111111,\"#46039f\"],[0.2222222222222222,\"#7201a8\"],[0.3333333333333333,\"#9c179e\"],[0.4444444444444444,\"#bd3786\"],[0.5555555555555556,\"#d8576b\"],[0.6666666666666666,\"#ed7953\"],[0.7777777777777778,\"#fb9f3a\"],[0.8888888888888888,\"#fdca26\"],[1.0,\"#f0f921\"]],\"sequentialminus\":[[0.0,\"#0d0887\"],[0.1111111111111111,\"#46039f\"],[0.2222222222222222,\"#7201a8\"],[0.3333333333333333,\"#9c179e\"],[0.4444444444444444,\"#bd3786\"],[0.5555555555555556,\"#d8576b\"],[0.6666666666666666,\"#ed7953\"],[0.7777777777777778,\"#fb9f3a\"],[0.8888888888888888,\"#fdca26\"],[1.0,\"#f0f921\"]]},\"colorway\":[\"#636efa\",\"#EF553B\",\"#00cc96\",\"#ab63fa\",\"#FFA15A\",\"#19d3f3\",\"#FF6692\",\"#B6E880\",\"#FF97FF\",\"#FECB52\"],\"font\":{\"color\":\"#2a3f5f\"},\"geo\":{\"bgcolor\":\"white\",\"lakecolor\":\"white\",\"landcolor\":\"#E5ECF6\",\"showlakes\":true,\"showland\":true,\"subunitcolor\":\"white\"},\"hoverlabel\":{\"align\":\"left\"},\"hovermode\":\"closest\",\"mapbox\":{\"style\":\"light\"},\"paper_bgcolor\":\"white\",\"plot_bgcolor\":\"#E5ECF6\",\"polar\":{\"angularaxis\":{\"gridcolor\":\"white\",\"linecolor\":\"white\",\"ticks\":\"\"},\"bgcolor\":\"#E5ECF6\",\"radialaxis\":{\"gridcolor\":\"white\",\"linecolor\":\"white\",\"ticks\":\"\"}},\"scene\":{\"xaxis\":{\"backgroundcolor\":\"#E5ECF6\",\"gridcolor\":\"white\",\"gridwidth\":2,\"linecolor\":\"white\",\"showbackground\":true,\"ticks\":\"\",\"zerolinecolor\":\"white\"},\"yaxis\":{\"backgroundcolor\":\"#E5ECF6\",\"gridcolor\":\"white\",\"gridwidth\":2,\"linecolor\":\"white\",\"showbackground\":true,\"ticks\":\"\",\"zerolinecolor\":\"white\"},\"zaxis\":{\"backgroundcolor\":\"#E5ECF6\",\"gridcolor\":\"white\",\"gridwidth\":2,\"linecolor\":\"white\",\"showbackground\":true,\"ticks\":\"\",\"zerolinecolor\":\"white\"}},\"shapedefaults\":{\"line\":{\"color\":\"#2a3f5f\"}},\"ternary\":{\"aaxis\":{\"gridcolor\":\"white\",\"linecolor\":\"white\",\"ticks\":\"\"},\"baxis\":{\"gridcolor\":\"white\",\"linecolor\":\"white\",\"ticks\":\"\"},\"bgcolor\":\"#E5ECF6\",\"caxis\":{\"gridcolor\":\"white\",\"linecolor\":\"white\",\"ticks\":\"\"}},\"title\":{\"x\":0.05},\"xaxis\":{\"automargin\":true,\"gridcolor\":\"white\",\"linecolor\":\"white\",\"ticks\":\"\",\"title\":{\"standoff\":15},\"zerolinecolor\":\"white\",\"zerolinewidth\":2},\"yaxis\":{\"automargin\":true,\"gridcolor\":\"white\",\"linecolor\":\"white\",\"ticks\":\"\",\"title\":{\"standoff\":15},\"zerolinecolor\":\"white\",\"zerolinewidth\":2}}},\"title\":{\"font\":{\"color\":\"#4D5663\"}},\"xaxis\":{\"gridcolor\":\"#E1E5ED\",\"showgrid\":true,\"tickfont\":{\"color\":\"#4D5663\"},\"title\":{\"font\":{\"color\":\"#4D5663\"},\"text\":\"\"},\"zerolinecolor\":\"#E1E5ED\"},\"yaxis\":{\"gridcolor\":\"#E1E5ED\",\"showgrid\":true,\"tickfont\":{\"color\":\"#4D5663\"},\"title\":{\"font\":{\"color\":\"#4D5663\"},\"text\":\"\"},\"zerolinecolor\":\"#E1E5ED\"}},                        {\"showLink\": true, \"linkText\": \"Export to plot.ly\", \"plotlyServerURL\": \"https://plot.ly\", \"responsive\": true}                    ).then(function(){\n",
       "                            \n",
       "var gd = document.getElementById('ad5b83d5-4027-48ea-8913-65990b2dd40b');\n",
       "var x = new MutationObserver(function (mutations, observer) {{\n",
       "        var display = window.getComputedStyle(gd).display;\n",
       "        if (!display || display === 'none') {{\n",
       "            console.log([gd, 'removed!']);\n",
       "            Plotly.purge(gd);\n",
       "            observer.disconnect();\n",
       "        }}\n",
       "}});\n",
       "\n",
       "// Listen for the removal of the full notebook cells\n",
       "var notebookContainer = gd.closest('#notebook-container');\n",
       "if (notebookContainer) {{\n",
       "    x.observe(notebookContainer, {childList: true});\n",
       "}}\n",
       "\n",
       "// Listen for the clearing of the current output cell\n",
       "var outputEl = gd.closest('.output');\n",
       "if (outputEl) {{\n",
       "    x.observe(outputEl, {childList: true});\n",
       "}}\n",
       "\n",
       "                        })                };                });            </script>        </div>"
      ]
     },
     "metadata": {},
     "output_type": "display_data"
    }
   ],
   "source": [
    "df2.iplot(kind = 'bar', x = 'Category', y = 'Values')"
   ]
  },
  {
   "cell_type": "code",
   "execution_count": 33,
   "metadata": {},
   "outputs": [
    {
     "data": {
      "application/vnd.plotly.v1+json": {
       "config": {
        "linkText": "Export to plot.ly",
        "plotlyServerURL": "https://plot.ly",
        "showLink": true
       },
       "data": [
        {
         "marker": {
          "color": "rgba(255, 153, 51, 0.6)",
          "line": {
           "color": "rgba(255, 153, 51, 1.0)",
           "width": 1
          }
         },
         "name": "A",
         "orientation": "v",
         "text": "",
         "type": "bar",
         "x": [
          0,
          1,
          2,
          3,
          4,
          5,
          6,
          7,
          8,
          9,
          10,
          11,
          12,
          13,
          14,
          15,
          16,
          17,
          18,
          19,
          20,
          21,
          22,
          23,
          24,
          25,
          26,
          27,
          28,
          29,
          30,
          31,
          32,
          33,
          34,
          35,
          36,
          37,
          38,
          39,
          40,
          41,
          42,
          43,
          44,
          45,
          46,
          47,
          48,
          49,
          50,
          51,
          52,
          53,
          54,
          55,
          56,
          57,
          58,
          59,
          60,
          61,
          62,
          63,
          64,
          65,
          66,
          67,
          68,
          69,
          70,
          71,
          72,
          73,
          74,
          75,
          76,
          77,
          78,
          79,
          80,
          81,
          82,
          83,
          84,
          85,
          86,
          87,
          88,
          89,
          90,
          91,
          92,
          93,
          94,
          95,
          96,
          97,
          98,
          99
         ],
         "y": [
          1.7592674651251152,
          0.8787218458910496,
          0.7134755498126357,
          0.6902721270395067,
          -0.8392056378791071,
          -0.410187796579283,
          -0.749463497352397,
          -1.4679773278579327,
          0.17263486907373998,
          -1.140667862333151,
          -0.7264220397357,
          -0.21531012607731087,
          0.3695347098486094,
          -2.0138976971460343,
          0.8154041255049143,
          0.4890249015338061,
          -0.23474795209744428,
          -0.8213308623714797,
          -1.195229727763427,
          -0.9914236260192545,
          0.2512600467217616,
          -0.12157399538919733,
          0.44388757250404565,
          -2.332066806648214,
          1.213455232217833,
          0.5480088995187345,
          0.08293498388681905,
          0.08838344775686649,
          -1.201761633605335,
          1.1395621776452982,
          -2.2300918015120343,
          -0.11096144614197102,
          0.1548330025446032,
          0.19057943738735864,
          -0.17732789247078184,
          0.0727326728932698,
          -2.480198629811246,
          -0.5561724350296002,
          -0.12051812088678243,
          -0.8620949624103285,
          0.7037093497777408,
          -1.0494109763522284,
          -0.198600957917677,
          -0.7929925461540783,
          1.3710172794725703,
          0.4077871710989301,
          -1.2101053085734212,
          0.22009525923749057,
          1.0123057266598217,
          0.8771918880126052,
          -0.37329111873600024,
          0.5517050144136014,
          0.6658167591483389,
          0.6646233157715355,
          -0.17767742719894206,
          0.1675420392962526,
          -1.2507374797469628,
          0.3700420762209868,
          -1.1084642400786153,
          -0.10980486393022237,
          0.371011275486945,
          -1.6906203598652072,
          -0.5722564040766488,
          -0.2826540131323494,
          2.0370466837093075,
          0.07852235911718304,
          1.1996429322194282,
          0.45947682627001185,
          -0.019105028894628864,
          -0.5010049196863909,
          -1.4625748706158619,
          -1.03167451141023,
          -1.4793256577672635,
          -0.21329096343183504,
          -1.2919672265849762,
          0.35328301363758324,
          -0.38618290363334673,
          0.5545421520772514,
          0.5429986045091604,
          -0.09390799829623925,
          0.44818830394049786,
          -1.9451925019732001,
          -0.23602921152138073,
          0.4052401305428093,
          1.466889746515699,
          -0.7868997734258795,
          2.0931389988007854,
          -1.411718352888902,
          -1.0745604814784364,
          -1.708652681636383,
          -0.3981074512618315,
          -0.9171433605408393,
          0.9892855092764576,
          -1.9043822885643045,
          -0.6180691732541292,
          -0.2523560329273775,
          -1.0899353361015742,
          -1.8435439950608874,
          -0.467022276045951,
          -1.8319445098920557
         ]
        },
        {
         "marker": {
          "color": "rgba(55, 128, 191, 0.6)",
          "line": {
           "color": "rgba(55, 128, 191, 1.0)",
           "width": 1
          }
         },
         "name": "B",
         "orientation": "v",
         "text": "",
         "type": "bar",
         "x": [
          0,
          1,
          2,
          3,
          4,
          5,
          6,
          7,
          8,
          9,
          10,
          11,
          12,
          13,
          14,
          15,
          16,
          17,
          18,
          19,
          20,
          21,
          22,
          23,
          24,
          25,
          26,
          27,
          28,
          29,
          30,
          31,
          32,
          33,
          34,
          35,
          36,
          37,
          38,
          39,
          40,
          41,
          42,
          43,
          44,
          45,
          46,
          47,
          48,
          49,
          50,
          51,
          52,
          53,
          54,
          55,
          56,
          57,
          58,
          59,
          60,
          61,
          62,
          63,
          64,
          65,
          66,
          67,
          68,
          69,
          70,
          71,
          72,
          73,
          74,
          75,
          76,
          77,
          78,
          79,
          80,
          81,
          82,
          83,
          84,
          85,
          86,
          87,
          88,
          89,
          90,
          91,
          92,
          93,
          94,
          95,
          96,
          97,
          98,
          99
         ],
         "y": [
          -0.312966679120713,
          -0.2577777535014562,
          -1.0013077596885558,
          0.57829176063918,
          -1.0979151193660202,
          0.6210491456140375,
          -0.14609358170044806,
          0.9181442238500663,
          0.35125080009000104,
          -0.38383405161014084,
          0.3099330474803078,
          1.7022547868242137,
          0.37115113722083565,
          -0.5056036743596625,
          -0.1736730791216031,
          -0.3265011416957117,
          1.732417258539487,
          0.10459248815866344,
          2.209646271774528,
          -0.08264004940351465,
          1.30273590610919,
          0.9826868857870211,
          -0.5144006309103197,
          1.9474686023111303,
          1.0855463327348507,
          -1.0816250243644963,
          0.014217497966231485,
          0.28204572819832263,
          0.12523223291223745,
          -0.6991959015363607,
          -0.21829215369778424,
          -0.8140811042923699,
          0.017584750774096117,
          0.15000881492554732,
          1.5601375901065841,
          -0.43056145739593155,
          -1.6326609675770856,
          -0.5971934841520784,
          0.12778340733293234,
          -0.11710090684276153,
          1.3197091352438721,
          -0.048207943149042476,
          0.8730043883585582,
          1.560900791240423,
          0.3140271229148872,
          0.27243556387522283,
          -0.12625802274111192,
          -0.48109998065712967,
          0.9369277776902359,
          2.3774211448266835,
          -0.685866295073244,
          0.9609817725480212,
          -1.5908857940721928,
          -0.8467869640184655,
          -0.26975041138557065,
          0.04148126575959703,
          0.042561711352731346,
          0.20340559199747407,
          -0.5925478251720548,
          -1.0157283320327488,
          -0.040354895167174214,
          -1.3481845031840831,
          -0.38514475670449244,
          0.8951152193028845,
          0.5333470067173158,
          0.9039986410164801,
          1.1226888593991298,
          -1.8789477036787832,
          0.7431467427869103,
          0.06082615854320122,
          0.468876624388653,
          0.43299477497039224,
          -0.4422162150548018,
          0.08083011603601761,
          -0.08430212966833674,
          0.605491957903997,
          -1.6913308948123682,
          -0.5028586181842968,
          0.9222831254046974,
          2.0124944854281863,
          1.2851686416921067,
          1.6465081564855104,
          -0.9029698424035064,
          -0.07959550509246587,
          0.9068846788916258,
          -0.6371552639419636,
          0.1123938222038434,
          0.5499592178999143,
          0.659062263423722,
          -0.28617956314838167,
          1.7138174687795322,
          -0.8378410898771907,
          0.8719928086332663,
          0.715420252165574,
          2.4889200906189712,
          0.611113791564853,
          -0.5884286701901845,
          -0.6544429110889514,
          1.8012899746454,
          1.0930244979266563
         ]
        },
        {
         "marker": {
          "color": "rgba(50, 171, 96, 0.6)",
          "line": {
           "color": "rgba(50, 171, 96, 1.0)",
           "width": 1
          }
         },
         "name": "C",
         "orientation": "v",
         "text": "",
         "type": "bar",
         "x": [
          0,
          1,
          2,
          3,
          4,
          5,
          6,
          7,
          8,
          9,
          10,
          11,
          12,
          13,
          14,
          15,
          16,
          17,
          18,
          19,
          20,
          21,
          22,
          23,
          24,
          25,
          26,
          27,
          28,
          29,
          30,
          31,
          32,
          33,
          34,
          35,
          36,
          37,
          38,
          39,
          40,
          41,
          42,
          43,
          44,
          45,
          46,
          47,
          48,
          49,
          50,
          51,
          52,
          53,
          54,
          55,
          56,
          57,
          58,
          59,
          60,
          61,
          62,
          63,
          64,
          65,
          66,
          67,
          68,
          69,
          70,
          71,
          72,
          73,
          74,
          75,
          76,
          77,
          78,
          79,
          80,
          81,
          82,
          83,
          84,
          85,
          86,
          87,
          88,
          89,
          90,
          91,
          92,
          93,
          94,
          95,
          96,
          97,
          98,
          99
         ],
         "y": [
          -0.23672466683693338,
          -0.42931380344656406,
          1.027242254132981,
          0.2107110098264841,
          -0.4205403293990435,
          -1.0188835135951178,
          0.44159539775261586,
          1.8676419612270871,
          -0.22082128187989783,
          0.030033010804584807,
          0.9870311592441908,
          -1.605833660791862,
          -0.9116130266800055,
          0.2760107364467912,
          -0.5430560719186309,
          0.7324001102799076,
          -1.0967640536564522,
          -0.8489282206571513,
          -0.47198728712579435,
          -0.4768833830407472,
          0.348267092982885,
          1.3766717083459403,
          -3.167844889916202,
          0.7272476885671425,
          -1.717504131723557,
          0.2607002659818533,
          -1.3719123572503225,
          -0.2640839105101513,
          -0.11038279117197111,
          -0.7987697408889248,
          0.23275531261600993,
          -0.6066334691940996,
          -1.8628663775461005,
          -0.007595325545945604,
          -0.4287229769203462,
          0.6812449013914802,
          0.41503735855285084,
          0.3409221490434358,
          0.6792919490154056,
          -0.4570801790818482,
          0.5080972267442241,
          -2.0784976937469355,
          0.5739511565226756,
          0.5177796307353179,
          -0.7049925476162479,
          0.5167673049116059,
          1.4251717879459267,
          2.2744936015889854,
          -0.3119754847873727,
          1.7604273867814355,
          1.7161786268975932,
          0.04206975869677606,
          0.06628695171616218,
          -0.5410015060954003,
          -2.107789023131842,
          -0.6655747720989323,
          -0.9177840965099342,
          0.6002829036183587,
          0.3658898640969404,
          1.6938670631020256,
          -0.46199388056401697,
          0.22648704124556104,
          -0.3695330234218187,
          -0.4434132053751507,
          1.1344120606012689,
          -0.06316241946958735,
          1.071303242928395,
          -0.05954760749397543,
          -1.8284023510576535,
          0.07850062682657129,
          0.5708020808790613,
          -0.9622688122088489,
          2.279078547467773,
          -0.1952230626096236,
          -0.14643928233274897,
          1.2148946182251754,
          -0.01562874097481205,
          -0.12497018720979942,
          -0.3968564901554764,
          -1.5235541317732508,
          -0.1577992269878894,
          0.32111055237910746,
          0.5361658858490499,
          -0.5554134420117867,
          -0.588266172727214,
          -1.5317974407121346,
          -0.32344284910558624,
          -0.4284317459273944,
          1.5765096263120193,
          1.3311681749480442,
          -1.9861064349463993,
          1.9797055794635705,
          -2.1717808257074753,
          0.0015712981311745051,
          -0.8591457591684397,
          1.2850308755763968,
          -0.5353176758052437,
          -0.13665512778626382,
          -1.0330474750315886,
          0.36509449341108124
         ]
        },
        {
         "marker": {
          "color": "rgba(128, 0, 128, 0.6)",
          "line": {
           "color": "rgba(128, 0, 128, 1.0)",
           "width": 1
          }
         },
         "name": "D",
         "orientation": "v",
         "text": "",
         "type": "bar",
         "x": [
          0,
          1,
          2,
          3,
          4,
          5,
          6,
          7,
          8,
          9,
          10,
          11,
          12,
          13,
          14,
          15,
          16,
          17,
          18,
          19,
          20,
          21,
          22,
          23,
          24,
          25,
          26,
          27,
          28,
          29,
          30,
          31,
          32,
          33,
          34,
          35,
          36,
          37,
          38,
          39,
          40,
          41,
          42,
          43,
          44,
          45,
          46,
          47,
          48,
          49,
          50,
          51,
          52,
          53,
          54,
          55,
          56,
          57,
          58,
          59,
          60,
          61,
          62,
          63,
          64,
          65,
          66,
          67,
          68,
          69,
          70,
          71,
          72,
          73,
          74,
          75,
          76,
          77,
          78,
          79,
          80,
          81,
          82,
          83,
          84,
          85,
          86,
          87,
          88,
          89,
          90,
          91,
          92,
          93,
          94,
          95,
          96,
          97,
          98,
          99
         ],
         "y": [
          0.9842328309770627,
          -0.5848446877224733,
          -0.06599551424698824,
          2.2188381826858823,
          1.0004294840700185,
          -1.2520840254455778,
          0.49105248924359945,
          1.828186361675129,
          1.5866277451010549,
          1.0535206484035105,
          2.0072144469870135,
          -1.0588083816012148,
          -0.14166789312961178,
          -2.616522709700687,
          -0.3552888298276631,
          -0.43480909428038944,
          0.46186441935230266,
          -0.25970791675540295,
          2.099573163078604,
          -0.39156181123864703,
          -2.7422401252364415,
          3.3612242797889773,
          1.10598352882395,
          -1.89005963605955,
          -0.9090425177289354,
          1.4847171489678963,
          -0.14314235061860095,
          -0.3672519454335593,
          -1.3092944766207955,
          -0.5769003094186174,
          -0.5173922981933241,
          -0.14408317817059485,
          0.9426123572747233,
          -0.846287639117692,
          2.5740775876510678,
          -0.20449221200037693,
          -1.4609004533690646,
          -0.8682091667532075,
          0.2566663221995576,
          -0.9102310739248258,
          0.776879016308668,
          0.018127380911809838,
          -1.3682941906463024,
          -1.9535153689279576,
          0.20867785044208648,
          -0.39239979668168046,
          -0.027125507015350485,
          -0.7435595733277577,
          1.4381563996180244,
          0.8170612627709303,
          -0.11436074617479852,
          -0.1776722697570733,
          1.631693263096239,
          -0.14746731226433918,
          0.2645140756654563,
          -0.17655900199465824,
          -0.19170050878708375,
          -0.36164676494336284,
          -0.5833101511837301,
          -0.2769711257071776,
          0.05241720687858348,
          1.049048760701425,
          -0.5710807156270771,
          0.1579460434455604,
          1.8110687744132121,
          1.421541779523308,
          2.504121696244486,
          -1.3880762930364725,
          0.6394946706628489,
          -0.24068103293190418,
          0.9633262297200628,
          3.103216808164554,
          1.9046134815110252,
          -0.14231670465227797,
          -0.24263561059640767,
          -0.27044977034835227,
          -0.6288174573982602,
          -0.5637668770966411,
          0.13776568309346304,
          -0.20907249952232898,
          0.00954501692995911,
          -1.7422556659895916,
          1.081646159002709,
          -0.6200053125175281,
          -0.7612999060601485,
          3.0007598619460145,
          0.030090593793582768,
          0.0657349601703499,
          0.38625762003635183,
          0.1108092679033829,
          2.286580497791784,
          1.9002211473953432,
          -1.9734632926387483,
          1.032464364240596,
          -0.4974095721251215,
          -1.8422068200003974,
          0.4607632660174721,
          -2.7027106747317644,
          -1.2324325904997269,
          2.378873185388285
         ]
        }
       ],
       "layout": {
        "legend": {
         "bgcolor": "#F5F6F9",
         "font": {
          "color": "#4D5663"
         }
        },
        "paper_bgcolor": "#F5F6F9",
        "plot_bgcolor": "#F5F6F9",
        "template": {
         "data": {
          "bar": [
           {
            "error_x": {
             "color": "#2a3f5f"
            },
            "error_y": {
             "color": "#2a3f5f"
            },
            "marker": {
             "line": {
              "color": "#E5ECF6",
              "width": 0.5
             },
             "pattern": {
              "fillmode": "overlay",
              "size": 10,
              "solidity": 0.2
             }
            },
            "type": "bar"
           }
          ],
          "barpolar": [
           {
            "marker": {
             "line": {
              "color": "#E5ECF6",
              "width": 0.5
             },
             "pattern": {
              "fillmode": "overlay",
              "size": 10,
              "solidity": 0.2
             }
            },
            "type": "barpolar"
           }
          ],
          "carpet": [
           {
            "aaxis": {
             "endlinecolor": "#2a3f5f",
             "gridcolor": "white",
             "linecolor": "white",
             "minorgridcolor": "white",
             "startlinecolor": "#2a3f5f"
            },
            "baxis": {
             "endlinecolor": "#2a3f5f",
             "gridcolor": "white",
             "linecolor": "white",
             "minorgridcolor": "white",
             "startlinecolor": "#2a3f5f"
            },
            "type": "carpet"
           }
          ],
          "choropleth": [
           {
            "colorbar": {
             "outlinewidth": 0,
             "ticks": ""
            },
            "type": "choropleth"
           }
          ],
          "contour": [
           {
            "colorbar": {
             "outlinewidth": 0,
             "ticks": ""
            },
            "colorscale": [
             [
              0,
              "#0d0887"
             ],
             [
              0.1111111111111111,
              "#46039f"
             ],
             [
              0.2222222222222222,
              "#7201a8"
             ],
             [
              0.3333333333333333,
              "#9c179e"
             ],
             [
              0.4444444444444444,
              "#bd3786"
             ],
             [
              0.5555555555555556,
              "#d8576b"
             ],
             [
              0.6666666666666666,
              "#ed7953"
             ],
             [
              0.7777777777777778,
              "#fb9f3a"
             ],
             [
              0.8888888888888888,
              "#fdca26"
             ],
             [
              1,
              "#f0f921"
             ]
            ],
            "type": "contour"
           }
          ],
          "contourcarpet": [
           {
            "colorbar": {
             "outlinewidth": 0,
             "ticks": ""
            },
            "type": "contourcarpet"
           }
          ],
          "heatmap": [
           {
            "colorbar": {
             "outlinewidth": 0,
             "ticks": ""
            },
            "colorscale": [
             [
              0,
              "#0d0887"
             ],
             [
              0.1111111111111111,
              "#46039f"
             ],
             [
              0.2222222222222222,
              "#7201a8"
             ],
             [
              0.3333333333333333,
              "#9c179e"
             ],
             [
              0.4444444444444444,
              "#bd3786"
             ],
             [
              0.5555555555555556,
              "#d8576b"
             ],
             [
              0.6666666666666666,
              "#ed7953"
             ],
             [
              0.7777777777777778,
              "#fb9f3a"
             ],
             [
              0.8888888888888888,
              "#fdca26"
             ],
             [
              1,
              "#f0f921"
             ]
            ],
            "type": "heatmap"
           }
          ],
          "heatmapgl": [
           {
            "colorbar": {
             "outlinewidth": 0,
             "ticks": ""
            },
            "colorscale": [
             [
              0,
              "#0d0887"
             ],
             [
              0.1111111111111111,
              "#46039f"
             ],
             [
              0.2222222222222222,
              "#7201a8"
             ],
             [
              0.3333333333333333,
              "#9c179e"
             ],
             [
              0.4444444444444444,
              "#bd3786"
             ],
             [
              0.5555555555555556,
              "#d8576b"
             ],
             [
              0.6666666666666666,
              "#ed7953"
             ],
             [
              0.7777777777777778,
              "#fb9f3a"
             ],
             [
              0.8888888888888888,
              "#fdca26"
             ],
             [
              1,
              "#f0f921"
             ]
            ],
            "type": "heatmapgl"
           }
          ],
          "histogram": [
           {
            "marker": {
             "pattern": {
              "fillmode": "overlay",
              "size": 10,
              "solidity": 0.2
             }
            },
            "type": "histogram"
           }
          ],
          "histogram2d": [
           {
            "colorbar": {
             "outlinewidth": 0,
             "ticks": ""
            },
            "colorscale": [
             [
              0,
              "#0d0887"
             ],
             [
              0.1111111111111111,
              "#46039f"
             ],
             [
              0.2222222222222222,
              "#7201a8"
             ],
             [
              0.3333333333333333,
              "#9c179e"
             ],
             [
              0.4444444444444444,
              "#bd3786"
             ],
             [
              0.5555555555555556,
              "#d8576b"
             ],
             [
              0.6666666666666666,
              "#ed7953"
             ],
             [
              0.7777777777777778,
              "#fb9f3a"
             ],
             [
              0.8888888888888888,
              "#fdca26"
             ],
             [
              1,
              "#f0f921"
             ]
            ],
            "type": "histogram2d"
           }
          ],
          "histogram2dcontour": [
           {
            "colorbar": {
             "outlinewidth": 0,
             "ticks": ""
            },
            "colorscale": [
             [
              0,
              "#0d0887"
             ],
             [
              0.1111111111111111,
              "#46039f"
             ],
             [
              0.2222222222222222,
              "#7201a8"
             ],
             [
              0.3333333333333333,
              "#9c179e"
             ],
             [
              0.4444444444444444,
              "#bd3786"
             ],
             [
              0.5555555555555556,
              "#d8576b"
             ],
             [
              0.6666666666666666,
              "#ed7953"
             ],
             [
              0.7777777777777778,
              "#fb9f3a"
             ],
             [
              0.8888888888888888,
              "#fdca26"
             ],
             [
              1,
              "#f0f921"
             ]
            ],
            "type": "histogram2dcontour"
           }
          ],
          "mesh3d": [
           {
            "colorbar": {
             "outlinewidth": 0,
             "ticks": ""
            },
            "type": "mesh3d"
           }
          ],
          "parcoords": [
           {
            "line": {
             "colorbar": {
              "outlinewidth": 0,
              "ticks": ""
             }
            },
            "type": "parcoords"
           }
          ],
          "pie": [
           {
            "automargin": true,
            "type": "pie"
           }
          ],
          "scatter": [
           {
            "marker": {
             "colorbar": {
              "outlinewidth": 0,
              "ticks": ""
             }
            },
            "type": "scatter"
           }
          ],
          "scatter3d": [
           {
            "line": {
             "colorbar": {
              "outlinewidth": 0,
              "ticks": ""
             }
            },
            "marker": {
             "colorbar": {
              "outlinewidth": 0,
              "ticks": ""
             }
            },
            "type": "scatter3d"
           }
          ],
          "scattercarpet": [
           {
            "marker": {
             "colorbar": {
              "outlinewidth": 0,
              "ticks": ""
             }
            },
            "type": "scattercarpet"
           }
          ],
          "scattergeo": [
           {
            "marker": {
             "colorbar": {
              "outlinewidth": 0,
              "ticks": ""
             }
            },
            "type": "scattergeo"
           }
          ],
          "scattergl": [
           {
            "marker": {
             "colorbar": {
              "outlinewidth": 0,
              "ticks": ""
             }
            },
            "type": "scattergl"
           }
          ],
          "scattermapbox": [
           {
            "marker": {
             "colorbar": {
              "outlinewidth": 0,
              "ticks": ""
             }
            },
            "type": "scattermapbox"
           }
          ],
          "scatterpolar": [
           {
            "marker": {
             "colorbar": {
              "outlinewidth": 0,
              "ticks": ""
             }
            },
            "type": "scatterpolar"
           }
          ],
          "scatterpolargl": [
           {
            "marker": {
             "colorbar": {
              "outlinewidth": 0,
              "ticks": ""
             }
            },
            "type": "scatterpolargl"
           }
          ],
          "scatterternary": [
           {
            "marker": {
             "colorbar": {
              "outlinewidth": 0,
              "ticks": ""
             }
            },
            "type": "scatterternary"
           }
          ],
          "surface": [
           {
            "colorbar": {
             "outlinewidth": 0,
             "ticks": ""
            },
            "colorscale": [
             [
              0,
              "#0d0887"
             ],
             [
              0.1111111111111111,
              "#46039f"
             ],
             [
              0.2222222222222222,
              "#7201a8"
             ],
             [
              0.3333333333333333,
              "#9c179e"
             ],
             [
              0.4444444444444444,
              "#bd3786"
             ],
             [
              0.5555555555555556,
              "#d8576b"
             ],
             [
              0.6666666666666666,
              "#ed7953"
             ],
             [
              0.7777777777777778,
              "#fb9f3a"
             ],
             [
              0.8888888888888888,
              "#fdca26"
             ],
             [
              1,
              "#f0f921"
             ]
            ],
            "type": "surface"
           }
          ],
          "table": [
           {
            "cells": {
             "fill": {
              "color": "#EBF0F8"
             },
             "line": {
              "color": "white"
             }
            },
            "header": {
             "fill": {
              "color": "#C8D4E3"
             },
             "line": {
              "color": "white"
             }
            },
            "type": "table"
           }
          ]
         },
         "layout": {
          "annotationdefaults": {
           "arrowcolor": "#2a3f5f",
           "arrowhead": 0,
           "arrowwidth": 1
          },
          "autotypenumbers": "strict",
          "coloraxis": {
           "colorbar": {
            "outlinewidth": 0,
            "ticks": ""
           }
          },
          "colorscale": {
           "diverging": [
            [
             0,
             "#8e0152"
            ],
            [
             0.1,
             "#c51b7d"
            ],
            [
             0.2,
             "#de77ae"
            ],
            [
             0.3,
             "#f1b6da"
            ],
            [
             0.4,
             "#fde0ef"
            ],
            [
             0.5,
             "#f7f7f7"
            ],
            [
             0.6,
             "#e6f5d0"
            ],
            [
             0.7,
             "#b8e186"
            ],
            [
             0.8,
             "#7fbc41"
            ],
            [
             0.9,
             "#4d9221"
            ],
            [
             1,
             "#276419"
            ]
           ],
           "sequential": [
            [
             0,
             "#0d0887"
            ],
            [
             0.1111111111111111,
             "#46039f"
            ],
            [
             0.2222222222222222,
             "#7201a8"
            ],
            [
             0.3333333333333333,
             "#9c179e"
            ],
            [
             0.4444444444444444,
             "#bd3786"
            ],
            [
             0.5555555555555556,
             "#d8576b"
            ],
            [
             0.6666666666666666,
             "#ed7953"
            ],
            [
             0.7777777777777778,
             "#fb9f3a"
            ],
            [
             0.8888888888888888,
             "#fdca26"
            ],
            [
             1,
             "#f0f921"
            ]
           ],
           "sequentialminus": [
            [
             0,
             "#0d0887"
            ],
            [
             0.1111111111111111,
             "#46039f"
            ],
            [
             0.2222222222222222,
             "#7201a8"
            ],
            [
             0.3333333333333333,
             "#9c179e"
            ],
            [
             0.4444444444444444,
             "#bd3786"
            ],
            [
             0.5555555555555556,
             "#d8576b"
            ],
            [
             0.6666666666666666,
             "#ed7953"
            ],
            [
             0.7777777777777778,
             "#fb9f3a"
            ],
            [
             0.8888888888888888,
             "#fdca26"
            ],
            [
             1,
             "#f0f921"
            ]
           ]
          },
          "colorway": [
           "#636efa",
           "#EF553B",
           "#00cc96",
           "#ab63fa",
           "#FFA15A",
           "#19d3f3",
           "#FF6692",
           "#B6E880",
           "#FF97FF",
           "#FECB52"
          ],
          "font": {
           "color": "#2a3f5f"
          },
          "geo": {
           "bgcolor": "white",
           "lakecolor": "white",
           "landcolor": "#E5ECF6",
           "showlakes": true,
           "showland": true,
           "subunitcolor": "white"
          },
          "hoverlabel": {
           "align": "left"
          },
          "hovermode": "closest",
          "mapbox": {
           "style": "light"
          },
          "paper_bgcolor": "white",
          "plot_bgcolor": "#E5ECF6",
          "polar": {
           "angularaxis": {
            "gridcolor": "white",
            "linecolor": "white",
            "ticks": ""
           },
           "bgcolor": "#E5ECF6",
           "radialaxis": {
            "gridcolor": "white",
            "linecolor": "white",
            "ticks": ""
           }
          },
          "scene": {
           "xaxis": {
            "backgroundcolor": "#E5ECF6",
            "gridcolor": "white",
            "gridwidth": 2,
            "linecolor": "white",
            "showbackground": true,
            "ticks": "",
            "zerolinecolor": "white"
           },
           "yaxis": {
            "backgroundcolor": "#E5ECF6",
            "gridcolor": "white",
            "gridwidth": 2,
            "linecolor": "white",
            "showbackground": true,
            "ticks": "",
            "zerolinecolor": "white"
           },
           "zaxis": {
            "backgroundcolor": "#E5ECF6",
            "gridcolor": "white",
            "gridwidth": 2,
            "linecolor": "white",
            "showbackground": true,
            "ticks": "",
            "zerolinecolor": "white"
           }
          },
          "shapedefaults": {
           "line": {
            "color": "#2a3f5f"
           }
          },
          "ternary": {
           "aaxis": {
            "gridcolor": "white",
            "linecolor": "white",
            "ticks": ""
           },
           "baxis": {
            "gridcolor": "white",
            "linecolor": "white",
            "ticks": ""
           },
           "bgcolor": "#E5ECF6",
           "caxis": {
            "gridcolor": "white",
            "linecolor": "white",
            "ticks": ""
           }
          },
          "title": {
           "x": 0.05
          },
          "xaxis": {
           "automargin": true,
           "gridcolor": "white",
           "linecolor": "white",
           "ticks": "",
           "title": {
            "standoff": 15
           },
           "zerolinecolor": "white",
           "zerolinewidth": 2
          },
          "yaxis": {
           "automargin": true,
           "gridcolor": "white",
           "linecolor": "white",
           "ticks": "",
           "title": {
            "standoff": 15
           },
           "zerolinecolor": "white",
           "zerolinewidth": 2
          }
         }
        },
        "title": {
         "font": {
          "color": "#4D5663"
         }
        },
        "xaxis": {
         "gridcolor": "#E1E5ED",
         "showgrid": true,
         "tickfont": {
          "color": "#4D5663"
         },
         "title": {
          "font": {
           "color": "#4D5663"
          },
          "text": ""
         },
         "zerolinecolor": "#E1E5ED"
        },
        "yaxis": {
         "gridcolor": "#E1E5ED",
         "showgrid": true,
         "tickfont": {
          "color": "#4D5663"
         },
         "title": {
          "font": {
           "color": "#4D5663"
          },
          "text": ""
         },
         "zerolinecolor": "#E1E5ED"
        }
       }
      },
      "text/html": [
       "<div>                            <div id=\"fe6b1487-d2ba-418d-8c46-f7686ae49eb5\" class=\"plotly-graph-div\" style=\"height:525px; width:100%;\"></div>            <script type=\"text/javascript\">                require([\"plotly\"], function(Plotly) {                    window.PLOTLYENV=window.PLOTLYENV || {};\n",
       "                    window.PLOTLYENV.BASE_URL='https://plot.ly';                                    if (document.getElementById(\"fe6b1487-d2ba-418d-8c46-f7686ae49eb5\")) {                    Plotly.newPlot(                        \"fe6b1487-d2ba-418d-8c46-f7686ae49eb5\",                        [{\"marker\":{\"color\":\"rgba(255, 153, 51, 0.6)\",\"line\":{\"color\":\"rgba(255, 153, 51, 1.0)\",\"width\":1}},\"name\":\"A\",\"orientation\":\"v\",\"text\":\"\",\"x\":[0,1,2,3,4,5,6,7,8,9,10,11,12,13,14,15,16,17,18,19,20,21,22,23,24,25,26,27,28,29,30,31,32,33,34,35,36,37,38,39,40,41,42,43,44,45,46,47,48,49,50,51,52,53,54,55,56,57,58,59,60,61,62,63,64,65,66,67,68,69,70,71,72,73,74,75,76,77,78,79,80,81,82,83,84,85,86,87,88,89,90,91,92,93,94,95,96,97,98,99],\"y\":[1.7592674651251152,0.8787218458910496,0.7134755498126357,0.6902721270395067,-0.8392056378791071,-0.410187796579283,-0.749463497352397,-1.4679773278579327,0.17263486907373998,-1.140667862333151,-0.7264220397357,-0.21531012607731087,0.3695347098486094,-2.0138976971460343,0.8154041255049143,0.4890249015338061,-0.23474795209744428,-0.8213308623714797,-1.195229727763427,-0.9914236260192545,0.2512600467217616,-0.12157399538919733,0.44388757250404565,-2.332066806648214,1.213455232217833,0.5480088995187345,0.08293498388681905,0.08838344775686649,-1.201761633605335,1.1395621776452982,-2.2300918015120343,-0.11096144614197102,0.1548330025446032,0.19057943738735864,-0.17732789247078184,0.0727326728932698,-2.480198629811246,-0.5561724350296002,-0.12051812088678243,-0.8620949624103285,0.7037093497777408,-1.0494109763522284,-0.198600957917677,-0.7929925461540783,1.3710172794725703,0.4077871710989301,-1.2101053085734212,0.22009525923749057,1.0123057266598217,0.8771918880126052,-0.37329111873600024,0.5517050144136014,0.6658167591483389,0.6646233157715355,-0.17767742719894206,0.1675420392962526,-1.2507374797469628,0.3700420762209868,-1.1084642400786153,-0.10980486393022237,0.371011275486945,-1.6906203598652072,-0.5722564040766488,-0.2826540131323494,2.0370466837093075,0.07852235911718304,1.1996429322194282,0.45947682627001185,-0.019105028894628864,-0.5010049196863909,-1.4625748706158619,-1.03167451141023,-1.4793256577672635,-0.21329096343183504,-1.2919672265849762,0.35328301363758324,-0.38618290363334673,0.5545421520772514,0.5429986045091604,-0.09390799829623925,0.44818830394049786,-1.9451925019732001,-0.23602921152138073,0.4052401305428093,1.466889746515699,-0.7868997734258795,2.0931389988007854,-1.411718352888902,-1.0745604814784364,-1.708652681636383,-0.3981074512618315,-0.9171433605408393,0.9892855092764576,-1.9043822885643045,-0.6180691732541292,-0.2523560329273775,-1.0899353361015742,-1.8435439950608874,-0.467022276045951,-1.8319445098920557],\"type\":\"bar\"},{\"marker\":{\"color\":\"rgba(55, 128, 191, 0.6)\",\"line\":{\"color\":\"rgba(55, 128, 191, 1.0)\",\"width\":1}},\"name\":\"B\",\"orientation\":\"v\",\"text\":\"\",\"x\":[0,1,2,3,4,5,6,7,8,9,10,11,12,13,14,15,16,17,18,19,20,21,22,23,24,25,26,27,28,29,30,31,32,33,34,35,36,37,38,39,40,41,42,43,44,45,46,47,48,49,50,51,52,53,54,55,56,57,58,59,60,61,62,63,64,65,66,67,68,69,70,71,72,73,74,75,76,77,78,79,80,81,82,83,84,85,86,87,88,89,90,91,92,93,94,95,96,97,98,99],\"y\":[-0.312966679120713,-0.2577777535014562,-1.0013077596885558,0.57829176063918,-1.0979151193660202,0.6210491456140375,-0.14609358170044806,0.9181442238500663,0.35125080009000104,-0.38383405161014084,0.3099330474803078,1.7022547868242137,0.37115113722083565,-0.5056036743596625,-0.1736730791216031,-0.3265011416957117,1.732417258539487,0.10459248815866344,2.209646271774528,-0.08264004940351465,1.30273590610919,0.9826868857870211,-0.5144006309103197,1.9474686023111303,1.0855463327348507,-1.0816250243644963,0.014217497966231485,0.28204572819832263,0.12523223291223745,-0.6991959015363607,-0.21829215369778424,-0.8140811042923699,0.017584750774096117,0.15000881492554732,1.5601375901065841,-0.43056145739593155,-1.6326609675770856,-0.5971934841520784,0.12778340733293234,-0.11710090684276153,1.3197091352438721,-0.048207943149042476,0.8730043883585582,1.560900791240423,0.3140271229148872,0.27243556387522283,-0.12625802274111192,-0.48109998065712967,0.9369277776902359,2.3774211448266835,-0.685866295073244,0.9609817725480212,-1.5908857940721928,-0.8467869640184655,-0.26975041138557065,0.04148126575959703,0.042561711352731346,0.20340559199747407,-0.5925478251720548,-1.0157283320327488,-0.040354895167174214,-1.3481845031840831,-0.38514475670449244,0.8951152193028845,0.5333470067173158,0.9039986410164801,1.1226888593991298,-1.8789477036787832,0.7431467427869103,0.06082615854320122,0.468876624388653,0.43299477497039224,-0.4422162150548018,0.08083011603601761,-0.08430212966833674,0.605491957903997,-1.6913308948123682,-0.5028586181842968,0.9222831254046974,2.0124944854281863,1.2851686416921067,1.6465081564855104,-0.9029698424035064,-0.07959550509246587,0.9068846788916258,-0.6371552639419636,0.1123938222038434,0.5499592178999143,0.659062263423722,-0.28617956314838167,1.7138174687795322,-0.8378410898771907,0.8719928086332663,0.715420252165574,2.4889200906189712,0.611113791564853,-0.5884286701901845,-0.6544429110889514,1.8012899746454,1.0930244979266563],\"type\":\"bar\"},{\"marker\":{\"color\":\"rgba(50, 171, 96, 0.6)\",\"line\":{\"color\":\"rgba(50, 171, 96, 1.0)\",\"width\":1}},\"name\":\"C\",\"orientation\":\"v\",\"text\":\"\",\"x\":[0,1,2,3,4,5,6,7,8,9,10,11,12,13,14,15,16,17,18,19,20,21,22,23,24,25,26,27,28,29,30,31,32,33,34,35,36,37,38,39,40,41,42,43,44,45,46,47,48,49,50,51,52,53,54,55,56,57,58,59,60,61,62,63,64,65,66,67,68,69,70,71,72,73,74,75,76,77,78,79,80,81,82,83,84,85,86,87,88,89,90,91,92,93,94,95,96,97,98,99],\"y\":[-0.23672466683693338,-0.42931380344656406,1.027242254132981,0.2107110098264841,-0.4205403293990435,-1.0188835135951178,0.44159539775261586,1.8676419612270871,-0.22082128187989783,0.030033010804584807,0.9870311592441908,-1.605833660791862,-0.9116130266800055,0.2760107364467912,-0.5430560719186309,0.7324001102799076,-1.0967640536564522,-0.8489282206571513,-0.47198728712579435,-0.4768833830407472,0.348267092982885,1.3766717083459403,-3.167844889916202,0.7272476885671425,-1.717504131723557,0.2607002659818533,-1.3719123572503225,-0.2640839105101513,-0.11038279117197111,-0.7987697408889248,0.23275531261600993,-0.6066334691940996,-1.8628663775461005,-0.007595325545945604,-0.4287229769203462,0.6812449013914802,0.41503735855285084,0.3409221490434358,0.6792919490154056,-0.4570801790818482,0.5080972267442241,-2.0784976937469355,0.5739511565226756,0.5177796307353179,-0.7049925476162479,0.5167673049116059,1.4251717879459267,2.2744936015889854,-0.3119754847873727,1.7604273867814355,1.7161786268975932,0.04206975869677606,0.06628695171616218,-0.5410015060954003,-2.107789023131842,-0.6655747720989323,-0.9177840965099342,0.6002829036183587,0.3658898640969404,1.6938670631020256,-0.46199388056401697,0.22648704124556104,-0.3695330234218187,-0.4434132053751507,1.1344120606012689,-0.06316241946958735,1.071303242928395,-0.05954760749397543,-1.8284023510576535,0.07850062682657129,0.5708020808790613,-0.9622688122088489,2.279078547467773,-0.1952230626096236,-0.14643928233274897,1.2148946182251754,-0.01562874097481205,-0.12497018720979942,-0.3968564901554764,-1.5235541317732508,-0.1577992269878894,0.32111055237910746,0.5361658858490499,-0.5554134420117867,-0.588266172727214,-1.5317974407121346,-0.32344284910558624,-0.4284317459273944,1.5765096263120193,1.3311681749480442,-1.9861064349463993,1.9797055794635705,-2.1717808257074753,0.0015712981311745051,-0.8591457591684397,1.2850308755763968,-0.5353176758052437,-0.13665512778626382,-1.0330474750315886,0.36509449341108124],\"type\":\"bar\"},{\"marker\":{\"color\":\"rgba(128, 0, 128, 0.6)\",\"line\":{\"color\":\"rgba(128, 0, 128, 1.0)\",\"width\":1}},\"name\":\"D\",\"orientation\":\"v\",\"text\":\"\",\"x\":[0,1,2,3,4,5,6,7,8,9,10,11,12,13,14,15,16,17,18,19,20,21,22,23,24,25,26,27,28,29,30,31,32,33,34,35,36,37,38,39,40,41,42,43,44,45,46,47,48,49,50,51,52,53,54,55,56,57,58,59,60,61,62,63,64,65,66,67,68,69,70,71,72,73,74,75,76,77,78,79,80,81,82,83,84,85,86,87,88,89,90,91,92,93,94,95,96,97,98,99],\"y\":[0.9842328309770627,-0.5848446877224733,-0.06599551424698824,2.2188381826858823,1.0004294840700185,-1.2520840254455778,0.49105248924359945,1.828186361675129,1.5866277451010549,1.0535206484035105,2.0072144469870135,-1.0588083816012148,-0.14166789312961178,-2.616522709700687,-0.3552888298276631,-0.43480909428038944,0.46186441935230266,-0.25970791675540295,2.099573163078604,-0.39156181123864703,-2.7422401252364415,3.3612242797889773,1.10598352882395,-1.89005963605955,-0.9090425177289354,1.4847171489678963,-0.14314235061860095,-0.3672519454335593,-1.3092944766207955,-0.5769003094186174,-0.5173922981933241,-0.14408317817059485,0.9426123572747233,-0.846287639117692,2.5740775876510678,-0.20449221200037693,-1.4609004533690646,-0.8682091667532075,0.2566663221995576,-0.9102310739248258,0.776879016308668,0.018127380911809838,-1.3682941906463024,-1.9535153689279576,0.20867785044208648,-0.39239979668168046,-0.027125507015350485,-0.7435595733277577,1.4381563996180244,0.8170612627709303,-0.11436074617479852,-0.1776722697570733,1.631693263096239,-0.14746731226433918,0.2645140756654563,-0.17655900199465824,-0.19170050878708375,-0.36164676494336284,-0.5833101511837301,-0.2769711257071776,0.05241720687858348,1.049048760701425,-0.5710807156270771,0.1579460434455604,1.8110687744132121,1.421541779523308,2.504121696244486,-1.3880762930364725,0.6394946706628489,-0.24068103293190418,0.9633262297200628,3.103216808164554,1.9046134815110252,-0.14231670465227797,-0.24263561059640767,-0.27044977034835227,-0.6288174573982602,-0.5637668770966411,0.13776568309346304,-0.20907249952232898,0.00954501692995911,-1.7422556659895916,1.081646159002709,-0.6200053125175281,-0.7612999060601485,3.0007598619460145,0.030090593793582768,0.0657349601703499,0.38625762003635183,0.1108092679033829,2.286580497791784,1.9002211473953432,-1.9734632926387483,1.032464364240596,-0.4974095721251215,-1.8422068200003974,0.4607632660174721,-2.7027106747317644,-1.2324325904997269,2.378873185388285],\"type\":\"bar\"}],                        {\"legend\":{\"bgcolor\":\"#F5F6F9\",\"font\":{\"color\":\"#4D5663\"}},\"paper_bgcolor\":\"#F5F6F9\",\"plot_bgcolor\":\"#F5F6F9\",\"template\":{\"data\":{\"barpolar\":[{\"marker\":{\"line\":{\"color\":\"#E5ECF6\",\"width\":0.5},\"pattern\":{\"fillmode\":\"overlay\",\"size\":10,\"solidity\":0.2}},\"type\":\"barpolar\"}],\"bar\":[{\"error_x\":{\"color\":\"#2a3f5f\"},\"error_y\":{\"color\":\"#2a3f5f\"},\"marker\":{\"line\":{\"color\":\"#E5ECF6\",\"width\":0.5},\"pattern\":{\"fillmode\":\"overlay\",\"size\":10,\"solidity\":0.2}},\"type\":\"bar\"}],\"carpet\":[{\"aaxis\":{\"endlinecolor\":\"#2a3f5f\",\"gridcolor\":\"white\",\"linecolor\":\"white\",\"minorgridcolor\":\"white\",\"startlinecolor\":\"#2a3f5f\"},\"baxis\":{\"endlinecolor\":\"#2a3f5f\",\"gridcolor\":\"white\",\"linecolor\":\"white\",\"minorgridcolor\":\"white\",\"startlinecolor\":\"#2a3f5f\"},\"type\":\"carpet\"}],\"choropleth\":[{\"colorbar\":{\"outlinewidth\":0,\"ticks\":\"\"},\"type\":\"choropleth\"}],\"contourcarpet\":[{\"colorbar\":{\"outlinewidth\":0,\"ticks\":\"\"},\"type\":\"contourcarpet\"}],\"contour\":[{\"colorbar\":{\"outlinewidth\":0,\"ticks\":\"\"},\"colorscale\":[[0.0,\"#0d0887\"],[0.1111111111111111,\"#46039f\"],[0.2222222222222222,\"#7201a8\"],[0.3333333333333333,\"#9c179e\"],[0.4444444444444444,\"#bd3786\"],[0.5555555555555556,\"#d8576b\"],[0.6666666666666666,\"#ed7953\"],[0.7777777777777778,\"#fb9f3a\"],[0.8888888888888888,\"#fdca26\"],[1.0,\"#f0f921\"]],\"type\":\"contour\"}],\"heatmapgl\":[{\"colorbar\":{\"outlinewidth\":0,\"ticks\":\"\"},\"colorscale\":[[0.0,\"#0d0887\"],[0.1111111111111111,\"#46039f\"],[0.2222222222222222,\"#7201a8\"],[0.3333333333333333,\"#9c179e\"],[0.4444444444444444,\"#bd3786\"],[0.5555555555555556,\"#d8576b\"],[0.6666666666666666,\"#ed7953\"],[0.7777777777777778,\"#fb9f3a\"],[0.8888888888888888,\"#fdca26\"],[1.0,\"#f0f921\"]],\"type\":\"heatmapgl\"}],\"heatmap\":[{\"colorbar\":{\"outlinewidth\":0,\"ticks\":\"\"},\"colorscale\":[[0.0,\"#0d0887\"],[0.1111111111111111,\"#46039f\"],[0.2222222222222222,\"#7201a8\"],[0.3333333333333333,\"#9c179e\"],[0.4444444444444444,\"#bd3786\"],[0.5555555555555556,\"#d8576b\"],[0.6666666666666666,\"#ed7953\"],[0.7777777777777778,\"#fb9f3a\"],[0.8888888888888888,\"#fdca26\"],[1.0,\"#f0f921\"]],\"type\":\"heatmap\"}],\"histogram2dcontour\":[{\"colorbar\":{\"outlinewidth\":0,\"ticks\":\"\"},\"colorscale\":[[0.0,\"#0d0887\"],[0.1111111111111111,\"#46039f\"],[0.2222222222222222,\"#7201a8\"],[0.3333333333333333,\"#9c179e\"],[0.4444444444444444,\"#bd3786\"],[0.5555555555555556,\"#d8576b\"],[0.6666666666666666,\"#ed7953\"],[0.7777777777777778,\"#fb9f3a\"],[0.8888888888888888,\"#fdca26\"],[1.0,\"#f0f921\"]],\"type\":\"histogram2dcontour\"}],\"histogram2d\":[{\"colorbar\":{\"outlinewidth\":0,\"ticks\":\"\"},\"colorscale\":[[0.0,\"#0d0887\"],[0.1111111111111111,\"#46039f\"],[0.2222222222222222,\"#7201a8\"],[0.3333333333333333,\"#9c179e\"],[0.4444444444444444,\"#bd3786\"],[0.5555555555555556,\"#d8576b\"],[0.6666666666666666,\"#ed7953\"],[0.7777777777777778,\"#fb9f3a\"],[0.8888888888888888,\"#fdca26\"],[1.0,\"#f0f921\"]],\"type\":\"histogram2d\"}],\"histogram\":[{\"marker\":{\"pattern\":{\"fillmode\":\"overlay\",\"size\":10,\"solidity\":0.2}},\"type\":\"histogram\"}],\"mesh3d\":[{\"colorbar\":{\"outlinewidth\":0,\"ticks\":\"\"},\"type\":\"mesh3d\"}],\"parcoords\":[{\"line\":{\"colorbar\":{\"outlinewidth\":0,\"ticks\":\"\"}},\"type\":\"parcoords\"}],\"pie\":[{\"automargin\":true,\"type\":\"pie\"}],\"scatter3d\":[{\"line\":{\"colorbar\":{\"outlinewidth\":0,\"ticks\":\"\"}},\"marker\":{\"colorbar\":{\"outlinewidth\":0,\"ticks\":\"\"}},\"type\":\"scatter3d\"}],\"scattercarpet\":[{\"marker\":{\"colorbar\":{\"outlinewidth\":0,\"ticks\":\"\"}},\"type\":\"scattercarpet\"}],\"scattergeo\":[{\"marker\":{\"colorbar\":{\"outlinewidth\":0,\"ticks\":\"\"}},\"type\":\"scattergeo\"}],\"scattergl\":[{\"marker\":{\"colorbar\":{\"outlinewidth\":0,\"ticks\":\"\"}},\"type\":\"scattergl\"}],\"scattermapbox\":[{\"marker\":{\"colorbar\":{\"outlinewidth\":0,\"ticks\":\"\"}},\"type\":\"scattermapbox\"}],\"scatterpolargl\":[{\"marker\":{\"colorbar\":{\"outlinewidth\":0,\"ticks\":\"\"}},\"type\":\"scatterpolargl\"}],\"scatterpolar\":[{\"marker\":{\"colorbar\":{\"outlinewidth\":0,\"ticks\":\"\"}},\"type\":\"scatterpolar\"}],\"scatter\":[{\"marker\":{\"colorbar\":{\"outlinewidth\":0,\"ticks\":\"\"}},\"type\":\"scatter\"}],\"scatterternary\":[{\"marker\":{\"colorbar\":{\"outlinewidth\":0,\"ticks\":\"\"}},\"type\":\"scatterternary\"}],\"surface\":[{\"colorbar\":{\"outlinewidth\":0,\"ticks\":\"\"},\"colorscale\":[[0.0,\"#0d0887\"],[0.1111111111111111,\"#46039f\"],[0.2222222222222222,\"#7201a8\"],[0.3333333333333333,\"#9c179e\"],[0.4444444444444444,\"#bd3786\"],[0.5555555555555556,\"#d8576b\"],[0.6666666666666666,\"#ed7953\"],[0.7777777777777778,\"#fb9f3a\"],[0.8888888888888888,\"#fdca26\"],[1.0,\"#f0f921\"]],\"type\":\"surface\"}],\"table\":[{\"cells\":{\"fill\":{\"color\":\"#EBF0F8\"},\"line\":{\"color\":\"white\"}},\"header\":{\"fill\":{\"color\":\"#C8D4E3\"},\"line\":{\"color\":\"white\"}},\"type\":\"table\"}]},\"layout\":{\"annotationdefaults\":{\"arrowcolor\":\"#2a3f5f\",\"arrowhead\":0,\"arrowwidth\":1},\"autotypenumbers\":\"strict\",\"coloraxis\":{\"colorbar\":{\"outlinewidth\":0,\"ticks\":\"\"}},\"colorscale\":{\"diverging\":[[0,\"#8e0152\"],[0.1,\"#c51b7d\"],[0.2,\"#de77ae\"],[0.3,\"#f1b6da\"],[0.4,\"#fde0ef\"],[0.5,\"#f7f7f7\"],[0.6,\"#e6f5d0\"],[0.7,\"#b8e186\"],[0.8,\"#7fbc41\"],[0.9,\"#4d9221\"],[1,\"#276419\"]],\"sequential\":[[0.0,\"#0d0887\"],[0.1111111111111111,\"#46039f\"],[0.2222222222222222,\"#7201a8\"],[0.3333333333333333,\"#9c179e\"],[0.4444444444444444,\"#bd3786\"],[0.5555555555555556,\"#d8576b\"],[0.6666666666666666,\"#ed7953\"],[0.7777777777777778,\"#fb9f3a\"],[0.8888888888888888,\"#fdca26\"],[1.0,\"#f0f921\"]],\"sequentialminus\":[[0.0,\"#0d0887\"],[0.1111111111111111,\"#46039f\"],[0.2222222222222222,\"#7201a8\"],[0.3333333333333333,\"#9c179e\"],[0.4444444444444444,\"#bd3786\"],[0.5555555555555556,\"#d8576b\"],[0.6666666666666666,\"#ed7953\"],[0.7777777777777778,\"#fb9f3a\"],[0.8888888888888888,\"#fdca26\"],[1.0,\"#f0f921\"]]},\"colorway\":[\"#636efa\",\"#EF553B\",\"#00cc96\",\"#ab63fa\",\"#FFA15A\",\"#19d3f3\",\"#FF6692\",\"#B6E880\",\"#FF97FF\",\"#FECB52\"],\"font\":{\"color\":\"#2a3f5f\"},\"geo\":{\"bgcolor\":\"white\",\"lakecolor\":\"white\",\"landcolor\":\"#E5ECF6\",\"showlakes\":true,\"showland\":true,\"subunitcolor\":\"white\"},\"hoverlabel\":{\"align\":\"left\"},\"hovermode\":\"closest\",\"mapbox\":{\"style\":\"light\"},\"paper_bgcolor\":\"white\",\"plot_bgcolor\":\"#E5ECF6\",\"polar\":{\"angularaxis\":{\"gridcolor\":\"white\",\"linecolor\":\"white\",\"ticks\":\"\"},\"bgcolor\":\"#E5ECF6\",\"radialaxis\":{\"gridcolor\":\"white\",\"linecolor\":\"white\",\"ticks\":\"\"}},\"scene\":{\"xaxis\":{\"backgroundcolor\":\"#E5ECF6\",\"gridcolor\":\"white\",\"gridwidth\":2,\"linecolor\":\"white\",\"showbackground\":true,\"ticks\":\"\",\"zerolinecolor\":\"white\"},\"yaxis\":{\"backgroundcolor\":\"#E5ECF6\",\"gridcolor\":\"white\",\"gridwidth\":2,\"linecolor\":\"white\",\"showbackground\":true,\"ticks\":\"\",\"zerolinecolor\":\"white\"},\"zaxis\":{\"backgroundcolor\":\"#E5ECF6\",\"gridcolor\":\"white\",\"gridwidth\":2,\"linecolor\":\"white\",\"showbackground\":true,\"ticks\":\"\",\"zerolinecolor\":\"white\"}},\"shapedefaults\":{\"line\":{\"color\":\"#2a3f5f\"}},\"ternary\":{\"aaxis\":{\"gridcolor\":\"white\",\"linecolor\":\"white\",\"ticks\":\"\"},\"baxis\":{\"gridcolor\":\"white\",\"linecolor\":\"white\",\"ticks\":\"\"},\"bgcolor\":\"#E5ECF6\",\"caxis\":{\"gridcolor\":\"white\",\"linecolor\":\"white\",\"ticks\":\"\"}},\"title\":{\"x\":0.05},\"xaxis\":{\"automargin\":true,\"gridcolor\":\"white\",\"linecolor\":\"white\",\"ticks\":\"\",\"title\":{\"standoff\":15},\"zerolinecolor\":\"white\",\"zerolinewidth\":2},\"yaxis\":{\"automargin\":true,\"gridcolor\":\"white\",\"linecolor\":\"white\",\"ticks\":\"\",\"title\":{\"standoff\":15},\"zerolinecolor\":\"white\",\"zerolinewidth\":2}}},\"title\":{\"font\":{\"color\":\"#4D5663\"}},\"xaxis\":{\"gridcolor\":\"#E1E5ED\",\"showgrid\":true,\"tickfont\":{\"color\":\"#4D5663\"},\"title\":{\"font\":{\"color\":\"#4D5663\"},\"text\":\"\"},\"zerolinecolor\":\"#E1E5ED\"},\"yaxis\":{\"gridcolor\":\"#E1E5ED\",\"showgrid\":true,\"tickfont\":{\"color\":\"#4D5663\"},\"title\":{\"font\":{\"color\":\"#4D5663\"},\"text\":\"\"},\"zerolinecolor\":\"#E1E5ED\"}},                        {\"showLink\": true, \"linkText\": \"Export to plot.ly\", \"plotlyServerURL\": \"https://plot.ly\", \"responsive\": true}                    ).then(function(){\n",
       "                            \n",
       "var gd = document.getElementById('fe6b1487-d2ba-418d-8c46-f7686ae49eb5');\n",
       "var x = new MutationObserver(function (mutations, observer) {{\n",
       "        var display = window.getComputedStyle(gd).display;\n",
       "        if (!display || display === 'none') {{\n",
       "            console.log([gd, 'removed!']);\n",
       "            Plotly.purge(gd);\n",
       "            observer.disconnect();\n",
       "        }}\n",
       "}});\n",
       "\n",
       "// Listen for the removal of the full notebook cells\n",
       "var notebookContainer = gd.closest('#notebook-container');\n",
       "if (notebookContainer) {{\n",
       "    x.observe(notebookContainer, {childList: true});\n",
       "}}\n",
       "\n",
       "// Listen for the clearing of the current output cell\n",
       "var outputEl = gd.closest('.output');\n",
       "if (outputEl) {{\n",
       "    x.observe(outputEl, {childList: true});\n",
       "}}\n",
       "\n",
       "                        })                };                });            </script>        </div>"
      ]
     },
     "metadata": {},
     "output_type": "display_data"
    }
   ],
   "source": [
    "df.iplot(kind = 'bar')\n",
    "\n",
    "# Not useful per se"
   ]
  },
  {
   "cell_type": "code",
   "execution_count": 35,
   "metadata": {},
   "outputs": [
    {
     "data": {
      "application/vnd.plotly.v1+json": {
       "config": {
        "linkText": "Export to plot.ly",
        "plotlyServerURL": "https://plot.ly",
        "showLink": true
       },
       "data": [
        {
         "marker": {
          "color": "rgba(255, 153, 51, 0.6)",
          "line": {
           "color": "rgba(255, 153, 51, 1.0)",
           "width": 1
          }
         },
         "name": "None",
         "orientation": "v",
         "text": "",
         "type": "bar",
         "x": [
          "A",
          "B",
          "C",
          "D"
         ],
         "y": [
          100,
          100,
          100,
          100
         ]
        }
       ],
       "layout": {
        "legend": {
         "bgcolor": "#F5F6F9",
         "font": {
          "color": "#4D5663"
         }
        },
        "paper_bgcolor": "#F5F6F9",
        "plot_bgcolor": "#F5F6F9",
        "template": {
         "data": {
          "bar": [
           {
            "error_x": {
             "color": "#2a3f5f"
            },
            "error_y": {
             "color": "#2a3f5f"
            },
            "marker": {
             "line": {
              "color": "#E5ECF6",
              "width": 0.5
             },
             "pattern": {
              "fillmode": "overlay",
              "size": 10,
              "solidity": 0.2
             }
            },
            "type": "bar"
           }
          ],
          "barpolar": [
           {
            "marker": {
             "line": {
              "color": "#E5ECF6",
              "width": 0.5
             },
             "pattern": {
              "fillmode": "overlay",
              "size": 10,
              "solidity": 0.2
             }
            },
            "type": "barpolar"
           }
          ],
          "carpet": [
           {
            "aaxis": {
             "endlinecolor": "#2a3f5f",
             "gridcolor": "white",
             "linecolor": "white",
             "minorgridcolor": "white",
             "startlinecolor": "#2a3f5f"
            },
            "baxis": {
             "endlinecolor": "#2a3f5f",
             "gridcolor": "white",
             "linecolor": "white",
             "minorgridcolor": "white",
             "startlinecolor": "#2a3f5f"
            },
            "type": "carpet"
           }
          ],
          "choropleth": [
           {
            "colorbar": {
             "outlinewidth": 0,
             "ticks": ""
            },
            "type": "choropleth"
           }
          ],
          "contour": [
           {
            "colorbar": {
             "outlinewidth": 0,
             "ticks": ""
            },
            "colorscale": [
             [
              0,
              "#0d0887"
             ],
             [
              0.1111111111111111,
              "#46039f"
             ],
             [
              0.2222222222222222,
              "#7201a8"
             ],
             [
              0.3333333333333333,
              "#9c179e"
             ],
             [
              0.4444444444444444,
              "#bd3786"
             ],
             [
              0.5555555555555556,
              "#d8576b"
             ],
             [
              0.6666666666666666,
              "#ed7953"
             ],
             [
              0.7777777777777778,
              "#fb9f3a"
             ],
             [
              0.8888888888888888,
              "#fdca26"
             ],
             [
              1,
              "#f0f921"
             ]
            ],
            "type": "contour"
           }
          ],
          "contourcarpet": [
           {
            "colorbar": {
             "outlinewidth": 0,
             "ticks": ""
            },
            "type": "contourcarpet"
           }
          ],
          "heatmap": [
           {
            "colorbar": {
             "outlinewidth": 0,
             "ticks": ""
            },
            "colorscale": [
             [
              0,
              "#0d0887"
             ],
             [
              0.1111111111111111,
              "#46039f"
             ],
             [
              0.2222222222222222,
              "#7201a8"
             ],
             [
              0.3333333333333333,
              "#9c179e"
             ],
             [
              0.4444444444444444,
              "#bd3786"
             ],
             [
              0.5555555555555556,
              "#d8576b"
             ],
             [
              0.6666666666666666,
              "#ed7953"
             ],
             [
              0.7777777777777778,
              "#fb9f3a"
             ],
             [
              0.8888888888888888,
              "#fdca26"
             ],
             [
              1,
              "#f0f921"
             ]
            ],
            "type": "heatmap"
           }
          ],
          "heatmapgl": [
           {
            "colorbar": {
             "outlinewidth": 0,
             "ticks": ""
            },
            "colorscale": [
             [
              0,
              "#0d0887"
             ],
             [
              0.1111111111111111,
              "#46039f"
             ],
             [
              0.2222222222222222,
              "#7201a8"
             ],
             [
              0.3333333333333333,
              "#9c179e"
             ],
             [
              0.4444444444444444,
              "#bd3786"
             ],
             [
              0.5555555555555556,
              "#d8576b"
             ],
             [
              0.6666666666666666,
              "#ed7953"
             ],
             [
              0.7777777777777778,
              "#fb9f3a"
             ],
             [
              0.8888888888888888,
              "#fdca26"
             ],
             [
              1,
              "#f0f921"
             ]
            ],
            "type": "heatmapgl"
           }
          ],
          "histogram": [
           {
            "marker": {
             "pattern": {
              "fillmode": "overlay",
              "size": 10,
              "solidity": 0.2
             }
            },
            "type": "histogram"
           }
          ],
          "histogram2d": [
           {
            "colorbar": {
             "outlinewidth": 0,
             "ticks": ""
            },
            "colorscale": [
             [
              0,
              "#0d0887"
             ],
             [
              0.1111111111111111,
              "#46039f"
             ],
             [
              0.2222222222222222,
              "#7201a8"
             ],
             [
              0.3333333333333333,
              "#9c179e"
             ],
             [
              0.4444444444444444,
              "#bd3786"
             ],
             [
              0.5555555555555556,
              "#d8576b"
             ],
             [
              0.6666666666666666,
              "#ed7953"
             ],
             [
              0.7777777777777778,
              "#fb9f3a"
             ],
             [
              0.8888888888888888,
              "#fdca26"
             ],
             [
              1,
              "#f0f921"
             ]
            ],
            "type": "histogram2d"
           }
          ],
          "histogram2dcontour": [
           {
            "colorbar": {
             "outlinewidth": 0,
             "ticks": ""
            },
            "colorscale": [
             [
              0,
              "#0d0887"
             ],
             [
              0.1111111111111111,
              "#46039f"
             ],
             [
              0.2222222222222222,
              "#7201a8"
             ],
             [
              0.3333333333333333,
              "#9c179e"
             ],
             [
              0.4444444444444444,
              "#bd3786"
             ],
             [
              0.5555555555555556,
              "#d8576b"
             ],
             [
              0.6666666666666666,
              "#ed7953"
             ],
             [
              0.7777777777777778,
              "#fb9f3a"
             ],
             [
              0.8888888888888888,
              "#fdca26"
             ],
             [
              1,
              "#f0f921"
             ]
            ],
            "type": "histogram2dcontour"
           }
          ],
          "mesh3d": [
           {
            "colorbar": {
             "outlinewidth": 0,
             "ticks": ""
            },
            "type": "mesh3d"
           }
          ],
          "parcoords": [
           {
            "line": {
             "colorbar": {
              "outlinewidth": 0,
              "ticks": ""
             }
            },
            "type": "parcoords"
           }
          ],
          "pie": [
           {
            "automargin": true,
            "type": "pie"
           }
          ],
          "scatter": [
           {
            "marker": {
             "colorbar": {
              "outlinewidth": 0,
              "ticks": ""
             }
            },
            "type": "scatter"
           }
          ],
          "scatter3d": [
           {
            "line": {
             "colorbar": {
              "outlinewidth": 0,
              "ticks": ""
             }
            },
            "marker": {
             "colorbar": {
              "outlinewidth": 0,
              "ticks": ""
             }
            },
            "type": "scatter3d"
           }
          ],
          "scattercarpet": [
           {
            "marker": {
             "colorbar": {
              "outlinewidth": 0,
              "ticks": ""
             }
            },
            "type": "scattercarpet"
           }
          ],
          "scattergeo": [
           {
            "marker": {
             "colorbar": {
              "outlinewidth": 0,
              "ticks": ""
             }
            },
            "type": "scattergeo"
           }
          ],
          "scattergl": [
           {
            "marker": {
             "colorbar": {
              "outlinewidth": 0,
              "ticks": ""
             }
            },
            "type": "scattergl"
           }
          ],
          "scattermapbox": [
           {
            "marker": {
             "colorbar": {
              "outlinewidth": 0,
              "ticks": ""
             }
            },
            "type": "scattermapbox"
           }
          ],
          "scatterpolar": [
           {
            "marker": {
             "colorbar": {
              "outlinewidth": 0,
              "ticks": ""
             }
            },
            "type": "scatterpolar"
           }
          ],
          "scatterpolargl": [
           {
            "marker": {
             "colorbar": {
              "outlinewidth": 0,
              "ticks": ""
             }
            },
            "type": "scatterpolargl"
           }
          ],
          "scatterternary": [
           {
            "marker": {
             "colorbar": {
              "outlinewidth": 0,
              "ticks": ""
             }
            },
            "type": "scatterternary"
           }
          ],
          "surface": [
           {
            "colorbar": {
             "outlinewidth": 0,
             "ticks": ""
            },
            "colorscale": [
             [
              0,
              "#0d0887"
             ],
             [
              0.1111111111111111,
              "#46039f"
             ],
             [
              0.2222222222222222,
              "#7201a8"
             ],
             [
              0.3333333333333333,
              "#9c179e"
             ],
             [
              0.4444444444444444,
              "#bd3786"
             ],
             [
              0.5555555555555556,
              "#d8576b"
             ],
             [
              0.6666666666666666,
              "#ed7953"
             ],
             [
              0.7777777777777778,
              "#fb9f3a"
             ],
             [
              0.8888888888888888,
              "#fdca26"
             ],
             [
              1,
              "#f0f921"
             ]
            ],
            "type": "surface"
           }
          ],
          "table": [
           {
            "cells": {
             "fill": {
              "color": "#EBF0F8"
             },
             "line": {
              "color": "white"
             }
            },
            "header": {
             "fill": {
              "color": "#C8D4E3"
             },
             "line": {
              "color": "white"
             }
            },
            "type": "table"
           }
          ]
         },
         "layout": {
          "annotationdefaults": {
           "arrowcolor": "#2a3f5f",
           "arrowhead": 0,
           "arrowwidth": 1
          },
          "autotypenumbers": "strict",
          "coloraxis": {
           "colorbar": {
            "outlinewidth": 0,
            "ticks": ""
           }
          },
          "colorscale": {
           "diverging": [
            [
             0,
             "#8e0152"
            ],
            [
             0.1,
             "#c51b7d"
            ],
            [
             0.2,
             "#de77ae"
            ],
            [
             0.3,
             "#f1b6da"
            ],
            [
             0.4,
             "#fde0ef"
            ],
            [
             0.5,
             "#f7f7f7"
            ],
            [
             0.6,
             "#e6f5d0"
            ],
            [
             0.7,
             "#b8e186"
            ],
            [
             0.8,
             "#7fbc41"
            ],
            [
             0.9,
             "#4d9221"
            ],
            [
             1,
             "#276419"
            ]
           ],
           "sequential": [
            [
             0,
             "#0d0887"
            ],
            [
             0.1111111111111111,
             "#46039f"
            ],
            [
             0.2222222222222222,
             "#7201a8"
            ],
            [
             0.3333333333333333,
             "#9c179e"
            ],
            [
             0.4444444444444444,
             "#bd3786"
            ],
            [
             0.5555555555555556,
             "#d8576b"
            ],
            [
             0.6666666666666666,
             "#ed7953"
            ],
            [
             0.7777777777777778,
             "#fb9f3a"
            ],
            [
             0.8888888888888888,
             "#fdca26"
            ],
            [
             1,
             "#f0f921"
            ]
           ],
           "sequentialminus": [
            [
             0,
             "#0d0887"
            ],
            [
             0.1111111111111111,
             "#46039f"
            ],
            [
             0.2222222222222222,
             "#7201a8"
            ],
            [
             0.3333333333333333,
             "#9c179e"
            ],
            [
             0.4444444444444444,
             "#bd3786"
            ],
            [
             0.5555555555555556,
             "#d8576b"
            ],
            [
             0.6666666666666666,
             "#ed7953"
            ],
            [
             0.7777777777777778,
             "#fb9f3a"
            ],
            [
             0.8888888888888888,
             "#fdca26"
            ],
            [
             1,
             "#f0f921"
            ]
           ]
          },
          "colorway": [
           "#636efa",
           "#EF553B",
           "#00cc96",
           "#ab63fa",
           "#FFA15A",
           "#19d3f3",
           "#FF6692",
           "#B6E880",
           "#FF97FF",
           "#FECB52"
          ],
          "font": {
           "color": "#2a3f5f"
          },
          "geo": {
           "bgcolor": "white",
           "lakecolor": "white",
           "landcolor": "#E5ECF6",
           "showlakes": true,
           "showland": true,
           "subunitcolor": "white"
          },
          "hoverlabel": {
           "align": "left"
          },
          "hovermode": "closest",
          "mapbox": {
           "style": "light"
          },
          "paper_bgcolor": "white",
          "plot_bgcolor": "#E5ECF6",
          "polar": {
           "angularaxis": {
            "gridcolor": "white",
            "linecolor": "white",
            "ticks": ""
           },
           "bgcolor": "#E5ECF6",
           "radialaxis": {
            "gridcolor": "white",
            "linecolor": "white",
            "ticks": ""
           }
          },
          "scene": {
           "xaxis": {
            "backgroundcolor": "#E5ECF6",
            "gridcolor": "white",
            "gridwidth": 2,
            "linecolor": "white",
            "showbackground": true,
            "ticks": "",
            "zerolinecolor": "white"
           },
           "yaxis": {
            "backgroundcolor": "#E5ECF6",
            "gridcolor": "white",
            "gridwidth": 2,
            "linecolor": "white",
            "showbackground": true,
            "ticks": "",
            "zerolinecolor": "white"
           },
           "zaxis": {
            "backgroundcolor": "#E5ECF6",
            "gridcolor": "white",
            "gridwidth": 2,
            "linecolor": "white",
            "showbackground": true,
            "ticks": "",
            "zerolinecolor": "white"
           }
          },
          "shapedefaults": {
           "line": {
            "color": "#2a3f5f"
           }
          },
          "ternary": {
           "aaxis": {
            "gridcolor": "white",
            "linecolor": "white",
            "ticks": ""
           },
           "baxis": {
            "gridcolor": "white",
            "linecolor": "white",
            "ticks": ""
           },
           "bgcolor": "#E5ECF6",
           "caxis": {
            "gridcolor": "white",
            "linecolor": "white",
            "ticks": ""
           }
          },
          "title": {
           "x": 0.05
          },
          "xaxis": {
           "automargin": true,
           "gridcolor": "white",
           "linecolor": "white",
           "ticks": "",
           "title": {
            "standoff": 15
           },
           "zerolinecolor": "white",
           "zerolinewidth": 2
          },
          "yaxis": {
           "automargin": true,
           "gridcolor": "white",
           "linecolor": "white",
           "ticks": "",
           "title": {
            "standoff": 15
           },
           "zerolinecolor": "white",
           "zerolinewidth": 2
          }
         }
        },
        "title": {
         "font": {
          "color": "#4D5663"
         }
        },
        "xaxis": {
         "gridcolor": "#E1E5ED",
         "showgrid": true,
         "tickfont": {
          "color": "#4D5663"
         },
         "title": {
          "font": {
           "color": "#4D5663"
          },
          "text": ""
         },
         "zerolinecolor": "#E1E5ED"
        },
        "yaxis": {
         "gridcolor": "#E1E5ED",
         "showgrid": true,
         "tickfont": {
          "color": "#4D5663"
         },
         "title": {
          "font": {
           "color": "#4D5663"
          },
          "text": ""
         },
         "zerolinecolor": "#E1E5ED"
        }
       }
      },
      "text/html": [
       "<div>                            <div id=\"c60df3ed-9bf3-42a0-90ee-ed9d8debc319\" class=\"plotly-graph-div\" style=\"height:525px; width:100%;\"></div>            <script type=\"text/javascript\">                require([\"plotly\"], function(Plotly) {                    window.PLOTLYENV=window.PLOTLYENV || {};\n",
       "                    window.PLOTLYENV.BASE_URL='https://plot.ly';                                    if (document.getElementById(\"c60df3ed-9bf3-42a0-90ee-ed9d8debc319\")) {                    Plotly.newPlot(                        \"c60df3ed-9bf3-42a0-90ee-ed9d8debc319\",                        [{\"marker\":{\"color\":\"rgba(255, 153, 51, 0.6)\",\"line\":{\"color\":\"rgba(255, 153, 51, 1.0)\",\"width\":1}},\"name\":\"None\",\"orientation\":\"v\",\"text\":\"\",\"x\":[\"A\",\"B\",\"C\",\"D\"],\"y\":[100,100,100,100],\"type\":\"bar\"}],                        {\"legend\":{\"bgcolor\":\"#F5F6F9\",\"font\":{\"color\":\"#4D5663\"}},\"paper_bgcolor\":\"#F5F6F9\",\"plot_bgcolor\":\"#F5F6F9\",\"template\":{\"data\":{\"barpolar\":[{\"marker\":{\"line\":{\"color\":\"#E5ECF6\",\"width\":0.5},\"pattern\":{\"fillmode\":\"overlay\",\"size\":10,\"solidity\":0.2}},\"type\":\"barpolar\"}],\"bar\":[{\"error_x\":{\"color\":\"#2a3f5f\"},\"error_y\":{\"color\":\"#2a3f5f\"},\"marker\":{\"line\":{\"color\":\"#E5ECF6\",\"width\":0.5},\"pattern\":{\"fillmode\":\"overlay\",\"size\":10,\"solidity\":0.2}},\"type\":\"bar\"}],\"carpet\":[{\"aaxis\":{\"endlinecolor\":\"#2a3f5f\",\"gridcolor\":\"white\",\"linecolor\":\"white\",\"minorgridcolor\":\"white\",\"startlinecolor\":\"#2a3f5f\"},\"baxis\":{\"endlinecolor\":\"#2a3f5f\",\"gridcolor\":\"white\",\"linecolor\":\"white\",\"minorgridcolor\":\"white\",\"startlinecolor\":\"#2a3f5f\"},\"type\":\"carpet\"}],\"choropleth\":[{\"colorbar\":{\"outlinewidth\":0,\"ticks\":\"\"},\"type\":\"choropleth\"}],\"contourcarpet\":[{\"colorbar\":{\"outlinewidth\":0,\"ticks\":\"\"},\"type\":\"contourcarpet\"}],\"contour\":[{\"colorbar\":{\"outlinewidth\":0,\"ticks\":\"\"},\"colorscale\":[[0.0,\"#0d0887\"],[0.1111111111111111,\"#46039f\"],[0.2222222222222222,\"#7201a8\"],[0.3333333333333333,\"#9c179e\"],[0.4444444444444444,\"#bd3786\"],[0.5555555555555556,\"#d8576b\"],[0.6666666666666666,\"#ed7953\"],[0.7777777777777778,\"#fb9f3a\"],[0.8888888888888888,\"#fdca26\"],[1.0,\"#f0f921\"]],\"type\":\"contour\"}],\"heatmapgl\":[{\"colorbar\":{\"outlinewidth\":0,\"ticks\":\"\"},\"colorscale\":[[0.0,\"#0d0887\"],[0.1111111111111111,\"#46039f\"],[0.2222222222222222,\"#7201a8\"],[0.3333333333333333,\"#9c179e\"],[0.4444444444444444,\"#bd3786\"],[0.5555555555555556,\"#d8576b\"],[0.6666666666666666,\"#ed7953\"],[0.7777777777777778,\"#fb9f3a\"],[0.8888888888888888,\"#fdca26\"],[1.0,\"#f0f921\"]],\"type\":\"heatmapgl\"}],\"heatmap\":[{\"colorbar\":{\"outlinewidth\":0,\"ticks\":\"\"},\"colorscale\":[[0.0,\"#0d0887\"],[0.1111111111111111,\"#46039f\"],[0.2222222222222222,\"#7201a8\"],[0.3333333333333333,\"#9c179e\"],[0.4444444444444444,\"#bd3786\"],[0.5555555555555556,\"#d8576b\"],[0.6666666666666666,\"#ed7953\"],[0.7777777777777778,\"#fb9f3a\"],[0.8888888888888888,\"#fdca26\"],[1.0,\"#f0f921\"]],\"type\":\"heatmap\"}],\"histogram2dcontour\":[{\"colorbar\":{\"outlinewidth\":0,\"ticks\":\"\"},\"colorscale\":[[0.0,\"#0d0887\"],[0.1111111111111111,\"#46039f\"],[0.2222222222222222,\"#7201a8\"],[0.3333333333333333,\"#9c179e\"],[0.4444444444444444,\"#bd3786\"],[0.5555555555555556,\"#d8576b\"],[0.6666666666666666,\"#ed7953\"],[0.7777777777777778,\"#fb9f3a\"],[0.8888888888888888,\"#fdca26\"],[1.0,\"#f0f921\"]],\"type\":\"histogram2dcontour\"}],\"histogram2d\":[{\"colorbar\":{\"outlinewidth\":0,\"ticks\":\"\"},\"colorscale\":[[0.0,\"#0d0887\"],[0.1111111111111111,\"#46039f\"],[0.2222222222222222,\"#7201a8\"],[0.3333333333333333,\"#9c179e\"],[0.4444444444444444,\"#bd3786\"],[0.5555555555555556,\"#d8576b\"],[0.6666666666666666,\"#ed7953\"],[0.7777777777777778,\"#fb9f3a\"],[0.8888888888888888,\"#fdca26\"],[1.0,\"#f0f921\"]],\"type\":\"histogram2d\"}],\"histogram\":[{\"marker\":{\"pattern\":{\"fillmode\":\"overlay\",\"size\":10,\"solidity\":0.2}},\"type\":\"histogram\"}],\"mesh3d\":[{\"colorbar\":{\"outlinewidth\":0,\"ticks\":\"\"},\"type\":\"mesh3d\"}],\"parcoords\":[{\"line\":{\"colorbar\":{\"outlinewidth\":0,\"ticks\":\"\"}},\"type\":\"parcoords\"}],\"pie\":[{\"automargin\":true,\"type\":\"pie\"}],\"scatter3d\":[{\"line\":{\"colorbar\":{\"outlinewidth\":0,\"ticks\":\"\"}},\"marker\":{\"colorbar\":{\"outlinewidth\":0,\"ticks\":\"\"}},\"type\":\"scatter3d\"}],\"scattercarpet\":[{\"marker\":{\"colorbar\":{\"outlinewidth\":0,\"ticks\":\"\"}},\"type\":\"scattercarpet\"}],\"scattergeo\":[{\"marker\":{\"colorbar\":{\"outlinewidth\":0,\"ticks\":\"\"}},\"type\":\"scattergeo\"}],\"scattergl\":[{\"marker\":{\"colorbar\":{\"outlinewidth\":0,\"ticks\":\"\"}},\"type\":\"scattergl\"}],\"scattermapbox\":[{\"marker\":{\"colorbar\":{\"outlinewidth\":0,\"ticks\":\"\"}},\"type\":\"scattermapbox\"}],\"scatterpolargl\":[{\"marker\":{\"colorbar\":{\"outlinewidth\":0,\"ticks\":\"\"}},\"type\":\"scatterpolargl\"}],\"scatterpolar\":[{\"marker\":{\"colorbar\":{\"outlinewidth\":0,\"ticks\":\"\"}},\"type\":\"scatterpolar\"}],\"scatter\":[{\"marker\":{\"colorbar\":{\"outlinewidth\":0,\"ticks\":\"\"}},\"type\":\"scatter\"}],\"scatterternary\":[{\"marker\":{\"colorbar\":{\"outlinewidth\":0,\"ticks\":\"\"}},\"type\":\"scatterternary\"}],\"surface\":[{\"colorbar\":{\"outlinewidth\":0,\"ticks\":\"\"},\"colorscale\":[[0.0,\"#0d0887\"],[0.1111111111111111,\"#46039f\"],[0.2222222222222222,\"#7201a8\"],[0.3333333333333333,\"#9c179e\"],[0.4444444444444444,\"#bd3786\"],[0.5555555555555556,\"#d8576b\"],[0.6666666666666666,\"#ed7953\"],[0.7777777777777778,\"#fb9f3a\"],[0.8888888888888888,\"#fdca26\"],[1.0,\"#f0f921\"]],\"type\":\"surface\"}],\"table\":[{\"cells\":{\"fill\":{\"color\":\"#EBF0F8\"},\"line\":{\"color\":\"white\"}},\"header\":{\"fill\":{\"color\":\"#C8D4E3\"},\"line\":{\"color\":\"white\"}},\"type\":\"table\"}]},\"layout\":{\"annotationdefaults\":{\"arrowcolor\":\"#2a3f5f\",\"arrowhead\":0,\"arrowwidth\":1},\"autotypenumbers\":\"strict\",\"coloraxis\":{\"colorbar\":{\"outlinewidth\":0,\"ticks\":\"\"}},\"colorscale\":{\"diverging\":[[0,\"#8e0152\"],[0.1,\"#c51b7d\"],[0.2,\"#de77ae\"],[0.3,\"#f1b6da\"],[0.4,\"#fde0ef\"],[0.5,\"#f7f7f7\"],[0.6,\"#e6f5d0\"],[0.7,\"#b8e186\"],[0.8,\"#7fbc41\"],[0.9,\"#4d9221\"],[1,\"#276419\"]],\"sequential\":[[0.0,\"#0d0887\"],[0.1111111111111111,\"#46039f\"],[0.2222222222222222,\"#7201a8\"],[0.3333333333333333,\"#9c179e\"],[0.4444444444444444,\"#bd3786\"],[0.5555555555555556,\"#d8576b\"],[0.6666666666666666,\"#ed7953\"],[0.7777777777777778,\"#fb9f3a\"],[0.8888888888888888,\"#fdca26\"],[1.0,\"#f0f921\"]],\"sequentialminus\":[[0.0,\"#0d0887\"],[0.1111111111111111,\"#46039f\"],[0.2222222222222222,\"#7201a8\"],[0.3333333333333333,\"#9c179e\"],[0.4444444444444444,\"#bd3786\"],[0.5555555555555556,\"#d8576b\"],[0.6666666666666666,\"#ed7953\"],[0.7777777777777778,\"#fb9f3a\"],[0.8888888888888888,\"#fdca26\"],[1.0,\"#f0f921\"]]},\"colorway\":[\"#636efa\",\"#EF553B\",\"#00cc96\",\"#ab63fa\",\"#FFA15A\",\"#19d3f3\",\"#FF6692\",\"#B6E880\",\"#FF97FF\",\"#FECB52\"],\"font\":{\"color\":\"#2a3f5f\"},\"geo\":{\"bgcolor\":\"white\",\"lakecolor\":\"white\",\"landcolor\":\"#E5ECF6\",\"showlakes\":true,\"showland\":true,\"subunitcolor\":\"white\"},\"hoverlabel\":{\"align\":\"left\"},\"hovermode\":\"closest\",\"mapbox\":{\"style\":\"light\"},\"paper_bgcolor\":\"white\",\"plot_bgcolor\":\"#E5ECF6\",\"polar\":{\"angularaxis\":{\"gridcolor\":\"white\",\"linecolor\":\"white\",\"ticks\":\"\"},\"bgcolor\":\"#E5ECF6\",\"radialaxis\":{\"gridcolor\":\"white\",\"linecolor\":\"white\",\"ticks\":\"\"}},\"scene\":{\"xaxis\":{\"backgroundcolor\":\"#E5ECF6\",\"gridcolor\":\"white\",\"gridwidth\":2,\"linecolor\":\"white\",\"showbackground\":true,\"ticks\":\"\",\"zerolinecolor\":\"white\"},\"yaxis\":{\"backgroundcolor\":\"#E5ECF6\",\"gridcolor\":\"white\",\"gridwidth\":2,\"linecolor\":\"white\",\"showbackground\":true,\"ticks\":\"\",\"zerolinecolor\":\"white\"},\"zaxis\":{\"backgroundcolor\":\"#E5ECF6\",\"gridcolor\":\"white\",\"gridwidth\":2,\"linecolor\":\"white\",\"showbackground\":true,\"ticks\":\"\",\"zerolinecolor\":\"white\"}},\"shapedefaults\":{\"line\":{\"color\":\"#2a3f5f\"}},\"ternary\":{\"aaxis\":{\"gridcolor\":\"white\",\"linecolor\":\"white\",\"ticks\":\"\"},\"baxis\":{\"gridcolor\":\"white\",\"linecolor\":\"white\",\"ticks\":\"\"},\"bgcolor\":\"#E5ECF6\",\"caxis\":{\"gridcolor\":\"white\",\"linecolor\":\"white\",\"ticks\":\"\"}},\"title\":{\"x\":0.05},\"xaxis\":{\"automargin\":true,\"gridcolor\":\"white\",\"linecolor\":\"white\",\"ticks\":\"\",\"title\":{\"standoff\":15},\"zerolinecolor\":\"white\",\"zerolinewidth\":2},\"yaxis\":{\"automargin\":true,\"gridcolor\":\"white\",\"linecolor\":\"white\",\"ticks\":\"\",\"title\":{\"standoff\":15},\"zerolinecolor\":\"white\",\"zerolinewidth\":2}}},\"title\":{\"font\":{\"color\":\"#4D5663\"}},\"xaxis\":{\"gridcolor\":\"#E1E5ED\",\"showgrid\":true,\"tickfont\":{\"color\":\"#4D5663\"},\"title\":{\"font\":{\"color\":\"#4D5663\"},\"text\":\"\"},\"zerolinecolor\":\"#E1E5ED\"},\"yaxis\":{\"gridcolor\":\"#E1E5ED\",\"showgrid\":true,\"tickfont\":{\"color\":\"#4D5663\"},\"title\":{\"font\":{\"color\":\"#4D5663\"},\"text\":\"\"},\"zerolinecolor\":\"#E1E5ED\"}},                        {\"showLink\": true, \"linkText\": \"Export to plot.ly\", \"plotlyServerURL\": \"https://plot.ly\", \"responsive\": true}                    ).then(function(){\n",
       "                            \n",
       "var gd = document.getElementById('c60df3ed-9bf3-42a0-90ee-ed9d8debc319');\n",
       "var x = new MutationObserver(function (mutations, observer) {{\n",
       "        var display = window.getComputedStyle(gd).display;\n",
       "        if (!display || display === 'none') {{\n",
       "            console.log([gd, 'removed!']);\n",
       "            Plotly.purge(gd);\n",
       "            observer.disconnect();\n",
       "        }}\n",
       "}});\n",
       "\n",
       "// Listen for the removal of the full notebook cells\n",
       "var notebookContainer = gd.closest('#notebook-container');\n",
       "if (notebookContainer) {{\n",
       "    x.observe(notebookContainer, {childList: true});\n",
       "}}\n",
       "\n",
       "// Listen for the clearing of the current output cell\n",
       "var outputEl = gd.closest('.output');\n",
       "if (outputEl) {{\n",
       "    x.observe(outputEl, {childList: true});\n",
       "}}\n",
       "\n",
       "                        })                };                });            </script>        </div>"
      ]
     },
     "metadata": {},
     "output_type": "display_data"
    }
   ],
   "source": [
    "# Count the instances per column:\n",
    "\n",
    "df1.count().iplot(kind = 'bar')\n"
   ]
  },
  {
   "cell_type": "code",
   "execution_count": 38,
   "metadata": {},
   "outputs": [
    {
     "data": {
      "application/vnd.plotly.v1+json": {
       "config": {
        "linkText": "Export to plot.ly",
        "plotlyServerURL": "https://plot.ly",
        "showLink": true
       },
       "data": [
        {
         "marker": {
          "color": "rgba(255, 153, 51, 0.6)",
          "line": {
           "color": "rgba(255, 153, 51, 1.0)",
           "width": 1
          }
         },
         "name": "None",
         "orientation": "v",
         "text": "",
         "type": "bar",
         "x": [
          "A",
          "B",
          "C",
          "D"
         ],
         "y": [
          22.634219574913743,
          -20.06061824233426,
          -3.4718017507040067,
          1.8994951361172705
         ]
        }
       ],
       "layout": {
        "legend": {
         "bgcolor": "#F5F6F9",
         "font": {
          "color": "#4D5663"
         }
        },
        "paper_bgcolor": "#F5F6F9",
        "plot_bgcolor": "#F5F6F9",
        "template": {
         "data": {
          "bar": [
           {
            "error_x": {
             "color": "#2a3f5f"
            },
            "error_y": {
             "color": "#2a3f5f"
            },
            "marker": {
             "line": {
              "color": "#E5ECF6",
              "width": 0.5
             },
             "pattern": {
              "fillmode": "overlay",
              "size": 10,
              "solidity": 0.2
             }
            },
            "type": "bar"
           }
          ],
          "barpolar": [
           {
            "marker": {
             "line": {
              "color": "#E5ECF6",
              "width": 0.5
             },
             "pattern": {
              "fillmode": "overlay",
              "size": 10,
              "solidity": 0.2
             }
            },
            "type": "barpolar"
           }
          ],
          "carpet": [
           {
            "aaxis": {
             "endlinecolor": "#2a3f5f",
             "gridcolor": "white",
             "linecolor": "white",
             "minorgridcolor": "white",
             "startlinecolor": "#2a3f5f"
            },
            "baxis": {
             "endlinecolor": "#2a3f5f",
             "gridcolor": "white",
             "linecolor": "white",
             "minorgridcolor": "white",
             "startlinecolor": "#2a3f5f"
            },
            "type": "carpet"
           }
          ],
          "choropleth": [
           {
            "colorbar": {
             "outlinewidth": 0,
             "ticks": ""
            },
            "type": "choropleth"
           }
          ],
          "contour": [
           {
            "colorbar": {
             "outlinewidth": 0,
             "ticks": ""
            },
            "colorscale": [
             [
              0,
              "#0d0887"
             ],
             [
              0.1111111111111111,
              "#46039f"
             ],
             [
              0.2222222222222222,
              "#7201a8"
             ],
             [
              0.3333333333333333,
              "#9c179e"
             ],
             [
              0.4444444444444444,
              "#bd3786"
             ],
             [
              0.5555555555555556,
              "#d8576b"
             ],
             [
              0.6666666666666666,
              "#ed7953"
             ],
             [
              0.7777777777777778,
              "#fb9f3a"
             ],
             [
              0.8888888888888888,
              "#fdca26"
             ],
             [
              1,
              "#f0f921"
             ]
            ],
            "type": "contour"
           }
          ],
          "contourcarpet": [
           {
            "colorbar": {
             "outlinewidth": 0,
             "ticks": ""
            },
            "type": "contourcarpet"
           }
          ],
          "heatmap": [
           {
            "colorbar": {
             "outlinewidth": 0,
             "ticks": ""
            },
            "colorscale": [
             [
              0,
              "#0d0887"
             ],
             [
              0.1111111111111111,
              "#46039f"
             ],
             [
              0.2222222222222222,
              "#7201a8"
             ],
             [
              0.3333333333333333,
              "#9c179e"
             ],
             [
              0.4444444444444444,
              "#bd3786"
             ],
             [
              0.5555555555555556,
              "#d8576b"
             ],
             [
              0.6666666666666666,
              "#ed7953"
             ],
             [
              0.7777777777777778,
              "#fb9f3a"
             ],
             [
              0.8888888888888888,
              "#fdca26"
             ],
             [
              1,
              "#f0f921"
             ]
            ],
            "type": "heatmap"
           }
          ],
          "heatmapgl": [
           {
            "colorbar": {
             "outlinewidth": 0,
             "ticks": ""
            },
            "colorscale": [
             [
              0,
              "#0d0887"
             ],
             [
              0.1111111111111111,
              "#46039f"
             ],
             [
              0.2222222222222222,
              "#7201a8"
             ],
             [
              0.3333333333333333,
              "#9c179e"
             ],
             [
              0.4444444444444444,
              "#bd3786"
             ],
             [
              0.5555555555555556,
              "#d8576b"
             ],
             [
              0.6666666666666666,
              "#ed7953"
             ],
             [
              0.7777777777777778,
              "#fb9f3a"
             ],
             [
              0.8888888888888888,
              "#fdca26"
             ],
             [
              1,
              "#f0f921"
             ]
            ],
            "type": "heatmapgl"
           }
          ],
          "histogram": [
           {
            "marker": {
             "pattern": {
              "fillmode": "overlay",
              "size": 10,
              "solidity": 0.2
             }
            },
            "type": "histogram"
           }
          ],
          "histogram2d": [
           {
            "colorbar": {
             "outlinewidth": 0,
             "ticks": ""
            },
            "colorscale": [
             [
              0,
              "#0d0887"
             ],
             [
              0.1111111111111111,
              "#46039f"
             ],
             [
              0.2222222222222222,
              "#7201a8"
             ],
             [
              0.3333333333333333,
              "#9c179e"
             ],
             [
              0.4444444444444444,
              "#bd3786"
             ],
             [
              0.5555555555555556,
              "#d8576b"
             ],
             [
              0.6666666666666666,
              "#ed7953"
             ],
             [
              0.7777777777777778,
              "#fb9f3a"
             ],
             [
              0.8888888888888888,
              "#fdca26"
             ],
             [
              1,
              "#f0f921"
             ]
            ],
            "type": "histogram2d"
           }
          ],
          "histogram2dcontour": [
           {
            "colorbar": {
             "outlinewidth": 0,
             "ticks": ""
            },
            "colorscale": [
             [
              0,
              "#0d0887"
             ],
             [
              0.1111111111111111,
              "#46039f"
             ],
             [
              0.2222222222222222,
              "#7201a8"
             ],
             [
              0.3333333333333333,
              "#9c179e"
             ],
             [
              0.4444444444444444,
              "#bd3786"
             ],
             [
              0.5555555555555556,
              "#d8576b"
             ],
             [
              0.6666666666666666,
              "#ed7953"
             ],
             [
              0.7777777777777778,
              "#fb9f3a"
             ],
             [
              0.8888888888888888,
              "#fdca26"
             ],
             [
              1,
              "#f0f921"
             ]
            ],
            "type": "histogram2dcontour"
           }
          ],
          "mesh3d": [
           {
            "colorbar": {
             "outlinewidth": 0,
             "ticks": ""
            },
            "type": "mesh3d"
           }
          ],
          "parcoords": [
           {
            "line": {
             "colorbar": {
              "outlinewidth": 0,
              "ticks": ""
             }
            },
            "type": "parcoords"
           }
          ],
          "pie": [
           {
            "automargin": true,
            "type": "pie"
           }
          ],
          "scatter": [
           {
            "marker": {
             "colorbar": {
              "outlinewidth": 0,
              "ticks": ""
             }
            },
            "type": "scatter"
           }
          ],
          "scatter3d": [
           {
            "line": {
             "colorbar": {
              "outlinewidth": 0,
              "ticks": ""
             }
            },
            "marker": {
             "colorbar": {
              "outlinewidth": 0,
              "ticks": ""
             }
            },
            "type": "scatter3d"
           }
          ],
          "scattercarpet": [
           {
            "marker": {
             "colorbar": {
              "outlinewidth": 0,
              "ticks": ""
             }
            },
            "type": "scattercarpet"
           }
          ],
          "scattergeo": [
           {
            "marker": {
             "colorbar": {
              "outlinewidth": 0,
              "ticks": ""
             }
            },
            "type": "scattergeo"
           }
          ],
          "scattergl": [
           {
            "marker": {
             "colorbar": {
              "outlinewidth": 0,
              "ticks": ""
             }
            },
            "type": "scattergl"
           }
          ],
          "scattermapbox": [
           {
            "marker": {
             "colorbar": {
              "outlinewidth": 0,
              "ticks": ""
             }
            },
            "type": "scattermapbox"
           }
          ],
          "scatterpolar": [
           {
            "marker": {
             "colorbar": {
              "outlinewidth": 0,
              "ticks": ""
             }
            },
            "type": "scatterpolar"
           }
          ],
          "scatterpolargl": [
           {
            "marker": {
             "colorbar": {
              "outlinewidth": 0,
              "ticks": ""
             }
            },
            "type": "scatterpolargl"
           }
          ],
          "scatterternary": [
           {
            "marker": {
             "colorbar": {
              "outlinewidth": 0,
              "ticks": ""
             }
            },
            "type": "scatterternary"
           }
          ],
          "surface": [
           {
            "colorbar": {
             "outlinewidth": 0,
             "ticks": ""
            },
            "colorscale": [
             [
              0,
              "#0d0887"
             ],
             [
              0.1111111111111111,
              "#46039f"
             ],
             [
              0.2222222222222222,
              "#7201a8"
             ],
             [
              0.3333333333333333,
              "#9c179e"
             ],
             [
              0.4444444444444444,
              "#bd3786"
             ],
             [
              0.5555555555555556,
              "#d8576b"
             ],
             [
              0.6666666666666666,
              "#ed7953"
             ],
             [
              0.7777777777777778,
              "#fb9f3a"
             ],
             [
              0.8888888888888888,
              "#fdca26"
             ],
             [
              1,
              "#f0f921"
             ]
            ],
            "type": "surface"
           }
          ],
          "table": [
           {
            "cells": {
             "fill": {
              "color": "#EBF0F8"
             },
             "line": {
              "color": "white"
             }
            },
            "header": {
             "fill": {
              "color": "#C8D4E3"
             },
             "line": {
              "color": "white"
             }
            },
            "type": "table"
           }
          ]
         },
         "layout": {
          "annotationdefaults": {
           "arrowcolor": "#2a3f5f",
           "arrowhead": 0,
           "arrowwidth": 1
          },
          "autotypenumbers": "strict",
          "coloraxis": {
           "colorbar": {
            "outlinewidth": 0,
            "ticks": ""
           }
          },
          "colorscale": {
           "diverging": [
            [
             0,
             "#8e0152"
            ],
            [
             0.1,
             "#c51b7d"
            ],
            [
             0.2,
             "#de77ae"
            ],
            [
             0.3,
             "#f1b6da"
            ],
            [
             0.4,
             "#fde0ef"
            ],
            [
             0.5,
             "#f7f7f7"
            ],
            [
             0.6,
             "#e6f5d0"
            ],
            [
             0.7,
             "#b8e186"
            ],
            [
             0.8,
             "#7fbc41"
            ],
            [
             0.9,
             "#4d9221"
            ],
            [
             1,
             "#276419"
            ]
           ],
           "sequential": [
            [
             0,
             "#0d0887"
            ],
            [
             0.1111111111111111,
             "#46039f"
            ],
            [
             0.2222222222222222,
             "#7201a8"
            ],
            [
             0.3333333333333333,
             "#9c179e"
            ],
            [
             0.4444444444444444,
             "#bd3786"
            ],
            [
             0.5555555555555556,
             "#d8576b"
            ],
            [
             0.6666666666666666,
             "#ed7953"
            ],
            [
             0.7777777777777778,
             "#fb9f3a"
            ],
            [
             0.8888888888888888,
             "#fdca26"
            ],
            [
             1,
             "#f0f921"
            ]
           ],
           "sequentialminus": [
            [
             0,
             "#0d0887"
            ],
            [
             0.1111111111111111,
             "#46039f"
            ],
            [
             0.2222222222222222,
             "#7201a8"
            ],
            [
             0.3333333333333333,
             "#9c179e"
            ],
            [
             0.4444444444444444,
             "#bd3786"
            ],
            [
             0.5555555555555556,
             "#d8576b"
            ],
            [
             0.6666666666666666,
             "#ed7953"
            ],
            [
             0.7777777777777778,
             "#fb9f3a"
            ],
            [
             0.8888888888888888,
             "#fdca26"
            ],
            [
             1,
             "#f0f921"
            ]
           ]
          },
          "colorway": [
           "#636efa",
           "#EF553B",
           "#00cc96",
           "#ab63fa",
           "#FFA15A",
           "#19d3f3",
           "#FF6692",
           "#B6E880",
           "#FF97FF",
           "#FECB52"
          ],
          "font": {
           "color": "#2a3f5f"
          },
          "geo": {
           "bgcolor": "white",
           "lakecolor": "white",
           "landcolor": "#E5ECF6",
           "showlakes": true,
           "showland": true,
           "subunitcolor": "white"
          },
          "hoverlabel": {
           "align": "left"
          },
          "hovermode": "closest",
          "mapbox": {
           "style": "light"
          },
          "paper_bgcolor": "white",
          "plot_bgcolor": "#E5ECF6",
          "polar": {
           "angularaxis": {
            "gridcolor": "white",
            "linecolor": "white",
            "ticks": ""
           },
           "bgcolor": "#E5ECF6",
           "radialaxis": {
            "gridcolor": "white",
            "linecolor": "white",
            "ticks": ""
           }
          },
          "scene": {
           "xaxis": {
            "backgroundcolor": "#E5ECF6",
            "gridcolor": "white",
            "gridwidth": 2,
            "linecolor": "white",
            "showbackground": true,
            "ticks": "",
            "zerolinecolor": "white"
           },
           "yaxis": {
            "backgroundcolor": "#E5ECF6",
            "gridcolor": "white",
            "gridwidth": 2,
            "linecolor": "white",
            "showbackground": true,
            "ticks": "",
            "zerolinecolor": "white"
           },
           "zaxis": {
            "backgroundcolor": "#E5ECF6",
            "gridcolor": "white",
            "gridwidth": 2,
            "linecolor": "white",
            "showbackground": true,
            "ticks": "",
            "zerolinecolor": "white"
           }
          },
          "shapedefaults": {
           "line": {
            "color": "#2a3f5f"
           }
          },
          "ternary": {
           "aaxis": {
            "gridcolor": "white",
            "linecolor": "white",
            "ticks": ""
           },
           "baxis": {
            "gridcolor": "white",
            "linecolor": "white",
            "ticks": ""
           },
           "bgcolor": "#E5ECF6",
           "caxis": {
            "gridcolor": "white",
            "linecolor": "white",
            "ticks": ""
           }
          },
          "title": {
           "x": 0.05
          },
          "xaxis": {
           "automargin": true,
           "gridcolor": "white",
           "linecolor": "white",
           "ticks": "",
           "title": {
            "standoff": 15
           },
           "zerolinecolor": "white",
           "zerolinewidth": 2
          },
          "yaxis": {
           "automargin": true,
           "gridcolor": "white",
           "linecolor": "white",
           "ticks": "",
           "title": {
            "standoff": 15
           },
           "zerolinecolor": "white",
           "zerolinewidth": 2
          }
         }
        },
        "title": {
         "font": {
          "color": "#4D5663"
         }
        },
        "xaxis": {
         "gridcolor": "#E1E5ED",
         "showgrid": true,
         "tickfont": {
          "color": "#4D5663"
         },
         "title": {
          "font": {
           "color": "#4D5663"
          },
          "text": ""
         },
         "zerolinecolor": "#E1E5ED"
        },
        "yaxis": {
         "gridcolor": "#E1E5ED",
         "showgrid": true,
         "tickfont": {
          "color": "#4D5663"
         },
         "title": {
          "font": {
           "color": "#4D5663"
          },
          "text": ""
         },
         "zerolinecolor": "#E1E5ED"
        }
       }
      },
      "text/html": [
       "<div>                            <div id=\"6678b4ae-331a-4a12-bca4-90092cefd9ea\" class=\"plotly-graph-div\" style=\"height:525px; width:100%;\"></div>            <script type=\"text/javascript\">                require([\"plotly\"], function(Plotly) {                    window.PLOTLYENV=window.PLOTLYENV || {};\n",
       "                    window.PLOTLYENV.BASE_URL='https://plot.ly';                                    if (document.getElementById(\"6678b4ae-331a-4a12-bca4-90092cefd9ea\")) {                    Plotly.newPlot(                        \"6678b4ae-331a-4a12-bca4-90092cefd9ea\",                        [{\"marker\":{\"color\":\"rgba(255, 153, 51, 0.6)\",\"line\":{\"color\":\"rgba(255, 153, 51, 1.0)\",\"width\":1}},\"name\":\"None\",\"orientation\":\"v\",\"text\":\"\",\"x\":[\"A\",\"B\",\"C\",\"D\"],\"y\":[22.634219574913743,-20.06061824233426,-3.4718017507040067,1.8994951361172705],\"type\":\"bar\"}],                        {\"legend\":{\"bgcolor\":\"#F5F6F9\",\"font\":{\"color\":\"#4D5663\"}},\"paper_bgcolor\":\"#F5F6F9\",\"plot_bgcolor\":\"#F5F6F9\",\"template\":{\"data\":{\"barpolar\":[{\"marker\":{\"line\":{\"color\":\"#E5ECF6\",\"width\":0.5},\"pattern\":{\"fillmode\":\"overlay\",\"size\":10,\"solidity\":0.2}},\"type\":\"barpolar\"}],\"bar\":[{\"error_x\":{\"color\":\"#2a3f5f\"},\"error_y\":{\"color\":\"#2a3f5f\"},\"marker\":{\"line\":{\"color\":\"#E5ECF6\",\"width\":0.5},\"pattern\":{\"fillmode\":\"overlay\",\"size\":10,\"solidity\":0.2}},\"type\":\"bar\"}],\"carpet\":[{\"aaxis\":{\"endlinecolor\":\"#2a3f5f\",\"gridcolor\":\"white\",\"linecolor\":\"white\",\"minorgridcolor\":\"white\",\"startlinecolor\":\"#2a3f5f\"},\"baxis\":{\"endlinecolor\":\"#2a3f5f\",\"gridcolor\":\"white\",\"linecolor\":\"white\",\"minorgridcolor\":\"white\",\"startlinecolor\":\"#2a3f5f\"},\"type\":\"carpet\"}],\"choropleth\":[{\"colorbar\":{\"outlinewidth\":0,\"ticks\":\"\"},\"type\":\"choropleth\"}],\"contourcarpet\":[{\"colorbar\":{\"outlinewidth\":0,\"ticks\":\"\"},\"type\":\"contourcarpet\"}],\"contour\":[{\"colorbar\":{\"outlinewidth\":0,\"ticks\":\"\"},\"colorscale\":[[0.0,\"#0d0887\"],[0.1111111111111111,\"#46039f\"],[0.2222222222222222,\"#7201a8\"],[0.3333333333333333,\"#9c179e\"],[0.4444444444444444,\"#bd3786\"],[0.5555555555555556,\"#d8576b\"],[0.6666666666666666,\"#ed7953\"],[0.7777777777777778,\"#fb9f3a\"],[0.8888888888888888,\"#fdca26\"],[1.0,\"#f0f921\"]],\"type\":\"contour\"}],\"heatmapgl\":[{\"colorbar\":{\"outlinewidth\":0,\"ticks\":\"\"},\"colorscale\":[[0.0,\"#0d0887\"],[0.1111111111111111,\"#46039f\"],[0.2222222222222222,\"#7201a8\"],[0.3333333333333333,\"#9c179e\"],[0.4444444444444444,\"#bd3786\"],[0.5555555555555556,\"#d8576b\"],[0.6666666666666666,\"#ed7953\"],[0.7777777777777778,\"#fb9f3a\"],[0.8888888888888888,\"#fdca26\"],[1.0,\"#f0f921\"]],\"type\":\"heatmapgl\"}],\"heatmap\":[{\"colorbar\":{\"outlinewidth\":0,\"ticks\":\"\"},\"colorscale\":[[0.0,\"#0d0887\"],[0.1111111111111111,\"#46039f\"],[0.2222222222222222,\"#7201a8\"],[0.3333333333333333,\"#9c179e\"],[0.4444444444444444,\"#bd3786\"],[0.5555555555555556,\"#d8576b\"],[0.6666666666666666,\"#ed7953\"],[0.7777777777777778,\"#fb9f3a\"],[0.8888888888888888,\"#fdca26\"],[1.0,\"#f0f921\"]],\"type\":\"heatmap\"}],\"histogram2dcontour\":[{\"colorbar\":{\"outlinewidth\":0,\"ticks\":\"\"},\"colorscale\":[[0.0,\"#0d0887\"],[0.1111111111111111,\"#46039f\"],[0.2222222222222222,\"#7201a8\"],[0.3333333333333333,\"#9c179e\"],[0.4444444444444444,\"#bd3786\"],[0.5555555555555556,\"#d8576b\"],[0.6666666666666666,\"#ed7953\"],[0.7777777777777778,\"#fb9f3a\"],[0.8888888888888888,\"#fdca26\"],[1.0,\"#f0f921\"]],\"type\":\"histogram2dcontour\"}],\"histogram2d\":[{\"colorbar\":{\"outlinewidth\":0,\"ticks\":\"\"},\"colorscale\":[[0.0,\"#0d0887\"],[0.1111111111111111,\"#46039f\"],[0.2222222222222222,\"#7201a8\"],[0.3333333333333333,\"#9c179e\"],[0.4444444444444444,\"#bd3786\"],[0.5555555555555556,\"#d8576b\"],[0.6666666666666666,\"#ed7953\"],[0.7777777777777778,\"#fb9f3a\"],[0.8888888888888888,\"#fdca26\"],[1.0,\"#f0f921\"]],\"type\":\"histogram2d\"}],\"histogram\":[{\"marker\":{\"pattern\":{\"fillmode\":\"overlay\",\"size\":10,\"solidity\":0.2}},\"type\":\"histogram\"}],\"mesh3d\":[{\"colorbar\":{\"outlinewidth\":0,\"ticks\":\"\"},\"type\":\"mesh3d\"}],\"parcoords\":[{\"line\":{\"colorbar\":{\"outlinewidth\":0,\"ticks\":\"\"}},\"type\":\"parcoords\"}],\"pie\":[{\"automargin\":true,\"type\":\"pie\"}],\"scatter3d\":[{\"line\":{\"colorbar\":{\"outlinewidth\":0,\"ticks\":\"\"}},\"marker\":{\"colorbar\":{\"outlinewidth\":0,\"ticks\":\"\"}},\"type\":\"scatter3d\"}],\"scattercarpet\":[{\"marker\":{\"colorbar\":{\"outlinewidth\":0,\"ticks\":\"\"}},\"type\":\"scattercarpet\"}],\"scattergeo\":[{\"marker\":{\"colorbar\":{\"outlinewidth\":0,\"ticks\":\"\"}},\"type\":\"scattergeo\"}],\"scattergl\":[{\"marker\":{\"colorbar\":{\"outlinewidth\":0,\"ticks\":\"\"}},\"type\":\"scattergl\"}],\"scattermapbox\":[{\"marker\":{\"colorbar\":{\"outlinewidth\":0,\"ticks\":\"\"}},\"type\":\"scattermapbox\"}],\"scatterpolargl\":[{\"marker\":{\"colorbar\":{\"outlinewidth\":0,\"ticks\":\"\"}},\"type\":\"scatterpolargl\"}],\"scatterpolar\":[{\"marker\":{\"colorbar\":{\"outlinewidth\":0,\"ticks\":\"\"}},\"type\":\"scatterpolar\"}],\"scatter\":[{\"marker\":{\"colorbar\":{\"outlinewidth\":0,\"ticks\":\"\"}},\"type\":\"scatter\"}],\"scatterternary\":[{\"marker\":{\"colorbar\":{\"outlinewidth\":0,\"ticks\":\"\"}},\"type\":\"scatterternary\"}],\"surface\":[{\"colorbar\":{\"outlinewidth\":0,\"ticks\":\"\"},\"colorscale\":[[0.0,\"#0d0887\"],[0.1111111111111111,\"#46039f\"],[0.2222222222222222,\"#7201a8\"],[0.3333333333333333,\"#9c179e\"],[0.4444444444444444,\"#bd3786\"],[0.5555555555555556,\"#d8576b\"],[0.6666666666666666,\"#ed7953\"],[0.7777777777777778,\"#fb9f3a\"],[0.8888888888888888,\"#fdca26\"],[1.0,\"#f0f921\"]],\"type\":\"surface\"}],\"table\":[{\"cells\":{\"fill\":{\"color\":\"#EBF0F8\"},\"line\":{\"color\":\"white\"}},\"header\":{\"fill\":{\"color\":\"#C8D4E3\"},\"line\":{\"color\":\"white\"}},\"type\":\"table\"}]},\"layout\":{\"annotationdefaults\":{\"arrowcolor\":\"#2a3f5f\",\"arrowhead\":0,\"arrowwidth\":1},\"autotypenumbers\":\"strict\",\"coloraxis\":{\"colorbar\":{\"outlinewidth\":0,\"ticks\":\"\"}},\"colorscale\":{\"diverging\":[[0,\"#8e0152\"],[0.1,\"#c51b7d\"],[0.2,\"#de77ae\"],[0.3,\"#f1b6da\"],[0.4,\"#fde0ef\"],[0.5,\"#f7f7f7\"],[0.6,\"#e6f5d0\"],[0.7,\"#b8e186\"],[0.8,\"#7fbc41\"],[0.9,\"#4d9221\"],[1,\"#276419\"]],\"sequential\":[[0.0,\"#0d0887\"],[0.1111111111111111,\"#46039f\"],[0.2222222222222222,\"#7201a8\"],[0.3333333333333333,\"#9c179e\"],[0.4444444444444444,\"#bd3786\"],[0.5555555555555556,\"#d8576b\"],[0.6666666666666666,\"#ed7953\"],[0.7777777777777778,\"#fb9f3a\"],[0.8888888888888888,\"#fdca26\"],[1.0,\"#f0f921\"]],\"sequentialminus\":[[0.0,\"#0d0887\"],[0.1111111111111111,\"#46039f\"],[0.2222222222222222,\"#7201a8\"],[0.3333333333333333,\"#9c179e\"],[0.4444444444444444,\"#bd3786\"],[0.5555555555555556,\"#d8576b\"],[0.6666666666666666,\"#ed7953\"],[0.7777777777777778,\"#fb9f3a\"],[0.8888888888888888,\"#fdca26\"],[1.0,\"#f0f921\"]]},\"colorway\":[\"#636efa\",\"#EF553B\",\"#00cc96\",\"#ab63fa\",\"#FFA15A\",\"#19d3f3\",\"#FF6692\",\"#B6E880\",\"#FF97FF\",\"#FECB52\"],\"font\":{\"color\":\"#2a3f5f\"},\"geo\":{\"bgcolor\":\"white\",\"lakecolor\":\"white\",\"landcolor\":\"#E5ECF6\",\"showlakes\":true,\"showland\":true,\"subunitcolor\":\"white\"},\"hoverlabel\":{\"align\":\"left\"},\"hovermode\":\"closest\",\"mapbox\":{\"style\":\"light\"},\"paper_bgcolor\":\"white\",\"plot_bgcolor\":\"#E5ECF6\",\"polar\":{\"angularaxis\":{\"gridcolor\":\"white\",\"linecolor\":\"white\",\"ticks\":\"\"},\"bgcolor\":\"#E5ECF6\",\"radialaxis\":{\"gridcolor\":\"white\",\"linecolor\":\"white\",\"ticks\":\"\"}},\"scene\":{\"xaxis\":{\"backgroundcolor\":\"#E5ECF6\",\"gridcolor\":\"white\",\"gridwidth\":2,\"linecolor\":\"white\",\"showbackground\":true,\"ticks\":\"\",\"zerolinecolor\":\"white\"},\"yaxis\":{\"backgroundcolor\":\"#E5ECF6\",\"gridcolor\":\"white\",\"gridwidth\":2,\"linecolor\":\"white\",\"showbackground\":true,\"ticks\":\"\",\"zerolinecolor\":\"white\"},\"zaxis\":{\"backgroundcolor\":\"#E5ECF6\",\"gridcolor\":\"white\",\"gridwidth\":2,\"linecolor\":\"white\",\"showbackground\":true,\"ticks\":\"\",\"zerolinecolor\":\"white\"}},\"shapedefaults\":{\"line\":{\"color\":\"#2a3f5f\"}},\"ternary\":{\"aaxis\":{\"gridcolor\":\"white\",\"linecolor\":\"white\",\"ticks\":\"\"},\"baxis\":{\"gridcolor\":\"white\",\"linecolor\":\"white\",\"ticks\":\"\"},\"bgcolor\":\"#E5ECF6\",\"caxis\":{\"gridcolor\":\"white\",\"linecolor\":\"white\",\"ticks\":\"\"}},\"title\":{\"x\":0.05},\"xaxis\":{\"automargin\":true,\"gridcolor\":\"white\",\"linecolor\":\"white\",\"ticks\":\"\",\"title\":{\"standoff\":15},\"zerolinecolor\":\"white\",\"zerolinewidth\":2},\"yaxis\":{\"automargin\":true,\"gridcolor\":\"white\",\"linecolor\":\"white\",\"ticks\":\"\",\"title\":{\"standoff\":15},\"zerolinecolor\":\"white\",\"zerolinewidth\":2}}},\"title\":{\"font\":{\"color\":\"#4D5663\"}},\"xaxis\":{\"gridcolor\":\"#E1E5ED\",\"showgrid\":true,\"tickfont\":{\"color\":\"#4D5663\"},\"title\":{\"font\":{\"color\":\"#4D5663\"},\"text\":\"\"},\"zerolinecolor\":\"#E1E5ED\"},\"yaxis\":{\"gridcolor\":\"#E1E5ED\",\"showgrid\":true,\"tickfont\":{\"color\":\"#4D5663\"},\"title\":{\"font\":{\"color\":\"#4D5663\"},\"text\":\"\"},\"zerolinecolor\":\"#E1E5ED\"}},                        {\"showLink\": true, \"linkText\": \"Export to plot.ly\", \"plotlyServerURL\": \"https://plot.ly\", \"responsive\": true}                    ).then(function(){\n",
       "                            \n",
       "var gd = document.getElementById('6678b4ae-331a-4a12-bca4-90092cefd9ea');\n",
       "var x = new MutationObserver(function (mutations, observer) {{\n",
       "        var display = window.getComputedStyle(gd).display;\n",
       "        if (!display || display === 'none') {{\n",
       "            console.log([gd, 'removed!']);\n",
       "            Plotly.purge(gd);\n",
       "            observer.disconnect();\n",
       "        }}\n",
       "}});\n",
       "\n",
       "// Listen for the removal of the full notebook cells\n",
       "var notebookContainer = gd.closest('#notebook-container');\n",
       "if (notebookContainer) {{\n",
       "    x.observe(notebookContainer, {childList: true});\n",
       "}}\n",
       "\n",
       "// Listen for the clearing of the current output cell\n",
       "var outputEl = gd.closest('.output');\n",
       "if (outputEl) {{\n",
       "    x.observe(outputEl, {childList: true});\n",
       "}}\n",
       "\n",
       "                        })                };                });            </script>        </div>"
      ]
     },
     "metadata": {},
     "output_type": "display_data"
    }
   ],
   "source": [
    "df1.sum().iplot(kind = 'bar')"
   ]
  },
  {
   "cell_type": "code",
   "execution_count": 39,
   "metadata": {},
   "outputs": [
    {
     "data": {
      "application/vnd.plotly.v1+json": {
       "config": {
        "linkText": "Export to plot.ly",
        "plotlyServerURL": "https://plot.ly",
        "showLink": true
       },
       "data": [
        {
         "boxpoints": false,
         "line": {
          "width": 1.3
         },
         "marker": {
          "color": "rgba(255, 153, 51, 1.0)"
         },
         "name": "A",
         "orientation": "v",
         "type": "box",
         "y": [
          0.5743707795773935,
          0.7705130471123088,
          -1.1576336254777675,
          -0.8271035026452863,
          0.7425917665606087,
          -0.5394750578829458,
          0.5097192595359479,
          0.5432487081145778,
          -0.017946748455862877,
          0.19581581905947343,
          -1.437598250743915,
          2.218752439044428,
          1.3735761727944185,
          0.4110662686393877,
          -1.2762577922869192,
          1.052973143565982,
          1.4455702341590444,
          -0.3948389358880354,
          0.7885045139246953,
          -1.048373347634528,
          1.7428723409947369,
          0.5095898223142886,
          -0.40242338927638993,
          0.7895293899801388,
          -1.1684034943003128,
          -0.04221538280344773,
          0.008138638768228417,
          -0.4886444367606532,
          0.372696913991112,
          0.012203537415463457,
          1.3219400832950743,
          0.4426993414749163,
          0.6954759067905433,
          1.26173184725225,
          0.6031545937641348,
          0.8314386262457409,
          -1.9414446443208866,
          0.44729577583315866,
          -0.1519969814341827,
          1.4347967567547704,
          0.4231389277658858,
          -0.3464188794612597,
          -1.1560117204001936,
          -0.3371028319649269,
          0.9280885194745121,
          -0.33478270805751936,
          2.501829705680731,
          0.6545880808894924,
          -0.3253344899082747,
          1.0445833650807033,
          0.6378047610339664,
          -2.282408309947842,
          -0.9940910712619948,
          1.593352030366997,
          0.9796354322121585,
          -0.14555141905550475,
          1.938036037209001,
          0.4868173620202219,
          0.055745582967331925,
          0.8956207552321556,
          0.11210772463177247,
          -0.33800571080152314,
          -1.3960145152016388,
          2.1771435310890195,
          -0.21470397682343476,
          0.4522706930495062,
          0.9164948956794404,
          0.8686559643236597,
          -0.781959644239122,
          0.858071168774533,
          1.0682392817882957,
          -0.8544402572414872,
          -0.10900933498317333,
          -0.6310301425552112,
          -0.7648997140020927,
          1.150003153635081,
          1.0797631083191377,
          -0.45546653209706256,
          -0.04107528864510263,
          0.5455832227617043,
          -0.013623144913418072,
          0.8627690024800236,
          -0.444669171787977,
          -0.09778715447296922,
          -0.9840028543722682,
          -0.7197814724774163,
          0.5492328656564691,
          0.3865729478490786,
          0.9060294279206033,
          -0.4274656683036674,
          0.7060489877334019,
          -0.38594158839707665,
          0.5846720573475902,
          0.715150753017314,
          -0.5970239007455065,
          0.46585132559113374,
          -0.18843515452973725,
          0.9407973388139189,
          -1.2463834784309387,
          1.557031562545552
         ]
        },
        {
         "boxpoints": false,
         "line": {
          "width": 1.3
         },
         "marker": {
          "color": "rgba(55, 128, 191, 1.0)"
         },
         "name": "B",
         "orientation": "v",
         "type": "box",
         "y": [
          0.8016641080924541,
          1.0077391146377723,
          0.27651367544996946,
          -2.1570213570008927,
          -1.1235011021677124,
          0.17510373317808275,
          0.5739852492901831,
          0.08400858387755353,
          -1.7399189233318215,
          1.373956525773911,
          -0.6055411343301496,
          0.07895635184420437,
          1.9396245569934054,
          0.21052865131167792,
          0.8041135995879579,
          1.2067828700888212,
          -1.2391501426725224,
          -0.602365415491375,
          -1.2116734000900296,
          -0.5657984205463799,
          -0.30418317029567005,
          -1.3047874224393003,
          -1.9023818194008624,
          1.2952595792792636,
          0.10138680285600672,
          0.0223449098802518,
          0.25608582492185883,
          -0.8817831404171913,
          0.364858694437755,
          -1.1104434289726777,
          0.3175327732447648,
          0.4440791680629179,
          0.295798249153598,
          0.17144218397646702,
          -0.5670235515093524,
          1.5675401024850084,
          -0.3154757966663135,
          -0.9569793691086736,
          -0.08939617748473268,
          -1.4138336943563812,
          -0.715750128405275,
          0.26616513383692075,
          -0.7576063158477336,
          1.0044504867732704,
          -0.8528844132117523,
          -1.3137522421554162,
          -0.6297247932341066,
          0.6641310484582209,
          0.6842832590670178,
          -1.097732442511773,
          0.7695175485075942,
          -0.8004055106036331,
          -1.2334254972160166,
          -1.3461652044016847,
          -0.44328078003252724,
          0.12362524915851832,
          -0.703900374883289,
          1.5964916213576874,
          -0.7175995763374521,
          0.7303661705616081,
          1.6433808900162372,
          -0.6732022934593243,
          0.39075007107051796,
          0.7030593293505272,
          -0.36446992902141634,
          -0.8641351675878642,
          -0.8600094939920322,
          -0.7513060798787412,
          2.286811969914792,
          -0.46975880928066727,
          -1.5697616694093142,
          -0.2921380197460708,
          0.727262007763347,
          0.4960816199155096,
          0.30461017406051066,
          -0.44238754745680947,
          -0.019873063964267003,
          -0.9791775276148362,
          0.8333268577557206,
          -0.5577902793680444,
          -0.7902334272887995,
          -1.409128891545519,
          -0.49896367670798036,
          -1.098227923147296,
          -0.16852914853637593,
          0.37570018520333304,
          -2.161831239989233,
          -0.7378821662771905,
          -0.06571168846656328,
          0.47600300766597164,
          0.9217086796711035,
          -0.5276134738110552,
          0.19389281217411172,
          -0.1976527698633932,
          -1.7029397917737243,
          -0.18454993343459655,
          -0.30032143747151385,
          0.6226966256674825,
          -0.6119109736503978,
          -2.241247130842427
         ]
        },
        {
         "boxpoints": false,
         "line": {
          "width": 1.3
         },
         "marker": {
          "color": "rgba(50, 171, 96, 1.0)"
         },
         "name": "C",
         "orientation": "v",
         "type": "box",
         "y": [
          -0.3872323872369992,
          0.3129896931497061,
          0.549109784320413,
          0.24341866874423576,
          1.499529146175969,
          1.2787254198445286,
          0.09732899572249865,
          0.6786729923835082,
          0.3200378633283294,
          0.5394983246081207,
          1.9304686738992993,
          -0.1476528422065039,
          0.20730005663265114,
          -0.08292020894156982,
          -1.0332985315410432,
          0.2910227164489197,
          -0.6599861700596447,
          -1.5927522845823798,
          -0.06913975252968259,
          -0.5350268297035842,
          -0.08331731434480327,
          0.00951634077256817,
          -0.8740584241386143,
          -0.2450153374063535,
          -0.07959487862678238,
          1.6987821893488655,
          -0.33441987308935917,
          -0.5162053018290103,
          0.7867538063077528,
          -0.511729361567106,
          -0.3442187857712442,
          1.4539410232083054,
          1.3210571784341893,
          0.39479043190364904,
          -2.1444074764988144,
          -0.17579186871750874,
          0.9734103167653669,
          -1.5447888626969593,
          0.44118731033021363,
          0.27523186474757166,
          0.19584184595773688,
          2.1479956346168163,
          2.5676586672224286,
          0.4169684005852465,
          -0.7905053421090682,
          0.6059343090399911,
          1.1718702289760667,
          -1.4892935685267537,
          -0.9155580924696599,
          0.38024870280397105,
          -0.4477636807416802,
          0.09620063605372368,
          0.0746695266655892,
          -1.6872206649919161,
          0.7466670151316754,
          -0.299369659246122,
          -0.5538294760945928,
          -0.7433103932079366,
          -1.2464060855888113,
          -0.9325474584013793,
          -0.41615198461661734,
          -0.5832952182022414,
          -0.15074930142568585,
          0.47296418006624735,
          -0.9547052054771018,
          1.083298302216257,
          -1.4824096196587915,
          -1.122351602702573,
          0.9302847260988449,
          0.441320891411173,
          -0.2833388821399992,
          -1.2753864362984364,
          -1.1169841191601397,
          0.5972396627662147,
          -0.2491773777751275,
          -0.18988486380823916,
          0.8546215215474877,
          -0.38142398607241634,
          -1.0945065986319291,
          0.3142174694812054,
          -0.7462860924229974,
          0.29691771845913784,
          -2.5760037011011914,
          -0.5331102468132428,
          -1.1442208420210935,
          0.7410619807933482,
          0.16704743929932367,
          0.9173053003360592,
          -1.3378054378604043,
          1.2352164222516753,
          -2.260111480808333,
          1.6287248278642656,
          1.3524792127034155,
          -0.4904296405112925,
          -0.9892598998698315,
          1.6661723261514287,
          -0.5076306898533299,
          0.1644388963494178,
          -0.2723433733772562,
          0.5829871208447345
         ]
        },
        {
         "boxpoints": false,
         "line": {
          "width": 1.3
         },
         "marker": {
          "color": "rgba(128, 0, 128, 1.0)"
         },
         "name": "D",
         "orientation": "v",
         "type": "box",
         "y": [
          -0.4706922896364643,
          -0.6393288441504061,
          0.5575925212870825,
          -2.1202891520131826,
          0.7016609126653969,
          -0.06663561774881703,
          -0.4973374480135509,
          -0.590882958594366,
          2.184216868456072,
          0.33037161371952095,
          0.4777632094713535,
          0.3821948569152667,
          -1.603506970236447,
          0.03295152166286881,
          0.04081459510336229,
          -1.0542769144183797,
          0.25051753466921883,
          1.79220788387074,
          -2.1640254105521275,
          0.26545027744208516,
          -0.023472918994801143,
          -0.43244261016985147,
          0.3300305691019167,
          1.3612832617727721,
          0.23017392707992243,
          1.0116251964301215,
          0.19420287776944709,
          -1.5681994809354591,
          0.18423853340915497,
          -0.6173534845828159,
          -0.04976064378931739,
          -0.09499890498586602,
          0.5999663887957106,
          0.9470452192499397,
          0.48158232826549746,
          -0.975818121808824,
          1.1789804210928678,
          0.511991126185782,
          -0.6445127118571568,
          0.44639236607138577,
          -0.5119228999079636,
          0.3461769490638204,
          -0.28860962187000627,
          0.30880752893856117,
          0.8602920238557571,
          -1.1065956618682193,
          1.4281271716163646,
          1.7281195306020583,
          -2.070566261701333,
          -0.6463558608812114,
          -1.4424887324180486,
          2.0564826875760485,
          -0.08467260834805933,
          -0.8208555681228488,
          -0.7840923059289396,
          0.5463398928360392,
          -1.9147193931015167,
          -2.0965405121600296,
          0.8854654915221677,
          -0.7077143405284566,
          1.220740051229066,
          0.41684554242125865,
          0.4125617805707906,
          0.09547391990243034,
          -0.24230781619518113,
          -0.36889321022938737,
          0.01572106847202316,
          0.43561389700725806,
          0.11144186558321814,
          -0.6508334551545648,
          1.018199714126553,
          0.8714881246496483,
          -1.5536263117876437,
          2.235615408287663,
          0.12156182099911096,
          0.0745440501953923,
          1.3531429059771674,
          0.7934764526588117,
          2.5958981612081273,
          1.1486359575895522,
          -2.3844317905567403,
          -0.6650930734834832,
          0.05235770758444297,
          0.08514327670747696,
          1.249831995368982,
          -0.9450238390834802,
          -0.2639259615069109,
          -0.52369639655623,
          0.49020926089127365,
          0.34420441702195825,
          0.3041093733430783,
          0.22057571199250411,
          0.7505519778911802,
          -1.2174904593310871,
          1.056341055422691,
          1.2792360322150826,
          -0.5399025492546313,
          -0.13763862502097546,
          -2.0187290599712178,
          -1.9068308822417757
         ]
        }
       ],
       "layout": {
        "legend": {
         "bgcolor": "#F5F6F9",
         "font": {
          "color": "#4D5663"
         }
        },
        "paper_bgcolor": "#F5F6F9",
        "plot_bgcolor": "#F5F6F9",
        "template": {
         "data": {
          "bar": [
           {
            "error_x": {
             "color": "#2a3f5f"
            },
            "error_y": {
             "color": "#2a3f5f"
            },
            "marker": {
             "line": {
              "color": "#E5ECF6",
              "width": 0.5
             },
             "pattern": {
              "fillmode": "overlay",
              "size": 10,
              "solidity": 0.2
             }
            },
            "type": "bar"
           }
          ],
          "barpolar": [
           {
            "marker": {
             "line": {
              "color": "#E5ECF6",
              "width": 0.5
             },
             "pattern": {
              "fillmode": "overlay",
              "size": 10,
              "solidity": 0.2
             }
            },
            "type": "barpolar"
           }
          ],
          "carpet": [
           {
            "aaxis": {
             "endlinecolor": "#2a3f5f",
             "gridcolor": "white",
             "linecolor": "white",
             "minorgridcolor": "white",
             "startlinecolor": "#2a3f5f"
            },
            "baxis": {
             "endlinecolor": "#2a3f5f",
             "gridcolor": "white",
             "linecolor": "white",
             "minorgridcolor": "white",
             "startlinecolor": "#2a3f5f"
            },
            "type": "carpet"
           }
          ],
          "choropleth": [
           {
            "colorbar": {
             "outlinewidth": 0,
             "ticks": ""
            },
            "type": "choropleth"
           }
          ],
          "contour": [
           {
            "colorbar": {
             "outlinewidth": 0,
             "ticks": ""
            },
            "colorscale": [
             [
              0,
              "#0d0887"
             ],
             [
              0.1111111111111111,
              "#46039f"
             ],
             [
              0.2222222222222222,
              "#7201a8"
             ],
             [
              0.3333333333333333,
              "#9c179e"
             ],
             [
              0.4444444444444444,
              "#bd3786"
             ],
             [
              0.5555555555555556,
              "#d8576b"
             ],
             [
              0.6666666666666666,
              "#ed7953"
             ],
             [
              0.7777777777777778,
              "#fb9f3a"
             ],
             [
              0.8888888888888888,
              "#fdca26"
             ],
             [
              1,
              "#f0f921"
             ]
            ],
            "type": "contour"
           }
          ],
          "contourcarpet": [
           {
            "colorbar": {
             "outlinewidth": 0,
             "ticks": ""
            },
            "type": "contourcarpet"
           }
          ],
          "heatmap": [
           {
            "colorbar": {
             "outlinewidth": 0,
             "ticks": ""
            },
            "colorscale": [
             [
              0,
              "#0d0887"
             ],
             [
              0.1111111111111111,
              "#46039f"
             ],
             [
              0.2222222222222222,
              "#7201a8"
             ],
             [
              0.3333333333333333,
              "#9c179e"
             ],
             [
              0.4444444444444444,
              "#bd3786"
             ],
             [
              0.5555555555555556,
              "#d8576b"
             ],
             [
              0.6666666666666666,
              "#ed7953"
             ],
             [
              0.7777777777777778,
              "#fb9f3a"
             ],
             [
              0.8888888888888888,
              "#fdca26"
             ],
             [
              1,
              "#f0f921"
             ]
            ],
            "type": "heatmap"
           }
          ],
          "heatmapgl": [
           {
            "colorbar": {
             "outlinewidth": 0,
             "ticks": ""
            },
            "colorscale": [
             [
              0,
              "#0d0887"
             ],
             [
              0.1111111111111111,
              "#46039f"
             ],
             [
              0.2222222222222222,
              "#7201a8"
             ],
             [
              0.3333333333333333,
              "#9c179e"
             ],
             [
              0.4444444444444444,
              "#bd3786"
             ],
             [
              0.5555555555555556,
              "#d8576b"
             ],
             [
              0.6666666666666666,
              "#ed7953"
             ],
             [
              0.7777777777777778,
              "#fb9f3a"
             ],
             [
              0.8888888888888888,
              "#fdca26"
             ],
             [
              1,
              "#f0f921"
             ]
            ],
            "type": "heatmapgl"
           }
          ],
          "histogram": [
           {
            "marker": {
             "pattern": {
              "fillmode": "overlay",
              "size": 10,
              "solidity": 0.2
             }
            },
            "type": "histogram"
           }
          ],
          "histogram2d": [
           {
            "colorbar": {
             "outlinewidth": 0,
             "ticks": ""
            },
            "colorscale": [
             [
              0,
              "#0d0887"
             ],
             [
              0.1111111111111111,
              "#46039f"
             ],
             [
              0.2222222222222222,
              "#7201a8"
             ],
             [
              0.3333333333333333,
              "#9c179e"
             ],
             [
              0.4444444444444444,
              "#bd3786"
             ],
             [
              0.5555555555555556,
              "#d8576b"
             ],
             [
              0.6666666666666666,
              "#ed7953"
             ],
             [
              0.7777777777777778,
              "#fb9f3a"
             ],
             [
              0.8888888888888888,
              "#fdca26"
             ],
             [
              1,
              "#f0f921"
             ]
            ],
            "type": "histogram2d"
           }
          ],
          "histogram2dcontour": [
           {
            "colorbar": {
             "outlinewidth": 0,
             "ticks": ""
            },
            "colorscale": [
             [
              0,
              "#0d0887"
             ],
             [
              0.1111111111111111,
              "#46039f"
             ],
             [
              0.2222222222222222,
              "#7201a8"
             ],
             [
              0.3333333333333333,
              "#9c179e"
             ],
             [
              0.4444444444444444,
              "#bd3786"
             ],
             [
              0.5555555555555556,
              "#d8576b"
             ],
             [
              0.6666666666666666,
              "#ed7953"
             ],
             [
              0.7777777777777778,
              "#fb9f3a"
             ],
             [
              0.8888888888888888,
              "#fdca26"
             ],
             [
              1,
              "#f0f921"
             ]
            ],
            "type": "histogram2dcontour"
           }
          ],
          "mesh3d": [
           {
            "colorbar": {
             "outlinewidth": 0,
             "ticks": ""
            },
            "type": "mesh3d"
           }
          ],
          "parcoords": [
           {
            "line": {
             "colorbar": {
              "outlinewidth": 0,
              "ticks": ""
             }
            },
            "type": "parcoords"
           }
          ],
          "pie": [
           {
            "automargin": true,
            "type": "pie"
           }
          ],
          "scatter": [
           {
            "marker": {
             "colorbar": {
              "outlinewidth": 0,
              "ticks": ""
             }
            },
            "type": "scatter"
           }
          ],
          "scatter3d": [
           {
            "line": {
             "colorbar": {
              "outlinewidth": 0,
              "ticks": ""
             }
            },
            "marker": {
             "colorbar": {
              "outlinewidth": 0,
              "ticks": ""
             }
            },
            "type": "scatter3d"
           }
          ],
          "scattercarpet": [
           {
            "marker": {
             "colorbar": {
              "outlinewidth": 0,
              "ticks": ""
             }
            },
            "type": "scattercarpet"
           }
          ],
          "scattergeo": [
           {
            "marker": {
             "colorbar": {
              "outlinewidth": 0,
              "ticks": ""
             }
            },
            "type": "scattergeo"
           }
          ],
          "scattergl": [
           {
            "marker": {
             "colorbar": {
              "outlinewidth": 0,
              "ticks": ""
             }
            },
            "type": "scattergl"
           }
          ],
          "scattermapbox": [
           {
            "marker": {
             "colorbar": {
              "outlinewidth": 0,
              "ticks": ""
             }
            },
            "type": "scattermapbox"
           }
          ],
          "scatterpolar": [
           {
            "marker": {
             "colorbar": {
              "outlinewidth": 0,
              "ticks": ""
             }
            },
            "type": "scatterpolar"
           }
          ],
          "scatterpolargl": [
           {
            "marker": {
             "colorbar": {
              "outlinewidth": 0,
              "ticks": ""
             }
            },
            "type": "scatterpolargl"
           }
          ],
          "scatterternary": [
           {
            "marker": {
             "colorbar": {
              "outlinewidth": 0,
              "ticks": ""
             }
            },
            "type": "scatterternary"
           }
          ],
          "surface": [
           {
            "colorbar": {
             "outlinewidth": 0,
             "ticks": ""
            },
            "colorscale": [
             [
              0,
              "#0d0887"
             ],
             [
              0.1111111111111111,
              "#46039f"
             ],
             [
              0.2222222222222222,
              "#7201a8"
             ],
             [
              0.3333333333333333,
              "#9c179e"
             ],
             [
              0.4444444444444444,
              "#bd3786"
             ],
             [
              0.5555555555555556,
              "#d8576b"
             ],
             [
              0.6666666666666666,
              "#ed7953"
             ],
             [
              0.7777777777777778,
              "#fb9f3a"
             ],
             [
              0.8888888888888888,
              "#fdca26"
             ],
             [
              1,
              "#f0f921"
             ]
            ],
            "type": "surface"
           }
          ],
          "table": [
           {
            "cells": {
             "fill": {
              "color": "#EBF0F8"
             },
             "line": {
              "color": "white"
             }
            },
            "header": {
             "fill": {
              "color": "#C8D4E3"
             },
             "line": {
              "color": "white"
             }
            },
            "type": "table"
           }
          ]
         },
         "layout": {
          "annotationdefaults": {
           "arrowcolor": "#2a3f5f",
           "arrowhead": 0,
           "arrowwidth": 1
          },
          "autotypenumbers": "strict",
          "coloraxis": {
           "colorbar": {
            "outlinewidth": 0,
            "ticks": ""
           }
          },
          "colorscale": {
           "diverging": [
            [
             0,
             "#8e0152"
            ],
            [
             0.1,
             "#c51b7d"
            ],
            [
             0.2,
             "#de77ae"
            ],
            [
             0.3,
             "#f1b6da"
            ],
            [
             0.4,
             "#fde0ef"
            ],
            [
             0.5,
             "#f7f7f7"
            ],
            [
             0.6,
             "#e6f5d0"
            ],
            [
             0.7,
             "#b8e186"
            ],
            [
             0.8,
             "#7fbc41"
            ],
            [
             0.9,
             "#4d9221"
            ],
            [
             1,
             "#276419"
            ]
           ],
           "sequential": [
            [
             0,
             "#0d0887"
            ],
            [
             0.1111111111111111,
             "#46039f"
            ],
            [
             0.2222222222222222,
             "#7201a8"
            ],
            [
             0.3333333333333333,
             "#9c179e"
            ],
            [
             0.4444444444444444,
             "#bd3786"
            ],
            [
             0.5555555555555556,
             "#d8576b"
            ],
            [
             0.6666666666666666,
             "#ed7953"
            ],
            [
             0.7777777777777778,
             "#fb9f3a"
            ],
            [
             0.8888888888888888,
             "#fdca26"
            ],
            [
             1,
             "#f0f921"
            ]
           ],
           "sequentialminus": [
            [
             0,
             "#0d0887"
            ],
            [
             0.1111111111111111,
             "#46039f"
            ],
            [
             0.2222222222222222,
             "#7201a8"
            ],
            [
             0.3333333333333333,
             "#9c179e"
            ],
            [
             0.4444444444444444,
             "#bd3786"
            ],
            [
             0.5555555555555556,
             "#d8576b"
            ],
            [
             0.6666666666666666,
             "#ed7953"
            ],
            [
             0.7777777777777778,
             "#fb9f3a"
            ],
            [
             0.8888888888888888,
             "#fdca26"
            ],
            [
             1,
             "#f0f921"
            ]
           ]
          },
          "colorway": [
           "#636efa",
           "#EF553B",
           "#00cc96",
           "#ab63fa",
           "#FFA15A",
           "#19d3f3",
           "#FF6692",
           "#B6E880",
           "#FF97FF",
           "#FECB52"
          ],
          "font": {
           "color": "#2a3f5f"
          },
          "geo": {
           "bgcolor": "white",
           "lakecolor": "white",
           "landcolor": "#E5ECF6",
           "showlakes": true,
           "showland": true,
           "subunitcolor": "white"
          },
          "hoverlabel": {
           "align": "left"
          },
          "hovermode": "closest",
          "mapbox": {
           "style": "light"
          },
          "paper_bgcolor": "white",
          "plot_bgcolor": "#E5ECF6",
          "polar": {
           "angularaxis": {
            "gridcolor": "white",
            "linecolor": "white",
            "ticks": ""
           },
           "bgcolor": "#E5ECF6",
           "radialaxis": {
            "gridcolor": "white",
            "linecolor": "white",
            "ticks": ""
           }
          },
          "scene": {
           "xaxis": {
            "backgroundcolor": "#E5ECF6",
            "gridcolor": "white",
            "gridwidth": 2,
            "linecolor": "white",
            "showbackground": true,
            "ticks": "",
            "zerolinecolor": "white"
           },
           "yaxis": {
            "backgroundcolor": "#E5ECF6",
            "gridcolor": "white",
            "gridwidth": 2,
            "linecolor": "white",
            "showbackground": true,
            "ticks": "",
            "zerolinecolor": "white"
           },
           "zaxis": {
            "backgroundcolor": "#E5ECF6",
            "gridcolor": "white",
            "gridwidth": 2,
            "linecolor": "white",
            "showbackground": true,
            "ticks": "",
            "zerolinecolor": "white"
           }
          },
          "shapedefaults": {
           "line": {
            "color": "#2a3f5f"
           }
          },
          "ternary": {
           "aaxis": {
            "gridcolor": "white",
            "linecolor": "white",
            "ticks": ""
           },
           "baxis": {
            "gridcolor": "white",
            "linecolor": "white",
            "ticks": ""
           },
           "bgcolor": "#E5ECF6",
           "caxis": {
            "gridcolor": "white",
            "linecolor": "white",
            "ticks": ""
           }
          },
          "title": {
           "x": 0.05
          },
          "xaxis": {
           "automargin": true,
           "gridcolor": "white",
           "linecolor": "white",
           "ticks": "",
           "title": {
            "standoff": 15
           },
           "zerolinecolor": "white",
           "zerolinewidth": 2
          },
          "yaxis": {
           "automargin": true,
           "gridcolor": "white",
           "linecolor": "white",
           "ticks": "",
           "title": {
            "standoff": 15
           },
           "zerolinecolor": "white",
           "zerolinewidth": 2
          }
         }
        },
        "title": {
         "font": {
          "color": "#4D5663"
         }
        },
        "xaxis": {
         "gridcolor": "#E1E5ED",
         "showgrid": true,
         "tickfont": {
          "color": "#4D5663"
         },
         "title": {
          "font": {
           "color": "#4D5663"
          },
          "text": ""
         },
         "zerolinecolor": "#E1E5ED"
        },
        "yaxis": {
         "gridcolor": "#E1E5ED",
         "showgrid": true,
         "tickfont": {
          "color": "#4D5663"
         },
         "title": {
          "font": {
           "color": "#4D5663"
          },
          "text": ""
         },
         "zerolinecolor": "#E1E5ED"
        }
       }
      },
      "text/html": [
       "<div>                            <div id=\"56bc73fe-d1d5-48ca-a5b6-2f44c0440521\" class=\"plotly-graph-div\" style=\"height:525px; width:100%;\"></div>            <script type=\"text/javascript\">                require([\"plotly\"], function(Plotly) {                    window.PLOTLYENV=window.PLOTLYENV || {};\n",
       "                    window.PLOTLYENV.BASE_URL='https://plot.ly';                                    if (document.getElementById(\"56bc73fe-d1d5-48ca-a5b6-2f44c0440521\")) {                    Plotly.newPlot(                        \"56bc73fe-d1d5-48ca-a5b6-2f44c0440521\",                        [{\"boxpoints\":false,\"line\":{\"width\":1.3},\"marker\":{\"color\":\"rgba(255, 153, 51, 1.0)\"},\"name\":\"A\",\"orientation\":\"v\",\"y\":[0.5743707795773935,0.7705130471123088,-1.1576336254777675,-0.8271035026452863,0.7425917665606087,-0.5394750578829458,0.5097192595359479,0.5432487081145778,-0.017946748455862877,0.19581581905947343,-1.437598250743915,2.218752439044428,1.3735761727944185,0.4110662686393877,-1.2762577922869192,1.052973143565982,1.4455702341590444,-0.3948389358880354,0.7885045139246953,-1.048373347634528,1.7428723409947369,0.5095898223142886,-0.40242338927638993,0.7895293899801388,-1.1684034943003128,-0.04221538280344773,0.008138638768228417,-0.4886444367606532,0.372696913991112,0.012203537415463457,1.3219400832950743,0.4426993414749163,0.6954759067905433,1.26173184725225,0.6031545937641348,0.8314386262457409,-1.9414446443208866,0.44729577583315866,-0.1519969814341827,1.4347967567547704,0.4231389277658858,-0.3464188794612597,-1.1560117204001936,-0.3371028319649269,0.9280885194745121,-0.33478270805751936,2.501829705680731,0.6545880808894924,-0.3253344899082747,1.0445833650807033,0.6378047610339664,-2.282408309947842,-0.9940910712619948,1.593352030366997,0.9796354322121585,-0.14555141905550475,1.938036037209001,0.4868173620202219,0.055745582967331925,0.8956207552321556,0.11210772463177247,-0.33800571080152314,-1.3960145152016388,2.1771435310890195,-0.21470397682343476,0.4522706930495062,0.9164948956794404,0.8686559643236597,-0.781959644239122,0.858071168774533,1.0682392817882957,-0.8544402572414872,-0.10900933498317333,-0.6310301425552112,-0.7648997140020927,1.150003153635081,1.0797631083191377,-0.45546653209706256,-0.04107528864510263,0.5455832227617043,-0.013623144913418072,0.8627690024800236,-0.444669171787977,-0.09778715447296922,-0.9840028543722682,-0.7197814724774163,0.5492328656564691,0.3865729478490786,0.9060294279206033,-0.4274656683036674,0.7060489877334019,-0.38594158839707665,0.5846720573475902,0.715150753017314,-0.5970239007455065,0.46585132559113374,-0.18843515452973725,0.9407973388139189,-1.2463834784309387,1.557031562545552],\"type\":\"box\"},{\"boxpoints\":false,\"line\":{\"width\":1.3},\"marker\":{\"color\":\"rgba(55, 128, 191, 1.0)\"},\"name\":\"B\",\"orientation\":\"v\",\"y\":[0.8016641080924541,1.0077391146377723,0.27651367544996946,-2.1570213570008927,-1.1235011021677124,0.17510373317808275,0.5739852492901831,0.08400858387755353,-1.7399189233318215,1.373956525773911,-0.6055411343301496,0.07895635184420437,1.9396245569934054,0.21052865131167792,0.8041135995879579,1.2067828700888212,-1.2391501426725224,-0.602365415491375,-1.2116734000900296,-0.5657984205463799,-0.30418317029567005,-1.3047874224393003,-1.9023818194008624,1.2952595792792636,0.10138680285600672,0.0223449098802518,0.25608582492185883,-0.8817831404171913,0.364858694437755,-1.1104434289726777,0.3175327732447648,0.4440791680629179,0.295798249153598,0.17144218397646702,-0.5670235515093524,1.5675401024850084,-0.3154757966663135,-0.9569793691086736,-0.08939617748473268,-1.4138336943563812,-0.715750128405275,0.26616513383692075,-0.7576063158477336,1.0044504867732704,-0.8528844132117523,-1.3137522421554162,-0.6297247932341066,0.6641310484582209,0.6842832590670178,-1.097732442511773,0.7695175485075942,-0.8004055106036331,-1.2334254972160166,-1.3461652044016847,-0.44328078003252724,0.12362524915851832,-0.703900374883289,1.5964916213576874,-0.7175995763374521,0.7303661705616081,1.6433808900162372,-0.6732022934593243,0.39075007107051796,0.7030593293505272,-0.36446992902141634,-0.8641351675878642,-0.8600094939920322,-0.7513060798787412,2.286811969914792,-0.46975880928066727,-1.5697616694093142,-0.2921380197460708,0.727262007763347,0.4960816199155096,0.30461017406051066,-0.44238754745680947,-0.019873063964267003,-0.9791775276148362,0.8333268577557206,-0.5577902793680444,-0.7902334272887995,-1.409128891545519,-0.49896367670798036,-1.098227923147296,-0.16852914853637593,0.37570018520333304,-2.161831239989233,-0.7378821662771905,-0.06571168846656328,0.47600300766597164,0.9217086796711035,-0.5276134738110552,0.19389281217411172,-0.1976527698633932,-1.7029397917737243,-0.18454993343459655,-0.30032143747151385,0.6226966256674825,-0.6119109736503978,-2.241247130842427],\"type\":\"box\"},{\"boxpoints\":false,\"line\":{\"width\":1.3},\"marker\":{\"color\":\"rgba(50, 171, 96, 1.0)\"},\"name\":\"C\",\"orientation\":\"v\",\"y\":[-0.3872323872369992,0.3129896931497061,0.549109784320413,0.24341866874423576,1.499529146175969,1.2787254198445286,0.09732899572249865,0.6786729923835082,0.3200378633283294,0.5394983246081207,1.9304686738992993,-0.1476528422065039,0.20730005663265114,-0.08292020894156982,-1.0332985315410432,0.2910227164489197,-0.6599861700596447,-1.5927522845823798,-0.06913975252968259,-0.5350268297035842,-0.08331731434480327,0.00951634077256817,-0.8740584241386143,-0.2450153374063535,-0.07959487862678238,1.6987821893488655,-0.33441987308935917,-0.5162053018290103,0.7867538063077528,-0.511729361567106,-0.3442187857712442,1.4539410232083054,1.3210571784341893,0.39479043190364904,-2.1444074764988144,-0.17579186871750874,0.9734103167653669,-1.5447888626969593,0.44118731033021363,0.27523186474757166,0.19584184595773688,2.1479956346168163,2.5676586672224286,0.4169684005852465,-0.7905053421090682,0.6059343090399911,1.1718702289760667,-1.4892935685267537,-0.9155580924696599,0.38024870280397105,-0.4477636807416802,0.09620063605372368,0.0746695266655892,-1.6872206649919161,0.7466670151316754,-0.299369659246122,-0.5538294760945928,-0.7433103932079366,-1.2464060855888113,-0.9325474584013793,-0.41615198461661734,-0.5832952182022414,-0.15074930142568585,0.47296418006624735,-0.9547052054771018,1.083298302216257,-1.4824096196587915,-1.122351602702573,0.9302847260988449,0.441320891411173,-0.2833388821399992,-1.2753864362984364,-1.1169841191601397,0.5972396627662147,-0.2491773777751275,-0.18988486380823916,0.8546215215474877,-0.38142398607241634,-1.0945065986319291,0.3142174694812054,-0.7462860924229974,0.29691771845913784,-2.5760037011011914,-0.5331102468132428,-1.1442208420210935,0.7410619807933482,0.16704743929932367,0.9173053003360592,-1.3378054378604043,1.2352164222516753,-2.260111480808333,1.6287248278642656,1.3524792127034155,-0.4904296405112925,-0.9892598998698315,1.6661723261514287,-0.5076306898533299,0.1644388963494178,-0.2723433733772562,0.5829871208447345],\"type\":\"box\"},{\"boxpoints\":false,\"line\":{\"width\":1.3},\"marker\":{\"color\":\"rgba(128, 0, 128, 1.0)\"},\"name\":\"D\",\"orientation\":\"v\",\"y\":[-0.4706922896364643,-0.6393288441504061,0.5575925212870825,-2.1202891520131826,0.7016609126653969,-0.06663561774881703,-0.4973374480135509,-0.590882958594366,2.184216868456072,0.33037161371952095,0.4777632094713535,0.3821948569152667,-1.603506970236447,0.03295152166286881,0.04081459510336229,-1.0542769144183797,0.25051753466921883,1.79220788387074,-2.1640254105521275,0.26545027744208516,-0.023472918994801143,-0.43244261016985147,0.3300305691019167,1.3612832617727721,0.23017392707992243,1.0116251964301215,0.19420287776944709,-1.5681994809354591,0.18423853340915497,-0.6173534845828159,-0.04976064378931739,-0.09499890498586602,0.5999663887957106,0.9470452192499397,0.48158232826549746,-0.975818121808824,1.1789804210928678,0.511991126185782,-0.6445127118571568,0.44639236607138577,-0.5119228999079636,0.3461769490638204,-0.28860962187000627,0.30880752893856117,0.8602920238557571,-1.1065956618682193,1.4281271716163646,1.7281195306020583,-2.070566261701333,-0.6463558608812114,-1.4424887324180486,2.0564826875760485,-0.08467260834805933,-0.8208555681228488,-0.7840923059289396,0.5463398928360392,-1.9147193931015167,-2.0965405121600296,0.8854654915221677,-0.7077143405284566,1.220740051229066,0.41684554242125865,0.4125617805707906,0.09547391990243034,-0.24230781619518113,-0.36889321022938737,0.01572106847202316,0.43561389700725806,0.11144186558321814,-0.6508334551545648,1.018199714126553,0.8714881246496483,-1.5536263117876437,2.235615408287663,0.12156182099911096,0.0745440501953923,1.3531429059771674,0.7934764526588117,2.5958981612081273,1.1486359575895522,-2.3844317905567403,-0.6650930734834832,0.05235770758444297,0.08514327670747696,1.249831995368982,-0.9450238390834802,-0.2639259615069109,-0.52369639655623,0.49020926089127365,0.34420441702195825,0.3041093733430783,0.22057571199250411,0.7505519778911802,-1.2174904593310871,1.056341055422691,1.2792360322150826,-0.5399025492546313,-0.13763862502097546,-2.0187290599712178,-1.9068308822417757],\"type\":\"box\"}],                        {\"legend\":{\"bgcolor\":\"#F5F6F9\",\"font\":{\"color\":\"#4D5663\"}},\"paper_bgcolor\":\"#F5F6F9\",\"plot_bgcolor\":\"#F5F6F9\",\"template\":{\"data\":{\"barpolar\":[{\"marker\":{\"line\":{\"color\":\"#E5ECF6\",\"width\":0.5},\"pattern\":{\"fillmode\":\"overlay\",\"size\":10,\"solidity\":0.2}},\"type\":\"barpolar\"}],\"bar\":[{\"error_x\":{\"color\":\"#2a3f5f\"},\"error_y\":{\"color\":\"#2a3f5f\"},\"marker\":{\"line\":{\"color\":\"#E5ECF6\",\"width\":0.5},\"pattern\":{\"fillmode\":\"overlay\",\"size\":10,\"solidity\":0.2}},\"type\":\"bar\"}],\"carpet\":[{\"aaxis\":{\"endlinecolor\":\"#2a3f5f\",\"gridcolor\":\"white\",\"linecolor\":\"white\",\"minorgridcolor\":\"white\",\"startlinecolor\":\"#2a3f5f\"},\"baxis\":{\"endlinecolor\":\"#2a3f5f\",\"gridcolor\":\"white\",\"linecolor\":\"white\",\"minorgridcolor\":\"white\",\"startlinecolor\":\"#2a3f5f\"},\"type\":\"carpet\"}],\"choropleth\":[{\"colorbar\":{\"outlinewidth\":0,\"ticks\":\"\"},\"type\":\"choropleth\"}],\"contourcarpet\":[{\"colorbar\":{\"outlinewidth\":0,\"ticks\":\"\"},\"type\":\"contourcarpet\"}],\"contour\":[{\"colorbar\":{\"outlinewidth\":0,\"ticks\":\"\"},\"colorscale\":[[0.0,\"#0d0887\"],[0.1111111111111111,\"#46039f\"],[0.2222222222222222,\"#7201a8\"],[0.3333333333333333,\"#9c179e\"],[0.4444444444444444,\"#bd3786\"],[0.5555555555555556,\"#d8576b\"],[0.6666666666666666,\"#ed7953\"],[0.7777777777777778,\"#fb9f3a\"],[0.8888888888888888,\"#fdca26\"],[1.0,\"#f0f921\"]],\"type\":\"contour\"}],\"heatmapgl\":[{\"colorbar\":{\"outlinewidth\":0,\"ticks\":\"\"},\"colorscale\":[[0.0,\"#0d0887\"],[0.1111111111111111,\"#46039f\"],[0.2222222222222222,\"#7201a8\"],[0.3333333333333333,\"#9c179e\"],[0.4444444444444444,\"#bd3786\"],[0.5555555555555556,\"#d8576b\"],[0.6666666666666666,\"#ed7953\"],[0.7777777777777778,\"#fb9f3a\"],[0.8888888888888888,\"#fdca26\"],[1.0,\"#f0f921\"]],\"type\":\"heatmapgl\"}],\"heatmap\":[{\"colorbar\":{\"outlinewidth\":0,\"ticks\":\"\"},\"colorscale\":[[0.0,\"#0d0887\"],[0.1111111111111111,\"#46039f\"],[0.2222222222222222,\"#7201a8\"],[0.3333333333333333,\"#9c179e\"],[0.4444444444444444,\"#bd3786\"],[0.5555555555555556,\"#d8576b\"],[0.6666666666666666,\"#ed7953\"],[0.7777777777777778,\"#fb9f3a\"],[0.8888888888888888,\"#fdca26\"],[1.0,\"#f0f921\"]],\"type\":\"heatmap\"}],\"histogram2dcontour\":[{\"colorbar\":{\"outlinewidth\":0,\"ticks\":\"\"},\"colorscale\":[[0.0,\"#0d0887\"],[0.1111111111111111,\"#46039f\"],[0.2222222222222222,\"#7201a8\"],[0.3333333333333333,\"#9c179e\"],[0.4444444444444444,\"#bd3786\"],[0.5555555555555556,\"#d8576b\"],[0.6666666666666666,\"#ed7953\"],[0.7777777777777778,\"#fb9f3a\"],[0.8888888888888888,\"#fdca26\"],[1.0,\"#f0f921\"]],\"type\":\"histogram2dcontour\"}],\"histogram2d\":[{\"colorbar\":{\"outlinewidth\":0,\"ticks\":\"\"},\"colorscale\":[[0.0,\"#0d0887\"],[0.1111111111111111,\"#46039f\"],[0.2222222222222222,\"#7201a8\"],[0.3333333333333333,\"#9c179e\"],[0.4444444444444444,\"#bd3786\"],[0.5555555555555556,\"#d8576b\"],[0.6666666666666666,\"#ed7953\"],[0.7777777777777778,\"#fb9f3a\"],[0.8888888888888888,\"#fdca26\"],[1.0,\"#f0f921\"]],\"type\":\"histogram2d\"}],\"histogram\":[{\"marker\":{\"pattern\":{\"fillmode\":\"overlay\",\"size\":10,\"solidity\":0.2}},\"type\":\"histogram\"}],\"mesh3d\":[{\"colorbar\":{\"outlinewidth\":0,\"ticks\":\"\"},\"type\":\"mesh3d\"}],\"parcoords\":[{\"line\":{\"colorbar\":{\"outlinewidth\":0,\"ticks\":\"\"}},\"type\":\"parcoords\"}],\"pie\":[{\"automargin\":true,\"type\":\"pie\"}],\"scatter3d\":[{\"line\":{\"colorbar\":{\"outlinewidth\":0,\"ticks\":\"\"}},\"marker\":{\"colorbar\":{\"outlinewidth\":0,\"ticks\":\"\"}},\"type\":\"scatter3d\"}],\"scattercarpet\":[{\"marker\":{\"colorbar\":{\"outlinewidth\":0,\"ticks\":\"\"}},\"type\":\"scattercarpet\"}],\"scattergeo\":[{\"marker\":{\"colorbar\":{\"outlinewidth\":0,\"ticks\":\"\"}},\"type\":\"scattergeo\"}],\"scattergl\":[{\"marker\":{\"colorbar\":{\"outlinewidth\":0,\"ticks\":\"\"}},\"type\":\"scattergl\"}],\"scattermapbox\":[{\"marker\":{\"colorbar\":{\"outlinewidth\":0,\"ticks\":\"\"}},\"type\":\"scattermapbox\"}],\"scatterpolargl\":[{\"marker\":{\"colorbar\":{\"outlinewidth\":0,\"ticks\":\"\"}},\"type\":\"scatterpolargl\"}],\"scatterpolar\":[{\"marker\":{\"colorbar\":{\"outlinewidth\":0,\"ticks\":\"\"}},\"type\":\"scatterpolar\"}],\"scatter\":[{\"marker\":{\"colorbar\":{\"outlinewidth\":0,\"ticks\":\"\"}},\"type\":\"scatter\"}],\"scatterternary\":[{\"marker\":{\"colorbar\":{\"outlinewidth\":0,\"ticks\":\"\"}},\"type\":\"scatterternary\"}],\"surface\":[{\"colorbar\":{\"outlinewidth\":0,\"ticks\":\"\"},\"colorscale\":[[0.0,\"#0d0887\"],[0.1111111111111111,\"#46039f\"],[0.2222222222222222,\"#7201a8\"],[0.3333333333333333,\"#9c179e\"],[0.4444444444444444,\"#bd3786\"],[0.5555555555555556,\"#d8576b\"],[0.6666666666666666,\"#ed7953\"],[0.7777777777777778,\"#fb9f3a\"],[0.8888888888888888,\"#fdca26\"],[1.0,\"#f0f921\"]],\"type\":\"surface\"}],\"table\":[{\"cells\":{\"fill\":{\"color\":\"#EBF0F8\"},\"line\":{\"color\":\"white\"}},\"header\":{\"fill\":{\"color\":\"#C8D4E3\"},\"line\":{\"color\":\"white\"}},\"type\":\"table\"}]},\"layout\":{\"annotationdefaults\":{\"arrowcolor\":\"#2a3f5f\",\"arrowhead\":0,\"arrowwidth\":1},\"autotypenumbers\":\"strict\",\"coloraxis\":{\"colorbar\":{\"outlinewidth\":0,\"ticks\":\"\"}},\"colorscale\":{\"diverging\":[[0,\"#8e0152\"],[0.1,\"#c51b7d\"],[0.2,\"#de77ae\"],[0.3,\"#f1b6da\"],[0.4,\"#fde0ef\"],[0.5,\"#f7f7f7\"],[0.6,\"#e6f5d0\"],[0.7,\"#b8e186\"],[0.8,\"#7fbc41\"],[0.9,\"#4d9221\"],[1,\"#276419\"]],\"sequential\":[[0.0,\"#0d0887\"],[0.1111111111111111,\"#46039f\"],[0.2222222222222222,\"#7201a8\"],[0.3333333333333333,\"#9c179e\"],[0.4444444444444444,\"#bd3786\"],[0.5555555555555556,\"#d8576b\"],[0.6666666666666666,\"#ed7953\"],[0.7777777777777778,\"#fb9f3a\"],[0.8888888888888888,\"#fdca26\"],[1.0,\"#f0f921\"]],\"sequentialminus\":[[0.0,\"#0d0887\"],[0.1111111111111111,\"#46039f\"],[0.2222222222222222,\"#7201a8\"],[0.3333333333333333,\"#9c179e\"],[0.4444444444444444,\"#bd3786\"],[0.5555555555555556,\"#d8576b\"],[0.6666666666666666,\"#ed7953\"],[0.7777777777777778,\"#fb9f3a\"],[0.8888888888888888,\"#fdca26\"],[1.0,\"#f0f921\"]]},\"colorway\":[\"#636efa\",\"#EF553B\",\"#00cc96\",\"#ab63fa\",\"#FFA15A\",\"#19d3f3\",\"#FF6692\",\"#B6E880\",\"#FF97FF\",\"#FECB52\"],\"font\":{\"color\":\"#2a3f5f\"},\"geo\":{\"bgcolor\":\"white\",\"lakecolor\":\"white\",\"landcolor\":\"#E5ECF6\",\"showlakes\":true,\"showland\":true,\"subunitcolor\":\"white\"},\"hoverlabel\":{\"align\":\"left\"},\"hovermode\":\"closest\",\"mapbox\":{\"style\":\"light\"},\"paper_bgcolor\":\"white\",\"plot_bgcolor\":\"#E5ECF6\",\"polar\":{\"angularaxis\":{\"gridcolor\":\"white\",\"linecolor\":\"white\",\"ticks\":\"\"},\"bgcolor\":\"#E5ECF6\",\"radialaxis\":{\"gridcolor\":\"white\",\"linecolor\":\"white\",\"ticks\":\"\"}},\"scene\":{\"xaxis\":{\"backgroundcolor\":\"#E5ECF6\",\"gridcolor\":\"white\",\"gridwidth\":2,\"linecolor\":\"white\",\"showbackground\":true,\"ticks\":\"\",\"zerolinecolor\":\"white\"},\"yaxis\":{\"backgroundcolor\":\"#E5ECF6\",\"gridcolor\":\"white\",\"gridwidth\":2,\"linecolor\":\"white\",\"showbackground\":true,\"ticks\":\"\",\"zerolinecolor\":\"white\"},\"zaxis\":{\"backgroundcolor\":\"#E5ECF6\",\"gridcolor\":\"white\",\"gridwidth\":2,\"linecolor\":\"white\",\"showbackground\":true,\"ticks\":\"\",\"zerolinecolor\":\"white\"}},\"shapedefaults\":{\"line\":{\"color\":\"#2a3f5f\"}},\"ternary\":{\"aaxis\":{\"gridcolor\":\"white\",\"linecolor\":\"white\",\"ticks\":\"\"},\"baxis\":{\"gridcolor\":\"white\",\"linecolor\":\"white\",\"ticks\":\"\"},\"bgcolor\":\"#E5ECF6\",\"caxis\":{\"gridcolor\":\"white\",\"linecolor\":\"white\",\"ticks\":\"\"}},\"title\":{\"x\":0.05},\"xaxis\":{\"automargin\":true,\"gridcolor\":\"white\",\"linecolor\":\"white\",\"ticks\":\"\",\"title\":{\"standoff\":15},\"zerolinecolor\":\"white\",\"zerolinewidth\":2},\"yaxis\":{\"automargin\":true,\"gridcolor\":\"white\",\"linecolor\":\"white\",\"ticks\":\"\",\"title\":{\"standoff\":15},\"zerolinecolor\":\"white\",\"zerolinewidth\":2}}},\"title\":{\"font\":{\"color\":\"#4D5663\"}},\"xaxis\":{\"gridcolor\":\"#E1E5ED\",\"showgrid\":true,\"tickfont\":{\"color\":\"#4D5663\"},\"title\":{\"font\":{\"color\":\"#4D5663\"},\"text\":\"\"},\"zerolinecolor\":\"#E1E5ED\"},\"yaxis\":{\"gridcolor\":\"#E1E5ED\",\"showgrid\":true,\"tickfont\":{\"color\":\"#4D5663\"},\"title\":{\"font\":{\"color\":\"#4D5663\"},\"text\":\"\"},\"zerolinecolor\":\"#E1E5ED\"}},                        {\"showLink\": true, \"linkText\": \"Export to plot.ly\", \"plotlyServerURL\": \"https://plot.ly\", \"responsive\": true}                    ).then(function(){\n",
       "                            \n",
       "var gd = document.getElementById('56bc73fe-d1d5-48ca-a5b6-2f44c0440521');\n",
       "var x = new MutationObserver(function (mutations, observer) {{\n",
       "        var display = window.getComputedStyle(gd).display;\n",
       "        if (!display || display === 'none') {{\n",
       "            console.log([gd, 'removed!']);\n",
       "            Plotly.purge(gd);\n",
       "            observer.disconnect();\n",
       "        }}\n",
       "}});\n",
       "\n",
       "// Listen for the removal of the full notebook cells\n",
       "var notebookContainer = gd.closest('#notebook-container');\n",
       "if (notebookContainer) {{\n",
       "    x.observe(notebookContainer, {childList: true});\n",
       "}}\n",
       "\n",
       "// Listen for the clearing of the current output cell\n",
       "var outputEl = gd.closest('.output');\n",
       "if (outputEl) {{\n",
       "    x.observe(outputEl, {childList: true});\n",
       "}}\n",
       "\n",
       "                        })                };                });            </script>        </div>"
      ]
     },
     "metadata": {},
     "output_type": "display_data"
    }
   ],
   "source": [
    "df1.iplot(kind='box')"
   ]
  },
  {
   "cell_type": "code",
   "execution_count": 46,
   "metadata": {},
   "outputs": [],
   "source": [
    "# Making a 3D surface plot:\n",
    "\n",
    "df3 = pd.DataFrame({'x' : [1,2,3,4,5], 'y' : [10, 20, 30, 40, 50], 'z' : [1,2,3,2,1]})"
   ]
  },
  {
   "cell_type": "code",
   "execution_count": 47,
   "metadata": {},
   "outputs": [
    {
     "data": {
      "text/html": [
       "<div>\n",
       "<style scoped>\n",
       "    .dataframe tbody tr th:only-of-type {\n",
       "        vertical-align: middle;\n",
       "    }\n",
       "\n",
       "    .dataframe tbody tr th {\n",
       "        vertical-align: top;\n",
       "    }\n",
       "\n",
       "    .dataframe thead th {\n",
       "        text-align: right;\n",
       "    }\n",
       "</style>\n",
       "<table border=\"1\" class=\"dataframe\">\n",
       "  <thead>\n",
       "    <tr style=\"text-align: right;\">\n",
       "      <th></th>\n",
       "      <th>x</th>\n",
       "      <th>y</th>\n",
       "      <th>z</th>\n",
       "    </tr>\n",
       "  </thead>\n",
       "  <tbody>\n",
       "    <tr>\n",
       "      <th>0</th>\n",
       "      <td>1</td>\n",
       "      <td>10</td>\n",
       "      <td>1</td>\n",
       "    </tr>\n",
       "    <tr>\n",
       "      <th>1</th>\n",
       "      <td>2</td>\n",
       "      <td>20</td>\n",
       "      <td>2</td>\n",
       "    </tr>\n",
       "    <tr>\n",
       "      <th>2</th>\n",
       "      <td>3</td>\n",
       "      <td>30</td>\n",
       "      <td>3</td>\n",
       "    </tr>\n",
       "    <tr>\n",
       "      <th>3</th>\n",
       "      <td>4</td>\n",
       "      <td>40</td>\n",
       "      <td>2</td>\n",
       "    </tr>\n",
       "    <tr>\n",
       "      <th>4</th>\n",
       "      <td>5</td>\n",
       "      <td>50</td>\n",
       "      <td>1</td>\n",
       "    </tr>\n",
       "  </tbody>\n",
       "</table>\n",
       "</div>"
      ],
      "text/plain": [
       "   x   y  z\n",
       "0  1  10  1\n",
       "1  2  20  2\n",
       "2  3  30  3\n",
       "3  4  40  2\n",
       "4  5  50  1"
      ]
     },
     "execution_count": 47,
     "metadata": {},
     "output_type": "execute_result"
    }
   ],
   "source": [
    "df3"
   ]
  },
  {
   "cell_type": "code",
   "execution_count": 48,
   "metadata": {},
   "outputs": [
    {
     "data": {
      "application/vnd.plotly.v1+json": {
       "config": {
        "linkText": "Export to plot.ly",
        "plotlyServerURL": "https://plot.ly",
        "showLink": true
       },
       "data": [
        {
         "colorscale": [
          [
           0,
           "rgb(165,0,38)"
          ],
          [
           0.1,
           "rgb(215,48,39)"
          ],
          [
           0.2,
           "rgb(244,109,67)"
          ],
          [
           0.3,
           "rgb(253,174,97)"
          ],
          [
           0.4,
           "rgb(254,224,144)"
          ],
          [
           0.5,
           "rgb(255,255,191)"
          ],
          [
           0.6,
           "rgb(224,243,248)"
          ],
          [
           0.7,
           "rgb(171,217,233)"
          ],
          [
           0.8,
           "rgb(116,173,209)"
          ],
          [
           0.9,
           "rgb(69,117,180)"
          ],
          [
           1,
           "rgb(49,54,149)"
          ]
         ],
         "type": "surface",
         "x": [
          0,
          1,
          2,
          3,
          4
         ],
         "y": [
          "x",
          "y",
          "z"
         ],
         "z": [
          [
           1,
           2,
           3,
           4,
           5
          ],
          [
           10,
           20,
           30,
           40,
           50
          ],
          [
           1,
           2,
           3,
           2,
           1
          ]
         ]
        }
       ],
       "layout": {
        "legend": {
         "bgcolor": "#F5F6F9",
         "font": {
          "color": "#4D5663"
         }
        },
        "paper_bgcolor": "#F5F6F9",
        "plot_bgcolor": "#F5F6F9",
        "template": {
         "data": {
          "bar": [
           {
            "error_x": {
             "color": "#2a3f5f"
            },
            "error_y": {
             "color": "#2a3f5f"
            },
            "marker": {
             "line": {
              "color": "#E5ECF6",
              "width": 0.5
             },
             "pattern": {
              "fillmode": "overlay",
              "size": 10,
              "solidity": 0.2
             }
            },
            "type": "bar"
           }
          ],
          "barpolar": [
           {
            "marker": {
             "line": {
              "color": "#E5ECF6",
              "width": 0.5
             },
             "pattern": {
              "fillmode": "overlay",
              "size": 10,
              "solidity": 0.2
             }
            },
            "type": "barpolar"
           }
          ],
          "carpet": [
           {
            "aaxis": {
             "endlinecolor": "#2a3f5f",
             "gridcolor": "white",
             "linecolor": "white",
             "minorgridcolor": "white",
             "startlinecolor": "#2a3f5f"
            },
            "baxis": {
             "endlinecolor": "#2a3f5f",
             "gridcolor": "white",
             "linecolor": "white",
             "minorgridcolor": "white",
             "startlinecolor": "#2a3f5f"
            },
            "type": "carpet"
           }
          ],
          "choropleth": [
           {
            "colorbar": {
             "outlinewidth": 0,
             "ticks": ""
            },
            "type": "choropleth"
           }
          ],
          "contour": [
           {
            "colorbar": {
             "outlinewidth": 0,
             "ticks": ""
            },
            "colorscale": [
             [
              0,
              "#0d0887"
             ],
             [
              0.1111111111111111,
              "#46039f"
             ],
             [
              0.2222222222222222,
              "#7201a8"
             ],
             [
              0.3333333333333333,
              "#9c179e"
             ],
             [
              0.4444444444444444,
              "#bd3786"
             ],
             [
              0.5555555555555556,
              "#d8576b"
             ],
             [
              0.6666666666666666,
              "#ed7953"
             ],
             [
              0.7777777777777778,
              "#fb9f3a"
             ],
             [
              0.8888888888888888,
              "#fdca26"
             ],
             [
              1,
              "#f0f921"
             ]
            ],
            "type": "contour"
           }
          ],
          "contourcarpet": [
           {
            "colorbar": {
             "outlinewidth": 0,
             "ticks": ""
            },
            "type": "contourcarpet"
           }
          ],
          "heatmap": [
           {
            "colorbar": {
             "outlinewidth": 0,
             "ticks": ""
            },
            "colorscale": [
             [
              0,
              "#0d0887"
             ],
             [
              0.1111111111111111,
              "#46039f"
             ],
             [
              0.2222222222222222,
              "#7201a8"
             ],
             [
              0.3333333333333333,
              "#9c179e"
             ],
             [
              0.4444444444444444,
              "#bd3786"
             ],
             [
              0.5555555555555556,
              "#d8576b"
             ],
             [
              0.6666666666666666,
              "#ed7953"
             ],
             [
              0.7777777777777778,
              "#fb9f3a"
             ],
             [
              0.8888888888888888,
              "#fdca26"
             ],
             [
              1,
              "#f0f921"
             ]
            ],
            "type": "heatmap"
           }
          ],
          "heatmapgl": [
           {
            "colorbar": {
             "outlinewidth": 0,
             "ticks": ""
            },
            "colorscale": [
             [
              0,
              "#0d0887"
             ],
             [
              0.1111111111111111,
              "#46039f"
             ],
             [
              0.2222222222222222,
              "#7201a8"
             ],
             [
              0.3333333333333333,
              "#9c179e"
             ],
             [
              0.4444444444444444,
              "#bd3786"
             ],
             [
              0.5555555555555556,
              "#d8576b"
             ],
             [
              0.6666666666666666,
              "#ed7953"
             ],
             [
              0.7777777777777778,
              "#fb9f3a"
             ],
             [
              0.8888888888888888,
              "#fdca26"
             ],
             [
              1,
              "#f0f921"
             ]
            ],
            "type": "heatmapgl"
           }
          ],
          "histogram": [
           {
            "marker": {
             "pattern": {
              "fillmode": "overlay",
              "size": 10,
              "solidity": 0.2
             }
            },
            "type": "histogram"
           }
          ],
          "histogram2d": [
           {
            "colorbar": {
             "outlinewidth": 0,
             "ticks": ""
            },
            "colorscale": [
             [
              0,
              "#0d0887"
             ],
             [
              0.1111111111111111,
              "#46039f"
             ],
             [
              0.2222222222222222,
              "#7201a8"
             ],
             [
              0.3333333333333333,
              "#9c179e"
             ],
             [
              0.4444444444444444,
              "#bd3786"
             ],
             [
              0.5555555555555556,
              "#d8576b"
             ],
             [
              0.6666666666666666,
              "#ed7953"
             ],
             [
              0.7777777777777778,
              "#fb9f3a"
             ],
             [
              0.8888888888888888,
              "#fdca26"
             ],
             [
              1,
              "#f0f921"
             ]
            ],
            "type": "histogram2d"
           }
          ],
          "histogram2dcontour": [
           {
            "colorbar": {
             "outlinewidth": 0,
             "ticks": ""
            },
            "colorscale": [
             [
              0,
              "#0d0887"
             ],
             [
              0.1111111111111111,
              "#46039f"
             ],
             [
              0.2222222222222222,
              "#7201a8"
             ],
             [
              0.3333333333333333,
              "#9c179e"
             ],
             [
              0.4444444444444444,
              "#bd3786"
             ],
             [
              0.5555555555555556,
              "#d8576b"
             ],
             [
              0.6666666666666666,
              "#ed7953"
             ],
             [
              0.7777777777777778,
              "#fb9f3a"
             ],
             [
              0.8888888888888888,
              "#fdca26"
             ],
             [
              1,
              "#f0f921"
             ]
            ],
            "type": "histogram2dcontour"
           }
          ],
          "mesh3d": [
           {
            "colorbar": {
             "outlinewidth": 0,
             "ticks": ""
            },
            "type": "mesh3d"
           }
          ],
          "parcoords": [
           {
            "line": {
             "colorbar": {
              "outlinewidth": 0,
              "ticks": ""
             }
            },
            "type": "parcoords"
           }
          ],
          "pie": [
           {
            "automargin": true,
            "type": "pie"
           }
          ],
          "scatter": [
           {
            "marker": {
             "colorbar": {
              "outlinewidth": 0,
              "ticks": ""
             }
            },
            "type": "scatter"
           }
          ],
          "scatter3d": [
           {
            "line": {
             "colorbar": {
              "outlinewidth": 0,
              "ticks": ""
             }
            },
            "marker": {
             "colorbar": {
              "outlinewidth": 0,
              "ticks": ""
             }
            },
            "type": "scatter3d"
           }
          ],
          "scattercarpet": [
           {
            "marker": {
             "colorbar": {
              "outlinewidth": 0,
              "ticks": ""
             }
            },
            "type": "scattercarpet"
           }
          ],
          "scattergeo": [
           {
            "marker": {
             "colorbar": {
              "outlinewidth": 0,
              "ticks": ""
             }
            },
            "type": "scattergeo"
           }
          ],
          "scattergl": [
           {
            "marker": {
             "colorbar": {
              "outlinewidth": 0,
              "ticks": ""
             }
            },
            "type": "scattergl"
           }
          ],
          "scattermapbox": [
           {
            "marker": {
             "colorbar": {
              "outlinewidth": 0,
              "ticks": ""
             }
            },
            "type": "scattermapbox"
           }
          ],
          "scatterpolar": [
           {
            "marker": {
             "colorbar": {
              "outlinewidth": 0,
              "ticks": ""
             }
            },
            "type": "scatterpolar"
           }
          ],
          "scatterpolargl": [
           {
            "marker": {
             "colorbar": {
              "outlinewidth": 0,
              "ticks": ""
             }
            },
            "type": "scatterpolargl"
           }
          ],
          "scatterternary": [
           {
            "marker": {
             "colorbar": {
              "outlinewidth": 0,
              "ticks": ""
             }
            },
            "type": "scatterternary"
           }
          ],
          "surface": [
           {
            "colorbar": {
             "outlinewidth": 0,
             "ticks": ""
            },
            "colorscale": [
             [
              0,
              "#0d0887"
             ],
             [
              0.1111111111111111,
              "#46039f"
             ],
             [
              0.2222222222222222,
              "#7201a8"
             ],
             [
              0.3333333333333333,
              "#9c179e"
             ],
             [
              0.4444444444444444,
              "#bd3786"
             ],
             [
              0.5555555555555556,
              "#d8576b"
             ],
             [
              0.6666666666666666,
              "#ed7953"
             ],
             [
              0.7777777777777778,
              "#fb9f3a"
             ],
             [
              0.8888888888888888,
              "#fdca26"
             ],
             [
              1,
              "#f0f921"
             ]
            ],
            "type": "surface"
           }
          ],
          "table": [
           {
            "cells": {
             "fill": {
              "color": "#EBF0F8"
             },
             "line": {
              "color": "white"
             }
            },
            "header": {
             "fill": {
              "color": "#C8D4E3"
             },
             "line": {
              "color": "white"
             }
            },
            "type": "table"
           }
          ]
         },
         "layout": {
          "annotationdefaults": {
           "arrowcolor": "#2a3f5f",
           "arrowhead": 0,
           "arrowwidth": 1
          },
          "autotypenumbers": "strict",
          "coloraxis": {
           "colorbar": {
            "outlinewidth": 0,
            "ticks": ""
           }
          },
          "colorscale": {
           "diverging": [
            [
             0,
             "#8e0152"
            ],
            [
             0.1,
             "#c51b7d"
            ],
            [
             0.2,
             "#de77ae"
            ],
            [
             0.3,
             "#f1b6da"
            ],
            [
             0.4,
             "#fde0ef"
            ],
            [
             0.5,
             "#f7f7f7"
            ],
            [
             0.6,
             "#e6f5d0"
            ],
            [
             0.7,
             "#b8e186"
            ],
            [
             0.8,
             "#7fbc41"
            ],
            [
             0.9,
             "#4d9221"
            ],
            [
             1,
             "#276419"
            ]
           ],
           "sequential": [
            [
             0,
             "#0d0887"
            ],
            [
             0.1111111111111111,
             "#46039f"
            ],
            [
             0.2222222222222222,
             "#7201a8"
            ],
            [
             0.3333333333333333,
             "#9c179e"
            ],
            [
             0.4444444444444444,
             "#bd3786"
            ],
            [
             0.5555555555555556,
             "#d8576b"
            ],
            [
             0.6666666666666666,
             "#ed7953"
            ],
            [
             0.7777777777777778,
             "#fb9f3a"
            ],
            [
             0.8888888888888888,
             "#fdca26"
            ],
            [
             1,
             "#f0f921"
            ]
           ],
           "sequentialminus": [
            [
             0,
             "#0d0887"
            ],
            [
             0.1111111111111111,
             "#46039f"
            ],
            [
             0.2222222222222222,
             "#7201a8"
            ],
            [
             0.3333333333333333,
             "#9c179e"
            ],
            [
             0.4444444444444444,
             "#bd3786"
            ],
            [
             0.5555555555555556,
             "#d8576b"
            ],
            [
             0.6666666666666666,
             "#ed7953"
            ],
            [
             0.7777777777777778,
             "#fb9f3a"
            ],
            [
             0.8888888888888888,
             "#fdca26"
            ],
            [
             1,
             "#f0f921"
            ]
           ]
          },
          "colorway": [
           "#636efa",
           "#EF553B",
           "#00cc96",
           "#ab63fa",
           "#FFA15A",
           "#19d3f3",
           "#FF6692",
           "#B6E880",
           "#FF97FF",
           "#FECB52"
          ],
          "font": {
           "color": "#2a3f5f"
          },
          "geo": {
           "bgcolor": "white",
           "lakecolor": "white",
           "landcolor": "#E5ECF6",
           "showlakes": true,
           "showland": true,
           "subunitcolor": "white"
          },
          "hoverlabel": {
           "align": "left"
          },
          "hovermode": "closest",
          "mapbox": {
           "style": "light"
          },
          "paper_bgcolor": "white",
          "plot_bgcolor": "#E5ECF6",
          "polar": {
           "angularaxis": {
            "gridcolor": "white",
            "linecolor": "white",
            "ticks": ""
           },
           "bgcolor": "#E5ECF6",
           "radialaxis": {
            "gridcolor": "white",
            "linecolor": "white",
            "ticks": ""
           }
          },
          "scene": {
           "xaxis": {
            "backgroundcolor": "#E5ECF6",
            "gridcolor": "white",
            "gridwidth": 2,
            "linecolor": "white",
            "showbackground": true,
            "ticks": "",
            "zerolinecolor": "white"
           },
           "yaxis": {
            "backgroundcolor": "#E5ECF6",
            "gridcolor": "white",
            "gridwidth": 2,
            "linecolor": "white",
            "showbackground": true,
            "ticks": "",
            "zerolinecolor": "white"
           },
           "zaxis": {
            "backgroundcolor": "#E5ECF6",
            "gridcolor": "white",
            "gridwidth": 2,
            "linecolor": "white",
            "showbackground": true,
            "ticks": "",
            "zerolinecolor": "white"
           }
          },
          "shapedefaults": {
           "line": {
            "color": "#2a3f5f"
           }
          },
          "ternary": {
           "aaxis": {
            "gridcolor": "white",
            "linecolor": "white",
            "ticks": ""
           },
           "baxis": {
            "gridcolor": "white",
            "linecolor": "white",
            "ticks": ""
           },
           "bgcolor": "#E5ECF6",
           "caxis": {
            "gridcolor": "white",
            "linecolor": "white",
            "ticks": ""
           }
          },
          "title": {
           "x": 0.05
          },
          "xaxis": {
           "automargin": true,
           "gridcolor": "white",
           "linecolor": "white",
           "ticks": "",
           "title": {
            "standoff": 15
           },
           "zerolinecolor": "white",
           "zerolinewidth": 2
          },
          "yaxis": {
           "automargin": true,
           "gridcolor": "white",
           "linecolor": "white",
           "ticks": "",
           "title": {
            "standoff": 15
           },
           "zerolinecolor": "white",
           "zerolinewidth": 2
          }
         }
        },
        "title": {
         "font": {
          "color": "#4D5663"
         }
        },
        "xaxis": {
         "gridcolor": "#E1E5ED",
         "showgrid": true,
         "tickfont": {
          "color": "#4D5663"
         },
         "title": {
          "font": {
           "color": "#4D5663"
          },
          "text": ""
         },
         "zerolinecolor": "#E1E5ED"
        },
        "yaxis": {
         "gridcolor": "#E1E5ED",
         "showgrid": true,
         "tickfont": {
          "color": "#4D5663"
         },
         "title": {
          "font": {
           "color": "#4D5663"
          },
          "text": ""
         },
         "zerolinecolor": "#E1E5ED"
        }
       }
      },
      "text/html": [
       "<div>                            <div id=\"1222cc40-7a02-4165-bbec-cfe395c15bc6\" class=\"plotly-graph-div\" style=\"height:525px; width:100%;\"></div>            <script type=\"text/javascript\">                require([\"plotly\"], function(Plotly) {                    window.PLOTLYENV=window.PLOTLYENV || {};\n",
       "                    window.PLOTLYENV.BASE_URL='https://plot.ly';                                    if (document.getElementById(\"1222cc40-7a02-4165-bbec-cfe395c15bc6\")) {                    Plotly.newPlot(                        \"1222cc40-7a02-4165-bbec-cfe395c15bc6\",                        [{\"colorscale\":[[0.0,\"rgb(165,0,38)\"],[0.1,\"rgb(215,48,39)\"],[0.2,\"rgb(244,109,67)\"],[0.3,\"rgb(253,174,97)\"],[0.4,\"rgb(254,224,144)\"],[0.5,\"rgb(255,255,191)\"],[0.6,\"rgb(224,243,248)\"],[0.7,\"rgb(171,217,233)\"],[0.8,\"rgb(116,173,209)\"],[0.9,\"rgb(69,117,180)\"],[1.0,\"rgb(49,54,149)\"]],\"x\":[0,1,2,3,4],\"y\":[\"x\",\"y\",\"z\"],\"z\":[[1,2,3,4,5],[10,20,30,40,50],[1,2,3,2,1]],\"type\":\"surface\"}],                        {\"legend\":{\"bgcolor\":\"#F5F6F9\",\"font\":{\"color\":\"#4D5663\"}},\"paper_bgcolor\":\"#F5F6F9\",\"plot_bgcolor\":\"#F5F6F9\",\"template\":{\"data\":{\"barpolar\":[{\"marker\":{\"line\":{\"color\":\"#E5ECF6\",\"width\":0.5},\"pattern\":{\"fillmode\":\"overlay\",\"size\":10,\"solidity\":0.2}},\"type\":\"barpolar\"}],\"bar\":[{\"error_x\":{\"color\":\"#2a3f5f\"},\"error_y\":{\"color\":\"#2a3f5f\"},\"marker\":{\"line\":{\"color\":\"#E5ECF6\",\"width\":0.5},\"pattern\":{\"fillmode\":\"overlay\",\"size\":10,\"solidity\":0.2}},\"type\":\"bar\"}],\"carpet\":[{\"aaxis\":{\"endlinecolor\":\"#2a3f5f\",\"gridcolor\":\"white\",\"linecolor\":\"white\",\"minorgridcolor\":\"white\",\"startlinecolor\":\"#2a3f5f\"},\"baxis\":{\"endlinecolor\":\"#2a3f5f\",\"gridcolor\":\"white\",\"linecolor\":\"white\",\"minorgridcolor\":\"white\",\"startlinecolor\":\"#2a3f5f\"},\"type\":\"carpet\"}],\"choropleth\":[{\"colorbar\":{\"outlinewidth\":0,\"ticks\":\"\"},\"type\":\"choropleth\"}],\"contourcarpet\":[{\"colorbar\":{\"outlinewidth\":0,\"ticks\":\"\"},\"type\":\"contourcarpet\"}],\"contour\":[{\"colorbar\":{\"outlinewidth\":0,\"ticks\":\"\"},\"colorscale\":[[0.0,\"#0d0887\"],[0.1111111111111111,\"#46039f\"],[0.2222222222222222,\"#7201a8\"],[0.3333333333333333,\"#9c179e\"],[0.4444444444444444,\"#bd3786\"],[0.5555555555555556,\"#d8576b\"],[0.6666666666666666,\"#ed7953\"],[0.7777777777777778,\"#fb9f3a\"],[0.8888888888888888,\"#fdca26\"],[1.0,\"#f0f921\"]],\"type\":\"contour\"}],\"heatmapgl\":[{\"colorbar\":{\"outlinewidth\":0,\"ticks\":\"\"},\"colorscale\":[[0.0,\"#0d0887\"],[0.1111111111111111,\"#46039f\"],[0.2222222222222222,\"#7201a8\"],[0.3333333333333333,\"#9c179e\"],[0.4444444444444444,\"#bd3786\"],[0.5555555555555556,\"#d8576b\"],[0.6666666666666666,\"#ed7953\"],[0.7777777777777778,\"#fb9f3a\"],[0.8888888888888888,\"#fdca26\"],[1.0,\"#f0f921\"]],\"type\":\"heatmapgl\"}],\"heatmap\":[{\"colorbar\":{\"outlinewidth\":0,\"ticks\":\"\"},\"colorscale\":[[0.0,\"#0d0887\"],[0.1111111111111111,\"#46039f\"],[0.2222222222222222,\"#7201a8\"],[0.3333333333333333,\"#9c179e\"],[0.4444444444444444,\"#bd3786\"],[0.5555555555555556,\"#d8576b\"],[0.6666666666666666,\"#ed7953\"],[0.7777777777777778,\"#fb9f3a\"],[0.8888888888888888,\"#fdca26\"],[1.0,\"#f0f921\"]],\"type\":\"heatmap\"}],\"histogram2dcontour\":[{\"colorbar\":{\"outlinewidth\":0,\"ticks\":\"\"},\"colorscale\":[[0.0,\"#0d0887\"],[0.1111111111111111,\"#46039f\"],[0.2222222222222222,\"#7201a8\"],[0.3333333333333333,\"#9c179e\"],[0.4444444444444444,\"#bd3786\"],[0.5555555555555556,\"#d8576b\"],[0.6666666666666666,\"#ed7953\"],[0.7777777777777778,\"#fb9f3a\"],[0.8888888888888888,\"#fdca26\"],[1.0,\"#f0f921\"]],\"type\":\"histogram2dcontour\"}],\"histogram2d\":[{\"colorbar\":{\"outlinewidth\":0,\"ticks\":\"\"},\"colorscale\":[[0.0,\"#0d0887\"],[0.1111111111111111,\"#46039f\"],[0.2222222222222222,\"#7201a8\"],[0.3333333333333333,\"#9c179e\"],[0.4444444444444444,\"#bd3786\"],[0.5555555555555556,\"#d8576b\"],[0.6666666666666666,\"#ed7953\"],[0.7777777777777778,\"#fb9f3a\"],[0.8888888888888888,\"#fdca26\"],[1.0,\"#f0f921\"]],\"type\":\"histogram2d\"}],\"histogram\":[{\"marker\":{\"pattern\":{\"fillmode\":\"overlay\",\"size\":10,\"solidity\":0.2}},\"type\":\"histogram\"}],\"mesh3d\":[{\"colorbar\":{\"outlinewidth\":0,\"ticks\":\"\"},\"type\":\"mesh3d\"}],\"parcoords\":[{\"line\":{\"colorbar\":{\"outlinewidth\":0,\"ticks\":\"\"}},\"type\":\"parcoords\"}],\"pie\":[{\"automargin\":true,\"type\":\"pie\"}],\"scatter3d\":[{\"line\":{\"colorbar\":{\"outlinewidth\":0,\"ticks\":\"\"}},\"marker\":{\"colorbar\":{\"outlinewidth\":0,\"ticks\":\"\"}},\"type\":\"scatter3d\"}],\"scattercarpet\":[{\"marker\":{\"colorbar\":{\"outlinewidth\":0,\"ticks\":\"\"}},\"type\":\"scattercarpet\"}],\"scattergeo\":[{\"marker\":{\"colorbar\":{\"outlinewidth\":0,\"ticks\":\"\"}},\"type\":\"scattergeo\"}],\"scattergl\":[{\"marker\":{\"colorbar\":{\"outlinewidth\":0,\"ticks\":\"\"}},\"type\":\"scattergl\"}],\"scattermapbox\":[{\"marker\":{\"colorbar\":{\"outlinewidth\":0,\"ticks\":\"\"}},\"type\":\"scattermapbox\"}],\"scatterpolargl\":[{\"marker\":{\"colorbar\":{\"outlinewidth\":0,\"ticks\":\"\"}},\"type\":\"scatterpolargl\"}],\"scatterpolar\":[{\"marker\":{\"colorbar\":{\"outlinewidth\":0,\"ticks\":\"\"}},\"type\":\"scatterpolar\"}],\"scatter\":[{\"marker\":{\"colorbar\":{\"outlinewidth\":0,\"ticks\":\"\"}},\"type\":\"scatter\"}],\"scatterternary\":[{\"marker\":{\"colorbar\":{\"outlinewidth\":0,\"ticks\":\"\"}},\"type\":\"scatterternary\"}],\"surface\":[{\"colorbar\":{\"outlinewidth\":0,\"ticks\":\"\"},\"colorscale\":[[0.0,\"#0d0887\"],[0.1111111111111111,\"#46039f\"],[0.2222222222222222,\"#7201a8\"],[0.3333333333333333,\"#9c179e\"],[0.4444444444444444,\"#bd3786\"],[0.5555555555555556,\"#d8576b\"],[0.6666666666666666,\"#ed7953\"],[0.7777777777777778,\"#fb9f3a\"],[0.8888888888888888,\"#fdca26\"],[1.0,\"#f0f921\"]],\"type\":\"surface\"}],\"table\":[{\"cells\":{\"fill\":{\"color\":\"#EBF0F8\"},\"line\":{\"color\":\"white\"}},\"header\":{\"fill\":{\"color\":\"#C8D4E3\"},\"line\":{\"color\":\"white\"}},\"type\":\"table\"}]},\"layout\":{\"annotationdefaults\":{\"arrowcolor\":\"#2a3f5f\",\"arrowhead\":0,\"arrowwidth\":1},\"autotypenumbers\":\"strict\",\"coloraxis\":{\"colorbar\":{\"outlinewidth\":0,\"ticks\":\"\"}},\"colorscale\":{\"diverging\":[[0,\"#8e0152\"],[0.1,\"#c51b7d\"],[0.2,\"#de77ae\"],[0.3,\"#f1b6da\"],[0.4,\"#fde0ef\"],[0.5,\"#f7f7f7\"],[0.6,\"#e6f5d0\"],[0.7,\"#b8e186\"],[0.8,\"#7fbc41\"],[0.9,\"#4d9221\"],[1,\"#276419\"]],\"sequential\":[[0.0,\"#0d0887\"],[0.1111111111111111,\"#46039f\"],[0.2222222222222222,\"#7201a8\"],[0.3333333333333333,\"#9c179e\"],[0.4444444444444444,\"#bd3786\"],[0.5555555555555556,\"#d8576b\"],[0.6666666666666666,\"#ed7953\"],[0.7777777777777778,\"#fb9f3a\"],[0.8888888888888888,\"#fdca26\"],[1.0,\"#f0f921\"]],\"sequentialminus\":[[0.0,\"#0d0887\"],[0.1111111111111111,\"#46039f\"],[0.2222222222222222,\"#7201a8\"],[0.3333333333333333,\"#9c179e\"],[0.4444444444444444,\"#bd3786\"],[0.5555555555555556,\"#d8576b\"],[0.6666666666666666,\"#ed7953\"],[0.7777777777777778,\"#fb9f3a\"],[0.8888888888888888,\"#fdca26\"],[1.0,\"#f0f921\"]]},\"colorway\":[\"#636efa\",\"#EF553B\",\"#00cc96\",\"#ab63fa\",\"#FFA15A\",\"#19d3f3\",\"#FF6692\",\"#B6E880\",\"#FF97FF\",\"#FECB52\"],\"font\":{\"color\":\"#2a3f5f\"},\"geo\":{\"bgcolor\":\"white\",\"lakecolor\":\"white\",\"landcolor\":\"#E5ECF6\",\"showlakes\":true,\"showland\":true,\"subunitcolor\":\"white\"},\"hoverlabel\":{\"align\":\"left\"},\"hovermode\":\"closest\",\"mapbox\":{\"style\":\"light\"},\"paper_bgcolor\":\"white\",\"plot_bgcolor\":\"#E5ECF6\",\"polar\":{\"angularaxis\":{\"gridcolor\":\"white\",\"linecolor\":\"white\",\"ticks\":\"\"},\"bgcolor\":\"#E5ECF6\",\"radialaxis\":{\"gridcolor\":\"white\",\"linecolor\":\"white\",\"ticks\":\"\"}},\"scene\":{\"xaxis\":{\"backgroundcolor\":\"#E5ECF6\",\"gridcolor\":\"white\",\"gridwidth\":2,\"linecolor\":\"white\",\"showbackground\":true,\"ticks\":\"\",\"zerolinecolor\":\"white\"},\"yaxis\":{\"backgroundcolor\":\"#E5ECF6\",\"gridcolor\":\"white\",\"gridwidth\":2,\"linecolor\":\"white\",\"showbackground\":true,\"ticks\":\"\",\"zerolinecolor\":\"white\"},\"zaxis\":{\"backgroundcolor\":\"#E5ECF6\",\"gridcolor\":\"white\",\"gridwidth\":2,\"linecolor\":\"white\",\"showbackground\":true,\"ticks\":\"\",\"zerolinecolor\":\"white\"}},\"shapedefaults\":{\"line\":{\"color\":\"#2a3f5f\"}},\"ternary\":{\"aaxis\":{\"gridcolor\":\"white\",\"linecolor\":\"white\",\"ticks\":\"\"},\"baxis\":{\"gridcolor\":\"white\",\"linecolor\":\"white\",\"ticks\":\"\"},\"bgcolor\":\"#E5ECF6\",\"caxis\":{\"gridcolor\":\"white\",\"linecolor\":\"white\",\"ticks\":\"\"}},\"title\":{\"x\":0.05},\"xaxis\":{\"automargin\":true,\"gridcolor\":\"white\",\"linecolor\":\"white\",\"ticks\":\"\",\"title\":{\"standoff\":15},\"zerolinecolor\":\"white\",\"zerolinewidth\":2},\"yaxis\":{\"automargin\":true,\"gridcolor\":\"white\",\"linecolor\":\"white\",\"ticks\":\"\",\"title\":{\"standoff\":15},\"zerolinecolor\":\"white\",\"zerolinewidth\":2}}},\"title\":{\"font\":{\"color\":\"#4D5663\"}},\"xaxis\":{\"gridcolor\":\"#E1E5ED\",\"showgrid\":true,\"tickfont\":{\"color\":\"#4D5663\"},\"title\":{\"font\":{\"color\":\"#4D5663\"},\"text\":\"\"},\"zerolinecolor\":\"#E1E5ED\"},\"yaxis\":{\"gridcolor\":\"#E1E5ED\",\"showgrid\":true,\"tickfont\":{\"color\":\"#4D5663\"},\"title\":{\"font\":{\"color\":\"#4D5663\"},\"text\":\"\"},\"zerolinecolor\":\"#E1E5ED\"}},                        {\"showLink\": true, \"linkText\": \"Export to plot.ly\", \"plotlyServerURL\": \"https://plot.ly\", \"responsive\": true}                    ).then(function(){\n",
       "                            \n",
       "var gd = document.getElementById('1222cc40-7a02-4165-bbec-cfe395c15bc6');\n",
       "var x = new MutationObserver(function (mutations, observer) {{\n",
       "        var display = window.getComputedStyle(gd).display;\n",
       "        if (!display || display === 'none') {{\n",
       "            console.log([gd, 'removed!']);\n",
       "            Plotly.purge(gd);\n",
       "            observer.disconnect();\n",
       "        }}\n",
       "}});\n",
       "\n",
       "// Listen for the removal of the full notebook cells\n",
       "var notebookContainer = gd.closest('#notebook-container');\n",
       "if (notebookContainer) {{\n",
       "    x.observe(notebookContainer, {childList: true});\n",
       "}}\n",
       "\n",
       "// Listen for the clearing of the current output cell\n",
       "var outputEl = gd.closest('.output');\n",
       "if (outputEl) {{\n",
       "    x.observe(outputEl, {childList: true});\n",
       "}}\n",
       "\n",
       "                        })                };                });            </script>        </div>"
      ]
     },
     "metadata": {},
     "output_type": "display_data"
    }
   ],
   "source": [
    "df3.iplot(kind = 'surface', colorscale = 'rdylbu')"
   ]
  },
  {
   "cell_type": "code",
   "execution_count": 50,
   "metadata": {},
   "outputs": [
    {
     "data": {
      "application/vnd.plotly.v1+json": {
       "config": {
        "linkText": "Export to plot.ly",
        "plotlyServerURL": "https://plot.ly",
        "showLink": true
       },
       "data": [
        {
         "histfunc": "count",
         "histnorm": "",
         "marker": {
          "color": "rgba(255, 153, 51, 1.0)",
          "line": {
           "color": "#4D5663",
           "width": 1.3
          }
         },
         "name": "A",
         "nbinsx": 30,
         "opacity": 0.8,
         "orientation": "v",
         "type": "histogram",
         "x": [
          0.5743707795773935,
          0.7705130471123088,
          -1.1576336254777675,
          -0.8271035026452863,
          0.7425917665606087,
          -0.5394750578829458,
          0.5097192595359479,
          0.5432487081145778,
          -0.017946748455862877,
          0.19581581905947343,
          -1.437598250743915,
          2.218752439044428,
          1.3735761727944185,
          0.4110662686393877,
          -1.2762577922869192,
          1.052973143565982,
          1.4455702341590444,
          -0.3948389358880354,
          0.7885045139246953,
          -1.048373347634528,
          1.7428723409947369,
          0.5095898223142886,
          -0.40242338927638993,
          0.7895293899801388,
          -1.1684034943003128,
          -0.04221538280344773,
          0.008138638768228417,
          -0.4886444367606532,
          0.372696913991112,
          0.012203537415463457,
          1.3219400832950743,
          0.4426993414749163,
          0.6954759067905433,
          1.26173184725225,
          0.6031545937641348,
          0.8314386262457409,
          -1.9414446443208866,
          0.44729577583315866,
          -0.1519969814341827,
          1.4347967567547704,
          0.4231389277658858,
          -0.3464188794612597,
          -1.1560117204001936,
          -0.3371028319649269,
          0.9280885194745121,
          -0.33478270805751936,
          2.501829705680731,
          0.6545880808894924,
          -0.3253344899082747,
          1.0445833650807033,
          0.6378047610339664,
          -2.282408309947842,
          -0.9940910712619948,
          1.593352030366997,
          0.9796354322121585,
          -0.14555141905550475,
          1.938036037209001,
          0.4868173620202219,
          0.055745582967331925,
          0.8956207552321556,
          0.11210772463177247,
          -0.33800571080152314,
          -1.3960145152016388,
          2.1771435310890195,
          -0.21470397682343476,
          0.4522706930495062,
          0.9164948956794404,
          0.8686559643236597,
          -0.781959644239122,
          0.858071168774533,
          1.0682392817882957,
          -0.8544402572414872,
          -0.10900933498317333,
          -0.6310301425552112,
          -0.7648997140020927,
          1.150003153635081,
          1.0797631083191377,
          -0.45546653209706256,
          -0.04107528864510263,
          0.5455832227617043,
          -0.013623144913418072,
          0.8627690024800236,
          -0.444669171787977,
          -0.09778715447296922,
          -0.9840028543722682,
          -0.7197814724774163,
          0.5492328656564691,
          0.3865729478490786,
          0.9060294279206033,
          -0.4274656683036674,
          0.7060489877334019,
          -0.38594158839707665,
          0.5846720573475902,
          0.715150753017314,
          -0.5970239007455065,
          0.46585132559113374,
          -0.18843515452973725,
          0.9407973388139189,
          -1.2463834784309387,
          1.557031562545552
         ]
        }
       ],
       "layout": {
        "barmode": "overlay",
        "legend": {
         "bgcolor": "#F5F6F9",
         "font": {
          "color": "#4D5663"
         }
        },
        "paper_bgcolor": "#F5F6F9",
        "plot_bgcolor": "#F5F6F9",
        "template": {
         "data": {
          "bar": [
           {
            "error_x": {
             "color": "#2a3f5f"
            },
            "error_y": {
             "color": "#2a3f5f"
            },
            "marker": {
             "line": {
              "color": "#E5ECF6",
              "width": 0.5
             },
             "pattern": {
              "fillmode": "overlay",
              "size": 10,
              "solidity": 0.2
             }
            },
            "type": "bar"
           }
          ],
          "barpolar": [
           {
            "marker": {
             "line": {
              "color": "#E5ECF6",
              "width": 0.5
             },
             "pattern": {
              "fillmode": "overlay",
              "size": 10,
              "solidity": 0.2
             }
            },
            "type": "barpolar"
           }
          ],
          "carpet": [
           {
            "aaxis": {
             "endlinecolor": "#2a3f5f",
             "gridcolor": "white",
             "linecolor": "white",
             "minorgridcolor": "white",
             "startlinecolor": "#2a3f5f"
            },
            "baxis": {
             "endlinecolor": "#2a3f5f",
             "gridcolor": "white",
             "linecolor": "white",
             "minorgridcolor": "white",
             "startlinecolor": "#2a3f5f"
            },
            "type": "carpet"
           }
          ],
          "choropleth": [
           {
            "colorbar": {
             "outlinewidth": 0,
             "ticks": ""
            },
            "type": "choropleth"
           }
          ],
          "contour": [
           {
            "colorbar": {
             "outlinewidth": 0,
             "ticks": ""
            },
            "colorscale": [
             [
              0,
              "#0d0887"
             ],
             [
              0.1111111111111111,
              "#46039f"
             ],
             [
              0.2222222222222222,
              "#7201a8"
             ],
             [
              0.3333333333333333,
              "#9c179e"
             ],
             [
              0.4444444444444444,
              "#bd3786"
             ],
             [
              0.5555555555555556,
              "#d8576b"
             ],
             [
              0.6666666666666666,
              "#ed7953"
             ],
             [
              0.7777777777777778,
              "#fb9f3a"
             ],
             [
              0.8888888888888888,
              "#fdca26"
             ],
             [
              1,
              "#f0f921"
             ]
            ],
            "type": "contour"
           }
          ],
          "contourcarpet": [
           {
            "colorbar": {
             "outlinewidth": 0,
             "ticks": ""
            },
            "type": "contourcarpet"
           }
          ],
          "heatmap": [
           {
            "colorbar": {
             "outlinewidth": 0,
             "ticks": ""
            },
            "colorscale": [
             [
              0,
              "#0d0887"
             ],
             [
              0.1111111111111111,
              "#46039f"
             ],
             [
              0.2222222222222222,
              "#7201a8"
             ],
             [
              0.3333333333333333,
              "#9c179e"
             ],
             [
              0.4444444444444444,
              "#bd3786"
             ],
             [
              0.5555555555555556,
              "#d8576b"
             ],
             [
              0.6666666666666666,
              "#ed7953"
             ],
             [
              0.7777777777777778,
              "#fb9f3a"
             ],
             [
              0.8888888888888888,
              "#fdca26"
             ],
             [
              1,
              "#f0f921"
             ]
            ],
            "type": "heatmap"
           }
          ],
          "heatmapgl": [
           {
            "colorbar": {
             "outlinewidth": 0,
             "ticks": ""
            },
            "colorscale": [
             [
              0,
              "#0d0887"
             ],
             [
              0.1111111111111111,
              "#46039f"
             ],
             [
              0.2222222222222222,
              "#7201a8"
             ],
             [
              0.3333333333333333,
              "#9c179e"
             ],
             [
              0.4444444444444444,
              "#bd3786"
             ],
             [
              0.5555555555555556,
              "#d8576b"
             ],
             [
              0.6666666666666666,
              "#ed7953"
             ],
             [
              0.7777777777777778,
              "#fb9f3a"
             ],
             [
              0.8888888888888888,
              "#fdca26"
             ],
             [
              1,
              "#f0f921"
             ]
            ],
            "type": "heatmapgl"
           }
          ],
          "histogram": [
           {
            "marker": {
             "pattern": {
              "fillmode": "overlay",
              "size": 10,
              "solidity": 0.2
             }
            },
            "type": "histogram"
           }
          ],
          "histogram2d": [
           {
            "colorbar": {
             "outlinewidth": 0,
             "ticks": ""
            },
            "colorscale": [
             [
              0,
              "#0d0887"
             ],
             [
              0.1111111111111111,
              "#46039f"
             ],
             [
              0.2222222222222222,
              "#7201a8"
             ],
             [
              0.3333333333333333,
              "#9c179e"
             ],
             [
              0.4444444444444444,
              "#bd3786"
             ],
             [
              0.5555555555555556,
              "#d8576b"
             ],
             [
              0.6666666666666666,
              "#ed7953"
             ],
             [
              0.7777777777777778,
              "#fb9f3a"
             ],
             [
              0.8888888888888888,
              "#fdca26"
             ],
             [
              1,
              "#f0f921"
             ]
            ],
            "type": "histogram2d"
           }
          ],
          "histogram2dcontour": [
           {
            "colorbar": {
             "outlinewidth": 0,
             "ticks": ""
            },
            "colorscale": [
             [
              0,
              "#0d0887"
             ],
             [
              0.1111111111111111,
              "#46039f"
             ],
             [
              0.2222222222222222,
              "#7201a8"
             ],
             [
              0.3333333333333333,
              "#9c179e"
             ],
             [
              0.4444444444444444,
              "#bd3786"
             ],
             [
              0.5555555555555556,
              "#d8576b"
             ],
             [
              0.6666666666666666,
              "#ed7953"
             ],
             [
              0.7777777777777778,
              "#fb9f3a"
             ],
             [
              0.8888888888888888,
              "#fdca26"
             ],
             [
              1,
              "#f0f921"
             ]
            ],
            "type": "histogram2dcontour"
           }
          ],
          "mesh3d": [
           {
            "colorbar": {
             "outlinewidth": 0,
             "ticks": ""
            },
            "type": "mesh3d"
           }
          ],
          "parcoords": [
           {
            "line": {
             "colorbar": {
              "outlinewidth": 0,
              "ticks": ""
             }
            },
            "type": "parcoords"
           }
          ],
          "pie": [
           {
            "automargin": true,
            "type": "pie"
           }
          ],
          "scatter": [
           {
            "marker": {
             "colorbar": {
              "outlinewidth": 0,
              "ticks": ""
             }
            },
            "type": "scatter"
           }
          ],
          "scatter3d": [
           {
            "line": {
             "colorbar": {
              "outlinewidth": 0,
              "ticks": ""
             }
            },
            "marker": {
             "colorbar": {
              "outlinewidth": 0,
              "ticks": ""
             }
            },
            "type": "scatter3d"
           }
          ],
          "scattercarpet": [
           {
            "marker": {
             "colorbar": {
              "outlinewidth": 0,
              "ticks": ""
             }
            },
            "type": "scattercarpet"
           }
          ],
          "scattergeo": [
           {
            "marker": {
             "colorbar": {
              "outlinewidth": 0,
              "ticks": ""
             }
            },
            "type": "scattergeo"
           }
          ],
          "scattergl": [
           {
            "marker": {
             "colorbar": {
              "outlinewidth": 0,
              "ticks": ""
             }
            },
            "type": "scattergl"
           }
          ],
          "scattermapbox": [
           {
            "marker": {
             "colorbar": {
              "outlinewidth": 0,
              "ticks": ""
             }
            },
            "type": "scattermapbox"
           }
          ],
          "scatterpolar": [
           {
            "marker": {
             "colorbar": {
              "outlinewidth": 0,
              "ticks": ""
             }
            },
            "type": "scatterpolar"
           }
          ],
          "scatterpolargl": [
           {
            "marker": {
             "colorbar": {
              "outlinewidth": 0,
              "ticks": ""
             }
            },
            "type": "scatterpolargl"
           }
          ],
          "scatterternary": [
           {
            "marker": {
             "colorbar": {
              "outlinewidth": 0,
              "ticks": ""
             }
            },
            "type": "scatterternary"
           }
          ],
          "surface": [
           {
            "colorbar": {
             "outlinewidth": 0,
             "ticks": ""
            },
            "colorscale": [
             [
              0,
              "#0d0887"
             ],
             [
              0.1111111111111111,
              "#46039f"
             ],
             [
              0.2222222222222222,
              "#7201a8"
             ],
             [
              0.3333333333333333,
              "#9c179e"
             ],
             [
              0.4444444444444444,
              "#bd3786"
             ],
             [
              0.5555555555555556,
              "#d8576b"
             ],
             [
              0.6666666666666666,
              "#ed7953"
             ],
             [
              0.7777777777777778,
              "#fb9f3a"
             ],
             [
              0.8888888888888888,
              "#fdca26"
             ],
             [
              1,
              "#f0f921"
             ]
            ],
            "type": "surface"
           }
          ],
          "table": [
           {
            "cells": {
             "fill": {
              "color": "#EBF0F8"
             },
             "line": {
              "color": "white"
             }
            },
            "header": {
             "fill": {
              "color": "#C8D4E3"
             },
             "line": {
              "color": "white"
             }
            },
            "type": "table"
           }
          ]
         },
         "layout": {
          "annotationdefaults": {
           "arrowcolor": "#2a3f5f",
           "arrowhead": 0,
           "arrowwidth": 1
          },
          "autotypenumbers": "strict",
          "coloraxis": {
           "colorbar": {
            "outlinewidth": 0,
            "ticks": ""
           }
          },
          "colorscale": {
           "diverging": [
            [
             0,
             "#8e0152"
            ],
            [
             0.1,
             "#c51b7d"
            ],
            [
             0.2,
             "#de77ae"
            ],
            [
             0.3,
             "#f1b6da"
            ],
            [
             0.4,
             "#fde0ef"
            ],
            [
             0.5,
             "#f7f7f7"
            ],
            [
             0.6,
             "#e6f5d0"
            ],
            [
             0.7,
             "#b8e186"
            ],
            [
             0.8,
             "#7fbc41"
            ],
            [
             0.9,
             "#4d9221"
            ],
            [
             1,
             "#276419"
            ]
           ],
           "sequential": [
            [
             0,
             "#0d0887"
            ],
            [
             0.1111111111111111,
             "#46039f"
            ],
            [
             0.2222222222222222,
             "#7201a8"
            ],
            [
             0.3333333333333333,
             "#9c179e"
            ],
            [
             0.4444444444444444,
             "#bd3786"
            ],
            [
             0.5555555555555556,
             "#d8576b"
            ],
            [
             0.6666666666666666,
             "#ed7953"
            ],
            [
             0.7777777777777778,
             "#fb9f3a"
            ],
            [
             0.8888888888888888,
             "#fdca26"
            ],
            [
             1,
             "#f0f921"
            ]
           ],
           "sequentialminus": [
            [
             0,
             "#0d0887"
            ],
            [
             0.1111111111111111,
             "#46039f"
            ],
            [
             0.2222222222222222,
             "#7201a8"
            ],
            [
             0.3333333333333333,
             "#9c179e"
            ],
            [
             0.4444444444444444,
             "#bd3786"
            ],
            [
             0.5555555555555556,
             "#d8576b"
            ],
            [
             0.6666666666666666,
             "#ed7953"
            ],
            [
             0.7777777777777778,
             "#fb9f3a"
            ],
            [
             0.8888888888888888,
             "#fdca26"
            ],
            [
             1,
             "#f0f921"
            ]
           ]
          },
          "colorway": [
           "#636efa",
           "#EF553B",
           "#00cc96",
           "#ab63fa",
           "#FFA15A",
           "#19d3f3",
           "#FF6692",
           "#B6E880",
           "#FF97FF",
           "#FECB52"
          ],
          "font": {
           "color": "#2a3f5f"
          },
          "geo": {
           "bgcolor": "white",
           "lakecolor": "white",
           "landcolor": "#E5ECF6",
           "showlakes": true,
           "showland": true,
           "subunitcolor": "white"
          },
          "hoverlabel": {
           "align": "left"
          },
          "hovermode": "closest",
          "mapbox": {
           "style": "light"
          },
          "paper_bgcolor": "white",
          "plot_bgcolor": "#E5ECF6",
          "polar": {
           "angularaxis": {
            "gridcolor": "white",
            "linecolor": "white",
            "ticks": ""
           },
           "bgcolor": "#E5ECF6",
           "radialaxis": {
            "gridcolor": "white",
            "linecolor": "white",
            "ticks": ""
           }
          },
          "scene": {
           "xaxis": {
            "backgroundcolor": "#E5ECF6",
            "gridcolor": "white",
            "gridwidth": 2,
            "linecolor": "white",
            "showbackground": true,
            "ticks": "",
            "zerolinecolor": "white"
           },
           "yaxis": {
            "backgroundcolor": "#E5ECF6",
            "gridcolor": "white",
            "gridwidth": 2,
            "linecolor": "white",
            "showbackground": true,
            "ticks": "",
            "zerolinecolor": "white"
           },
           "zaxis": {
            "backgroundcolor": "#E5ECF6",
            "gridcolor": "white",
            "gridwidth": 2,
            "linecolor": "white",
            "showbackground": true,
            "ticks": "",
            "zerolinecolor": "white"
           }
          },
          "shapedefaults": {
           "line": {
            "color": "#2a3f5f"
           }
          },
          "ternary": {
           "aaxis": {
            "gridcolor": "white",
            "linecolor": "white",
            "ticks": ""
           },
           "baxis": {
            "gridcolor": "white",
            "linecolor": "white",
            "ticks": ""
           },
           "bgcolor": "#E5ECF6",
           "caxis": {
            "gridcolor": "white",
            "linecolor": "white",
            "ticks": ""
           }
          },
          "title": {
           "x": 0.05
          },
          "xaxis": {
           "automargin": true,
           "gridcolor": "white",
           "linecolor": "white",
           "ticks": "",
           "title": {
            "standoff": 15
           },
           "zerolinecolor": "white",
           "zerolinewidth": 2
          },
          "yaxis": {
           "automargin": true,
           "gridcolor": "white",
           "linecolor": "white",
           "ticks": "",
           "title": {
            "standoff": 15
           },
           "zerolinecolor": "white",
           "zerolinewidth": 2
          }
         }
        },
        "title": {
         "font": {
          "color": "#4D5663"
         }
        },
        "xaxis": {
         "gridcolor": "#E1E5ED",
         "showgrid": true,
         "tickfont": {
          "color": "#4D5663"
         },
         "title": {
          "font": {
           "color": "#4D5663"
          },
          "text": ""
         },
         "zerolinecolor": "#E1E5ED"
        },
        "yaxis": {
         "gridcolor": "#E1E5ED",
         "showgrid": true,
         "tickfont": {
          "color": "#4D5663"
         },
         "title": {
          "font": {
           "color": "#4D5663"
          },
          "text": ""
         },
         "zerolinecolor": "#E1E5ED"
        }
       }
      },
      "text/html": [
       "<div>                            <div id=\"afad3f3c-1e32-4ebf-8c43-1ba3fbb5c16a\" class=\"plotly-graph-div\" style=\"height:525px; width:100%;\"></div>            <script type=\"text/javascript\">                require([\"plotly\"], function(Plotly) {                    window.PLOTLYENV=window.PLOTLYENV || {};\n",
       "                    window.PLOTLYENV.BASE_URL='https://plot.ly';                                    if (document.getElementById(\"afad3f3c-1e32-4ebf-8c43-1ba3fbb5c16a\")) {                    Plotly.newPlot(                        \"afad3f3c-1e32-4ebf-8c43-1ba3fbb5c16a\",                        [{\"histfunc\":\"count\",\"histnorm\":\"\",\"marker\":{\"color\":\"rgba(255, 153, 51, 1.0)\",\"line\":{\"color\":\"#4D5663\",\"width\":1.3}},\"name\":\"A\",\"nbinsx\":30,\"opacity\":0.8,\"orientation\":\"v\",\"x\":[0.5743707795773935,0.7705130471123088,-1.1576336254777675,-0.8271035026452863,0.7425917665606087,-0.5394750578829458,0.5097192595359479,0.5432487081145778,-0.017946748455862877,0.19581581905947343,-1.437598250743915,2.218752439044428,1.3735761727944185,0.4110662686393877,-1.2762577922869192,1.052973143565982,1.4455702341590444,-0.3948389358880354,0.7885045139246953,-1.048373347634528,1.7428723409947369,0.5095898223142886,-0.40242338927638993,0.7895293899801388,-1.1684034943003128,-0.04221538280344773,0.008138638768228417,-0.4886444367606532,0.372696913991112,0.012203537415463457,1.3219400832950743,0.4426993414749163,0.6954759067905433,1.26173184725225,0.6031545937641348,0.8314386262457409,-1.9414446443208866,0.44729577583315866,-0.1519969814341827,1.4347967567547704,0.4231389277658858,-0.3464188794612597,-1.1560117204001936,-0.3371028319649269,0.9280885194745121,-0.33478270805751936,2.501829705680731,0.6545880808894924,-0.3253344899082747,1.0445833650807033,0.6378047610339664,-2.282408309947842,-0.9940910712619948,1.593352030366997,0.9796354322121585,-0.14555141905550475,1.938036037209001,0.4868173620202219,0.055745582967331925,0.8956207552321556,0.11210772463177247,-0.33800571080152314,-1.3960145152016388,2.1771435310890195,-0.21470397682343476,0.4522706930495062,0.9164948956794404,0.8686559643236597,-0.781959644239122,0.858071168774533,1.0682392817882957,-0.8544402572414872,-0.10900933498317333,-0.6310301425552112,-0.7648997140020927,1.150003153635081,1.0797631083191377,-0.45546653209706256,-0.04107528864510263,0.5455832227617043,-0.013623144913418072,0.8627690024800236,-0.444669171787977,-0.09778715447296922,-0.9840028543722682,-0.7197814724774163,0.5492328656564691,0.3865729478490786,0.9060294279206033,-0.4274656683036674,0.7060489877334019,-0.38594158839707665,0.5846720573475902,0.715150753017314,-0.5970239007455065,0.46585132559113374,-0.18843515452973725,0.9407973388139189,-1.2463834784309387,1.557031562545552],\"type\":\"histogram\"}],                        {\"barmode\":\"overlay\",\"legend\":{\"bgcolor\":\"#F5F6F9\",\"font\":{\"color\":\"#4D5663\"}},\"paper_bgcolor\":\"#F5F6F9\",\"plot_bgcolor\":\"#F5F6F9\",\"template\":{\"data\":{\"barpolar\":[{\"marker\":{\"line\":{\"color\":\"#E5ECF6\",\"width\":0.5},\"pattern\":{\"fillmode\":\"overlay\",\"size\":10,\"solidity\":0.2}},\"type\":\"barpolar\"}],\"bar\":[{\"error_x\":{\"color\":\"#2a3f5f\"},\"error_y\":{\"color\":\"#2a3f5f\"},\"marker\":{\"line\":{\"color\":\"#E5ECF6\",\"width\":0.5},\"pattern\":{\"fillmode\":\"overlay\",\"size\":10,\"solidity\":0.2}},\"type\":\"bar\"}],\"carpet\":[{\"aaxis\":{\"endlinecolor\":\"#2a3f5f\",\"gridcolor\":\"white\",\"linecolor\":\"white\",\"minorgridcolor\":\"white\",\"startlinecolor\":\"#2a3f5f\"},\"baxis\":{\"endlinecolor\":\"#2a3f5f\",\"gridcolor\":\"white\",\"linecolor\":\"white\",\"minorgridcolor\":\"white\",\"startlinecolor\":\"#2a3f5f\"},\"type\":\"carpet\"}],\"choropleth\":[{\"colorbar\":{\"outlinewidth\":0,\"ticks\":\"\"},\"type\":\"choropleth\"}],\"contourcarpet\":[{\"colorbar\":{\"outlinewidth\":0,\"ticks\":\"\"},\"type\":\"contourcarpet\"}],\"contour\":[{\"colorbar\":{\"outlinewidth\":0,\"ticks\":\"\"},\"colorscale\":[[0.0,\"#0d0887\"],[0.1111111111111111,\"#46039f\"],[0.2222222222222222,\"#7201a8\"],[0.3333333333333333,\"#9c179e\"],[0.4444444444444444,\"#bd3786\"],[0.5555555555555556,\"#d8576b\"],[0.6666666666666666,\"#ed7953\"],[0.7777777777777778,\"#fb9f3a\"],[0.8888888888888888,\"#fdca26\"],[1.0,\"#f0f921\"]],\"type\":\"contour\"}],\"heatmapgl\":[{\"colorbar\":{\"outlinewidth\":0,\"ticks\":\"\"},\"colorscale\":[[0.0,\"#0d0887\"],[0.1111111111111111,\"#46039f\"],[0.2222222222222222,\"#7201a8\"],[0.3333333333333333,\"#9c179e\"],[0.4444444444444444,\"#bd3786\"],[0.5555555555555556,\"#d8576b\"],[0.6666666666666666,\"#ed7953\"],[0.7777777777777778,\"#fb9f3a\"],[0.8888888888888888,\"#fdca26\"],[1.0,\"#f0f921\"]],\"type\":\"heatmapgl\"}],\"heatmap\":[{\"colorbar\":{\"outlinewidth\":0,\"ticks\":\"\"},\"colorscale\":[[0.0,\"#0d0887\"],[0.1111111111111111,\"#46039f\"],[0.2222222222222222,\"#7201a8\"],[0.3333333333333333,\"#9c179e\"],[0.4444444444444444,\"#bd3786\"],[0.5555555555555556,\"#d8576b\"],[0.6666666666666666,\"#ed7953\"],[0.7777777777777778,\"#fb9f3a\"],[0.8888888888888888,\"#fdca26\"],[1.0,\"#f0f921\"]],\"type\":\"heatmap\"}],\"histogram2dcontour\":[{\"colorbar\":{\"outlinewidth\":0,\"ticks\":\"\"},\"colorscale\":[[0.0,\"#0d0887\"],[0.1111111111111111,\"#46039f\"],[0.2222222222222222,\"#7201a8\"],[0.3333333333333333,\"#9c179e\"],[0.4444444444444444,\"#bd3786\"],[0.5555555555555556,\"#d8576b\"],[0.6666666666666666,\"#ed7953\"],[0.7777777777777778,\"#fb9f3a\"],[0.8888888888888888,\"#fdca26\"],[1.0,\"#f0f921\"]],\"type\":\"histogram2dcontour\"}],\"histogram2d\":[{\"colorbar\":{\"outlinewidth\":0,\"ticks\":\"\"},\"colorscale\":[[0.0,\"#0d0887\"],[0.1111111111111111,\"#46039f\"],[0.2222222222222222,\"#7201a8\"],[0.3333333333333333,\"#9c179e\"],[0.4444444444444444,\"#bd3786\"],[0.5555555555555556,\"#d8576b\"],[0.6666666666666666,\"#ed7953\"],[0.7777777777777778,\"#fb9f3a\"],[0.8888888888888888,\"#fdca26\"],[1.0,\"#f0f921\"]],\"type\":\"histogram2d\"}],\"histogram\":[{\"marker\":{\"pattern\":{\"fillmode\":\"overlay\",\"size\":10,\"solidity\":0.2}},\"type\":\"histogram\"}],\"mesh3d\":[{\"colorbar\":{\"outlinewidth\":0,\"ticks\":\"\"},\"type\":\"mesh3d\"}],\"parcoords\":[{\"line\":{\"colorbar\":{\"outlinewidth\":0,\"ticks\":\"\"}},\"type\":\"parcoords\"}],\"pie\":[{\"automargin\":true,\"type\":\"pie\"}],\"scatter3d\":[{\"line\":{\"colorbar\":{\"outlinewidth\":0,\"ticks\":\"\"}},\"marker\":{\"colorbar\":{\"outlinewidth\":0,\"ticks\":\"\"}},\"type\":\"scatter3d\"}],\"scattercarpet\":[{\"marker\":{\"colorbar\":{\"outlinewidth\":0,\"ticks\":\"\"}},\"type\":\"scattercarpet\"}],\"scattergeo\":[{\"marker\":{\"colorbar\":{\"outlinewidth\":0,\"ticks\":\"\"}},\"type\":\"scattergeo\"}],\"scattergl\":[{\"marker\":{\"colorbar\":{\"outlinewidth\":0,\"ticks\":\"\"}},\"type\":\"scattergl\"}],\"scattermapbox\":[{\"marker\":{\"colorbar\":{\"outlinewidth\":0,\"ticks\":\"\"}},\"type\":\"scattermapbox\"}],\"scatterpolargl\":[{\"marker\":{\"colorbar\":{\"outlinewidth\":0,\"ticks\":\"\"}},\"type\":\"scatterpolargl\"}],\"scatterpolar\":[{\"marker\":{\"colorbar\":{\"outlinewidth\":0,\"ticks\":\"\"}},\"type\":\"scatterpolar\"}],\"scatter\":[{\"marker\":{\"colorbar\":{\"outlinewidth\":0,\"ticks\":\"\"}},\"type\":\"scatter\"}],\"scatterternary\":[{\"marker\":{\"colorbar\":{\"outlinewidth\":0,\"ticks\":\"\"}},\"type\":\"scatterternary\"}],\"surface\":[{\"colorbar\":{\"outlinewidth\":0,\"ticks\":\"\"},\"colorscale\":[[0.0,\"#0d0887\"],[0.1111111111111111,\"#46039f\"],[0.2222222222222222,\"#7201a8\"],[0.3333333333333333,\"#9c179e\"],[0.4444444444444444,\"#bd3786\"],[0.5555555555555556,\"#d8576b\"],[0.6666666666666666,\"#ed7953\"],[0.7777777777777778,\"#fb9f3a\"],[0.8888888888888888,\"#fdca26\"],[1.0,\"#f0f921\"]],\"type\":\"surface\"}],\"table\":[{\"cells\":{\"fill\":{\"color\":\"#EBF0F8\"},\"line\":{\"color\":\"white\"}},\"header\":{\"fill\":{\"color\":\"#C8D4E3\"},\"line\":{\"color\":\"white\"}},\"type\":\"table\"}]},\"layout\":{\"annotationdefaults\":{\"arrowcolor\":\"#2a3f5f\",\"arrowhead\":0,\"arrowwidth\":1},\"autotypenumbers\":\"strict\",\"coloraxis\":{\"colorbar\":{\"outlinewidth\":0,\"ticks\":\"\"}},\"colorscale\":{\"diverging\":[[0,\"#8e0152\"],[0.1,\"#c51b7d\"],[0.2,\"#de77ae\"],[0.3,\"#f1b6da\"],[0.4,\"#fde0ef\"],[0.5,\"#f7f7f7\"],[0.6,\"#e6f5d0\"],[0.7,\"#b8e186\"],[0.8,\"#7fbc41\"],[0.9,\"#4d9221\"],[1,\"#276419\"]],\"sequential\":[[0.0,\"#0d0887\"],[0.1111111111111111,\"#46039f\"],[0.2222222222222222,\"#7201a8\"],[0.3333333333333333,\"#9c179e\"],[0.4444444444444444,\"#bd3786\"],[0.5555555555555556,\"#d8576b\"],[0.6666666666666666,\"#ed7953\"],[0.7777777777777778,\"#fb9f3a\"],[0.8888888888888888,\"#fdca26\"],[1.0,\"#f0f921\"]],\"sequentialminus\":[[0.0,\"#0d0887\"],[0.1111111111111111,\"#46039f\"],[0.2222222222222222,\"#7201a8\"],[0.3333333333333333,\"#9c179e\"],[0.4444444444444444,\"#bd3786\"],[0.5555555555555556,\"#d8576b\"],[0.6666666666666666,\"#ed7953\"],[0.7777777777777778,\"#fb9f3a\"],[0.8888888888888888,\"#fdca26\"],[1.0,\"#f0f921\"]]},\"colorway\":[\"#636efa\",\"#EF553B\",\"#00cc96\",\"#ab63fa\",\"#FFA15A\",\"#19d3f3\",\"#FF6692\",\"#B6E880\",\"#FF97FF\",\"#FECB52\"],\"font\":{\"color\":\"#2a3f5f\"},\"geo\":{\"bgcolor\":\"white\",\"lakecolor\":\"white\",\"landcolor\":\"#E5ECF6\",\"showlakes\":true,\"showland\":true,\"subunitcolor\":\"white\"},\"hoverlabel\":{\"align\":\"left\"},\"hovermode\":\"closest\",\"mapbox\":{\"style\":\"light\"},\"paper_bgcolor\":\"white\",\"plot_bgcolor\":\"#E5ECF6\",\"polar\":{\"angularaxis\":{\"gridcolor\":\"white\",\"linecolor\":\"white\",\"ticks\":\"\"},\"bgcolor\":\"#E5ECF6\",\"radialaxis\":{\"gridcolor\":\"white\",\"linecolor\":\"white\",\"ticks\":\"\"}},\"scene\":{\"xaxis\":{\"backgroundcolor\":\"#E5ECF6\",\"gridcolor\":\"white\",\"gridwidth\":2,\"linecolor\":\"white\",\"showbackground\":true,\"ticks\":\"\",\"zerolinecolor\":\"white\"},\"yaxis\":{\"backgroundcolor\":\"#E5ECF6\",\"gridcolor\":\"white\",\"gridwidth\":2,\"linecolor\":\"white\",\"showbackground\":true,\"ticks\":\"\",\"zerolinecolor\":\"white\"},\"zaxis\":{\"backgroundcolor\":\"#E5ECF6\",\"gridcolor\":\"white\",\"gridwidth\":2,\"linecolor\":\"white\",\"showbackground\":true,\"ticks\":\"\",\"zerolinecolor\":\"white\"}},\"shapedefaults\":{\"line\":{\"color\":\"#2a3f5f\"}},\"ternary\":{\"aaxis\":{\"gridcolor\":\"white\",\"linecolor\":\"white\",\"ticks\":\"\"},\"baxis\":{\"gridcolor\":\"white\",\"linecolor\":\"white\",\"ticks\":\"\"},\"bgcolor\":\"#E5ECF6\",\"caxis\":{\"gridcolor\":\"white\",\"linecolor\":\"white\",\"ticks\":\"\"}},\"title\":{\"x\":0.05},\"xaxis\":{\"automargin\":true,\"gridcolor\":\"white\",\"linecolor\":\"white\",\"ticks\":\"\",\"title\":{\"standoff\":15},\"zerolinecolor\":\"white\",\"zerolinewidth\":2},\"yaxis\":{\"automargin\":true,\"gridcolor\":\"white\",\"linecolor\":\"white\",\"ticks\":\"\",\"title\":{\"standoff\":15},\"zerolinecolor\":\"white\",\"zerolinewidth\":2}}},\"title\":{\"font\":{\"color\":\"#4D5663\"}},\"xaxis\":{\"gridcolor\":\"#E1E5ED\",\"showgrid\":true,\"tickfont\":{\"color\":\"#4D5663\"},\"title\":{\"font\":{\"color\":\"#4D5663\"},\"text\":\"\"},\"zerolinecolor\":\"#E1E5ED\"},\"yaxis\":{\"gridcolor\":\"#E1E5ED\",\"showgrid\":true,\"tickfont\":{\"color\":\"#4D5663\"},\"title\":{\"font\":{\"color\":\"#4D5663\"},\"text\":\"\"},\"zerolinecolor\":\"#E1E5ED\"}},                        {\"showLink\": true, \"linkText\": \"Export to plot.ly\", \"plotlyServerURL\": \"https://plot.ly\", \"responsive\": true}                    ).then(function(){\n",
       "                            \n",
       "var gd = document.getElementById('afad3f3c-1e32-4ebf-8c43-1ba3fbb5c16a');\n",
       "var x = new MutationObserver(function (mutations, observer) {{\n",
       "        var display = window.getComputedStyle(gd).display;\n",
       "        if (!display || display === 'none') {{\n",
       "            console.log([gd, 'removed!']);\n",
       "            Plotly.purge(gd);\n",
       "            observer.disconnect();\n",
       "        }}\n",
       "}});\n",
       "\n",
       "// Listen for the removal of the full notebook cells\n",
       "var notebookContainer = gd.closest('#notebook-container');\n",
       "if (notebookContainer) {{\n",
       "    x.observe(notebookContainer, {childList: true});\n",
       "}}\n",
       "\n",
       "// Listen for the clearing of the current output cell\n",
       "var outputEl = gd.closest('.output');\n",
       "if (outputEl) {{\n",
       "    x.observe(outputEl, {childList: true});\n",
       "}}\n",
       "\n",
       "                        })                };                });            </script>        </div>"
      ]
     },
     "metadata": {},
     "output_type": "display_data"
    }
   ],
   "source": [
    "df1[\"A\"].iplot(kind = 'hist', bins = 30)"
   ]
  },
  {
   "cell_type": "code",
   "execution_count": 52,
   "metadata": {},
   "outputs": [
    {
     "name": "stderr",
     "output_type": "stream",
     "text": [
      "c:\\Users\\My PC\\anaconda3\\lib\\site-packages\\cufflinks\\plotlytools.py:849: FutureWarning:\n",
      "\n",
      "The pandas.np module is deprecated and will be removed from pandas in a future version. Import numpy directly instead.\n",
      "\n",
      "c:\\Users\\My PC\\anaconda3\\lib\\site-packages\\cufflinks\\plotlytools.py:850: FutureWarning:\n",
      "\n",
      "The pandas.np module is deprecated and will be removed from pandas in a future version. Import numpy directly instead.\n",
      "\n"
     ]
    },
    {
     "data": {
      "application/vnd.plotly.v1+json": {
       "config": {
        "linkText": "Export to plot.ly",
        "plotlyServerURL": "https://plot.ly",
        "showLink": true
       },
       "data": [
        {
         "line": {
          "color": "rgba(255, 153, 51, 1.0)",
          "dash": "solid",
          "shape": "linear",
          "width": 1.3
         },
         "mode": "lines",
         "name": "A",
         "text": "",
         "type": "scatter",
         "x": [
          0,
          1,
          2,
          3,
          4,
          5,
          6,
          7,
          8,
          9,
          10,
          11,
          12,
          13,
          14,
          15,
          16,
          17,
          18,
          19,
          20,
          21,
          22,
          23,
          24,
          25,
          26,
          27,
          28,
          29,
          30,
          31,
          32,
          33,
          34,
          35,
          36,
          37,
          38,
          39,
          40,
          41,
          42,
          43,
          44,
          45,
          46,
          47,
          48,
          49,
          50,
          51,
          52,
          53,
          54,
          55,
          56,
          57,
          58,
          59,
          60,
          61,
          62,
          63,
          64,
          65,
          66,
          67,
          68,
          69,
          70,
          71,
          72,
          73,
          74,
          75,
          76,
          77,
          78,
          79,
          80,
          81,
          82,
          83,
          84,
          85,
          86,
          87,
          88,
          89,
          90,
          91,
          92,
          93,
          94,
          95,
          96,
          97,
          98,
          99
         ],
         "y": [
          0.5743707795773935,
          0.7705130471123088,
          -1.1576336254777675,
          -0.8271035026452863,
          0.7425917665606087,
          -0.5394750578829458,
          0.5097192595359479,
          0.5432487081145778,
          -0.017946748455862877,
          0.19581581905947343,
          -1.437598250743915,
          2.218752439044428,
          1.3735761727944185,
          0.4110662686393877,
          -1.2762577922869192,
          1.052973143565982,
          1.4455702341590444,
          -0.3948389358880354,
          0.7885045139246953,
          -1.048373347634528,
          1.7428723409947369,
          0.5095898223142886,
          -0.40242338927638993,
          0.7895293899801388,
          -1.1684034943003128,
          -0.04221538280344773,
          0.008138638768228417,
          -0.4886444367606532,
          0.372696913991112,
          0.012203537415463457,
          1.3219400832950743,
          0.4426993414749163,
          0.6954759067905433,
          1.26173184725225,
          0.6031545937641348,
          0.8314386262457409,
          -1.9414446443208866,
          0.44729577583315866,
          -0.1519969814341827,
          1.4347967567547704,
          0.4231389277658858,
          -0.3464188794612597,
          -1.1560117204001936,
          -0.3371028319649269,
          0.9280885194745121,
          -0.33478270805751936,
          2.501829705680731,
          0.6545880808894924,
          -0.3253344899082747,
          1.0445833650807033,
          0.6378047610339664,
          -2.282408309947842,
          -0.9940910712619948,
          1.593352030366997,
          0.9796354322121585,
          -0.14555141905550475,
          1.938036037209001,
          0.4868173620202219,
          0.055745582967331925,
          0.8956207552321556,
          0.11210772463177247,
          -0.33800571080152314,
          -1.3960145152016388,
          2.1771435310890195,
          -0.21470397682343476,
          0.4522706930495062,
          0.9164948956794404,
          0.8686559643236597,
          -0.781959644239122,
          0.858071168774533,
          1.0682392817882957,
          -0.8544402572414872,
          -0.10900933498317333,
          -0.6310301425552112,
          -0.7648997140020927,
          1.150003153635081,
          1.0797631083191377,
          -0.45546653209706256,
          -0.04107528864510263,
          0.5455832227617043,
          -0.013623144913418072,
          0.8627690024800236,
          -0.444669171787977,
          -0.09778715447296922,
          -0.9840028543722682,
          -0.7197814724774163,
          0.5492328656564691,
          0.3865729478490786,
          0.9060294279206033,
          -0.4274656683036674,
          0.7060489877334019,
          -0.38594158839707665,
          0.5846720573475902,
          0.715150753017314,
          -0.5970239007455065,
          0.46585132559113374,
          -0.18843515452973725,
          0.9407973388139189,
          -1.2463834784309387,
          1.557031562545552
         ]
        },
        {
         "line": {
          "color": "rgba(55, 128, 191, 1.0)",
          "dash": "solid",
          "shape": "linear",
          "width": 1.3
         },
         "mode": "lines",
         "name": "B",
         "text": "",
         "type": "scatter",
         "x": [
          0,
          1,
          2,
          3,
          4,
          5,
          6,
          7,
          8,
          9,
          10,
          11,
          12,
          13,
          14,
          15,
          16,
          17,
          18,
          19,
          20,
          21,
          22,
          23,
          24,
          25,
          26,
          27,
          28,
          29,
          30,
          31,
          32,
          33,
          34,
          35,
          36,
          37,
          38,
          39,
          40,
          41,
          42,
          43,
          44,
          45,
          46,
          47,
          48,
          49,
          50,
          51,
          52,
          53,
          54,
          55,
          56,
          57,
          58,
          59,
          60,
          61,
          62,
          63,
          64,
          65,
          66,
          67,
          68,
          69,
          70,
          71,
          72,
          73,
          74,
          75,
          76,
          77,
          78,
          79,
          80,
          81,
          82,
          83,
          84,
          85,
          86,
          87,
          88,
          89,
          90,
          91,
          92,
          93,
          94,
          95,
          96,
          97,
          98,
          99
         ],
         "y": [
          0.8016641080924541,
          1.0077391146377723,
          0.27651367544996946,
          -2.1570213570008927,
          -1.1235011021677124,
          0.17510373317808275,
          0.5739852492901831,
          0.08400858387755353,
          -1.7399189233318215,
          1.373956525773911,
          -0.6055411343301496,
          0.07895635184420437,
          1.9396245569934054,
          0.21052865131167792,
          0.8041135995879579,
          1.2067828700888212,
          -1.2391501426725224,
          -0.602365415491375,
          -1.2116734000900296,
          -0.5657984205463799,
          -0.30418317029567005,
          -1.3047874224393003,
          -1.9023818194008624,
          1.2952595792792636,
          0.10138680285600672,
          0.0223449098802518,
          0.25608582492185883,
          -0.8817831404171913,
          0.364858694437755,
          -1.1104434289726777,
          0.3175327732447648,
          0.4440791680629179,
          0.295798249153598,
          0.17144218397646702,
          -0.5670235515093524,
          1.5675401024850084,
          -0.3154757966663135,
          -0.9569793691086736,
          -0.08939617748473268,
          -1.4138336943563812,
          -0.715750128405275,
          0.26616513383692075,
          -0.7576063158477336,
          1.0044504867732704,
          -0.8528844132117523,
          -1.3137522421554162,
          -0.6297247932341066,
          0.6641310484582209,
          0.6842832590670178,
          -1.097732442511773,
          0.7695175485075942,
          -0.8004055106036331,
          -1.2334254972160166,
          -1.3461652044016847,
          -0.44328078003252724,
          0.12362524915851832,
          -0.703900374883289,
          1.5964916213576874,
          -0.7175995763374521,
          0.7303661705616081,
          1.6433808900162372,
          -0.6732022934593243,
          0.39075007107051796,
          0.7030593293505272,
          -0.36446992902141634,
          -0.8641351675878642,
          -0.8600094939920322,
          -0.7513060798787412,
          2.286811969914792,
          -0.46975880928066727,
          -1.5697616694093142,
          -0.2921380197460708,
          0.727262007763347,
          0.4960816199155096,
          0.30461017406051066,
          -0.44238754745680947,
          -0.019873063964267003,
          -0.9791775276148362,
          0.8333268577557206,
          -0.5577902793680444,
          -0.7902334272887995,
          -1.409128891545519,
          -0.49896367670798036,
          -1.098227923147296,
          -0.16852914853637593,
          0.37570018520333304,
          -2.161831239989233,
          -0.7378821662771905,
          -0.06571168846656328,
          0.47600300766597164,
          0.9217086796711035,
          -0.5276134738110552,
          0.19389281217411172,
          -0.1976527698633932,
          -1.7029397917737243,
          -0.18454993343459655,
          -0.30032143747151385,
          0.6226966256674825,
          -0.6119109736503978,
          -2.241247130842427
         ]
        },
        {
         "connectgaps": false,
         "fill": "tozeroy",
         "line": {
          "color": "green",
          "dash": "solid",
          "shape": "linear",
          "width": 0.5
         },
         "mode": "lines",
         "name": "Spread",
         "showlegend": false,
         "type": "scatter",
         "x": [
          0,
          1,
          2,
          3,
          4,
          5,
          6,
          7,
          8,
          9,
          10,
          11,
          12,
          13,
          14,
          15,
          16,
          17,
          18,
          19,
          20,
          21,
          22,
          23,
          24,
          25,
          26,
          27,
          28,
          29,
          30,
          31,
          32,
          33,
          34,
          35,
          36,
          37,
          38,
          39,
          40,
          41,
          42,
          43,
          44,
          45,
          46,
          47,
          48,
          49,
          50,
          51,
          52,
          53,
          54,
          55,
          56,
          57,
          58,
          59,
          60,
          61,
          62,
          63,
          64,
          65,
          66,
          67,
          68,
          69,
          70,
          71,
          72,
          73,
          74,
          75,
          76,
          77,
          78,
          79,
          80,
          81,
          82,
          83,
          84,
          85,
          86,
          87,
          88,
          89,
          90,
          91,
          92,
          93,
          94,
          95,
          96,
          97,
          98,
          99
         ],
         "xaxis": "x2",
         "y": [
          "",
          "",
          "",
          1.3299178543556063,
          1.866092868728321,
          "",
          "",
          0.4592401242370243,
          1.7219721748759587,
          "",
          "",
          2.139796087200224,
          "",
          0.2005376173277098,
          "",
          "",
          2.684720376831567,
          0.2075264796033396,
          2.000177914014725,
          "",
          2.0470555112904067,
          1.8143772447535889,
          1.4999584301244724,
          "",
          "",
          "",
          "",
          0.3931387036565381,
          0.007838219553357006,
          1.122646966388141,
          1.0044073100503095,
          "",
          0.3996776576369453,
          1.090289663275783,
          1.1701781452734872,
          "",
          "",
          1.4042751449418323,
          "",
          2.8486304511111515,
          1.1388890561711609,
          "",
          "",
          "",
          1.7809729326862644,
          0.9789695340978968,
          3.131554498914838,
          "",
          "",
          2.1423158075924764,
          "",
          "",
          0.23933442595402177,
          2.9395172347686818,
          1.4229162122446857,
          "",
          2.6419364120922904,
          "",
          0.773345159304784,
          0.16525458467054743,
          "",
          0.3351965826578011,
          "",
          1.4740842017384923,
          0.14976595219798158,
          1.3164058606373703,
          1.7765043896714725,
          1.619962044202401,
          "",
          1.3278299780552003,
          2.63800095119761,
          "",
          "",
          "",
          "",
          1.5923907010918905,
          1.0996361722834047,
          0.5237109955177737,
          "",
          1.1033735021297488,
          0.7766102823753814,
          2.2718978940255425,
          0.05429450492000337,
          1.0004407686743269,
          "",
          "",
          2.7110641056457023,
          1.124455114126269,
          0.9717411163871665,
          "",
          "",
          0.14167188541397852,
          0.3907792451734785,
          0.9128035228807072,
          1.1059158910282179,
          0.6504012590257303,
          0.1118862829417766,
          0.3181007131464364,
          "",
          3.798278693387979
         ],
         "yaxis": "y2"
        },
        {
         "connectgaps": false,
         "fill": "tozeroy",
         "line": {
          "color": "red",
          "dash": "solid",
          "shape": "linear",
          "width": 0.5
         },
         "mode": "lines",
         "name": "Spread",
         "showlegend": false,
         "type": "scatter",
         "x": [
          0,
          1,
          2,
          3,
          4,
          5,
          6,
          7,
          8,
          9,
          10,
          11,
          12,
          13,
          14,
          15,
          16,
          17,
          18,
          19,
          20,
          21,
          22,
          23,
          24,
          25,
          26,
          27,
          28,
          29,
          30,
          31,
          32,
          33,
          34,
          35,
          36,
          37,
          38,
          39,
          40,
          41,
          42,
          43,
          44,
          45,
          46,
          47,
          48,
          49,
          50,
          51,
          52,
          53,
          54,
          55,
          56,
          57,
          58,
          59,
          60,
          61,
          62,
          63,
          64,
          65,
          66,
          67,
          68,
          69,
          70,
          71,
          72,
          73,
          74,
          75,
          76,
          77,
          78,
          79,
          80,
          81,
          82,
          83,
          84,
          85,
          86,
          87,
          88,
          89,
          90,
          91,
          92,
          93,
          94,
          95,
          96,
          97,
          98,
          99
         ],
         "xaxis": "x2",
         "y": [
          -0.22729332851506068,
          -0.2372260675254635,
          -1.434147300927737,
          "",
          "",
          -0.7145787910610286,
          -0.06426598975423525,
          "",
          "",
          -1.1781407067144376,
          -0.8320571164137653,
          "",
          -0.566048384198987,
          "",
          -2.080371391874877,
          -0.1538097265228393,
          "",
          "",
          "",
          -0.4825749270881482,
          "",
          "",
          "",
          -0.5057301892991248,
          -1.2697902971563195,
          -0.06456029268369953,
          -0.2479471861536304,
          "",
          "",
          "",
          "",
          -0.0013798265880016203,
          "",
          "",
          "",
          -0.7361014762392675,
          -1.625968847654573,
          "",
          -0.06260080394945002,
          "",
          "",
          -0.6125840132981805,
          -0.39840540455246,
          -1.3415533187381974,
          "",
          "",
          "",
          -0.009542967568728522,
          -1.0096177489752924,
          "",
          -0.1317127874736278,
          -1.4820027993442086,
          "",
          "",
          "",
          -0.2691766682140231,
          "",
          -1.1096742593374656,
          "",
          "",
          -1.5312731653844647,
          "",
          -1.7867645862721568,
          "",
          "",
          "",
          "",
          "",
          -3.0687716141539143,
          "",
          "",
          -0.5623022374954164,
          -0.8362713427465204,
          -1.1271117624707208,
          -1.0695098880626033,
          "",
          "",
          "",
          -0.8744021464008233,
          "",
          "",
          "",
          "",
          "",
          -0.8154737058358923,
          -1.0954816576807493,
          "",
          "",
          "",
          -0.9034686759696391,
          -0.21565969193770163,
          "",
          "",
          "",
          "",
          "",
          "",
          "",
          -0.6344725047805408,
          ""
         ],
         "yaxis": "y2"
        }
       ],
       "layout": {
        "hovermode": "x",
        "legend": {
         "bgcolor": "#F5F6F9",
         "font": {
          "color": "#4D5663"
         }
        },
        "paper_bgcolor": "#F5F6F9",
        "plot_bgcolor": "#F5F6F9",
        "template": {
         "data": {
          "bar": [
           {
            "error_x": {
             "color": "#2a3f5f"
            },
            "error_y": {
             "color": "#2a3f5f"
            },
            "marker": {
             "line": {
              "color": "#E5ECF6",
              "width": 0.5
             },
             "pattern": {
              "fillmode": "overlay",
              "size": 10,
              "solidity": 0.2
             }
            },
            "type": "bar"
           }
          ],
          "barpolar": [
           {
            "marker": {
             "line": {
              "color": "#E5ECF6",
              "width": 0.5
             },
             "pattern": {
              "fillmode": "overlay",
              "size": 10,
              "solidity": 0.2
             }
            },
            "type": "barpolar"
           }
          ],
          "carpet": [
           {
            "aaxis": {
             "endlinecolor": "#2a3f5f",
             "gridcolor": "white",
             "linecolor": "white",
             "minorgridcolor": "white",
             "startlinecolor": "#2a3f5f"
            },
            "baxis": {
             "endlinecolor": "#2a3f5f",
             "gridcolor": "white",
             "linecolor": "white",
             "minorgridcolor": "white",
             "startlinecolor": "#2a3f5f"
            },
            "type": "carpet"
           }
          ],
          "choropleth": [
           {
            "colorbar": {
             "outlinewidth": 0,
             "ticks": ""
            },
            "type": "choropleth"
           }
          ],
          "contour": [
           {
            "colorbar": {
             "outlinewidth": 0,
             "ticks": ""
            },
            "colorscale": [
             [
              0,
              "#0d0887"
             ],
             [
              0.1111111111111111,
              "#46039f"
             ],
             [
              0.2222222222222222,
              "#7201a8"
             ],
             [
              0.3333333333333333,
              "#9c179e"
             ],
             [
              0.4444444444444444,
              "#bd3786"
             ],
             [
              0.5555555555555556,
              "#d8576b"
             ],
             [
              0.6666666666666666,
              "#ed7953"
             ],
             [
              0.7777777777777778,
              "#fb9f3a"
             ],
             [
              0.8888888888888888,
              "#fdca26"
             ],
             [
              1,
              "#f0f921"
             ]
            ],
            "type": "contour"
           }
          ],
          "contourcarpet": [
           {
            "colorbar": {
             "outlinewidth": 0,
             "ticks": ""
            },
            "type": "contourcarpet"
           }
          ],
          "heatmap": [
           {
            "colorbar": {
             "outlinewidth": 0,
             "ticks": ""
            },
            "colorscale": [
             [
              0,
              "#0d0887"
             ],
             [
              0.1111111111111111,
              "#46039f"
             ],
             [
              0.2222222222222222,
              "#7201a8"
             ],
             [
              0.3333333333333333,
              "#9c179e"
             ],
             [
              0.4444444444444444,
              "#bd3786"
             ],
             [
              0.5555555555555556,
              "#d8576b"
             ],
             [
              0.6666666666666666,
              "#ed7953"
             ],
             [
              0.7777777777777778,
              "#fb9f3a"
             ],
             [
              0.8888888888888888,
              "#fdca26"
             ],
             [
              1,
              "#f0f921"
             ]
            ],
            "type": "heatmap"
           }
          ],
          "heatmapgl": [
           {
            "colorbar": {
             "outlinewidth": 0,
             "ticks": ""
            },
            "colorscale": [
             [
              0,
              "#0d0887"
             ],
             [
              0.1111111111111111,
              "#46039f"
             ],
             [
              0.2222222222222222,
              "#7201a8"
             ],
             [
              0.3333333333333333,
              "#9c179e"
             ],
             [
              0.4444444444444444,
              "#bd3786"
             ],
             [
              0.5555555555555556,
              "#d8576b"
             ],
             [
              0.6666666666666666,
              "#ed7953"
             ],
             [
              0.7777777777777778,
              "#fb9f3a"
             ],
             [
              0.8888888888888888,
              "#fdca26"
             ],
             [
              1,
              "#f0f921"
             ]
            ],
            "type": "heatmapgl"
           }
          ],
          "histogram": [
           {
            "marker": {
             "pattern": {
              "fillmode": "overlay",
              "size": 10,
              "solidity": 0.2
             }
            },
            "type": "histogram"
           }
          ],
          "histogram2d": [
           {
            "colorbar": {
             "outlinewidth": 0,
             "ticks": ""
            },
            "colorscale": [
             [
              0,
              "#0d0887"
             ],
             [
              0.1111111111111111,
              "#46039f"
             ],
             [
              0.2222222222222222,
              "#7201a8"
             ],
             [
              0.3333333333333333,
              "#9c179e"
             ],
             [
              0.4444444444444444,
              "#bd3786"
             ],
             [
              0.5555555555555556,
              "#d8576b"
             ],
             [
              0.6666666666666666,
              "#ed7953"
             ],
             [
              0.7777777777777778,
              "#fb9f3a"
             ],
             [
              0.8888888888888888,
              "#fdca26"
             ],
             [
              1,
              "#f0f921"
             ]
            ],
            "type": "histogram2d"
           }
          ],
          "histogram2dcontour": [
           {
            "colorbar": {
             "outlinewidth": 0,
             "ticks": ""
            },
            "colorscale": [
             [
              0,
              "#0d0887"
             ],
             [
              0.1111111111111111,
              "#46039f"
             ],
             [
              0.2222222222222222,
              "#7201a8"
             ],
             [
              0.3333333333333333,
              "#9c179e"
             ],
             [
              0.4444444444444444,
              "#bd3786"
             ],
             [
              0.5555555555555556,
              "#d8576b"
             ],
             [
              0.6666666666666666,
              "#ed7953"
             ],
             [
              0.7777777777777778,
              "#fb9f3a"
             ],
             [
              0.8888888888888888,
              "#fdca26"
             ],
             [
              1,
              "#f0f921"
             ]
            ],
            "type": "histogram2dcontour"
           }
          ],
          "mesh3d": [
           {
            "colorbar": {
             "outlinewidth": 0,
             "ticks": ""
            },
            "type": "mesh3d"
           }
          ],
          "parcoords": [
           {
            "line": {
             "colorbar": {
              "outlinewidth": 0,
              "ticks": ""
             }
            },
            "type": "parcoords"
           }
          ],
          "pie": [
           {
            "automargin": true,
            "type": "pie"
           }
          ],
          "scatter": [
           {
            "marker": {
             "colorbar": {
              "outlinewidth": 0,
              "ticks": ""
             }
            },
            "type": "scatter"
           }
          ],
          "scatter3d": [
           {
            "line": {
             "colorbar": {
              "outlinewidth": 0,
              "ticks": ""
             }
            },
            "marker": {
             "colorbar": {
              "outlinewidth": 0,
              "ticks": ""
             }
            },
            "type": "scatter3d"
           }
          ],
          "scattercarpet": [
           {
            "marker": {
             "colorbar": {
              "outlinewidth": 0,
              "ticks": ""
             }
            },
            "type": "scattercarpet"
           }
          ],
          "scattergeo": [
           {
            "marker": {
             "colorbar": {
              "outlinewidth": 0,
              "ticks": ""
             }
            },
            "type": "scattergeo"
           }
          ],
          "scattergl": [
           {
            "marker": {
             "colorbar": {
              "outlinewidth": 0,
              "ticks": ""
             }
            },
            "type": "scattergl"
           }
          ],
          "scattermapbox": [
           {
            "marker": {
             "colorbar": {
              "outlinewidth": 0,
              "ticks": ""
             }
            },
            "type": "scattermapbox"
           }
          ],
          "scatterpolar": [
           {
            "marker": {
             "colorbar": {
              "outlinewidth": 0,
              "ticks": ""
             }
            },
            "type": "scatterpolar"
           }
          ],
          "scatterpolargl": [
           {
            "marker": {
             "colorbar": {
              "outlinewidth": 0,
              "ticks": ""
             }
            },
            "type": "scatterpolargl"
           }
          ],
          "scatterternary": [
           {
            "marker": {
             "colorbar": {
              "outlinewidth": 0,
              "ticks": ""
             }
            },
            "type": "scatterternary"
           }
          ],
          "surface": [
           {
            "colorbar": {
             "outlinewidth": 0,
             "ticks": ""
            },
            "colorscale": [
             [
              0,
              "#0d0887"
             ],
             [
              0.1111111111111111,
              "#46039f"
             ],
             [
              0.2222222222222222,
              "#7201a8"
             ],
             [
              0.3333333333333333,
              "#9c179e"
             ],
             [
              0.4444444444444444,
              "#bd3786"
             ],
             [
              0.5555555555555556,
              "#d8576b"
             ],
             [
              0.6666666666666666,
              "#ed7953"
             ],
             [
              0.7777777777777778,
              "#fb9f3a"
             ],
             [
              0.8888888888888888,
              "#fdca26"
             ],
             [
              1,
              "#f0f921"
             ]
            ],
            "type": "surface"
           }
          ],
          "table": [
           {
            "cells": {
             "fill": {
              "color": "#EBF0F8"
             },
             "line": {
              "color": "white"
             }
            },
            "header": {
             "fill": {
              "color": "#C8D4E3"
             },
             "line": {
              "color": "white"
             }
            },
            "type": "table"
           }
          ]
         },
         "layout": {
          "annotationdefaults": {
           "arrowcolor": "#2a3f5f",
           "arrowhead": 0,
           "arrowwidth": 1
          },
          "autotypenumbers": "strict",
          "coloraxis": {
           "colorbar": {
            "outlinewidth": 0,
            "ticks": ""
           }
          },
          "colorscale": {
           "diverging": [
            [
             0,
             "#8e0152"
            ],
            [
             0.1,
             "#c51b7d"
            ],
            [
             0.2,
             "#de77ae"
            ],
            [
             0.3,
             "#f1b6da"
            ],
            [
             0.4,
             "#fde0ef"
            ],
            [
             0.5,
             "#f7f7f7"
            ],
            [
             0.6,
             "#e6f5d0"
            ],
            [
             0.7,
             "#b8e186"
            ],
            [
             0.8,
             "#7fbc41"
            ],
            [
             0.9,
             "#4d9221"
            ],
            [
             1,
             "#276419"
            ]
           ],
           "sequential": [
            [
             0,
             "#0d0887"
            ],
            [
             0.1111111111111111,
             "#46039f"
            ],
            [
             0.2222222222222222,
             "#7201a8"
            ],
            [
             0.3333333333333333,
             "#9c179e"
            ],
            [
             0.4444444444444444,
             "#bd3786"
            ],
            [
             0.5555555555555556,
             "#d8576b"
            ],
            [
             0.6666666666666666,
             "#ed7953"
            ],
            [
             0.7777777777777778,
             "#fb9f3a"
            ],
            [
             0.8888888888888888,
             "#fdca26"
            ],
            [
             1,
             "#f0f921"
            ]
           ],
           "sequentialminus": [
            [
             0,
             "#0d0887"
            ],
            [
             0.1111111111111111,
             "#46039f"
            ],
            [
             0.2222222222222222,
             "#7201a8"
            ],
            [
             0.3333333333333333,
             "#9c179e"
            ],
            [
             0.4444444444444444,
             "#bd3786"
            ],
            [
             0.5555555555555556,
             "#d8576b"
            ],
            [
             0.6666666666666666,
             "#ed7953"
            ],
            [
             0.7777777777777778,
             "#fb9f3a"
            ],
            [
             0.8888888888888888,
             "#fdca26"
            ],
            [
             1,
             "#f0f921"
            ]
           ]
          },
          "colorway": [
           "#636efa",
           "#EF553B",
           "#00cc96",
           "#ab63fa",
           "#FFA15A",
           "#19d3f3",
           "#FF6692",
           "#B6E880",
           "#FF97FF",
           "#FECB52"
          ],
          "font": {
           "color": "#2a3f5f"
          },
          "geo": {
           "bgcolor": "white",
           "lakecolor": "white",
           "landcolor": "#E5ECF6",
           "showlakes": true,
           "showland": true,
           "subunitcolor": "white"
          },
          "hoverlabel": {
           "align": "left"
          },
          "hovermode": "closest",
          "mapbox": {
           "style": "light"
          },
          "paper_bgcolor": "white",
          "plot_bgcolor": "#E5ECF6",
          "polar": {
           "angularaxis": {
            "gridcolor": "white",
            "linecolor": "white",
            "ticks": ""
           },
           "bgcolor": "#E5ECF6",
           "radialaxis": {
            "gridcolor": "white",
            "linecolor": "white",
            "ticks": ""
           }
          },
          "scene": {
           "xaxis": {
            "backgroundcolor": "#E5ECF6",
            "gridcolor": "white",
            "gridwidth": 2,
            "linecolor": "white",
            "showbackground": true,
            "ticks": "",
            "zerolinecolor": "white"
           },
           "yaxis": {
            "backgroundcolor": "#E5ECF6",
            "gridcolor": "white",
            "gridwidth": 2,
            "linecolor": "white",
            "showbackground": true,
            "ticks": "",
            "zerolinecolor": "white"
           },
           "zaxis": {
            "backgroundcolor": "#E5ECF6",
            "gridcolor": "white",
            "gridwidth": 2,
            "linecolor": "white",
            "showbackground": true,
            "ticks": "",
            "zerolinecolor": "white"
           }
          },
          "shapedefaults": {
           "line": {
            "color": "#2a3f5f"
           }
          },
          "ternary": {
           "aaxis": {
            "gridcolor": "white",
            "linecolor": "white",
            "ticks": ""
           },
           "baxis": {
            "gridcolor": "white",
            "linecolor": "white",
            "ticks": ""
           },
           "bgcolor": "#E5ECF6",
           "caxis": {
            "gridcolor": "white",
            "linecolor": "white",
            "ticks": ""
           }
          },
          "title": {
           "x": 0.05
          },
          "xaxis": {
           "automargin": true,
           "gridcolor": "white",
           "linecolor": "white",
           "ticks": "",
           "title": {
            "standoff": 15
           },
           "zerolinecolor": "white",
           "zerolinewidth": 2
          },
          "yaxis": {
           "automargin": true,
           "gridcolor": "white",
           "linecolor": "white",
           "ticks": "",
           "title": {
            "standoff": 15
           },
           "zerolinecolor": "white",
           "zerolinewidth": 2
          }
         }
        },
        "title": {
         "font": {
          "color": "#4D5663"
         }
        },
        "xaxis": {
         "gridcolor": "#E1E5ED",
         "showgrid": true,
         "tickfont": {
          "color": "#4D5663"
         },
         "title": {
          "font": {
           "color": "#4D5663"
          },
          "text": ""
         },
         "zerolinecolor": "#E1E5ED"
        },
        "xaxis2": {
         "anchor": "y2",
         "gridcolor": "#E1E5ED",
         "showgrid": true,
         "showticklabels": false,
         "tickfont": {
          "color": "#4D5663"
         },
         "title": {
          "font": {
           "color": "#4D5663"
          },
          "text": ""
         },
         "zerolinecolor": "#E1E5ED"
        },
        "yaxis": {
         "domain": [
          0.3,
          1
         ],
         "gridcolor": "#E1E5ED",
         "showgrid": true,
         "tickfont": {
          "color": "#4D5663"
         },
         "title": {
          "font": {
           "color": "#4D5663"
          },
          "text": ""
         },
         "zerolinecolor": "#E1E5ED"
        },
        "yaxis2": {
         "domain": [
          0,
          0.25
         ],
         "gridcolor": "#E1E5ED",
         "showgrid": true,
         "tickfont": {
          "color": "#4D5663"
         },
         "title": {
          "font": {
           "color": "#4D5663"
          },
          "text": "Spread"
         },
         "zerolinecolor": "#E1E5ED"
        }
       }
      },
      "text/html": [
       "<div>                            <div id=\"b32908e9-b52c-4bdb-937e-bbeee0796bb0\" class=\"plotly-graph-div\" style=\"height:525px; width:100%;\"></div>            <script type=\"text/javascript\">                require([\"plotly\"], function(Plotly) {                    window.PLOTLYENV=window.PLOTLYENV || {};\n",
       "                    window.PLOTLYENV.BASE_URL='https://plot.ly';                                    if (document.getElementById(\"b32908e9-b52c-4bdb-937e-bbeee0796bb0\")) {                    Plotly.newPlot(                        \"b32908e9-b52c-4bdb-937e-bbeee0796bb0\",                        [{\"line\":{\"color\":\"rgba(255, 153, 51, 1.0)\",\"dash\":\"solid\",\"shape\":\"linear\",\"width\":1.3},\"mode\":\"lines\",\"name\":\"A\",\"text\":\"\",\"x\":[0,1,2,3,4,5,6,7,8,9,10,11,12,13,14,15,16,17,18,19,20,21,22,23,24,25,26,27,28,29,30,31,32,33,34,35,36,37,38,39,40,41,42,43,44,45,46,47,48,49,50,51,52,53,54,55,56,57,58,59,60,61,62,63,64,65,66,67,68,69,70,71,72,73,74,75,76,77,78,79,80,81,82,83,84,85,86,87,88,89,90,91,92,93,94,95,96,97,98,99],\"y\":[0.5743707795773935,0.7705130471123088,-1.1576336254777675,-0.8271035026452863,0.7425917665606087,-0.5394750578829458,0.5097192595359479,0.5432487081145778,-0.017946748455862877,0.19581581905947343,-1.437598250743915,2.218752439044428,1.3735761727944185,0.4110662686393877,-1.2762577922869192,1.052973143565982,1.4455702341590444,-0.3948389358880354,0.7885045139246953,-1.048373347634528,1.7428723409947369,0.5095898223142886,-0.40242338927638993,0.7895293899801388,-1.1684034943003128,-0.04221538280344773,0.008138638768228417,-0.4886444367606532,0.372696913991112,0.012203537415463457,1.3219400832950743,0.4426993414749163,0.6954759067905433,1.26173184725225,0.6031545937641348,0.8314386262457409,-1.9414446443208866,0.44729577583315866,-0.1519969814341827,1.4347967567547704,0.4231389277658858,-0.3464188794612597,-1.1560117204001936,-0.3371028319649269,0.9280885194745121,-0.33478270805751936,2.501829705680731,0.6545880808894924,-0.3253344899082747,1.0445833650807033,0.6378047610339664,-2.282408309947842,-0.9940910712619948,1.593352030366997,0.9796354322121585,-0.14555141905550475,1.938036037209001,0.4868173620202219,0.055745582967331925,0.8956207552321556,0.11210772463177247,-0.33800571080152314,-1.3960145152016388,2.1771435310890195,-0.21470397682343476,0.4522706930495062,0.9164948956794404,0.8686559643236597,-0.781959644239122,0.858071168774533,1.0682392817882957,-0.8544402572414872,-0.10900933498317333,-0.6310301425552112,-0.7648997140020927,1.150003153635081,1.0797631083191377,-0.45546653209706256,-0.04107528864510263,0.5455832227617043,-0.013623144913418072,0.8627690024800236,-0.444669171787977,-0.09778715447296922,-0.9840028543722682,-0.7197814724774163,0.5492328656564691,0.3865729478490786,0.9060294279206033,-0.4274656683036674,0.7060489877334019,-0.38594158839707665,0.5846720573475902,0.715150753017314,-0.5970239007455065,0.46585132559113374,-0.18843515452973725,0.9407973388139189,-1.2463834784309387,1.557031562545552],\"type\":\"scatter\"},{\"line\":{\"color\":\"rgba(55, 128, 191, 1.0)\",\"dash\":\"solid\",\"shape\":\"linear\",\"width\":1.3},\"mode\":\"lines\",\"name\":\"B\",\"text\":\"\",\"x\":[0,1,2,3,4,5,6,7,8,9,10,11,12,13,14,15,16,17,18,19,20,21,22,23,24,25,26,27,28,29,30,31,32,33,34,35,36,37,38,39,40,41,42,43,44,45,46,47,48,49,50,51,52,53,54,55,56,57,58,59,60,61,62,63,64,65,66,67,68,69,70,71,72,73,74,75,76,77,78,79,80,81,82,83,84,85,86,87,88,89,90,91,92,93,94,95,96,97,98,99],\"y\":[0.8016641080924541,1.0077391146377723,0.27651367544996946,-2.1570213570008927,-1.1235011021677124,0.17510373317808275,0.5739852492901831,0.08400858387755353,-1.7399189233318215,1.373956525773911,-0.6055411343301496,0.07895635184420437,1.9396245569934054,0.21052865131167792,0.8041135995879579,1.2067828700888212,-1.2391501426725224,-0.602365415491375,-1.2116734000900296,-0.5657984205463799,-0.30418317029567005,-1.3047874224393003,-1.9023818194008624,1.2952595792792636,0.10138680285600672,0.0223449098802518,0.25608582492185883,-0.8817831404171913,0.364858694437755,-1.1104434289726777,0.3175327732447648,0.4440791680629179,0.295798249153598,0.17144218397646702,-0.5670235515093524,1.5675401024850084,-0.3154757966663135,-0.9569793691086736,-0.08939617748473268,-1.4138336943563812,-0.715750128405275,0.26616513383692075,-0.7576063158477336,1.0044504867732704,-0.8528844132117523,-1.3137522421554162,-0.6297247932341066,0.6641310484582209,0.6842832590670178,-1.097732442511773,0.7695175485075942,-0.8004055106036331,-1.2334254972160166,-1.3461652044016847,-0.44328078003252724,0.12362524915851832,-0.703900374883289,1.5964916213576874,-0.7175995763374521,0.7303661705616081,1.6433808900162372,-0.6732022934593243,0.39075007107051796,0.7030593293505272,-0.36446992902141634,-0.8641351675878642,-0.8600094939920322,-0.7513060798787412,2.286811969914792,-0.46975880928066727,-1.5697616694093142,-0.2921380197460708,0.727262007763347,0.4960816199155096,0.30461017406051066,-0.44238754745680947,-0.019873063964267003,-0.9791775276148362,0.8333268577557206,-0.5577902793680444,-0.7902334272887995,-1.409128891545519,-0.49896367670798036,-1.098227923147296,-0.16852914853637593,0.37570018520333304,-2.161831239989233,-0.7378821662771905,-0.06571168846656328,0.47600300766597164,0.9217086796711035,-0.5276134738110552,0.19389281217411172,-0.1976527698633932,-1.7029397917737243,-0.18454993343459655,-0.30032143747151385,0.6226966256674825,-0.6119109736503978,-2.241247130842427],\"type\":\"scatter\"},{\"connectgaps\":false,\"fill\":\"tozeroy\",\"line\":{\"color\":\"green\",\"dash\":\"solid\",\"shape\":\"linear\",\"width\":0.5},\"mode\":\"lines\",\"name\":\"Spread\",\"showlegend\":false,\"x\":[0,1,2,3,4,5,6,7,8,9,10,11,12,13,14,15,16,17,18,19,20,21,22,23,24,25,26,27,28,29,30,31,32,33,34,35,36,37,38,39,40,41,42,43,44,45,46,47,48,49,50,51,52,53,54,55,56,57,58,59,60,61,62,63,64,65,66,67,68,69,70,71,72,73,74,75,76,77,78,79,80,81,82,83,84,85,86,87,88,89,90,91,92,93,94,95,96,97,98,99],\"xaxis\":\"x2\",\"y\":[\"\",\"\",\"\",1.3299178543556063,1.866092868728321,\"\",\"\",0.4592401242370243,1.7219721748759587,\"\",\"\",2.139796087200224,\"\",0.2005376173277098,\"\",\"\",2.684720376831567,0.2075264796033396,2.000177914014725,\"\",2.0470555112904067,1.8143772447535889,1.4999584301244724,\"\",\"\",\"\",\"\",0.3931387036565381,0.007838219553357006,1.122646966388141,1.0044073100503095,\"\",0.3996776576369453,1.090289663275783,1.1701781452734872,\"\",\"\",1.4042751449418323,\"\",2.8486304511111515,1.1388890561711609,\"\",\"\",\"\",1.7809729326862644,0.9789695340978968,3.131554498914838,\"\",\"\",2.1423158075924764,\"\",\"\",0.23933442595402177,2.9395172347686818,1.4229162122446857,\"\",2.6419364120922904,\"\",0.773345159304784,0.16525458467054743,\"\",0.3351965826578011,\"\",1.4740842017384923,0.14976595219798158,1.3164058606373703,1.7765043896714725,1.619962044202401,\"\",1.3278299780552003,2.63800095119761,\"\",\"\",\"\",\"\",1.5923907010918905,1.0996361722834047,0.5237109955177737,\"\",1.1033735021297488,0.7766102823753814,2.2718978940255425,0.05429450492000337,1.0004407686743269,\"\",\"\",2.7110641056457023,1.124455114126269,0.9717411163871665,\"\",\"\",0.14167188541397852,0.3907792451734785,0.9128035228807072,1.1059158910282179,0.6504012590257303,0.1118862829417766,0.3181007131464364,\"\",3.798278693387979],\"yaxis\":\"y2\",\"type\":\"scatter\"},{\"connectgaps\":false,\"fill\":\"tozeroy\",\"line\":{\"color\":\"red\",\"dash\":\"solid\",\"shape\":\"linear\",\"width\":0.5},\"mode\":\"lines\",\"name\":\"Spread\",\"showlegend\":false,\"x\":[0,1,2,3,4,5,6,7,8,9,10,11,12,13,14,15,16,17,18,19,20,21,22,23,24,25,26,27,28,29,30,31,32,33,34,35,36,37,38,39,40,41,42,43,44,45,46,47,48,49,50,51,52,53,54,55,56,57,58,59,60,61,62,63,64,65,66,67,68,69,70,71,72,73,74,75,76,77,78,79,80,81,82,83,84,85,86,87,88,89,90,91,92,93,94,95,96,97,98,99],\"xaxis\":\"x2\",\"y\":[-0.22729332851506068,-0.2372260675254635,-1.434147300927737,\"\",\"\",-0.7145787910610286,-0.06426598975423525,\"\",\"\",-1.1781407067144376,-0.8320571164137653,\"\",-0.566048384198987,\"\",-2.080371391874877,-0.1538097265228393,\"\",\"\",\"\",-0.4825749270881482,\"\",\"\",\"\",-0.5057301892991248,-1.2697902971563195,-0.06456029268369953,-0.2479471861536304,\"\",\"\",\"\",\"\",-0.0013798265880016203,\"\",\"\",\"\",-0.7361014762392675,-1.625968847654573,\"\",-0.06260080394945002,\"\",\"\",-0.6125840132981805,-0.39840540455246,-1.3415533187381974,\"\",\"\",\"\",-0.009542967568728522,-1.0096177489752924,\"\",-0.1317127874736278,-1.4820027993442086,\"\",\"\",\"\",-0.2691766682140231,\"\",-1.1096742593374656,\"\",\"\",-1.5312731653844647,\"\",-1.7867645862721568,\"\",\"\",\"\",\"\",\"\",-3.0687716141539143,\"\",\"\",-0.5623022374954164,-0.8362713427465204,-1.1271117624707208,-1.0695098880626033,\"\",\"\",\"\",-0.8744021464008233,\"\",\"\",\"\",\"\",\"\",-0.8154737058358923,-1.0954816576807493,\"\",\"\",\"\",-0.9034686759696391,-0.21565969193770163,\"\",\"\",\"\",\"\",\"\",\"\",\"\",-0.6344725047805408,\"\"],\"yaxis\":\"y2\",\"type\":\"scatter\"}],                        {\"hovermode\":\"x\",\"legend\":{\"bgcolor\":\"#F5F6F9\",\"font\":{\"color\":\"#4D5663\"}},\"paper_bgcolor\":\"#F5F6F9\",\"plot_bgcolor\":\"#F5F6F9\",\"template\":{\"data\":{\"barpolar\":[{\"marker\":{\"line\":{\"color\":\"#E5ECF6\",\"width\":0.5},\"pattern\":{\"fillmode\":\"overlay\",\"size\":10,\"solidity\":0.2}},\"type\":\"barpolar\"}],\"bar\":[{\"error_x\":{\"color\":\"#2a3f5f\"},\"error_y\":{\"color\":\"#2a3f5f\"},\"marker\":{\"line\":{\"color\":\"#E5ECF6\",\"width\":0.5},\"pattern\":{\"fillmode\":\"overlay\",\"size\":10,\"solidity\":0.2}},\"type\":\"bar\"}],\"carpet\":[{\"aaxis\":{\"endlinecolor\":\"#2a3f5f\",\"gridcolor\":\"white\",\"linecolor\":\"white\",\"minorgridcolor\":\"white\",\"startlinecolor\":\"#2a3f5f\"},\"baxis\":{\"endlinecolor\":\"#2a3f5f\",\"gridcolor\":\"white\",\"linecolor\":\"white\",\"minorgridcolor\":\"white\",\"startlinecolor\":\"#2a3f5f\"},\"type\":\"carpet\"}],\"choropleth\":[{\"colorbar\":{\"outlinewidth\":0,\"ticks\":\"\"},\"type\":\"choropleth\"}],\"contourcarpet\":[{\"colorbar\":{\"outlinewidth\":0,\"ticks\":\"\"},\"type\":\"contourcarpet\"}],\"contour\":[{\"colorbar\":{\"outlinewidth\":0,\"ticks\":\"\"},\"colorscale\":[[0.0,\"#0d0887\"],[0.1111111111111111,\"#46039f\"],[0.2222222222222222,\"#7201a8\"],[0.3333333333333333,\"#9c179e\"],[0.4444444444444444,\"#bd3786\"],[0.5555555555555556,\"#d8576b\"],[0.6666666666666666,\"#ed7953\"],[0.7777777777777778,\"#fb9f3a\"],[0.8888888888888888,\"#fdca26\"],[1.0,\"#f0f921\"]],\"type\":\"contour\"}],\"heatmapgl\":[{\"colorbar\":{\"outlinewidth\":0,\"ticks\":\"\"},\"colorscale\":[[0.0,\"#0d0887\"],[0.1111111111111111,\"#46039f\"],[0.2222222222222222,\"#7201a8\"],[0.3333333333333333,\"#9c179e\"],[0.4444444444444444,\"#bd3786\"],[0.5555555555555556,\"#d8576b\"],[0.6666666666666666,\"#ed7953\"],[0.7777777777777778,\"#fb9f3a\"],[0.8888888888888888,\"#fdca26\"],[1.0,\"#f0f921\"]],\"type\":\"heatmapgl\"}],\"heatmap\":[{\"colorbar\":{\"outlinewidth\":0,\"ticks\":\"\"},\"colorscale\":[[0.0,\"#0d0887\"],[0.1111111111111111,\"#46039f\"],[0.2222222222222222,\"#7201a8\"],[0.3333333333333333,\"#9c179e\"],[0.4444444444444444,\"#bd3786\"],[0.5555555555555556,\"#d8576b\"],[0.6666666666666666,\"#ed7953\"],[0.7777777777777778,\"#fb9f3a\"],[0.8888888888888888,\"#fdca26\"],[1.0,\"#f0f921\"]],\"type\":\"heatmap\"}],\"histogram2dcontour\":[{\"colorbar\":{\"outlinewidth\":0,\"ticks\":\"\"},\"colorscale\":[[0.0,\"#0d0887\"],[0.1111111111111111,\"#46039f\"],[0.2222222222222222,\"#7201a8\"],[0.3333333333333333,\"#9c179e\"],[0.4444444444444444,\"#bd3786\"],[0.5555555555555556,\"#d8576b\"],[0.6666666666666666,\"#ed7953\"],[0.7777777777777778,\"#fb9f3a\"],[0.8888888888888888,\"#fdca26\"],[1.0,\"#f0f921\"]],\"type\":\"histogram2dcontour\"}],\"histogram2d\":[{\"colorbar\":{\"outlinewidth\":0,\"ticks\":\"\"},\"colorscale\":[[0.0,\"#0d0887\"],[0.1111111111111111,\"#46039f\"],[0.2222222222222222,\"#7201a8\"],[0.3333333333333333,\"#9c179e\"],[0.4444444444444444,\"#bd3786\"],[0.5555555555555556,\"#d8576b\"],[0.6666666666666666,\"#ed7953\"],[0.7777777777777778,\"#fb9f3a\"],[0.8888888888888888,\"#fdca26\"],[1.0,\"#f0f921\"]],\"type\":\"histogram2d\"}],\"histogram\":[{\"marker\":{\"pattern\":{\"fillmode\":\"overlay\",\"size\":10,\"solidity\":0.2}},\"type\":\"histogram\"}],\"mesh3d\":[{\"colorbar\":{\"outlinewidth\":0,\"ticks\":\"\"},\"type\":\"mesh3d\"}],\"parcoords\":[{\"line\":{\"colorbar\":{\"outlinewidth\":0,\"ticks\":\"\"}},\"type\":\"parcoords\"}],\"pie\":[{\"automargin\":true,\"type\":\"pie\"}],\"scatter3d\":[{\"line\":{\"colorbar\":{\"outlinewidth\":0,\"ticks\":\"\"}},\"marker\":{\"colorbar\":{\"outlinewidth\":0,\"ticks\":\"\"}},\"type\":\"scatter3d\"}],\"scattercarpet\":[{\"marker\":{\"colorbar\":{\"outlinewidth\":0,\"ticks\":\"\"}},\"type\":\"scattercarpet\"}],\"scattergeo\":[{\"marker\":{\"colorbar\":{\"outlinewidth\":0,\"ticks\":\"\"}},\"type\":\"scattergeo\"}],\"scattergl\":[{\"marker\":{\"colorbar\":{\"outlinewidth\":0,\"ticks\":\"\"}},\"type\":\"scattergl\"}],\"scattermapbox\":[{\"marker\":{\"colorbar\":{\"outlinewidth\":0,\"ticks\":\"\"}},\"type\":\"scattermapbox\"}],\"scatterpolargl\":[{\"marker\":{\"colorbar\":{\"outlinewidth\":0,\"ticks\":\"\"}},\"type\":\"scatterpolargl\"}],\"scatterpolar\":[{\"marker\":{\"colorbar\":{\"outlinewidth\":0,\"ticks\":\"\"}},\"type\":\"scatterpolar\"}],\"scatter\":[{\"marker\":{\"colorbar\":{\"outlinewidth\":0,\"ticks\":\"\"}},\"type\":\"scatter\"}],\"scatterternary\":[{\"marker\":{\"colorbar\":{\"outlinewidth\":0,\"ticks\":\"\"}},\"type\":\"scatterternary\"}],\"surface\":[{\"colorbar\":{\"outlinewidth\":0,\"ticks\":\"\"},\"colorscale\":[[0.0,\"#0d0887\"],[0.1111111111111111,\"#46039f\"],[0.2222222222222222,\"#7201a8\"],[0.3333333333333333,\"#9c179e\"],[0.4444444444444444,\"#bd3786\"],[0.5555555555555556,\"#d8576b\"],[0.6666666666666666,\"#ed7953\"],[0.7777777777777778,\"#fb9f3a\"],[0.8888888888888888,\"#fdca26\"],[1.0,\"#f0f921\"]],\"type\":\"surface\"}],\"table\":[{\"cells\":{\"fill\":{\"color\":\"#EBF0F8\"},\"line\":{\"color\":\"white\"}},\"header\":{\"fill\":{\"color\":\"#C8D4E3\"},\"line\":{\"color\":\"white\"}},\"type\":\"table\"}]},\"layout\":{\"annotationdefaults\":{\"arrowcolor\":\"#2a3f5f\",\"arrowhead\":0,\"arrowwidth\":1},\"autotypenumbers\":\"strict\",\"coloraxis\":{\"colorbar\":{\"outlinewidth\":0,\"ticks\":\"\"}},\"colorscale\":{\"diverging\":[[0,\"#8e0152\"],[0.1,\"#c51b7d\"],[0.2,\"#de77ae\"],[0.3,\"#f1b6da\"],[0.4,\"#fde0ef\"],[0.5,\"#f7f7f7\"],[0.6,\"#e6f5d0\"],[0.7,\"#b8e186\"],[0.8,\"#7fbc41\"],[0.9,\"#4d9221\"],[1,\"#276419\"]],\"sequential\":[[0.0,\"#0d0887\"],[0.1111111111111111,\"#46039f\"],[0.2222222222222222,\"#7201a8\"],[0.3333333333333333,\"#9c179e\"],[0.4444444444444444,\"#bd3786\"],[0.5555555555555556,\"#d8576b\"],[0.6666666666666666,\"#ed7953\"],[0.7777777777777778,\"#fb9f3a\"],[0.8888888888888888,\"#fdca26\"],[1.0,\"#f0f921\"]],\"sequentialminus\":[[0.0,\"#0d0887\"],[0.1111111111111111,\"#46039f\"],[0.2222222222222222,\"#7201a8\"],[0.3333333333333333,\"#9c179e\"],[0.4444444444444444,\"#bd3786\"],[0.5555555555555556,\"#d8576b\"],[0.6666666666666666,\"#ed7953\"],[0.7777777777777778,\"#fb9f3a\"],[0.8888888888888888,\"#fdca26\"],[1.0,\"#f0f921\"]]},\"colorway\":[\"#636efa\",\"#EF553B\",\"#00cc96\",\"#ab63fa\",\"#FFA15A\",\"#19d3f3\",\"#FF6692\",\"#B6E880\",\"#FF97FF\",\"#FECB52\"],\"font\":{\"color\":\"#2a3f5f\"},\"geo\":{\"bgcolor\":\"white\",\"lakecolor\":\"white\",\"landcolor\":\"#E5ECF6\",\"showlakes\":true,\"showland\":true,\"subunitcolor\":\"white\"},\"hoverlabel\":{\"align\":\"left\"},\"hovermode\":\"closest\",\"mapbox\":{\"style\":\"light\"},\"paper_bgcolor\":\"white\",\"plot_bgcolor\":\"#E5ECF6\",\"polar\":{\"angularaxis\":{\"gridcolor\":\"white\",\"linecolor\":\"white\",\"ticks\":\"\"},\"bgcolor\":\"#E5ECF6\",\"radialaxis\":{\"gridcolor\":\"white\",\"linecolor\":\"white\",\"ticks\":\"\"}},\"scene\":{\"xaxis\":{\"backgroundcolor\":\"#E5ECF6\",\"gridcolor\":\"white\",\"gridwidth\":2,\"linecolor\":\"white\",\"showbackground\":true,\"ticks\":\"\",\"zerolinecolor\":\"white\"},\"yaxis\":{\"backgroundcolor\":\"#E5ECF6\",\"gridcolor\":\"white\",\"gridwidth\":2,\"linecolor\":\"white\",\"showbackground\":true,\"ticks\":\"\",\"zerolinecolor\":\"white\"},\"zaxis\":{\"backgroundcolor\":\"#E5ECF6\",\"gridcolor\":\"white\",\"gridwidth\":2,\"linecolor\":\"white\",\"showbackground\":true,\"ticks\":\"\",\"zerolinecolor\":\"white\"}},\"shapedefaults\":{\"line\":{\"color\":\"#2a3f5f\"}},\"ternary\":{\"aaxis\":{\"gridcolor\":\"white\",\"linecolor\":\"white\",\"ticks\":\"\"},\"baxis\":{\"gridcolor\":\"white\",\"linecolor\":\"white\",\"ticks\":\"\"},\"bgcolor\":\"#E5ECF6\",\"caxis\":{\"gridcolor\":\"white\",\"linecolor\":\"white\",\"ticks\":\"\"}},\"title\":{\"x\":0.05},\"xaxis\":{\"automargin\":true,\"gridcolor\":\"white\",\"linecolor\":\"white\",\"ticks\":\"\",\"title\":{\"standoff\":15},\"zerolinecolor\":\"white\",\"zerolinewidth\":2},\"yaxis\":{\"automargin\":true,\"gridcolor\":\"white\",\"linecolor\":\"white\",\"ticks\":\"\",\"title\":{\"standoff\":15},\"zerolinecolor\":\"white\",\"zerolinewidth\":2}}},\"title\":{\"font\":{\"color\":\"#4D5663\"}},\"xaxis\":{\"gridcolor\":\"#E1E5ED\",\"showgrid\":true,\"tickfont\":{\"color\":\"#4D5663\"},\"title\":{\"font\":{\"color\":\"#4D5663\"},\"text\":\"\"},\"zerolinecolor\":\"#E1E5ED\"},\"yaxis\":{\"domain\":[0.3,1],\"gridcolor\":\"#E1E5ED\",\"showgrid\":true,\"tickfont\":{\"color\":\"#4D5663\"},\"title\":{\"font\":{\"color\":\"#4D5663\"},\"text\":\"\"},\"zerolinecolor\":\"#E1E5ED\"},\"yaxis2\":{\"domain\":[0,0.25],\"gridcolor\":\"#E1E5ED\",\"showgrid\":true,\"tickfont\":{\"color\":\"#4D5663\"},\"title\":{\"font\":{\"color\":\"#4D5663\"},\"text\":\"Spread\"},\"zerolinecolor\":\"#E1E5ED\"},\"xaxis2\":{\"anchor\":\"y2\",\"gridcolor\":\"#E1E5ED\",\"showgrid\":true,\"showticklabels\":false,\"tickfont\":{\"color\":\"#4D5663\"},\"title\":{\"font\":{\"color\":\"#4D5663\"},\"text\":\"\"},\"zerolinecolor\":\"#E1E5ED\"}},                        {\"showLink\": true, \"linkText\": \"Export to plot.ly\", \"plotlyServerURL\": \"https://plot.ly\", \"responsive\": true}                    ).then(function(){\n",
       "                            \n",
       "var gd = document.getElementById('b32908e9-b52c-4bdb-937e-bbeee0796bb0');\n",
       "var x = new MutationObserver(function (mutations, observer) {{\n",
       "        var display = window.getComputedStyle(gd).display;\n",
       "        if (!display || display === 'none') {{\n",
       "            console.log([gd, 'removed!']);\n",
       "            Plotly.purge(gd);\n",
       "            observer.disconnect();\n",
       "        }}\n",
       "}});\n",
       "\n",
       "// Listen for the removal of the full notebook cells\n",
       "var notebookContainer = gd.closest('#notebook-container');\n",
       "if (notebookContainer) {{\n",
       "    x.observe(notebookContainer, {childList: true});\n",
       "}}\n",
       "\n",
       "// Listen for the clearing of the current output cell\n",
       "var outputEl = gd.closest('.output');\n",
       "if (outputEl) {{\n",
       "    x.observe(outputEl, {childList: true});\n",
       "}}\n",
       "\n",
       "                        })                };                });            </script>        </div>"
      ]
     },
     "metadata": {},
     "output_type": "display_data"
    }
   ],
   "source": [
    "df1[[\"A\", \"B\"]].iplot(kind = 'spread')\n",
    "\n",
    "# Useful for stock data to see the spread between 2 stocks"
   ]
  },
  {
   "cell_type": "code",
   "execution_count": 55,
   "metadata": {},
   "outputs": [
    {
     "data": {
      "application/vnd.plotly.v1+json": {
       "config": {
        "linkText": "Export to plot.ly",
        "plotlyServerURL": "https://plot.ly",
        "showLink": true
       },
       "data": [
        {
         "marker": {
          "color": [
           "rgb(255, 153, 51)",
           "rgb(55, 128, 191)",
           "rgb(50, 171, 96)",
           "rgb(128, 0, 128)",
           "rgb(219, 64, 82)",
           "rgb(0, 128, 128)",
           "rgb(255, 255, 51)",
           "rgb(128, 128, 0)",
           "rgb(251, 128, 114)",
           "rgb(128, 177, 211)"
          ],
          "line": {
           "width": 1.3
          },
          "size": [
           54,
           68,
           72,
           66,
           91,
           86,
           63,
           75,
           68,
           72,
           99,
           59,
           66,
           60,
           41,
           67,
           49,
           31,
           60,
           51,
           60,
           62,
           45,
           57,
           60,
           95,
           55,
           52,
           77,
           52,
           55,
           90,
           87,
           69,
           20,
           58,
           81,
           32,
           70,
           67,
           65,
           103,
           112,
           70,
           46,
           73,
           84,
           33,
           44,
           69,
           53,
           63,
           63,
           29,
           76,
           56,
           51,
           47,
           37,
           43,
           53,
           50,
           59,
           71,
           43,
           83,
           33,
           40,
           80,
           70,
           56,
           37,
           40,
           73,
           57,
           58,
           78,
           54,
           40,
           68,
           47,
           67,
           12,
           51,
           39,
           76,
           65,
           79,
           36,
           86,
           18,
           93,
           88,
           52,
           42,
           94,
           52,
           65,
           56,
           73
          ],
          "symbol": "circle"
         },
         "mode": "markers",
         "text": "",
         "type": "scatter",
         "x": [
          0.5743707795773935,
          0.7705130471123088,
          -1.1576336254777675,
          -0.8271035026452863,
          0.7425917665606087,
          -0.5394750578829458,
          0.5097192595359479,
          0.5432487081145778,
          -0.017946748455862877,
          0.19581581905947343,
          -1.437598250743915,
          2.218752439044428,
          1.3735761727944185,
          0.4110662686393877,
          -1.2762577922869192,
          1.052973143565982,
          1.4455702341590444,
          -0.3948389358880354,
          0.7885045139246953,
          -1.048373347634528,
          1.7428723409947369,
          0.5095898223142886,
          -0.40242338927638993,
          0.7895293899801388,
          -1.1684034943003128,
          -0.04221538280344773,
          0.008138638768228417,
          -0.4886444367606532,
          0.372696913991112,
          0.012203537415463457,
          1.3219400832950743,
          0.4426993414749163,
          0.6954759067905433,
          1.26173184725225,
          0.6031545937641348,
          0.8314386262457409,
          -1.9414446443208866,
          0.44729577583315866,
          -0.1519969814341827,
          1.4347967567547704,
          0.4231389277658858,
          -0.3464188794612597,
          -1.1560117204001936,
          -0.3371028319649269,
          0.9280885194745121,
          -0.33478270805751936,
          2.501829705680731,
          0.6545880808894924,
          -0.3253344899082747,
          1.0445833650807033,
          0.6378047610339664,
          -2.282408309947842,
          -0.9940910712619948,
          1.593352030366997,
          0.9796354322121585,
          -0.14555141905550475,
          1.938036037209001,
          0.4868173620202219,
          0.055745582967331925,
          0.8956207552321556,
          0.11210772463177247,
          -0.33800571080152314,
          -1.3960145152016388,
          2.1771435310890195,
          -0.21470397682343476,
          0.4522706930495062,
          0.9164948956794404,
          0.8686559643236597,
          -0.781959644239122,
          0.858071168774533,
          1.0682392817882957,
          -0.8544402572414872,
          -0.10900933498317333,
          -0.6310301425552112,
          -0.7648997140020927,
          1.150003153635081,
          1.0797631083191377,
          -0.45546653209706256,
          -0.04107528864510263,
          0.5455832227617043,
          -0.013623144913418072,
          0.8627690024800236,
          -0.444669171787977,
          -0.09778715447296922,
          -0.9840028543722682,
          -0.7197814724774163,
          0.5492328656564691,
          0.3865729478490786,
          0.9060294279206033,
          -0.4274656683036674,
          0.7060489877334019,
          -0.38594158839707665,
          0.5846720573475902,
          0.715150753017314,
          -0.5970239007455065,
          0.46585132559113374,
          -0.18843515452973725,
          0.9407973388139189,
          -1.2463834784309387,
          1.557031562545552
         ],
         "y": [
          0.8016641080924541,
          1.0077391146377723,
          0.27651367544996946,
          -2.1570213570008927,
          -1.1235011021677124,
          0.17510373317808275,
          0.5739852492901831,
          0.08400858387755353,
          -1.7399189233318215,
          1.373956525773911,
          -0.6055411343301496,
          0.07895635184420437,
          1.9396245569934054,
          0.21052865131167792,
          0.8041135995879579,
          1.2067828700888212,
          -1.2391501426725224,
          -0.602365415491375,
          -1.2116734000900296,
          -0.5657984205463799,
          -0.30418317029567005,
          -1.3047874224393003,
          -1.9023818194008624,
          1.2952595792792636,
          0.10138680285600672,
          0.0223449098802518,
          0.25608582492185883,
          -0.8817831404171913,
          0.364858694437755,
          -1.1104434289726777,
          0.3175327732447648,
          0.4440791680629179,
          0.295798249153598,
          0.17144218397646702,
          -0.5670235515093524,
          1.5675401024850084,
          -0.3154757966663135,
          -0.9569793691086736,
          -0.08939617748473268,
          -1.4138336943563812,
          -0.715750128405275,
          0.26616513383692075,
          -0.7576063158477336,
          1.0044504867732704,
          -0.8528844132117523,
          -1.3137522421554162,
          -0.6297247932341066,
          0.6641310484582209,
          0.6842832590670178,
          -1.097732442511773,
          0.7695175485075942,
          -0.8004055106036331,
          -1.2334254972160166,
          -1.3461652044016847,
          -0.44328078003252724,
          0.12362524915851832,
          -0.703900374883289,
          1.5964916213576874,
          -0.7175995763374521,
          0.7303661705616081,
          1.6433808900162372,
          -0.6732022934593243,
          0.39075007107051796,
          0.7030593293505272,
          -0.36446992902141634,
          -0.8641351675878642,
          -0.8600094939920322,
          -0.7513060798787412,
          2.286811969914792,
          -0.46975880928066727,
          -1.5697616694093142,
          -0.2921380197460708,
          0.727262007763347,
          0.4960816199155096,
          0.30461017406051066,
          -0.44238754745680947,
          -0.019873063964267003,
          -0.9791775276148362,
          0.8333268577557206,
          -0.5577902793680444,
          -0.7902334272887995,
          -1.409128891545519,
          -0.49896367670798036,
          -1.098227923147296,
          -0.16852914853637593,
          0.37570018520333304,
          -2.161831239989233,
          -0.7378821662771905,
          -0.06571168846656328,
          0.47600300766597164,
          0.9217086796711035,
          -0.5276134738110552,
          0.19389281217411172,
          -0.1976527698633932,
          -1.7029397917737243,
          -0.18454993343459655,
          -0.30032143747151385,
          0.6226966256674825,
          -0.6119109736503978,
          -2.241247130842427
         ]
        }
       ],
       "layout": {
        "legend": {
         "bgcolor": "#F5F6F9",
         "font": {
          "color": "#4D5663"
         }
        },
        "paper_bgcolor": "#F5F6F9",
        "plot_bgcolor": "#F5F6F9",
        "template": {
         "data": {
          "bar": [
           {
            "error_x": {
             "color": "#2a3f5f"
            },
            "error_y": {
             "color": "#2a3f5f"
            },
            "marker": {
             "line": {
              "color": "#E5ECF6",
              "width": 0.5
             },
             "pattern": {
              "fillmode": "overlay",
              "size": 10,
              "solidity": 0.2
             }
            },
            "type": "bar"
           }
          ],
          "barpolar": [
           {
            "marker": {
             "line": {
              "color": "#E5ECF6",
              "width": 0.5
             },
             "pattern": {
              "fillmode": "overlay",
              "size": 10,
              "solidity": 0.2
             }
            },
            "type": "barpolar"
           }
          ],
          "carpet": [
           {
            "aaxis": {
             "endlinecolor": "#2a3f5f",
             "gridcolor": "white",
             "linecolor": "white",
             "minorgridcolor": "white",
             "startlinecolor": "#2a3f5f"
            },
            "baxis": {
             "endlinecolor": "#2a3f5f",
             "gridcolor": "white",
             "linecolor": "white",
             "minorgridcolor": "white",
             "startlinecolor": "#2a3f5f"
            },
            "type": "carpet"
           }
          ],
          "choropleth": [
           {
            "colorbar": {
             "outlinewidth": 0,
             "ticks": ""
            },
            "type": "choropleth"
           }
          ],
          "contour": [
           {
            "colorbar": {
             "outlinewidth": 0,
             "ticks": ""
            },
            "colorscale": [
             [
              0,
              "#0d0887"
             ],
             [
              0.1111111111111111,
              "#46039f"
             ],
             [
              0.2222222222222222,
              "#7201a8"
             ],
             [
              0.3333333333333333,
              "#9c179e"
             ],
             [
              0.4444444444444444,
              "#bd3786"
             ],
             [
              0.5555555555555556,
              "#d8576b"
             ],
             [
              0.6666666666666666,
              "#ed7953"
             ],
             [
              0.7777777777777778,
              "#fb9f3a"
             ],
             [
              0.8888888888888888,
              "#fdca26"
             ],
             [
              1,
              "#f0f921"
             ]
            ],
            "type": "contour"
           }
          ],
          "contourcarpet": [
           {
            "colorbar": {
             "outlinewidth": 0,
             "ticks": ""
            },
            "type": "contourcarpet"
           }
          ],
          "heatmap": [
           {
            "colorbar": {
             "outlinewidth": 0,
             "ticks": ""
            },
            "colorscale": [
             [
              0,
              "#0d0887"
             ],
             [
              0.1111111111111111,
              "#46039f"
             ],
             [
              0.2222222222222222,
              "#7201a8"
             ],
             [
              0.3333333333333333,
              "#9c179e"
             ],
             [
              0.4444444444444444,
              "#bd3786"
             ],
             [
              0.5555555555555556,
              "#d8576b"
             ],
             [
              0.6666666666666666,
              "#ed7953"
             ],
             [
              0.7777777777777778,
              "#fb9f3a"
             ],
             [
              0.8888888888888888,
              "#fdca26"
             ],
             [
              1,
              "#f0f921"
             ]
            ],
            "type": "heatmap"
           }
          ],
          "heatmapgl": [
           {
            "colorbar": {
             "outlinewidth": 0,
             "ticks": ""
            },
            "colorscale": [
             [
              0,
              "#0d0887"
             ],
             [
              0.1111111111111111,
              "#46039f"
             ],
             [
              0.2222222222222222,
              "#7201a8"
             ],
             [
              0.3333333333333333,
              "#9c179e"
             ],
             [
              0.4444444444444444,
              "#bd3786"
             ],
             [
              0.5555555555555556,
              "#d8576b"
             ],
             [
              0.6666666666666666,
              "#ed7953"
             ],
             [
              0.7777777777777778,
              "#fb9f3a"
             ],
             [
              0.8888888888888888,
              "#fdca26"
             ],
             [
              1,
              "#f0f921"
             ]
            ],
            "type": "heatmapgl"
           }
          ],
          "histogram": [
           {
            "marker": {
             "pattern": {
              "fillmode": "overlay",
              "size": 10,
              "solidity": 0.2
             }
            },
            "type": "histogram"
           }
          ],
          "histogram2d": [
           {
            "colorbar": {
             "outlinewidth": 0,
             "ticks": ""
            },
            "colorscale": [
             [
              0,
              "#0d0887"
             ],
             [
              0.1111111111111111,
              "#46039f"
             ],
             [
              0.2222222222222222,
              "#7201a8"
             ],
             [
              0.3333333333333333,
              "#9c179e"
             ],
             [
              0.4444444444444444,
              "#bd3786"
             ],
             [
              0.5555555555555556,
              "#d8576b"
             ],
             [
              0.6666666666666666,
              "#ed7953"
             ],
             [
              0.7777777777777778,
              "#fb9f3a"
             ],
             [
              0.8888888888888888,
              "#fdca26"
             ],
             [
              1,
              "#f0f921"
             ]
            ],
            "type": "histogram2d"
           }
          ],
          "histogram2dcontour": [
           {
            "colorbar": {
             "outlinewidth": 0,
             "ticks": ""
            },
            "colorscale": [
             [
              0,
              "#0d0887"
             ],
             [
              0.1111111111111111,
              "#46039f"
             ],
             [
              0.2222222222222222,
              "#7201a8"
             ],
             [
              0.3333333333333333,
              "#9c179e"
             ],
             [
              0.4444444444444444,
              "#bd3786"
             ],
             [
              0.5555555555555556,
              "#d8576b"
             ],
             [
              0.6666666666666666,
              "#ed7953"
             ],
             [
              0.7777777777777778,
              "#fb9f3a"
             ],
             [
              0.8888888888888888,
              "#fdca26"
             ],
             [
              1,
              "#f0f921"
             ]
            ],
            "type": "histogram2dcontour"
           }
          ],
          "mesh3d": [
           {
            "colorbar": {
             "outlinewidth": 0,
             "ticks": ""
            },
            "type": "mesh3d"
           }
          ],
          "parcoords": [
           {
            "line": {
             "colorbar": {
              "outlinewidth": 0,
              "ticks": ""
             }
            },
            "type": "parcoords"
           }
          ],
          "pie": [
           {
            "automargin": true,
            "type": "pie"
           }
          ],
          "scatter": [
           {
            "marker": {
             "colorbar": {
              "outlinewidth": 0,
              "ticks": ""
             }
            },
            "type": "scatter"
           }
          ],
          "scatter3d": [
           {
            "line": {
             "colorbar": {
              "outlinewidth": 0,
              "ticks": ""
             }
            },
            "marker": {
             "colorbar": {
              "outlinewidth": 0,
              "ticks": ""
             }
            },
            "type": "scatter3d"
           }
          ],
          "scattercarpet": [
           {
            "marker": {
             "colorbar": {
              "outlinewidth": 0,
              "ticks": ""
             }
            },
            "type": "scattercarpet"
           }
          ],
          "scattergeo": [
           {
            "marker": {
             "colorbar": {
              "outlinewidth": 0,
              "ticks": ""
             }
            },
            "type": "scattergeo"
           }
          ],
          "scattergl": [
           {
            "marker": {
             "colorbar": {
              "outlinewidth": 0,
              "ticks": ""
             }
            },
            "type": "scattergl"
           }
          ],
          "scattermapbox": [
           {
            "marker": {
             "colorbar": {
              "outlinewidth": 0,
              "ticks": ""
             }
            },
            "type": "scattermapbox"
           }
          ],
          "scatterpolar": [
           {
            "marker": {
             "colorbar": {
              "outlinewidth": 0,
              "ticks": ""
             }
            },
            "type": "scatterpolar"
           }
          ],
          "scatterpolargl": [
           {
            "marker": {
             "colorbar": {
              "outlinewidth": 0,
              "ticks": ""
             }
            },
            "type": "scatterpolargl"
           }
          ],
          "scatterternary": [
           {
            "marker": {
             "colorbar": {
              "outlinewidth": 0,
              "ticks": ""
             }
            },
            "type": "scatterternary"
           }
          ],
          "surface": [
           {
            "colorbar": {
             "outlinewidth": 0,
             "ticks": ""
            },
            "colorscale": [
             [
              0,
              "#0d0887"
             ],
             [
              0.1111111111111111,
              "#46039f"
             ],
             [
              0.2222222222222222,
              "#7201a8"
             ],
             [
              0.3333333333333333,
              "#9c179e"
             ],
             [
              0.4444444444444444,
              "#bd3786"
             ],
             [
              0.5555555555555556,
              "#d8576b"
             ],
             [
              0.6666666666666666,
              "#ed7953"
             ],
             [
              0.7777777777777778,
              "#fb9f3a"
             ],
             [
              0.8888888888888888,
              "#fdca26"
             ],
             [
              1,
              "#f0f921"
             ]
            ],
            "type": "surface"
           }
          ],
          "table": [
           {
            "cells": {
             "fill": {
              "color": "#EBF0F8"
             },
             "line": {
              "color": "white"
             }
            },
            "header": {
             "fill": {
              "color": "#C8D4E3"
             },
             "line": {
              "color": "white"
             }
            },
            "type": "table"
           }
          ]
         },
         "layout": {
          "annotationdefaults": {
           "arrowcolor": "#2a3f5f",
           "arrowhead": 0,
           "arrowwidth": 1
          },
          "autotypenumbers": "strict",
          "coloraxis": {
           "colorbar": {
            "outlinewidth": 0,
            "ticks": ""
           }
          },
          "colorscale": {
           "diverging": [
            [
             0,
             "#8e0152"
            ],
            [
             0.1,
             "#c51b7d"
            ],
            [
             0.2,
             "#de77ae"
            ],
            [
             0.3,
             "#f1b6da"
            ],
            [
             0.4,
             "#fde0ef"
            ],
            [
             0.5,
             "#f7f7f7"
            ],
            [
             0.6,
             "#e6f5d0"
            ],
            [
             0.7,
             "#b8e186"
            ],
            [
             0.8,
             "#7fbc41"
            ],
            [
             0.9,
             "#4d9221"
            ],
            [
             1,
             "#276419"
            ]
           ],
           "sequential": [
            [
             0,
             "#0d0887"
            ],
            [
             0.1111111111111111,
             "#46039f"
            ],
            [
             0.2222222222222222,
             "#7201a8"
            ],
            [
             0.3333333333333333,
             "#9c179e"
            ],
            [
             0.4444444444444444,
             "#bd3786"
            ],
            [
             0.5555555555555556,
             "#d8576b"
            ],
            [
             0.6666666666666666,
             "#ed7953"
            ],
            [
             0.7777777777777778,
             "#fb9f3a"
            ],
            [
             0.8888888888888888,
             "#fdca26"
            ],
            [
             1,
             "#f0f921"
            ]
           ],
           "sequentialminus": [
            [
             0,
             "#0d0887"
            ],
            [
             0.1111111111111111,
             "#46039f"
            ],
            [
             0.2222222222222222,
             "#7201a8"
            ],
            [
             0.3333333333333333,
             "#9c179e"
            ],
            [
             0.4444444444444444,
             "#bd3786"
            ],
            [
             0.5555555555555556,
             "#d8576b"
            ],
            [
             0.6666666666666666,
             "#ed7953"
            ],
            [
             0.7777777777777778,
             "#fb9f3a"
            ],
            [
             0.8888888888888888,
             "#fdca26"
            ],
            [
             1,
             "#f0f921"
            ]
           ]
          },
          "colorway": [
           "#636efa",
           "#EF553B",
           "#00cc96",
           "#ab63fa",
           "#FFA15A",
           "#19d3f3",
           "#FF6692",
           "#B6E880",
           "#FF97FF",
           "#FECB52"
          ],
          "font": {
           "color": "#2a3f5f"
          },
          "geo": {
           "bgcolor": "white",
           "lakecolor": "white",
           "landcolor": "#E5ECF6",
           "showlakes": true,
           "showland": true,
           "subunitcolor": "white"
          },
          "hoverlabel": {
           "align": "left"
          },
          "hovermode": "closest",
          "mapbox": {
           "style": "light"
          },
          "paper_bgcolor": "white",
          "plot_bgcolor": "#E5ECF6",
          "polar": {
           "angularaxis": {
            "gridcolor": "white",
            "linecolor": "white",
            "ticks": ""
           },
           "bgcolor": "#E5ECF6",
           "radialaxis": {
            "gridcolor": "white",
            "linecolor": "white",
            "ticks": ""
           }
          },
          "scene": {
           "xaxis": {
            "backgroundcolor": "#E5ECF6",
            "gridcolor": "white",
            "gridwidth": 2,
            "linecolor": "white",
            "showbackground": true,
            "ticks": "",
            "zerolinecolor": "white"
           },
           "yaxis": {
            "backgroundcolor": "#E5ECF6",
            "gridcolor": "white",
            "gridwidth": 2,
            "linecolor": "white",
            "showbackground": true,
            "ticks": "",
            "zerolinecolor": "white"
           },
           "zaxis": {
            "backgroundcolor": "#E5ECF6",
            "gridcolor": "white",
            "gridwidth": 2,
            "linecolor": "white",
            "showbackground": true,
            "ticks": "",
            "zerolinecolor": "white"
           }
          },
          "shapedefaults": {
           "line": {
            "color": "#2a3f5f"
           }
          },
          "ternary": {
           "aaxis": {
            "gridcolor": "white",
            "linecolor": "white",
            "ticks": ""
           },
           "baxis": {
            "gridcolor": "white",
            "linecolor": "white",
            "ticks": ""
           },
           "bgcolor": "#E5ECF6",
           "caxis": {
            "gridcolor": "white",
            "linecolor": "white",
            "ticks": ""
           }
          },
          "title": {
           "x": 0.05
          },
          "xaxis": {
           "automargin": true,
           "gridcolor": "white",
           "linecolor": "white",
           "ticks": "",
           "title": {
            "standoff": 15
           },
           "zerolinecolor": "white",
           "zerolinewidth": 2
          },
          "yaxis": {
           "automargin": true,
           "gridcolor": "white",
           "linecolor": "white",
           "ticks": "",
           "title": {
            "standoff": 15
           },
           "zerolinecolor": "white",
           "zerolinewidth": 2
          }
         }
        },
        "title": {
         "font": {
          "color": "#4D5663"
         }
        },
        "xaxis": {
         "gridcolor": "#E1E5ED",
         "showgrid": true,
         "tickfont": {
          "color": "#4D5663"
         },
         "title": {
          "font": {
           "color": "#4D5663"
          },
          "text": ""
         },
         "zerolinecolor": "#E1E5ED"
        },
        "yaxis": {
         "gridcolor": "#E1E5ED",
         "showgrid": true,
         "tickfont": {
          "color": "#4D5663"
         },
         "title": {
          "font": {
           "color": "#4D5663"
          },
          "text": ""
         },
         "zerolinecolor": "#E1E5ED"
        }
       }
      },
      "text/html": [
       "<div>                            <div id=\"b7625bed-2a80-475c-b3d0-32c8ea3496df\" class=\"plotly-graph-div\" style=\"height:525px; width:100%;\"></div>            <script type=\"text/javascript\">                require([\"plotly\"], function(Plotly) {                    window.PLOTLYENV=window.PLOTLYENV || {};\n",
       "                    window.PLOTLYENV.BASE_URL='https://plot.ly';                                    if (document.getElementById(\"b7625bed-2a80-475c-b3d0-32c8ea3496df\")) {                    Plotly.newPlot(                        \"b7625bed-2a80-475c-b3d0-32c8ea3496df\",                        [{\"marker\":{\"color\":[\"rgb(255, 153, 51)\",\"rgb(55, 128, 191)\",\"rgb(50, 171, 96)\",\"rgb(128, 0, 128)\",\"rgb(219, 64, 82)\",\"rgb(0, 128, 128)\",\"rgb(255, 255, 51)\",\"rgb(128, 128, 0)\",\"rgb(251, 128, 114)\",\"rgb(128, 177, 211)\"],\"line\":{\"width\":1.3},\"size\":[54,68,72,66,91,86,63,75,68,72,99,59,66,60,41,67,49,31,60,51,60,62,45,57,60,95,55,52,77,52,55,90,87,69,20,58,81,32,70,67,65,103,112,70,46,73,84,33,44,69,53,63,63,29,76,56,51,47,37,43,53,50,59,71,43,83,33,40,80,70,56,37,40,73,57,58,78,54,40,68,47,67,12,51,39,76,65,79,36,86,18,93,88,52,42,94,52,65,56,73],\"symbol\":\"circle\"},\"mode\":\"markers\",\"text\":\"\",\"x\":[0.5743707795773935,0.7705130471123088,-1.1576336254777675,-0.8271035026452863,0.7425917665606087,-0.5394750578829458,0.5097192595359479,0.5432487081145778,-0.017946748455862877,0.19581581905947343,-1.437598250743915,2.218752439044428,1.3735761727944185,0.4110662686393877,-1.2762577922869192,1.052973143565982,1.4455702341590444,-0.3948389358880354,0.7885045139246953,-1.048373347634528,1.7428723409947369,0.5095898223142886,-0.40242338927638993,0.7895293899801388,-1.1684034943003128,-0.04221538280344773,0.008138638768228417,-0.4886444367606532,0.372696913991112,0.012203537415463457,1.3219400832950743,0.4426993414749163,0.6954759067905433,1.26173184725225,0.6031545937641348,0.8314386262457409,-1.9414446443208866,0.44729577583315866,-0.1519969814341827,1.4347967567547704,0.4231389277658858,-0.3464188794612597,-1.1560117204001936,-0.3371028319649269,0.9280885194745121,-0.33478270805751936,2.501829705680731,0.6545880808894924,-0.3253344899082747,1.0445833650807033,0.6378047610339664,-2.282408309947842,-0.9940910712619948,1.593352030366997,0.9796354322121585,-0.14555141905550475,1.938036037209001,0.4868173620202219,0.055745582967331925,0.8956207552321556,0.11210772463177247,-0.33800571080152314,-1.3960145152016388,2.1771435310890195,-0.21470397682343476,0.4522706930495062,0.9164948956794404,0.8686559643236597,-0.781959644239122,0.858071168774533,1.0682392817882957,-0.8544402572414872,-0.10900933498317333,-0.6310301425552112,-0.7648997140020927,1.150003153635081,1.0797631083191377,-0.45546653209706256,-0.04107528864510263,0.5455832227617043,-0.013623144913418072,0.8627690024800236,-0.444669171787977,-0.09778715447296922,-0.9840028543722682,-0.7197814724774163,0.5492328656564691,0.3865729478490786,0.9060294279206033,-0.4274656683036674,0.7060489877334019,-0.38594158839707665,0.5846720573475902,0.715150753017314,-0.5970239007455065,0.46585132559113374,-0.18843515452973725,0.9407973388139189,-1.2463834784309387,1.557031562545552],\"y\":[0.8016641080924541,1.0077391146377723,0.27651367544996946,-2.1570213570008927,-1.1235011021677124,0.17510373317808275,0.5739852492901831,0.08400858387755353,-1.7399189233318215,1.373956525773911,-0.6055411343301496,0.07895635184420437,1.9396245569934054,0.21052865131167792,0.8041135995879579,1.2067828700888212,-1.2391501426725224,-0.602365415491375,-1.2116734000900296,-0.5657984205463799,-0.30418317029567005,-1.3047874224393003,-1.9023818194008624,1.2952595792792636,0.10138680285600672,0.0223449098802518,0.25608582492185883,-0.8817831404171913,0.364858694437755,-1.1104434289726777,0.3175327732447648,0.4440791680629179,0.295798249153598,0.17144218397646702,-0.5670235515093524,1.5675401024850084,-0.3154757966663135,-0.9569793691086736,-0.08939617748473268,-1.4138336943563812,-0.715750128405275,0.26616513383692075,-0.7576063158477336,1.0044504867732704,-0.8528844132117523,-1.3137522421554162,-0.6297247932341066,0.6641310484582209,0.6842832590670178,-1.097732442511773,0.7695175485075942,-0.8004055106036331,-1.2334254972160166,-1.3461652044016847,-0.44328078003252724,0.12362524915851832,-0.703900374883289,1.5964916213576874,-0.7175995763374521,0.7303661705616081,1.6433808900162372,-0.6732022934593243,0.39075007107051796,0.7030593293505272,-0.36446992902141634,-0.8641351675878642,-0.8600094939920322,-0.7513060798787412,2.286811969914792,-0.46975880928066727,-1.5697616694093142,-0.2921380197460708,0.727262007763347,0.4960816199155096,0.30461017406051066,-0.44238754745680947,-0.019873063964267003,-0.9791775276148362,0.8333268577557206,-0.5577902793680444,-0.7902334272887995,-1.409128891545519,-0.49896367670798036,-1.098227923147296,-0.16852914853637593,0.37570018520333304,-2.161831239989233,-0.7378821662771905,-0.06571168846656328,0.47600300766597164,0.9217086796711035,-0.5276134738110552,0.19389281217411172,-0.1976527698633932,-1.7029397917737243,-0.18454993343459655,-0.30032143747151385,0.6226966256674825,-0.6119109736503978,-2.241247130842427],\"type\":\"scatter\"}],                        {\"legend\":{\"bgcolor\":\"#F5F6F9\",\"font\":{\"color\":\"#4D5663\"}},\"paper_bgcolor\":\"#F5F6F9\",\"plot_bgcolor\":\"#F5F6F9\",\"template\":{\"data\":{\"barpolar\":[{\"marker\":{\"line\":{\"color\":\"#E5ECF6\",\"width\":0.5},\"pattern\":{\"fillmode\":\"overlay\",\"size\":10,\"solidity\":0.2}},\"type\":\"barpolar\"}],\"bar\":[{\"error_x\":{\"color\":\"#2a3f5f\"},\"error_y\":{\"color\":\"#2a3f5f\"},\"marker\":{\"line\":{\"color\":\"#E5ECF6\",\"width\":0.5},\"pattern\":{\"fillmode\":\"overlay\",\"size\":10,\"solidity\":0.2}},\"type\":\"bar\"}],\"carpet\":[{\"aaxis\":{\"endlinecolor\":\"#2a3f5f\",\"gridcolor\":\"white\",\"linecolor\":\"white\",\"minorgridcolor\":\"white\",\"startlinecolor\":\"#2a3f5f\"},\"baxis\":{\"endlinecolor\":\"#2a3f5f\",\"gridcolor\":\"white\",\"linecolor\":\"white\",\"minorgridcolor\":\"white\",\"startlinecolor\":\"#2a3f5f\"},\"type\":\"carpet\"}],\"choropleth\":[{\"colorbar\":{\"outlinewidth\":0,\"ticks\":\"\"},\"type\":\"choropleth\"}],\"contourcarpet\":[{\"colorbar\":{\"outlinewidth\":0,\"ticks\":\"\"},\"type\":\"contourcarpet\"}],\"contour\":[{\"colorbar\":{\"outlinewidth\":0,\"ticks\":\"\"},\"colorscale\":[[0.0,\"#0d0887\"],[0.1111111111111111,\"#46039f\"],[0.2222222222222222,\"#7201a8\"],[0.3333333333333333,\"#9c179e\"],[0.4444444444444444,\"#bd3786\"],[0.5555555555555556,\"#d8576b\"],[0.6666666666666666,\"#ed7953\"],[0.7777777777777778,\"#fb9f3a\"],[0.8888888888888888,\"#fdca26\"],[1.0,\"#f0f921\"]],\"type\":\"contour\"}],\"heatmapgl\":[{\"colorbar\":{\"outlinewidth\":0,\"ticks\":\"\"},\"colorscale\":[[0.0,\"#0d0887\"],[0.1111111111111111,\"#46039f\"],[0.2222222222222222,\"#7201a8\"],[0.3333333333333333,\"#9c179e\"],[0.4444444444444444,\"#bd3786\"],[0.5555555555555556,\"#d8576b\"],[0.6666666666666666,\"#ed7953\"],[0.7777777777777778,\"#fb9f3a\"],[0.8888888888888888,\"#fdca26\"],[1.0,\"#f0f921\"]],\"type\":\"heatmapgl\"}],\"heatmap\":[{\"colorbar\":{\"outlinewidth\":0,\"ticks\":\"\"},\"colorscale\":[[0.0,\"#0d0887\"],[0.1111111111111111,\"#46039f\"],[0.2222222222222222,\"#7201a8\"],[0.3333333333333333,\"#9c179e\"],[0.4444444444444444,\"#bd3786\"],[0.5555555555555556,\"#d8576b\"],[0.6666666666666666,\"#ed7953\"],[0.7777777777777778,\"#fb9f3a\"],[0.8888888888888888,\"#fdca26\"],[1.0,\"#f0f921\"]],\"type\":\"heatmap\"}],\"histogram2dcontour\":[{\"colorbar\":{\"outlinewidth\":0,\"ticks\":\"\"},\"colorscale\":[[0.0,\"#0d0887\"],[0.1111111111111111,\"#46039f\"],[0.2222222222222222,\"#7201a8\"],[0.3333333333333333,\"#9c179e\"],[0.4444444444444444,\"#bd3786\"],[0.5555555555555556,\"#d8576b\"],[0.6666666666666666,\"#ed7953\"],[0.7777777777777778,\"#fb9f3a\"],[0.8888888888888888,\"#fdca26\"],[1.0,\"#f0f921\"]],\"type\":\"histogram2dcontour\"}],\"histogram2d\":[{\"colorbar\":{\"outlinewidth\":0,\"ticks\":\"\"},\"colorscale\":[[0.0,\"#0d0887\"],[0.1111111111111111,\"#46039f\"],[0.2222222222222222,\"#7201a8\"],[0.3333333333333333,\"#9c179e\"],[0.4444444444444444,\"#bd3786\"],[0.5555555555555556,\"#d8576b\"],[0.6666666666666666,\"#ed7953\"],[0.7777777777777778,\"#fb9f3a\"],[0.8888888888888888,\"#fdca26\"],[1.0,\"#f0f921\"]],\"type\":\"histogram2d\"}],\"histogram\":[{\"marker\":{\"pattern\":{\"fillmode\":\"overlay\",\"size\":10,\"solidity\":0.2}},\"type\":\"histogram\"}],\"mesh3d\":[{\"colorbar\":{\"outlinewidth\":0,\"ticks\":\"\"},\"type\":\"mesh3d\"}],\"parcoords\":[{\"line\":{\"colorbar\":{\"outlinewidth\":0,\"ticks\":\"\"}},\"type\":\"parcoords\"}],\"pie\":[{\"automargin\":true,\"type\":\"pie\"}],\"scatter3d\":[{\"line\":{\"colorbar\":{\"outlinewidth\":0,\"ticks\":\"\"}},\"marker\":{\"colorbar\":{\"outlinewidth\":0,\"ticks\":\"\"}},\"type\":\"scatter3d\"}],\"scattercarpet\":[{\"marker\":{\"colorbar\":{\"outlinewidth\":0,\"ticks\":\"\"}},\"type\":\"scattercarpet\"}],\"scattergeo\":[{\"marker\":{\"colorbar\":{\"outlinewidth\":0,\"ticks\":\"\"}},\"type\":\"scattergeo\"}],\"scattergl\":[{\"marker\":{\"colorbar\":{\"outlinewidth\":0,\"ticks\":\"\"}},\"type\":\"scattergl\"}],\"scattermapbox\":[{\"marker\":{\"colorbar\":{\"outlinewidth\":0,\"ticks\":\"\"}},\"type\":\"scattermapbox\"}],\"scatterpolargl\":[{\"marker\":{\"colorbar\":{\"outlinewidth\":0,\"ticks\":\"\"}},\"type\":\"scatterpolargl\"}],\"scatterpolar\":[{\"marker\":{\"colorbar\":{\"outlinewidth\":0,\"ticks\":\"\"}},\"type\":\"scatterpolar\"}],\"scatter\":[{\"marker\":{\"colorbar\":{\"outlinewidth\":0,\"ticks\":\"\"}},\"type\":\"scatter\"}],\"scatterternary\":[{\"marker\":{\"colorbar\":{\"outlinewidth\":0,\"ticks\":\"\"}},\"type\":\"scatterternary\"}],\"surface\":[{\"colorbar\":{\"outlinewidth\":0,\"ticks\":\"\"},\"colorscale\":[[0.0,\"#0d0887\"],[0.1111111111111111,\"#46039f\"],[0.2222222222222222,\"#7201a8\"],[0.3333333333333333,\"#9c179e\"],[0.4444444444444444,\"#bd3786\"],[0.5555555555555556,\"#d8576b\"],[0.6666666666666666,\"#ed7953\"],[0.7777777777777778,\"#fb9f3a\"],[0.8888888888888888,\"#fdca26\"],[1.0,\"#f0f921\"]],\"type\":\"surface\"}],\"table\":[{\"cells\":{\"fill\":{\"color\":\"#EBF0F8\"},\"line\":{\"color\":\"white\"}},\"header\":{\"fill\":{\"color\":\"#C8D4E3\"},\"line\":{\"color\":\"white\"}},\"type\":\"table\"}]},\"layout\":{\"annotationdefaults\":{\"arrowcolor\":\"#2a3f5f\",\"arrowhead\":0,\"arrowwidth\":1},\"autotypenumbers\":\"strict\",\"coloraxis\":{\"colorbar\":{\"outlinewidth\":0,\"ticks\":\"\"}},\"colorscale\":{\"diverging\":[[0,\"#8e0152\"],[0.1,\"#c51b7d\"],[0.2,\"#de77ae\"],[0.3,\"#f1b6da\"],[0.4,\"#fde0ef\"],[0.5,\"#f7f7f7\"],[0.6,\"#e6f5d0\"],[0.7,\"#b8e186\"],[0.8,\"#7fbc41\"],[0.9,\"#4d9221\"],[1,\"#276419\"]],\"sequential\":[[0.0,\"#0d0887\"],[0.1111111111111111,\"#46039f\"],[0.2222222222222222,\"#7201a8\"],[0.3333333333333333,\"#9c179e\"],[0.4444444444444444,\"#bd3786\"],[0.5555555555555556,\"#d8576b\"],[0.6666666666666666,\"#ed7953\"],[0.7777777777777778,\"#fb9f3a\"],[0.8888888888888888,\"#fdca26\"],[1.0,\"#f0f921\"]],\"sequentialminus\":[[0.0,\"#0d0887\"],[0.1111111111111111,\"#46039f\"],[0.2222222222222222,\"#7201a8\"],[0.3333333333333333,\"#9c179e\"],[0.4444444444444444,\"#bd3786\"],[0.5555555555555556,\"#d8576b\"],[0.6666666666666666,\"#ed7953\"],[0.7777777777777778,\"#fb9f3a\"],[0.8888888888888888,\"#fdca26\"],[1.0,\"#f0f921\"]]},\"colorway\":[\"#636efa\",\"#EF553B\",\"#00cc96\",\"#ab63fa\",\"#FFA15A\",\"#19d3f3\",\"#FF6692\",\"#B6E880\",\"#FF97FF\",\"#FECB52\"],\"font\":{\"color\":\"#2a3f5f\"},\"geo\":{\"bgcolor\":\"white\",\"lakecolor\":\"white\",\"landcolor\":\"#E5ECF6\",\"showlakes\":true,\"showland\":true,\"subunitcolor\":\"white\"},\"hoverlabel\":{\"align\":\"left\"},\"hovermode\":\"closest\",\"mapbox\":{\"style\":\"light\"},\"paper_bgcolor\":\"white\",\"plot_bgcolor\":\"#E5ECF6\",\"polar\":{\"angularaxis\":{\"gridcolor\":\"white\",\"linecolor\":\"white\",\"ticks\":\"\"},\"bgcolor\":\"#E5ECF6\",\"radialaxis\":{\"gridcolor\":\"white\",\"linecolor\":\"white\",\"ticks\":\"\"}},\"scene\":{\"xaxis\":{\"backgroundcolor\":\"#E5ECF6\",\"gridcolor\":\"white\",\"gridwidth\":2,\"linecolor\":\"white\",\"showbackground\":true,\"ticks\":\"\",\"zerolinecolor\":\"white\"},\"yaxis\":{\"backgroundcolor\":\"#E5ECF6\",\"gridcolor\":\"white\",\"gridwidth\":2,\"linecolor\":\"white\",\"showbackground\":true,\"ticks\":\"\",\"zerolinecolor\":\"white\"},\"zaxis\":{\"backgroundcolor\":\"#E5ECF6\",\"gridcolor\":\"white\",\"gridwidth\":2,\"linecolor\":\"white\",\"showbackground\":true,\"ticks\":\"\",\"zerolinecolor\":\"white\"}},\"shapedefaults\":{\"line\":{\"color\":\"#2a3f5f\"}},\"ternary\":{\"aaxis\":{\"gridcolor\":\"white\",\"linecolor\":\"white\",\"ticks\":\"\"},\"baxis\":{\"gridcolor\":\"white\",\"linecolor\":\"white\",\"ticks\":\"\"},\"bgcolor\":\"#E5ECF6\",\"caxis\":{\"gridcolor\":\"white\",\"linecolor\":\"white\",\"ticks\":\"\"}},\"title\":{\"x\":0.05},\"xaxis\":{\"automargin\":true,\"gridcolor\":\"white\",\"linecolor\":\"white\",\"ticks\":\"\",\"title\":{\"standoff\":15},\"zerolinecolor\":\"white\",\"zerolinewidth\":2},\"yaxis\":{\"automargin\":true,\"gridcolor\":\"white\",\"linecolor\":\"white\",\"ticks\":\"\",\"title\":{\"standoff\":15},\"zerolinecolor\":\"white\",\"zerolinewidth\":2}}},\"title\":{\"font\":{\"color\":\"#4D5663\"}},\"xaxis\":{\"gridcolor\":\"#E1E5ED\",\"showgrid\":true,\"tickfont\":{\"color\":\"#4D5663\"},\"title\":{\"font\":{\"color\":\"#4D5663\"},\"text\":\"\"},\"zerolinecolor\":\"#E1E5ED\"},\"yaxis\":{\"gridcolor\":\"#E1E5ED\",\"showgrid\":true,\"tickfont\":{\"color\":\"#4D5663\"},\"title\":{\"font\":{\"color\":\"#4D5663\"},\"text\":\"\"},\"zerolinecolor\":\"#E1E5ED\"}},                        {\"showLink\": true, \"linkText\": \"Export to plot.ly\", \"plotlyServerURL\": \"https://plot.ly\", \"responsive\": true}                    ).then(function(){\n",
       "                            \n",
       "var gd = document.getElementById('b7625bed-2a80-475c-b3d0-32c8ea3496df');\n",
       "var x = new MutationObserver(function (mutations, observer) {{\n",
       "        var display = window.getComputedStyle(gd).display;\n",
       "        if (!display || display === 'none') {{\n",
       "            console.log([gd, 'removed!']);\n",
       "            Plotly.purge(gd);\n",
       "            observer.disconnect();\n",
       "        }}\n",
       "}});\n",
       "\n",
       "// Listen for the removal of the full notebook cells\n",
       "var notebookContainer = gd.closest('#notebook-container');\n",
       "if (notebookContainer) {{\n",
       "    x.observe(notebookContainer, {childList: true});\n",
       "}}\n",
       "\n",
       "// Listen for the clearing of the current output cell\n",
       "var outputEl = gd.closest('.output');\n",
       "if (outputEl) {{\n",
       "    x.observe(outputEl, {childList: true});\n",
       "}}\n",
       "\n",
       "                        })                };                });            </script>        </div>"
      ]
     },
     "metadata": {},
     "output_type": "display_data"
    }
   ],
   "source": [
    "df1.iplot(kind = 'bubble', x = 'A', y = 'B', size = 'C')"
   ]
  },
  {
   "cell_type": "code",
   "execution_count": 56,
   "metadata": {},
   "outputs": [
    {
     "data": {
      "application/vnd.plotly.v1+json": {
       "config": {
        "linkText": "Export to plot.ly",
        "plotlyServerURL": "https://plot.ly",
        "showLink": true
       },
       "data": [
        {
         "histfunc": "count",
         "histnorm": "",
         "marker": {
          "color": "rgba(255, 153, 51, 1.0)",
          "line": {
           "color": "#4D5663",
           "width": 1.3
          }
         },
         "name": "A",
         "nbinsx": 10,
         "opacity": 0.8,
         "orientation": "v",
         "type": "histogram",
         "x": [
          0.5743707795773935,
          0.7705130471123088,
          -1.1576336254777675,
          -0.8271035026452863,
          0.7425917665606087,
          -0.5394750578829458,
          0.5097192595359479,
          0.5432487081145778,
          -0.017946748455862877,
          0.19581581905947343,
          -1.437598250743915,
          2.218752439044428,
          1.3735761727944185,
          0.4110662686393877,
          -1.2762577922869192,
          1.052973143565982,
          1.4455702341590444,
          -0.3948389358880354,
          0.7885045139246953,
          -1.048373347634528,
          1.7428723409947369,
          0.5095898223142886,
          -0.40242338927638993,
          0.7895293899801388,
          -1.1684034943003128,
          -0.04221538280344773,
          0.008138638768228417,
          -0.4886444367606532,
          0.372696913991112,
          0.012203537415463457,
          1.3219400832950743,
          0.4426993414749163,
          0.6954759067905433,
          1.26173184725225,
          0.6031545937641348,
          0.8314386262457409,
          -1.9414446443208866,
          0.44729577583315866,
          -0.1519969814341827,
          1.4347967567547704,
          0.4231389277658858,
          -0.3464188794612597,
          -1.1560117204001936,
          -0.3371028319649269,
          0.9280885194745121,
          -0.33478270805751936,
          2.501829705680731,
          0.6545880808894924,
          -0.3253344899082747,
          1.0445833650807033,
          0.6378047610339664,
          -2.282408309947842,
          -0.9940910712619948,
          1.593352030366997,
          0.9796354322121585,
          -0.14555141905550475,
          1.938036037209001,
          0.4868173620202219,
          0.055745582967331925,
          0.8956207552321556,
          0.11210772463177247,
          -0.33800571080152314,
          -1.3960145152016388,
          2.1771435310890195,
          -0.21470397682343476,
          0.4522706930495062,
          0.9164948956794404,
          0.8686559643236597,
          -0.781959644239122,
          0.858071168774533,
          1.0682392817882957,
          -0.8544402572414872,
          -0.10900933498317333,
          -0.6310301425552112,
          -0.7648997140020927,
          1.150003153635081,
          1.0797631083191377,
          -0.45546653209706256,
          -0.04107528864510263,
          0.5455832227617043,
          -0.013623144913418072,
          0.8627690024800236,
          -0.444669171787977,
          -0.09778715447296922,
          -0.9840028543722682,
          -0.7197814724774163,
          0.5492328656564691,
          0.3865729478490786,
          0.9060294279206033,
          -0.4274656683036674,
          0.7060489877334019,
          -0.38594158839707665,
          0.5846720573475902,
          0.715150753017314,
          -0.5970239007455065,
          0.46585132559113374,
          -0.18843515452973725,
          0.9407973388139189,
          -1.2463834784309387,
          1.557031562545552
         ],
         "xaxis": "x",
         "yaxis": "y"
        },
        {
         "line": {
          "color": "rgba(128, 128, 128, 1.0)",
          "dash": "solid",
          "shape": "linear",
          "width": 1.3
         },
         "marker": {
          "size": 2,
          "symbol": "circle"
         },
         "mode": "markers",
         "name": "A",
         "text": "",
         "type": "scatter",
         "x": [
          0.8016641080924541,
          1.0077391146377723,
          0.27651367544996946,
          -2.1570213570008927,
          -1.1235011021677124,
          0.17510373317808275,
          0.5739852492901831,
          0.08400858387755353,
          -1.7399189233318215,
          1.373956525773911,
          -0.6055411343301496,
          0.07895635184420437,
          1.9396245569934054,
          0.21052865131167792,
          0.8041135995879579,
          1.2067828700888212,
          -1.2391501426725224,
          -0.602365415491375,
          -1.2116734000900296,
          -0.5657984205463799,
          -0.30418317029567005,
          -1.3047874224393003,
          -1.9023818194008624,
          1.2952595792792636,
          0.10138680285600672,
          0.0223449098802518,
          0.25608582492185883,
          -0.8817831404171913,
          0.364858694437755,
          -1.1104434289726777,
          0.3175327732447648,
          0.4440791680629179,
          0.295798249153598,
          0.17144218397646702,
          -0.5670235515093524,
          1.5675401024850084,
          -0.3154757966663135,
          -0.9569793691086736,
          -0.08939617748473268,
          -1.4138336943563812,
          -0.715750128405275,
          0.26616513383692075,
          -0.7576063158477336,
          1.0044504867732704,
          -0.8528844132117523,
          -1.3137522421554162,
          -0.6297247932341066,
          0.6641310484582209,
          0.6842832590670178,
          -1.097732442511773,
          0.7695175485075942,
          -0.8004055106036331,
          -1.2334254972160166,
          -1.3461652044016847,
          -0.44328078003252724,
          0.12362524915851832,
          -0.703900374883289,
          1.5964916213576874,
          -0.7175995763374521,
          0.7303661705616081,
          1.6433808900162372,
          -0.6732022934593243,
          0.39075007107051796,
          0.7030593293505272,
          -0.36446992902141634,
          -0.8641351675878642,
          -0.8600094939920322,
          -0.7513060798787412,
          2.286811969914792,
          -0.46975880928066727,
          -1.5697616694093142,
          -0.2921380197460708,
          0.727262007763347,
          0.4960816199155096,
          0.30461017406051066,
          -0.44238754745680947,
          -0.019873063964267003,
          -0.9791775276148362,
          0.8333268577557206,
          -0.5577902793680444,
          -0.7902334272887995,
          -1.409128891545519,
          -0.49896367670798036,
          -1.098227923147296,
          -0.16852914853637593,
          0.37570018520333304,
          -2.161831239989233,
          -0.7378821662771905,
          -0.06571168846656328,
          0.47600300766597164,
          0.9217086796711035,
          -0.5276134738110552,
          0.19389281217411172,
          -0.1976527698633932,
          -1.7029397917737243,
          -0.18454993343459655,
          -0.30032143747151385,
          0.6226966256674825,
          -0.6119109736503978,
          -2.241247130842427
         ],
         "xaxis": "x2",
         "y": [
          0.5743707795773935,
          0.7705130471123088,
          -1.1576336254777675,
          -0.8271035026452863,
          0.7425917665606087,
          -0.5394750578829458,
          0.5097192595359479,
          0.5432487081145778,
          -0.017946748455862877,
          0.19581581905947343,
          -1.437598250743915,
          2.218752439044428,
          1.3735761727944185,
          0.4110662686393877,
          -1.2762577922869192,
          1.052973143565982,
          1.4455702341590444,
          -0.3948389358880354,
          0.7885045139246953,
          -1.048373347634528,
          1.7428723409947369,
          0.5095898223142886,
          -0.40242338927638993,
          0.7895293899801388,
          -1.1684034943003128,
          -0.04221538280344773,
          0.008138638768228417,
          -0.4886444367606532,
          0.372696913991112,
          0.012203537415463457,
          1.3219400832950743,
          0.4426993414749163,
          0.6954759067905433,
          1.26173184725225,
          0.6031545937641348,
          0.8314386262457409,
          -1.9414446443208866,
          0.44729577583315866,
          -0.1519969814341827,
          1.4347967567547704,
          0.4231389277658858,
          -0.3464188794612597,
          -1.1560117204001936,
          -0.3371028319649269,
          0.9280885194745121,
          -0.33478270805751936,
          2.501829705680731,
          0.6545880808894924,
          -0.3253344899082747,
          1.0445833650807033,
          0.6378047610339664,
          -2.282408309947842,
          -0.9940910712619948,
          1.593352030366997,
          0.9796354322121585,
          -0.14555141905550475,
          1.938036037209001,
          0.4868173620202219,
          0.055745582967331925,
          0.8956207552321556,
          0.11210772463177247,
          -0.33800571080152314,
          -1.3960145152016388,
          2.1771435310890195,
          -0.21470397682343476,
          0.4522706930495062,
          0.9164948956794404,
          0.8686559643236597,
          -0.781959644239122,
          0.858071168774533,
          1.0682392817882957,
          -0.8544402572414872,
          -0.10900933498317333,
          -0.6310301425552112,
          -0.7648997140020927,
          1.150003153635081,
          1.0797631083191377,
          -0.45546653209706256,
          -0.04107528864510263,
          0.5455832227617043,
          -0.013623144913418072,
          0.8627690024800236,
          -0.444669171787977,
          -0.09778715447296922,
          -0.9840028543722682,
          -0.7197814724774163,
          0.5492328656564691,
          0.3865729478490786,
          0.9060294279206033,
          -0.4274656683036674,
          0.7060489877334019,
          -0.38594158839707665,
          0.5846720573475902,
          0.715150753017314,
          -0.5970239007455065,
          0.46585132559113374,
          -0.18843515452973725,
          0.9407973388139189,
          -1.2463834784309387,
          1.557031562545552
         ],
         "yaxis": "y2"
        },
        {
         "line": {
          "color": "rgba(128, 128, 128, 1.0)",
          "dash": "solid",
          "shape": "linear",
          "width": 1.3
         },
         "marker": {
          "size": 2,
          "symbol": "circle"
         },
         "mode": "markers",
         "name": "A",
         "text": "",
         "type": "scatter",
         "x": [
          -0.3872323872369992,
          0.3129896931497061,
          0.549109784320413,
          0.24341866874423576,
          1.499529146175969,
          1.2787254198445286,
          0.09732899572249865,
          0.6786729923835082,
          0.3200378633283294,
          0.5394983246081207,
          1.9304686738992993,
          -0.1476528422065039,
          0.20730005663265114,
          -0.08292020894156982,
          -1.0332985315410432,
          0.2910227164489197,
          -0.6599861700596447,
          -1.5927522845823798,
          -0.06913975252968259,
          -0.5350268297035842,
          -0.08331731434480327,
          0.00951634077256817,
          -0.8740584241386143,
          -0.2450153374063535,
          -0.07959487862678238,
          1.6987821893488655,
          -0.33441987308935917,
          -0.5162053018290103,
          0.7867538063077528,
          -0.511729361567106,
          -0.3442187857712442,
          1.4539410232083054,
          1.3210571784341893,
          0.39479043190364904,
          -2.1444074764988144,
          -0.17579186871750874,
          0.9734103167653669,
          -1.5447888626969593,
          0.44118731033021363,
          0.27523186474757166,
          0.19584184595773688,
          2.1479956346168163,
          2.5676586672224286,
          0.4169684005852465,
          -0.7905053421090682,
          0.6059343090399911,
          1.1718702289760667,
          -1.4892935685267537,
          -0.9155580924696599,
          0.38024870280397105,
          -0.4477636807416802,
          0.09620063605372368,
          0.0746695266655892,
          -1.6872206649919161,
          0.7466670151316754,
          -0.299369659246122,
          -0.5538294760945928,
          -0.7433103932079366,
          -1.2464060855888113,
          -0.9325474584013793,
          -0.41615198461661734,
          -0.5832952182022414,
          -0.15074930142568585,
          0.47296418006624735,
          -0.9547052054771018,
          1.083298302216257,
          -1.4824096196587915,
          -1.122351602702573,
          0.9302847260988449,
          0.441320891411173,
          -0.2833388821399992,
          -1.2753864362984364,
          -1.1169841191601397,
          0.5972396627662147,
          -0.2491773777751275,
          -0.18988486380823916,
          0.8546215215474877,
          -0.38142398607241634,
          -1.0945065986319291,
          0.3142174694812054,
          -0.7462860924229974,
          0.29691771845913784,
          -2.5760037011011914,
          -0.5331102468132428,
          -1.1442208420210935,
          0.7410619807933482,
          0.16704743929932367,
          0.9173053003360592,
          -1.3378054378604043,
          1.2352164222516753,
          -2.260111480808333,
          1.6287248278642656,
          1.3524792127034155,
          -0.4904296405112925,
          -0.9892598998698315,
          1.6661723261514287,
          -0.5076306898533299,
          0.1644388963494178,
          -0.2723433733772562,
          0.5829871208447345
         ],
         "xaxis": "x3",
         "y": [
          0.5743707795773935,
          0.7705130471123088,
          -1.1576336254777675,
          -0.8271035026452863,
          0.7425917665606087,
          -0.5394750578829458,
          0.5097192595359479,
          0.5432487081145778,
          -0.017946748455862877,
          0.19581581905947343,
          -1.437598250743915,
          2.218752439044428,
          1.3735761727944185,
          0.4110662686393877,
          -1.2762577922869192,
          1.052973143565982,
          1.4455702341590444,
          -0.3948389358880354,
          0.7885045139246953,
          -1.048373347634528,
          1.7428723409947369,
          0.5095898223142886,
          -0.40242338927638993,
          0.7895293899801388,
          -1.1684034943003128,
          -0.04221538280344773,
          0.008138638768228417,
          -0.4886444367606532,
          0.372696913991112,
          0.012203537415463457,
          1.3219400832950743,
          0.4426993414749163,
          0.6954759067905433,
          1.26173184725225,
          0.6031545937641348,
          0.8314386262457409,
          -1.9414446443208866,
          0.44729577583315866,
          -0.1519969814341827,
          1.4347967567547704,
          0.4231389277658858,
          -0.3464188794612597,
          -1.1560117204001936,
          -0.3371028319649269,
          0.9280885194745121,
          -0.33478270805751936,
          2.501829705680731,
          0.6545880808894924,
          -0.3253344899082747,
          1.0445833650807033,
          0.6378047610339664,
          -2.282408309947842,
          -0.9940910712619948,
          1.593352030366997,
          0.9796354322121585,
          -0.14555141905550475,
          1.938036037209001,
          0.4868173620202219,
          0.055745582967331925,
          0.8956207552321556,
          0.11210772463177247,
          -0.33800571080152314,
          -1.3960145152016388,
          2.1771435310890195,
          -0.21470397682343476,
          0.4522706930495062,
          0.9164948956794404,
          0.8686559643236597,
          -0.781959644239122,
          0.858071168774533,
          1.0682392817882957,
          -0.8544402572414872,
          -0.10900933498317333,
          -0.6310301425552112,
          -0.7648997140020927,
          1.150003153635081,
          1.0797631083191377,
          -0.45546653209706256,
          -0.04107528864510263,
          0.5455832227617043,
          -0.013623144913418072,
          0.8627690024800236,
          -0.444669171787977,
          -0.09778715447296922,
          -0.9840028543722682,
          -0.7197814724774163,
          0.5492328656564691,
          0.3865729478490786,
          0.9060294279206033,
          -0.4274656683036674,
          0.7060489877334019,
          -0.38594158839707665,
          0.5846720573475902,
          0.715150753017314,
          -0.5970239007455065,
          0.46585132559113374,
          -0.18843515452973725,
          0.9407973388139189,
          -1.2463834784309387,
          1.557031562545552
         ],
         "yaxis": "y3"
        },
        {
         "line": {
          "color": "rgba(128, 128, 128, 1.0)",
          "dash": "solid",
          "shape": "linear",
          "width": 1.3
         },
         "marker": {
          "size": 2,
          "symbol": "circle"
         },
         "mode": "markers",
         "name": "A",
         "text": "",
         "type": "scatter",
         "x": [
          -0.4706922896364643,
          -0.6393288441504061,
          0.5575925212870825,
          -2.1202891520131826,
          0.7016609126653969,
          -0.06663561774881703,
          -0.4973374480135509,
          -0.590882958594366,
          2.184216868456072,
          0.33037161371952095,
          0.4777632094713535,
          0.3821948569152667,
          -1.603506970236447,
          0.03295152166286881,
          0.04081459510336229,
          -1.0542769144183797,
          0.25051753466921883,
          1.79220788387074,
          -2.1640254105521275,
          0.26545027744208516,
          -0.023472918994801143,
          -0.43244261016985147,
          0.3300305691019167,
          1.3612832617727721,
          0.23017392707992243,
          1.0116251964301215,
          0.19420287776944709,
          -1.5681994809354591,
          0.18423853340915497,
          -0.6173534845828159,
          -0.04976064378931739,
          -0.09499890498586602,
          0.5999663887957106,
          0.9470452192499397,
          0.48158232826549746,
          -0.975818121808824,
          1.1789804210928678,
          0.511991126185782,
          -0.6445127118571568,
          0.44639236607138577,
          -0.5119228999079636,
          0.3461769490638204,
          -0.28860962187000627,
          0.30880752893856117,
          0.8602920238557571,
          -1.1065956618682193,
          1.4281271716163646,
          1.7281195306020583,
          -2.070566261701333,
          -0.6463558608812114,
          -1.4424887324180486,
          2.0564826875760485,
          -0.08467260834805933,
          -0.8208555681228488,
          -0.7840923059289396,
          0.5463398928360392,
          -1.9147193931015167,
          -2.0965405121600296,
          0.8854654915221677,
          -0.7077143405284566,
          1.220740051229066,
          0.41684554242125865,
          0.4125617805707906,
          0.09547391990243034,
          -0.24230781619518113,
          -0.36889321022938737,
          0.01572106847202316,
          0.43561389700725806,
          0.11144186558321814,
          -0.6508334551545648,
          1.018199714126553,
          0.8714881246496483,
          -1.5536263117876437,
          2.235615408287663,
          0.12156182099911096,
          0.0745440501953923,
          1.3531429059771674,
          0.7934764526588117,
          2.5958981612081273,
          1.1486359575895522,
          -2.3844317905567403,
          -0.6650930734834832,
          0.05235770758444297,
          0.08514327670747696,
          1.249831995368982,
          -0.9450238390834802,
          -0.2639259615069109,
          -0.52369639655623,
          0.49020926089127365,
          0.34420441702195825,
          0.3041093733430783,
          0.22057571199250411,
          0.7505519778911802,
          -1.2174904593310871,
          1.056341055422691,
          1.2792360322150826,
          -0.5399025492546313,
          -0.13763862502097546,
          -2.0187290599712178,
          -1.9068308822417757
         ],
         "xaxis": "x4",
         "y": [
          0.5743707795773935,
          0.7705130471123088,
          -1.1576336254777675,
          -0.8271035026452863,
          0.7425917665606087,
          -0.5394750578829458,
          0.5097192595359479,
          0.5432487081145778,
          -0.017946748455862877,
          0.19581581905947343,
          -1.437598250743915,
          2.218752439044428,
          1.3735761727944185,
          0.4110662686393877,
          -1.2762577922869192,
          1.052973143565982,
          1.4455702341590444,
          -0.3948389358880354,
          0.7885045139246953,
          -1.048373347634528,
          1.7428723409947369,
          0.5095898223142886,
          -0.40242338927638993,
          0.7895293899801388,
          -1.1684034943003128,
          -0.04221538280344773,
          0.008138638768228417,
          -0.4886444367606532,
          0.372696913991112,
          0.012203537415463457,
          1.3219400832950743,
          0.4426993414749163,
          0.6954759067905433,
          1.26173184725225,
          0.6031545937641348,
          0.8314386262457409,
          -1.9414446443208866,
          0.44729577583315866,
          -0.1519969814341827,
          1.4347967567547704,
          0.4231389277658858,
          -0.3464188794612597,
          -1.1560117204001936,
          -0.3371028319649269,
          0.9280885194745121,
          -0.33478270805751936,
          2.501829705680731,
          0.6545880808894924,
          -0.3253344899082747,
          1.0445833650807033,
          0.6378047610339664,
          -2.282408309947842,
          -0.9940910712619948,
          1.593352030366997,
          0.9796354322121585,
          -0.14555141905550475,
          1.938036037209001,
          0.4868173620202219,
          0.055745582967331925,
          0.8956207552321556,
          0.11210772463177247,
          -0.33800571080152314,
          -1.3960145152016388,
          2.1771435310890195,
          -0.21470397682343476,
          0.4522706930495062,
          0.9164948956794404,
          0.8686559643236597,
          -0.781959644239122,
          0.858071168774533,
          1.0682392817882957,
          -0.8544402572414872,
          -0.10900933498317333,
          -0.6310301425552112,
          -0.7648997140020927,
          1.150003153635081,
          1.0797631083191377,
          -0.45546653209706256,
          -0.04107528864510263,
          0.5455832227617043,
          -0.013623144913418072,
          0.8627690024800236,
          -0.444669171787977,
          -0.09778715447296922,
          -0.9840028543722682,
          -0.7197814724774163,
          0.5492328656564691,
          0.3865729478490786,
          0.9060294279206033,
          -0.4274656683036674,
          0.7060489877334019,
          -0.38594158839707665,
          0.5846720573475902,
          0.715150753017314,
          -0.5970239007455065,
          0.46585132559113374,
          -0.18843515452973725,
          0.9407973388139189,
          -1.2463834784309387,
          1.557031562545552
         ],
         "yaxis": "y4"
        },
        {
         "line": {
          "color": "rgba(128, 128, 128, 1.0)",
          "dash": "solid",
          "shape": "linear",
          "width": 1.3
         },
         "marker": {
          "size": 2,
          "symbol": "circle"
         },
         "mode": "markers",
         "name": "B",
         "text": "",
         "type": "scatter",
         "x": [
          0.5743707795773935,
          0.7705130471123088,
          -1.1576336254777675,
          -0.8271035026452863,
          0.7425917665606087,
          -0.5394750578829458,
          0.5097192595359479,
          0.5432487081145778,
          -0.017946748455862877,
          0.19581581905947343,
          -1.437598250743915,
          2.218752439044428,
          1.3735761727944185,
          0.4110662686393877,
          -1.2762577922869192,
          1.052973143565982,
          1.4455702341590444,
          -0.3948389358880354,
          0.7885045139246953,
          -1.048373347634528,
          1.7428723409947369,
          0.5095898223142886,
          -0.40242338927638993,
          0.7895293899801388,
          -1.1684034943003128,
          -0.04221538280344773,
          0.008138638768228417,
          -0.4886444367606532,
          0.372696913991112,
          0.012203537415463457,
          1.3219400832950743,
          0.4426993414749163,
          0.6954759067905433,
          1.26173184725225,
          0.6031545937641348,
          0.8314386262457409,
          -1.9414446443208866,
          0.44729577583315866,
          -0.1519969814341827,
          1.4347967567547704,
          0.4231389277658858,
          -0.3464188794612597,
          -1.1560117204001936,
          -0.3371028319649269,
          0.9280885194745121,
          -0.33478270805751936,
          2.501829705680731,
          0.6545880808894924,
          -0.3253344899082747,
          1.0445833650807033,
          0.6378047610339664,
          -2.282408309947842,
          -0.9940910712619948,
          1.593352030366997,
          0.9796354322121585,
          -0.14555141905550475,
          1.938036037209001,
          0.4868173620202219,
          0.055745582967331925,
          0.8956207552321556,
          0.11210772463177247,
          -0.33800571080152314,
          -1.3960145152016388,
          2.1771435310890195,
          -0.21470397682343476,
          0.4522706930495062,
          0.9164948956794404,
          0.8686559643236597,
          -0.781959644239122,
          0.858071168774533,
          1.0682392817882957,
          -0.8544402572414872,
          -0.10900933498317333,
          -0.6310301425552112,
          -0.7648997140020927,
          1.150003153635081,
          1.0797631083191377,
          -0.45546653209706256,
          -0.04107528864510263,
          0.5455832227617043,
          -0.013623144913418072,
          0.8627690024800236,
          -0.444669171787977,
          -0.09778715447296922,
          -0.9840028543722682,
          -0.7197814724774163,
          0.5492328656564691,
          0.3865729478490786,
          0.9060294279206033,
          -0.4274656683036674,
          0.7060489877334019,
          -0.38594158839707665,
          0.5846720573475902,
          0.715150753017314,
          -0.5970239007455065,
          0.46585132559113374,
          -0.18843515452973725,
          0.9407973388139189,
          -1.2463834784309387,
          1.557031562545552
         ],
         "xaxis": "x5",
         "y": [
          0.8016641080924541,
          1.0077391146377723,
          0.27651367544996946,
          -2.1570213570008927,
          -1.1235011021677124,
          0.17510373317808275,
          0.5739852492901831,
          0.08400858387755353,
          -1.7399189233318215,
          1.373956525773911,
          -0.6055411343301496,
          0.07895635184420437,
          1.9396245569934054,
          0.21052865131167792,
          0.8041135995879579,
          1.2067828700888212,
          -1.2391501426725224,
          -0.602365415491375,
          -1.2116734000900296,
          -0.5657984205463799,
          -0.30418317029567005,
          -1.3047874224393003,
          -1.9023818194008624,
          1.2952595792792636,
          0.10138680285600672,
          0.0223449098802518,
          0.25608582492185883,
          -0.8817831404171913,
          0.364858694437755,
          -1.1104434289726777,
          0.3175327732447648,
          0.4440791680629179,
          0.295798249153598,
          0.17144218397646702,
          -0.5670235515093524,
          1.5675401024850084,
          -0.3154757966663135,
          -0.9569793691086736,
          -0.08939617748473268,
          -1.4138336943563812,
          -0.715750128405275,
          0.26616513383692075,
          -0.7576063158477336,
          1.0044504867732704,
          -0.8528844132117523,
          -1.3137522421554162,
          -0.6297247932341066,
          0.6641310484582209,
          0.6842832590670178,
          -1.097732442511773,
          0.7695175485075942,
          -0.8004055106036331,
          -1.2334254972160166,
          -1.3461652044016847,
          -0.44328078003252724,
          0.12362524915851832,
          -0.703900374883289,
          1.5964916213576874,
          -0.7175995763374521,
          0.7303661705616081,
          1.6433808900162372,
          -0.6732022934593243,
          0.39075007107051796,
          0.7030593293505272,
          -0.36446992902141634,
          -0.8641351675878642,
          -0.8600094939920322,
          -0.7513060798787412,
          2.286811969914792,
          -0.46975880928066727,
          -1.5697616694093142,
          -0.2921380197460708,
          0.727262007763347,
          0.4960816199155096,
          0.30461017406051066,
          -0.44238754745680947,
          -0.019873063964267003,
          -0.9791775276148362,
          0.8333268577557206,
          -0.5577902793680444,
          -0.7902334272887995,
          -1.409128891545519,
          -0.49896367670798036,
          -1.098227923147296,
          -0.16852914853637593,
          0.37570018520333304,
          -2.161831239989233,
          -0.7378821662771905,
          -0.06571168846656328,
          0.47600300766597164,
          0.9217086796711035,
          -0.5276134738110552,
          0.19389281217411172,
          -0.1976527698633932,
          -1.7029397917737243,
          -0.18454993343459655,
          -0.30032143747151385,
          0.6226966256674825,
          -0.6119109736503978,
          -2.241247130842427
         ],
         "yaxis": "y5"
        },
        {
         "histfunc": "count",
         "histnorm": "",
         "marker": {
          "color": "rgba(55, 128, 191, 1.0)",
          "line": {
           "color": "#4D5663",
           "width": 1.3
          }
         },
         "name": "B",
         "nbinsx": 10,
         "opacity": 0.8,
         "orientation": "v",
         "type": "histogram",
         "x": [
          0.8016641080924541,
          1.0077391146377723,
          0.27651367544996946,
          -2.1570213570008927,
          -1.1235011021677124,
          0.17510373317808275,
          0.5739852492901831,
          0.08400858387755353,
          -1.7399189233318215,
          1.373956525773911,
          -0.6055411343301496,
          0.07895635184420437,
          1.9396245569934054,
          0.21052865131167792,
          0.8041135995879579,
          1.2067828700888212,
          -1.2391501426725224,
          -0.602365415491375,
          -1.2116734000900296,
          -0.5657984205463799,
          -0.30418317029567005,
          -1.3047874224393003,
          -1.9023818194008624,
          1.2952595792792636,
          0.10138680285600672,
          0.0223449098802518,
          0.25608582492185883,
          -0.8817831404171913,
          0.364858694437755,
          -1.1104434289726777,
          0.3175327732447648,
          0.4440791680629179,
          0.295798249153598,
          0.17144218397646702,
          -0.5670235515093524,
          1.5675401024850084,
          -0.3154757966663135,
          -0.9569793691086736,
          -0.08939617748473268,
          -1.4138336943563812,
          -0.715750128405275,
          0.26616513383692075,
          -0.7576063158477336,
          1.0044504867732704,
          -0.8528844132117523,
          -1.3137522421554162,
          -0.6297247932341066,
          0.6641310484582209,
          0.6842832590670178,
          -1.097732442511773,
          0.7695175485075942,
          -0.8004055106036331,
          -1.2334254972160166,
          -1.3461652044016847,
          -0.44328078003252724,
          0.12362524915851832,
          -0.703900374883289,
          1.5964916213576874,
          -0.7175995763374521,
          0.7303661705616081,
          1.6433808900162372,
          -0.6732022934593243,
          0.39075007107051796,
          0.7030593293505272,
          -0.36446992902141634,
          -0.8641351675878642,
          -0.8600094939920322,
          -0.7513060798787412,
          2.286811969914792,
          -0.46975880928066727,
          -1.5697616694093142,
          -0.2921380197460708,
          0.727262007763347,
          0.4960816199155096,
          0.30461017406051066,
          -0.44238754745680947,
          -0.019873063964267003,
          -0.9791775276148362,
          0.8333268577557206,
          -0.5577902793680444,
          -0.7902334272887995,
          -1.409128891545519,
          -0.49896367670798036,
          -1.098227923147296,
          -0.16852914853637593,
          0.37570018520333304,
          -2.161831239989233,
          -0.7378821662771905,
          -0.06571168846656328,
          0.47600300766597164,
          0.9217086796711035,
          -0.5276134738110552,
          0.19389281217411172,
          -0.1976527698633932,
          -1.7029397917737243,
          -0.18454993343459655,
          -0.30032143747151385,
          0.6226966256674825,
          -0.6119109736503978,
          -2.241247130842427
         ],
         "xaxis": "x6",
         "yaxis": "y6"
        },
        {
         "line": {
          "color": "rgba(128, 128, 128, 1.0)",
          "dash": "solid",
          "shape": "linear",
          "width": 1.3
         },
         "marker": {
          "size": 2,
          "symbol": "circle"
         },
         "mode": "markers",
         "name": "B",
         "text": "",
         "type": "scatter",
         "x": [
          -0.3872323872369992,
          0.3129896931497061,
          0.549109784320413,
          0.24341866874423576,
          1.499529146175969,
          1.2787254198445286,
          0.09732899572249865,
          0.6786729923835082,
          0.3200378633283294,
          0.5394983246081207,
          1.9304686738992993,
          -0.1476528422065039,
          0.20730005663265114,
          -0.08292020894156982,
          -1.0332985315410432,
          0.2910227164489197,
          -0.6599861700596447,
          -1.5927522845823798,
          -0.06913975252968259,
          -0.5350268297035842,
          -0.08331731434480327,
          0.00951634077256817,
          -0.8740584241386143,
          -0.2450153374063535,
          -0.07959487862678238,
          1.6987821893488655,
          -0.33441987308935917,
          -0.5162053018290103,
          0.7867538063077528,
          -0.511729361567106,
          -0.3442187857712442,
          1.4539410232083054,
          1.3210571784341893,
          0.39479043190364904,
          -2.1444074764988144,
          -0.17579186871750874,
          0.9734103167653669,
          -1.5447888626969593,
          0.44118731033021363,
          0.27523186474757166,
          0.19584184595773688,
          2.1479956346168163,
          2.5676586672224286,
          0.4169684005852465,
          -0.7905053421090682,
          0.6059343090399911,
          1.1718702289760667,
          -1.4892935685267537,
          -0.9155580924696599,
          0.38024870280397105,
          -0.4477636807416802,
          0.09620063605372368,
          0.0746695266655892,
          -1.6872206649919161,
          0.7466670151316754,
          -0.299369659246122,
          -0.5538294760945928,
          -0.7433103932079366,
          -1.2464060855888113,
          -0.9325474584013793,
          -0.41615198461661734,
          -0.5832952182022414,
          -0.15074930142568585,
          0.47296418006624735,
          -0.9547052054771018,
          1.083298302216257,
          -1.4824096196587915,
          -1.122351602702573,
          0.9302847260988449,
          0.441320891411173,
          -0.2833388821399992,
          -1.2753864362984364,
          -1.1169841191601397,
          0.5972396627662147,
          -0.2491773777751275,
          -0.18988486380823916,
          0.8546215215474877,
          -0.38142398607241634,
          -1.0945065986319291,
          0.3142174694812054,
          -0.7462860924229974,
          0.29691771845913784,
          -2.5760037011011914,
          -0.5331102468132428,
          -1.1442208420210935,
          0.7410619807933482,
          0.16704743929932367,
          0.9173053003360592,
          -1.3378054378604043,
          1.2352164222516753,
          -2.260111480808333,
          1.6287248278642656,
          1.3524792127034155,
          -0.4904296405112925,
          -0.9892598998698315,
          1.6661723261514287,
          -0.5076306898533299,
          0.1644388963494178,
          -0.2723433733772562,
          0.5829871208447345
         ],
         "xaxis": "x7",
         "y": [
          0.8016641080924541,
          1.0077391146377723,
          0.27651367544996946,
          -2.1570213570008927,
          -1.1235011021677124,
          0.17510373317808275,
          0.5739852492901831,
          0.08400858387755353,
          -1.7399189233318215,
          1.373956525773911,
          -0.6055411343301496,
          0.07895635184420437,
          1.9396245569934054,
          0.21052865131167792,
          0.8041135995879579,
          1.2067828700888212,
          -1.2391501426725224,
          -0.602365415491375,
          -1.2116734000900296,
          -0.5657984205463799,
          -0.30418317029567005,
          -1.3047874224393003,
          -1.9023818194008624,
          1.2952595792792636,
          0.10138680285600672,
          0.0223449098802518,
          0.25608582492185883,
          -0.8817831404171913,
          0.364858694437755,
          -1.1104434289726777,
          0.3175327732447648,
          0.4440791680629179,
          0.295798249153598,
          0.17144218397646702,
          -0.5670235515093524,
          1.5675401024850084,
          -0.3154757966663135,
          -0.9569793691086736,
          -0.08939617748473268,
          -1.4138336943563812,
          -0.715750128405275,
          0.26616513383692075,
          -0.7576063158477336,
          1.0044504867732704,
          -0.8528844132117523,
          -1.3137522421554162,
          -0.6297247932341066,
          0.6641310484582209,
          0.6842832590670178,
          -1.097732442511773,
          0.7695175485075942,
          -0.8004055106036331,
          -1.2334254972160166,
          -1.3461652044016847,
          -0.44328078003252724,
          0.12362524915851832,
          -0.703900374883289,
          1.5964916213576874,
          -0.7175995763374521,
          0.7303661705616081,
          1.6433808900162372,
          -0.6732022934593243,
          0.39075007107051796,
          0.7030593293505272,
          -0.36446992902141634,
          -0.8641351675878642,
          -0.8600094939920322,
          -0.7513060798787412,
          2.286811969914792,
          -0.46975880928066727,
          -1.5697616694093142,
          -0.2921380197460708,
          0.727262007763347,
          0.4960816199155096,
          0.30461017406051066,
          -0.44238754745680947,
          -0.019873063964267003,
          -0.9791775276148362,
          0.8333268577557206,
          -0.5577902793680444,
          -0.7902334272887995,
          -1.409128891545519,
          -0.49896367670798036,
          -1.098227923147296,
          -0.16852914853637593,
          0.37570018520333304,
          -2.161831239989233,
          -0.7378821662771905,
          -0.06571168846656328,
          0.47600300766597164,
          0.9217086796711035,
          -0.5276134738110552,
          0.19389281217411172,
          -0.1976527698633932,
          -1.7029397917737243,
          -0.18454993343459655,
          -0.30032143747151385,
          0.6226966256674825,
          -0.6119109736503978,
          -2.241247130842427
         ],
         "yaxis": "y7"
        },
        {
         "line": {
          "color": "rgba(128, 128, 128, 1.0)",
          "dash": "solid",
          "shape": "linear",
          "width": 1.3
         },
         "marker": {
          "size": 2,
          "symbol": "circle"
         },
         "mode": "markers",
         "name": "B",
         "text": "",
         "type": "scatter",
         "x": [
          -0.4706922896364643,
          -0.6393288441504061,
          0.5575925212870825,
          -2.1202891520131826,
          0.7016609126653969,
          -0.06663561774881703,
          -0.4973374480135509,
          -0.590882958594366,
          2.184216868456072,
          0.33037161371952095,
          0.4777632094713535,
          0.3821948569152667,
          -1.603506970236447,
          0.03295152166286881,
          0.04081459510336229,
          -1.0542769144183797,
          0.25051753466921883,
          1.79220788387074,
          -2.1640254105521275,
          0.26545027744208516,
          -0.023472918994801143,
          -0.43244261016985147,
          0.3300305691019167,
          1.3612832617727721,
          0.23017392707992243,
          1.0116251964301215,
          0.19420287776944709,
          -1.5681994809354591,
          0.18423853340915497,
          -0.6173534845828159,
          -0.04976064378931739,
          -0.09499890498586602,
          0.5999663887957106,
          0.9470452192499397,
          0.48158232826549746,
          -0.975818121808824,
          1.1789804210928678,
          0.511991126185782,
          -0.6445127118571568,
          0.44639236607138577,
          -0.5119228999079636,
          0.3461769490638204,
          -0.28860962187000627,
          0.30880752893856117,
          0.8602920238557571,
          -1.1065956618682193,
          1.4281271716163646,
          1.7281195306020583,
          -2.070566261701333,
          -0.6463558608812114,
          -1.4424887324180486,
          2.0564826875760485,
          -0.08467260834805933,
          -0.8208555681228488,
          -0.7840923059289396,
          0.5463398928360392,
          -1.9147193931015167,
          -2.0965405121600296,
          0.8854654915221677,
          -0.7077143405284566,
          1.220740051229066,
          0.41684554242125865,
          0.4125617805707906,
          0.09547391990243034,
          -0.24230781619518113,
          -0.36889321022938737,
          0.01572106847202316,
          0.43561389700725806,
          0.11144186558321814,
          -0.6508334551545648,
          1.018199714126553,
          0.8714881246496483,
          -1.5536263117876437,
          2.235615408287663,
          0.12156182099911096,
          0.0745440501953923,
          1.3531429059771674,
          0.7934764526588117,
          2.5958981612081273,
          1.1486359575895522,
          -2.3844317905567403,
          -0.6650930734834832,
          0.05235770758444297,
          0.08514327670747696,
          1.249831995368982,
          -0.9450238390834802,
          -0.2639259615069109,
          -0.52369639655623,
          0.49020926089127365,
          0.34420441702195825,
          0.3041093733430783,
          0.22057571199250411,
          0.7505519778911802,
          -1.2174904593310871,
          1.056341055422691,
          1.2792360322150826,
          -0.5399025492546313,
          -0.13763862502097546,
          -2.0187290599712178,
          -1.9068308822417757
         ],
         "xaxis": "x8",
         "y": [
          0.8016641080924541,
          1.0077391146377723,
          0.27651367544996946,
          -2.1570213570008927,
          -1.1235011021677124,
          0.17510373317808275,
          0.5739852492901831,
          0.08400858387755353,
          -1.7399189233318215,
          1.373956525773911,
          -0.6055411343301496,
          0.07895635184420437,
          1.9396245569934054,
          0.21052865131167792,
          0.8041135995879579,
          1.2067828700888212,
          -1.2391501426725224,
          -0.602365415491375,
          -1.2116734000900296,
          -0.5657984205463799,
          -0.30418317029567005,
          -1.3047874224393003,
          -1.9023818194008624,
          1.2952595792792636,
          0.10138680285600672,
          0.0223449098802518,
          0.25608582492185883,
          -0.8817831404171913,
          0.364858694437755,
          -1.1104434289726777,
          0.3175327732447648,
          0.4440791680629179,
          0.295798249153598,
          0.17144218397646702,
          -0.5670235515093524,
          1.5675401024850084,
          -0.3154757966663135,
          -0.9569793691086736,
          -0.08939617748473268,
          -1.4138336943563812,
          -0.715750128405275,
          0.26616513383692075,
          -0.7576063158477336,
          1.0044504867732704,
          -0.8528844132117523,
          -1.3137522421554162,
          -0.6297247932341066,
          0.6641310484582209,
          0.6842832590670178,
          -1.097732442511773,
          0.7695175485075942,
          -0.8004055106036331,
          -1.2334254972160166,
          -1.3461652044016847,
          -0.44328078003252724,
          0.12362524915851832,
          -0.703900374883289,
          1.5964916213576874,
          -0.7175995763374521,
          0.7303661705616081,
          1.6433808900162372,
          -0.6732022934593243,
          0.39075007107051796,
          0.7030593293505272,
          -0.36446992902141634,
          -0.8641351675878642,
          -0.8600094939920322,
          -0.7513060798787412,
          2.286811969914792,
          -0.46975880928066727,
          -1.5697616694093142,
          -0.2921380197460708,
          0.727262007763347,
          0.4960816199155096,
          0.30461017406051066,
          -0.44238754745680947,
          -0.019873063964267003,
          -0.9791775276148362,
          0.8333268577557206,
          -0.5577902793680444,
          -0.7902334272887995,
          -1.409128891545519,
          -0.49896367670798036,
          -1.098227923147296,
          -0.16852914853637593,
          0.37570018520333304,
          -2.161831239989233,
          -0.7378821662771905,
          -0.06571168846656328,
          0.47600300766597164,
          0.9217086796711035,
          -0.5276134738110552,
          0.19389281217411172,
          -0.1976527698633932,
          -1.7029397917737243,
          -0.18454993343459655,
          -0.30032143747151385,
          0.6226966256674825,
          -0.6119109736503978,
          -2.241247130842427
         ],
         "yaxis": "y8"
        },
        {
         "line": {
          "color": "rgba(128, 128, 128, 1.0)",
          "dash": "solid",
          "shape": "linear",
          "width": 1.3
         },
         "marker": {
          "size": 2,
          "symbol": "circle"
         },
         "mode": "markers",
         "name": "C",
         "text": "",
         "type": "scatter",
         "x": [
          0.5743707795773935,
          0.7705130471123088,
          -1.1576336254777675,
          -0.8271035026452863,
          0.7425917665606087,
          -0.5394750578829458,
          0.5097192595359479,
          0.5432487081145778,
          -0.017946748455862877,
          0.19581581905947343,
          -1.437598250743915,
          2.218752439044428,
          1.3735761727944185,
          0.4110662686393877,
          -1.2762577922869192,
          1.052973143565982,
          1.4455702341590444,
          -0.3948389358880354,
          0.7885045139246953,
          -1.048373347634528,
          1.7428723409947369,
          0.5095898223142886,
          -0.40242338927638993,
          0.7895293899801388,
          -1.1684034943003128,
          -0.04221538280344773,
          0.008138638768228417,
          -0.4886444367606532,
          0.372696913991112,
          0.012203537415463457,
          1.3219400832950743,
          0.4426993414749163,
          0.6954759067905433,
          1.26173184725225,
          0.6031545937641348,
          0.8314386262457409,
          -1.9414446443208866,
          0.44729577583315866,
          -0.1519969814341827,
          1.4347967567547704,
          0.4231389277658858,
          -0.3464188794612597,
          -1.1560117204001936,
          -0.3371028319649269,
          0.9280885194745121,
          -0.33478270805751936,
          2.501829705680731,
          0.6545880808894924,
          -0.3253344899082747,
          1.0445833650807033,
          0.6378047610339664,
          -2.282408309947842,
          -0.9940910712619948,
          1.593352030366997,
          0.9796354322121585,
          -0.14555141905550475,
          1.938036037209001,
          0.4868173620202219,
          0.055745582967331925,
          0.8956207552321556,
          0.11210772463177247,
          -0.33800571080152314,
          -1.3960145152016388,
          2.1771435310890195,
          -0.21470397682343476,
          0.4522706930495062,
          0.9164948956794404,
          0.8686559643236597,
          -0.781959644239122,
          0.858071168774533,
          1.0682392817882957,
          -0.8544402572414872,
          -0.10900933498317333,
          -0.6310301425552112,
          -0.7648997140020927,
          1.150003153635081,
          1.0797631083191377,
          -0.45546653209706256,
          -0.04107528864510263,
          0.5455832227617043,
          -0.013623144913418072,
          0.8627690024800236,
          -0.444669171787977,
          -0.09778715447296922,
          -0.9840028543722682,
          -0.7197814724774163,
          0.5492328656564691,
          0.3865729478490786,
          0.9060294279206033,
          -0.4274656683036674,
          0.7060489877334019,
          -0.38594158839707665,
          0.5846720573475902,
          0.715150753017314,
          -0.5970239007455065,
          0.46585132559113374,
          -0.18843515452973725,
          0.9407973388139189,
          -1.2463834784309387,
          1.557031562545552
         ],
         "xaxis": "x9",
         "y": [
          -0.3872323872369992,
          0.3129896931497061,
          0.549109784320413,
          0.24341866874423576,
          1.499529146175969,
          1.2787254198445286,
          0.09732899572249865,
          0.6786729923835082,
          0.3200378633283294,
          0.5394983246081207,
          1.9304686738992993,
          -0.1476528422065039,
          0.20730005663265114,
          -0.08292020894156982,
          -1.0332985315410432,
          0.2910227164489197,
          -0.6599861700596447,
          -1.5927522845823798,
          -0.06913975252968259,
          -0.5350268297035842,
          -0.08331731434480327,
          0.00951634077256817,
          -0.8740584241386143,
          -0.2450153374063535,
          -0.07959487862678238,
          1.6987821893488655,
          -0.33441987308935917,
          -0.5162053018290103,
          0.7867538063077528,
          -0.511729361567106,
          -0.3442187857712442,
          1.4539410232083054,
          1.3210571784341893,
          0.39479043190364904,
          -2.1444074764988144,
          -0.17579186871750874,
          0.9734103167653669,
          -1.5447888626969593,
          0.44118731033021363,
          0.27523186474757166,
          0.19584184595773688,
          2.1479956346168163,
          2.5676586672224286,
          0.4169684005852465,
          -0.7905053421090682,
          0.6059343090399911,
          1.1718702289760667,
          -1.4892935685267537,
          -0.9155580924696599,
          0.38024870280397105,
          -0.4477636807416802,
          0.09620063605372368,
          0.0746695266655892,
          -1.6872206649919161,
          0.7466670151316754,
          -0.299369659246122,
          -0.5538294760945928,
          -0.7433103932079366,
          -1.2464060855888113,
          -0.9325474584013793,
          -0.41615198461661734,
          -0.5832952182022414,
          -0.15074930142568585,
          0.47296418006624735,
          -0.9547052054771018,
          1.083298302216257,
          -1.4824096196587915,
          -1.122351602702573,
          0.9302847260988449,
          0.441320891411173,
          -0.2833388821399992,
          -1.2753864362984364,
          -1.1169841191601397,
          0.5972396627662147,
          -0.2491773777751275,
          -0.18988486380823916,
          0.8546215215474877,
          -0.38142398607241634,
          -1.0945065986319291,
          0.3142174694812054,
          -0.7462860924229974,
          0.29691771845913784,
          -2.5760037011011914,
          -0.5331102468132428,
          -1.1442208420210935,
          0.7410619807933482,
          0.16704743929932367,
          0.9173053003360592,
          -1.3378054378604043,
          1.2352164222516753,
          -2.260111480808333,
          1.6287248278642656,
          1.3524792127034155,
          -0.4904296405112925,
          -0.9892598998698315,
          1.6661723261514287,
          -0.5076306898533299,
          0.1644388963494178,
          -0.2723433733772562,
          0.5829871208447345
         ],
         "yaxis": "y9"
        },
        {
         "line": {
          "color": "rgba(128, 128, 128, 1.0)",
          "dash": "solid",
          "shape": "linear",
          "width": 1.3
         },
         "marker": {
          "size": 2,
          "symbol": "circle"
         },
         "mode": "markers",
         "name": "C",
         "text": "",
         "type": "scatter",
         "x": [
          0.8016641080924541,
          1.0077391146377723,
          0.27651367544996946,
          -2.1570213570008927,
          -1.1235011021677124,
          0.17510373317808275,
          0.5739852492901831,
          0.08400858387755353,
          -1.7399189233318215,
          1.373956525773911,
          -0.6055411343301496,
          0.07895635184420437,
          1.9396245569934054,
          0.21052865131167792,
          0.8041135995879579,
          1.2067828700888212,
          -1.2391501426725224,
          -0.602365415491375,
          -1.2116734000900296,
          -0.5657984205463799,
          -0.30418317029567005,
          -1.3047874224393003,
          -1.9023818194008624,
          1.2952595792792636,
          0.10138680285600672,
          0.0223449098802518,
          0.25608582492185883,
          -0.8817831404171913,
          0.364858694437755,
          -1.1104434289726777,
          0.3175327732447648,
          0.4440791680629179,
          0.295798249153598,
          0.17144218397646702,
          -0.5670235515093524,
          1.5675401024850084,
          -0.3154757966663135,
          -0.9569793691086736,
          -0.08939617748473268,
          -1.4138336943563812,
          -0.715750128405275,
          0.26616513383692075,
          -0.7576063158477336,
          1.0044504867732704,
          -0.8528844132117523,
          -1.3137522421554162,
          -0.6297247932341066,
          0.6641310484582209,
          0.6842832590670178,
          -1.097732442511773,
          0.7695175485075942,
          -0.8004055106036331,
          -1.2334254972160166,
          -1.3461652044016847,
          -0.44328078003252724,
          0.12362524915851832,
          -0.703900374883289,
          1.5964916213576874,
          -0.7175995763374521,
          0.7303661705616081,
          1.6433808900162372,
          -0.6732022934593243,
          0.39075007107051796,
          0.7030593293505272,
          -0.36446992902141634,
          -0.8641351675878642,
          -0.8600094939920322,
          -0.7513060798787412,
          2.286811969914792,
          -0.46975880928066727,
          -1.5697616694093142,
          -0.2921380197460708,
          0.727262007763347,
          0.4960816199155096,
          0.30461017406051066,
          -0.44238754745680947,
          -0.019873063964267003,
          -0.9791775276148362,
          0.8333268577557206,
          -0.5577902793680444,
          -0.7902334272887995,
          -1.409128891545519,
          -0.49896367670798036,
          -1.098227923147296,
          -0.16852914853637593,
          0.37570018520333304,
          -2.161831239989233,
          -0.7378821662771905,
          -0.06571168846656328,
          0.47600300766597164,
          0.9217086796711035,
          -0.5276134738110552,
          0.19389281217411172,
          -0.1976527698633932,
          -1.7029397917737243,
          -0.18454993343459655,
          -0.30032143747151385,
          0.6226966256674825,
          -0.6119109736503978,
          -2.241247130842427
         ],
         "xaxis": "x10",
         "y": [
          -0.3872323872369992,
          0.3129896931497061,
          0.549109784320413,
          0.24341866874423576,
          1.499529146175969,
          1.2787254198445286,
          0.09732899572249865,
          0.6786729923835082,
          0.3200378633283294,
          0.5394983246081207,
          1.9304686738992993,
          -0.1476528422065039,
          0.20730005663265114,
          -0.08292020894156982,
          -1.0332985315410432,
          0.2910227164489197,
          -0.6599861700596447,
          -1.5927522845823798,
          -0.06913975252968259,
          -0.5350268297035842,
          -0.08331731434480327,
          0.00951634077256817,
          -0.8740584241386143,
          -0.2450153374063535,
          -0.07959487862678238,
          1.6987821893488655,
          -0.33441987308935917,
          -0.5162053018290103,
          0.7867538063077528,
          -0.511729361567106,
          -0.3442187857712442,
          1.4539410232083054,
          1.3210571784341893,
          0.39479043190364904,
          -2.1444074764988144,
          -0.17579186871750874,
          0.9734103167653669,
          -1.5447888626969593,
          0.44118731033021363,
          0.27523186474757166,
          0.19584184595773688,
          2.1479956346168163,
          2.5676586672224286,
          0.4169684005852465,
          -0.7905053421090682,
          0.6059343090399911,
          1.1718702289760667,
          -1.4892935685267537,
          -0.9155580924696599,
          0.38024870280397105,
          -0.4477636807416802,
          0.09620063605372368,
          0.0746695266655892,
          -1.6872206649919161,
          0.7466670151316754,
          -0.299369659246122,
          -0.5538294760945928,
          -0.7433103932079366,
          -1.2464060855888113,
          -0.9325474584013793,
          -0.41615198461661734,
          -0.5832952182022414,
          -0.15074930142568585,
          0.47296418006624735,
          -0.9547052054771018,
          1.083298302216257,
          -1.4824096196587915,
          -1.122351602702573,
          0.9302847260988449,
          0.441320891411173,
          -0.2833388821399992,
          -1.2753864362984364,
          -1.1169841191601397,
          0.5972396627662147,
          -0.2491773777751275,
          -0.18988486380823916,
          0.8546215215474877,
          -0.38142398607241634,
          -1.0945065986319291,
          0.3142174694812054,
          -0.7462860924229974,
          0.29691771845913784,
          -2.5760037011011914,
          -0.5331102468132428,
          -1.1442208420210935,
          0.7410619807933482,
          0.16704743929932367,
          0.9173053003360592,
          -1.3378054378604043,
          1.2352164222516753,
          -2.260111480808333,
          1.6287248278642656,
          1.3524792127034155,
          -0.4904296405112925,
          -0.9892598998698315,
          1.6661723261514287,
          -0.5076306898533299,
          0.1644388963494178,
          -0.2723433733772562,
          0.5829871208447345
         ],
         "yaxis": "y10"
        },
        {
         "histfunc": "count",
         "histnorm": "",
         "marker": {
          "color": "rgba(50, 171, 96, 1.0)",
          "line": {
           "color": "#4D5663",
           "width": 1.3
          }
         },
         "name": "C",
         "nbinsx": 10,
         "opacity": 0.8,
         "orientation": "v",
         "type": "histogram",
         "x": [
          -0.3872323872369992,
          0.3129896931497061,
          0.549109784320413,
          0.24341866874423576,
          1.499529146175969,
          1.2787254198445286,
          0.09732899572249865,
          0.6786729923835082,
          0.3200378633283294,
          0.5394983246081207,
          1.9304686738992993,
          -0.1476528422065039,
          0.20730005663265114,
          -0.08292020894156982,
          -1.0332985315410432,
          0.2910227164489197,
          -0.6599861700596447,
          -1.5927522845823798,
          -0.06913975252968259,
          -0.5350268297035842,
          -0.08331731434480327,
          0.00951634077256817,
          -0.8740584241386143,
          -0.2450153374063535,
          -0.07959487862678238,
          1.6987821893488655,
          -0.33441987308935917,
          -0.5162053018290103,
          0.7867538063077528,
          -0.511729361567106,
          -0.3442187857712442,
          1.4539410232083054,
          1.3210571784341893,
          0.39479043190364904,
          -2.1444074764988144,
          -0.17579186871750874,
          0.9734103167653669,
          -1.5447888626969593,
          0.44118731033021363,
          0.27523186474757166,
          0.19584184595773688,
          2.1479956346168163,
          2.5676586672224286,
          0.4169684005852465,
          -0.7905053421090682,
          0.6059343090399911,
          1.1718702289760667,
          -1.4892935685267537,
          -0.9155580924696599,
          0.38024870280397105,
          -0.4477636807416802,
          0.09620063605372368,
          0.0746695266655892,
          -1.6872206649919161,
          0.7466670151316754,
          -0.299369659246122,
          -0.5538294760945928,
          -0.7433103932079366,
          -1.2464060855888113,
          -0.9325474584013793,
          -0.41615198461661734,
          -0.5832952182022414,
          -0.15074930142568585,
          0.47296418006624735,
          -0.9547052054771018,
          1.083298302216257,
          -1.4824096196587915,
          -1.122351602702573,
          0.9302847260988449,
          0.441320891411173,
          -0.2833388821399992,
          -1.2753864362984364,
          -1.1169841191601397,
          0.5972396627662147,
          -0.2491773777751275,
          -0.18988486380823916,
          0.8546215215474877,
          -0.38142398607241634,
          -1.0945065986319291,
          0.3142174694812054,
          -0.7462860924229974,
          0.29691771845913784,
          -2.5760037011011914,
          -0.5331102468132428,
          -1.1442208420210935,
          0.7410619807933482,
          0.16704743929932367,
          0.9173053003360592,
          -1.3378054378604043,
          1.2352164222516753,
          -2.260111480808333,
          1.6287248278642656,
          1.3524792127034155,
          -0.4904296405112925,
          -0.9892598998698315,
          1.6661723261514287,
          -0.5076306898533299,
          0.1644388963494178,
          -0.2723433733772562,
          0.5829871208447345
         ],
         "xaxis": "x11",
         "yaxis": "y11"
        },
        {
         "line": {
          "color": "rgba(128, 128, 128, 1.0)",
          "dash": "solid",
          "shape": "linear",
          "width": 1.3
         },
         "marker": {
          "size": 2,
          "symbol": "circle"
         },
         "mode": "markers",
         "name": "C",
         "text": "",
         "type": "scatter",
         "x": [
          -0.4706922896364643,
          -0.6393288441504061,
          0.5575925212870825,
          -2.1202891520131826,
          0.7016609126653969,
          -0.06663561774881703,
          -0.4973374480135509,
          -0.590882958594366,
          2.184216868456072,
          0.33037161371952095,
          0.4777632094713535,
          0.3821948569152667,
          -1.603506970236447,
          0.03295152166286881,
          0.04081459510336229,
          -1.0542769144183797,
          0.25051753466921883,
          1.79220788387074,
          -2.1640254105521275,
          0.26545027744208516,
          -0.023472918994801143,
          -0.43244261016985147,
          0.3300305691019167,
          1.3612832617727721,
          0.23017392707992243,
          1.0116251964301215,
          0.19420287776944709,
          -1.5681994809354591,
          0.18423853340915497,
          -0.6173534845828159,
          -0.04976064378931739,
          -0.09499890498586602,
          0.5999663887957106,
          0.9470452192499397,
          0.48158232826549746,
          -0.975818121808824,
          1.1789804210928678,
          0.511991126185782,
          -0.6445127118571568,
          0.44639236607138577,
          -0.5119228999079636,
          0.3461769490638204,
          -0.28860962187000627,
          0.30880752893856117,
          0.8602920238557571,
          -1.1065956618682193,
          1.4281271716163646,
          1.7281195306020583,
          -2.070566261701333,
          -0.6463558608812114,
          -1.4424887324180486,
          2.0564826875760485,
          -0.08467260834805933,
          -0.8208555681228488,
          -0.7840923059289396,
          0.5463398928360392,
          -1.9147193931015167,
          -2.0965405121600296,
          0.8854654915221677,
          -0.7077143405284566,
          1.220740051229066,
          0.41684554242125865,
          0.4125617805707906,
          0.09547391990243034,
          -0.24230781619518113,
          -0.36889321022938737,
          0.01572106847202316,
          0.43561389700725806,
          0.11144186558321814,
          -0.6508334551545648,
          1.018199714126553,
          0.8714881246496483,
          -1.5536263117876437,
          2.235615408287663,
          0.12156182099911096,
          0.0745440501953923,
          1.3531429059771674,
          0.7934764526588117,
          2.5958981612081273,
          1.1486359575895522,
          -2.3844317905567403,
          -0.6650930734834832,
          0.05235770758444297,
          0.08514327670747696,
          1.249831995368982,
          -0.9450238390834802,
          -0.2639259615069109,
          -0.52369639655623,
          0.49020926089127365,
          0.34420441702195825,
          0.3041093733430783,
          0.22057571199250411,
          0.7505519778911802,
          -1.2174904593310871,
          1.056341055422691,
          1.2792360322150826,
          -0.5399025492546313,
          -0.13763862502097546,
          -2.0187290599712178,
          -1.9068308822417757
         ],
         "xaxis": "x12",
         "y": [
          -0.3872323872369992,
          0.3129896931497061,
          0.549109784320413,
          0.24341866874423576,
          1.499529146175969,
          1.2787254198445286,
          0.09732899572249865,
          0.6786729923835082,
          0.3200378633283294,
          0.5394983246081207,
          1.9304686738992993,
          -0.1476528422065039,
          0.20730005663265114,
          -0.08292020894156982,
          -1.0332985315410432,
          0.2910227164489197,
          -0.6599861700596447,
          -1.5927522845823798,
          -0.06913975252968259,
          -0.5350268297035842,
          -0.08331731434480327,
          0.00951634077256817,
          -0.8740584241386143,
          -0.2450153374063535,
          -0.07959487862678238,
          1.6987821893488655,
          -0.33441987308935917,
          -0.5162053018290103,
          0.7867538063077528,
          -0.511729361567106,
          -0.3442187857712442,
          1.4539410232083054,
          1.3210571784341893,
          0.39479043190364904,
          -2.1444074764988144,
          -0.17579186871750874,
          0.9734103167653669,
          -1.5447888626969593,
          0.44118731033021363,
          0.27523186474757166,
          0.19584184595773688,
          2.1479956346168163,
          2.5676586672224286,
          0.4169684005852465,
          -0.7905053421090682,
          0.6059343090399911,
          1.1718702289760667,
          -1.4892935685267537,
          -0.9155580924696599,
          0.38024870280397105,
          -0.4477636807416802,
          0.09620063605372368,
          0.0746695266655892,
          -1.6872206649919161,
          0.7466670151316754,
          -0.299369659246122,
          -0.5538294760945928,
          -0.7433103932079366,
          -1.2464060855888113,
          -0.9325474584013793,
          -0.41615198461661734,
          -0.5832952182022414,
          -0.15074930142568585,
          0.47296418006624735,
          -0.9547052054771018,
          1.083298302216257,
          -1.4824096196587915,
          -1.122351602702573,
          0.9302847260988449,
          0.441320891411173,
          -0.2833388821399992,
          -1.2753864362984364,
          -1.1169841191601397,
          0.5972396627662147,
          -0.2491773777751275,
          -0.18988486380823916,
          0.8546215215474877,
          -0.38142398607241634,
          -1.0945065986319291,
          0.3142174694812054,
          -0.7462860924229974,
          0.29691771845913784,
          -2.5760037011011914,
          -0.5331102468132428,
          -1.1442208420210935,
          0.7410619807933482,
          0.16704743929932367,
          0.9173053003360592,
          -1.3378054378604043,
          1.2352164222516753,
          -2.260111480808333,
          1.6287248278642656,
          1.3524792127034155,
          -0.4904296405112925,
          -0.9892598998698315,
          1.6661723261514287,
          -0.5076306898533299,
          0.1644388963494178,
          -0.2723433733772562,
          0.5829871208447345
         ],
         "yaxis": "y12"
        },
        {
         "line": {
          "color": "rgba(128, 128, 128, 1.0)",
          "dash": "solid",
          "shape": "linear",
          "width": 1.3
         },
         "marker": {
          "size": 2,
          "symbol": "circle"
         },
         "mode": "markers",
         "name": "D",
         "text": "",
         "type": "scatter",
         "x": [
          0.5743707795773935,
          0.7705130471123088,
          -1.1576336254777675,
          -0.8271035026452863,
          0.7425917665606087,
          -0.5394750578829458,
          0.5097192595359479,
          0.5432487081145778,
          -0.017946748455862877,
          0.19581581905947343,
          -1.437598250743915,
          2.218752439044428,
          1.3735761727944185,
          0.4110662686393877,
          -1.2762577922869192,
          1.052973143565982,
          1.4455702341590444,
          -0.3948389358880354,
          0.7885045139246953,
          -1.048373347634528,
          1.7428723409947369,
          0.5095898223142886,
          -0.40242338927638993,
          0.7895293899801388,
          -1.1684034943003128,
          -0.04221538280344773,
          0.008138638768228417,
          -0.4886444367606532,
          0.372696913991112,
          0.012203537415463457,
          1.3219400832950743,
          0.4426993414749163,
          0.6954759067905433,
          1.26173184725225,
          0.6031545937641348,
          0.8314386262457409,
          -1.9414446443208866,
          0.44729577583315866,
          -0.1519969814341827,
          1.4347967567547704,
          0.4231389277658858,
          -0.3464188794612597,
          -1.1560117204001936,
          -0.3371028319649269,
          0.9280885194745121,
          -0.33478270805751936,
          2.501829705680731,
          0.6545880808894924,
          -0.3253344899082747,
          1.0445833650807033,
          0.6378047610339664,
          -2.282408309947842,
          -0.9940910712619948,
          1.593352030366997,
          0.9796354322121585,
          -0.14555141905550475,
          1.938036037209001,
          0.4868173620202219,
          0.055745582967331925,
          0.8956207552321556,
          0.11210772463177247,
          -0.33800571080152314,
          -1.3960145152016388,
          2.1771435310890195,
          -0.21470397682343476,
          0.4522706930495062,
          0.9164948956794404,
          0.8686559643236597,
          -0.781959644239122,
          0.858071168774533,
          1.0682392817882957,
          -0.8544402572414872,
          -0.10900933498317333,
          -0.6310301425552112,
          -0.7648997140020927,
          1.150003153635081,
          1.0797631083191377,
          -0.45546653209706256,
          -0.04107528864510263,
          0.5455832227617043,
          -0.013623144913418072,
          0.8627690024800236,
          -0.444669171787977,
          -0.09778715447296922,
          -0.9840028543722682,
          -0.7197814724774163,
          0.5492328656564691,
          0.3865729478490786,
          0.9060294279206033,
          -0.4274656683036674,
          0.7060489877334019,
          -0.38594158839707665,
          0.5846720573475902,
          0.715150753017314,
          -0.5970239007455065,
          0.46585132559113374,
          -0.18843515452973725,
          0.9407973388139189,
          -1.2463834784309387,
          1.557031562545552
         ],
         "xaxis": "x13",
         "y": [
          -0.4706922896364643,
          -0.6393288441504061,
          0.5575925212870825,
          -2.1202891520131826,
          0.7016609126653969,
          -0.06663561774881703,
          -0.4973374480135509,
          -0.590882958594366,
          2.184216868456072,
          0.33037161371952095,
          0.4777632094713535,
          0.3821948569152667,
          -1.603506970236447,
          0.03295152166286881,
          0.04081459510336229,
          -1.0542769144183797,
          0.25051753466921883,
          1.79220788387074,
          -2.1640254105521275,
          0.26545027744208516,
          -0.023472918994801143,
          -0.43244261016985147,
          0.3300305691019167,
          1.3612832617727721,
          0.23017392707992243,
          1.0116251964301215,
          0.19420287776944709,
          -1.5681994809354591,
          0.18423853340915497,
          -0.6173534845828159,
          -0.04976064378931739,
          -0.09499890498586602,
          0.5999663887957106,
          0.9470452192499397,
          0.48158232826549746,
          -0.975818121808824,
          1.1789804210928678,
          0.511991126185782,
          -0.6445127118571568,
          0.44639236607138577,
          -0.5119228999079636,
          0.3461769490638204,
          -0.28860962187000627,
          0.30880752893856117,
          0.8602920238557571,
          -1.1065956618682193,
          1.4281271716163646,
          1.7281195306020583,
          -2.070566261701333,
          -0.6463558608812114,
          -1.4424887324180486,
          2.0564826875760485,
          -0.08467260834805933,
          -0.8208555681228488,
          -0.7840923059289396,
          0.5463398928360392,
          -1.9147193931015167,
          -2.0965405121600296,
          0.8854654915221677,
          -0.7077143405284566,
          1.220740051229066,
          0.41684554242125865,
          0.4125617805707906,
          0.09547391990243034,
          -0.24230781619518113,
          -0.36889321022938737,
          0.01572106847202316,
          0.43561389700725806,
          0.11144186558321814,
          -0.6508334551545648,
          1.018199714126553,
          0.8714881246496483,
          -1.5536263117876437,
          2.235615408287663,
          0.12156182099911096,
          0.0745440501953923,
          1.3531429059771674,
          0.7934764526588117,
          2.5958981612081273,
          1.1486359575895522,
          -2.3844317905567403,
          -0.6650930734834832,
          0.05235770758444297,
          0.08514327670747696,
          1.249831995368982,
          -0.9450238390834802,
          -0.2639259615069109,
          -0.52369639655623,
          0.49020926089127365,
          0.34420441702195825,
          0.3041093733430783,
          0.22057571199250411,
          0.7505519778911802,
          -1.2174904593310871,
          1.056341055422691,
          1.2792360322150826,
          -0.5399025492546313,
          -0.13763862502097546,
          -2.0187290599712178,
          -1.9068308822417757
         ],
         "yaxis": "y13"
        },
        {
         "line": {
          "color": "rgba(128, 128, 128, 1.0)",
          "dash": "solid",
          "shape": "linear",
          "width": 1.3
         },
         "marker": {
          "size": 2,
          "symbol": "circle"
         },
         "mode": "markers",
         "name": "D",
         "text": "",
         "type": "scatter",
         "x": [
          0.8016641080924541,
          1.0077391146377723,
          0.27651367544996946,
          -2.1570213570008927,
          -1.1235011021677124,
          0.17510373317808275,
          0.5739852492901831,
          0.08400858387755353,
          -1.7399189233318215,
          1.373956525773911,
          -0.6055411343301496,
          0.07895635184420437,
          1.9396245569934054,
          0.21052865131167792,
          0.8041135995879579,
          1.2067828700888212,
          -1.2391501426725224,
          -0.602365415491375,
          -1.2116734000900296,
          -0.5657984205463799,
          -0.30418317029567005,
          -1.3047874224393003,
          -1.9023818194008624,
          1.2952595792792636,
          0.10138680285600672,
          0.0223449098802518,
          0.25608582492185883,
          -0.8817831404171913,
          0.364858694437755,
          -1.1104434289726777,
          0.3175327732447648,
          0.4440791680629179,
          0.295798249153598,
          0.17144218397646702,
          -0.5670235515093524,
          1.5675401024850084,
          -0.3154757966663135,
          -0.9569793691086736,
          -0.08939617748473268,
          -1.4138336943563812,
          -0.715750128405275,
          0.26616513383692075,
          -0.7576063158477336,
          1.0044504867732704,
          -0.8528844132117523,
          -1.3137522421554162,
          -0.6297247932341066,
          0.6641310484582209,
          0.6842832590670178,
          -1.097732442511773,
          0.7695175485075942,
          -0.8004055106036331,
          -1.2334254972160166,
          -1.3461652044016847,
          -0.44328078003252724,
          0.12362524915851832,
          -0.703900374883289,
          1.5964916213576874,
          -0.7175995763374521,
          0.7303661705616081,
          1.6433808900162372,
          -0.6732022934593243,
          0.39075007107051796,
          0.7030593293505272,
          -0.36446992902141634,
          -0.8641351675878642,
          -0.8600094939920322,
          -0.7513060798787412,
          2.286811969914792,
          -0.46975880928066727,
          -1.5697616694093142,
          -0.2921380197460708,
          0.727262007763347,
          0.4960816199155096,
          0.30461017406051066,
          -0.44238754745680947,
          -0.019873063964267003,
          -0.9791775276148362,
          0.8333268577557206,
          -0.5577902793680444,
          -0.7902334272887995,
          -1.409128891545519,
          -0.49896367670798036,
          -1.098227923147296,
          -0.16852914853637593,
          0.37570018520333304,
          -2.161831239989233,
          -0.7378821662771905,
          -0.06571168846656328,
          0.47600300766597164,
          0.9217086796711035,
          -0.5276134738110552,
          0.19389281217411172,
          -0.1976527698633932,
          -1.7029397917737243,
          -0.18454993343459655,
          -0.30032143747151385,
          0.6226966256674825,
          -0.6119109736503978,
          -2.241247130842427
         ],
         "xaxis": "x14",
         "y": [
          -0.4706922896364643,
          -0.6393288441504061,
          0.5575925212870825,
          -2.1202891520131826,
          0.7016609126653969,
          -0.06663561774881703,
          -0.4973374480135509,
          -0.590882958594366,
          2.184216868456072,
          0.33037161371952095,
          0.4777632094713535,
          0.3821948569152667,
          -1.603506970236447,
          0.03295152166286881,
          0.04081459510336229,
          -1.0542769144183797,
          0.25051753466921883,
          1.79220788387074,
          -2.1640254105521275,
          0.26545027744208516,
          -0.023472918994801143,
          -0.43244261016985147,
          0.3300305691019167,
          1.3612832617727721,
          0.23017392707992243,
          1.0116251964301215,
          0.19420287776944709,
          -1.5681994809354591,
          0.18423853340915497,
          -0.6173534845828159,
          -0.04976064378931739,
          -0.09499890498586602,
          0.5999663887957106,
          0.9470452192499397,
          0.48158232826549746,
          -0.975818121808824,
          1.1789804210928678,
          0.511991126185782,
          -0.6445127118571568,
          0.44639236607138577,
          -0.5119228999079636,
          0.3461769490638204,
          -0.28860962187000627,
          0.30880752893856117,
          0.8602920238557571,
          -1.1065956618682193,
          1.4281271716163646,
          1.7281195306020583,
          -2.070566261701333,
          -0.6463558608812114,
          -1.4424887324180486,
          2.0564826875760485,
          -0.08467260834805933,
          -0.8208555681228488,
          -0.7840923059289396,
          0.5463398928360392,
          -1.9147193931015167,
          -2.0965405121600296,
          0.8854654915221677,
          -0.7077143405284566,
          1.220740051229066,
          0.41684554242125865,
          0.4125617805707906,
          0.09547391990243034,
          -0.24230781619518113,
          -0.36889321022938737,
          0.01572106847202316,
          0.43561389700725806,
          0.11144186558321814,
          -0.6508334551545648,
          1.018199714126553,
          0.8714881246496483,
          -1.5536263117876437,
          2.235615408287663,
          0.12156182099911096,
          0.0745440501953923,
          1.3531429059771674,
          0.7934764526588117,
          2.5958981612081273,
          1.1486359575895522,
          -2.3844317905567403,
          -0.6650930734834832,
          0.05235770758444297,
          0.08514327670747696,
          1.249831995368982,
          -0.9450238390834802,
          -0.2639259615069109,
          -0.52369639655623,
          0.49020926089127365,
          0.34420441702195825,
          0.3041093733430783,
          0.22057571199250411,
          0.7505519778911802,
          -1.2174904593310871,
          1.056341055422691,
          1.2792360322150826,
          -0.5399025492546313,
          -0.13763862502097546,
          -2.0187290599712178,
          -1.9068308822417757
         ],
         "yaxis": "y14"
        },
        {
         "line": {
          "color": "rgba(128, 128, 128, 1.0)",
          "dash": "solid",
          "shape": "linear",
          "width": 1.3
         },
         "marker": {
          "size": 2,
          "symbol": "circle"
         },
         "mode": "markers",
         "name": "D",
         "text": "",
         "type": "scatter",
         "x": [
          -0.3872323872369992,
          0.3129896931497061,
          0.549109784320413,
          0.24341866874423576,
          1.499529146175969,
          1.2787254198445286,
          0.09732899572249865,
          0.6786729923835082,
          0.3200378633283294,
          0.5394983246081207,
          1.9304686738992993,
          -0.1476528422065039,
          0.20730005663265114,
          -0.08292020894156982,
          -1.0332985315410432,
          0.2910227164489197,
          -0.6599861700596447,
          -1.5927522845823798,
          -0.06913975252968259,
          -0.5350268297035842,
          -0.08331731434480327,
          0.00951634077256817,
          -0.8740584241386143,
          -0.2450153374063535,
          -0.07959487862678238,
          1.6987821893488655,
          -0.33441987308935917,
          -0.5162053018290103,
          0.7867538063077528,
          -0.511729361567106,
          -0.3442187857712442,
          1.4539410232083054,
          1.3210571784341893,
          0.39479043190364904,
          -2.1444074764988144,
          -0.17579186871750874,
          0.9734103167653669,
          -1.5447888626969593,
          0.44118731033021363,
          0.27523186474757166,
          0.19584184595773688,
          2.1479956346168163,
          2.5676586672224286,
          0.4169684005852465,
          -0.7905053421090682,
          0.6059343090399911,
          1.1718702289760667,
          -1.4892935685267537,
          -0.9155580924696599,
          0.38024870280397105,
          -0.4477636807416802,
          0.09620063605372368,
          0.0746695266655892,
          -1.6872206649919161,
          0.7466670151316754,
          -0.299369659246122,
          -0.5538294760945928,
          -0.7433103932079366,
          -1.2464060855888113,
          -0.9325474584013793,
          -0.41615198461661734,
          -0.5832952182022414,
          -0.15074930142568585,
          0.47296418006624735,
          -0.9547052054771018,
          1.083298302216257,
          -1.4824096196587915,
          -1.122351602702573,
          0.9302847260988449,
          0.441320891411173,
          -0.2833388821399992,
          -1.2753864362984364,
          -1.1169841191601397,
          0.5972396627662147,
          -0.2491773777751275,
          -0.18988486380823916,
          0.8546215215474877,
          -0.38142398607241634,
          -1.0945065986319291,
          0.3142174694812054,
          -0.7462860924229974,
          0.29691771845913784,
          -2.5760037011011914,
          -0.5331102468132428,
          -1.1442208420210935,
          0.7410619807933482,
          0.16704743929932367,
          0.9173053003360592,
          -1.3378054378604043,
          1.2352164222516753,
          -2.260111480808333,
          1.6287248278642656,
          1.3524792127034155,
          -0.4904296405112925,
          -0.9892598998698315,
          1.6661723261514287,
          -0.5076306898533299,
          0.1644388963494178,
          -0.2723433733772562,
          0.5829871208447345
         ],
         "xaxis": "x15",
         "y": [
          -0.4706922896364643,
          -0.6393288441504061,
          0.5575925212870825,
          -2.1202891520131826,
          0.7016609126653969,
          -0.06663561774881703,
          -0.4973374480135509,
          -0.590882958594366,
          2.184216868456072,
          0.33037161371952095,
          0.4777632094713535,
          0.3821948569152667,
          -1.603506970236447,
          0.03295152166286881,
          0.04081459510336229,
          -1.0542769144183797,
          0.25051753466921883,
          1.79220788387074,
          -2.1640254105521275,
          0.26545027744208516,
          -0.023472918994801143,
          -0.43244261016985147,
          0.3300305691019167,
          1.3612832617727721,
          0.23017392707992243,
          1.0116251964301215,
          0.19420287776944709,
          -1.5681994809354591,
          0.18423853340915497,
          -0.6173534845828159,
          -0.04976064378931739,
          -0.09499890498586602,
          0.5999663887957106,
          0.9470452192499397,
          0.48158232826549746,
          -0.975818121808824,
          1.1789804210928678,
          0.511991126185782,
          -0.6445127118571568,
          0.44639236607138577,
          -0.5119228999079636,
          0.3461769490638204,
          -0.28860962187000627,
          0.30880752893856117,
          0.8602920238557571,
          -1.1065956618682193,
          1.4281271716163646,
          1.7281195306020583,
          -2.070566261701333,
          -0.6463558608812114,
          -1.4424887324180486,
          2.0564826875760485,
          -0.08467260834805933,
          -0.8208555681228488,
          -0.7840923059289396,
          0.5463398928360392,
          -1.9147193931015167,
          -2.0965405121600296,
          0.8854654915221677,
          -0.7077143405284566,
          1.220740051229066,
          0.41684554242125865,
          0.4125617805707906,
          0.09547391990243034,
          -0.24230781619518113,
          -0.36889321022938737,
          0.01572106847202316,
          0.43561389700725806,
          0.11144186558321814,
          -0.6508334551545648,
          1.018199714126553,
          0.8714881246496483,
          -1.5536263117876437,
          2.235615408287663,
          0.12156182099911096,
          0.0745440501953923,
          1.3531429059771674,
          0.7934764526588117,
          2.5958981612081273,
          1.1486359575895522,
          -2.3844317905567403,
          -0.6650930734834832,
          0.05235770758444297,
          0.08514327670747696,
          1.249831995368982,
          -0.9450238390834802,
          -0.2639259615069109,
          -0.52369639655623,
          0.49020926089127365,
          0.34420441702195825,
          0.3041093733430783,
          0.22057571199250411,
          0.7505519778911802,
          -1.2174904593310871,
          1.056341055422691,
          1.2792360322150826,
          -0.5399025492546313,
          -0.13763862502097546,
          -2.0187290599712178,
          -1.9068308822417757
         ],
         "yaxis": "y15"
        },
        {
         "histfunc": "count",
         "histnorm": "",
         "marker": {
          "color": "rgba(128, 0, 128, 1.0)",
          "line": {
           "color": "#4D5663",
           "width": 1.3
          }
         },
         "name": "D",
         "nbinsx": 10,
         "opacity": 0.8,
         "orientation": "v",
         "type": "histogram",
         "x": [
          -0.4706922896364643,
          -0.6393288441504061,
          0.5575925212870825,
          -2.1202891520131826,
          0.7016609126653969,
          -0.06663561774881703,
          -0.4973374480135509,
          -0.590882958594366,
          2.184216868456072,
          0.33037161371952095,
          0.4777632094713535,
          0.3821948569152667,
          -1.603506970236447,
          0.03295152166286881,
          0.04081459510336229,
          -1.0542769144183797,
          0.25051753466921883,
          1.79220788387074,
          -2.1640254105521275,
          0.26545027744208516,
          -0.023472918994801143,
          -0.43244261016985147,
          0.3300305691019167,
          1.3612832617727721,
          0.23017392707992243,
          1.0116251964301215,
          0.19420287776944709,
          -1.5681994809354591,
          0.18423853340915497,
          -0.6173534845828159,
          -0.04976064378931739,
          -0.09499890498586602,
          0.5999663887957106,
          0.9470452192499397,
          0.48158232826549746,
          -0.975818121808824,
          1.1789804210928678,
          0.511991126185782,
          -0.6445127118571568,
          0.44639236607138577,
          -0.5119228999079636,
          0.3461769490638204,
          -0.28860962187000627,
          0.30880752893856117,
          0.8602920238557571,
          -1.1065956618682193,
          1.4281271716163646,
          1.7281195306020583,
          -2.070566261701333,
          -0.6463558608812114,
          -1.4424887324180486,
          2.0564826875760485,
          -0.08467260834805933,
          -0.8208555681228488,
          -0.7840923059289396,
          0.5463398928360392,
          -1.9147193931015167,
          -2.0965405121600296,
          0.8854654915221677,
          -0.7077143405284566,
          1.220740051229066,
          0.41684554242125865,
          0.4125617805707906,
          0.09547391990243034,
          -0.24230781619518113,
          -0.36889321022938737,
          0.01572106847202316,
          0.43561389700725806,
          0.11144186558321814,
          -0.6508334551545648,
          1.018199714126553,
          0.8714881246496483,
          -1.5536263117876437,
          2.235615408287663,
          0.12156182099911096,
          0.0745440501953923,
          1.3531429059771674,
          0.7934764526588117,
          2.5958981612081273,
          1.1486359575895522,
          -2.3844317905567403,
          -0.6650930734834832,
          0.05235770758444297,
          0.08514327670747696,
          1.249831995368982,
          -0.9450238390834802,
          -0.2639259615069109,
          -0.52369639655623,
          0.49020926089127365,
          0.34420441702195825,
          0.3041093733430783,
          0.22057571199250411,
          0.7505519778911802,
          -1.2174904593310871,
          1.056341055422691,
          1.2792360322150826,
          -0.5399025492546313,
          -0.13763862502097546,
          -2.0187290599712178,
          -1.9068308822417757
         ],
         "xaxis": "x16",
         "yaxis": "y16"
        }
       ],
       "layout": {
        "bargap": 0.02,
        "legend": {
         "bgcolor": "#F5F6F9",
         "font": {
          "color": "#4D5663"
         }
        },
        "paper_bgcolor": "#F5F6F9",
        "plot_bgcolor": "#F5F6F9",
        "showlegend": false,
        "template": {
         "data": {
          "bar": [
           {
            "error_x": {
             "color": "#2a3f5f"
            },
            "error_y": {
             "color": "#2a3f5f"
            },
            "marker": {
             "line": {
              "color": "#E5ECF6",
              "width": 0.5
             },
             "pattern": {
              "fillmode": "overlay",
              "size": 10,
              "solidity": 0.2
             }
            },
            "type": "bar"
           }
          ],
          "barpolar": [
           {
            "marker": {
             "line": {
              "color": "#E5ECF6",
              "width": 0.5
             },
             "pattern": {
              "fillmode": "overlay",
              "size": 10,
              "solidity": 0.2
             }
            },
            "type": "barpolar"
           }
          ],
          "carpet": [
           {
            "aaxis": {
             "endlinecolor": "#2a3f5f",
             "gridcolor": "white",
             "linecolor": "white",
             "minorgridcolor": "white",
             "startlinecolor": "#2a3f5f"
            },
            "baxis": {
             "endlinecolor": "#2a3f5f",
             "gridcolor": "white",
             "linecolor": "white",
             "minorgridcolor": "white",
             "startlinecolor": "#2a3f5f"
            },
            "type": "carpet"
           }
          ],
          "choropleth": [
           {
            "colorbar": {
             "outlinewidth": 0,
             "ticks": ""
            },
            "type": "choropleth"
           }
          ],
          "contour": [
           {
            "colorbar": {
             "outlinewidth": 0,
             "ticks": ""
            },
            "colorscale": [
             [
              0,
              "#0d0887"
             ],
             [
              0.1111111111111111,
              "#46039f"
             ],
             [
              0.2222222222222222,
              "#7201a8"
             ],
             [
              0.3333333333333333,
              "#9c179e"
             ],
             [
              0.4444444444444444,
              "#bd3786"
             ],
             [
              0.5555555555555556,
              "#d8576b"
             ],
             [
              0.6666666666666666,
              "#ed7953"
             ],
             [
              0.7777777777777778,
              "#fb9f3a"
             ],
             [
              0.8888888888888888,
              "#fdca26"
             ],
             [
              1,
              "#f0f921"
             ]
            ],
            "type": "contour"
           }
          ],
          "contourcarpet": [
           {
            "colorbar": {
             "outlinewidth": 0,
             "ticks": ""
            },
            "type": "contourcarpet"
           }
          ],
          "heatmap": [
           {
            "colorbar": {
             "outlinewidth": 0,
             "ticks": ""
            },
            "colorscale": [
             [
              0,
              "#0d0887"
             ],
             [
              0.1111111111111111,
              "#46039f"
             ],
             [
              0.2222222222222222,
              "#7201a8"
             ],
             [
              0.3333333333333333,
              "#9c179e"
             ],
             [
              0.4444444444444444,
              "#bd3786"
             ],
             [
              0.5555555555555556,
              "#d8576b"
             ],
             [
              0.6666666666666666,
              "#ed7953"
             ],
             [
              0.7777777777777778,
              "#fb9f3a"
             ],
             [
              0.8888888888888888,
              "#fdca26"
             ],
             [
              1,
              "#f0f921"
             ]
            ],
            "type": "heatmap"
           }
          ],
          "heatmapgl": [
           {
            "colorbar": {
             "outlinewidth": 0,
             "ticks": ""
            },
            "colorscale": [
             [
              0,
              "#0d0887"
             ],
             [
              0.1111111111111111,
              "#46039f"
             ],
             [
              0.2222222222222222,
              "#7201a8"
             ],
             [
              0.3333333333333333,
              "#9c179e"
             ],
             [
              0.4444444444444444,
              "#bd3786"
             ],
             [
              0.5555555555555556,
              "#d8576b"
             ],
             [
              0.6666666666666666,
              "#ed7953"
             ],
             [
              0.7777777777777778,
              "#fb9f3a"
             ],
             [
              0.8888888888888888,
              "#fdca26"
             ],
             [
              1,
              "#f0f921"
             ]
            ],
            "type": "heatmapgl"
           }
          ],
          "histogram": [
           {
            "marker": {
             "pattern": {
              "fillmode": "overlay",
              "size": 10,
              "solidity": 0.2
             }
            },
            "type": "histogram"
           }
          ],
          "histogram2d": [
           {
            "colorbar": {
             "outlinewidth": 0,
             "ticks": ""
            },
            "colorscale": [
             [
              0,
              "#0d0887"
             ],
             [
              0.1111111111111111,
              "#46039f"
             ],
             [
              0.2222222222222222,
              "#7201a8"
             ],
             [
              0.3333333333333333,
              "#9c179e"
             ],
             [
              0.4444444444444444,
              "#bd3786"
             ],
             [
              0.5555555555555556,
              "#d8576b"
             ],
             [
              0.6666666666666666,
              "#ed7953"
             ],
             [
              0.7777777777777778,
              "#fb9f3a"
             ],
             [
              0.8888888888888888,
              "#fdca26"
             ],
             [
              1,
              "#f0f921"
             ]
            ],
            "type": "histogram2d"
           }
          ],
          "histogram2dcontour": [
           {
            "colorbar": {
             "outlinewidth": 0,
             "ticks": ""
            },
            "colorscale": [
             [
              0,
              "#0d0887"
             ],
             [
              0.1111111111111111,
              "#46039f"
             ],
             [
              0.2222222222222222,
              "#7201a8"
             ],
             [
              0.3333333333333333,
              "#9c179e"
             ],
             [
              0.4444444444444444,
              "#bd3786"
             ],
             [
              0.5555555555555556,
              "#d8576b"
             ],
             [
              0.6666666666666666,
              "#ed7953"
             ],
             [
              0.7777777777777778,
              "#fb9f3a"
             ],
             [
              0.8888888888888888,
              "#fdca26"
             ],
             [
              1,
              "#f0f921"
             ]
            ],
            "type": "histogram2dcontour"
           }
          ],
          "mesh3d": [
           {
            "colorbar": {
             "outlinewidth": 0,
             "ticks": ""
            },
            "type": "mesh3d"
           }
          ],
          "parcoords": [
           {
            "line": {
             "colorbar": {
              "outlinewidth": 0,
              "ticks": ""
             }
            },
            "type": "parcoords"
           }
          ],
          "pie": [
           {
            "automargin": true,
            "type": "pie"
           }
          ],
          "scatter": [
           {
            "marker": {
             "colorbar": {
              "outlinewidth": 0,
              "ticks": ""
             }
            },
            "type": "scatter"
           }
          ],
          "scatter3d": [
           {
            "line": {
             "colorbar": {
              "outlinewidth": 0,
              "ticks": ""
             }
            },
            "marker": {
             "colorbar": {
              "outlinewidth": 0,
              "ticks": ""
             }
            },
            "type": "scatter3d"
           }
          ],
          "scattercarpet": [
           {
            "marker": {
             "colorbar": {
              "outlinewidth": 0,
              "ticks": ""
             }
            },
            "type": "scattercarpet"
           }
          ],
          "scattergeo": [
           {
            "marker": {
             "colorbar": {
              "outlinewidth": 0,
              "ticks": ""
             }
            },
            "type": "scattergeo"
           }
          ],
          "scattergl": [
           {
            "marker": {
             "colorbar": {
              "outlinewidth": 0,
              "ticks": ""
             }
            },
            "type": "scattergl"
           }
          ],
          "scattermapbox": [
           {
            "marker": {
             "colorbar": {
              "outlinewidth": 0,
              "ticks": ""
             }
            },
            "type": "scattermapbox"
           }
          ],
          "scatterpolar": [
           {
            "marker": {
             "colorbar": {
              "outlinewidth": 0,
              "ticks": ""
             }
            },
            "type": "scatterpolar"
           }
          ],
          "scatterpolargl": [
           {
            "marker": {
             "colorbar": {
              "outlinewidth": 0,
              "ticks": ""
             }
            },
            "type": "scatterpolargl"
           }
          ],
          "scatterternary": [
           {
            "marker": {
             "colorbar": {
              "outlinewidth": 0,
              "ticks": ""
             }
            },
            "type": "scatterternary"
           }
          ],
          "surface": [
           {
            "colorbar": {
             "outlinewidth": 0,
             "ticks": ""
            },
            "colorscale": [
             [
              0,
              "#0d0887"
             ],
             [
              0.1111111111111111,
              "#46039f"
             ],
             [
              0.2222222222222222,
              "#7201a8"
             ],
             [
              0.3333333333333333,
              "#9c179e"
             ],
             [
              0.4444444444444444,
              "#bd3786"
             ],
             [
              0.5555555555555556,
              "#d8576b"
             ],
             [
              0.6666666666666666,
              "#ed7953"
             ],
             [
              0.7777777777777778,
              "#fb9f3a"
             ],
             [
              0.8888888888888888,
              "#fdca26"
             ],
             [
              1,
              "#f0f921"
             ]
            ],
            "type": "surface"
           }
          ],
          "table": [
           {
            "cells": {
             "fill": {
              "color": "#EBF0F8"
             },
             "line": {
              "color": "white"
             }
            },
            "header": {
             "fill": {
              "color": "#C8D4E3"
             },
             "line": {
              "color": "white"
             }
            },
            "type": "table"
           }
          ]
         },
         "layout": {
          "annotationdefaults": {
           "arrowcolor": "#2a3f5f",
           "arrowhead": 0,
           "arrowwidth": 1
          },
          "autotypenumbers": "strict",
          "coloraxis": {
           "colorbar": {
            "outlinewidth": 0,
            "ticks": ""
           }
          },
          "colorscale": {
           "diverging": [
            [
             0,
             "#8e0152"
            ],
            [
             0.1,
             "#c51b7d"
            ],
            [
             0.2,
             "#de77ae"
            ],
            [
             0.3,
             "#f1b6da"
            ],
            [
             0.4,
             "#fde0ef"
            ],
            [
             0.5,
             "#f7f7f7"
            ],
            [
             0.6,
             "#e6f5d0"
            ],
            [
             0.7,
             "#b8e186"
            ],
            [
             0.8,
             "#7fbc41"
            ],
            [
             0.9,
             "#4d9221"
            ],
            [
             1,
             "#276419"
            ]
           ],
           "sequential": [
            [
             0,
             "#0d0887"
            ],
            [
             0.1111111111111111,
             "#46039f"
            ],
            [
             0.2222222222222222,
             "#7201a8"
            ],
            [
             0.3333333333333333,
             "#9c179e"
            ],
            [
             0.4444444444444444,
             "#bd3786"
            ],
            [
             0.5555555555555556,
             "#d8576b"
            ],
            [
             0.6666666666666666,
             "#ed7953"
            ],
            [
             0.7777777777777778,
             "#fb9f3a"
            ],
            [
             0.8888888888888888,
             "#fdca26"
            ],
            [
             1,
             "#f0f921"
            ]
           ],
           "sequentialminus": [
            [
             0,
             "#0d0887"
            ],
            [
             0.1111111111111111,
             "#46039f"
            ],
            [
             0.2222222222222222,
             "#7201a8"
            ],
            [
             0.3333333333333333,
             "#9c179e"
            ],
            [
             0.4444444444444444,
             "#bd3786"
            ],
            [
             0.5555555555555556,
             "#d8576b"
            ],
            [
             0.6666666666666666,
             "#ed7953"
            ],
            [
             0.7777777777777778,
             "#fb9f3a"
            ],
            [
             0.8888888888888888,
             "#fdca26"
            ],
            [
             1,
             "#f0f921"
            ]
           ]
          },
          "colorway": [
           "#636efa",
           "#EF553B",
           "#00cc96",
           "#ab63fa",
           "#FFA15A",
           "#19d3f3",
           "#FF6692",
           "#B6E880",
           "#FF97FF",
           "#FECB52"
          ],
          "font": {
           "color": "#2a3f5f"
          },
          "geo": {
           "bgcolor": "white",
           "lakecolor": "white",
           "landcolor": "#E5ECF6",
           "showlakes": true,
           "showland": true,
           "subunitcolor": "white"
          },
          "hoverlabel": {
           "align": "left"
          },
          "hovermode": "closest",
          "mapbox": {
           "style": "light"
          },
          "paper_bgcolor": "white",
          "plot_bgcolor": "#E5ECF6",
          "polar": {
           "angularaxis": {
            "gridcolor": "white",
            "linecolor": "white",
            "ticks": ""
           },
           "bgcolor": "#E5ECF6",
           "radialaxis": {
            "gridcolor": "white",
            "linecolor": "white",
            "ticks": ""
           }
          },
          "scene": {
           "xaxis": {
            "backgroundcolor": "#E5ECF6",
            "gridcolor": "white",
            "gridwidth": 2,
            "linecolor": "white",
            "showbackground": true,
            "ticks": "",
            "zerolinecolor": "white"
           },
           "yaxis": {
            "backgroundcolor": "#E5ECF6",
            "gridcolor": "white",
            "gridwidth": 2,
            "linecolor": "white",
            "showbackground": true,
            "ticks": "",
            "zerolinecolor": "white"
           },
           "zaxis": {
            "backgroundcolor": "#E5ECF6",
            "gridcolor": "white",
            "gridwidth": 2,
            "linecolor": "white",
            "showbackground": true,
            "ticks": "",
            "zerolinecolor": "white"
           }
          },
          "shapedefaults": {
           "line": {
            "color": "#2a3f5f"
           }
          },
          "ternary": {
           "aaxis": {
            "gridcolor": "white",
            "linecolor": "white",
            "ticks": ""
           },
           "baxis": {
            "gridcolor": "white",
            "linecolor": "white",
            "ticks": ""
           },
           "bgcolor": "#E5ECF6",
           "caxis": {
            "gridcolor": "white",
            "linecolor": "white",
            "ticks": ""
           }
          },
          "title": {
           "x": 0.05
          },
          "xaxis": {
           "automargin": true,
           "gridcolor": "white",
           "linecolor": "white",
           "ticks": "",
           "title": {
            "standoff": 15
           },
           "zerolinecolor": "white",
           "zerolinewidth": 2
          },
          "yaxis": {
           "automargin": true,
           "gridcolor": "white",
           "linecolor": "white",
           "ticks": "",
           "title": {
            "standoff": 15
           },
           "zerolinecolor": "white",
           "zerolinewidth": 2
          }
         }
        },
        "title": {
         "font": {
          "color": "#4D5663"
         }
        },
        "xaxis": {
         "anchor": "y",
         "domain": [
          0,
          0.2125
         ],
         "gridcolor": "#E1E5ED",
         "showgrid": false,
         "tickfont": {
          "color": "#4D5663"
         },
         "title": {
          "font": {
           "color": "#4D5663"
          },
          "text": ""
         },
         "zerolinecolor": "#E1E5ED"
        },
        "xaxis10": {
         "anchor": "y10",
         "domain": [
          0.2625,
          0.475
         ],
         "gridcolor": "#E1E5ED",
         "showgrid": false,
         "tickfont": {
          "color": "#4D5663"
         },
         "title": {
          "font": {
           "color": "#4D5663"
          },
          "text": ""
         },
         "zerolinecolor": "#E1E5ED"
        },
        "xaxis11": {
         "anchor": "y11",
         "domain": [
          0.525,
          0.7375
         ],
         "gridcolor": "#E1E5ED",
         "showgrid": false,
         "tickfont": {
          "color": "#4D5663"
         },
         "title": {
          "font": {
           "color": "#4D5663"
          },
          "text": ""
         },
         "zerolinecolor": "#E1E5ED"
        },
        "xaxis12": {
         "anchor": "y12",
         "domain": [
          0.7875,
          1
         ],
         "gridcolor": "#E1E5ED",
         "showgrid": false,
         "tickfont": {
          "color": "#4D5663"
         },
         "title": {
          "font": {
           "color": "#4D5663"
          },
          "text": ""
         },
         "zerolinecolor": "#E1E5ED"
        },
        "xaxis13": {
         "anchor": "y13",
         "domain": [
          0,
          0.2125
         ],
         "gridcolor": "#E1E5ED",
         "showgrid": false,
         "tickfont": {
          "color": "#4D5663"
         },
         "title": {
          "font": {
           "color": "#4D5663"
          },
          "text": ""
         },
         "zerolinecolor": "#E1E5ED"
        },
        "xaxis14": {
         "anchor": "y14",
         "domain": [
          0.2625,
          0.475
         ],
         "gridcolor": "#E1E5ED",
         "showgrid": false,
         "tickfont": {
          "color": "#4D5663"
         },
         "title": {
          "font": {
           "color": "#4D5663"
          },
          "text": ""
         },
         "zerolinecolor": "#E1E5ED"
        },
        "xaxis15": {
         "anchor": "y15",
         "domain": [
          0.525,
          0.7375
         ],
         "gridcolor": "#E1E5ED",
         "showgrid": false,
         "tickfont": {
          "color": "#4D5663"
         },
         "title": {
          "font": {
           "color": "#4D5663"
          },
          "text": ""
         },
         "zerolinecolor": "#E1E5ED"
        },
        "xaxis16": {
         "anchor": "y16",
         "domain": [
          0.7875,
          1
         ],
         "gridcolor": "#E1E5ED",
         "showgrid": false,
         "tickfont": {
          "color": "#4D5663"
         },
         "title": {
          "font": {
           "color": "#4D5663"
          },
          "text": ""
         },
         "zerolinecolor": "#E1E5ED"
        },
        "xaxis2": {
         "anchor": "y2",
         "domain": [
          0.2625,
          0.475
         ],
         "gridcolor": "#E1E5ED",
         "showgrid": false,
         "tickfont": {
          "color": "#4D5663"
         },
         "title": {
          "font": {
           "color": "#4D5663"
          },
          "text": ""
         },
         "zerolinecolor": "#E1E5ED"
        },
        "xaxis3": {
         "anchor": "y3",
         "domain": [
          0.525,
          0.7375
         ],
         "gridcolor": "#E1E5ED",
         "showgrid": false,
         "tickfont": {
          "color": "#4D5663"
         },
         "title": {
          "font": {
           "color": "#4D5663"
          },
          "text": ""
         },
         "zerolinecolor": "#E1E5ED"
        },
        "xaxis4": {
         "anchor": "y4",
         "domain": [
          0.7875,
          1
         ],
         "gridcolor": "#E1E5ED",
         "showgrid": false,
         "tickfont": {
          "color": "#4D5663"
         },
         "title": {
          "font": {
           "color": "#4D5663"
          },
          "text": ""
         },
         "zerolinecolor": "#E1E5ED"
        },
        "xaxis5": {
         "anchor": "y5",
         "domain": [
          0,
          0.2125
         ],
         "gridcolor": "#E1E5ED",
         "showgrid": false,
         "tickfont": {
          "color": "#4D5663"
         },
         "title": {
          "font": {
           "color": "#4D5663"
          },
          "text": ""
         },
         "zerolinecolor": "#E1E5ED"
        },
        "xaxis6": {
         "anchor": "y6",
         "domain": [
          0.2625,
          0.475
         ],
         "gridcolor": "#E1E5ED",
         "showgrid": false,
         "tickfont": {
          "color": "#4D5663"
         },
         "title": {
          "font": {
           "color": "#4D5663"
          },
          "text": ""
         },
         "zerolinecolor": "#E1E5ED"
        },
        "xaxis7": {
         "anchor": "y7",
         "domain": [
          0.525,
          0.7375
         ],
         "gridcolor": "#E1E5ED",
         "showgrid": false,
         "tickfont": {
          "color": "#4D5663"
         },
         "title": {
          "font": {
           "color": "#4D5663"
          },
          "text": ""
         },
         "zerolinecolor": "#E1E5ED"
        },
        "xaxis8": {
         "anchor": "y8",
         "domain": [
          0.7875,
          1
         ],
         "gridcolor": "#E1E5ED",
         "showgrid": false,
         "tickfont": {
          "color": "#4D5663"
         },
         "title": {
          "font": {
           "color": "#4D5663"
          },
          "text": ""
         },
         "zerolinecolor": "#E1E5ED"
        },
        "xaxis9": {
         "anchor": "y9",
         "domain": [
          0,
          0.2125
         ],
         "gridcolor": "#E1E5ED",
         "showgrid": false,
         "tickfont": {
          "color": "#4D5663"
         },
         "title": {
          "font": {
           "color": "#4D5663"
          },
          "text": ""
         },
         "zerolinecolor": "#E1E5ED"
        },
        "yaxis": {
         "anchor": "x",
         "domain": [
          0.8025,
          1
         ],
         "gridcolor": "#E1E5ED",
         "showgrid": false,
         "tickfont": {
          "color": "#4D5663"
         },
         "title": {
          "font": {
           "color": "#4D5663"
          },
          "text": ""
         },
         "zerolinecolor": "#E1E5ED"
        },
        "yaxis10": {
         "anchor": "x10",
         "domain": [
          0.2675,
          0.465
         ],
         "gridcolor": "#E1E5ED",
         "showgrid": false,
         "tickfont": {
          "color": "#4D5663"
         },
         "title": {
          "font": {
           "color": "#4D5663"
          },
          "text": ""
         },
         "zerolinecolor": "#E1E5ED"
        },
        "yaxis11": {
         "anchor": "x11",
         "domain": [
          0.2675,
          0.465
         ],
         "gridcolor": "#E1E5ED",
         "showgrid": false,
         "tickfont": {
          "color": "#4D5663"
         },
         "title": {
          "font": {
           "color": "#4D5663"
          },
          "text": ""
         },
         "zerolinecolor": "#E1E5ED"
        },
        "yaxis12": {
         "anchor": "x12",
         "domain": [
          0.2675,
          0.465
         ],
         "gridcolor": "#E1E5ED",
         "showgrid": false,
         "tickfont": {
          "color": "#4D5663"
         },
         "title": {
          "font": {
           "color": "#4D5663"
          },
          "text": ""
         },
         "zerolinecolor": "#E1E5ED"
        },
        "yaxis13": {
         "anchor": "x13",
         "domain": [
          0,
          0.1975
         ],
         "gridcolor": "#E1E5ED",
         "showgrid": false,
         "tickfont": {
          "color": "#4D5663"
         },
         "title": {
          "font": {
           "color": "#4D5663"
          },
          "text": ""
         },
         "zerolinecolor": "#E1E5ED"
        },
        "yaxis14": {
         "anchor": "x14",
         "domain": [
          0,
          0.1975
         ],
         "gridcolor": "#E1E5ED",
         "showgrid": false,
         "tickfont": {
          "color": "#4D5663"
         },
         "title": {
          "font": {
           "color": "#4D5663"
          },
          "text": ""
         },
         "zerolinecolor": "#E1E5ED"
        },
        "yaxis15": {
         "anchor": "x15",
         "domain": [
          0,
          0.1975
         ],
         "gridcolor": "#E1E5ED",
         "showgrid": false,
         "tickfont": {
          "color": "#4D5663"
         },
         "title": {
          "font": {
           "color": "#4D5663"
          },
          "text": ""
         },
         "zerolinecolor": "#E1E5ED"
        },
        "yaxis16": {
         "anchor": "x16",
         "domain": [
          0,
          0.1975
         ],
         "gridcolor": "#E1E5ED",
         "showgrid": false,
         "tickfont": {
          "color": "#4D5663"
         },
         "title": {
          "font": {
           "color": "#4D5663"
          },
          "text": ""
         },
         "zerolinecolor": "#E1E5ED"
        },
        "yaxis2": {
         "anchor": "x2",
         "domain": [
          0.8025,
          1
         ],
         "gridcolor": "#E1E5ED",
         "showgrid": false,
         "tickfont": {
          "color": "#4D5663"
         },
         "title": {
          "font": {
           "color": "#4D5663"
          },
          "text": ""
         },
         "zerolinecolor": "#E1E5ED"
        },
        "yaxis3": {
         "anchor": "x3",
         "domain": [
          0.8025,
          1
         ],
         "gridcolor": "#E1E5ED",
         "showgrid": false,
         "tickfont": {
          "color": "#4D5663"
         },
         "title": {
          "font": {
           "color": "#4D5663"
          },
          "text": ""
         },
         "zerolinecolor": "#E1E5ED"
        },
        "yaxis4": {
         "anchor": "x4",
         "domain": [
          0.8025,
          1
         ],
         "gridcolor": "#E1E5ED",
         "showgrid": false,
         "tickfont": {
          "color": "#4D5663"
         },
         "title": {
          "font": {
           "color": "#4D5663"
          },
          "text": ""
         },
         "zerolinecolor": "#E1E5ED"
        },
        "yaxis5": {
         "anchor": "x5",
         "domain": [
          0.535,
          0.7325
         ],
         "gridcolor": "#E1E5ED",
         "showgrid": false,
         "tickfont": {
          "color": "#4D5663"
         },
         "title": {
          "font": {
           "color": "#4D5663"
          },
          "text": ""
         },
         "zerolinecolor": "#E1E5ED"
        },
        "yaxis6": {
         "anchor": "x6",
         "domain": [
          0.535,
          0.7325
         ],
         "gridcolor": "#E1E5ED",
         "showgrid": false,
         "tickfont": {
          "color": "#4D5663"
         },
         "title": {
          "font": {
           "color": "#4D5663"
          },
          "text": ""
         },
         "zerolinecolor": "#E1E5ED"
        },
        "yaxis7": {
         "anchor": "x7",
         "domain": [
          0.535,
          0.7325
         ],
         "gridcolor": "#E1E5ED",
         "showgrid": false,
         "tickfont": {
          "color": "#4D5663"
         },
         "title": {
          "font": {
           "color": "#4D5663"
          },
          "text": ""
         },
         "zerolinecolor": "#E1E5ED"
        },
        "yaxis8": {
         "anchor": "x8",
         "domain": [
          0.535,
          0.7325
         ],
         "gridcolor": "#E1E5ED",
         "showgrid": false,
         "tickfont": {
          "color": "#4D5663"
         },
         "title": {
          "font": {
           "color": "#4D5663"
          },
          "text": ""
         },
         "zerolinecolor": "#E1E5ED"
        },
        "yaxis9": {
         "anchor": "x9",
         "domain": [
          0.2675,
          0.465
         ],
         "gridcolor": "#E1E5ED",
         "showgrid": false,
         "tickfont": {
          "color": "#4D5663"
         },
         "title": {
          "font": {
           "color": "#4D5663"
          },
          "text": ""
         },
         "zerolinecolor": "#E1E5ED"
        }
       }
      },
      "text/html": [
       "<div>                            <div id=\"68ee9b6b-8d1c-449f-9175-ab9978a4f4bf\" class=\"plotly-graph-div\" style=\"height:525px; width:100%;\"></div>            <script type=\"text/javascript\">                require([\"plotly\"], function(Plotly) {                    window.PLOTLYENV=window.PLOTLYENV || {};\n",
       "                    window.PLOTLYENV.BASE_URL='https://plot.ly';                                    if (document.getElementById(\"68ee9b6b-8d1c-449f-9175-ab9978a4f4bf\")) {                    Plotly.newPlot(                        \"68ee9b6b-8d1c-449f-9175-ab9978a4f4bf\",                        [{\"histfunc\":\"count\",\"histnorm\":\"\",\"marker\":{\"color\":\"rgba(255, 153, 51, 1.0)\",\"line\":{\"color\":\"#4D5663\",\"width\":1.3}},\"name\":\"A\",\"nbinsx\":10,\"opacity\":0.8,\"orientation\":\"v\",\"x\":[0.5743707795773935,0.7705130471123088,-1.1576336254777675,-0.8271035026452863,0.7425917665606087,-0.5394750578829458,0.5097192595359479,0.5432487081145778,-0.017946748455862877,0.19581581905947343,-1.437598250743915,2.218752439044428,1.3735761727944185,0.4110662686393877,-1.2762577922869192,1.052973143565982,1.4455702341590444,-0.3948389358880354,0.7885045139246953,-1.048373347634528,1.7428723409947369,0.5095898223142886,-0.40242338927638993,0.7895293899801388,-1.1684034943003128,-0.04221538280344773,0.008138638768228417,-0.4886444367606532,0.372696913991112,0.012203537415463457,1.3219400832950743,0.4426993414749163,0.6954759067905433,1.26173184725225,0.6031545937641348,0.8314386262457409,-1.9414446443208866,0.44729577583315866,-0.1519969814341827,1.4347967567547704,0.4231389277658858,-0.3464188794612597,-1.1560117204001936,-0.3371028319649269,0.9280885194745121,-0.33478270805751936,2.501829705680731,0.6545880808894924,-0.3253344899082747,1.0445833650807033,0.6378047610339664,-2.282408309947842,-0.9940910712619948,1.593352030366997,0.9796354322121585,-0.14555141905550475,1.938036037209001,0.4868173620202219,0.055745582967331925,0.8956207552321556,0.11210772463177247,-0.33800571080152314,-1.3960145152016388,2.1771435310890195,-0.21470397682343476,0.4522706930495062,0.9164948956794404,0.8686559643236597,-0.781959644239122,0.858071168774533,1.0682392817882957,-0.8544402572414872,-0.10900933498317333,-0.6310301425552112,-0.7648997140020927,1.150003153635081,1.0797631083191377,-0.45546653209706256,-0.04107528864510263,0.5455832227617043,-0.013623144913418072,0.8627690024800236,-0.444669171787977,-0.09778715447296922,-0.9840028543722682,-0.7197814724774163,0.5492328656564691,0.3865729478490786,0.9060294279206033,-0.4274656683036674,0.7060489877334019,-0.38594158839707665,0.5846720573475902,0.715150753017314,-0.5970239007455065,0.46585132559113374,-0.18843515452973725,0.9407973388139189,-1.2463834784309387,1.557031562545552],\"xaxis\":\"x\",\"yaxis\":\"y\",\"type\":\"histogram\"},{\"line\":{\"color\":\"rgba(128, 128, 128, 1.0)\",\"dash\":\"solid\",\"shape\":\"linear\",\"width\":1.3},\"marker\":{\"size\":2,\"symbol\":\"circle\"},\"mode\":\"markers\",\"name\":\"A\",\"text\":\"\",\"x\":[0.8016641080924541,1.0077391146377723,0.27651367544996946,-2.1570213570008927,-1.1235011021677124,0.17510373317808275,0.5739852492901831,0.08400858387755353,-1.7399189233318215,1.373956525773911,-0.6055411343301496,0.07895635184420437,1.9396245569934054,0.21052865131167792,0.8041135995879579,1.2067828700888212,-1.2391501426725224,-0.602365415491375,-1.2116734000900296,-0.5657984205463799,-0.30418317029567005,-1.3047874224393003,-1.9023818194008624,1.2952595792792636,0.10138680285600672,0.0223449098802518,0.25608582492185883,-0.8817831404171913,0.364858694437755,-1.1104434289726777,0.3175327732447648,0.4440791680629179,0.295798249153598,0.17144218397646702,-0.5670235515093524,1.5675401024850084,-0.3154757966663135,-0.9569793691086736,-0.08939617748473268,-1.4138336943563812,-0.715750128405275,0.26616513383692075,-0.7576063158477336,1.0044504867732704,-0.8528844132117523,-1.3137522421554162,-0.6297247932341066,0.6641310484582209,0.6842832590670178,-1.097732442511773,0.7695175485075942,-0.8004055106036331,-1.2334254972160166,-1.3461652044016847,-0.44328078003252724,0.12362524915851832,-0.703900374883289,1.5964916213576874,-0.7175995763374521,0.7303661705616081,1.6433808900162372,-0.6732022934593243,0.39075007107051796,0.7030593293505272,-0.36446992902141634,-0.8641351675878642,-0.8600094939920322,-0.7513060798787412,2.286811969914792,-0.46975880928066727,-1.5697616694093142,-0.2921380197460708,0.727262007763347,0.4960816199155096,0.30461017406051066,-0.44238754745680947,-0.019873063964267003,-0.9791775276148362,0.8333268577557206,-0.5577902793680444,-0.7902334272887995,-1.409128891545519,-0.49896367670798036,-1.098227923147296,-0.16852914853637593,0.37570018520333304,-2.161831239989233,-0.7378821662771905,-0.06571168846656328,0.47600300766597164,0.9217086796711035,-0.5276134738110552,0.19389281217411172,-0.1976527698633932,-1.7029397917737243,-0.18454993343459655,-0.30032143747151385,0.6226966256674825,-0.6119109736503978,-2.241247130842427],\"xaxis\":\"x2\",\"y\":[0.5743707795773935,0.7705130471123088,-1.1576336254777675,-0.8271035026452863,0.7425917665606087,-0.5394750578829458,0.5097192595359479,0.5432487081145778,-0.017946748455862877,0.19581581905947343,-1.437598250743915,2.218752439044428,1.3735761727944185,0.4110662686393877,-1.2762577922869192,1.052973143565982,1.4455702341590444,-0.3948389358880354,0.7885045139246953,-1.048373347634528,1.7428723409947369,0.5095898223142886,-0.40242338927638993,0.7895293899801388,-1.1684034943003128,-0.04221538280344773,0.008138638768228417,-0.4886444367606532,0.372696913991112,0.012203537415463457,1.3219400832950743,0.4426993414749163,0.6954759067905433,1.26173184725225,0.6031545937641348,0.8314386262457409,-1.9414446443208866,0.44729577583315866,-0.1519969814341827,1.4347967567547704,0.4231389277658858,-0.3464188794612597,-1.1560117204001936,-0.3371028319649269,0.9280885194745121,-0.33478270805751936,2.501829705680731,0.6545880808894924,-0.3253344899082747,1.0445833650807033,0.6378047610339664,-2.282408309947842,-0.9940910712619948,1.593352030366997,0.9796354322121585,-0.14555141905550475,1.938036037209001,0.4868173620202219,0.055745582967331925,0.8956207552321556,0.11210772463177247,-0.33800571080152314,-1.3960145152016388,2.1771435310890195,-0.21470397682343476,0.4522706930495062,0.9164948956794404,0.8686559643236597,-0.781959644239122,0.858071168774533,1.0682392817882957,-0.8544402572414872,-0.10900933498317333,-0.6310301425552112,-0.7648997140020927,1.150003153635081,1.0797631083191377,-0.45546653209706256,-0.04107528864510263,0.5455832227617043,-0.013623144913418072,0.8627690024800236,-0.444669171787977,-0.09778715447296922,-0.9840028543722682,-0.7197814724774163,0.5492328656564691,0.3865729478490786,0.9060294279206033,-0.4274656683036674,0.7060489877334019,-0.38594158839707665,0.5846720573475902,0.715150753017314,-0.5970239007455065,0.46585132559113374,-0.18843515452973725,0.9407973388139189,-1.2463834784309387,1.557031562545552],\"yaxis\":\"y2\",\"type\":\"scatter\"},{\"line\":{\"color\":\"rgba(128, 128, 128, 1.0)\",\"dash\":\"solid\",\"shape\":\"linear\",\"width\":1.3},\"marker\":{\"size\":2,\"symbol\":\"circle\"},\"mode\":\"markers\",\"name\":\"A\",\"text\":\"\",\"x\":[-0.3872323872369992,0.3129896931497061,0.549109784320413,0.24341866874423576,1.499529146175969,1.2787254198445286,0.09732899572249865,0.6786729923835082,0.3200378633283294,0.5394983246081207,1.9304686738992993,-0.1476528422065039,0.20730005663265114,-0.08292020894156982,-1.0332985315410432,0.2910227164489197,-0.6599861700596447,-1.5927522845823798,-0.06913975252968259,-0.5350268297035842,-0.08331731434480327,0.00951634077256817,-0.8740584241386143,-0.2450153374063535,-0.07959487862678238,1.6987821893488655,-0.33441987308935917,-0.5162053018290103,0.7867538063077528,-0.511729361567106,-0.3442187857712442,1.4539410232083054,1.3210571784341893,0.39479043190364904,-2.1444074764988144,-0.17579186871750874,0.9734103167653669,-1.5447888626969593,0.44118731033021363,0.27523186474757166,0.19584184595773688,2.1479956346168163,2.5676586672224286,0.4169684005852465,-0.7905053421090682,0.6059343090399911,1.1718702289760667,-1.4892935685267537,-0.9155580924696599,0.38024870280397105,-0.4477636807416802,0.09620063605372368,0.0746695266655892,-1.6872206649919161,0.7466670151316754,-0.299369659246122,-0.5538294760945928,-0.7433103932079366,-1.2464060855888113,-0.9325474584013793,-0.41615198461661734,-0.5832952182022414,-0.15074930142568585,0.47296418006624735,-0.9547052054771018,1.083298302216257,-1.4824096196587915,-1.122351602702573,0.9302847260988449,0.441320891411173,-0.2833388821399992,-1.2753864362984364,-1.1169841191601397,0.5972396627662147,-0.2491773777751275,-0.18988486380823916,0.8546215215474877,-0.38142398607241634,-1.0945065986319291,0.3142174694812054,-0.7462860924229974,0.29691771845913784,-2.5760037011011914,-0.5331102468132428,-1.1442208420210935,0.7410619807933482,0.16704743929932367,0.9173053003360592,-1.3378054378604043,1.2352164222516753,-2.260111480808333,1.6287248278642656,1.3524792127034155,-0.4904296405112925,-0.9892598998698315,1.6661723261514287,-0.5076306898533299,0.1644388963494178,-0.2723433733772562,0.5829871208447345],\"xaxis\":\"x3\",\"y\":[0.5743707795773935,0.7705130471123088,-1.1576336254777675,-0.8271035026452863,0.7425917665606087,-0.5394750578829458,0.5097192595359479,0.5432487081145778,-0.017946748455862877,0.19581581905947343,-1.437598250743915,2.218752439044428,1.3735761727944185,0.4110662686393877,-1.2762577922869192,1.052973143565982,1.4455702341590444,-0.3948389358880354,0.7885045139246953,-1.048373347634528,1.7428723409947369,0.5095898223142886,-0.40242338927638993,0.7895293899801388,-1.1684034943003128,-0.04221538280344773,0.008138638768228417,-0.4886444367606532,0.372696913991112,0.012203537415463457,1.3219400832950743,0.4426993414749163,0.6954759067905433,1.26173184725225,0.6031545937641348,0.8314386262457409,-1.9414446443208866,0.44729577583315866,-0.1519969814341827,1.4347967567547704,0.4231389277658858,-0.3464188794612597,-1.1560117204001936,-0.3371028319649269,0.9280885194745121,-0.33478270805751936,2.501829705680731,0.6545880808894924,-0.3253344899082747,1.0445833650807033,0.6378047610339664,-2.282408309947842,-0.9940910712619948,1.593352030366997,0.9796354322121585,-0.14555141905550475,1.938036037209001,0.4868173620202219,0.055745582967331925,0.8956207552321556,0.11210772463177247,-0.33800571080152314,-1.3960145152016388,2.1771435310890195,-0.21470397682343476,0.4522706930495062,0.9164948956794404,0.8686559643236597,-0.781959644239122,0.858071168774533,1.0682392817882957,-0.8544402572414872,-0.10900933498317333,-0.6310301425552112,-0.7648997140020927,1.150003153635081,1.0797631083191377,-0.45546653209706256,-0.04107528864510263,0.5455832227617043,-0.013623144913418072,0.8627690024800236,-0.444669171787977,-0.09778715447296922,-0.9840028543722682,-0.7197814724774163,0.5492328656564691,0.3865729478490786,0.9060294279206033,-0.4274656683036674,0.7060489877334019,-0.38594158839707665,0.5846720573475902,0.715150753017314,-0.5970239007455065,0.46585132559113374,-0.18843515452973725,0.9407973388139189,-1.2463834784309387,1.557031562545552],\"yaxis\":\"y3\",\"type\":\"scatter\"},{\"line\":{\"color\":\"rgba(128, 128, 128, 1.0)\",\"dash\":\"solid\",\"shape\":\"linear\",\"width\":1.3},\"marker\":{\"size\":2,\"symbol\":\"circle\"},\"mode\":\"markers\",\"name\":\"A\",\"text\":\"\",\"x\":[-0.4706922896364643,-0.6393288441504061,0.5575925212870825,-2.1202891520131826,0.7016609126653969,-0.06663561774881703,-0.4973374480135509,-0.590882958594366,2.184216868456072,0.33037161371952095,0.4777632094713535,0.3821948569152667,-1.603506970236447,0.03295152166286881,0.04081459510336229,-1.0542769144183797,0.25051753466921883,1.79220788387074,-2.1640254105521275,0.26545027744208516,-0.023472918994801143,-0.43244261016985147,0.3300305691019167,1.3612832617727721,0.23017392707992243,1.0116251964301215,0.19420287776944709,-1.5681994809354591,0.18423853340915497,-0.6173534845828159,-0.04976064378931739,-0.09499890498586602,0.5999663887957106,0.9470452192499397,0.48158232826549746,-0.975818121808824,1.1789804210928678,0.511991126185782,-0.6445127118571568,0.44639236607138577,-0.5119228999079636,0.3461769490638204,-0.28860962187000627,0.30880752893856117,0.8602920238557571,-1.1065956618682193,1.4281271716163646,1.7281195306020583,-2.070566261701333,-0.6463558608812114,-1.4424887324180486,2.0564826875760485,-0.08467260834805933,-0.8208555681228488,-0.7840923059289396,0.5463398928360392,-1.9147193931015167,-2.0965405121600296,0.8854654915221677,-0.7077143405284566,1.220740051229066,0.41684554242125865,0.4125617805707906,0.09547391990243034,-0.24230781619518113,-0.36889321022938737,0.01572106847202316,0.43561389700725806,0.11144186558321814,-0.6508334551545648,1.018199714126553,0.8714881246496483,-1.5536263117876437,2.235615408287663,0.12156182099911096,0.0745440501953923,1.3531429059771674,0.7934764526588117,2.5958981612081273,1.1486359575895522,-2.3844317905567403,-0.6650930734834832,0.05235770758444297,0.08514327670747696,1.249831995368982,-0.9450238390834802,-0.2639259615069109,-0.52369639655623,0.49020926089127365,0.34420441702195825,0.3041093733430783,0.22057571199250411,0.7505519778911802,-1.2174904593310871,1.056341055422691,1.2792360322150826,-0.5399025492546313,-0.13763862502097546,-2.0187290599712178,-1.9068308822417757],\"xaxis\":\"x4\",\"y\":[0.5743707795773935,0.7705130471123088,-1.1576336254777675,-0.8271035026452863,0.7425917665606087,-0.5394750578829458,0.5097192595359479,0.5432487081145778,-0.017946748455862877,0.19581581905947343,-1.437598250743915,2.218752439044428,1.3735761727944185,0.4110662686393877,-1.2762577922869192,1.052973143565982,1.4455702341590444,-0.3948389358880354,0.7885045139246953,-1.048373347634528,1.7428723409947369,0.5095898223142886,-0.40242338927638993,0.7895293899801388,-1.1684034943003128,-0.04221538280344773,0.008138638768228417,-0.4886444367606532,0.372696913991112,0.012203537415463457,1.3219400832950743,0.4426993414749163,0.6954759067905433,1.26173184725225,0.6031545937641348,0.8314386262457409,-1.9414446443208866,0.44729577583315866,-0.1519969814341827,1.4347967567547704,0.4231389277658858,-0.3464188794612597,-1.1560117204001936,-0.3371028319649269,0.9280885194745121,-0.33478270805751936,2.501829705680731,0.6545880808894924,-0.3253344899082747,1.0445833650807033,0.6378047610339664,-2.282408309947842,-0.9940910712619948,1.593352030366997,0.9796354322121585,-0.14555141905550475,1.938036037209001,0.4868173620202219,0.055745582967331925,0.8956207552321556,0.11210772463177247,-0.33800571080152314,-1.3960145152016388,2.1771435310890195,-0.21470397682343476,0.4522706930495062,0.9164948956794404,0.8686559643236597,-0.781959644239122,0.858071168774533,1.0682392817882957,-0.8544402572414872,-0.10900933498317333,-0.6310301425552112,-0.7648997140020927,1.150003153635081,1.0797631083191377,-0.45546653209706256,-0.04107528864510263,0.5455832227617043,-0.013623144913418072,0.8627690024800236,-0.444669171787977,-0.09778715447296922,-0.9840028543722682,-0.7197814724774163,0.5492328656564691,0.3865729478490786,0.9060294279206033,-0.4274656683036674,0.7060489877334019,-0.38594158839707665,0.5846720573475902,0.715150753017314,-0.5970239007455065,0.46585132559113374,-0.18843515452973725,0.9407973388139189,-1.2463834784309387,1.557031562545552],\"yaxis\":\"y4\",\"type\":\"scatter\"},{\"line\":{\"color\":\"rgba(128, 128, 128, 1.0)\",\"dash\":\"solid\",\"shape\":\"linear\",\"width\":1.3},\"marker\":{\"size\":2,\"symbol\":\"circle\"},\"mode\":\"markers\",\"name\":\"B\",\"text\":\"\",\"x\":[0.5743707795773935,0.7705130471123088,-1.1576336254777675,-0.8271035026452863,0.7425917665606087,-0.5394750578829458,0.5097192595359479,0.5432487081145778,-0.017946748455862877,0.19581581905947343,-1.437598250743915,2.218752439044428,1.3735761727944185,0.4110662686393877,-1.2762577922869192,1.052973143565982,1.4455702341590444,-0.3948389358880354,0.7885045139246953,-1.048373347634528,1.7428723409947369,0.5095898223142886,-0.40242338927638993,0.7895293899801388,-1.1684034943003128,-0.04221538280344773,0.008138638768228417,-0.4886444367606532,0.372696913991112,0.012203537415463457,1.3219400832950743,0.4426993414749163,0.6954759067905433,1.26173184725225,0.6031545937641348,0.8314386262457409,-1.9414446443208866,0.44729577583315866,-0.1519969814341827,1.4347967567547704,0.4231389277658858,-0.3464188794612597,-1.1560117204001936,-0.3371028319649269,0.9280885194745121,-0.33478270805751936,2.501829705680731,0.6545880808894924,-0.3253344899082747,1.0445833650807033,0.6378047610339664,-2.282408309947842,-0.9940910712619948,1.593352030366997,0.9796354322121585,-0.14555141905550475,1.938036037209001,0.4868173620202219,0.055745582967331925,0.8956207552321556,0.11210772463177247,-0.33800571080152314,-1.3960145152016388,2.1771435310890195,-0.21470397682343476,0.4522706930495062,0.9164948956794404,0.8686559643236597,-0.781959644239122,0.858071168774533,1.0682392817882957,-0.8544402572414872,-0.10900933498317333,-0.6310301425552112,-0.7648997140020927,1.150003153635081,1.0797631083191377,-0.45546653209706256,-0.04107528864510263,0.5455832227617043,-0.013623144913418072,0.8627690024800236,-0.444669171787977,-0.09778715447296922,-0.9840028543722682,-0.7197814724774163,0.5492328656564691,0.3865729478490786,0.9060294279206033,-0.4274656683036674,0.7060489877334019,-0.38594158839707665,0.5846720573475902,0.715150753017314,-0.5970239007455065,0.46585132559113374,-0.18843515452973725,0.9407973388139189,-1.2463834784309387,1.557031562545552],\"xaxis\":\"x5\",\"y\":[0.8016641080924541,1.0077391146377723,0.27651367544996946,-2.1570213570008927,-1.1235011021677124,0.17510373317808275,0.5739852492901831,0.08400858387755353,-1.7399189233318215,1.373956525773911,-0.6055411343301496,0.07895635184420437,1.9396245569934054,0.21052865131167792,0.8041135995879579,1.2067828700888212,-1.2391501426725224,-0.602365415491375,-1.2116734000900296,-0.5657984205463799,-0.30418317029567005,-1.3047874224393003,-1.9023818194008624,1.2952595792792636,0.10138680285600672,0.0223449098802518,0.25608582492185883,-0.8817831404171913,0.364858694437755,-1.1104434289726777,0.3175327732447648,0.4440791680629179,0.295798249153598,0.17144218397646702,-0.5670235515093524,1.5675401024850084,-0.3154757966663135,-0.9569793691086736,-0.08939617748473268,-1.4138336943563812,-0.715750128405275,0.26616513383692075,-0.7576063158477336,1.0044504867732704,-0.8528844132117523,-1.3137522421554162,-0.6297247932341066,0.6641310484582209,0.6842832590670178,-1.097732442511773,0.7695175485075942,-0.8004055106036331,-1.2334254972160166,-1.3461652044016847,-0.44328078003252724,0.12362524915851832,-0.703900374883289,1.5964916213576874,-0.7175995763374521,0.7303661705616081,1.6433808900162372,-0.6732022934593243,0.39075007107051796,0.7030593293505272,-0.36446992902141634,-0.8641351675878642,-0.8600094939920322,-0.7513060798787412,2.286811969914792,-0.46975880928066727,-1.5697616694093142,-0.2921380197460708,0.727262007763347,0.4960816199155096,0.30461017406051066,-0.44238754745680947,-0.019873063964267003,-0.9791775276148362,0.8333268577557206,-0.5577902793680444,-0.7902334272887995,-1.409128891545519,-0.49896367670798036,-1.098227923147296,-0.16852914853637593,0.37570018520333304,-2.161831239989233,-0.7378821662771905,-0.06571168846656328,0.47600300766597164,0.9217086796711035,-0.5276134738110552,0.19389281217411172,-0.1976527698633932,-1.7029397917737243,-0.18454993343459655,-0.30032143747151385,0.6226966256674825,-0.6119109736503978,-2.241247130842427],\"yaxis\":\"y5\",\"type\":\"scatter\"},{\"histfunc\":\"count\",\"histnorm\":\"\",\"marker\":{\"color\":\"rgba(55, 128, 191, 1.0)\",\"line\":{\"color\":\"#4D5663\",\"width\":1.3}},\"name\":\"B\",\"nbinsx\":10,\"opacity\":0.8,\"orientation\":\"v\",\"x\":[0.8016641080924541,1.0077391146377723,0.27651367544996946,-2.1570213570008927,-1.1235011021677124,0.17510373317808275,0.5739852492901831,0.08400858387755353,-1.7399189233318215,1.373956525773911,-0.6055411343301496,0.07895635184420437,1.9396245569934054,0.21052865131167792,0.8041135995879579,1.2067828700888212,-1.2391501426725224,-0.602365415491375,-1.2116734000900296,-0.5657984205463799,-0.30418317029567005,-1.3047874224393003,-1.9023818194008624,1.2952595792792636,0.10138680285600672,0.0223449098802518,0.25608582492185883,-0.8817831404171913,0.364858694437755,-1.1104434289726777,0.3175327732447648,0.4440791680629179,0.295798249153598,0.17144218397646702,-0.5670235515093524,1.5675401024850084,-0.3154757966663135,-0.9569793691086736,-0.08939617748473268,-1.4138336943563812,-0.715750128405275,0.26616513383692075,-0.7576063158477336,1.0044504867732704,-0.8528844132117523,-1.3137522421554162,-0.6297247932341066,0.6641310484582209,0.6842832590670178,-1.097732442511773,0.7695175485075942,-0.8004055106036331,-1.2334254972160166,-1.3461652044016847,-0.44328078003252724,0.12362524915851832,-0.703900374883289,1.5964916213576874,-0.7175995763374521,0.7303661705616081,1.6433808900162372,-0.6732022934593243,0.39075007107051796,0.7030593293505272,-0.36446992902141634,-0.8641351675878642,-0.8600094939920322,-0.7513060798787412,2.286811969914792,-0.46975880928066727,-1.5697616694093142,-0.2921380197460708,0.727262007763347,0.4960816199155096,0.30461017406051066,-0.44238754745680947,-0.019873063964267003,-0.9791775276148362,0.8333268577557206,-0.5577902793680444,-0.7902334272887995,-1.409128891545519,-0.49896367670798036,-1.098227923147296,-0.16852914853637593,0.37570018520333304,-2.161831239989233,-0.7378821662771905,-0.06571168846656328,0.47600300766597164,0.9217086796711035,-0.5276134738110552,0.19389281217411172,-0.1976527698633932,-1.7029397917737243,-0.18454993343459655,-0.30032143747151385,0.6226966256674825,-0.6119109736503978,-2.241247130842427],\"xaxis\":\"x6\",\"yaxis\":\"y6\",\"type\":\"histogram\"},{\"line\":{\"color\":\"rgba(128, 128, 128, 1.0)\",\"dash\":\"solid\",\"shape\":\"linear\",\"width\":1.3},\"marker\":{\"size\":2,\"symbol\":\"circle\"},\"mode\":\"markers\",\"name\":\"B\",\"text\":\"\",\"x\":[-0.3872323872369992,0.3129896931497061,0.549109784320413,0.24341866874423576,1.499529146175969,1.2787254198445286,0.09732899572249865,0.6786729923835082,0.3200378633283294,0.5394983246081207,1.9304686738992993,-0.1476528422065039,0.20730005663265114,-0.08292020894156982,-1.0332985315410432,0.2910227164489197,-0.6599861700596447,-1.5927522845823798,-0.06913975252968259,-0.5350268297035842,-0.08331731434480327,0.00951634077256817,-0.8740584241386143,-0.2450153374063535,-0.07959487862678238,1.6987821893488655,-0.33441987308935917,-0.5162053018290103,0.7867538063077528,-0.511729361567106,-0.3442187857712442,1.4539410232083054,1.3210571784341893,0.39479043190364904,-2.1444074764988144,-0.17579186871750874,0.9734103167653669,-1.5447888626969593,0.44118731033021363,0.27523186474757166,0.19584184595773688,2.1479956346168163,2.5676586672224286,0.4169684005852465,-0.7905053421090682,0.6059343090399911,1.1718702289760667,-1.4892935685267537,-0.9155580924696599,0.38024870280397105,-0.4477636807416802,0.09620063605372368,0.0746695266655892,-1.6872206649919161,0.7466670151316754,-0.299369659246122,-0.5538294760945928,-0.7433103932079366,-1.2464060855888113,-0.9325474584013793,-0.41615198461661734,-0.5832952182022414,-0.15074930142568585,0.47296418006624735,-0.9547052054771018,1.083298302216257,-1.4824096196587915,-1.122351602702573,0.9302847260988449,0.441320891411173,-0.2833388821399992,-1.2753864362984364,-1.1169841191601397,0.5972396627662147,-0.2491773777751275,-0.18988486380823916,0.8546215215474877,-0.38142398607241634,-1.0945065986319291,0.3142174694812054,-0.7462860924229974,0.29691771845913784,-2.5760037011011914,-0.5331102468132428,-1.1442208420210935,0.7410619807933482,0.16704743929932367,0.9173053003360592,-1.3378054378604043,1.2352164222516753,-2.260111480808333,1.6287248278642656,1.3524792127034155,-0.4904296405112925,-0.9892598998698315,1.6661723261514287,-0.5076306898533299,0.1644388963494178,-0.2723433733772562,0.5829871208447345],\"xaxis\":\"x7\",\"y\":[0.8016641080924541,1.0077391146377723,0.27651367544996946,-2.1570213570008927,-1.1235011021677124,0.17510373317808275,0.5739852492901831,0.08400858387755353,-1.7399189233318215,1.373956525773911,-0.6055411343301496,0.07895635184420437,1.9396245569934054,0.21052865131167792,0.8041135995879579,1.2067828700888212,-1.2391501426725224,-0.602365415491375,-1.2116734000900296,-0.5657984205463799,-0.30418317029567005,-1.3047874224393003,-1.9023818194008624,1.2952595792792636,0.10138680285600672,0.0223449098802518,0.25608582492185883,-0.8817831404171913,0.364858694437755,-1.1104434289726777,0.3175327732447648,0.4440791680629179,0.295798249153598,0.17144218397646702,-0.5670235515093524,1.5675401024850084,-0.3154757966663135,-0.9569793691086736,-0.08939617748473268,-1.4138336943563812,-0.715750128405275,0.26616513383692075,-0.7576063158477336,1.0044504867732704,-0.8528844132117523,-1.3137522421554162,-0.6297247932341066,0.6641310484582209,0.6842832590670178,-1.097732442511773,0.7695175485075942,-0.8004055106036331,-1.2334254972160166,-1.3461652044016847,-0.44328078003252724,0.12362524915851832,-0.703900374883289,1.5964916213576874,-0.7175995763374521,0.7303661705616081,1.6433808900162372,-0.6732022934593243,0.39075007107051796,0.7030593293505272,-0.36446992902141634,-0.8641351675878642,-0.8600094939920322,-0.7513060798787412,2.286811969914792,-0.46975880928066727,-1.5697616694093142,-0.2921380197460708,0.727262007763347,0.4960816199155096,0.30461017406051066,-0.44238754745680947,-0.019873063964267003,-0.9791775276148362,0.8333268577557206,-0.5577902793680444,-0.7902334272887995,-1.409128891545519,-0.49896367670798036,-1.098227923147296,-0.16852914853637593,0.37570018520333304,-2.161831239989233,-0.7378821662771905,-0.06571168846656328,0.47600300766597164,0.9217086796711035,-0.5276134738110552,0.19389281217411172,-0.1976527698633932,-1.7029397917737243,-0.18454993343459655,-0.30032143747151385,0.6226966256674825,-0.6119109736503978,-2.241247130842427],\"yaxis\":\"y7\",\"type\":\"scatter\"},{\"line\":{\"color\":\"rgba(128, 128, 128, 1.0)\",\"dash\":\"solid\",\"shape\":\"linear\",\"width\":1.3},\"marker\":{\"size\":2,\"symbol\":\"circle\"},\"mode\":\"markers\",\"name\":\"B\",\"text\":\"\",\"x\":[-0.4706922896364643,-0.6393288441504061,0.5575925212870825,-2.1202891520131826,0.7016609126653969,-0.06663561774881703,-0.4973374480135509,-0.590882958594366,2.184216868456072,0.33037161371952095,0.4777632094713535,0.3821948569152667,-1.603506970236447,0.03295152166286881,0.04081459510336229,-1.0542769144183797,0.25051753466921883,1.79220788387074,-2.1640254105521275,0.26545027744208516,-0.023472918994801143,-0.43244261016985147,0.3300305691019167,1.3612832617727721,0.23017392707992243,1.0116251964301215,0.19420287776944709,-1.5681994809354591,0.18423853340915497,-0.6173534845828159,-0.04976064378931739,-0.09499890498586602,0.5999663887957106,0.9470452192499397,0.48158232826549746,-0.975818121808824,1.1789804210928678,0.511991126185782,-0.6445127118571568,0.44639236607138577,-0.5119228999079636,0.3461769490638204,-0.28860962187000627,0.30880752893856117,0.8602920238557571,-1.1065956618682193,1.4281271716163646,1.7281195306020583,-2.070566261701333,-0.6463558608812114,-1.4424887324180486,2.0564826875760485,-0.08467260834805933,-0.8208555681228488,-0.7840923059289396,0.5463398928360392,-1.9147193931015167,-2.0965405121600296,0.8854654915221677,-0.7077143405284566,1.220740051229066,0.41684554242125865,0.4125617805707906,0.09547391990243034,-0.24230781619518113,-0.36889321022938737,0.01572106847202316,0.43561389700725806,0.11144186558321814,-0.6508334551545648,1.018199714126553,0.8714881246496483,-1.5536263117876437,2.235615408287663,0.12156182099911096,0.0745440501953923,1.3531429059771674,0.7934764526588117,2.5958981612081273,1.1486359575895522,-2.3844317905567403,-0.6650930734834832,0.05235770758444297,0.08514327670747696,1.249831995368982,-0.9450238390834802,-0.2639259615069109,-0.52369639655623,0.49020926089127365,0.34420441702195825,0.3041093733430783,0.22057571199250411,0.7505519778911802,-1.2174904593310871,1.056341055422691,1.2792360322150826,-0.5399025492546313,-0.13763862502097546,-2.0187290599712178,-1.9068308822417757],\"xaxis\":\"x8\",\"y\":[0.8016641080924541,1.0077391146377723,0.27651367544996946,-2.1570213570008927,-1.1235011021677124,0.17510373317808275,0.5739852492901831,0.08400858387755353,-1.7399189233318215,1.373956525773911,-0.6055411343301496,0.07895635184420437,1.9396245569934054,0.21052865131167792,0.8041135995879579,1.2067828700888212,-1.2391501426725224,-0.602365415491375,-1.2116734000900296,-0.5657984205463799,-0.30418317029567005,-1.3047874224393003,-1.9023818194008624,1.2952595792792636,0.10138680285600672,0.0223449098802518,0.25608582492185883,-0.8817831404171913,0.364858694437755,-1.1104434289726777,0.3175327732447648,0.4440791680629179,0.295798249153598,0.17144218397646702,-0.5670235515093524,1.5675401024850084,-0.3154757966663135,-0.9569793691086736,-0.08939617748473268,-1.4138336943563812,-0.715750128405275,0.26616513383692075,-0.7576063158477336,1.0044504867732704,-0.8528844132117523,-1.3137522421554162,-0.6297247932341066,0.6641310484582209,0.6842832590670178,-1.097732442511773,0.7695175485075942,-0.8004055106036331,-1.2334254972160166,-1.3461652044016847,-0.44328078003252724,0.12362524915851832,-0.703900374883289,1.5964916213576874,-0.7175995763374521,0.7303661705616081,1.6433808900162372,-0.6732022934593243,0.39075007107051796,0.7030593293505272,-0.36446992902141634,-0.8641351675878642,-0.8600094939920322,-0.7513060798787412,2.286811969914792,-0.46975880928066727,-1.5697616694093142,-0.2921380197460708,0.727262007763347,0.4960816199155096,0.30461017406051066,-0.44238754745680947,-0.019873063964267003,-0.9791775276148362,0.8333268577557206,-0.5577902793680444,-0.7902334272887995,-1.409128891545519,-0.49896367670798036,-1.098227923147296,-0.16852914853637593,0.37570018520333304,-2.161831239989233,-0.7378821662771905,-0.06571168846656328,0.47600300766597164,0.9217086796711035,-0.5276134738110552,0.19389281217411172,-0.1976527698633932,-1.7029397917737243,-0.18454993343459655,-0.30032143747151385,0.6226966256674825,-0.6119109736503978,-2.241247130842427],\"yaxis\":\"y8\",\"type\":\"scatter\"},{\"line\":{\"color\":\"rgba(128, 128, 128, 1.0)\",\"dash\":\"solid\",\"shape\":\"linear\",\"width\":1.3},\"marker\":{\"size\":2,\"symbol\":\"circle\"},\"mode\":\"markers\",\"name\":\"C\",\"text\":\"\",\"x\":[0.5743707795773935,0.7705130471123088,-1.1576336254777675,-0.8271035026452863,0.7425917665606087,-0.5394750578829458,0.5097192595359479,0.5432487081145778,-0.017946748455862877,0.19581581905947343,-1.437598250743915,2.218752439044428,1.3735761727944185,0.4110662686393877,-1.2762577922869192,1.052973143565982,1.4455702341590444,-0.3948389358880354,0.7885045139246953,-1.048373347634528,1.7428723409947369,0.5095898223142886,-0.40242338927638993,0.7895293899801388,-1.1684034943003128,-0.04221538280344773,0.008138638768228417,-0.4886444367606532,0.372696913991112,0.012203537415463457,1.3219400832950743,0.4426993414749163,0.6954759067905433,1.26173184725225,0.6031545937641348,0.8314386262457409,-1.9414446443208866,0.44729577583315866,-0.1519969814341827,1.4347967567547704,0.4231389277658858,-0.3464188794612597,-1.1560117204001936,-0.3371028319649269,0.9280885194745121,-0.33478270805751936,2.501829705680731,0.6545880808894924,-0.3253344899082747,1.0445833650807033,0.6378047610339664,-2.282408309947842,-0.9940910712619948,1.593352030366997,0.9796354322121585,-0.14555141905550475,1.938036037209001,0.4868173620202219,0.055745582967331925,0.8956207552321556,0.11210772463177247,-0.33800571080152314,-1.3960145152016388,2.1771435310890195,-0.21470397682343476,0.4522706930495062,0.9164948956794404,0.8686559643236597,-0.781959644239122,0.858071168774533,1.0682392817882957,-0.8544402572414872,-0.10900933498317333,-0.6310301425552112,-0.7648997140020927,1.150003153635081,1.0797631083191377,-0.45546653209706256,-0.04107528864510263,0.5455832227617043,-0.013623144913418072,0.8627690024800236,-0.444669171787977,-0.09778715447296922,-0.9840028543722682,-0.7197814724774163,0.5492328656564691,0.3865729478490786,0.9060294279206033,-0.4274656683036674,0.7060489877334019,-0.38594158839707665,0.5846720573475902,0.715150753017314,-0.5970239007455065,0.46585132559113374,-0.18843515452973725,0.9407973388139189,-1.2463834784309387,1.557031562545552],\"xaxis\":\"x9\",\"y\":[-0.3872323872369992,0.3129896931497061,0.549109784320413,0.24341866874423576,1.499529146175969,1.2787254198445286,0.09732899572249865,0.6786729923835082,0.3200378633283294,0.5394983246081207,1.9304686738992993,-0.1476528422065039,0.20730005663265114,-0.08292020894156982,-1.0332985315410432,0.2910227164489197,-0.6599861700596447,-1.5927522845823798,-0.06913975252968259,-0.5350268297035842,-0.08331731434480327,0.00951634077256817,-0.8740584241386143,-0.2450153374063535,-0.07959487862678238,1.6987821893488655,-0.33441987308935917,-0.5162053018290103,0.7867538063077528,-0.511729361567106,-0.3442187857712442,1.4539410232083054,1.3210571784341893,0.39479043190364904,-2.1444074764988144,-0.17579186871750874,0.9734103167653669,-1.5447888626969593,0.44118731033021363,0.27523186474757166,0.19584184595773688,2.1479956346168163,2.5676586672224286,0.4169684005852465,-0.7905053421090682,0.6059343090399911,1.1718702289760667,-1.4892935685267537,-0.9155580924696599,0.38024870280397105,-0.4477636807416802,0.09620063605372368,0.0746695266655892,-1.6872206649919161,0.7466670151316754,-0.299369659246122,-0.5538294760945928,-0.7433103932079366,-1.2464060855888113,-0.9325474584013793,-0.41615198461661734,-0.5832952182022414,-0.15074930142568585,0.47296418006624735,-0.9547052054771018,1.083298302216257,-1.4824096196587915,-1.122351602702573,0.9302847260988449,0.441320891411173,-0.2833388821399992,-1.2753864362984364,-1.1169841191601397,0.5972396627662147,-0.2491773777751275,-0.18988486380823916,0.8546215215474877,-0.38142398607241634,-1.0945065986319291,0.3142174694812054,-0.7462860924229974,0.29691771845913784,-2.5760037011011914,-0.5331102468132428,-1.1442208420210935,0.7410619807933482,0.16704743929932367,0.9173053003360592,-1.3378054378604043,1.2352164222516753,-2.260111480808333,1.6287248278642656,1.3524792127034155,-0.4904296405112925,-0.9892598998698315,1.6661723261514287,-0.5076306898533299,0.1644388963494178,-0.2723433733772562,0.5829871208447345],\"yaxis\":\"y9\",\"type\":\"scatter\"},{\"line\":{\"color\":\"rgba(128, 128, 128, 1.0)\",\"dash\":\"solid\",\"shape\":\"linear\",\"width\":1.3},\"marker\":{\"size\":2,\"symbol\":\"circle\"},\"mode\":\"markers\",\"name\":\"C\",\"text\":\"\",\"x\":[0.8016641080924541,1.0077391146377723,0.27651367544996946,-2.1570213570008927,-1.1235011021677124,0.17510373317808275,0.5739852492901831,0.08400858387755353,-1.7399189233318215,1.373956525773911,-0.6055411343301496,0.07895635184420437,1.9396245569934054,0.21052865131167792,0.8041135995879579,1.2067828700888212,-1.2391501426725224,-0.602365415491375,-1.2116734000900296,-0.5657984205463799,-0.30418317029567005,-1.3047874224393003,-1.9023818194008624,1.2952595792792636,0.10138680285600672,0.0223449098802518,0.25608582492185883,-0.8817831404171913,0.364858694437755,-1.1104434289726777,0.3175327732447648,0.4440791680629179,0.295798249153598,0.17144218397646702,-0.5670235515093524,1.5675401024850084,-0.3154757966663135,-0.9569793691086736,-0.08939617748473268,-1.4138336943563812,-0.715750128405275,0.26616513383692075,-0.7576063158477336,1.0044504867732704,-0.8528844132117523,-1.3137522421554162,-0.6297247932341066,0.6641310484582209,0.6842832590670178,-1.097732442511773,0.7695175485075942,-0.8004055106036331,-1.2334254972160166,-1.3461652044016847,-0.44328078003252724,0.12362524915851832,-0.703900374883289,1.5964916213576874,-0.7175995763374521,0.7303661705616081,1.6433808900162372,-0.6732022934593243,0.39075007107051796,0.7030593293505272,-0.36446992902141634,-0.8641351675878642,-0.8600094939920322,-0.7513060798787412,2.286811969914792,-0.46975880928066727,-1.5697616694093142,-0.2921380197460708,0.727262007763347,0.4960816199155096,0.30461017406051066,-0.44238754745680947,-0.019873063964267003,-0.9791775276148362,0.8333268577557206,-0.5577902793680444,-0.7902334272887995,-1.409128891545519,-0.49896367670798036,-1.098227923147296,-0.16852914853637593,0.37570018520333304,-2.161831239989233,-0.7378821662771905,-0.06571168846656328,0.47600300766597164,0.9217086796711035,-0.5276134738110552,0.19389281217411172,-0.1976527698633932,-1.7029397917737243,-0.18454993343459655,-0.30032143747151385,0.6226966256674825,-0.6119109736503978,-2.241247130842427],\"xaxis\":\"x10\",\"y\":[-0.3872323872369992,0.3129896931497061,0.549109784320413,0.24341866874423576,1.499529146175969,1.2787254198445286,0.09732899572249865,0.6786729923835082,0.3200378633283294,0.5394983246081207,1.9304686738992993,-0.1476528422065039,0.20730005663265114,-0.08292020894156982,-1.0332985315410432,0.2910227164489197,-0.6599861700596447,-1.5927522845823798,-0.06913975252968259,-0.5350268297035842,-0.08331731434480327,0.00951634077256817,-0.8740584241386143,-0.2450153374063535,-0.07959487862678238,1.6987821893488655,-0.33441987308935917,-0.5162053018290103,0.7867538063077528,-0.511729361567106,-0.3442187857712442,1.4539410232083054,1.3210571784341893,0.39479043190364904,-2.1444074764988144,-0.17579186871750874,0.9734103167653669,-1.5447888626969593,0.44118731033021363,0.27523186474757166,0.19584184595773688,2.1479956346168163,2.5676586672224286,0.4169684005852465,-0.7905053421090682,0.6059343090399911,1.1718702289760667,-1.4892935685267537,-0.9155580924696599,0.38024870280397105,-0.4477636807416802,0.09620063605372368,0.0746695266655892,-1.6872206649919161,0.7466670151316754,-0.299369659246122,-0.5538294760945928,-0.7433103932079366,-1.2464060855888113,-0.9325474584013793,-0.41615198461661734,-0.5832952182022414,-0.15074930142568585,0.47296418006624735,-0.9547052054771018,1.083298302216257,-1.4824096196587915,-1.122351602702573,0.9302847260988449,0.441320891411173,-0.2833388821399992,-1.2753864362984364,-1.1169841191601397,0.5972396627662147,-0.2491773777751275,-0.18988486380823916,0.8546215215474877,-0.38142398607241634,-1.0945065986319291,0.3142174694812054,-0.7462860924229974,0.29691771845913784,-2.5760037011011914,-0.5331102468132428,-1.1442208420210935,0.7410619807933482,0.16704743929932367,0.9173053003360592,-1.3378054378604043,1.2352164222516753,-2.260111480808333,1.6287248278642656,1.3524792127034155,-0.4904296405112925,-0.9892598998698315,1.6661723261514287,-0.5076306898533299,0.1644388963494178,-0.2723433733772562,0.5829871208447345],\"yaxis\":\"y10\",\"type\":\"scatter\"},{\"histfunc\":\"count\",\"histnorm\":\"\",\"marker\":{\"color\":\"rgba(50, 171, 96, 1.0)\",\"line\":{\"color\":\"#4D5663\",\"width\":1.3}},\"name\":\"C\",\"nbinsx\":10,\"opacity\":0.8,\"orientation\":\"v\",\"x\":[-0.3872323872369992,0.3129896931497061,0.549109784320413,0.24341866874423576,1.499529146175969,1.2787254198445286,0.09732899572249865,0.6786729923835082,0.3200378633283294,0.5394983246081207,1.9304686738992993,-0.1476528422065039,0.20730005663265114,-0.08292020894156982,-1.0332985315410432,0.2910227164489197,-0.6599861700596447,-1.5927522845823798,-0.06913975252968259,-0.5350268297035842,-0.08331731434480327,0.00951634077256817,-0.8740584241386143,-0.2450153374063535,-0.07959487862678238,1.6987821893488655,-0.33441987308935917,-0.5162053018290103,0.7867538063077528,-0.511729361567106,-0.3442187857712442,1.4539410232083054,1.3210571784341893,0.39479043190364904,-2.1444074764988144,-0.17579186871750874,0.9734103167653669,-1.5447888626969593,0.44118731033021363,0.27523186474757166,0.19584184595773688,2.1479956346168163,2.5676586672224286,0.4169684005852465,-0.7905053421090682,0.6059343090399911,1.1718702289760667,-1.4892935685267537,-0.9155580924696599,0.38024870280397105,-0.4477636807416802,0.09620063605372368,0.0746695266655892,-1.6872206649919161,0.7466670151316754,-0.299369659246122,-0.5538294760945928,-0.7433103932079366,-1.2464060855888113,-0.9325474584013793,-0.41615198461661734,-0.5832952182022414,-0.15074930142568585,0.47296418006624735,-0.9547052054771018,1.083298302216257,-1.4824096196587915,-1.122351602702573,0.9302847260988449,0.441320891411173,-0.2833388821399992,-1.2753864362984364,-1.1169841191601397,0.5972396627662147,-0.2491773777751275,-0.18988486380823916,0.8546215215474877,-0.38142398607241634,-1.0945065986319291,0.3142174694812054,-0.7462860924229974,0.29691771845913784,-2.5760037011011914,-0.5331102468132428,-1.1442208420210935,0.7410619807933482,0.16704743929932367,0.9173053003360592,-1.3378054378604043,1.2352164222516753,-2.260111480808333,1.6287248278642656,1.3524792127034155,-0.4904296405112925,-0.9892598998698315,1.6661723261514287,-0.5076306898533299,0.1644388963494178,-0.2723433733772562,0.5829871208447345],\"xaxis\":\"x11\",\"yaxis\":\"y11\",\"type\":\"histogram\"},{\"line\":{\"color\":\"rgba(128, 128, 128, 1.0)\",\"dash\":\"solid\",\"shape\":\"linear\",\"width\":1.3},\"marker\":{\"size\":2,\"symbol\":\"circle\"},\"mode\":\"markers\",\"name\":\"C\",\"text\":\"\",\"x\":[-0.4706922896364643,-0.6393288441504061,0.5575925212870825,-2.1202891520131826,0.7016609126653969,-0.06663561774881703,-0.4973374480135509,-0.590882958594366,2.184216868456072,0.33037161371952095,0.4777632094713535,0.3821948569152667,-1.603506970236447,0.03295152166286881,0.04081459510336229,-1.0542769144183797,0.25051753466921883,1.79220788387074,-2.1640254105521275,0.26545027744208516,-0.023472918994801143,-0.43244261016985147,0.3300305691019167,1.3612832617727721,0.23017392707992243,1.0116251964301215,0.19420287776944709,-1.5681994809354591,0.18423853340915497,-0.6173534845828159,-0.04976064378931739,-0.09499890498586602,0.5999663887957106,0.9470452192499397,0.48158232826549746,-0.975818121808824,1.1789804210928678,0.511991126185782,-0.6445127118571568,0.44639236607138577,-0.5119228999079636,0.3461769490638204,-0.28860962187000627,0.30880752893856117,0.8602920238557571,-1.1065956618682193,1.4281271716163646,1.7281195306020583,-2.070566261701333,-0.6463558608812114,-1.4424887324180486,2.0564826875760485,-0.08467260834805933,-0.8208555681228488,-0.7840923059289396,0.5463398928360392,-1.9147193931015167,-2.0965405121600296,0.8854654915221677,-0.7077143405284566,1.220740051229066,0.41684554242125865,0.4125617805707906,0.09547391990243034,-0.24230781619518113,-0.36889321022938737,0.01572106847202316,0.43561389700725806,0.11144186558321814,-0.6508334551545648,1.018199714126553,0.8714881246496483,-1.5536263117876437,2.235615408287663,0.12156182099911096,0.0745440501953923,1.3531429059771674,0.7934764526588117,2.5958981612081273,1.1486359575895522,-2.3844317905567403,-0.6650930734834832,0.05235770758444297,0.08514327670747696,1.249831995368982,-0.9450238390834802,-0.2639259615069109,-0.52369639655623,0.49020926089127365,0.34420441702195825,0.3041093733430783,0.22057571199250411,0.7505519778911802,-1.2174904593310871,1.056341055422691,1.2792360322150826,-0.5399025492546313,-0.13763862502097546,-2.0187290599712178,-1.9068308822417757],\"xaxis\":\"x12\",\"y\":[-0.3872323872369992,0.3129896931497061,0.549109784320413,0.24341866874423576,1.499529146175969,1.2787254198445286,0.09732899572249865,0.6786729923835082,0.3200378633283294,0.5394983246081207,1.9304686738992993,-0.1476528422065039,0.20730005663265114,-0.08292020894156982,-1.0332985315410432,0.2910227164489197,-0.6599861700596447,-1.5927522845823798,-0.06913975252968259,-0.5350268297035842,-0.08331731434480327,0.00951634077256817,-0.8740584241386143,-0.2450153374063535,-0.07959487862678238,1.6987821893488655,-0.33441987308935917,-0.5162053018290103,0.7867538063077528,-0.511729361567106,-0.3442187857712442,1.4539410232083054,1.3210571784341893,0.39479043190364904,-2.1444074764988144,-0.17579186871750874,0.9734103167653669,-1.5447888626969593,0.44118731033021363,0.27523186474757166,0.19584184595773688,2.1479956346168163,2.5676586672224286,0.4169684005852465,-0.7905053421090682,0.6059343090399911,1.1718702289760667,-1.4892935685267537,-0.9155580924696599,0.38024870280397105,-0.4477636807416802,0.09620063605372368,0.0746695266655892,-1.6872206649919161,0.7466670151316754,-0.299369659246122,-0.5538294760945928,-0.7433103932079366,-1.2464060855888113,-0.9325474584013793,-0.41615198461661734,-0.5832952182022414,-0.15074930142568585,0.47296418006624735,-0.9547052054771018,1.083298302216257,-1.4824096196587915,-1.122351602702573,0.9302847260988449,0.441320891411173,-0.2833388821399992,-1.2753864362984364,-1.1169841191601397,0.5972396627662147,-0.2491773777751275,-0.18988486380823916,0.8546215215474877,-0.38142398607241634,-1.0945065986319291,0.3142174694812054,-0.7462860924229974,0.29691771845913784,-2.5760037011011914,-0.5331102468132428,-1.1442208420210935,0.7410619807933482,0.16704743929932367,0.9173053003360592,-1.3378054378604043,1.2352164222516753,-2.260111480808333,1.6287248278642656,1.3524792127034155,-0.4904296405112925,-0.9892598998698315,1.6661723261514287,-0.5076306898533299,0.1644388963494178,-0.2723433733772562,0.5829871208447345],\"yaxis\":\"y12\",\"type\":\"scatter\"},{\"line\":{\"color\":\"rgba(128, 128, 128, 1.0)\",\"dash\":\"solid\",\"shape\":\"linear\",\"width\":1.3},\"marker\":{\"size\":2,\"symbol\":\"circle\"},\"mode\":\"markers\",\"name\":\"D\",\"text\":\"\",\"x\":[0.5743707795773935,0.7705130471123088,-1.1576336254777675,-0.8271035026452863,0.7425917665606087,-0.5394750578829458,0.5097192595359479,0.5432487081145778,-0.017946748455862877,0.19581581905947343,-1.437598250743915,2.218752439044428,1.3735761727944185,0.4110662686393877,-1.2762577922869192,1.052973143565982,1.4455702341590444,-0.3948389358880354,0.7885045139246953,-1.048373347634528,1.7428723409947369,0.5095898223142886,-0.40242338927638993,0.7895293899801388,-1.1684034943003128,-0.04221538280344773,0.008138638768228417,-0.4886444367606532,0.372696913991112,0.012203537415463457,1.3219400832950743,0.4426993414749163,0.6954759067905433,1.26173184725225,0.6031545937641348,0.8314386262457409,-1.9414446443208866,0.44729577583315866,-0.1519969814341827,1.4347967567547704,0.4231389277658858,-0.3464188794612597,-1.1560117204001936,-0.3371028319649269,0.9280885194745121,-0.33478270805751936,2.501829705680731,0.6545880808894924,-0.3253344899082747,1.0445833650807033,0.6378047610339664,-2.282408309947842,-0.9940910712619948,1.593352030366997,0.9796354322121585,-0.14555141905550475,1.938036037209001,0.4868173620202219,0.055745582967331925,0.8956207552321556,0.11210772463177247,-0.33800571080152314,-1.3960145152016388,2.1771435310890195,-0.21470397682343476,0.4522706930495062,0.9164948956794404,0.8686559643236597,-0.781959644239122,0.858071168774533,1.0682392817882957,-0.8544402572414872,-0.10900933498317333,-0.6310301425552112,-0.7648997140020927,1.150003153635081,1.0797631083191377,-0.45546653209706256,-0.04107528864510263,0.5455832227617043,-0.013623144913418072,0.8627690024800236,-0.444669171787977,-0.09778715447296922,-0.9840028543722682,-0.7197814724774163,0.5492328656564691,0.3865729478490786,0.9060294279206033,-0.4274656683036674,0.7060489877334019,-0.38594158839707665,0.5846720573475902,0.715150753017314,-0.5970239007455065,0.46585132559113374,-0.18843515452973725,0.9407973388139189,-1.2463834784309387,1.557031562545552],\"xaxis\":\"x13\",\"y\":[-0.4706922896364643,-0.6393288441504061,0.5575925212870825,-2.1202891520131826,0.7016609126653969,-0.06663561774881703,-0.4973374480135509,-0.590882958594366,2.184216868456072,0.33037161371952095,0.4777632094713535,0.3821948569152667,-1.603506970236447,0.03295152166286881,0.04081459510336229,-1.0542769144183797,0.25051753466921883,1.79220788387074,-2.1640254105521275,0.26545027744208516,-0.023472918994801143,-0.43244261016985147,0.3300305691019167,1.3612832617727721,0.23017392707992243,1.0116251964301215,0.19420287776944709,-1.5681994809354591,0.18423853340915497,-0.6173534845828159,-0.04976064378931739,-0.09499890498586602,0.5999663887957106,0.9470452192499397,0.48158232826549746,-0.975818121808824,1.1789804210928678,0.511991126185782,-0.6445127118571568,0.44639236607138577,-0.5119228999079636,0.3461769490638204,-0.28860962187000627,0.30880752893856117,0.8602920238557571,-1.1065956618682193,1.4281271716163646,1.7281195306020583,-2.070566261701333,-0.6463558608812114,-1.4424887324180486,2.0564826875760485,-0.08467260834805933,-0.8208555681228488,-0.7840923059289396,0.5463398928360392,-1.9147193931015167,-2.0965405121600296,0.8854654915221677,-0.7077143405284566,1.220740051229066,0.41684554242125865,0.4125617805707906,0.09547391990243034,-0.24230781619518113,-0.36889321022938737,0.01572106847202316,0.43561389700725806,0.11144186558321814,-0.6508334551545648,1.018199714126553,0.8714881246496483,-1.5536263117876437,2.235615408287663,0.12156182099911096,0.0745440501953923,1.3531429059771674,0.7934764526588117,2.5958981612081273,1.1486359575895522,-2.3844317905567403,-0.6650930734834832,0.05235770758444297,0.08514327670747696,1.249831995368982,-0.9450238390834802,-0.2639259615069109,-0.52369639655623,0.49020926089127365,0.34420441702195825,0.3041093733430783,0.22057571199250411,0.7505519778911802,-1.2174904593310871,1.056341055422691,1.2792360322150826,-0.5399025492546313,-0.13763862502097546,-2.0187290599712178,-1.9068308822417757],\"yaxis\":\"y13\",\"type\":\"scatter\"},{\"line\":{\"color\":\"rgba(128, 128, 128, 1.0)\",\"dash\":\"solid\",\"shape\":\"linear\",\"width\":1.3},\"marker\":{\"size\":2,\"symbol\":\"circle\"},\"mode\":\"markers\",\"name\":\"D\",\"text\":\"\",\"x\":[0.8016641080924541,1.0077391146377723,0.27651367544996946,-2.1570213570008927,-1.1235011021677124,0.17510373317808275,0.5739852492901831,0.08400858387755353,-1.7399189233318215,1.373956525773911,-0.6055411343301496,0.07895635184420437,1.9396245569934054,0.21052865131167792,0.8041135995879579,1.2067828700888212,-1.2391501426725224,-0.602365415491375,-1.2116734000900296,-0.5657984205463799,-0.30418317029567005,-1.3047874224393003,-1.9023818194008624,1.2952595792792636,0.10138680285600672,0.0223449098802518,0.25608582492185883,-0.8817831404171913,0.364858694437755,-1.1104434289726777,0.3175327732447648,0.4440791680629179,0.295798249153598,0.17144218397646702,-0.5670235515093524,1.5675401024850084,-0.3154757966663135,-0.9569793691086736,-0.08939617748473268,-1.4138336943563812,-0.715750128405275,0.26616513383692075,-0.7576063158477336,1.0044504867732704,-0.8528844132117523,-1.3137522421554162,-0.6297247932341066,0.6641310484582209,0.6842832590670178,-1.097732442511773,0.7695175485075942,-0.8004055106036331,-1.2334254972160166,-1.3461652044016847,-0.44328078003252724,0.12362524915851832,-0.703900374883289,1.5964916213576874,-0.7175995763374521,0.7303661705616081,1.6433808900162372,-0.6732022934593243,0.39075007107051796,0.7030593293505272,-0.36446992902141634,-0.8641351675878642,-0.8600094939920322,-0.7513060798787412,2.286811969914792,-0.46975880928066727,-1.5697616694093142,-0.2921380197460708,0.727262007763347,0.4960816199155096,0.30461017406051066,-0.44238754745680947,-0.019873063964267003,-0.9791775276148362,0.8333268577557206,-0.5577902793680444,-0.7902334272887995,-1.409128891545519,-0.49896367670798036,-1.098227923147296,-0.16852914853637593,0.37570018520333304,-2.161831239989233,-0.7378821662771905,-0.06571168846656328,0.47600300766597164,0.9217086796711035,-0.5276134738110552,0.19389281217411172,-0.1976527698633932,-1.7029397917737243,-0.18454993343459655,-0.30032143747151385,0.6226966256674825,-0.6119109736503978,-2.241247130842427],\"xaxis\":\"x14\",\"y\":[-0.4706922896364643,-0.6393288441504061,0.5575925212870825,-2.1202891520131826,0.7016609126653969,-0.06663561774881703,-0.4973374480135509,-0.590882958594366,2.184216868456072,0.33037161371952095,0.4777632094713535,0.3821948569152667,-1.603506970236447,0.03295152166286881,0.04081459510336229,-1.0542769144183797,0.25051753466921883,1.79220788387074,-2.1640254105521275,0.26545027744208516,-0.023472918994801143,-0.43244261016985147,0.3300305691019167,1.3612832617727721,0.23017392707992243,1.0116251964301215,0.19420287776944709,-1.5681994809354591,0.18423853340915497,-0.6173534845828159,-0.04976064378931739,-0.09499890498586602,0.5999663887957106,0.9470452192499397,0.48158232826549746,-0.975818121808824,1.1789804210928678,0.511991126185782,-0.6445127118571568,0.44639236607138577,-0.5119228999079636,0.3461769490638204,-0.28860962187000627,0.30880752893856117,0.8602920238557571,-1.1065956618682193,1.4281271716163646,1.7281195306020583,-2.070566261701333,-0.6463558608812114,-1.4424887324180486,2.0564826875760485,-0.08467260834805933,-0.8208555681228488,-0.7840923059289396,0.5463398928360392,-1.9147193931015167,-2.0965405121600296,0.8854654915221677,-0.7077143405284566,1.220740051229066,0.41684554242125865,0.4125617805707906,0.09547391990243034,-0.24230781619518113,-0.36889321022938737,0.01572106847202316,0.43561389700725806,0.11144186558321814,-0.6508334551545648,1.018199714126553,0.8714881246496483,-1.5536263117876437,2.235615408287663,0.12156182099911096,0.0745440501953923,1.3531429059771674,0.7934764526588117,2.5958981612081273,1.1486359575895522,-2.3844317905567403,-0.6650930734834832,0.05235770758444297,0.08514327670747696,1.249831995368982,-0.9450238390834802,-0.2639259615069109,-0.52369639655623,0.49020926089127365,0.34420441702195825,0.3041093733430783,0.22057571199250411,0.7505519778911802,-1.2174904593310871,1.056341055422691,1.2792360322150826,-0.5399025492546313,-0.13763862502097546,-2.0187290599712178,-1.9068308822417757],\"yaxis\":\"y14\",\"type\":\"scatter\"},{\"line\":{\"color\":\"rgba(128, 128, 128, 1.0)\",\"dash\":\"solid\",\"shape\":\"linear\",\"width\":1.3},\"marker\":{\"size\":2,\"symbol\":\"circle\"},\"mode\":\"markers\",\"name\":\"D\",\"text\":\"\",\"x\":[-0.3872323872369992,0.3129896931497061,0.549109784320413,0.24341866874423576,1.499529146175969,1.2787254198445286,0.09732899572249865,0.6786729923835082,0.3200378633283294,0.5394983246081207,1.9304686738992993,-0.1476528422065039,0.20730005663265114,-0.08292020894156982,-1.0332985315410432,0.2910227164489197,-0.6599861700596447,-1.5927522845823798,-0.06913975252968259,-0.5350268297035842,-0.08331731434480327,0.00951634077256817,-0.8740584241386143,-0.2450153374063535,-0.07959487862678238,1.6987821893488655,-0.33441987308935917,-0.5162053018290103,0.7867538063077528,-0.511729361567106,-0.3442187857712442,1.4539410232083054,1.3210571784341893,0.39479043190364904,-2.1444074764988144,-0.17579186871750874,0.9734103167653669,-1.5447888626969593,0.44118731033021363,0.27523186474757166,0.19584184595773688,2.1479956346168163,2.5676586672224286,0.4169684005852465,-0.7905053421090682,0.6059343090399911,1.1718702289760667,-1.4892935685267537,-0.9155580924696599,0.38024870280397105,-0.4477636807416802,0.09620063605372368,0.0746695266655892,-1.6872206649919161,0.7466670151316754,-0.299369659246122,-0.5538294760945928,-0.7433103932079366,-1.2464060855888113,-0.9325474584013793,-0.41615198461661734,-0.5832952182022414,-0.15074930142568585,0.47296418006624735,-0.9547052054771018,1.083298302216257,-1.4824096196587915,-1.122351602702573,0.9302847260988449,0.441320891411173,-0.2833388821399992,-1.2753864362984364,-1.1169841191601397,0.5972396627662147,-0.2491773777751275,-0.18988486380823916,0.8546215215474877,-0.38142398607241634,-1.0945065986319291,0.3142174694812054,-0.7462860924229974,0.29691771845913784,-2.5760037011011914,-0.5331102468132428,-1.1442208420210935,0.7410619807933482,0.16704743929932367,0.9173053003360592,-1.3378054378604043,1.2352164222516753,-2.260111480808333,1.6287248278642656,1.3524792127034155,-0.4904296405112925,-0.9892598998698315,1.6661723261514287,-0.5076306898533299,0.1644388963494178,-0.2723433733772562,0.5829871208447345],\"xaxis\":\"x15\",\"y\":[-0.4706922896364643,-0.6393288441504061,0.5575925212870825,-2.1202891520131826,0.7016609126653969,-0.06663561774881703,-0.4973374480135509,-0.590882958594366,2.184216868456072,0.33037161371952095,0.4777632094713535,0.3821948569152667,-1.603506970236447,0.03295152166286881,0.04081459510336229,-1.0542769144183797,0.25051753466921883,1.79220788387074,-2.1640254105521275,0.26545027744208516,-0.023472918994801143,-0.43244261016985147,0.3300305691019167,1.3612832617727721,0.23017392707992243,1.0116251964301215,0.19420287776944709,-1.5681994809354591,0.18423853340915497,-0.6173534845828159,-0.04976064378931739,-0.09499890498586602,0.5999663887957106,0.9470452192499397,0.48158232826549746,-0.975818121808824,1.1789804210928678,0.511991126185782,-0.6445127118571568,0.44639236607138577,-0.5119228999079636,0.3461769490638204,-0.28860962187000627,0.30880752893856117,0.8602920238557571,-1.1065956618682193,1.4281271716163646,1.7281195306020583,-2.070566261701333,-0.6463558608812114,-1.4424887324180486,2.0564826875760485,-0.08467260834805933,-0.8208555681228488,-0.7840923059289396,0.5463398928360392,-1.9147193931015167,-2.0965405121600296,0.8854654915221677,-0.7077143405284566,1.220740051229066,0.41684554242125865,0.4125617805707906,0.09547391990243034,-0.24230781619518113,-0.36889321022938737,0.01572106847202316,0.43561389700725806,0.11144186558321814,-0.6508334551545648,1.018199714126553,0.8714881246496483,-1.5536263117876437,2.235615408287663,0.12156182099911096,0.0745440501953923,1.3531429059771674,0.7934764526588117,2.5958981612081273,1.1486359575895522,-2.3844317905567403,-0.6650930734834832,0.05235770758444297,0.08514327670747696,1.249831995368982,-0.9450238390834802,-0.2639259615069109,-0.52369639655623,0.49020926089127365,0.34420441702195825,0.3041093733430783,0.22057571199250411,0.7505519778911802,-1.2174904593310871,1.056341055422691,1.2792360322150826,-0.5399025492546313,-0.13763862502097546,-2.0187290599712178,-1.9068308822417757],\"yaxis\":\"y15\",\"type\":\"scatter\"},{\"histfunc\":\"count\",\"histnorm\":\"\",\"marker\":{\"color\":\"rgba(128, 0, 128, 1.0)\",\"line\":{\"color\":\"#4D5663\",\"width\":1.3}},\"name\":\"D\",\"nbinsx\":10,\"opacity\":0.8,\"orientation\":\"v\",\"x\":[-0.4706922896364643,-0.6393288441504061,0.5575925212870825,-2.1202891520131826,0.7016609126653969,-0.06663561774881703,-0.4973374480135509,-0.590882958594366,2.184216868456072,0.33037161371952095,0.4777632094713535,0.3821948569152667,-1.603506970236447,0.03295152166286881,0.04081459510336229,-1.0542769144183797,0.25051753466921883,1.79220788387074,-2.1640254105521275,0.26545027744208516,-0.023472918994801143,-0.43244261016985147,0.3300305691019167,1.3612832617727721,0.23017392707992243,1.0116251964301215,0.19420287776944709,-1.5681994809354591,0.18423853340915497,-0.6173534845828159,-0.04976064378931739,-0.09499890498586602,0.5999663887957106,0.9470452192499397,0.48158232826549746,-0.975818121808824,1.1789804210928678,0.511991126185782,-0.6445127118571568,0.44639236607138577,-0.5119228999079636,0.3461769490638204,-0.28860962187000627,0.30880752893856117,0.8602920238557571,-1.1065956618682193,1.4281271716163646,1.7281195306020583,-2.070566261701333,-0.6463558608812114,-1.4424887324180486,2.0564826875760485,-0.08467260834805933,-0.8208555681228488,-0.7840923059289396,0.5463398928360392,-1.9147193931015167,-2.0965405121600296,0.8854654915221677,-0.7077143405284566,1.220740051229066,0.41684554242125865,0.4125617805707906,0.09547391990243034,-0.24230781619518113,-0.36889321022938737,0.01572106847202316,0.43561389700725806,0.11144186558321814,-0.6508334551545648,1.018199714126553,0.8714881246496483,-1.5536263117876437,2.235615408287663,0.12156182099911096,0.0745440501953923,1.3531429059771674,0.7934764526588117,2.5958981612081273,1.1486359575895522,-2.3844317905567403,-0.6650930734834832,0.05235770758444297,0.08514327670747696,1.249831995368982,-0.9450238390834802,-0.2639259615069109,-0.52369639655623,0.49020926089127365,0.34420441702195825,0.3041093733430783,0.22057571199250411,0.7505519778911802,-1.2174904593310871,1.056341055422691,1.2792360322150826,-0.5399025492546313,-0.13763862502097546,-2.0187290599712178,-1.9068308822417757],\"xaxis\":\"x16\",\"yaxis\":\"y16\",\"type\":\"histogram\"}],                        {\"bargap\":0.02,\"legend\":{\"bgcolor\":\"#F5F6F9\",\"font\":{\"color\":\"#4D5663\"}},\"paper_bgcolor\":\"#F5F6F9\",\"plot_bgcolor\":\"#F5F6F9\",\"showlegend\":false,\"template\":{\"data\":{\"barpolar\":[{\"marker\":{\"line\":{\"color\":\"#E5ECF6\",\"width\":0.5},\"pattern\":{\"fillmode\":\"overlay\",\"size\":10,\"solidity\":0.2}},\"type\":\"barpolar\"}],\"bar\":[{\"error_x\":{\"color\":\"#2a3f5f\"},\"error_y\":{\"color\":\"#2a3f5f\"},\"marker\":{\"line\":{\"color\":\"#E5ECF6\",\"width\":0.5},\"pattern\":{\"fillmode\":\"overlay\",\"size\":10,\"solidity\":0.2}},\"type\":\"bar\"}],\"carpet\":[{\"aaxis\":{\"endlinecolor\":\"#2a3f5f\",\"gridcolor\":\"white\",\"linecolor\":\"white\",\"minorgridcolor\":\"white\",\"startlinecolor\":\"#2a3f5f\"},\"baxis\":{\"endlinecolor\":\"#2a3f5f\",\"gridcolor\":\"white\",\"linecolor\":\"white\",\"minorgridcolor\":\"white\",\"startlinecolor\":\"#2a3f5f\"},\"type\":\"carpet\"}],\"choropleth\":[{\"colorbar\":{\"outlinewidth\":0,\"ticks\":\"\"},\"type\":\"choropleth\"}],\"contourcarpet\":[{\"colorbar\":{\"outlinewidth\":0,\"ticks\":\"\"},\"type\":\"contourcarpet\"}],\"contour\":[{\"colorbar\":{\"outlinewidth\":0,\"ticks\":\"\"},\"colorscale\":[[0.0,\"#0d0887\"],[0.1111111111111111,\"#46039f\"],[0.2222222222222222,\"#7201a8\"],[0.3333333333333333,\"#9c179e\"],[0.4444444444444444,\"#bd3786\"],[0.5555555555555556,\"#d8576b\"],[0.6666666666666666,\"#ed7953\"],[0.7777777777777778,\"#fb9f3a\"],[0.8888888888888888,\"#fdca26\"],[1.0,\"#f0f921\"]],\"type\":\"contour\"}],\"heatmapgl\":[{\"colorbar\":{\"outlinewidth\":0,\"ticks\":\"\"},\"colorscale\":[[0.0,\"#0d0887\"],[0.1111111111111111,\"#46039f\"],[0.2222222222222222,\"#7201a8\"],[0.3333333333333333,\"#9c179e\"],[0.4444444444444444,\"#bd3786\"],[0.5555555555555556,\"#d8576b\"],[0.6666666666666666,\"#ed7953\"],[0.7777777777777778,\"#fb9f3a\"],[0.8888888888888888,\"#fdca26\"],[1.0,\"#f0f921\"]],\"type\":\"heatmapgl\"}],\"heatmap\":[{\"colorbar\":{\"outlinewidth\":0,\"ticks\":\"\"},\"colorscale\":[[0.0,\"#0d0887\"],[0.1111111111111111,\"#46039f\"],[0.2222222222222222,\"#7201a8\"],[0.3333333333333333,\"#9c179e\"],[0.4444444444444444,\"#bd3786\"],[0.5555555555555556,\"#d8576b\"],[0.6666666666666666,\"#ed7953\"],[0.7777777777777778,\"#fb9f3a\"],[0.8888888888888888,\"#fdca26\"],[1.0,\"#f0f921\"]],\"type\":\"heatmap\"}],\"histogram2dcontour\":[{\"colorbar\":{\"outlinewidth\":0,\"ticks\":\"\"},\"colorscale\":[[0.0,\"#0d0887\"],[0.1111111111111111,\"#46039f\"],[0.2222222222222222,\"#7201a8\"],[0.3333333333333333,\"#9c179e\"],[0.4444444444444444,\"#bd3786\"],[0.5555555555555556,\"#d8576b\"],[0.6666666666666666,\"#ed7953\"],[0.7777777777777778,\"#fb9f3a\"],[0.8888888888888888,\"#fdca26\"],[1.0,\"#f0f921\"]],\"type\":\"histogram2dcontour\"}],\"histogram2d\":[{\"colorbar\":{\"outlinewidth\":0,\"ticks\":\"\"},\"colorscale\":[[0.0,\"#0d0887\"],[0.1111111111111111,\"#46039f\"],[0.2222222222222222,\"#7201a8\"],[0.3333333333333333,\"#9c179e\"],[0.4444444444444444,\"#bd3786\"],[0.5555555555555556,\"#d8576b\"],[0.6666666666666666,\"#ed7953\"],[0.7777777777777778,\"#fb9f3a\"],[0.8888888888888888,\"#fdca26\"],[1.0,\"#f0f921\"]],\"type\":\"histogram2d\"}],\"histogram\":[{\"marker\":{\"pattern\":{\"fillmode\":\"overlay\",\"size\":10,\"solidity\":0.2}},\"type\":\"histogram\"}],\"mesh3d\":[{\"colorbar\":{\"outlinewidth\":0,\"ticks\":\"\"},\"type\":\"mesh3d\"}],\"parcoords\":[{\"line\":{\"colorbar\":{\"outlinewidth\":0,\"ticks\":\"\"}},\"type\":\"parcoords\"}],\"pie\":[{\"automargin\":true,\"type\":\"pie\"}],\"scatter3d\":[{\"line\":{\"colorbar\":{\"outlinewidth\":0,\"ticks\":\"\"}},\"marker\":{\"colorbar\":{\"outlinewidth\":0,\"ticks\":\"\"}},\"type\":\"scatter3d\"}],\"scattercarpet\":[{\"marker\":{\"colorbar\":{\"outlinewidth\":0,\"ticks\":\"\"}},\"type\":\"scattercarpet\"}],\"scattergeo\":[{\"marker\":{\"colorbar\":{\"outlinewidth\":0,\"ticks\":\"\"}},\"type\":\"scattergeo\"}],\"scattergl\":[{\"marker\":{\"colorbar\":{\"outlinewidth\":0,\"ticks\":\"\"}},\"type\":\"scattergl\"}],\"scattermapbox\":[{\"marker\":{\"colorbar\":{\"outlinewidth\":0,\"ticks\":\"\"}},\"type\":\"scattermapbox\"}],\"scatterpolargl\":[{\"marker\":{\"colorbar\":{\"outlinewidth\":0,\"ticks\":\"\"}},\"type\":\"scatterpolargl\"}],\"scatterpolar\":[{\"marker\":{\"colorbar\":{\"outlinewidth\":0,\"ticks\":\"\"}},\"type\":\"scatterpolar\"}],\"scatter\":[{\"marker\":{\"colorbar\":{\"outlinewidth\":0,\"ticks\":\"\"}},\"type\":\"scatter\"}],\"scatterternary\":[{\"marker\":{\"colorbar\":{\"outlinewidth\":0,\"ticks\":\"\"}},\"type\":\"scatterternary\"}],\"surface\":[{\"colorbar\":{\"outlinewidth\":0,\"ticks\":\"\"},\"colorscale\":[[0.0,\"#0d0887\"],[0.1111111111111111,\"#46039f\"],[0.2222222222222222,\"#7201a8\"],[0.3333333333333333,\"#9c179e\"],[0.4444444444444444,\"#bd3786\"],[0.5555555555555556,\"#d8576b\"],[0.6666666666666666,\"#ed7953\"],[0.7777777777777778,\"#fb9f3a\"],[0.8888888888888888,\"#fdca26\"],[1.0,\"#f0f921\"]],\"type\":\"surface\"}],\"table\":[{\"cells\":{\"fill\":{\"color\":\"#EBF0F8\"},\"line\":{\"color\":\"white\"}},\"header\":{\"fill\":{\"color\":\"#C8D4E3\"},\"line\":{\"color\":\"white\"}},\"type\":\"table\"}]},\"layout\":{\"annotationdefaults\":{\"arrowcolor\":\"#2a3f5f\",\"arrowhead\":0,\"arrowwidth\":1},\"autotypenumbers\":\"strict\",\"coloraxis\":{\"colorbar\":{\"outlinewidth\":0,\"ticks\":\"\"}},\"colorscale\":{\"diverging\":[[0,\"#8e0152\"],[0.1,\"#c51b7d\"],[0.2,\"#de77ae\"],[0.3,\"#f1b6da\"],[0.4,\"#fde0ef\"],[0.5,\"#f7f7f7\"],[0.6,\"#e6f5d0\"],[0.7,\"#b8e186\"],[0.8,\"#7fbc41\"],[0.9,\"#4d9221\"],[1,\"#276419\"]],\"sequential\":[[0.0,\"#0d0887\"],[0.1111111111111111,\"#46039f\"],[0.2222222222222222,\"#7201a8\"],[0.3333333333333333,\"#9c179e\"],[0.4444444444444444,\"#bd3786\"],[0.5555555555555556,\"#d8576b\"],[0.6666666666666666,\"#ed7953\"],[0.7777777777777778,\"#fb9f3a\"],[0.8888888888888888,\"#fdca26\"],[1.0,\"#f0f921\"]],\"sequentialminus\":[[0.0,\"#0d0887\"],[0.1111111111111111,\"#46039f\"],[0.2222222222222222,\"#7201a8\"],[0.3333333333333333,\"#9c179e\"],[0.4444444444444444,\"#bd3786\"],[0.5555555555555556,\"#d8576b\"],[0.6666666666666666,\"#ed7953\"],[0.7777777777777778,\"#fb9f3a\"],[0.8888888888888888,\"#fdca26\"],[1.0,\"#f0f921\"]]},\"colorway\":[\"#636efa\",\"#EF553B\",\"#00cc96\",\"#ab63fa\",\"#FFA15A\",\"#19d3f3\",\"#FF6692\",\"#B6E880\",\"#FF97FF\",\"#FECB52\"],\"font\":{\"color\":\"#2a3f5f\"},\"geo\":{\"bgcolor\":\"white\",\"lakecolor\":\"white\",\"landcolor\":\"#E5ECF6\",\"showlakes\":true,\"showland\":true,\"subunitcolor\":\"white\"},\"hoverlabel\":{\"align\":\"left\"},\"hovermode\":\"closest\",\"mapbox\":{\"style\":\"light\"},\"paper_bgcolor\":\"white\",\"plot_bgcolor\":\"#E5ECF6\",\"polar\":{\"angularaxis\":{\"gridcolor\":\"white\",\"linecolor\":\"white\",\"ticks\":\"\"},\"bgcolor\":\"#E5ECF6\",\"radialaxis\":{\"gridcolor\":\"white\",\"linecolor\":\"white\",\"ticks\":\"\"}},\"scene\":{\"xaxis\":{\"backgroundcolor\":\"#E5ECF6\",\"gridcolor\":\"white\",\"gridwidth\":2,\"linecolor\":\"white\",\"showbackground\":true,\"ticks\":\"\",\"zerolinecolor\":\"white\"},\"yaxis\":{\"backgroundcolor\":\"#E5ECF6\",\"gridcolor\":\"white\",\"gridwidth\":2,\"linecolor\":\"white\",\"showbackground\":true,\"ticks\":\"\",\"zerolinecolor\":\"white\"},\"zaxis\":{\"backgroundcolor\":\"#E5ECF6\",\"gridcolor\":\"white\",\"gridwidth\":2,\"linecolor\":\"white\",\"showbackground\":true,\"ticks\":\"\",\"zerolinecolor\":\"white\"}},\"shapedefaults\":{\"line\":{\"color\":\"#2a3f5f\"}},\"ternary\":{\"aaxis\":{\"gridcolor\":\"white\",\"linecolor\":\"white\",\"ticks\":\"\"},\"baxis\":{\"gridcolor\":\"white\",\"linecolor\":\"white\",\"ticks\":\"\"},\"bgcolor\":\"#E5ECF6\",\"caxis\":{\"gridcolor\":\"white\",\"linecolor\":\"white\",\"ticks\":\"\"}},\"title\":{\"x\":0.05},\"xaxis\":{\"automargin\":true,\"gridcolor\":\"white\",\"linecolor\":\"white\",\"ticks\":\"\",\"title\":{\"standoff\":15},\"zerolinecolor\":\"white\",\"zerolinewidth\":2},\"yaxis\":{\"automargin\":true,\"gridcolor\":\"white\",\"linecolor\":\"white\",\"ticks\":\"\",\"title\":{\"standoff\":15},\"zerolinecolor\":\"white\",\"zerolinewidth\":2}}},\"title\":{\"font\":{\"color\":\"#4D5663\"}},\"xaxis\":{\"anchor\":\"y\",\"domain\":[0.0,0.2125],\"gridcolor\":\"#E1E5ED\",\"showgrid\":false,\"tickfont\":{\"color\":\"#4D5663\"},\"title\":{\"font\":{\"color\":\"#4D5663\"},\"text\":\"\"},\"zerolinecolor\":\"#E1E5ED\"},\"yaxis\":{\"anchor\":\"x\",\"domain\":[0.8025,1.0],\"gridcolor\":\"#E1E5ED\",\"showgrid\":false,\"tickfont\":{\"color\":\"#4D5663\"},\"title\":{\"font\":{\"color\":\"#4D5663\"},\"text\":\"\"},\"zerolinecolor\":\"#E1E5ED\"},\"xaxis2\":{\"anchor\":\"y2\",\"domain\":[0.2625,0.475],\"gridcolor\":\"#E1E5ED\",\"showgrid\":false,\"tickfont\":{\"color\":\"#4D5663\"},\"title\":{\"font\":{\"color\":\"#4D5663\"},\"text\":\"\"},\"zerolinecolor\":\"#E1E5ED\"},\"yaxis2\":{\"anchor\":\"x2\",\"domain\":[0.8025,1.0],\"gridcolor\":\"#E1E5ED\",\"showgrid\":false,\"tickfont\":{\"color\":\"#4D5663\"},\"title\":{\"font\":{\"color\":\"#4D5663\"},\"text\":\"\"},\"zerolinecolor\":\"#E1E5ED\"},\"xaxis3\":{\"anchor\":\"y3\",\"domain\":[0.525,0.7375],\"gridcolor\":\"#E1E5ED\",\"showgrid\":false,\"tickfont\":{\"color\":\"#4D5663\"},\"title\":{\"font\":{\"color\":\"#4D5663\"},\"text\":\"\"},\"zerolinecolor\":\"#E1E5ED\"},\"yaxis3\":{\"anchor\":\"x3\",\"domain\":[0.8025,1.0],\"gridcolor\":\"#E1E5ED\",\"showgrid\":false,\"tickfont\":{\"color\":\"#4D5663\"},\"title\":{\"font\":{\"color\":\"#4D5663\"},\"text\":\"\"},\"zerolinecolor\":\"#E1E5ED\"},\"xaxis4\":{\"anchor\":\"y4\",\"domain\":[0.7875,1.0],\"gridcolor\":\"#E1E5ED\",\"showgrid\":false,\"tickfont\":{\"color\":\"#4D5663\"},\"title\":{\"font\":{\"color\":\"#4D5663\"},\"text\":\"\"},\"zerolinecolor\":\"#E1E5ED\"},\"yaxis4\":{\"anchor\":\"x4\",\"domain\":[0.8025,1.0],\"gridcolor\":\"#E1E5ED\",\"showgrid\":false,\"tickfont\":{\"color\":\"#4D5663\"},\"title\":{\"font\":{\"color\":\"#4D5663\"},\"text\":\"\"},\"zerolinecolor\":\"#E1E5ED\"},\"xaxis5\":{\"anchor\":\"y5\",\"domain\":[0.0,0.2125],\"gridcolor\":\"#E1E5ED\",\"showgrid\":false,\"tickfont\":{\"color\":\"#4D5663\"},\"title\":{\"font\":{\"color\":\"#4D5663\"},\"text\":\"\"},\"zerolinecolor\":\"#E1E5ED\"},\"yaxis5\":{\"anchor\":\"x5\",\"domain\":[0.535,0.7325],\"gridcolor\":\"#E1E5ED\",\"showgrid\":false,\"tickfont\":{\"color\":\"#4D5663\"},\"title\":{\"font\":{\"color\":\"#4D5663\"},\"text\":\"\"},\"zerolinecolor\":\"#E1E5ED\"},\"xaxis6\":{\"anchor\":\"y6\",\"domain\":[0.2625,0.475],\"gridcolor\":\"#E1E5ED\",\"showgrid\":false,\"tickfont\":{\"color\":\"#4D5663\"},\"title\":{\"font\":{\"color\":\"#4D5663\"},\"text\":\"\"},\"zerolinecolor\":\"#E1E5ED\"},\"yaxis6\":{\"anchor\":\"x6\",\"domain\":[0.535,0.7325],\"gridcolor\":\"#E1E5ED\",\"showgrid\":false,\"tickfont\":{\"color\":\"#4D5663\"},\"title\":{\"font\":{\"color\":\"#4D5663\"},\"text\":\"\"},\"zerolinecolor\":\"#E1E5ED\"},\"xaxis7\":{\"anchor\":\"y7\",\"domain\":[0.525,0.7375],\"gridcolor\":\"#E1E5ED\",\"showgrid\":false,\"tickfont\":{\"color\":\"#4D5663\"},\"title\":{\"font\":{\"color\":\"#4D5663\"},\"text\":\"\"},\"zerolinecolor\":\"#E1E5ED\"},\"yaxis7\":{\"anchor\":\"x7\",\"domain\":[0.535,0.7325],\"gridcolor\":\"#E1E5ED\",\"showgrid\":false,\"tickfont\":{\"color\":\"#4D5663\"},\"title\":{\"font\":{\"color\":\"#4D5663\"},\"text\":\"\"},\"zerolinecolor\":\"#E1E5ED\"},\"xaxis8\":{\"anchor\":\"y8\",\"domain\":[0.7875,1.0],\"gridcolor\":\"#E1E5ED\",\"showgrid\":false,\"tickfont\":{\"color\":\"#4D5663\"},\"title\":{\"font\":{\"color\":\"#4D5663\"},\"text\":\"\"},\"zerolinecolor\":\"#E1E5ED\"},\"yaxis8\":{\"anchor\":\"x8\",\"domain\":[0.535,0.7325],\"gridcolor\":\"#E1E5ED\",\"showgrid\":false,\"tickfont\":{\"color\":\"#4D5663\"},\"title\":{\"font\":{\"color\":\"#4D5663\"},\"text\":\"\"},\"zerolinecolor\":\"#E1E5ED\"},\"xaxis9\":{\"anchor\":\"y9\",\"domain\":[0.0,0.2125],\"gridcolor\":\"#E1E5ED\",\"showgrid\":false,\"tickfont\":{\"color\":\"#4D5663\"},\"title\":{\"font\":{\"color\":\"#4D5663\"},\"text\":\"\"},\"zerolinecolor\":\"#E1E5ED\"},\"yaxis9\":{\"anchor\":\"x9\",\"domain\":[0.2675,0.465],\"gridcolor\":\"#E1E5ED\",\"showgrid\":false,\"tickfont\":{\"color\":\"#4D5663\"},\"title\":{\"font\":{\"color\":\"#4D5663\"},\"text\":\"\"},\"zerolinecolor\":\"#E1E5ED\"},\"xaxis10\":{\"anchor\":\"y10\",\"domain\":[0.2625,0.475],\"gridcolor\":\"#E1E5ED\",\"showgrid\":false,\"tickfont\":{\"color\":\"#4D5663\"},\"title\":{\"font\":{\"color\":\"#4D5663\"},\"text\":\"\"},\"zerolinecolor\":\"#E1E5ED\"},\"yaxis10\":{\"anchor\":\"x10\",\"domain\":[0.2675,0.465],\"gridcolor\":\"#E1E5ED\",\"showgrid\":false,\"tickfont\":{\"color\":\"#4D5663\"},\"title\":{\"font\":{\"color\":\"#4D5663\"},\"text\":\"\"},\"zerolinecolor\":\"#E1E5ED\"},\"xaxis11\":{\"anchor\":\"y11\",\"domain\":[0.525,0.7375],\"gridcolor\":\"#E1E5ED\",\"showgrid\":false,\"tickfont\":{\"color\":\"#4D5663\"},\"title\":{\"font\":{\"color\":\"#4D5663\"},\"text\":\"\"},\"zerolinecolor\":\"#E1E5ED\"},\"yaxis11\":{\"anchor\":\"x11\",\"domain\":[0.2675,0.465],\"gridcolor\":\"#E1E5ED\",\"showgrid\":false,\"tickfont\":{\"color\":\"#4D5663\"},\"title\":{\"font\":{\"color\":\"#4D5663\"},\"text\":\"\"},\"zerolinecolor\":\"#E1E5ED\"},\"xaxis12\":{\"anchor\":\"y12\",\"domain\":[0.7875,1.0],\"gridcolor\":\"#E1E5ED\",\"showgrid\":false,\"tickfont\":{\"color\":\"#4D5663\"},\"title\":{\"font\":{\"color\":\"#4D5663\"},\"text\":\"\"},\"zerolinecolor\":\"#E1E5ED\"},\"yaxis12\":{\"anchor\":\"x12\",\"domain\":[0.2675,0.465],\"gridcolor\":\"#E1E5ED\",\"showgrid\":false,\"tickfont\":{\"color\":\"#4D5663\"},\"title\":{\"font\":{\"color\":\"#4D5663\"},\"text\":\"\"},\"zerolinecolor\":\"#E1E5ED\"},\"xaxis13\":{\"anchor\":\"y13\",\"domain\":[0.0,0.2125],\"gridcolor\":\"#E1E5ED\",\"showgrid\":false,\"tickfont\":{\"color\":\"#4D5663\"},\"title\":{\"font\":{\"color\":\"#4D5663\"},\"text\":\"\"},\"zerolinecolor\":\"#E1E5ED\"},\"yaxis13\":{\"anchor\":\"x13\",\"domain\":[0.0,0.1975],\"gridcolor\":\"#E1E5ED\",\"showgrid\":false,\"tickfont\":{\"color\":\"#4D5663\"},\"title\":{\"font\":{\"color\":\"#4D5663\"},\"text\":\"\"},\"zerolinecolor\":\"#E1E5ED\"},\"xaxis14\":{\"anchor\":\"y14\",\"domain\":[0.2625,0.475],\"gridcolor\":\"#E1E5ED\",\"showgrid\":false,\"tickfont\":{\"color\":\"#4D5663\"},\"title\":{\"font\":{\"color\":\"#4D5663\"},\"text\":\"\"},\"zerolinecolor\":\"#E1E5ED\"},\"yaxis14\":{\"anchor\":\"x14\",\"domain\":[0.0,0.1975],\"gridcolor\":\"#E1E5ED\",\"showgrid\":false,\"tickfont\":{\"color\":\"#4D5663\"},\"title\":{\"font\":{\"color\":\"#4D5663\"},\"text\":\"\"},\"zerolinecolor\":\"#E1E5ED\"},\"xaxis15\":{\"anchor\":\"y15\",\"domain\":[0.525,0.7375],\"gridcolor\":\"#E1E5ED\",\"showgrid\":false,\"tickfont\":{\"color\":\"#4D5663\"},\"title\":{\"font\":{\"color\":\"#4D5663\"},\"text\":\"\"},\"zerolinecolor\":\"#E1E5ED\"},\"yaxis15\":{\"anchor\":\"x15\",\"domain\":[0.0,0.1975],\"gridcolor\":\"#E1E5ED\",\"showgrid\":false,\"tickfont\":{\"color\":\"#4D5663\"},\"title\":{\"font\":{\"color\":\"#4D5663\"},\"text\":\"\"},\"zerolinecolor\":\"#E1E5ED\"},\"xaxis16\":{\"anchor\":\"y16\",\"domain\":[0.7875,1.0],\"gridcolor\":\"#E1E5ED\",\"showgrid\":false,\"tickfont\":{\"color\":\"#4D5663\"},\"title\":{\"font\":{\"color\":\"#4D5663\"},\"text\":\"\"},\"zerolinecolor\":\"#E1E5ED\"},\"yaxis16\":{\"anchor\":\"x16\",\"domain\":[0.0,0.1975],\"gridcolor\":\"#E1E5ED\",\"showgrid\":false,\"tickfont\":{\"color\":\"#4D5663\"},\"title\":{\"font\":{\"color\":\"#4D5663\"},\"text\":\"\"},\"zerolinecolor\":\"#E1E5ED\"}},                        {\"showLink\": true, \"linkText\": \"Export to plot.ly\", \"plotlyServerURL\": \"https://plot.ly\", \"responsive\": true}                    ).then(function(){\n",
       "                            \n",
       "var gd = document.getElementById('68ee9b6b-8d1c-449f-9175-ab9978a4f4bf');\n",
       "var x = new MutationObserver(function (mutations, observer) {{\n",
       "        var display = window.getComputedStyle(gd).display;\n",
       "        if (!display || display === 'none') {{\n",
       "            console.log([gd, 'removed!']);\n",
       "            Plotly.purge(gd);\n",
       "            observer.disconnect();\n",
       "        }}\n",
       "}});\n",
       "\n",
       "// Listen for the removal of the full notebook cells\n",
       "var notebookContainer = gd.closest('#notebook-container');\n",
       "if (notebookContainer) {{\n",
       "    x.observe(notebookContainer, {childList: true});\n",
       "}}\n",
       "\n",
       "// Listen for the clearing of the current output cell\n",
       "var outputEl = gd.closest('.output');\n",
       "if (outputEl) {{\n",
       "    x.observe(outputEl, {childList: true});\n",
       "}}\n",
       "\n",
       "                        })                };                });            </script>        </div>"
      ]
     },
     "metadata": {},
     "output_type": "display_data"
    }
   ],
   "source": [
    "df1.scatter_matrix()"
   ]
  },
  {
   "cell_type": "code",
   "execution_count": null,
   "metadata": {},
   "outputs": [],
   "source": []
  }
 ],
 "metadata": {
  "kernelspec": {
   "display_name": "Python 3.9.12 ('base')",
   "language": "python",
   "name": "python3"
  },
  "language_info": {
   "codemirror_mode": {
    "name": "ipython",
    "version": 3
   },
   "file_extension": ".py",
   "mimetype": "text/x-python",
   "name": "python",
   "nbconvert_exporter": "python",
   "pygments_lexer": "ipython3",
   "version": "3.9.12"
  },
  "orig_nbformat": 4,
  "vscode": {
   "interpreter": {
    "hash": "2a5e51e182baeb1cdd54535b5783751c29705ffe0ad549c058886b512acb5633"
   }
  }
 },
 "nbformat": 4,
 "nbformat_minor": 2
}
