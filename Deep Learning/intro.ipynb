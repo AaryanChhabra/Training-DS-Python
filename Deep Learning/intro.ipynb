{
 "cells": [
  {
   "cell_type": "code",
   "execution_count": 1,
   "metadata": {},
   "outputs": [],
   "source": [
    "import numpy as np\n",
    "import pandas as pd\n",
    "import seaborn as sns"
   ]
  },
  {
   "cell_type": "code",
   "execution_count": 2,
   "metadata": {},
   "outputs": [],
   "source": [
    "df  = pd.read_csv('fake_reg.csv')"
   ]
  },
  {
   "cell_type": "code",
   "execution_count": 3,
   "metadata": {},
   "outputs": [
    {
     "data": {
      "text/html": [
       "<div>\n",
       "<style scoped>\n",
       "    .dataframe tbody tr th:only-of-type {\n",
       "        vertical-align: middle;\n",
       "    }\n",
       "\n",
       "    .dataframe tbody tr th {\n",
       "        vertical-align: top;\n",
       "    }\n",
       "\n",
       "    .dataframe thead th {\n",
       "        text-align: right;\n",
       "    }\n",
       "</style>\n",
       "<table border=\"1\" class=\"dataframe\">\n",
       "  <thead>\n",
       "    <tr style=\"text-align: right;\">\n",
       "      <th></th>\n",
       "      <th>price</th>\n",
       "      <th>feature1</th>\n",
       "      <th>feature2</th>\n",
       "    </tr>\n",
       "  </thead>\n",
       "  <tbody>\n",
       "    <tr>\n",
       "      <th>0</th>\n",
       "      <td>461.527929</td>\n",
       "      <td>999.787558</td>\n",
       "      <td>999.766096</td>\n",
       "    </tr>\n",
       "    <tr>\n",
       "      <th>1</th>\n",
       "      <td>548.130011</td>\n",
       "      <td>998.861615</td>\n",
       "      <td>1001.042403</td>\n",
       "    </tr>\n",
       "    <tr>\n",
       "      <th>2</th>\n",
       "      <td>410.297162</td>\n",
       "      <td>1000.070267</td>\n",
       "      <td>998.844015</td>\n",
       "    </tr>\n",
       "    <tr>\n",
       "      <th>3</th>\n",
       "      <td>540.382220</td>\n",
       "      <td>999.952251</td>\n",
       "      <td>1000.440940</td>\n",
       "    </tr>\n",
       "    <tr>\n",
       "      <th>4</th>\n",
       "      <td>546.024553</td>\n",
       "      <td>1000.446011</td>\n",
       "      <td>1000.338531</td>\n",
       "    </tr>\n",
       "  </tbody>\n",
       "</table>\n",
       "</div>"
      ],
      "text/plain": [
       "        price     feature1     feature2\n",
       "0  461.527929   999.787558   999.766096\n",
       "1  548.130011   998.861615  1001.042403\n",
       "2  410.297162  1000.070267   998.844015\n",
       "3  540.382220   999.952251  1000.440940\n",
       "4  546.024553  1000.446011  1000.338531"
      ]
     },
     "execution_count": 3,
     "metadata": {},
     "output_type": "execute_result"
    }
   ],
   "source": [
    "df.head()"
   ]
  },
  {
   "cell_type": "code",
   "execution_count": 4,
   "metadata": {},
   "outputs": [],
   "source": [
    "from sklearn.model_selection import train_test_split"
   ]
  },
  {
   "cell_type": "code",
   "execution_count": 5,
   "metadata": {},
   "outputs": [],
   "source": [
    "X = df[['feature1', 'feature2']].values\n",
    "y = df['price'].values"
   ]
  },
  {
   "cell_type": "code",
   "execution_count": 71,
   "metadata": {},
   "outputs": [],
   "source": []
  },
  {
   "cell_type": "code",
   "execution_count": 6,
   "metadata": {},
   "outputs": [],
   "source": [
    "X_train, X_test, y_train, y_test = train_test_split(X,y, test_size=0.3, random_state=101)\n"
   ]
  },
  {
   "cell_type": "code",
   "execution_count": 7,
   "metadata": {},
   "outputs": [],
   "source": [
    "from sklearn.preprocessing import MinMaxScaler"
   ]
  },
  {
   "cell_type": "code",
   "execution_count": 8,
   "metadata": {},
   "outputs": [],
   "source": [
    "Scaler = MinMaxScaler()\n",
    "Scaler.fit(X_train)\n",
    "X_train = Scaler.transform(X_train)\n",
    "X_test = Scaler.transform(X_test)"
   ]
  },
  {
   "cell_type": "code",
   "execution_count": 75,
   "metadata": {},
   "outputs": [],
   "source": [
    "#  Why we fit X_test using X_train scaler?\n",
    "\n",
    "#Because we assume they share the same distribution as X_train (although they are not always exactly the same),\n",
    "# and the model it self is trained using the scaled information from X_train.\n",
    "\n",
    "#X_test is technically unseen data, so we might get them in batches and hence we do not know the actual distribution. \n",
    "# When any new data comes in we passed them through the same processing as the training set, fit using X_train."
   ]
  },
  {
   "cell_type": "code",
   "execution_count": 9,
   "metadata": {},
   "outputs": [
    {
     "name": "stderr",
     "output_type": "stream",
     "text": [
      "2022-10-09 17:42:07.446355: I tensorflow/core/platform/cpu_feature_guard.cc:193] This TensorFlow binary is optimized with oneAPI Deep Neural Network Library (oneDNN) to use the following CPU instructions in performance-critical operations:  SSE4.1 SSE4.2\n",
      "To enable them in other operations, rebuild TensorFlow with the appropriate compiler flags.\n"
     ]
    }
   ],
   "source": [
    "from tensorflow.keras.models import Sequential"
   ]
  },
  {
   "cell_type": "code",
   "execution_count": 10,
   "metadata": {},
   "outputs": [],
   "source": [
    "from tensorflow.keras.layers import Dense"
   ]
  },
  {
   "cell_type": "code",
   "execution_count": 11,
   "metadata": {},
   "outputs": [
    {
     "name": "stderr",
     "output_type": "stream",
     "text": [
      "2022-10-09 17:42:19.036106: I tensorflow/core/platform/cpu_feature_guard.cc:193] This TensorFlow binary is optimized with oneAPI Deep Neural Network Library (oneDNN) to use the following CPU instructions in performance-critical operations:  SSE4.1 SSE4.2\n",
      "To enable them in other operations, rebuild TensorFlow with the appropriate compiler flags.\n"
     ]
    }
   ],
   "source": [
    "model = Sequential()\n",
    "\n",
    "model.add(Dense(4, activation = 'relu'))\n",
    "model.add(Dense(4, activation = 'relu'))\n",
    "model.add(Dense(4, activation = 'relu'))\n",
    "model.add(Dense(1) )# Last layer to be a single neuron to produce a single value of price.\n",
    "\n",
    "model.compile(optimizer= 'rmsprop', loss= 'mse')\n"
   ]
  },
  {
   "cell_type": "code",
   "execution_count": 79,
   "metadata": {},
   "outputs": [
    {
     "data": {
      "text/plain": [
       "\"\\nmodel = Sequential([Dense(4, activation = 'relu'), \\nDense(2, activation = 'relu'),\\nDense(1)])\\n\\n\""
      ]
     },
     "execution_count": 79,
     "metadata": {},
     "output_type": "execute_result"
    }
   ],
   "source": [
    "# Or we can use this\n",
    "\"\"\"\n",
    "model = Sequential([Dense(4, activation = 'relu'), \n",
    "Dense(2, activation = 'relu'),\n",
    "Dense(1)])\n",
    "\n",
    "\"\"\"\n"
   ]
  },
  {
   "cell_type": "code",
   "execution_count": 12,
   "metadata": {},
   "outputs": [
    {
     "name": "stdout",
     "output_type": "stream",
     "text": [
      "Epoch 1/250\n",
      "22/22 - 0s - loss: 259441.6406 - 314ms/epoch - 14ms/step\n",
      "Epoch 2/250\n",
      "22/22 - 0s - loss: 259234.9531 - 13ms/epoch - 571us/step\n",
      "Epoch 3/250\n",
      "22/22 - 0s - loss: 259103.9375 - 12ms/epoch - 533us/step\n",
      "Epoch 4/250\n",
      "22/22 - 0s - loss: 259006.6094 - 12ms/epoch - 538us/step\n",
      "Epoch 5/250\n",
      "22/22 - 0s - loss: 258930.2188 - 12ms/epoch - 553us/step\n",
      "Epoch 6/250\n",
      "22/22 - 0s - loss: 258858.2656 - 11ms/epoch - 517us/step\n",
      "Epoch 7/250\n",
      "22/22 - 0s - loss: 258784.0000 - 12ms/epoch - 536us/step\n",
      "Epoch 8/250\n",
      "22/22 - 0s - loss: 258705.0469 - 11ms/epoch - 484us/step\n",
      "Epoch 9/250\n",
      "22/22 - 0s - loss: 258617.5469 - 13ms/epoch - 578us/step\n",
      "Epoch 10/250\n",
      "22/22 - 0s - loss: 258517.7188 - 11ms/epoch - 512us/step\n",
      "Epoch 11/250\n",
      "22/22 - 0s - loss: 258403.0781 - 11ms/epoch - 514us/step\n",
      "Epoch 12/250\n",
      "22/22 - 0s - loss: 258271.5000 - 11ms/epoch - 483us/step\n",
      "Epoch 13/250\n",
      "22/22 - 0s - loss: 258121.7188 - 12ms/epoch - 530us/step\n",
      "Epoch 14/250\n",
      "22/22 - 0s - loss: 257951.5625 - 11ms/epoch - 498us/step\n",
      "Epoch 15/250\n",
      "22/22 - 0s - loss: 257760.7812 - 11ms/epoch - 498us/step\n",
      "Epoch 16/250\n",
      "22/22 - 0s - loss: 257545.8438 - 13ms/epoch - 572us/step\n",
      "Epoch 17/250\n",
      "22/22 - 0s - loss: 257306.4531 - 11ms/epoch - 521us/step\n",
      "Epoch 18/250\n",
      "22/22 - 0s - loss: 257043.2500 - 11ms/epoch - 511us/step\n",
      "Epoch 19/250\n",
      "22/22 - 0s - loss: 256753.4844 - 11ms/epoch - 482us/step\n",
      "Epoch 20/250\n",
      "22/22 - 0s - loss: 256435.5625 - 14ms/epoch - 649us/step\n",
      "Epoch 21/250\n",
      "22/22 - 0s - loss: 256088.8750 - 12ms/epoch - 524us/step\n",
      "Epoch 22/250\n",
      "22/22 - 0s - loss: 255714.5156 - 11ms/epoch - 490us/step\n",
      "Epoch 23/250\n",
      "22/22 - 0s - loss: 255314.2188 - 10ms/epoch - 467us/step\n",
      "Epoch 24/250\n",
      "22/22 - 0s - loss: 254887.8594 - 11ms/epoch - 505us/step\n",
      "Epoch 25/250\n",
      "22/22 - 0s - loss: 254429.4219 - 11ms/epoch - 479us/step\n",
      "Epoch 26/250\n",
      "22/22 - 0s - loss: 253937.5781 - 11ms/epoch - 479us/step\n",
      "Epoch 27/250\n",
      "22/22 - 0s - loss: 253410.8125 - 10ms/epoch - 467us/step\n",
      "Epoch 28/250\n",
      "22/22 - 0s - loss: 252844.9219 - 11ms/epoch - 478us/step\n",
      "Epoch 29/250\n",
      "22/22 - 0s - loss: 252240.0156 - 10ms/epoch - 476us/step\n",
      "Epoch 30/250\n",
      "22/22 - 0s - loss: 251592.0469 - 10ms/epoch - 459us/step\n",
      "Epoch 31/250\n",
      "22/22 - 0s - loss: 250894.5312 - 11ms/epoch - 491us/step\n",
      "Epoch 32/250\n",
      "22/22 - 0s - loss: 250154.8750 - 10ms/epoch - 477us/step\n",
      "Epoch 33/250\n",
      "22/22 - 0s - loss: 249369.2344 - 10ms/epoch - 460us/step\n",
      "Epoch 34/250\n",
      "22/22 - 0s - loss: 248532.4531 - 11ms/epoch - 505us/step\n",
      "Epoch 35/250\n",
      "22/22 - 0s - loss: 247643.1094 - 11ms/epoch - 487us/step\n",
      "Epoch 36/250\n",
      "22/22 - 0s - loss: 246701.2969 - 10ms/epoch - 450us/step\n",
      "Epoch 37/250\n",
      "22/22 - 0s - loss: 245702.7031 - 10ms/epoch - 469us/step\n",
      "Epoch 38/250\n",
      "22/22 - 0s - loss: 244643.0625 - 10ms/epoch - 475us/step\n",
      "Epoch 39/250\n",
      "22/22 - 0s - loss: 243528.2969 - 10ms/epoch - 459us/step\n",
      "Epoch 40/250\n",
      "22/22 - 0s - loss: 242350.6562 - 11ms/epoch - 478us/step\n",
      "Epoch 41/250\n",
      "22/22 - 0s - loss: 241108.0000 - 11ms/epoch - 482us/step\n",
      "Epoch 42/250\n",
      "22/22 - 0s - loss: 239804.2969 - 10ms/epoch - 442us/step\n",
      "Epoch 43/250\n",
      "22/22 - 0s - loss: 238426.2344 - 11ms/epoch - 480us/step\n",
      "Epoch 44/250\n",
      "22/22 - 0s - loss: 236978.3281 - 10ms/epoch - 468us/step\n",
      "Epoch 45/250\n",
      "22/22 - 0s - loss: 235462.3750 - 10ms/epoch - 472us/step\n",
      "Epoch 46/250\n",
      "22/22 - 0s - loss: 233867.0625 - 11ms/epoch - 486us/step\n",
      "Epoch 47/250\n",
      "22/22 - 0s - loss: 232200.5312 - 10ms/epoch - 462us/step\n",
      "Epoch 48/250\n",
      "22/22 - 0s - loss: 230463.2500 - 10ms/epoch - 441us/step\n",
      "Epoch 49/250\n",
      "22/22 - 0s - loss: 228639.3438 - 11ms/epoch - 488us/step\n",
      "Epoch 50/250\n",
      "22/22 - 0s - loss: 226744.3438 - 10ms/epoch - 464us/step\n",
      "Epoch 51/250\n",
      "22/22 - 0s - loss: 224760.1094 - 10ms/epoch - 450us/step\n",
      "Epoch 52/250\n",
      "22/22 - 0s - loss: 222686.3594 - 11ms/epoch - 479us/step\n",
      "Epoch 53/250\n",
      "22/22 - 0s - loss: 220533.8438 - 11ms/epoch - 481us/step\n",
      "Epoch 54/250\n",
      "22/22 - 0s - loss: 218288.7344 - 10ms/epoch - 453us/step\n",
      "Epoch 55/250\n",
      "22/22 - 0s - loss: 215965.6406 - 13ms/epoch - 598us/step\n",
      "Epoch 56/250\n",
      "22/22 - 0s - loss: 213545.3438 - 11ms/epoch - 490us/step\n",
      "Epoch 57/250\n",
      "22/22 - 0s - loss: 211032.3438 - 10ms/epoch - 450us/step\n",
      "Epoch 58/250\n",
      "22/22 - 0s - loss: 208427.2656 - 11ms/epoch - 493us/step\n",
      "Epoch 59/250\n",
      "22/22 - 0s - loss: 205739.2500 - 10ms/epoch - 462us/step\n",
      "Epoch 60/250\n",
      "22/22 - 0s - loss: 202958.8281 - 10ms/epoch - 468us/step\n",
      "Epoch 61/250\n",
      "22/22 - 0s - loss: 200082.7188 - 10ms/epoch - 463us/step\n",
      "Epoch 62/250\n",
      "22/22 - 0s - loss: 197114.9219 - 10ms/epoch - 466us/step\n",
      "Epoch 63/250\n",
      "22/22 - 0s - loss: 194036.3906 - 10ms/epoch - 451us/step\n",
      "Epoch 64/250\n",
      "22/22 - 0s - loss: 190877.7188 - 11ms/epoch - 486us/step\n",
      "Epoch 65/250\n",
      "22/22 - 0s - loss: 187633.1250 - 10ms/epoch - 452us/step\n",
      "Epoch 66/250\n",
      "22/22 - 0s - loss: 184280.3281 - 10ms/epoch - 448us/step\n",
      "Epoch 67/250\n",
      "22/22 - 0s - loss: 180823.9062 - 11ms/epoch - 488us/step\n",
      "Epoch 68/250\n",
      "22/22 - 0s - loss: 177269.0000 - 10ms/epoch - 460us/step\n",
      "Epoch 69/250\n",
      "22/22 - 0s - loss: 173658.4219 - 10ms/epoch - 443us/step\n",
      "Epoch 70/250\n",
      "22/22 - 0s - loss: 169937.6719 - 11ms/epoch - 495us/step\n",
      "Epoch 71/250\n",
      "22/22 - 0s - loss: 166117.7812 - 10ms/epoch - 464us/step\n",
      "Epoch 72/250\n",
      "22/22 - 0s - loss: 162197.1406 - 10ms/epoch - 453us/step\n",
      "Epoch 73/250\n",
      "22/22 - 0s - loss: 158191.4375 - 10ms/epoch - 476us/step\n",
      "Epoch 74/250\n",
      "22/22 - 0s - loss: 154129.8906 - 10ms/epoch - 467us/step\n",
      "Epoch 75/250\n",
      "22/22 - 0s - loss: 149968.2344 - 10ms/epoch - 442us/step\n",
      "Epoch 76/250\n",
      "22/22 - 0s - loss: 145722.3125 - 11ms/epoch - 478us/step\n",
      "Epoch 77/250\n",
      "22/22 - 0s - loss: 141410.2188 - 10ms/epoch - 468us/step\n",
      "Epoch 78/250\n",
      "22/22 - 0s - loss: 137027.0000 - 10ms/epoch - 445us/step\n",
      "Epoch 79/250\n",
      "22/22 - 0s - loss: 132568.8281 - 10ms/epoch - 471us/step\n",
      "Epoch 80/250\n",
      "22/22 - 0s - loss: 128042.0547 - 10ms/epoch - 474us/step\n",
      "Epoch 81/250\n",
      "22/22 - 0s - loss: 123445.7969 - 10ms/epoch - 441us/step\n",
      "Epoch 82/250\n",
      "22/22 - 0s - loss: 118802.2969 - 11ms/epoch - 498us/step\n",
      "Epoch 83/250\n",
      "22/22 - 0s - loss: 114114.3516 - 11ms/epoch - 498us/step\n",
      "Epoch 84/250\n",
      "22/22 - 0s - loss: 109373.8438 - 10ms/epoch - 456us/step\n",
      "Epoch 85/250\n",
      "22/22 - 0s - loss: 104590.2969 - 12ms/epoch - 526us/step\n",
      "Epoch 86/250\n",
      "22/22 - 0s - loss: 99790.2891 - 11ms/epoch - 501us/step\n",
      "Epoch 87/250\n",
      "22/22 - 0s - loss: 94979.7422 - 11ms/epoch - 506us/step\n",
      "Epoch 88/250\n",
      "22/22 - 0s - loss: 90159.2422 - 12ms/epoch - 525us/step\n",
      "Epoch 89/250\n",
      "22/22 - 0s - loss: 85319.7266 - 15ms/epoch - 684us/step\n",
      "Epoch 90/250\n",
      "22/22 - 0s - loss: 80492.6406 - 11ms/epoch - 521us/step\n",
      "Epoch 91/250\n",
      "22/22 - 0s - loss: 75668.3984 - 11ms/epoch - 479us/step\n",
      "Epoch 92/250\n",
      "22/22 - 0s - loss: 70883.5859 - 10ms/epoch - 476us/step\n",
      "Epoch 93/250\n",
      "22/22 - 0s - loss: 66092.4766 - 12ms/epoch - 524us/step\n",
      "Epoch 94/250\n",
      "22/22 - 0s - loss: 61397.1367 - 11ms/epoch - 494us/step\n",
      "Epoch 95/250\n",
      "22/22 - 0s - loss: 56739.2578 - 10ms/epoch - 455us/step\n",
      "Epoch 96/250\n",
      "22/22 - 0s - loss: 52158.8516 - 11ms/epoch - 521us/step\n",
      "Epoch 97/250\n",
      "22/22 - 0s - loss: 47681.6484 - 11ms/epoch - 510us/step\n",
      "Epoch 98/250\n",
      "22/22 - 0s - loss: 43308.0703 - 11ms/epoch - 483us/step\n",
      "Epoch 99/250\n",
      "22/22 - 0s - loss: 39020.2734 - 11ms/epoch - 481us/step\n",
      "Epoch 100/250\n",
      "22/22 - 0s - loss: 34881.8438 - 11ms/epoch - 502us/step\n",
      "Epoch 101/250\n",
      "22/22 - 0s - loss: 30889.4121 - 11ms/epoch - 492us/step\n",
      "Epoch 102/250\n",
      "22/22 - 0s - loss: 27096.2969 - 10ms/epoch - 474us/step\n",
      "Epoch 103/250\n",
      "22/22 - 0s - loss: 23487.9121 - 11ms/epoch - 509us/step\n",
      "Epoch 104/250\n",
      "22/22 - 0s - loss: 20093.5215 - 11ms/epoch - 497us/step\n",
      "Epoch 105/250\n",
      "22/22 - 0s - loss: 16932.2344 - 10ms/epoch - 470us/step\n",
      "Epoch 106/250\n",
      "22/22 - 0s - loss: 14004.6084 - 10ms/epoch - 471us/step\n",
      "Epoch 107/250\n",
      "22/22 - 0s - loss: 11342.3926 - 10ms/epoch - 470us/step\n",
      "Epoch 108/250\n",
      "22/22 - 0s - loss: 8986.2539 - 10ms/epoch - 459us/step\n",
      "Epoch 109/250\n",
      "22/22 - 0s - loss: 6928.8115 - 10ms/epoch - 467us/step\n",
      "Epoch 110/250\n",
      "22/22 - 0s - loss: 5221.5483 - 10ms/epoch - 455us/step\n",
      "Epoch 111/250\n",
      "22/22 - 0s - loss: 3845.8889 - 10ms/epoch - 456us/step\n",
      "Epoch 112/250\n",
      "22/22 - 0s - loss: 2833.2842 - 10ms/epoch - 467us/step\n",
      "Epoch 113/250\n",
      "22/22 - 0s - loss: 2173.4834 - 10ms/epoch - 468us/step\n",
      "Epoch 114/250\n",
      "22/22 - 0s - loss: 1852.4330 - 10ms/epoch - 450us/step\n",
      "Epoch 115/250\n",
      "22/22 - 0s - loss: 1757.7518 - 11ms/epoch - 479us/step\n",
      "Epoch 116/250\n",
      "22/22 - 0s - loss: 1725.0625 - 10ms/epoch - 474us/step\n",
      "Epoch 117/250\n",
      "22/22 - 0s - loss: 1697.4116 - 10ms/epoch - 451us/step\n",
      "Epoch 118/250\n",
      "22/22 - 0s - loss: 1671.3217 - 10ms/epoch - 475us/step\n",
      "Epoch 119/250\n",
      "22/22 - 0s - loss: 1648.9048 - 13ms/epoch - 572us/step\n",
      "Epoch 120/250\n",
      "22/22 - 0s - loss: 1623.7091 - 10ms/epoch - 453us/step\n",
      "Epoch 121/250\n",
      "22/22 - 0s - loss: 1600.8132 - 11ms/epoch - 482us/step\n",
      "Epoch 122/250\n",
      "22/22 - 0s - loss: 1576.5602 - 10ms/epoch - 458us/step\n",
      "Epoch 123/250\n",
      "22/22 - 0s - loss: 1554.2485 - 10ms/epoch - 460us/step\n",
      "Epoch 124/250\n",
      "22/22 - 0s - loss: 1529.1442 - 10ms/epoch - 455us/step\n",
      "Epoch 125/250\n",
      "22/22 - 0s - loss: 1505.4900 - 10ms/epoch - 463us/step\n",
      "Epoch 126/250\n",
      "22/22 - 0s - loss: 1481.2722 - 10ms/epoch - 457us/step\n",
      "Epoch 127/250\n",
      "22/22 - 0s - loss: 1457.3101 - 11ms/epoch - 483us/step\n",
      "Epoch 128/250\n",
      "22/22 - 0s - loss: 1431.2166 - 10ms/epoch - 476us/step\n",
      "Epoch 129/250\n",
      "22/22 - 0s - loss: 1408.5536 - 10ms/epoch - 440us/step\n",
      "Epoch 130/250\n",
      "22/22 - 0s - loss: 1386.5635 - 11ms/epoch - 482us/step\n",
      "Epoch 131/250\n",
      "22/22 - 0s - loss: 1363.3561 - 11ms/epoch - 481us/step\n",
      "Epoch 132/250\n",
      "22/22 - 0s - loss: 1338.6320 - 10ms/epoch - 449us/step\n",
      "Epoch 133/250\n",
      "22/22 - 0s - loss: 1317.7252 - 10ms/epoch - 474us/step\n",
      "Epoch 134/250\n",
      "22/22 - 0s - loss: 1297.5533 - 11ms/epoch - 478us/step\n",
      "Epoch 135/250\n",
      "22/22 - 0s - loss: 1274.0437 - 10ms/epoch - 451us/step\n",
      "Epoch 136/250\n",
      "22/22 - 0s - loss: 1250.2296 - 11ms/epoch - 493us/step\n",
      "Epoch 137/250\n",
      "22/22 - 0s - loss: 1226.8439 - 10ms/epoch - 468us/step\n",
      "Epoch 138/250\n",
      "22/22 - 0s - loss: 1197.2189 - 10ms/epoch - 447us/step\n",
      "Epoch 139/250\n",
      "22/22 - 0s - loss: 1178.3132 - 10ms/epoch - 473us/step\n",
      "Epoch 140/250\n",
      "22/22 - 0s - loss: 1156.6891 - 10ms/epoch - 466us/step\n",
      "Epoch 141/250\n",
      "22/22 - 0s - loss: 1135.2229 - 10ms/epoch - 463us/step\n",
      "Epoch 142/250\n",
      "22/22 - 0s - loss: 1112.6573 - 11ms/epoch - 483us/step\n",
      "Epoch 143/250\n",
      "22/22 - 0s - loss: 1096.6516 - 11ms/epoch - 491us/step\n",
      "Epoch 144/250\n",
      "22/22 - 0s - loss: 1075.0414 - 10ms/epoch - 447us/step\n",
      "Epoch 145/250\n",
      "22/22 - 0s - loss: 1053.4331 - 10ms/epoch - 472us/step\n",
      "Epoch 146/250\n",
      "22/22 - 0s - loss: 1029.8956 - 10ms/epoch - 475us/step\n",
      "Epoch 147/250\n",
      "22/22 - 0s - loss: 1006.5856 - 10ms/epoch - 454us/step\n",
      "Epoch 148/250\n",
      "22/22 - 0s - loss: 992.8227 - 10ms/epoch - 472us/step\n",
      "Epoch 149/250\n",
      "22/22 - 0s - loss: 971.3482 - 11ms/epoch - 478us/step\n",
      "Epoch 150/250\n",
      "22/22 - 0s - loss: 953.3347 - 10ms/epoch - 445us/step\n",
      "Epoch 151/250\n",
      "22/22 - 0s - loss: 932.6074 - 11ms/epoch - 480us/step\n",
      "Epoch 152/250\n",
      "22/22 - 0s - loss: 915.5932 - 10ms/epoch - 469us/step\n",
      "Epoch 153/250\n",
      "22/22 - 0s - loss: 895.7119 - 10ms/epoch - 450us/step\n",
      "Epoch 154/250\n",
      "22/22 - 0s - loss: 876.9174 - 14ms/epoch - 631us/step\n",
      "Epoch 155/250\n",
      "22/22 - 0s - loss: 856.5237 - 11ms/epoch - 496us/step\n",
      "Epoch 156/250\n",
      "22/22 - 0s - loss: 834.7536 - 10ms/epoch - 469us/step\n",
      "Epoch 157/250\n",
      "22/22 - 0s - loss: 815.0659 - 10ms/epoch - 450us/step\n",
      "Epoch 158/250\n",
      "22/22 - 0s - loss: 796.9072 - 11ms/epoch - 483us/step\n",
      "Epoch 159/250\n",
      "22/22 - 0s - loss: 780.3937 - 10ms/epoch - 461us/step\n",
      "Epoch 160/250\n",
      "22/22 - 0s - loss: 762.7542 - 10ms/epoch - 456us/step\n",
      "Epoch 161/250\n",
      "22/22 - 0s - loss: 747.5019 - 10ms/epoch - 477us/step\n",
      "Epoch 162/250\n",
      "22/22 - 0s - loss: 728.7734 - 10ms/epoch - 460us/step\n",
      "Epoch 163/250\n",
      "22/22 - 0s - loss: 710.3958 - 10ms/epoch - 463us/step\n",
      "Epoch 164/250\n",
      "22/22 - 0s - loss: 690.5239 - 10ms/epoch - 474us/step\n",
      "Epoch 165/250\n",
      "22/22 - 0s - loss: 673.4171 - 10ms/epoch - 449us/step\n",
      "Epoch 166/250\n",
      "22/22 - 0s - loss: 654.4876 - 10ms/epoch - 461us/step\n",
      "Epoch 167/250\n",
      "22/22 - 0s - loss: 638.2455 - 11ms/epoch - 494us/step\n",
      "Epoch 168/250\n",
      "22/22 - 0s - loss: 618.2646 - 10ms/epoch - 463us/step\n",
      "Epoch 169/250\n",
      "22/22 - 0s - loss: 605.3569 - 11ms/epoch - 478us/step\n",
      "Epoch 170/250\n",
      "22/22 - 0s - loss: 587.6339 - 10ms/epoch - 472us/step\n",
      "Epoch 171/250\n",
      "22/22 - 0s - loss: 570.7200 - 10ms/epoch - 462us/step\n",
      "Epoch 172/250\n",
      "22/22 - 0s - loss: 554.6703 - 10ms/epoch - 472us/step\n",
      "Epoch 173/250\n",
      "22/22 - 0s - loss: 537.1650 - 10ms/epoch - 475us/step\n",
      "Epoch 174/250\n",
      "22/22 - 0s - loss: 520.3602 - 10ms/epoch - 461us/step\n",
      "Epoch 175/250\n",
      "22/22 - 0s - loss: 504.4413 - 10ms/epoch - 462us/step\n",
      "Epoch 176/250\n",
      "22/22 - 0s - loss: 490.0386 - 11ms/epoch - 485us/step\n",
      "Epoch 177/250\n",
      "22/22 - 0s - loss: 475.0955 - 10ms/epoch - 456us/step\n",
      "Epoch 178/250\n",
      "22/22 - 0s - loss: 460.2716 - 10ms/epoch - 467us/step\n",
      "Epoch 179/250\n",
      "22/22 - 0s - loss: 446.0894 - 10ms/epoch - 465us/step\n",
      "Epoch 180/250\n",
      "22/22 - 0s - loss: 430.4064 - 10ms/epoch - 455us/step\n",
      "Epoch 181/250\n",
      "22/22 - 0s - loss: 416.0986 - 10ms/epoch - 475us/step\n",
      "Epoch 182/250\n",
      "22/22 - 0s - loss: 404.0361 - 10ms/epoch - 467us/step\n",
      "Epoch 183/250\n",
      "22/22 - 0s - loss: 391.8961 - 10ms/epoch - 451us/step\n",
      "Epoch 184/250\n",
      "22/22 - 0s - loss: 379.9436 - 11ms/epoch - 478us/step\n",
      "Epoch 185/250\n",
      "22/22 - 0s - loss: 367.5121 - 10ms/epoch - 470us/step\n",
      "Epoch 186/250\n",
      "22/22 - 0s - loss: 356.0677 - 10ms/epoch - 454us/step\n",
      "Epoch 187/250\n",
      "22/22 - 0s - loss: 345.0602 - 11ms/epoch - 479us/step\n",
      "Epoch 188/250\n",
      "22/22 - 0s - loss: 333.1555 - 11ms/epoch - 481us/step\n",
      "Epoch 189/250\n",
      "22/22 - 0s - loss: 320.5131 - 13ms/epoch - 588us/step\n",
      "Epoch 190/250\n",
      "22/22 - 0s - loss: 308.6917 - 11ms/epoch - 490us/step\n",
      "Epoch 191/250\n",
      "22/22 - 0s - loss: 295.1957 - 10ms/epoch - 472us/step\n",
      "Epoch 192/250\n",
      "22/22 - 0s - loss: 283.9468 - 11ms/epoch - 482us/step\n",
      "Epoch 193/250\n",
      "22/22 - 0s - loss: 272.8161 - 10ms/epoch - 461us/step\n",
      "Epoch 194/250\n",
      "22/22 - 0s - loss: 263.2996 - 11ms/epoch - 488us/step\n",
      "Epoch 195/250\n",
      "22/22 - 0s - loss: 252.6714 - 10ms/epoch - 466us/step\n",
      "Epoch 196/250\n",
      "22/22 - 0s - loss: 243.4963 - 10ms/epoch - 452us/step\n",
      "Epoch 197/250\n",
      "22/22 - 0s - loss: 232.5109 - 11ms/epoch - 480us/step\n",
      "Epoch 198/250\n",
      "22/22 - 0s - loss: 222.0026 - 10ms/epoch - 463us/step\n",
      "Epoch 199/250\n",
      "22/22 - 0s - loss: 211.9654 - 10ms/epoch - 462us/step\n",
      "Epoch 200/250\n",
      "22/22 - 0s - loss: 202.8890 - 10ms/epoch - 473us/step\n",
      "Epoch 201/250\n",
      "22/22 - 0s - loss: 194.0464 - 11ms/epoch - 500us/step\n",
      "Epoch 202/250\n",
      "22/22 - 0s - loss: 184.3776 - 10ms/epoch - 449us/step\n",
      "Epoch 203/250\n",
      "22/22 - 0s - loss: 176.5734 - 10ms/epoch - 475us/step\n",
      "Epoch 204/250\n",
      "22/22 - 0s - loss: 168.4713 - 11ms/epoch - 484us/step\n",
      "Epoch 205/250\n",
      "22/22 - 0s - loss: 161.4687 - 10ms/epoch - 457us/step\n",
      "Epoch 206/250\n",
      "22/22 - 0s - loss: 153.7499 - 10ms/epoch - 474us/step\n",
      "Epoch 207/250\n",
      "22/22 - 0s - loss: 146.4495 - 10ms/epoch - 465us/step\n",
      "Epoch 208/250\n",
      "22/22 - 0s - loss: 138.3462 - 10ms/epoch - 457us/step\n",
      "Epoch 209/250\n",
      "22/22 - 0s - loss: 133.0040 - 10ms/epoch - 468us/step\n",
      "Epoch 210/250\n",
      "22/22 - 0s - loss: 126.3054 - 10ms/epoch - 470us/step\n",
      "Epoch 211/250\n",
      "22/22 - 0s - loss: 119.6853 - 10ms/epoch - 457us/step\n",
      "Epoch 212/250\n",
      "22/22 - 0s - loss: 112.7997 - 11ms/epoch - 497us/step\n",
      "Epoch 213/250\n",
      "22/22 - 0s - loss: 107.8112 - 10ms/epoch - 466us/step\n",
      "Epoch 214/250\n",
      "22/22 - 0s - loss: 101.0318 - 10ms/epoch - 460us/step\n",
      "Epoch 215/250\n",
      "22/22 - 0s - loss: 95.8887 - 10ms/epoch - 464us/step\n",
      "Epoch 216/250\n",
      "22/22 - 0s - loss: 90.3761 - 10ms/epoch - 475us/step\n",
      "Epoch 217/250\n",
      "22/22 - 0s - loss: 85.3344 - 10ms/epoch - 464us/step\n",
      "Epoch 218/250\n",
      "22/22 - 0s - loss: 80.8780 - 10ms/epoch - 471us/step\n",
      "Epoch 219/250\n",
      "22/22 - 0s - loss: 76.2882 - 10ms/epoch - 468us/step\n",
      "Epoch 220/250\n",
      "22/22 - 0s - loss: 72.6645 - 10ms/epoch - 455us/step\n",
      "Epoch 221/250\n",
      "22/22 - 0s - loss: 68.7680 - 11ms/epoch - 478us/step\n",
      "Epoch 222/250\n",
      "22/22 - 0s - loss: 65.0813 - 11ms/epoch - 478us/step\n",
      "Epoch 223/250\n",
      "22/22 - 0s - loss: 61.4571 - 12ms/epoch - 532us/step\n",
      "Epoch 224/250\n",
      "22/22 - 0s - loss: 57.8625 - 12ms/epoch - 524us/step\n",
      "Epoch 225/250\n",
      "22/22 - 0s - loss: 54.5061 - 10ms/epoch - 473us/step\n",
      "Epoch 226/250\n",
      "22/22 - 0s - loss: 51.5014 - 10ms/epoch - 452us/step\n",
      "Epoch 227/250\n",
      "22/22 - 0s - loss: 48.4108 - 11ms/epoch - 482us/step\n",
      "Epoch 228/250\n",
      "22/22 - 0s - loss: 45.7441 - 10ms/epoch - 474us/step\n",
      "Epoch 229/250\n",
      "22/22 - 0s - loss: 43.3999 - 10ms/epoch - 451us/step\n",
      "Epoch 230/250\n",
      "22/22 - 0s - loss: 41.1181 - 11ms/epoch - 489us/step\n",
      "Epoch 231/250\n",
      "22/22 - 0s - loss: 39.7479 - 10ms/epoch - 474us/step\n",
      "Epoch 232/250\n",
      "22/22 - 0s - loss: 37.7684 - 10ms/epoch - 468us/step\n",
      "Epoch 233/250\n",
      "22/22 - 0s - loss: 36.1328 - 16ms/epoch - 721us/step\n",
      "Epoch 234/250\n",
      "22/22 - 0s - loss: 35.0183 - 14ms/epoch - 628us/step\n",
      "Epoch 235/250\n",
      "22/22 - 0s - loss: 34.0389 - 11ms/epoch - 517us/step\n",
      "Epoch 236/250\n",
      "22/22 - 0s - loss: 32.7022 - 11ms/epoch - 492us/step\n",
      "Epoch 237/250\n",
      "22/22 - 0s - loss: 31.5628 - 10ms/epoch - 453us/step\n",
      "Epoch 238/250\n",
      "22/22 - 0s - loss: 30.5679 - 10ms/epoch - 465us/step\n",
      "Epoch 239/250\n",
      "22/22 - 0s - loss: 29.8118 - 11ms/epoch - 497us/step\n",
      "Epoch 240/250\n",
      "22/22 - 0s - loss: 29.0398 - 10ms/epoch - 458us/step\n",
      "Epoch 241/250\n",
      "22/22 - 0s - loss: 28.3490 - 11ms/epoch - 486us/step\n",
      "Epoch 242/250\n",
      "22/22 - 0s - loss: 27.6279 - 10ms/epoch - 470us/step\n",
      "Epoch 243/250\n",
      "22/22 - 0s - loss: 26.9942 - 10ms/epoch - 449us/step\n",
      "Epoch 244/250\n",
      "22/22 - 0s - loss: 26.6043 - 11ms/epoch - 483us/step\n",
      "Epoch 245/250\n",
      "22/22 - 0s - loss: 26.3242 - 48ms/epoch - 2ms/step\n",
      "Epoch 246/250\n",
      "22/22 - 0s - loss: 25.3247 - 13ms/epoch - 587us/step\n",
      "Epoch 247/250\n",
      "22/22 - 0s - loss: 25.9180 - 11ms/epoch - 521us/step\n",
      "Epoch 248/250\n",
      "22/22 - 0s - loss: 25.1447 - 11ms/epoch - 483us/step\n",
      "Epoch 249/250\n",
      "22/22 - 0s - loss: 25.3526 - 10ms/epoch - 473us/step\n",
      "Epoch 250/250\n",
      "22/22 - 0s - loss: 24.3854 - 11ms/epoch - 485us/step\n"
     ]
    },
    {
     "data": {
      "text/plain": [
       "<keras.callbacks.History at 0x7fb2cd25fe20>"
      ]
     },
     "execution_count": 12,
     "metadata": {},
     "output_type": "execute_result"
    }
   ],
   "source": [
    "model.fit(x = X_train, y = y_train, epochs=250, verbose = 2)"
   ]
  },
  {
   "cell_type": "code",
   "execution_count": 13,
   "metadata": {},
   "outputs": [
    {
     "data": {
      "text/plain": [
       "<AxesSubplot:>"
      ]
     },
     "execution_count": 13,
     "metadata": {},
     "output_type": "execute_result"
    },
    {
     "data": {
      "image/png": "[encoded data removed]",
      "text/plain": [
       "<Figure size 640x480 with 1 Axes>"
      ]
     },
     "metadata": {},
     "output_type": "display_data"
    }
   ],
   "source": [
    "loss_df = pd.DataFrame(model.history.history)\n",
    "loss_df.plot()"
   ]
  },
  {
   "cell_type": "code",
   "execution_count": 14,
   "metadata": {},
   "outputs": [
    {
     "data": {
      "text/plain": [
       "30.958541870117188"
      ]
     },
     "execution_count": 14,
     "metadata": {},
     "output_type": "execute_result"
    }
   ],
   "source": [
    "model.evaluate(X_test, y_test, verbose = 0)\n",
    "# Shows how good our model does on the test set."
   ]
  },
  {
   "cell_type": "code",
   "execution_count": 15,
   "metadata": {},
   "outputs": [
    {
     "name": "stdout",
     "output_type": "stream",
     "text": [
      "10/10 [==============================] - 0s 587us/step\n"
     ]
    }
   ],
   "source": [
    "test_pred = model.predict(X_test)"
   ]
  },
  {
   "cell_type": "code",
   "execution_count": 84,
   "metadata": {},
   "outputs": [],
   "source": [
    "# convert the numpy arr into a pd series:"
   ]
  },
  {
   "cell_type": "code",
   "execution_count": 16,
   "metadata": {},
   "outputs": [],
   "source": [
    "test_pred = pd.Series(test_pred.reshape(300,))"
   ]
  },
  {
   "cell_type": "code",
   "execution_count": 17,
   "metadata": {},
   "outputs": [
    {
     "data": {
      "text/plain": [
       "0      655.930847\n",
       "1      512.701599\n",
       "2      520.720337\n",
       "3      487.252136\n",
       "4      543.635010\n",
       "          ...    \n",
       "295    372.872314\n",
       "296    637.939636\n",
       "297    397.521179\n",
       "298    585.926392\n",
       "299    514.187317\n",
       "Length: 300, dtype: float32"
      ]
     },
     "execution_count": 17,
     "metadata": {},
     "output_type": "execute_result"
    }
   ],
   "source": [
    "test_pred"
   ]
  },
  {
   "cell_type": "code",
   "execution_count": 19,
   "metadata": {},
   "outputs": [
    {
     "data": {
      "text/html": [
       "<div>\n",
       "<style scoped>\n",
       "    .dataframe tbody tr th:only-of-type {\n",
       "        vertical-align: middle;\n",
       "    }\n",
       "\n",
       "    .dataframe tbody tr th {\n",
       "        vertical-align: top;\n",
       "    }\n",
       "\n",
       "    .dataframe thead th {\n",
       "        text-align: right;\n",
       "    }\n",
       "</style>\n",
       "<table border=\"1\" class=\"dataframe\">\n",
       "  <thead>\n",
       "    <tr style=\"text-align: right;\">\n",
       "      <th></th>\n",
       "      <th>True Test Y</th>\n",
       "    </tr>\n",
       "  </thead>\n",
       "  <tbody>\n",
       "    <tr>\n",
       "      <th>0</th>\n",
       "      <td>655.391403</td>\n",
       "    </tr>\n",
       "    <tr>\n",
       "      <th>1</th>\n",
       "      <td>511.366708</td>\n",
       "    </tr>\n",
       "    <tr>\n",
       "      <th>2</th>\n",
       "      <td>515.778446</td>\n",
       "    </tr>\n",
       "    <tr>\n",
       "      <th>3</th>\n",
       "      <td>478.358238</td>\n",
       "    </tr>\n",
       "    <tr>\n",
       "      <th>4</th>\n",
       "      <td>543.830279</td>\n",
       "    </tr>\n",
       "    <tr>\n",
       "      <th>...</th>\n",
       "      <td>...</td>\n",
       "    </tr>\n",
       "    <tr>\n",
       "      <th>295</th>\n",
       "      <td>372.777436</td>\n",
       "    </tr>\n",
       "    <tr>\n",
       "      <th>296</th>\n",
       "      <td>639.818362</td>\n",
       "    </tr>\n",
       "    <tr>\n",
       "      <th>297</th>\n",
       "      <td>403.062564</td>\n",
       "    </tr>\n",
       "    <tr>\n",
       "      <th>298</th>\n",
       "      <td>579.428431</td>\n",
       "    </tr>\n",
       "    <tr>\n",
       "      <th>299</th>\n",
       "      <td>510.878579</td>\n",
       "    </tr>\n",
       "  </tbody>\n",
       "</table>\n",
       "<p>300 rows × 1 columns</p>\n",
       "</div>"
      ],
      "text/plain": [
       "     True Test Y\n",
       "0     655.391403\n",
       "1     511.366708\n",
       "2     515.778446\n",
       "3     478.358238\n",
       "4     543.830279\n",
       "..           ...\n",
       "295   372.777436\n",
       "296   639.818362\n",
       "297   403.062564\n",
       "298   579.428431\n",
       "299   510.878579\n",
       "\n",
       "[300 rows x 1 columns]"
      ]
     },
     "execution_count": 19,
     "metadata": {},
     "output_type": "execute_result"
    }
   ],
   "source": [
    "pred_df = pd.DataFrame(y_test, columns=['True Test Y'])\n",
    "pred_df"
   ]
  },
  {
   "cell_type": "code",
   "execution_count": 20,
   "metadata": {},
   "outputs": [],
   "source": [
    "pred_df = pd.concat([pred_df, test_pred], axis=1 )"
   ]
  },
  {
   "cell_type": "code",
   "execution_count": 22,
   "metadata": {},
   "outputs": [],
   "source": [
    "pred_df.columns = ['Test True Y', 'Predicted Y']"
   ]
  },
  {
   "cell_type": "code",
   "execution_count": 23,
   "metadata": {},
   "outputs": [
    {
     "data": {
      "text/html": [
       "<div>\n",
       "<style scoped>\n",
       "    .dataframe tbody tr th:only-of-type {\n",
       "        vertical-align: middle;\n",
       "    }\n",
       "\n",
       "    .dataframe tbody tr th {\n",
       "        vertical-align: top;\n",
       "    }\n",
       "\n",
       "    .dataframe thead th {\n",
       "        text-align: right;\n",
       "    }\n",
       "</style>\n",
       "<table border=\"1\" class=\"dataframe\">\n",
       "  <thead>\n",
       "    <tr style=\"text-align: right;\">\n",
       "      <th></th>\n",
       "      <th>Test True Y</th>\n",
       "      <th>Predicted Y</th>\n",
       "    </tr>\n",
       "  </thead>\n",
       "  <tbody>\n",
       "    <tr>\n",
       "      <th>0</th>\n",
       "      <td>655.391403</td>\n",
       "      <td>655.930847</td>\n",
       "    </tr>\n",
       "    <tr>\n",
       "      <th>1</th>\n",
       "      <td>511.366708</td>\n",
       "      <td>512.701599</td>\n",
       "    </tr>\n",
       "    <tr>\n",
       "      <th>2</th>\n",
       "      <td>515.778446</td>\n",
       "      <td>520.720337</td>\n",
       "    </tr>\n",
       "    <tr>\n",
       "      <th>3</th>\n",
       "      <td>478.358238</td>\n",
       "      <td>487.252136</td>\n",
       "    </tr>\n",
       "    <tr>\n",
       "      <th>4</th>\n",
       "      <td>543.830279</td>\n",
       "      <td>543.635010</td>\n",
       "    </tr>\n",
       "    <tr>\n",
       "      <th>...</th>\n",
       "      <td>...</td>\n",
       "      <td>...</td>\n",
       "    </tr>\n",
       "    <tr>\n",
       "      <th>295</th>\n",
       "      <td>372.777436</td>\n",
       "      <td>372.872314</td>\n",
       "    </tr>\n",
       "    <tr>\n",
       "      <th>296</th>\n",
       "      <td>639.818362</td>\n",
       "      <td>637.939636</td>\n",
       "    </tr>\n",
       "    <tr>\n",
       "      <th>297</th>\n",
       "      <td>403.062564</td>\n",
       "      <td>397.521179</td>\n",
       "    </tr>\n",
       "    <tr>\n",
       "      <th>298</th>\n",
       "      <td>579.428431</td>\n",
       "      <td>585.926392</td>\n",
       "    </tr>\n",
       "    <tr>\n",
       "      <th>299</th>\n",
       "      <td>510.878579</td>\n",
       "      <td>514.187317</td>\n",
       "    </tr>\n",
       "  </tbody>\n",
       "</table>\n",
       "<p>300 rows × 2 columns</p>\n",
       "</div>"
      ],
      "text/plain": [
       "     Test True Y  Predicted Y\n",
       "0     655.391403   655.930847\n",
       "1     511.366708   512.701599\n",
       "2     515.778446   520.720337\n",
       "3     478.358238   487.252136\n",
       "4     543.830279   543.635010\n",
       "..           ...          ...\n",
       "295   372.777436   372.872314\n",
       "296   639.818362   637.939636\n",
       "297   403.062564   397.521179\n",
       "298   579.428431   585.926392\n",
       "299   510.878579   514.187317\n",
       "\n",
       "[300 rows x 2 columns]"
      ]
     },
     "execution_count": 23,
     "metadata": {},
     "output_type": "execute_result"
    }
   ],
   "source": [
    "pred_df"
   ]
  },
  {
   "cell_type": "code",
   "execution_count": 27,
   "metadata": {},
   "outputs": [
    {
     "data": {
      "text/plain": [
       "<AxesSubplot:xlabel='Test True Y', ylabel='Predicted Y'>"
      ]
     },
     "execution_count": 27,
     "metadata": {},
     "output_type": "execute_result"
    },
    {
     "data": {
      "image/png": "[encoded data removed]",
      "text/plain": [
       "<Figure size 640x480 with 1 Axes>"
      ]
     },
     "metadata": {},
     "output_type": "display_data"
    }
   ],
   "source": [
    "sns.scatterplot(x='Test True Y', y = 'Predicted Y', data = pred_df)\n",
    "# A straight line means a frikin goo model."
   ]
  },
  {
   "cell_type": "code",
   "execution_count": 29,
   "metadata": {},
   "outputs": [
    {
     "data": {
      "text/plain": [
       "4.370185611875076"
      ]
     },
     "execution_count": 29,
     "metadata": {},
     "output_type": "execute_result"
    }
   ],
   "source": [
    "from sklearn.metrics import mean_absolute_error\n",
    "\n",
    "\n",
    "mean_absolute_error(pred_df['Test True Y'], pred_df['Predicted Y'])\n",
    "# On average, I am about 4 dollars off from real price\n"
   ]
  },
  {
   "cell_type": "code",
   "execution_count": 30,
   "metadata": {},
   "outputs": [],
   "source": [
    "# Suppose, I found a new gem and I want to find it's price:"
   ]
  },
  {
   "cell_type": "code",
   "execution_count": 31,
   "metadata": {},
   "outputs": [],
   "source": [
    "new_gem = [[998,1000]]\n",
    "new_gem = Scaler.transform(new_gem)"
   ]
  },
  {
   "cell_type": "code",
   "execution_count": 33,
   "metadata": {},
   "outputs": [
    {
     "data": {
      "text/plain": [
       "array([[422.9064]], dtype=float32)"
      ]
     },
     "execution_count": 33,
     "metadata": {},
     "output_type": "execute_result"
    }
   ],
   "source": [
    "model.predict(new_gem, verbose = 0)\n",
    "#means <-- 422.9 dollars"
   ]
  },
  {
   "cell_type": "code",
   "execution_count": 34,
   "metadata": {},
   "outputs": [],
   "source": [
    "# to save the model\n",
    "from tensorflow.keras.models import load_model"
   ]
  },
  {
   "cell_type": "code",
   "execution_count": 36,
   "metadata": {},
   "outputs": [],
   "source": [
    "model.save('my_gem_model.h5')"
   ]
  },
  {
   "cell_type": "code",
   "execution_count": 37,
   "metadata": {},
   "outputs": [],
   "source": [
    "# We can load this model like\n",
    "hehe_model =load_model('my_gem_model.h5')"
   ]
  },
  {
   "cell_type": "code",
   "execution_count": 40,
   "metadata": {},
   "outputs": [
    {
     "name": "stdout",
     "output_type": "stream",
     "text": [
      "1/1 [==============================] - 0s 15ms/step\n"
     ]
    },
    {
     "data": {
      "text/plain": [
       "array([[422.9064]], dtype=float32)"
      ]
     },
     "execution_count": 40,
     "metadata": {},
     "output_type": "execute_result"
    }
   ],
   "source": [
    "hehe_model.predict(new_gem)\n",
    "# See, we can use our saved model like this.\n"
   ]
  },
  {
   "cell_type": "code",
   "execution_count": null,
   "metadata": {},
   "outputs": [],
   "source": []
  }
 ],
 "metadata": {
  "kernelspec": {
   "display_name": "Python 3.10.4 ('sklearn-env')",
   "language": "python",
   "name": "python3"
  },
  "language_info": {
   "codemirror_mode": {
    "name": "ipython",
    "version": 3
   },
   "file_extension": ".py",
   "mimetype": "text/x-python",
   "name": "python",
   "nbconvert_exporter": "python",
   "pygments_lexer": "ipython3",
   "version": "3.10.4"
  },
  "orig_nbformat": 4,
  "vscode": {
   "interpreter": {
    "hash": "3a302556f05c109d960d21ebcaf4438638fdcd88ae770a5e801d51c70bf26219"
   }
  }
 },
 "nbformat": 4,
 "nbformat_minor": 2
}
